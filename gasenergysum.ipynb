{
 "cells": [
  {
   "cell_type": "code",
   "execution_count": null,
   "id": "cd503674",
   "metadata": {},
   "outputs": [],
   "source": [
    "import numpy as np\n",
    "import seaborn as sns\n",
    "import requests\n",
    "import pandas as pd\n",
    "import seaborn as sns \n",
    "import matplotlib as plt \n",
    "import plotly.express as px"
   ]
  },
  {
   "cell_type": "code",
   "execution_count": null,
   "id": "e5f682b2",
   "metadata": {},
   "outputs": [],
   "source": []
  },
  {
   "cell_type": "markdown",
   "id": "b3c3de4b",
   "metadata": {},
   "source": [
    "API Requesting and Creating the Dataframe using JSON, from 01/2010 - 06/2025"
   ]
  },
  {
   "cell_type": "code",
   "execution_count": null,
   "id": "46b38bb2",
   "metadata": {},
   "outputs": [],
   "source": [
    "# api fetching from eia data\n",
    "\n",
    "#api_key = \"your_api_key\"\n",
    "#url = f\"https://api.eia.gov/v2/natural-gas/cons/sum/data/?api_key={api_key}&frequency=monthly&data[0]=value&start=2020-01&end=2025-06&sort[0][column]=period&sort[0][direction]=desc&offset=0&length=15000\"\n",
    "\n",
    "\n",
    "#response = requests.get(url)\n",
    "#data_2325 = response.json()\n",
    "\n",
    "#print(data_2325.keys())   # top-level keys these are the keys being spitted out from below!\n",
    "\n",
    "#records = data_2325[\"response\"][\"data\"]\n",
    "\n",
    "#df2425 = pd.DataFrame(records)\n",
    "    \n",
    "\n",
    "import requests\n",
    "import pandas as pd\n",
    "import time\n",
    "\n",
    "api_key = \"your_api_key\"  # Replace with your EIA API key\n",
    "base_url = \"https://api.eia.gov/v2/natural-gas/cons/sum/data/?frequency=monthly&data[0]=value&start=2010-01&end=2025-06&sort[0][column]=period&sort[0][direction]=asc&offset=0&length=5000\"\n",
    "\n",
    "all_data = []\n",
    "offset = 0\n",
    "length = 5000  # You can reduce this if the API limits responses\n",
    "\n",
    "while True:\n",
    "    # Prepare the request\n",
    "    params = {\n",
    "        \"frequency\": \"monthly\",\n",
    "        \"data[0]\": \"value\",\n",
    "        \"start\": \"2010-01\",\n",
    "        \"end\": \"2025-07\",\n",
    "        \"sort[0][column]\": \"period\",\n",
    "        \"sort[0][direction]\": \"asc\",\n",
    "        \"offset\": offset,\n",
    "        \"length\": length,\n",
    "        \"api_key\": api_key\n",
    "    }\n",
    "\n",
    "    response = requests.get(base_url, params=params)\n",
    "    response.raise_for_status()  # Stops if there is an HTTP error\n",
    "    data_json = response.json()\n",
    "\n",
    "    # Extract the data\n",
    "    data_batch = data_json.get(\"response\", {}).get(\"data\", [])\n",
    "    if not data_batch:\n",
    "        break  # No more data, exit loop\n",
    "\n",
    "    all_data.extend(data_batch)\n",
    "    offset += length\n",
    "\n",
    "    print(f\"Fetched {len(all_data)} rows so far...\")\n",
    "\n",
    "    # Optional: pause to avoid hitting API rate limits\n",
    "    time.sleep(0.3)\n",
    "\n",
    "# Convert all data into a DataFrame\n",
    "dfnew = pd.DataFrame(all_data)\n",
    "dfnew.tail(100)\n"
   ]
  },
  {
   "cell_type": "markdown",
   "id": "1366ba6f",
   "metadata": {},
   "source": []
  },
  {
   "cell_type": "code",
   "execution_count": null,
   "id": "c4a902e7",
   "metadata": {},
   "outputs": [],
   "source": [
    "dfnew.info()"
   ]
  },
  {
   "cell_type": "markdown",
   "id": "c7e0af09",
   "metadata": {},
   "source": [
    "\n",
    "\n",
    "Converting Data Types!"
   ]
  },
  {
   "cell_type": "code",
   "execution_count": null,
   "id": "fbd8ff8b",
   "metadata": {},
   "outputs": [],
   "source": [
    "# default code to convert datatypes\n",
    "\n",
    "dfnew['value'] = pd.to_numeric(df['value'], errors = 'coerce') # converting from object to numeric! \n",
    "\n",
    "df['period'] = pd.to_datetime(df['period'], errors = 'coerce') # converting from obeject to datetime!\n",
    "\n",
    "# now will check the data types of the variables \n",
    "print(df.dtypes)\n",
    "\n",
    "# also checking the missing values of the data set.\n",
    "print(df.isnull().sum())\n",
    "\n",
    "non_missing = df['value'].notna().sum()\n",
    "print(\"Number of non-missing values:\", non_missing)\n",
    "\n",
    "# Mean consumption per state\n",
    "mean_per_state = df.groupby('area-name')['value'].mean()\n",
    "print(mean_per_state\n",
    "\n",
    "\n",
    "\n"
   ]
  },
  {
   "cell_type": "code",
   "execution_count": null,
   "id": "f16604aa",
   "metadata": {},
   "outputs": [],
   "source": [
    "\n",
    "\n",
    "dfnew['value'] = pd.to_numeric(dfnew['value'], errors = 'coerce') # converting from object to numeric! \n",
    "\n",
    "dfnew['period'] = pd.to_datetime(dfnew['period'], errors = 'coerce') # converting from obeject to datetime!\n",
    "\n",
    "# now will check the data types of the variables \n",
    "print(dfnew.dtypes)\n",
    "\n",
    "# also checking the missing values of the data set.\n",
    "print(dfnew.isnull().sum())\n",
    "\n",
    "non_missing = dfnew['value'].notna().sum()\n",
    "print(\"Number of non-missing values:\", non_missing)\n",
    "\n",
    "# Mean consumption per state\n",
    "mean_per_state = dfnew.groupby('area-name')['value'].mean()\n",
    "print(mean_per_state)\n",
    "\n",
    "# views which rows are invald\n",
    "#dfnew[dfnew.isnull().any(axis=1)]\n"
   ]
  },
  {
   "cell_type": "markdown",
   "id": "873d66e1",
   "metadata": {},
   "source": [
    "Extracting Data to show month to month consumption from 01/2023 to 06/2025."
   ]
  },
  {
   "cell_type": "code",
   "execution_count": null,
   "id": "05ea6a32",
   "metadata": {},
   "outputs": [],
   "source": [
    "# default code to filter by year and by month and y\n",
    "df['year'] = df['period'].dt.year\n",
    "# extracting month\n",
    "df['month'] = df['period'].dt.month\n",
    "\n",
    "# Filter to the date range (2023-01 to 2025-06)\n",
    "#mask = (df['period'] >= \"2023-01-01\") & (df['period'] <= \"2025-06-30\")\n",
    "#df_filtered = df.loc[mask].sort_values(['area-name', 'period'])\n",
    "\n",
    "#print(df_filtered.head(20))\n",
    "\n",
    "\n",
    "monthly_state = (\n",
    "    df.groupby(['area-name', 'period', 'product', 'product-name', \n",
    "                'process', 'process-name', 'series', 'series-description', 'units'])['value']\n",
    "      .sum()\n",
    "      .reset_index()\n",
    "      .sort_values(['area-name', 'period'])\n",
    ")\n",
    "\n",
    "print(monthly_state.info())"
   ]
  },
  {
   "cell_type": "code",
   "execution_count": 15,
   "id": "b87080db",
   "metadata": {},
   "outputs": [
    {
     "name": "stdout",
     "output_type": "stream",
     "text": [
      "        period duoarea   area-name product product-name process  \\\n",
      "87  2010-01-01     SCA  CALIFORNIA    EPG0  Natural Gas     VCS   \n",
      "187 2010-01-01     SCA  CALIFORNIA    EPG0  Natural Gas     VEU   \n",
      "231 2010-01-01     SCA  CALIFORNIA    EPG0  Natural Gas     VDV   \n",
      "245 2010-01-01     SCA  CALIFORNIA    EPG0  Natural Gas     VRS   \n",
      "254 2010-01-01     SCA  CALIFORNIA    EPG0  Natural Gas     VGT   \n",
      "\n",
      "                   process-name        series  \\\n",
      "87       Commercial Consumption      N3020CA2   \n",
      "187  Electric Power Consumption      N3045CA2   \n",
      "231    Vehicle Fuel Consumption  NA1570_SCA_2   \n",
      "245     Residential Consumption      N3010CA2   \n",
      "254      Delivered to Consumers      N3060CA2   \n",
      "\n",
      "                                    series-description     value units  year  \\\n",
      "87   Natural Gas Deliveries to Commercial Consumers...   27422.0  MMCF  2010   \n",
      "187  California Natural Gas Deliveries to Electric ...   66583.0  MMCF  2010   \n",
      "231  California Natural Gas Vehicle Fuel Consumptio...    1153.0  MMCF  2010   \n",
      "245  California Natural Gas Residential Consumption...   70666.0  MMCF  2010   \n",
      "254  Natural Gas Delivered to Consumers in Californ...  224248.0  MMCF  2010   \n",
      "\n",
      "     month  \n",
      "87       1  \n",
      "187      1  \n",
      "231      1  \n",
      "245      1  \n",
      "254      1  \n",
      "<class 'pandas.core.frame.DataFrame'>\n",
      "Index: 58404 entries, 87 to 58395\n",
      "Data columns (total 13 columns):\n",
      " #   Column              Non-Null Count  Dtype         \n",
      "---  ------              --------------  -----         \n",
      " 0   period              58404 non-null  datetime64[ns]\n",
      " 1   duoarea             58404 non-null  object        \n",
      " 2   area-name           58404 non-null  object        \n",
      " 3   product             58404 non-null  object        \n",
      " 4   product-name        58404 non-null  object        \n",
      " 5   process             58404 non-null  object        \n",
      " 6   process-name        58404 non-null  object        \n",
      " 7   series              58404 non-null  object        \n",
      " 8   series-description  58404 non-null  object        \n",
      " 9   value               57820 non-null  float64       \n",
      " 10  units               58404 non-null  object        \n",
      " 11  year                58404 non-null  int32         \n",
      " 12  month               58404 non-null  int32         \n",
      "dtypes: datetime64[ns](1), float64(1), int32(2), object(9)\n",
      "memory usage: 5.8+ MB\n"
     ]
    },
    {
     "data": {
      "text/plain": [
       "period                  0\n",
       "duoarea                 0\n",
       "area-name               0\n",
       "product                 0\n",
       "product-name            0\n",
       "process                 0\n",
       "process-name            0\n",
       "series                  0\n",
       "series-description      0\n",
       "value                 584\n",
       "units                   0\n",
       "year                    0\n",
       "month                   0\n",
       "dtype: int64"
      ]
     },
     "metadata": {},
     "output_type": "display_data"
    },
    {
     "data": {
      "text/plain": [
       "'total missing values'"
      ]
     },
     "metadata": {},
     "output_type": "display_data"
    },
    {
     "data": {
      "text/plain": [
       "{584}"
      ]
     },
     "metadata": {},
     "output_type": "display_data"
    },
    {
     "name": "stdout",
     "output_type": "stream",
     "text": [
      "datetime64[ns]\n",
      "int64\n",
      "        period  missing_count\n",
      "84  2017-02-01              3\n",
      "85  2017-03-01              3\n",
      "86  2017-04-01              3\n",
      "87  2017-05-01              3\n",
      "88  2017-06-01              3\n",
      "..         ...            ...\n",
      "179 2025-02-01             12\n",
      "180 2025-03-01             18\n",
      "181 2025-04-01             19\n",
      "182 2025-05-01             21\n",
      "183 2025-06-01             20\n",
      "\n",
      "[100 rows x 2 columns]\n",
      "<class 'pandas.core.frame.DataFrame'>\n",
      "RangeIndex: 184 entries, 0 to 183\n",
      "Data columns (total 2 columns):\n",
      " #   Column         Non-Null Count  Dtype         \n",
      "---  ------         --------------  -----         \n",
      " 0   period         184 non-null    datetime64[ns]\n",
      " 1   missing_count  184 non-null    int64         \n",
      "dtypes: datetime64[ns](1), int64(1)\n",
      "memory usage: 3.0 KB\n",
      "None\n"
     ]
    },
    {
     "data": {
      "application/vnd.plotly.v1+json": {
       "config": {
        "plotlyServerURL": "https://plot.ly"
       },
       "data": [
        {
         "coloraxis": "coloraxis",
         "hovertemplate": "Year: %{x}<br>State: %{y}<br>Missing Count: %{z}<extra></extra>",
         "name": "0",
         "texttemplate": "%{z}",
         "type": "heatmap",
         "x": [
          "2010-01-01T00:00:00.000000000",
          "2011-01-01T00:00:00.000000000",
          "2012-01-01T00:00:00.000000000",
          "2013-01-01T00:00:00.000000000",
          "2014-01-01T00:00:00.000000000",
          "2015-01-01T00:00:00.000000000",
          "2016-01-01T00:00:00.000000000",
          "2017-01-01T00:00:00.000000000",
          "2018-01-01T00:00:00.000000000",
          "2019-01-01T00:00:00.000000000",
          "2020-01-01T00:00:00.000000000",
          "2021-01-01T00:00:00.000000000",
          "2022-01-01T00:00:00.000000000",
          "2023-01-01T00:00:00.000000000",
          "2024-01-01T00:00:00.000000000",
          "2025-01-01T00:00:00.000000000"
         ],
         "xaxis": "x",
         "y": [
          "CALIFORNIA",
          "FLORIDA",
          "MASSACHUSETTS",
          "MINNESOTA",
          "OHIO",
          "USA-AK",
          "USA-CT",
          "USA-DC",
          "USA-DE",
          "USA-HI",
          "USA-IL",
          "USA-IN",
          "USA-KS",
          "USA-MD",
          "USA-ME",
          "USA-MO",
          "USA-MS",
          "USA-MT",
          "USA-NC",
          "USA-ND",
          "USA-NE",
          "USA-NH",
          "USA-NJ",
          "USA-NM",
          "USA-NV",
          "USA-RI",
          "USA-SD",
          "USA-TN",
          "USA-VA",
          "USA-VT",
          "USA-WV",
          "WASHINGTON"
         ],
         "yaxis": "y",
         "z": {
          "bdata": "AAAAAAAAAAAAAAAAAAACAAAAAAAAAAAAAAAAAAAABQoAAAAAAAAAAAAAAAAAAAACAAAAAAAAAAAAAAAAAAAEAAAAAAAAAAAAAAAAAAAAAgAAAAAAAAAAAAAAAAAAAAEAAAAAAAAAAAAAAAAAAAACAAwADQsMDAAYGBYZGAwMDAYAAAAAAAAAAAAAAAAAAAIBDAwMDAwLCw0MCwsLAAsMBgAAAAAAAAAAAAAAAAAAAgAAAAAAAAAAAAAAAAAAAAIAAAAAAAAAAAAAAAAAAAAAAQAAAAAAAAAAAAAAAAAAAAUAAAAAAAAAAAAAAAAAAAASAAAAAAAAAAAAAAAAAAAAAwAAAAAAAAAAAAAAAAAAAAYAAAAAAAAAAAAAAAAAAQEAAAAAAAAAAAAAAAAAAAABBgAEBQgAAAAAAAAAAAAAAAAAAAAAAAAAAAAAAAAAAQEAAAAAAAAAAAAAAAAAAAAABgAAAAAAAAAAAAAAAAAAAgsAAAAAAAAAAAAAAAAAAAIEAAAAAAAAAAAAAAAAAAAADgAAAAAAAAAAAAAAAAAABgIAAAAAAAAAAAAAAAAAAAEAAAAAAAAAAAAAAAAAAAAIBAAAAAAAAAAAAAAAAAAAAgAAAAAAAAACAAEDAAMABwQDAAAAAAAAAAAAAAAAAAAAAQAAAAAAAAAAAAAAAAAABAg=",
          "dtype": "i1",
          "shape": "32, 16"
         }
        }
       ],
       "layout": {
        "autosize": false,
        "coloraxis": {
         "colorbar": {
          "title": {
           "text": "Missing Count"
          }
         },
         "colorscale": [
          [
           0,
           "rgb(255,245,240)"
          ],
          [
           0.125,
           "rgb(254,224,210)"
          ],
          [
           0.25,
           "rgb(252,187,161)"
          ],
          [
           0.375,
           "rgb(252,146,114)"
          ],
          [
           0.5,
           "rgb(251,106,74)"
          ],
          [
           0.625,
           "rgb(239,59,44)"
          ],
          [
           0.75,
           "rgb(203,24,29)"
          ],
          [
           0.875,
           "rgb(165,15,21)"
          ],
          [
           1,
           "rgb(103,0,13)"
          ]
         ]
        },
        "height": 1200,
        "margin": {
         "t": 60
        },
        "template": {
         "data": {
          "bar": [
           {
            "error_x": {
             "color": "#2a3f5f"
            },
            "error_y": {
             "color": "#2a3f5f"
            },
            "marker": {
             "line": {
              "color": "#E5ECF6",
              "width": 0.5
             },
             "pattern": {
              "fillmode": "overlay",
              "size": 10,
              "solidity": 0.2
             }
            },
            "type": "bar"
           }
          ],
          "barpolar": [
           {
            "marker": {
             "line": {
              "color": "#E5ECF6",
              "width": 0.5
             },
             "pattern": {
              "fillmode": "overlay",
              "size": 10,
              "solidity": 0.2
             }
            },
            "type": "barpolar"
           }
          ],
          "carpet": [
           {
            "aaxis": {
             "endlinecolor": "#2a3f5f",
             "gridcolor": "white",
             "linecolor": "white",
             "minorgridcolor": "white",
             "startlinecolor": "#2a3f5f"
            },
            "baxis": {
             "endlinecolor": "#2a3f5f",
             "gridcolor": "white",
             "linecolor": "white",
             "minorgridcolor": "white",
             "startlinecolor": "#2a3f5f"
            },
            "type": "carpet"
           }
          ],
          "choropleth": [
           {
            "colorbar": {
             "outlinewidth": 0,
             "ticks": ""
            },
            "type": "choropleth"
           }
          ],
          "contour": [
           {
            "colorbar": {
             "outlinewidth": 0,
             "ticks": ""
            },
            "colorscale": [
             [
              0,
              "#0d0887"
             ],
             [
              0.1111111111111111,
              "#46039f"
             ],
             [
              0.2222222222222222,
              "#7201a8"
             ],
             [
              0.3333333333333333,
              "#9c179e"
             ],
             [
              0.4444444444444444,
              "#bd3786"
             ],
             [
              0.5555555555555556,
              "#d8576b"
             ],
             [
              0.6666666666666666,
              "#ed7953"
             ],
             [
              0.7777777777777778,
              "#fb9f3a"
             ],
             [
              0.8888888888888888,
              "#fdca26"
             ],
             [
              1,
              "#f0f921"
             ]
            ],
            "type": "contour"
           }
          ],
          "contourcarpet": [
           {
            "colorbar": {
             "outlinewidth": 0,
             "ticks": ""
            },
            "type": "contourcarpet"
           }
          ],
          "heatmap": [
           {
            "colorbar": {
             "outlinewidth": 0,
             "ticks": ""
            },
            "colorscale": [
             [
              0,
              "#0d0887"
             ],
             [
              0.1111111111111111,
              "#46039f"
             ],
             [
              0.2222222222222222,
              "#7201a8"
             ],
             [
              0.3333333333333333,
              "#9c179e"
             ],
             [
              0.4444444444444444,
              "#bd3786"
             ],
             [
              0.5555555555555556,
              "#d8576b"
             ],
             [
              0.6666666666666666,
              "#ed7953"
             ],
             [
              0.7777777777777778,
              "#fb9f3a"
             ],
             [
              0.8888888888888888,
              "#fdca26"
             ],
             [
              1,
              "#f0f921"
             ]
            ],
            "type": "heatmap"
           }
          ],
          "histogram": [
           {
            "marker": {
             "pattern": {
              "fillmode": "overlay",
              "size": 10,
              "solidity": 0.2
             }
            },
            "type": "histogram"
           }
          ],
          "histogram2d": [
           {
            "colorbar": {
             "outlinewidth": 0,
             "ticks": ""
            },
            "colorscale": [
             [
              0,
              "#0d0887"
             ],
             [
              0.1111111111111111,
              "#46039f"
             ],
             [
              0.2222222222222222,
              "#7201a8"
             ],
             [
              0.3333333333333333,
              "#9c179e"
             ],
             [
              0.4444444444444444,
              "#bd3786"
             ],
             [
              0.5555555555555556,
              "#d8576b"
             ],
             [
              0.6666666666666666,
              "#ed7953"
             ],
             [
              0.7777777777777778,
              "#fb9f3a"
             ],
             [
              0.8888888888888888,
              "#fdca26"
             ],
             [
              1,
              "#f0f921"
             ]
            ],
            "type": "histogram2d"
           }
          ],
          "histogram2dcontour": [
           {
            "colorbar": {
             "outlinewidth": 0,
             "ticks": ""
            },
            "colorscale": [
             [
              0,
              "#0d0887"
             ],
             [
              0.1111111111111111,
              "#46039f"
             ],
             [
              0.2222222222222222,
              "#7201a8"
             ],
             [
              0.3333333333333333,
              "#9c179e"
             ],
             [
              0.4444444444444444,
              "#bd3786"
             ],
             [
              0.5555555555555556,
              "#d8576b"
             ],
             [
              0.6666666666666666,
              "#ed7953"
             ],
             [
              0.7777777777777778,
              "#fb9f3a"
             ],
             [
              0.8888888888888888,
              "#fdca26"
             ],
             [
              1,
              "#f0f921"
             ]
            ],
            "type": "histogram2dcontour"
           }
          ],
          "mesh3d": [
           {
            "colorbar": {
             "outlinewidth": 0,
             "ticks": ""
            },
            "type": "mesh3d"
           }
          ],
          "parcoords": [
           {
            "line": {
             "colorbar": {
              "outlinewidth": 0,
              "ticks": ""
             }
            },
            "type": "parcoords"
           }
          ],
          "pie": [
           {
            "automargin": true,
            "type": "pie"
           }
          ],
          "scatter": [
           {
            "fillpattern": {
             "fillmode": "overlay",
             "size": 10,
             "solidity": 0.2
            },
            "type": "scatter"
           }
          ],
          "scatter3d": [
           {
            "line": {
             "colorbar": {
              "outlinewidth": 0,
              "ticks": ""
             }
            },
            "marker": {
             "colorbar": {
              "outlinewidth": 0,
              "ticks": ""
             }
            },
            "type": "scatter3d"
           }
          ],
          "scattercarpet": [
           {
            "marker": {
             "colorbar": {
              "outlinewidth": 0,
              "ticks": ""
             }
            },
            "type": "scattercarpet"
           }
          ],
          "scattergeo": [
           {
            "marker": {
             "colorbar": {
              "outlinewidth": 0,
              "ticks": ""
             }
            },
            "type": "scattergeo"
           }
          ],
          "scattergl": [
           {
            "marker": {
             "colorbar": {
              "outlinewidth": 0,
              "ticks": ""
             }
            },
            "type": "scattergl"
           }
          ],
          "scattermap": [
           {
            "marker": {
             "colorbar": {
              "outlinewidth": 0,
              "ticks": ""
             }
            },
            "type": "scattermap"
           }
          ],
          "scattermapbox": [
           {
            "marker": {
             "colorbar": {
              "outlinewidth": 0,
              "ticks": ""
             }
            },
            "type": "scattermapbox"
           }
          ],
          "scatterpolar": [
           {
            "marker": {
             "colorbar": {
              "outlinewidth": 0,
              "ticks": ""
             }
            },
            "type": "scatterpolar"
           }
          ],
          "scatterpolargl": [
           {
            "marker": {
             "colorbar": {
              "outlinewidth": 0,
              "ticks": ""
             }
            },
            "type": "scatterpolargl"
           }
          ],
          "scatterternary": [
           {
            "marker": {
             "colorbar": {
              "outlinewidth": 0,
              "ticks": ""
             }
            },
            "type": "scatterternary"
           }
          ],
          "surface": [
           {
            "colorbar": {
             "outlinewidth": 0,
             "ticks": ""
            },
            "colorscale": [
             [
              0,
              "#0d0887"
             ],
             [
              0.1111111111111111,
              "#46039f"
             ],
             [
              0.2222222222222222,
              "#7201a8"
             ],
             [
              0.3333333333333333,
              "#9c179e"
             ],
             [
              0.4444444444444444,
              "#bd3786"
             ],
             [
              0.5555555555555556,
              "#d8576b"
             ],
             [
              0.6666666666666666,
              "#ed7953"
             ],
             [
              0.7777777777777778,
              "#fb9f3a"
             ],
             [
              0.8888888888888888,
              "#fdca26"
             ],
             [
              1,
              "#f0f921"
             ]
            ],
            "type": "surface"
           }
          ],
          "table": [
           {
            "cells": {
             "fill": {
              "color": "#EBF0F8"
             },
             "line": {
              "color": "white"
             }
            },
            "header": {
             "fill": {
              "color": "#C8D4E3"
             },
             "line": {
              "color": "white"
             }
            },
            "type": "table"
           }
          ]
         },
         "layout": {
          "annotationdefaults": {
           "arrowcolor": "#2a3f5f",
           "arrowhead": 0,
           "arrowwidth": 1
          },
          "autotypenumbers": "strict",
          "coloraxis": {
           "colorbar": {
            "outlinewidth": 0,
            "ticks": ""
           }
          },
          "colorscale": {
           "diverging": [
            [
             0,
             "#8e0152"
            ],
            [
             0.1,
             "#c51b7d"
            ],
            [
             0.2,
             "#de77ae"
            ],
            [
             0.3,
             "#f1b6da"
            ],
            [
             0.4,
             "#fde0ef"
            ],
            [
             0.5,
             "#f7f7f7"
            ],
            [
             0.6,
             "#e6f5d0"
            ],
            [
             0.7,
             "#b8e186"
            ],
            [
             0.8,
             "#7fbc41"
            ],
            [
             0.9,
             "#4d9221"
            ],
            [
             1,
             "#276419"
            ]
           ],
           "sequential": [
            [
             0,
             "#0d0887"
            ],
            [
             0.1111111111111111,
             "#46039f"
            ],
            [
             0.2222222222222222,
             "#7201a8"
            ],
            [
             0.3333333333333333,
             "#9c179e"
            ],
            [
             0.4444444444444444,
             "#bd3786"
            ],
            [
             0.5555555555555556,
             "#d8576b"
            ],
            [
             0.6666666666666666,
             "#ed7953"
            ],
            [
             0.7777777777777778,
             "#fb9f3a"
            ],
            [
             0.8888888888888888,
             "#fdca26"
            ],
            [
             1,
             "#f0f921"
            ]
           ],
           "sequentialminus": [
            [
             0,
             "#0d0887"
            ],
            [
             0.1111111111111111,
             "#46039f"
            ],
            [
             0.2222222222222222,
             "#7201a8"
            ],
            [
             0.3333333333333333,
             "#9c179e"
            ],
            [
             0.4444444444444444,
             "#bd3786"
            ],
            [
             0.5555555555555556,
             "#d8576b"
            ],
            [
             0.6666666666666666,
             "#ed7953"
            ],
            [
             0.7777777777777778,
             "#fb9f3a"
            ],
            [
             0.8888888888888888,
             "#fdca26"
            ],
            [
             1,
             "#f0f921"
            ]
           ]
          },
          "colorway": [
           "#636efa",
           "#EF553B",
           "#00cc96",
           "#ab63fa",
           "#FFA15A",
           "#19d3f3",
           "#FF6692",
           "#B6E880",
           "#FF97FF",
           "#FECB52"
          ],
          "font": {
           "color": "#2a3f5f"
          },
          "geo": {
           "bgcolor": "white",
           "lakecolor": "white",
           "landcolor": "#E5ECF6",
           "showlakes": true,
           "showland": true,
           "subunitcolor": "white"
          },
          "hoverlabel": {
           "align": "left"
          },
          "hovermode": "closest",
          "mapbox": {
           "style": "light"
          },
          "paper_bgcolor": "white",
          "plot_bgcolor": "#E5ECF6",
          "polar": {
           "angularaxis": {
            "gridcolor": "white",
            "linecolor": "white",
            "ticks": ""
           },
           "bgcolor": "#E5ECF6",
           "radialaxis": {
            "gridcolor": "white",
            "linecolor": "white",
            "ticks": ""
           }
          },
          "scene": {
           "xaxis": {
            "backgroundcolor": "#E5ECF6",
            "gridcolor": "white",
            "gridwidth": 2,
            "linecolor": "white",
            "showbackground": true,
            "ticks": "",
            "zerolinecolor": "white"
           },
           "yaxis": {
            "backgroundcolor": "#E5ECF6",
            "gridcolor": "white",
            "gridwidth": 2,
            "linecolor": "white",
            "showbackground": true,
            "ticks": "",
            "zerolinecolor": "white"
           },
           "zaxis": {
            "backgroundcolor": "#E5ECF6",
            "gridcolor": "white",
            "gridwidth": 2,
            "linecolor": "white",
            "showbackground": true,
            "ticks": "",
            "zerolinecolor": "white"
           }
          },
          "shapedefaults": {
           "line": {
            "color": "#2a3f5f"
           }
          },
          "ternary": {
           "aaxis": {
            "gridcolor": "white",
            "linecolor": "white",
            "ticks": ""
           },
           "baxis": {
            "gridcolor": "white",
            "linecolor": "white",
            "ticks": ""
           },
           "bgcolor": "#E5ECF6",
           "caxis": {
            "gridcolor": "white",
            "linecolor": "white",
            "ticks": ""
           }
          },
          "title": {
           "x": 0.05
          },
          "xaxis": {
           "automargin": true,
           "gridcolor": "white",
           "linecolor": "white",
           "ticks": "",
           "title": {
            "standoff": 15
           },
           "zerolinecolor": "white",
           "zerolinewidth": 2
          },
          "yaxis": {
           "automargin": true,
           "gridcolor": "white",
           "linecolor": "white",
           "ticks": "",
           "title": {
            "standoff": 15
           },
           "zerolinecolor": "white",
           "zerolinewidth": 2
          }
         }
        },
        "title": {
         "text": "Missing Natural Gas Values by State and Year"
        },
        "width": 1400,
        "xaxis": {
         "anchor": "y",
         "constrain": "domain",
         "domain": [
          0,
          1
         ],
         "scaleanchor": "y",
         "side": "top",
         "title": {
          "text": "Year"
         }
        },
        "yaxis": {
         "anchor": "x",
         "autorange": "reversed",
         "constrain": "domain",
         "domain": [
          0,
          1
         ],
         "tickmode": "linear",
         "title": {
          "text": "State"
         }
        }
       }
      }
     },
     "metadata": {},
     "output_type": "display_data"
    },
    {
     "data": {
      "application/vnd.plotly.v1+json": {
       "config": {
        "plotlyServerURL": "https://plot.ly"
       },
       "data": [
        {
         "hovertemplate": "State=USA-DC<br>Year=%{x}<br>Missing Count=%{y}<extra></extra>",
         "legendgroup": "USA-DC",
         "line": {
          "color": "#636efa",
          "dash": "solid"
         },
         "marker": {
          "symbol": "circle"
         },
         "mode": "lines+markers",
         "name": "USA-DC",
         "orientation": "v",
         "showlegend": true,
         "type": "scatter",
         "x": [
          "2010-01-01T00:00:00",
          "2011-01-01T00:00:00",
          "2012-01-01T00:00:00",
          "2013-01-01T00:00:00",
          "2014-01-01T00:00:00",
          "2015-01-01T00:00:00",
          "2016-01-01T00:00:00",
          "2017-01-01T00:00:00",
          "2018-01-01T00:00:00",
          "2019-01-01T00:00:00",
          "2020-01-01T00:00:00",
          "2021-01-01T00:00:00",
          "2022-01-01T00:00:00",
          "2023-01-01T00:00:00",
          "2024-01-01T00:00:00",
          "2025-01-01T00:00:00"
         ],
         "xaxis": "x",
         "y": {
          "bdata": "DAANCwwMABgYFhkYDAwMBg==",
          "dtype": "i1"
         },
         "yaxis": "y"
        },
        {
         "hovertemplate": "State=USA-HI<br>Year=%{x}<br>Missing Count=%{y}<extra></extra>",
         "legendgroup": "USA-HI",
         "line": {
          "color": "#EF553B",
          "dash": "solid"
         },
         "marker": {
          "symbol": "circle"
         },
         "mode": "lines+markers",
         "name": "USA-HI",
         "orientation": "v",
         "showlegend": true,
         "type": "scatter",
         "x": [
          "2010-01-01T00:00:00",
          "2011-01-01T00:00:00",
          "2012-01-01T00:00:00",
          "2013-01-01T00:00:00",
          "2014-01-01T00:00:00",
          "2015-01-01T00:00:00",
          "2016-01-01T00:00:00",
          "2017-01-01T00:00:00",
          "2018-01-01T00:00:00",
          "2019-01-01T00:00:00",
          "2020-01-01T00:00:00",
          "2021-01-01T00:00:00",
          "2022-01-01T00:00:00",
          "2023-01-01T00:00:00",
          "2024-01-01T00:00:00",
          "2025-01-01T00:00:00"
         ],
         "xaxis": "x",
         "y": {
          "bdata": "DAwMDAwLCw0MCwsLAAsMBg==",
          "dtype": "i1"
         },
         "yaxis": "y"
        },
        {
         "hovertemplate": "State=USA-VT<br>Year=%{x}<br>Missing Count=%{y}<extra></extra>",
         "legendgroup": "USA-VT",
         "line": {
          "color": "#00cc96",
          "dash": "solid"
         },
         "marker": {
          "symbol": "circle"
         },
         "mode": "lines+markers",
         "name": "USA-VT",
         "orientation": "v",
         "showlegend": true,
         "type": "scatter",
         "x": [
          "2010-01-01T00:00:00",
          "2011-01-01T00:00:00",
          "2012-01-01T00:00:00",
          "2013-01-01T00:00:00",
          "2014-01-01T00:00:00",
          "2015-01-01T00:00:00",
          "2016-01-01T00:00:00",
          "2017-01-01T00:00:00",
          "2018-01-01T00:00:00",
          "2019-01-01T00:00:00",
          "2020-01-01T00:00:00",
          "2021-01-01T00:00:00",
          "2022-01-01T00:00:00",
          "2023-01-01T00:00:00",
          "2024-01-01T00:00:00",
          "2025-01-01T00:00:00"
         ],
         "xaxis": "x",
         "y": {
          "bdata": "AAAAAAAAAgABAwADAAcEAw==",
          "dtype": "i1"
         },
         "yaxis": "y"
        },
        {
         "hovertemplate": "State=USA-ME<br>Year=%{x}<br>Missing Count=%{y}<extra></extra>",
         "legendgroup": "USA-ME",
         "line": {
          "color": "#ab63fa",
          "dash": "solid"
         },
         "marker": {
          "symbol": "circle"
         },
         "mode": "lines+markers",
         "name": "USA-ME",
         "orientation": "v",
         "showlegend": true,
         "type": "scatter",
         "x": [
          "2010-01-01T00:00:00",
          "2011-01-01T00:00:00",
          "2012-01-01T00:00:00",
          "2013-01-01T00:00:00",
          "2014-01-01T00:00:00",
          "2015-01-01T00:00:00",
          "2016-01-01T00:00:00",
          "2017-01-01T00:00:00",
          "2018-01-01T00:00:00",
          "2019-01-01T00:00:00",
          "2020-01-01T00:00:00",
          "2021-01-01T00:00:00",
          "2022-01-01T00:00:00",
          "2023-01-01T00:00:00",
          "2024-01-01T00:00:00",
          "2025-01-01T00:00:00"
         ],
         "xaxis": "x",
         "y": {
          "bdata": "AAAAAAAAAAAAAAAAAAAAEg==",
          "dtype": "i1"
         },
         "yaxis": "y"
        },
        {
         "hovertemplate": "State=USA-ND<br>Year=%{x}<br>Missing Count=%{y}<extra></extra>",
         "legendgroup": "USA-ND",
         "line": {
          "color": "#FFA15A",
          "dash": "solid"
         },
         "marker": {
          "symbol": "circle"
         },
         "mode": "lines+markers",
         "name": "USA-ND",
         "orientation": "v",
         "showlegend": true,
         "type": "scatter",
         "x": [
          "2010-01-01T00:00:00",
          "2011-01-01T00:00:00",
          "2012-01-01T00:00:00",
          "2013-01-01T00:00:00",
          "2014-01-01T00:00:00",
          "2015-01-01T00:00:00",
          "2016-01-01T00:00:00",
          "2017-01-01T00:00:00",
          "2018-01-01T00:00:00",
          "2019-01-01T00:00:00",
          "2020-01-01T00:00:00",
          "2021-01-01T00:00:00",
          "2022-01-01T00:00:00",
          "2023-01-01T00:00:00",
          "2024-01-01T00:00:00",
          "2025-01-01T00:00:00"
         ],
         "xaxis": "x",
         "y": {
          "bdata": "AAQFCAAAAAAAAAAAAAAAAA==",
          "dtype": "i1"
         },
         "yaxis": "y"
        }
       ],
       "layout": {
        "legend": {
         "title": {
          "text": "State"
         },
         "tracegroupgap": 0
        },
        "template": {
         "data": {
          "bar": [
           {
            "error_x": {
             "color": "#2a3f5f"
            },
            "error_y": {
             "color": "#2a3f5f"
            },
            "marker": {
             "line": {
              "color": "#E5ECF6",
              "width": 0.5
             },
             "pattern": {
              "fillmode": "overlay",
              "size": 10,
              "solidity": 0.2
             }
            },
            "type": "bar"
           }
          ],
          "barpolar": [
           {
            "marker": {
             "line": {
              "color": "#E5ECF6",
              "width": 0.5
             },
             "pattern": {
              "fillmode": "overlay",
              "size": 10,
              "solidity": 0.2
             }
            },
            "type": "barpolar"
           }
          ],
          "carpet": [
           {
            "aaxis": {
             "endlinecolor": "#2a3f5f",
             "gridcolor": "white",
             "linecolor": "white",
             "minorgridcolor": "white",
             "startlinecolor": "#2a3f5f"
            },
            "baxis": {
             "endlinecolor": "#2a3f5f",
             "gridcolor": "white",
             "linecolor": "white",
             "minorgridcolor": "white",
             "startlinecolor": "#2a3f5f"
            },
            "type": "carpet"
           }
          ],
          "choropleth": [
           {
            "colorbar": {
             "outlinewidth": 0,
             "ticks": ""
            },
            "type": "choropleth"
           }
          ],
          "contour": [
           {
            "colorbar": {
             "outlinewidth": 0,
             "ticks": ""
            },
            "colorscale": [
             [
              0,
              "#0d0887"
             ],
             [
              0.1111111111111111,
              "#46039f"
             ],
             [
              0.2222222222222222,
              "#7201a8"
             ],
             [
              0.3333333333333333,
              "#9c179e"
             ],
             [
              0.4444444444444444,
              "#bd3786"
             ],
             [
              0.5555555555555556,
              "#d8576b"
             ],
             [
              0.6666666666666666,
              "#ed7953"
             ],
             [
              0.7777777777777778,
              "#fb9f3a"
             ],
             [
              0.8888888888888888,
              "#fdca26"
             ],
             [
              1,
              "#f0f921"
             ]
            ],
            "type": "contour"
           }
          ],
          "contourcarpet": [
           {
            "colorbar": {
             "outlinewidth": 0,
             "ticks": ""
            },
            "type": "contourcarpet"
           }
          ],
          "heatmap": [
           {
            "colorbar": {
             "outlinewidth": 0,
             "ticks": ""
            },
            "colorscale": [
             [
              0,
              "#0d0887"
             ],
             [
              0.1111111111111111,
              "#46039f"
             ],
             [
              0.2222222222222222,
              "#7201a8"
             ],
             [
              0.3333333333333333,
              "#9c179e"
             ],
             [
              0.4444444444444444,
              "#bd3786"
             ],
             [
              0.5555555555555556,
              "#d8576b"
             ],
             [
              0.6666666666666666,
              "#ed7953"
             ],
             [
              0.7777777777777778,
              "#fb9f3a"
             ],
             [
              0.8888888888888888,
              "#fdca26"
             ],
             [
              1,
              "#f0f921"
             ]
            ],
            "type": "heatmap"
           }
          ],
          "histogram": [
           {
            "marker": {
             "pattern": {
              "fillmode": "overlay",
              "size": 10,
              "solidity": 0.2
             }
            },
            "type": "histogram"
           }
          ],
          "histogram2d": [
           {
            "colorbar": {
             "outlinewidth": 0,
             "ticks": ""
            },
            "colorscale": [
             [
              0,
              "#0d0887"
             ],
             [
              0.1111111111111111,
              "#46039f"
             ],
             [
              0.2222222222222222,
              "#7201a8"
             ],
             [
              0.3333333333333333,
              "#9c179e"
             ],
             [
              0.4444444444444444,
              "#bd3786"
             ],
             [
              0.5555555555555556,
              "#d8576b"
             ],
             [
              0.6666666666666666,
              "#ed7953"
             ],
             [
              0.7777777777777778,
              "#fb9f3a"
             ],
             [
              0.8888888888888888,
              "#fdca26"
             ],
             [
              1,
              "#f0f921"
             ]
            ],
            "type": "histogram2d"
           }
          ],
          "histogram2dcontour": [
           {
            "colorbar": {
             "outlinewidth": 0,
             "ticks": ""
            },
            "colorscale": [
             [
              0,
              "#0d0887"
             ],
             [
              0.1111111111111111,
              "#46039f"
             ],
             [
              0.2222222222222222,
              "#7201a8"
             ],
             [
              0.3333333333333333,
              "#9c179e"
             ],
             [
              0.4444444444444444,
              "#bd3786"
             ],
             [
              0.5555555555555556,
              "#d8576b"
             ],
             [
              0.6666666666666666,
              "#ed7953"
             ],
             [
              0.7777777777777778,
              "#fb9f3a"
             ],
             [
              0.8888888888888888,
              "#fdca26"
             ],
             [
              1,
              "#f0f921"
             ]
            ],
            "type": "histogram2dcontour"
           }
          ],
          "mesh3d": [
           {
            "colorbar": {
             "outlinewidth": 0,
             "ticks": ""
            },
            "type": "mesh3d"
           }
          ],
          "parcoords": [
           {
            "line": {
             "colorbar": {
              "outlinewidth": 0,
              "ticks": ""
             }
            },
            "type": "parcoords"
           }
          ],
          "pie": [
           {
            "automargin": true,
            "type": "pie"
           }
          ],
          "scatter": [
           {
            "fillpattern": {
             "fillmode": "overlay",
             "size": 10,
             "solidity": 0.2
            },
            "type": "scatter"
           }
          ],
          "scatter3d": [
           {
            "line": {
             "colorbar": {
              "outlinewidth": 0,
              "ticks": ""
             }
            },
            "marker": {
             "colorbar": {
              "outlinewidth": 0,
              "ticks": ""
             }
            },
            "type": "scatter3d"
           }
          ],
          "scattercarpet": [
           {
            "marker": {
             "colorbar": {
              "outlinewidth": 0,
              "ticks": ""
             }
            },
            "type": "scattercarpet"
           }
          ],
          "scattergeo": [
           {
            "marker": {
             "colorbar": {
              "outlinewidth": 0,
              "ticks": ""
             }
            },
            "type": "scattergeo"
           }
          ],
          "scattergl": [
           {
            "marker": {
             "colorbar": {
              "outlinewidth": 0,
              "ticks": ""
             }
            },
            "type": "scattergl"
           }
          ],
          "scattermap": [
           {
            "marker": {
             "colorbar": {
              "outlinewidth": 0,
              "ticks": ""
             }
            },
            "type": "scattermap"
           }
          ],
          "scattermapbox": [
           {
            "marker": {
             "colorbar": {
              "outlinewidth": 0,
              "ticks": ""
             }
            },
            "type": "scattermapbox"
           }
          ],
          "scatterpolar": [
           {
            "marker": {
             "colorbar": {
              "outlinewidth": 0,
              "ticks": ""
             }
            },
            "type": "scatterpolar"
           }
          ],
          "scatterpolargl": [
           {
            "marker": {
             "colorbar": {
              "outlinewidth": 0,
              "ticks": ""
             }
            },
            "type": "scatterpolargl"
           }
          ],
          "scatterternary": [
           {
            "marker": {
             "colorbar": {
              "outlinewidth": 0,
              "ticks": ""
             }
            },
            "type": "scatterternary"
           }
          ],
          "surface": [
           {
            "colorbar": {
             "outlinewidth": 0,
             "ticks": ""
            },
            "colorscale": [
             [
              0,
              "#0d0887"
             ],
             [
              0.1111111111111111,
              "#46039f"
             ],
             [
              0.2222222222222222,
              "#7201a8"
             ],
             [
              0.3333333333333333,
              "#9c179e"
             ],
             [
              0.4444444444444444,
              "#bd3786"
             ],
             [
              0.5555555555555556,
              "#d8576b"
             ],
             [
              0.6666666666666666,
              "#ed7953"
             ],
             [
              0.7777777777777778,
              "#fb9f3a"
             ],
             [
              0.8888888888888888,
              "#fdca26"
             ],
             [
              1,
              "#f0f921"
             ]
            ],
            "type": "surface"
           }
          ],
          "table": [
           {
            "cells": {
             "fill": {
              "color": "#EBF0F8"
             },
             "line": {
              "color": "white"
             }
            },
            "header": {
             "fill": {
              "color": "#C8D4E3"
             },
             "line": {
              "color": "white"
             }
            },
            "type": "table"
           }
          ]
         },
         "layout": {
          "annotationdefaults": {
           "arrowcolor": "#2a3f5f",
           "arrowhead": 0,
           "arrowwidth": 1
          },
          "autotypenumbers": "strict",
          "coloraxis": {
           "colorbar": {
            "outlinewidth": 0,
            "ticks": ""
           }
          },
          "colorscale": {
           "diverging": [
            [
             0,
             "#8e0152"
            ],
            [
             0.1,
             "#c51b7d"
            ],
            [
             0.2,
             "#de77ae"
            ],
            [
             0.3,
             "#f1b6da"
            ],
            [
             0.4,
             "#fde0ef"
            ],
            [
             0.5,
             "#f7f7f7"
            ],
            [
             0.6,
             "#e6f5d0"
            ],
            [
             0.7,
             "#b8e186"
            ],
            [
             0.8,
             "#7fbc41"
            ],
            [
             0.9,
             "#4d9221"
            ],
            [
             1,
             "#276419"
            ]
           ],
           "sequential": [
            [
             0,
             "#0d0887"
            ],
            [
             0.1111111111111111,
             "#46039f"
            ],
            [
             0.2222222222222222,
             "#7201a8"
            ],
            [
             0.3333333333333333,
             "#9c179e"
            ],
            [
             0.4444444444444444,
             "#bd3786"
            ],
            [
             0.5555555555555556,
             "#d8576b"
            ],
            [
             0.6666666666666666,
             "#ed7953"
            ],
            [
             0.7777777777777778,
             "#fb9f3a"
            ],
            [
             0.8888888888888888,
             "#fdca26"
            ],
            [
             1,
             "#f0f921"
            ]
           ],
           "sequentialminus": [
            [
             0,
             "#0d0887"
            ],
            [
             0.1111111111111111,
             "#46039f"
            ],
            [
             0.2222222222222222,
             "#7201a8"
            ],
            [
             0.3333333333333333,
             "#9c179e"
            ],
            [
             0.4444444444444444,
             "#bd3786"
            ],
            [
             0.5555555555555556,
             "#d8576b"
            ],
            [
             0.6666666666666666,
             "#ed7953"
            ],
            [
             0.7777777777777778,
             "#fb9f3a"
            ],
            [
             0.8888888888888888,
             "#fdca26"
            ],
            [
             1,
             "#f0f921"
            ]
           ]
          },
          "colorway": [
           "#636efa",
           "#EF553B",
           "#00cc96",
           "#ab63fa",
           "#FFA15A",
           "#19d3f3",
           "#FF6692",
           "#B6E880",
           "#FF97FF",
           "#FECB52"
          ],
          "font": {
           "color": "#2a3f5f"
          },
          "geo": {
           "bgcolor": "white",
           "lakecolor": "white",
           "landcolor": "#E5ECF6",
           "showlakes": true,
           "showland": true,
           "subunitcolor": "white"
          },
          "hoverlabel": {
           "align": "left"
          },
          "hovermode": "closest",
          "mapbox": {
           "style": "light"
          },
          "paper_bgcolor": "white",
          "plot_bgcolor": "#E5ECF6",
          "polar": {
           "angularaxis": {
            "gridcolor": "white",
            "linecolor": "white",
            "ticks": ""
           },
           "bgcolor": "#E5ECF6",
           "radialaxis": {
            "gridcolor": "white",
            "linecolor": "white",
            "ticks": ""
           }
          },
          "scene": {
           "xaxis": {
            "backgroundcolor": "#E5ECF6",
            "gridcolor": "white",
            "gridwidth": 2,
            "linecolor": "white",
            "showbackground": true,
            "ticks": "",
            "zerolinecolor": "white"
           },
           "yaxis": {
            "backgroundcolor": "#E5ECF6",
            "gridcolor": "white",
            "gridwidth": 2,
            "linecolor": "white",
            "showbackground": true,
            "ticks": "",
            "zerolinecolor": "white"
           },
           "zaxis": {
            "backgroundcolor": "#E5ECF6",
            "gridcolor": "white",
            "gridwidth": 2,
            "linecolor": "white",
            "showbackground": true,
            "ticks": "",
            "zerolinecolor": "white"
           }
          },
          "shapedefaults": {
           "line": {
            "color": "#2a3f5f"
           }
          },
          "ternary": {
           "aaxis": {
            "gridcolor": "white",
            "linecolor": "white",
            "ticks": ""
           },
           "baxis": {
            "gridcolor": "white",
            "linecolor": "white",
            "ticks": ""
           },
           "bgcolor": "#E5ECF6",
           "caxis": {
            "gridcolor": "white",
            "linecolor": "white",
            "ticks": ""
           }
          },
          "title": {
           "x": 0.05
          },
          "xaxis": {
           "automargin": true,
           "gridcolor": "white",
           "linecolor": "white",
           "ticks": "",
           "title": {
            "standoff": 15
           },
           "zerolinecolor": "white",
           "zerolinewidth": 2
          },
          "yaxis": {
           "automargin": true,
           "gridcolor": "white",
           "linecolor": "white",
           "ticks": "",
           "title": {
            "standoff": 15
           },
           "zerolinecolor": "white",
           "zerolinewidth": 2
          }
         }
        },
        "title": {
         "text": "Missing Natural Gas Values Trend for Top States (Yearly)"
        },
        "xaxis": {
         "anchor": "y",
         "domain": [
          0,
          1
         ],
         "title": {
          "text": "Year"
         }
        },
        "yaxis": {
         "anchor": "x",
         "domain": [
          0,
          1
         ],
         "title": {
          "text": "Missing Count"
         }
        }
       }
      }
     },
     "metadata": {},
     "output_type": "display_data"
    },
    {
     "data": {
      "application/vnd.plotly.v1+json": {
       "config": {
        "plotlyServerURL": "https://plot.ly"
       },
       "data": [
        {
         "hovertemplate": "Process Type=%{x}<br>month_period_str=2010-01<br>Cumulative Count=%{y}<extra></extra>",
         "legendgroup": "Commercial Consumption",
         "marker": {
          "color": "#636efa",
          "pattern": {
           "shape": ""
          }
         },
         "name": "Commercial Consumption",
         "orientation": "v",
         "showlegend": true,
         "textposition": "auto",
         "type": "bar",
         "x": [
          "Commercial Consumption"
         ],
         "xaxis": "x",
         "y": {
          "bdata": "AQ==",
          "dtype": "i1"
         },
         "yaxis": "y"
        },
        {
         "hovertemplate": "Process Type=%{x}<br>month_period_str=2010-01<br>Cumulative Count=%{y}<extra></extra>",
         "legendgroup": "Delivered to Consumers",
         "marker": {
          "color": "#EF553B",
          "pattern": {
           "shape": ""
          }
         },
         "name": "Delivered to Consumers",
         "orientation": "v",
         "showlegend": true,
         "textposition": "auto",
         "type": "bar",
         "x": [
          "Delivered to Consumers"
         ],
         "xaxis": "x",
         "y": {
          "bdata": "AQ==",
          "dtype": "i1"
         },
         "yaxis": "y"
        },
        {
         "hovertemplate": "Process Type=%{x}<br>month_period_str=2010-01<br>Cumulative Count=%{y}<extra></extra>",
         "legendgroup": "Industrial Consumption",
         "marker": {
          "color": "#00cc96",
          "pattern": {
           "shape": ""
          }
         },
         "name": "Industrial Consumption",
         "orientation": "v",
         "showlegend": true,
         "textposition": "auto",
         "type": "bar",
         "x": [
          "Industrial Consumption"
         ],
         "xaxis": "x",
         "y": {
          "bdata": "AQ==",
          "dtype": "i1"
         },
         "yaxis": "y"
        },
        {
         "hovertemplate": "Process Type=%{x}<br>month_period_str=2010-01<br>Cumulative Count=%{y}<extra></extra>",
         "legendgroup": "Residential Consumption",
         "marker": {
          "color": "#ab63fa",
          "pattern": {
           "shape": ""
          }
         },
         "name": "Residential Consumption",
         "orientation": "v",
         "showlegend": true,
         "textposition": "auto",
         "type": "bar",
         "x": [
          "Residential Consumption"
         ],
         "xaxis": "x",
         "y": {
          "bdata": "AQ==",
          "dtype": "i1"
         },
         "yaxis": "y"
        },
        {
         "hovertemplate": "Process Type=%{x}<br>month_period_str=2010-01<br>Cumulative Count=%{y}<extra></extra>",
         "legendgroup": "Vehicle Fuel Consumption",
         "marker": {
          "color": "#FFA15A",
          "pattern": {
           "shape": ""
          }
         },
         "name": "Vehicle Fuel Consumption",
         "orientation": "v",
         "showlegend": true,
         "textposition": "auto",
         "type": "bar",
         "x": [
          "Vehicle Fuel Consumption"
         ],
         "xaxis": "x",
         "y": {
          "bdata": "AQ==",
          "dtype": "i1"
         },
         "yaxis": "y"
        },
        {
         "hovertemplate": "Process Type=%{x}<br>month_period_str=2010-01<br>Cumulative Count=%{y}<extra></extra>",
         "legendgroup": "Electric Power Consumption",
         "marker": {
          "color": "#19d3f3",
          "pattern": {
           "shape": ""
          }
         },
         "name": "Electric Power Consumption",
         "orientation": "v",
         "showlegend": true,
         "textposition": "auto",
         "type": "bar",
         "x": [
          "Electric Power Consumption"
         ],
         "xaxis": "x",
         "y": {
          "bdata": "AA==",
          "dtype": "i1"
         },
         "yaxis": "y"
        }
       ],
       "frames": [
        {
         "data": [
          {
           "hovertemplate": "Process Type=%{x}<br>month_period_str=2010-01<br>Cumulative Count=%{y}<extra></extra>",
           "legendgroup": "Commercial Consumption",
           "marker": {
            "color": "#636efa",
            "pattern": {
             "shape": ""
            }
           },
           "name": "Commercial Consumption",
           "orientation": "v",
           "showlegend": true,
           "textposition": "auto",
           "type": "bar",
           "x": [
            "Commercial Consumption"
           ],
           "xaxis": "x",
           "y": {
            "bdata": "AQ==",
            "dtype": "i1"
           },
           "yaxis": "y"
          },
          {
           "hovertemplate": "Process Type=%{x}<br>month_period_str=2010-01<br>Cumulative Count=%{y}<extra></extra>",
           "legendgroup": "Delivered to Consumers",
           "marker": {
            "color": "#EF553B",
            "pattern": {
             "shape": ""
            }
           },
           "name": "Delivered to Consumers",
           "orientation": "v",
           "showlegend": true,
           "textposition": "auto",
           "type": "bar",
           "x": [
            "Delivered to Consumers"
           ],
           "xaxis": "x",
           "y": {
            "bdata": "AQ==",
            "dtype": "i1"
           },
           "yaxis": "y"
          },
          {
           "hovertemplate": "Process Type=%{x}<br>month_period_str=2010-01<br>Cumulative Count=%{y}<extra></extra>",
           "legendgroup": "Industrial Consumption",
           "marker": {
            "color": "#00cc96",
            "pattern": {
             "shape": ""
            }
           },
           "name": "Industrial Consumption",
           "orientation": "v",
           "showlegend": true,
           "textposition": "auto",
           "type": "bar",
           "x": [
            "Industrial Consumption"
           ],
           "xaxis": "x",
           "y": {
            "bdata": "AQ==",
            "dtype": "i1"
           },
           "yaxis": "y"
          },
          {
           "hovertemplate": "Process Type=%{x}<br>month_period_str=2010-01<br>Cumulative Count=%{y}<extra></extra>",
           "legendgroup": "Residential Consumption",
           "marker": {
            "color": "#ab63fa",
            "pattern": {
             "shape": ""
            }
           },
           "name": "Residential Consumption",
           "orientation": "v",
           "showlegend": true,
           "textposition": "auto",
           "type": "bar",
           "x": [
            "Residential Consumption"
           ],
           "xaxis": "x",
           "y": {
            "bdata": "AQ==",
            "dtype": "i1"
           },
           "yaxis": "y"
          },
          {
           "hovertemplate": "Process Type=%{x}<br>month_period_str=2010-01<br>Cumulative Count=%{y}<extra></extra>",
           "legendgroup": "Vehicle Fuel Consumption",
           "marker": {
            "color": "#FFA15A",
            "pattern": {
             "shape": ""
            }
           },
           "name": "Vehicle Fuel Consumption",
           "orientation": "v",
           "showlegend": true,
           "textposition": "auto",
           "type": "bar",
           "x": [
            "Vehicle Fuel Consumption"
           ],
           "xaxis": "x",
           "y": {
            "bdata": "AQ==",
            "dtype": "i1"
           },
           "yaxis": "y"
          },
          {
           "hovertemplate": "Process Type=%{x}<br>month_period_str=2010-01<br>Cumulative Count=%{y}<extra></extra>",
           "legendgroup": "Electric Power Consumption",
           "marker": {
            "color": "#19d3f3",
            "pattern": {
             "shape": ""
            }
           },
           "name": "Electric Power Consumption",
           "orientation": "v",
           "showlegend": true,
           "textposition": "auto",
           "type": "bar",
           "x": [
            "Electric Power Consumption"
           ],
           "xaxis": "x",
           "y": {
            "bdata": "AA==",
            "dtype": "i1"
           },
           "yaxis": "y"
          }
         ],
         "name": "2010-01"
        },
        {
         "data": [
          {
           "hovertemplate": "Process Type=%{x}<br>month_period_str=2010-02<br>Cumulative Count=%{y}<extra></extra>",
           "legendgroup": "Commercial Consumption",
           "marker": {
            "color": "#636efa",
            "pattern": {
             "shape": ""
            }
           },
           "name": "Commercial Consumption",
           "orientation": "v",
           "showlegend": true,
           "textposition": "auto",
           "type": "bar",
           "x": [
            "Commercial Consumption"
           ],
           "xaxis": "x",
           "y": {
            "bdata": "Ag==",
            "dtype": "i1"
           },
           "yaxis": "y"
          },
          {
           "hovertemplate": "Process Type=%{x}<br>month_period_str=2010-02<br>Cumulative Count=%{y}<extra></extra>",
           "legendgroup": "Delivered to Consumers",
           "marker": {
            "color": "#EF553B",
            "pattern": {
             "shape": ""
            }
           },
           "name": "Delivered to Consumers",
           "orientation": "v",
           "showlegend": true,
           "textposition": "auto",
           "type": "bar",
           "x": [
            "Delivered to Consumers"
           ],
           "xaxis": "x",
           "y": {
            "bdata": "Ag==",
            "dtype": "i1"
           },
           "yaxis": "y"
          },
          {
           "hovertemplate": "Process Type=%{x}<br>month_period_str=2010-02<br>Cumulative Count=%{y}<extra></extra>",
           "legendgroup": "Industrial Consumption",
           "marker": {
            "color": "#00cc96",
            "pattern": {
             "shape": ""
            }
           },
           "name": "Industrial Consumption",
           "orientation": "v",
           "showlegend": true,
           "textposition": "auto",
           "type": "bar",
           "x": [
            "Industrial Consumption"
           ],
           "xaxis": "x",
           "y": {
            "bdata": "Ag==",
            "dtype": "i1"
           },
           "yaxis": "y"
          },
          {
           "hovertemplate": "Process Type=%{x}<br>month_period_str=2010-02<br>Cumulative Count=%{y}<extra></extra>",
           "legendgroup": "Residential Consumption",
           "marker": {
            "color": "#ab63fa",
            "pattern": {
             "shape": ""
            }
           },
           "name": "Residential Consumption",
           "orientation": "v",
           "showlegend": true,
           "textposition": "auto",
           "type": "bar",
           "x": [
            "Residential Consumption"
           ],
           "xaxis": "x",
           "y": {
            "bdata": "Ag==",
            "dtype": "i1"
           },
           "yaxis": "y"
          },
          {
           "hovertemplate": "Process Type=%{x}<br>month_period_str=2010-02<br>Cumulative Count=%{y}<extra></extra>",
           "legendgroup": "Vehicle Fuel Consumption",
           "marker": {
            "color": "#FFA15A",
            "pattern": {
             "shape": ""
            }
           },
           "name": "Vehicle Fuel Consumption",
           "orientation": "v",
           "showlegend": true,
           "textposition": "auto",
           "type": "bar",
           "x": [
            "Vehicle Fuel Consumption"
           ],
           "xaxis": "x",
           "y": {
            "bdata": "Ag==",
            "dtype": "i1"
           },
           "yaxis": "y"
          },
          {
           "hovertemplate": "Process Type=%{x}<br>month_period_str=2010-02<br>Cumulative Count=%{y}<extra></extra>",
           "legendgroup": "Electric Power Consumption",
           "marker": {
            "color": "#19d3f3",
            "pattern": {
             "shape": ""
            }
           },
           "name": "Electric Power Consumption",
           "orientation": "v",
           "showlegend": true,
           "textposition": "auto",
           "type": "bar",
           "x": [
            "Electric Power Consumption"
           ],
           "xaxis": "x",
           "y": {
            "bdata": "AA==",
            "dtype": "i1"
           },
           "yaxis": "y"
          }
         ],
         "name": "2010-02"
        },
        {
         "data": [
          {
           "hovertemplate": "Process Type=%{x}<br>month_period_str=2010-03<br>Cumulative Count=%{y}<extra></extra>",
           "legendgroup": "Commercial Consumption",
           "marker": {
            "color": "#636efa",
            "pattern": {
             "shape": ""
            }
           },
           "name": "Commercial Consumption",
           "orientation": "v",
           "showlegend": true,
           "textposition": "auto",
           "type": "bar",
           "x": [
            "Commercial Consumption"
           ],
           "xaxis": "x",
           "y": {
            "bdata": "Aw==",
            "dtype": "i1"
           },
           "yaxis": "y"
          },
          {
           "hovertemplate": "Process Type=%{x}<br>month_period_str=2010-03<br>Cumulative Count=%{y}<extra></extra>",
           "legendgroup": "Delivered to Consumers",
           "marker": {
            "color": "#EF553B",
            "pattern": {
             "shape": ""
            }
           },
           "name": "Delivered to Consumers",
           "orientation": "v",
           "showlegend": true,
           "textposition": "auto",
           "type": "bar",
           "x": [
            "Delivered to Consumers"
           ],
           "xaxis": "x",
           "y": {
            "bdata": "Aw==",
            "dtype": "i1"
           },
           "yaxis": "y"
          },
          {
           "hovertemplate": "Process Type=%{x}<br>month_period_str=2010-03<br>Cumulative Count=%{y}<extra></extra>",
           "legendgroup": "Industrial Consumption",
           "marker": {
            "color": "#00cc96",
            "pattern": {
             "shape": ""
            }
           },
           "name": "Industrial Consumption",
           "orientation": "v",
           "showlegend": true,
           "textposition": "auto",
           "type": "bar",
           "x": [
            "Industrial Consumption"
           ],
           "xaxis": "x",
           "y": {
            "bdata": "Aw==",
            "dtype": "i1"
           },
           "yaxis": "y"
          },
          {
           "hovertemplate": "Process Type=%{x}<br>month_period_str=2010-03<br>Cumulative Count=%{y}<extra></extra>",
           "legendgroup": "Residential Consumption",
           "marker": {
            "color": "#ab63fa",
            "pattern": {
             "shape": ""
            }
           },
           "name": "Residential Consumption",
           "orientation": "v",
           "showlegend": true,
           "textposition": "auto",
           "type": "bar",
           "x": [
            "Residential Consumption"
           ],
           "xaxis": "x",
           "y": {
            "bdata": "Aw==",
            "dtype": "i1"
           },
           "yaxis": "y"
          },
          {
           "hovertemplate": "Process Type=%{x}<br>month_period_str=2010-03<br>Cumulative Count=%{y}<extra></extra>",
           "legendgroup": "Vehicle Fuel Consumption",
           "marker": {
            "color": "#FFA15A",
            "pattern": {
             "shape": ""
            }
           },
           "name": "Vehicle Fuel Consumption",
           "orientation": "v",
           "showlegend": true,
           "textposition": "auto",
           "type": "bar",
           "x": [
            "Vehicle Fuel Consumption"
           ],
           "xaxis": "x",
           "y": {
            "bdata": "Aw==",
            "dtype": "i1"
           },
           "yaxis": "y"
          },
          {
           "hovertemplate": "Process Type=%{x}<br>month_period_str=2010-03<br>Cumulative Count=%{y}<extra></extra>",
           "legendgroup": "Electric Power Consumption",
           "marker": {
            "color": "#19d3f3",
            "pattern": {
             "shape": ""
            }
           },
           "name": "Electric Power Consumption",
           "orientation": "v",
           "showlegend": true,
           "textposition": "auto",
           "type": "bar",
           "x": [
            "Electric Power Consumption"
           ],
           "xaxis": "x",
           "y": {
            "bdata": "AA==",
            "dtype": "i1"
           },
           "yaxis": "y"
          }
         ],
         "name": "2010-03"
        },
        {
         "data": [
          {
           "hovertemplate": "Process Type=%{x}<br>month_period_str=2010-04<br>Cumulative Count=%{y}<extra></extra>",
           "legendgroup": "Commercial Consumption",
           "marker": {
            "color": "#636efa",
            "pattern": {
             "shape": ""
            }
           },
           "name": "Commercial Consumption",
           "orientation": "v",
           "showlegend": true,
           "textposition": "auto",
           "type": "bar",
           "x": [
            "Commercial Consumption"
           ],
           "xaxis": "x",
           "y": {
            "bdata": "BA==",
            "dtype": "i1"
           },
           "yaxis": "y"
          },
          {
           "hovertemplate": "Process Type=%{x}<br>month_period_str=2010-04<br>Cumulative Count=%{y}<extra></extra>",
           "legendgroup": "Delivered to Consumers",
           "marker": {
            "color": "#EF553B",
            "pattern": {
             "shape": ""
            }
           },
           "name": "Delivered to Consumers",
           "orientation": "v",
           "showlegend": true,
           "textposition": "auto",
           "type": "bar",
           "x": [
            "Delivered to Consumers"
           ],
           "xaxis": "x",
           "y": {
            "bdata": "BA==",
            "dtype": "i1"
           },
           "yaxis": "y"
          },
          {
           "hovertemplate": "Process Type=%{x}<br>month_period_str=2010-04<br>Cumulative Count=%{y}<extra></extra>",
           "legendgroup": "Industrial Consumption",
           "marker": {
            "color": "#00cc96",
            "pattern": {
             "shape": ""
            }
           },
           "name": "Industrial Consumption",
           "orientation": "v",
           "showlegend": true,
           "textposition": "auto",
           "type": "bar",
           "x": [
            "Industrial Consumption"
           ],
           "xaxis": "x",
           "y": {
            "bdata": "BA==",
            "dtype": "i1"
           },
           "yaxis": "y"
          },
          {
           "hovertemplate": "Process Type=%{x}<br>month_period_str=2010-04<br>Cumulative Count=%{y}<extra></extra>",
           "legendgroup": "Residential Consumption",
           "marker": {
            "color": "#ab63fa",
            "pattern": {
             "shape": ""
            }
           },
           "name": "Residential Consumption",
           "orientation": "v",
           "showlegend": true,
           "textposition": "auto",
           "type": "bar",
           "x": [
            "Residential Consumption"
           ],
           "xaxis": "x",
           "y": {
            "bdata": "BA==",
            "dtype": "i1"
           },
           "yaxis": "y"
          },
          {
           "hovertemplate": "Process Type=%{x}<br>month_period_str=2010-04<br>Cumulative Count=%{y}<extra></extra>",
           "legendgroup": "Vehicle Fuel Consumption",
           "marker": {
            "color": "#FFA15A",
            "pattern": {
             "shape": ""
            }
           },
           "name": "Vehicle Fuel Consumption",
           "orientation": "v",
           "showlegend": true,
           "textposition": "auto",
           "type": "bar",
           "x": [
            "Vehicle Fuel Consumption"
           ],
           "xaxis": "x",
           "y": {
            "bdata": "BA==",
            "dtype": "i1"
           },
           "yaxis": "y"
          },
          {
           "hovertemplate": "Process Type=%{x}<br>month_period_str=2010-04<br>Cumulative Count=%{y}<extra></extra>",
           "legendgroup": "Electric Power Consumption",
           "marker": {
            "color": "#19d3f3",
            "pattern": {
             "shape": ""
            }
           },
           "name": "Electric Power Consumption",
           "orientation": "v",
           "showlegend": true,
           "textposition": "auto",
           "type": "bar",
           "x": [
            "Electric Power Consumption"
           ],
           "xaxis": "x",
           "y": {
            "bdata": "AA==",
            "dtype": "i1"
           },
           "yaxis": "y"
          }
         ],
         "name": "2010-04"
        },
        {
         "data": [
          {
           "hovertemplate": "Process Type=%{x}<br>month_period_str=2010-05<br>Cumulative Count=%{y}<extra></extra>",
           "legendgroup": "Commercial Consumption",
           "marker": {
            "color": "#636efa",
            "pattern": {
             "shape": ""
            }
           },
           "name": "Commercial Consumption",
           "orientation": "v",
           "showlegend": true,
           "textposition": "auto",
           "type": "bar",
           "x": [
            "Commercial Consumption"
           ],
           "xaxis": "x",
           "y": {
            "bdata": "BQ==",
            "dtype": "i1"
           },
           "yaxis": "y"
          },
          {
           "hovertemplate": "Process Type=%{x}<br>month_period_str=2010-05<br>Cumulative Count=%{y}<extra></extra>",
           "legendgroup": "Delivered to Consumers",
           "marker": {
            "color": "#EF553B",
            "pattern": {
             "shape": ""
            }
           },
           "name": "Delivered to Consumers",
           "orientation": "v",
           "showlegend": true,
           "textposition": "auto",
           "type": "bar",
           "x": [
            "Delivered to Consumers"
           ],
           "xaxis": "x",
           "y": {
            "bdata": "BQ==",
            "dtype": "i1"
           },
           "yaxis": "y"
          },
          {
           "hovertemplate": "Process Type=%{x}<br>month_period_str=2010-05<br>Cumulative Count=%{y}<extra></extra>",
           "legendgroup": "Industrial Consumption",
           "marker": {
            "color": "#00cc96",
            "pattern": {
             "shape": ""
            }
           },
           "name": "Industrial Consumption",
           "orientation": "v",
           "showlegend": true,
           "textposition": "auto",
           "type": "bar",
           "x": [
            "Industrial Consumption"
           ],
           "xaxis": "x",
           "y": {
            "bdata": "BQ==",
            "dtype": "i1"
           },
           "yaxis": "y"
          },
          {
           "hovertemplate": "Process Type=%{x}<br>month_period_str=2010-05<br>Cumulative Count=%{y}<extra></extra>",
           "legendgroup": "Residential Consumption",
           "marker": {
            "color": "#ab63fa",
            "pattern": {
             "shape": ""
            }
           },
           "name": "Residential Consumption",
           "orientation": "v",
           "showlegend": true,
           "textposition": "auto",
           "type": "bar",
           "x": [
            "Residential Consumption"
           ],
           "xaxis": "x",
           "y": {
            "bdata": "BQ==",
            "dtype": "i1"
           },
           "yaxis": "y"
          },
          {
           "hovertemplate": "Process Type=%{x}<br>month_period_str=2010-05<br>Cumulative Count=%{y}<extra></extra>",
           "legendgroup": "Vehicle Fuel Consumption",
           "marker": {
            "color": "#FFA15A",
            "pattern": {
             "shape": ""
            }
           },
           "name": "Vehicle Fuel Consumption",
           "orientation": "v",
           "showlegend": true,
           "textposition": "auto",
           "type": "bar",
           "x": [
            "Vehicle Fuel Consumption"
           ],
           "xaxis": "x",
           "y": {
            "bdata": "BQ==",
            "dtype": "i1"
           },
           "yaxis": "y"
          },
          {
           "hovertemplate": "Process Type=%{x}<br>month_period_str=2010-05<br>Cumulative Count=%{y}<extra></extra>",
           "legendgroup": "Electric Power Consumption",
           "marker": {
            "color": "#19d3f3",
            "pattern": {
             "shape": ""
            }
           },
           "name": "Electric Power Consumption",
           "orientation": "v",
           "showlegend": true,
           "textposition": "auto",
           "type": "bar",
           "x": [
            "Electric Power Consumption"
           ],
           "xaxis": "x",
           "y": {
            "bdata": "AA==",
            "dtype": "i1"
           },
           "yaxis": "y"
          }
         ],
         "name": "2010-05"
        },
        {
         "data": [
          {
           "hovertemplate": "Process Type=%{x}<br>month_period_str=2010-06<br>Cumulative Count=%{y}<extra></extra>",
           "legendgroup": "Commercial Consumption",
           "marker": {
            "color": "#636efa",
            "pattern": {
             "shape": ""
            }
           },
           "name": "Commercial Consumption",
           "orientation": "v",
           "showlegend": true,
           "textposition": "auto",
           "type": "bar",
           "x": [
            "Commercial Consumption"
           ],
           "xaxis": "x",
           "y": {
            "bdata": "Bg==",
            "dtype": "i1"
           },
           "yaxis": "y"
          },
          {
           "hovertemplate": "Process Type=%{x}<br>month_period_str=2010-06<br>Cumulative Count=%{y}<extra></extra>",
           "legendgroup": "Delivered to Consumers",
           "marker": {
            "color": "#EF553B",
            "pattern": {
             "shape": ""
            }
           },
           "name": "Delivered to Consumers",
           "orientation": "v",
           "showlegend": true,
           "textposition": "auto",
           "type": "bar",
           "x": [
            "Delivered to Consumers"
           ],
           "xaxis": "x",
           "y": {
            "bdata": "Bg==",
            "dtype": "i1"
           },
           "yaxis": "y"
          },
          {
           "hovertemplate": "Process Type=%{x}<br>month_period_str=2010-06<br>Cumulative Count=%{y}<extra></extra>",
           "legendgroup": "Industrial Consumption",
           "marker": {
            "color": "#00cc96",
            "pattern": {
             "shape": ""
            }
           },
           "name": "Industrial Consumption",
           "orientation": "v",
           "showlegend": true,
           "textposition": "auto",
           "type": "bar",
           "x": [
            "Industrial Consumption"
           ],
           "xaxis": "x",
           "y": {
            "bdata": "Bg==",
            "dtype": "i1"
           },
           "yaxis": "y"
          },
          {
           "hovertemplate": "Process Type=%{x}<br>month_period_str=2010-06<br>Cumulative Count=%{y}<extra></extra>",
           "legendgroup": "Residential Consumption",
           "marker": {
            "color": "#ab63fa",
            "pattern": {
             "shape": ""
            }
           },
           "name": "Residential Consumption",
           "orientation": "v",
           "showlegend": true,
           "textposition": "auto",
           "type": "bar",
           "x": [
            "Residential Consumption"
           ],
           "xaxis": "x",
           "y": {
            "bdata": "Bg==",
            "dtype": "i1"
           },
           "yaxis": "y"
          },
          {
           "hovertemplate": "Process Type=%{x}<br>month_period_str=2010-06<br>Cumulative Count=%{y}<extra></extra>",
           "legendgroup": "Vehicle Fuel Consumption",
           "marker": {
            "color": "#FFA15A",
            "pattern": {
             "shape": ""
            }
           },
           "name": "Vehicle Fuel Consumption",
           "orientation": "v",
           "showlegend": true,
           "textposition": "auto",
           "type": "bar",
           "x": [
            "Vehicle Fuel Consumption"
           ],
           "xaxis": "x",
           "y": {
            "bdata": "Bg==",
            "dtype": "i1"
           },
           "yaxis": "y"
          },
          {
           "hovertemplate": "Process Type=%{x}<br>month_period_str=2010-06<br>Cumulative Count=%{y}<extra></extra>",
           "legendgroup": "Electric Power Consumption",
           "marker": {
            "color": "#19d3f3",
            "pattern": {
             "shape": ""
            }
           },
           "name": "Electric Power Consumption",
           "orientation": "v",
           "showlegend": true,
           "textposition": "auto",
           "type": "bar",
           "x": [
            "Electric Power Consumption"
           ],
           "xaxis": "x",
           "y": {
            "bdata": "AA==",
            "dtype": "i1"
           },
           "yaxis": "y"
          }
         ],
         "name": "2010-06"
        },
        {
         "data": [
          {
           "hovertemplate": "Process Type=%{x}<br>month_period_str=2010-07<br>Cumulative Count=%{y}<extra></extra>",
           "legendgroup": "Commercial Consumption",
           "marker": {
            "color": "#636efa",
            "pattern": {
             "shape": ""
            }
           },
           "name": "Commercial Consumption",
           "orientation": "v",
           "showlegend": true,
           "textposition": "auto",
           "type": "bar",
           "x": [
            "Commercial Consumption"
           ],
           "xaxis": "x",
           "y": {
            "bdata": "Bw==",
            "dtype": "i1"
           },
           "yaxis": "y"
          },
          {
           "hovertemplate": "Process Type=%{x}<br>month_period_str=2010-07<br>Cumulative Count=%{y}<extra></extra>",
           "legendgroup": "Delivered to Consumers",
           "marker": {
            "color": "#EF553B",
            "pattern": {
             "shape": ""
            }
           },
           "name": "Delivered to Consumers",
           "orientation": "v",
           "showlegend": true,
           "textposition": "auto",
           "type": "bar",
           "x": [
            "Delivered to Consumers"
           ],
           "xaxis": "x",
           "y": {
            "bdata": "Bw==",
            "dtype": "i1"
           },
           "yaxis": "y"
          },
          {
           "hovertemplate": "Process Type=%{x}<br>month_period_str=2010-07<br>Cumulative Count=%{y}<extra></extra>",
           "legendgroup": "Industrial Consumption",
           "marker": {
            "color": "#00cc96",
            "pattern": {
             "shape": ""
            }
           },
           "name": "Industrial Consumption",
           "orientation": "v",
           "showlegend": true,
           "textposition": "auto",
           "type": "bar",
           "x": [
            "Industrial Consumption"
           ],
           "xaxis": "x",
           "y": {
            "bdata": "Bw==",
            "dtype": "i1"
           },
           "yaxis": "y"
          },
          {
           "hovertemplate": "Process Type=%{x}<br>month_period_str=2010-07<br>Cumulative Count=%{y}<extra></extra>",
           "legendgroup": "Residential Consumption",
           "marker": {
            "color": "#ab63fa",
            "pattern": {
             "shape": ""
            }
           },
           "name": "Residential Consumption",
           "orientation": "v",
           "showlegend": true,
           "textposition": "auto",
           "type": "bar",
           "x": [
            "Residential Consumption"
           ],
           "xaxis": "x",
           "y": {
            "bdata": "Bw==",
            "dtype": "i1"
           },
           "yaxis": "y"
          },
          {
           "hovertemplate": "Process Type=%{x}<br>month_period_str=2010-07<br>Cumulative Count=%{y}<extra></extra>",
           "legendgroup": "Vehicle Fuel Consumption",
           "marker": {
            "color": "#FFA15A",
            "pattern": {
             "shape": ""
            }
           },
           "name": "Vehicle Fuel Consumption",
           "orientation": "v",
           "showlegend": true,
           "textposition": "auto",
           "type": "bar",
           "x": [
            "Vehicle Fuel Consumption"
           ],
           "xaxis": "x",
           "y": {
            "bdata": "Bw==",
            "dtype": "i1"
           },
           "yaxis": "y"
          },
          {
           "hovertemplate": "Process Type=%{x}<br>month_period_str=2010-07<br>Cumulative Count=%{y}<extra></extra>",
           "legendgroup": "Electric Power Consumption",
           "marker": {
            "color": "#19d3f3",
            "pattern": {
             "shape": ""
            }
           },
           "name": "Electric Power Consumption",
           "orientation": "v",
           "showlegend": true,
           "textposition": "auto",
           "type": "bar",
           "x": [
            "Electric Power Consumption"
           ],
           "xaxis": "x",
           "y": {
            "bdata": "AA==",
            "dtype": "i1"
           },
           "yaxis": "y"
          }
         ],
         "name": "2010-07"
        },
        {
         "data": [
          {
           "hovertemplate": "Process Type=%{x}<br>month_period_str=2010-08<br>Cumulative Count=%{y}<extra></extra>",
           "legendgroup": "Commercial Consumption",
           "marker": {
            "color": "#636efa",
            "pattern": {
             "shape": ""
            }
           },
           "name": "Commercial Consumption",
           "orientation": "v",
           "showlegend": true,
           "textposition": "auto",
           "type": "bar",
           "x": [
            "Commercial Consumption"
           ],
           "xaxis": "x",
           "y": {
            "bdata": "CA==",
            "dtype": "i1"
           },
           "yaxis": "y"
          },
          {
           "hovertemplate": "Process Type=%{x}<br>month_period_str=2010-08<br>Cumulative Count=%{y}<extra></extra>",
           "legendgroup": "Delivered to Consumers",
           "marker": {
            "color": "#EF553B",
            "pattern": {
             "shape": ""
            }
           },
           "name": "Delivered to Consumers",
           "orientation": "v",
           "showlegend": true,
           "textposition": "auto",
           "type": "bar",
           "x": [
            "Delivered to Consumers"
           ],
           "xaxis": "x",
           "y": {
            "bdata": "CA==",
            "dtype": "i1"
           },
           "yaxis": "y"
          },
          {
           "hovertemplate": "Process Type=%{x}<br>month_period_str=2010-08<br>Cumulative Count=%{y}<extra></extra>",
           "legendgroup": "Industrial Consumption",
           "marker": {
            "color": "#00cc96",
            "pattern": {
             "shape": ""
            }
           },
           "name": "Industrial Consumption",
           "orientation": "v",
           "showlegend": true,
           "textposition": "auto",
           "type": "bar",
           "x": [
            "Industrial Consumption"
           ],
           "xaxis": "x",
           "y": {
            "bdata": "CA==",
            "dtype": "i1"
           },
           "yaxis": "y"
          },
          {
           "hovertemplate": "Process Type=%{x}<br>month_period_str=2010-08<br>Cumulative Count=%{y}<extra></extra>",
           "legendgroup": "Residential Consumption",
           "marker": {
            "color": "#ab63fa",
            "pattern": {
             "shape": ""
            }
           },
           "name": "Residential Consumption",
           "orientation": "v",
           "showlegend": true,
           "textposition": "auto",
           "type": "bar",
           "x": [
            "Residential Consumption"
           ],
           "xaxis": "x",
           "y": {
            "bdata": "CA==",
            "dtype": "i1"
           },
           "yaxis": "y"
          },
          {
           "hovertemplate": "Process Type=%{x}<br>month_period_str=2010-08<br>Cumulative Count=%{y}<extra></extra>",
           "legendgroup": "Vehicle Fuel Consumption",
           "marker": {
            "color": "#FFA15A",
            "pattern": {
             "shape": ""
            }
           },
           "name": "Vehicle Fuel Consumption",
           "orientation": "v",
           "showlegend": true,
           "textposition": "auto",
           "type": "bar",
           "x": [
            "Vehicle Fuel Consumption"
           ],
           "xaxis": "x",
           "y": {
            "bdata": "CA==",
            "dtype": "i1"
           },
           "yaxis": "y"
          },
          {
           "hovertemplate": "Process Type=%{x}<br>month_period_str=2010-08<br>Cumulative Count=%{y}<extra></extra>",
           "legendgroup": "Electric Power Consumption",
           "marker": {
            "color": "#19d3f3",
            "pattern": {
             "shape": ""
            }
           },
           "name": "Electric Power Consumption",
           "orientation": "v",
           "showlegend": true,
           "textposition": "auto",
           "type": "bar",
           "x": [
            "Electric Power Consumption"
           ],
           "xaxis": "x",
           "y": {
            "bdata": "AA==",
            "dtype": "i1"
           },
           "yaxis": "y"
          }
         ],
         "name": "2010-08"
        },
        {
         "data": [
          {
           "hovertemplate": "Process Type=%{x}<br>month_period_str=2010-09<br>Cumulative Count=%{y}<extra></extra>",
           "legendgroup": "Commercial Consumption",
           "marker": {
            "color": "#636efa",
            "pattern": {
             "shape": ""
            }
           },
           "name": "Commercial Consumption",
           "orientation": "v",
           "showlegend": true,
           "textposition": "auto",
           "type": "bar",
           "x": [
            "Commercial Consumption"
           ],
           "xaxis": "x",
           "y": {
            "bdata": "CQ==",
            "dtype": "i1"
           },
           "yaxis": "y"
          },
          {
           "hovertemplate": "Process Type=%{x}<br>month_period_str=2010-09<br>Cumulative Count=%{y}<extra></extra>",
           "legendgroup": "Delivered to Consumers",
           "marker": {
            "color": "#EF553B",
            "pattern": {
             "shape": ""
            }
           },
           "name": "Delivered to Consumers",
           "orientation": "v",
           "showlegend": true,
           "textposition": "auto",
           "type": "bar",
           "x": [
            "Delivered to Consumers"
           ],
           "xaxis": "x",
           "y": {
            "bdata": "CQ==",
            "dtype": "i1"
           },
           "yaxis": "y"
          },
          {
           "hovertemplate": "Process Type=%{x}<br>month_period_str=2010-09<br>Cumulative Count=%{y}<extra></extra>",
           "legendgroup": "Industrial Consumption",
           "marker": {
            "color": "#00cc96",
            "pattern": {
             "shape": ""
            }
           },
           "name": "Industrial Consumption",
           "orientation": "v",
           "showlegend": true,
           "textposition": "auto",
           "type": "bar",
           "x": [
            "Industrial Consumption"
           ],
           "xaxis": "x",
           "y": {
            "bdata": "CQ==",
            "dtype": "i1"
           },
           "yaxis": "y"
          },
          {
           "hovertemplate": "Process Type=%{x}<br>month_period_str=2010-09<br>Cumulative Count=%{y}<extra></extra>",
           "legendgroup": "Residential Consumption",
           "marker": {
            "color": "#ab63fa",
            "pattern": {
             "shape": ""
            }
           },
           "name": "Residential Consumption",
           "orientation": "v",
           "showlegend": true,
           "textposition": "auto",
           "type": "bar",
           "x": [
            "Residential Consumption"
           ],
           "xaxis": "x",
           "y": {
            "bdata": "CQ==",
            "dtype": "i1"
           },
           "yaxis": "y"
          },
          {
           "hovertemplate": "Process Type=%{x}<br>month_period_str=2010-09<br>Cumulative Count=%{y}<extra></extra>",
           "legendgroup": "Vehicle Fuel Consumption",
           "marker": {
            "color": "#FFA15A",
            "pattern": {
             "shape": ""
            }
           },
           "name": "Vehicle Fuel Consumption",
           "orientation": "v",
           "showlegend": true,
           "textposition": "auto",
           "type": "bar",
           "x": [
            "Vehicle Fuel Consumption"
           ],
           "xaxis": "x",
           "y": {
            "bdata": "CQ==",
            "dtype": "i1"
           },
           "yaxis": "y"
          },
          {
           "hovertemplate": "Process Type=%{x}<br>month_period_str=2010-09<br>Cumulative Count=%{y}<extra></extra>",
           "legendgroup": "Electric Power Consumption",
           "marker": {
            "color": "#19d3f3",
            "pattern": {
             "shape": ""
            }
           },
           "name": "Electric Power Consumption",
           "orientation": "v",
           "showlegend": true,
           "textposition": "auto",
           "type": "bar",
           "x": [
            "Electric Power Consumption"
           ],
           "xaxis": "x",
           "y": {
            "bdata": "AA==",
            "dtype": "i1"
           },
           "yaxis": "y"
          }
         ],
         "name": "2010-09"
        },
        {
         "data": [
          {
           "hovertemplate": "Process Type=%{x}<br>month_period_str=2010-10<br>Cumulative Count=%{y}<extra></extra>",
           "legendgroup": "Commercial Consumption",
           "marker": {
            "color": "#636efa",
            "pattern": {
             "shape": ""
            }
           },
           "name": "Commercial Consumption",
           "orientation": "v",
           "showlegend": true,
           "textposition": "auto",
           "type": "bar",
           "x": [
            "Commercial Consumption"
           ],
           "xaxis": "x",
           "y": {
            "bdata": "Cg==",
            "dtype": "i1"
           },
           "yaxis": "y"
          },
          {
           "hovertemplate": "Process Type=%{x}<br>month_period_str=2010-10<br>Cumulative Count=%{y}<extra></extra>",
           "legendgroup": "Delivered to Consumers",
           "marker": {
            "color": "#EF553B",
            "pattern": {
             "shape": ""
            }
           },
           "name": "Delivered to Consumers",
           "orientation": "v",
           "showlegend": true,
           "textposition": "auto",
           "type": "bar",
           "x": [
            "Delivered to Consumers"
           ],
           "xaxis": "x",
           "y": {
            "bdata": "Cg==",
            "dtype": "i1"
           },
           "yaxis": "y"
          },
          {
           "hovertemplate": "Process Type=%{x}<br>month_period_str=2010-10<br>Cumulative Count=%{y}<extra></extra>",
           "legendgroup": "Industrial Consumption",
           "marker": {
            "color": "#00cc96",
            "pattern": {
             "shape": ""
            }
           },
           "name": "Industrial Consumption",
           "orientation": "v",
           "showlegend": true,
           "textposition": "auto",
           "type": "bar",
           "x": [
            "Industrial Consumption"
           ],
           "xaxis": "x",
           "y": {
            "bdata": "Cg==",
            "dtype": "i1"
           },
           "yaxis": "y"
          },
          {
           "hovertemplate": "Process Type=%{x}<br>month_period_str=2010-10<br>Cumulative Count=%{y}<extra></extra>",
           "legendgroup": "Residential Consumption",
           "marker": {
            "color": "#ab63fa",
            "pattern": {
             "shape": ""
            }
           },
           "name": "Residential Consumption",
           "orientation": "v",
           "showlegend": true,
           "textposition": "auto",
           "type": "bar",
           "x": [
            "Residential Consumption"
           ],
           "xaxis": "x",
           "y": {
            "bdata": "Cg==",
            "dtype": "i1"
           },
           "yaxis": "y"
          },
          {
           "hovertemplate": "Process Type=%{x}<br>month_period_str=2010-10<br>Cumulative Count=%{y}<extra></extra>",
           "legendgroup": "Vehicle Fuel Consumption",
           "marker": {
            "color": "#FFA15A",
            "pattern": {
             "shape": ""
            }
           },
           "name": "Vehicle Fuel Consumption",
           "orientation": "v",
           "showlegend": true,
           "textposition": "auto",
           "type": "bar",
           "x": [
            "Vehicle Fuel Consumption"
           ],
           "xaxis": "x",
           "y": {
            "bdata": "Cg==",
            "dtype": "i1"
           },
           "yaxis": "y"
          },
          {
           "hovertemplate": "Process Type=%{x}<br>month_period_str=2010-10<br>Cumulative Count=%{y}<extra></extra>",
           "legendgroup": "Electric Power Consumption",
           "marker": {
            "color": "#19d3f3",
            "pattern": {
             "shape": ""
            }
           },
           "name": "Electric Power Consumption",
           "orientation": "v",
           "showlegend": true,
           "textposition": "auto",
           "type": "bar",
           "x": [
            "Electric Power Consumption"
           ],
           "xaxis": "x",
           "y": {
            "bdata": "AA==",
            "dtype": "i1"
           },
           "yaxis": "y"
          }
         ],
         "name": "2010-10"
        },
        {
         "data": [
          {
           "hovertemplate": "Process Type=%{x}<br>month_period_str=2010-11<br>Cumulative Count=%{y}<extra></extra>",
           "legendgroup": "Commercial Consumption",
           "marker": {
            "color": "#636efa",
            "pattern": {
             "shape": ""
            }
           },
           "name": "Commercial Consumption",
           "orientation": "v",
           "showlegend": true,
           "textposition": "auto",
           "type": "bar",
           "x": [
            "Commercial Consumption"
           ],
           "xaxis": "x",
           "y": {
            "bdata": "Cw==",
            "dtype": "i1"
           },
           "yaxis": "y"
          },
          {
           "hovertemplate": "Process Type=%{x}<br>month_period_str=2010-11<br>Cumulative Count=%{y}<extra></extra>",
           "legendgroup": "Delivered to Consumers",
           "marker": {
            "color": "#EF553B",
            "pattern": {
             "shape": ""
            }
           },
           "name": "Delivered to Consumers",
           "orientation": "v",
           "showlegend": true,
           "textposition": "auto",
           "type": "bar",
           "x": [
            "Delivered to Consumers"
           ],
           "xaxis": "x",
           "y": {
            "bdata": "Cw==",
            "dtype": "i1"
           },
           "yaxis": "y"
          },
          {
           "hovertemplate": "Process Type=%{x}<br>month_period_str=2010-11<br>Cumulative Count=%{y}<extra></extra>",
           "legendgroup": "Industrial Consumption",
           "marker": {
            "color": "#00cc96",
            "pattern": {
             "shape": ""
            }
           },
           "name": "Industrial Consumption",
           "orientation": "v",
           "showlegend": true,
           "textposition": "auto",
           "type": "bar",
           "x": [
            "Industrial Consumption"
           ],
           "xaxis": "x",
           "y": {
            "bdata": "Cw==",
            "dtype": "i1"
           },
           "yaxis": "y"
          },
          {
           "hovertemplate": "Process Type=%{x}<br>month_period_str=2010-11<br>Cumulative Count=%{y}<extra></extra>",
           "legendgroup": "Residential Consumption",
           "marker": {
            "color": "#ab63fa",
            "pattern": {
             "shape": ""
            }
           },
           "name": "Residential Consumption",
           "orientation": "v",
           "showlegend": true,
           "textposition": "auto",
           "type": "bar",
           "x": [
            "Residential Consumption"
           ],
           "xaxis": "x",
           "y": {
            "bdata": "Cw==",
            "dtype": "i1"
           },
           "yaxis": "y"
          },
          {
           "hovertemplate": "Process Type=%{x}<br>month_period_str=2010-11<br>Cumulative Count=%{y}<extra></extra>",
           "legendgroup": "Vehicle Fuel Consumption",
           "marker": {
            "color": "#FFA15A",
            "pattern": {
             "shape": ""
            }
           },
           "name": "Vehicle Fuel Consumption",
           "orientation": "v",
           "showlegend": true,
           "textposition": "auto",
           "type": "bar",
           "x": [
            "Vehicle Fuel Consumption"
           ],
           "xaxis": "x",
           "y": {
            "bdata": "Cw==",
            "dtype": "i1"
           },
           "yaxis": "y"
          },
          {
           "hovertemplate": "Process Type=%{x}<br>month_period_str=2010-11<br>Cumulative Count=%{y}<extra></extra>",
           "legendgroup": "Electric Power Consumption",
           "marker": {
            "color": "#19d3f3",
            "pattern": {
             "shape": ""
            }
           },
           "name": "Electric Power Consumption",
           "orientation": "v",
           "showlegend": true,
           "textposition": "auto",
           "type": "bar",
           "x": [
            "Electric Power Consumption"
           ],
           "xaxis": "x",
           "y": {
            "bdata": "AA==",
            "dtype": "i1"
           },
           "yaxis": "y"
          }
         ],
         "name": "2010-11"
        },
        {
         "data": [
          {
           "hovertemplate": "Process Type=%{x}<br>month_period_str=2010-12<br>Cumulative Count=%{y}<extra></extra>",
           "legendgroup": "Commercial Consumption",
           "marker": {
            "color": "#636efa",
            "pattern": {
             "shape": ""
            }
           },
           "name": "Commercial Consumption",
           "orientation": "v",
           "showlegend": true,
           "textposition": "auto",
           "type": "bar",
           "x": [
            "Commercial Consumption"
           ],
           "xaxis": "x",
           "y": {
            "bdata": "DA==",
            "dtype": "i1"
           },
           "yaxis": "y"
          },
          {
           "hovertemplate": "Process Type=%{x}<br>month_period_str=2010-12<br>Cumulative Count=%{y}<extra></extra>",
           "legendgroup": "Delivered to Consumers",
           "marker": {
            "color": "#EF553B",
            "pattern": {
             "shape": ""
            }
           },
           "name": "Delivered to Consumers",
           "orientation": "v",
           "showlegend": true,
           "textposition": "auto",
           "type": "bar",
           "x": [
            "Delivered to Consumers"
           ],
           "xaxis": "x",
           "y": {
            "bdata": "DA==",
            "dtype": "i1"
           },
           "yaxis": "y"
          },
          {
           "hovertemplate": "Process Type=%{x}<br>month_period_str=2010-12<br>Cumulative Count=%{y}<extra></extra>",
           "legendgroup": "Industrial Consumption",
           "marker": {
            "color": "#00cc96",
            "pattern": {
             "shape": ""
            }
           },
           "name": "Industrial Consumption",
           "orientation": "v",
           "showlegend": true,
           "textposition": "auto",
           "type": "bar",
           "x": [
            "Industrial Consumption"
           ],
           "xaxis": "x",
           "y": {
            "bdata": "DA==",
            "dtype": "i1"
           },
           "yaxis": "y"
          },
          {
           "hovertemplate": "Process Type=%{x}<br>month_period_str=2010-12<br>Cumulative Count=%{y}<extra></extra>",
           "legendgroup": "Residential Consumption",
           "marker": {
            "color": "#ab63fa",
            "pattern": {
             "shape": ""
            }
           },
           "name": "Residential Consumption",
           "orientation": "v",
           "showlegend": true,
           "textposition": "auto",
           "type": "bar",
           "x": [
            "Residential Consumption"
           ],
           "xaxis": "x",
           "y": {
            "bdata": "DA==",
            "dtype": "i1"
           },
           "yaxis": "y"
          },
          {
           "hovertemplate": "Process Type=%{x}<br>month_period_str=2010-12<br>Cumulative Count=%{y}<extra></extra>",
           "legendgroup": "Vehicle Fuel Consumption",
           "marker": {
            "color": "#FFA15A",
            "pattern": {
             "shape": ""
            }
           },
           "name": "Vehicle Fuel Consumption",
           "orientation": "v",
           "showlegend": true,
           "textposition": "auto",
           "type": "bar",
           "x": [
            "Vehicle Fuel Consumption"
           ],
           "xaxis": "x",
           "y": {
            "bdata": "DA==",
            "dtype": "i1"
           },
           "yaxis": "y"
          },
          {
           "hovertemplate": "Process Type=%{x}<br>month_period_str=2010-12<br>Cumulative Count=%{y}<extra></extra>",
           "legendgroup": "Electric Power Consumption",
           "marker": {
            "color": "#19d3f3",
            "pattern": {
             "shape": ""
            }
           },
           "name": "Electric Power Consumption",
           "orientation": "v",
           "showlegend": true,
           "textposition": "auto",
           "type": "bar",
           "x": [
            "Electric Power Consumption"
           ],
           "xaxis": "x",
           "y": {
            "bdata": "AA==",
            "dtype": "i1"
           },
           "yaxis": "y"
          }
         ],
         "name": "2010-12"
        },
        {
         "data": [
          {
           "hovertemplate": "Process Type=%{x}<br>month_period_str=2011-01<br>Cumulative Count=%{y}<extra></extra>",
           "legendgroup": "Commercial Consumption",
           "marker": {
            "color": "#636efa",
            "pattern": {
             "shape": ""
            }
           },
           "name": "Commercial Consumption",
           "orientation": "v",
           "showlegend": true,
           "textposition": "auto",
           "type": "bar",
           "x": [
            "Commercial Consumption"
           ],
           "xaxis": "x",
           "y": {
            "bdata": "DQ==",
            "dtype": "i1"
           },
           "yaxis": "y"
          },
          {
           "hovertemplate": "Process Type=%{x}<br>month_period_str=2011-01<br>Cumulative Count=%{y}<extra></extra>",
           "legendgroup": "Delivered to Consumers",
           "marker": {
            "color": "#EF553B",
            "pattern": {
             "shape": ""
            }
           },
           "name": "Delivered to Consumers",
           "orientation": "v",
           "showlegend": true,
           "textposition": "auto",
           "type": "bar",
           "x": [
            "Delivered to Consumers"
           ],
           "xaxis": "x",
           "y": {
            "bdata": "DQ==",
            "dtype": "i1"
           },
           "yaxis": "y"
          },
          {
           "hovertemplate": "Process Type=%{x}<br>month_period_str=2011-01<br>Cumulative Count=%{y}<extra></extra>",
           "legendgroup": "Industrial Consumption",
           "marker": {
            "color": "#00cc96",
            "pattern": {
             "shape": ""
            }
           },
           "name": "Industrial Consumption",
           "orientation": "v",
           "showlegend": true,
           "textposition": "auto",
           "type": "bar",
           "x": [
            "Industrial Consumption"
           ],
           "xaxis": "x",
           "y": {
            "bdata": "DQ==",
            "dtype": "i1"
           },
           "yaxis": "y"
          },
          {
           "hovertemplate": "Process Type=%{x}<br>month_period_str=2011-01<br>Cumulative Count=%{y}<extra></extra>",
           "legendgroup": "Residential Consumption",
           "marker": {
            "color": "#ab63fa",
            "pattern": {
             "shape": ""
            }
           },
           "name": "Residential Consumption",
           "orientation": "v",
           "showlegend": true,
           "textposition": "auto",
           "type": "bar",
           "x": [
            "Residential Consumption"
           ],
           "xaxis": "x",
           "y": {
            "bdata": "DQ==",
            "dtype": "i1"
           },
           "yaxis": "y"
          },
          {
           "hovertemplate": "Process Type=%{x}<br>month_period_str=2011-01<br>Cumulative Count=%{y}<extra></extra>",
           "legendgroup": "Vehicle Fuel Consumption",
           "marker": {
            "color": "#FFA15A",
            "pattern": {
             "shape": ""
            }
           },
           "name": "Vehicle Fuel Consumption",
           "orientation": "v",
           "showlegend": true,
           "textposition": "auto",
           "type": "bar",
           "x": [
            "Vehicle Fuel Consumption"
           ],
           "xaxis": "x",
           "y": {
            "bdata": "DQ==",
            "dtype": "i1"
           },
           "yaxis": "y"
          },
          {
           "hovertemplate": "Process Type=%{x}<br>month_period_str=2011-01<br>Cumulative Count=%{y}<extra></extra>",
           "legendgroup": "Electric Power Consumption",
           "marker": {
            "color": "#19d3f3",
            "pattern": {
             "shape": ""
            }
           },
           "name": "Electric Power Consumption",
           "orientation": "v",
           "showlegend": true,
           "textposition": "auto",
           "type": "bar",
           "x": [
            "Electric Power Consumption"
           ],
           "xaxis": "x",
           "y": {
            "bdata": "AQ==",
            "dtype": "i1"
           },
           "yaxis": "y"
          }
         ],
         "name": "2011-01"
        },
        {
         "data": [
          {
           "hovertemplate": "Process Type=%{x}<br>month_period_str=2011-02<br>Cumulative Count=%{y}<extra></extra>",
           "legendgroup": "Commercial Consumption",
           "marker": {
            "color": "#636efa",
            "pattern": {
             "shape": ""
            }
           },
           "name": "Commercial Consumption",
           "orientation": "v",
           "showlegend": true,
           "textposition": "auto",
           "type": "bar",
           "x": [
            "Commercial Consumption"
           ],
           "xaxis": "x",
           "y": {
            "bdata": "Dg==",
            "dtype": "i1"
           },
           "yaxis": "y"
          },
          {
           "hovertemplate": "Process Type=%{x}<br>month_period_str=2011-02<br>Cumulative Count=%{y}<extra></extra>",
           "legendgroup": "Delivered to Consumers",
           "marker": {
            "color": "#EF553B",
            "pattern": {
             "shape": ""
            }
           },
           "name": "Delivered to Consumers",
           "orientation": "v",
           "showlegend": true,
           "textposition": "auto",
           "type": "bar",
           "x": [
            "Delivered to Consumers"
           ],
           "xaxis": "x",
           "y": {
            "bdata": "Dg==",
            "dtype": "i1"
           },
           "yaxis": "y"
          },
          {
           "hovertemplate": "Process Type=%{x}<br>month_period_str=2011-02<br>Cumulative Count=%{y}<extra></extra>",
           "legendgroup": "Industrial Consumption",
           "marker": {
            "color": "#00cc96",
            "pattern": {
             "shape": ""
            }
           },
           "name": "Industrial Consumption",
           "orientation": "v",
           "showlegend": true,
           "textposition": "auto",
           "type": "bar",
           "x": [
            "Industrial Consumption"
           ],
           "xaxis": "x",
           "y": {
            "bdata": "Dg==",
            "dtype": "i1"
           },
           "yaxis": "y"
          },
          {
           "hovertemplate": "Process Type=%{x}<br>month_period_str=2011-02<br>Cumulative Count=%{y}<extra></extra>",
           "legendgroup": "Residential Consumption",
           "marker": {
            "color": "#ab63fa",
            "pattern": {
             "shape": ""
            }
           },
           "name": "Residential Consumption",
           "orientation": "v",
           "showlegend": true,
           "textposition": "auto",
           "type": "bar",
           "x": [
            "Residential Consumption"
           ],
           "xaxis": "x",
           "y": {
            "bdata": "Dg==",
            "dtype": "i1"
           },
           "yaxis": "y"
          },
          {
           "hovertemplate": "Process Type=%{x}<br>month_period_str=2011-02<br>Cumulative Count=%{y}<extra></extra>",
           "legendgroup": "Vehicle Fuel Consumption",
           "marker": {
            "color": "#FFA15A",
            "pattern": {
             "shape": ""
            }
           },
           "name": "Vehicle Fuel Consumption",
           "orientation": "v",
           "showlegend": true,
           "textposition": "auto",
           "type": "bar",
           "x": [
            "Vehicle Fuel Consumption"
           ],
           "xaxis": "x",
           "y": {
            "bdata": "Dg==",
            "dtype": "i1"
           },
           "yaxis": "y"
          },
          {
           "hovertemplate": "Process Type=%{x}<br>month_period_str=2011-02<br>Cumulative Count=%{y}<extra></extra>",
           "legendgroup": "Electric Power Consumption",
           "marker": {
            "color": "#19d3f3",
            "pattern": {
             "shape": ""
            }
           },
           "name": "Electric Power Consumption",
           "orientation": "v",
           "showlegend": true,
           "textposition": "auto",
           "type": "bar",
           "x": [
            "Electric Power Consumption"
           ],
           "xaxis": "x",
           "y": {
            "bdata": "Ag==",
            "dtype": "i1"
           },
           "yaxis": "y"
          }
         ],
         "name": "2011-02"
        },
        {
         "data": [
          {
           "hovertemplate": "Process Type=%{x}<br>month_period_str=2011-03<br>Cumulative Count=%{y}<extra></extra>",
           "legendgroup": "Commercial Consumption",
           "marker": {
            "color": "#636efa",
            "pattern": {
             "shape": ""
            }
           },
           "name": "Commercial Consumption",
           "orientation": "v",
           "showlegend": true,
           "textposition": "auto",
           "type": "bar",
           "x": [
            "Commercial Consumption"
           ],
           "xaxis": "x",
           "y": {
            "bdata": "Dw==",
            "dtype": "i1"
           },
           "yaxis": "y"
          },
          {
           "hovertemplate": "Process Type=%{x}<br>month_period_str=2011-03<br>Cumulative Count=%{y}<extra></extra>",
           "legendgroup": "Delivered to Consumers",
           "marker": {
            "color": "#EF553B",
            "pattern": {
             "shape": ""
            }
           },
           "name": "Delivered to Consumers",
           "orientation": "v",
           "showlegend": true,
           "textposition": "auto",
           "type": "bar",
           "x": [
            "Delivered to Consumers"
           ],
           "xaxis": "x",
           "y": {
            "bdata": "Dw==",
            "dtype": "i1"
           },
           "yaxis": "y"
          },
          {
           "hovertemplate": "Process Type=%{x}<br>month_period_str=2011-03<br>Cumulative Count=%{y}<extra></extra>",
           "legendgroup": "Industrial Consumption",
           "marker": {
            "color": "#00cc96",
            "pattern": {
             "shape": ""
            }
           },
           "name": "Industrial Consumption",
           "orientation": "v",
           "showlegend": true,
           "textposition": "auto",
           "type": "bar",
           "x": [
            "Industrial Consumption"
           ],
           "xaxis": "x",
           "y": {
            "bdata": "Dw==",
            "dtype": "i1"
           },
           "yaxis": "y"
          },
          {
           "hovertemplate": "Process Type=%{x}<br>month_period_str=2011-03<br>Cumulative Count=%{y}<extra></extra>",
           "legendgroup": "Residential Consumption",
           "marker": {
            "color": "#ab63fa",
            "pattern": {
             "shape": ""
            }
           },
           "name": "Residential Consumption",
           "orientation": "v",
           "showlegend": true,
           "textposition": "auto",
           "type": "bar",
           "x": [
            "Residential Consumption"
           ],
           "xaxis": "x",
           "y": {
            "bdata": "Dw==",
            "dtype": "i1"
           },
           "yaxis": "y"
          },
          {
           "hovertemplate": "Process Type=%{x}<br>month_period_str=2011-03<br>Cumulative Count=%{y}<extra></extra>",
           "legendgroup": "Vehicle Fuel Consumption",
           "marker": {
            "color": "#FFA15A",
            "pattern": {
             "shape": ""
            }
           },
           "name": "Vehicle Fuel Consumption",
           "orientation": "v",
           "showlegend": true,
           "textposition": "auto",
           "type": "bar",
           "x": [
            "Vehicle Fuel Consumption"
           ],
           "xaxis": "x",
           "y": {
            "bdata": "Dw==",
            "dtype": "i1"
           },
           "yaxis": "y"
          },
          {
           "hovertemplate": "Process Type=%{x}<br>month_period_str=2011-03<br>Cumulative Count=%{y}<extra></extra>",
           "legendgroup": "Electric Power Consumption",
           "marker": {
            "color": "#19d3f3",
            "pattern": {
             "shape": ""
            }
           },
           "name": "Electric Power Consumption",
           "orientation": "v",
           "showlegend": true,
           "textposition": "auto",
           "type": "bar",
           "x": [
            "Electric Power Consumption"
           ],
           "xaxis": "x",
           "y": {
            "bdata": "Aw==",
            "dtype": "i1"
           },
           "yaxis": "y"
          }
         ],
         "name": "2011-03"
        },
        {
         "data": [
          {
           "hovertemplate": "Process Type=%{x}<br>month_period_str=2011-04<br>Cumulative Count=%{y}<extra></extra>",
           "legendgroup": "Commercial Consumption",
           "marker": {
            "color": "#636efa",
            "pattern": {
             "shape": ""
            }
           },
           "name": "Commercial Consumption",
           "orientation": "v",
           "showlegend": true,
           "textposition": "auto",
           "type": "bar",
           "x": [
            "Commercial Consumption"
           ],
           "xaxis": "x",
           "y": {
            "bdata": "EA==",
            "dtype": "i1"
           },
           "yaxis": "y"
          },
          {
           "hovertemplate": "Process Type=%{x}<br>month_period_str=2011-04<br>Cumulative Count=%{y}<extra></extra>",
           "legendgroup": "Delivered to Consumers",
           "marker": {
            "color": "#EF553B",
            "pattern": {
             "shape": ""
            }
           },
           "name": "Delivered to Consumers",
           "orientation": "v",
           "showlegend": true,
           "textposition": "auto",
           "type": "bar",
           "x": [
            "Delivered to Consumers"
           ],
           "xaxis": "x",
           "y": {
            "bdata": "EA==",
            "dtype": "i1"
           },
           "yaxis": "y"
          },
          {
           "hovertemplate": "Process Type=%{x}<br>month_period_str=2011-04<br>Cumulative Count=%{y}<extra></extra>",
           "legendgroup": "Industrial Consumption",
           "marker": {
            "color": "#00cc96",
            "pattern": {
             "shape": ""
            }
           },
           "name": "Industrial Consumption",
           "orientation": "v",
           "showlegend": true,
           "textposition": "auto",
           "type": "bar",
           "x": [
            "Industrial Consumption"
           ],
           "xaxis": "x",
           "y": {
            "bdata": "EA==",
            "dtype": "i1"
           },
           "yaxis": "y"
          },
          {
           "hovertemplate": "Process Type=%{x}<br>month_period_str=2011-04<br>Cumulative Count=%{y}<extra></extra>",
           "legendgroup": "Residential Consumption",
           "marker": {
            "color": "#ab63fa",
            "pattern": {
             "shape": ""
            }
           },
           "name": "Residential Consumption",
           "orientation": "v",
           "showlegend": true,
           "textposition": "auto",
           "type": "bar",
           "x": [
            "Residential Consumption"
           ],
           "xaxis": "x",
           "y": {
            "bdata": "EA==",
            "dtype": "i1"
           },
           "yaxis": "y"
          },
          {
           "hovertemplate": "Process Type=%{x}<br>month_period_str=2011-04<br>Cumulative Count=%{y}<extra></extra>",
           "legendgroup": "Vehicle Fuel Consumption",
           "marker": {
            "color": "#FFA15A",
            "pattern": {
             "shape": ""
            }
           },
           "name": "Vehicle Fuel Consumption",
           "orientation": "v",
           "showlegend": true,
           "textposition": "auto",
           "type": "bar",
           "x": [
            "Vehicle Fuel Consumption"
           ],
           "xaxis": "x",
           "y": {
            "bdata": "EA==",
            "dtype": "i1"
           },
           "yaxis": "y"
          },
          {
           "hovertemplate": "Process Type=%{x}<br>month_period_str=2011-04<br>Cumulative Count=%{y}<extra></extra>",
           "legendgroup": "Electric Power Consumption",
           "marker": {
            "color": "#19d3f3",
            "pattern": {
             "shape": ""
            }
           },
           "name": "Electric Power Consumption",
           "orientation": "v",
           "showlegend": true,
           "textposition": "auto",
           "type": "bar",
           "x": [
            "Electric Power Consumption"
           ],
           "xaxis": "x",
           "y": {
            "bdata": "BA==",
            "dtype": "i1"
           },
           "yaxis": "y"
          }
         ],
         "name": "2011-04"
        },
        {
         "data": [
          {
           "hovertemplate": "Process Type=%{x}<br>month_period_str=2011-05<br>Cumulative Count=%{y}<extra></extra>",
           "legendgroup": "Commercial Consumption",
           "marker": {
            "color": "#636efa",
            "pattern": {
             "shape": ""
            }
           },
           "name": "Commercial Consumption",
           "orientation": "v",
           "showlegend": true,
           "textposition": "auto",
           "type": "bar",
           "x": [
            "Commercial Consumption"
           ],
           "xaxis": "x",
           "y": {
            "bdata": "EQ==",
            "dtype": "i1"
           },
           "yaxis": "y"
          },
          {
           "hovertemplate": "Process Type=%{x}<br>month_period_str=2011-05<br>Cumulative Count=%{y}<extra></extra>",
           "legendgroup": "Delivered to Consumers",
           "marker": {
            "color": "#EF553B",
            "pattern": {
             "shape": ""
            }
           },
           "name": "Delivered to Consumers",
           "orientation": "v",
           "showlegend": true,
           "textposition": "auto",
           "type": "bar",
           "x": [
            "Delivered to Consumers"
           ],
           "xaxis": "x",
           "y": {
            "bdata": "EQ==",
            "dtype": "i1"
           },
           "yaxis": "y"
          },
          {
           "hovertemplate": "Process Type=%{x}<br>month_period_str=2011-05<br>Cumulative Count=%{y}<extra></extra>",
           "legendgroup": "Industrial Consumption",
           "marker": {
            "color": "#00cc96",
            "pattern": {
             "shape": ""
            }
           },
           "name": "Industrial Consumption",
           "orientation": "v",
           "showlegend": true,
           "textposition": "auto",
           "type": "bar",
           "x": [
            "Industrial Consumption"
           ],
           "xaxis": "x",
           "y": {
            "bdata": "EQ==",
            "dtype": "i1"
           },
           "yaxis": "y"
          },
          {
           "hovertemplate": "Process Type=%{x}<br>month_period_str=2011-05<br>Cumulative Count=%{y}<extra></extra>",
           "legendgroup": "Residential Consumption",
           "marker": {
            "color": "#ab63fa",
            "pattern": {
             "shape": ""
            }
           },
           "name": "Residential Consumption",
           "orientation": "v",
           "showlegend": true,
           "textposition": "auto",
           "type": "bar",
           "x": [
            "Residential Consumption"
           ],
           "xaxis": "x",
           "y": {
            "bdata": "EQ==",
            "dtype": "i1"
           },
           "yaxis": "y"
          },
          {
           "hovertemplate": "Process Type=%{x}<br>month_period_str=2011-05<br>Cumulative Count=%{y}<extra></extra>",
           "legendgroup": "Vehicle Fuel Consumption",
           "marker": {
            "color": "#FFA15A",
            "pattern": {
             "shape": ""
            }
           },
           "name": "Vehicle Fuel Consumption",
           "orientation": "v",
           "showlegend": true,
           "textposition": "auto",
           "type": "bar",
           "x": [
            "Vehicle Fuel Consumption"
           ],
           "xaxis": "x",
           "y": {
            "bdata": "EQ==",
            "dtype": "i1"
           },
           "yaxis": "y"
          },
          {
           "hovertemplate": "Process Type=%{x}<br>month_period_str=2011-05<br>Cumulative Count=%{y}<extra></extra>",
           "legendgroup": "Electric Power Consumption",
           "marker": {
            "color": "#19d3f3",
            "pattern": {
             "shape": ""
            }
           },
           "name": "Electric Power Consumption",
           "orientation": "v",
           "showlegend": true,
           "textposition": "auto",
           "type": "bar",
           "x": [
            "Electric Power Consumption"
           ],
           "xaxis": "x",
           "y": {
            "bdata": "BQ==",
            "dtype": "i1"
           },
           "yaxis": "y"
          }
         ],
         "name": "2011-05"
        },
        {
         "data": [
          {
           "hovertemplate": "Process Type=%{x}<br>month_period_str=2011-06<br>Cumulative Count=%{y}<extra></extra>",
           "legendgroup": "Commercial Consumption",
           "marker": {
            "color": "#636efa",
            "pattern": {
             "shape": ""
            }
           },
           "name": "Commercial Consumption",
           "orientation": "v",
           "showlegend": true,
           "textposition": "auto",
           "type": "bar",
           "x": [
            "Commercial Consumption"
           ],
           "xaxis": "x",
           "y": {
            "bdata": "Eg==",
            "dtype": "i1"
           },
           "yaxis": "y"
          },
          {
           "hovertemplate": "Process Type=%{x}<br>month_period_str=2011-06<br>Cumulative Count=%{y}<extra></extra>",
           "legendgroup": "Delivered to Consumers",
           "marker": {
            "color": "#EF553B",
            "pattern": {
             "shape": ""
            }
           },
           "name": "Delivered to Consumers",
           "orientation": "v",
           "showlegend": true,
           "textposition": "auto",
           "type": "bar",
           "x": [
            "Delivered to Consumers"
           ],
           "xaxis": "x",
           "y": {
            "bdata": "Eg==",
            "dtype": "i1"
           },
           "yaxis": "y"
          },
          {
           "hovertemplate": "Process Type=%{x}<br>month_period_str=2011-06<br>Cumulative Count=%{y}<extra></extra>",
           "legendgroup": "Industrial Consumption",
           "marker": {
            "color": "#00cc96",
            "pattern": {
             "shape": ""
            }
           },
           "name": "Industrial Consumption",
           "orientation": "v",
           "showlegend": true,
           "textposition": "auto",
           "type": "bar",
           "x": [
            "Industrial Consumption"
           ],
           "xaxis": "x",
           "y": {
            "bdata": "Eg==",
            "dtype": "i1"
           },
           "yaxis": "y"
          },
          {
           "hovertemplate": "Process Type=%{x}<br>month_period_str=2011-06<br>Cumulative Count=%{y}<extra></extra>",
           "legendgroup": "Residential Consumption",
           "marker": {
            "color": "#ab63fa",
            "pattern": {
             "shape": ""
            }
           },
           "name": "Residential Consumption",
           "orientation": "v",
           "showlegend": true,
           "textposition": "auto",
           "type": "bar",
           "x": [
            "Residential Consumption"
           ],
           "xaxis": "x",
           "y": {
            "bdata": "Eg==",
            "dtype": "i1"
           },
           "yaxis": "y"
          },
          {
           "hovertemplate": "Process Type=%{x}<br>month_period_str=2011-06<br>Cumulative Count=%{y}<extra></extra>",
           "legendgroup": "Vehicle Fuel Consumption",
           "marker": {
            "color": "#FFA15A",
            "pattern": {
             "shape": ""
            }
           },
           "name": "Vehicle Fuel Consumption",
           "orientation": "v",
           "showlegend": true,
           "textposition": "auto",
           "type": "bar",
           "x": [
            "Vehicle Fuel Consumption"
           ],
           "xaxis": "x",
           "y": {
            "bdata": "Eg==",
            "dtype": "i1"
           },
           "yaxis": "y"
          },
          {
           "hovertemplate": "Process Type=%{x}<br>month_period_str=2011-06<br>Cumulative Count=%{y}<extra></extra>",
           "legendgroup": "Electric Power Consumption",
           "marker": {
            "color": "#19d3f3",
            "pattern": {
             "shape": ""
            }
           },
           "name": "Electric Power Consumption",
           "orientation": "v",
           "showlegend": true,
           "textposition": "auto",
           "type": "bar",
           "x": [
            "Electric Power Consumption"
           ],
           "xaxis": "x",
           "y": {
            "bdata": "Bg==",
            "dtype": "i1"
           },
           "yaxis": "y"
          }
         ],
         "name": "2011-06"
        },
        {
         "data": [
          {
           "hovertemplate": "Process Type=%{x}<br>month_period_str=2011-07<br>Cumulative Count=%{y}<extra></extra>",
           "legendgroup": "Commercial Consumption",
           "marker": {
            "color": "#636efa",
            "pattern": {
             "shape": ""
            }
           },
           "name": "Commercial Consumption",
           "orientation": "v",
           "showlegend": true,
           "textposition": "auto",
           "type": "bar",
           "x": [
            "Commercial Consumption"
           ],
           "xaxis": "x",
           "y": {
            "bdata": "Ew==",
            "dtype": "i1"
           },
           "yaxis": "y"
          },
          {
           "hovertemplate": "Process Type=%{x}<br>month_period_str=2011-07<br>Cumulative Count=%{y}<extra></extra>",
           "legendgroup": "Delivered to Consumers",
           "marker": {
            "color": "#EF553B",
            "pattern": {
             "shape": ""
            }
           },
           "name": "Delivered to Consumers",
           "orientation": "v",
           "showlegend": true,
           "textposition": "auto",
           "type": "bar",
           "x": [
            "Delivered to Consumers"
           ],
           "xaxis": "x",
           "y": {
            "bdata": "Ew==",
            "dtype": "i1"
           },
           "yaxis": "y"
          },
          {
           "hovertemplate": "Process Type=%{x}<br>month_period_str=2011-07<br>Cumulative Count=%{y}<extra></extra>",
           "legendgroup": "Industrial Consumption",
           "marker": {
            "color": "#00cc96",
            "pattern": {
             "shape": ""
            }
           },
           "name": "Industrial Consumption",
           "orientation": "v",
           "showlegend": true,
           "textposition": "auto",
           "type": "bar",
           "x": [
            "Industrial Consumption"
           ],
           "xaxis": "x",
           "y": {
            "bdata": "Ew==",
            "dtype": "i1"
           },
           "yaxis": "y"
          },
          {
           "hovertemplate": "Process Type=%{x}<br>month_period_str=2011-07<br>Cumulative Count=%{y}<extra></extra>",
           "legendgroup": "Residential Consumption",
           "marker": {
            "color": "#ab63fa",
            "pattern": {
             "shape": ""
            }
           },
           "name": "Residential Consumption",
           "orientation": "v",
           "showlegend": true,
           "textposition": "auto",
           "type": "bar",
           "x": [
            "Residential Consumption"
           ],
           "xaxis": "x",
           "y": {
            "bdata": "Ew==",
            "dtype": "i1"
           },
           "yaxis": "y"
          },
          {
           "hovertemplate": "Process Type=%{x}<br>month_period_str=2011-07<br>Cumulative Count=%{y}<extra></extra>",
           "legendgroup": "Vehicle Fuel Consumption",
           "marker": {
            "color": "#FFA15A",
            "pattern": {
             "shape": ""
            }
           },
           "name": "Vehicle Fuel Consumption",
           "orientation": "v",
           "showlegend": true,
           "textposition": "auto",
           "type": "bar",
           "x": [
            "Vehicle Fuel Consumption"
           ],
           "xaxis": "x",
           "y": {
            "bdata": "Ew==",
            "dtype": "i1"
           },
           "yaxis": "y"
          },
          {
           "hovertemplate": "Process Type=%{x}<br>month_period_str=2011-07<br>Cumulative Count=%{y}<extra></extra>",
           "legendgroup": "Electric Power Consumption",
           "marker": {
            "color": "#19d3f3",
            "pattern": {
             "shape": ""
            }
           },
           "name": "Electric Power Consumption",
           "orientation": "v",
           "showlegend": true,
           "textposition": "auto",
           "type": "bar",
           "x": [
            "Electric Power Consumption"
           ],
           "xaxis": "x",
           "y": {
            "bdata": "Bw==",
            "dtype": "i1"
           },
           "yaxis": "y"
          }
         ],
         "name": "2011-07"
        },
        {
         "data": [
          {
           "hovertemplate": "Process Type=%{x}<br>month_period_str=2011-08<br>Cumulative Count=%{y}<extra></extra>",
           "legendgroup": "Commercial Consumption",
           "marker": {
            "color": "#636efa",
            "pattern": {
             "shape": ""
            }
           },
           "name": "Commercial Consumption",
           "orientation": "v",
           "showlegend": true,
           "textposition": "auto",
           "type": "bar",
           "x": [
            "Commercial Consumption"
           ],
           "xaxis": "x",
           "y": {
            "bdata": "FA==",
            "dtype": "i1"
           },
           "yaxis": "y"
          },
          {
           "hovertemplate": "Process Type=%{x}<br>month_period_str=2011-08<br>Cumulative Count=%{y}<extra></extra>",
           "legendgroup": "Delivered to Consumers",
           "marker": {
            "color": "#EF553B",
            "pattern": {
             "shape": ""
            }
           },
           "name": "Delivered to Consumers",
           "orientation": "v",
           "showlegend": true,
           "textposition": "auto",
           "type": "bar",
           "x": [
            "Delivered to Consumers"
           ],
           "xaxis": "x",
           "y": {
            "bdata": "FA==",
            "dtype": "i1"
           },
           "yaxis": "y"
          },
          {
           "hovertemplate": "Process Type=%{x}<br>month_period_str=2011-08<br>Cumulative Count=%{y}<extra></extra>",
           "legendgroup": "Industrial Consumption",
           "marker": {
            "color": "#00cc96",
            "pattern": {
             "shape": ""
            }
           },
           "name": "Industrial Consumption",
           "orientation": "v",
           "showlegend": true,
           "textposition": "auto",
           "type": "bar",
           "x": [
            "Industrial Consumption"
           ],
           "xaxis": "x",
           "y": {
            "bdata": "FA==",
            "dtype": "i1"
           },
           "yaxis": "y"
          },
          {
           "hovertemplate": "Process Type=%{x}<br>month_period_str=2011-08<br>Cumulative Count=%{y}<extra></extra>",
           "legendgroup": "Residential Consumption",
           "marker": {
            "color": "#ab63fa",
            "pattern": {
             "shape": ""
            }
           },
           "name": "Residential Consumption",
           "orientation": "v",
           "showlegend": true,
           "textposition": "auto",
           "type": "bar",
           "x": [
            "Residential Consumption"
           ],
           "xaxis": "x",
           "y": {
            "bdata": "FA==",
            "dtype": "i1"
           },
           "yaxis": "y"
          },
          {
           "hovertemplate": "Process Type=%{x}<br>month_period_str=2011-08<br>Cumulative Count=%{y}<extra></extra>",
           "legendgroup": "Vehicle Fuel Consumption",
           "marker": {
            "color": "#FFA15A",
            "pattern": {
             "shape": ""
            }
           },
           "name": "Vehicle Fuel Consumption",
           "orientation": "v",
           "showlegend": true,
           "textposition": "auto",
           "type": "bar",
           "x": [
            "Vehicle Fuel Consumption"
           ],
           "xaxis": "x",
           "y": {
            "bdata": "FA==",
            "dtype": "i1"
           },
           "yaxis": "y"
          },
          {
           "hovertemplate": "Process Type=%{x}<br>month_period_str=2011-08<br>Cumulative Count=%{y}<extra></extra>",
           "legendgroup": "Electric Power Consumption",
           "marker": {
            "color": "#19d3f3",
            "pattern": {
             "shape": ""
            }
           },
           "name": "Electric Power Consumption",
           "orientation": "v",
           "showlegend": true,
           "textposition": "auto",
           "type": "bar",
           "x": [
            "Electric Power Consumption"
           ],
           "xaxis": "x",
           "y": {
            "bdata": "CA==",
            "dtype": "i1"
           },
           "yaxis": "y"
          }
         ],
         "name": "2011-08"
        },
        {
         "data": [
          {
           "hovertemplate": "Process Type=%{x}<br>month_period_str=2011-09<br>Cumulative Count=%{y}<extra></extra>",
           "legendgroup": "Commercial Consumption",
           "marker": {
            "color": "#636efa",
            "pattern": {
             "shape": ""
            }
           },
           "name": "Commercial Consumption",
           "orientation": "v",
           "showlegend": true,
           "textposition": "auto",
           "type": "bar",
           "x": [
            "Commercial Consumption"
           ],
           "xaxis": "x",
           "y": {
            "bdata": "FQ==",
            "dtype": "i1"
           },
           "yaxis": "y"
          },
          {
           "hovertemplate": "Process Type=%{x}<br>month_period_str=2011-09<br>Cumulative Count=%{y}<extra></extra>",
           "legendgroup": "Delivered to Consumers",
           "marker": {
            "color": "#EF553B",
            "pattern": {
             "shape": ""
            }
           },
           "name": "Delivered to Consumers",
           "orientation": "v",
           "showlegend": true,
           "textposition": "auto",
           "type": "bar",
           "x": [
            "Delivered to Consumers"
           ],
           "xaxis": "x",
           "y": {
            "bdata": "FQ==",
            "dtype": "i1"
           },
           "yaxis": "y"
          },
          {
           "hovertemplate": "Process Type=%{x}<br>month_period_str=2011-09<br>Cumulative Count=%{y}<extra></extra>",
           "legendgroup": "Industrial Consumption",
           "marker": {
            "color": "#00cc96",
            "pattern": {
             "shape": ""
            }
           },
           "name": "Industrial Consumption",
           "orientation": "v",
           "showlegend": true,
           "textposition": "auto",
           "type": "bar",
           "x": [
            "Industrial Consumption"
           ],
           "xaxis": "x",
           "y": {
            "bdata": "FQ==",
            "dtype": "i1"
           },
           "yaxis": "y"
          },
          {
           "hovertemplate": "Process Type=%{x}<br>month_period_str=2011-09<br>Cumulative Count=%{y}<extra></extra>",
           "legendgroup": "Residential Consumption",
           "marker": {
            "color": "#ab63fa",
            "pattern": {
             "shape": ""
            }
           },
           "name": "Residential Consumption",
           "orientation": "v",
           "showlegend": true,
           "textposition": "auto",
           "type": "bar",
           "x": [
            "Residential Consumption"
           ],
           "xaxis": "x",
           "y": {
            "bdata": "FQ==",
            "dtype": "i1"
           },
           "yaxis": "y"
          },
          {
           "hovertemplate": "Process Type=%{x}<br>month_period_str=2011-09<br>Cumulative Count=%{y}<extra></extra>",
           "legendgroup": "Vehicle Fuel Consumption",
           "marker": {
            "color": "#FFA15A",
            "pattern": {
             "shape": ""
            }
           },
           "name": "Vehicle Fuel Consumption",
           "orientation": "v",
           "showlegend": true,
           "textposition": "auto",
           "type": "bar",
           "x": [
            "Vehicle Fuel Consumption"
           ],
           "xaxis": "x",
           "y": {
            "bdata": "FQ==",
            "dtype": "i1"
           },
           "yaxis": "y"
          },
          {
           "hovertemplate": "Process Type=%{x}<br>month_period_str=2011-09<br>Cumulative Count=%{y}<extra></extra>",
           "legendgroup": "Electric Power Consumption",
           "marker": {
            "color": "#19d3f3",
            "pattern": {
             "shape": ""
            }
           },
           "name": "Electric Power Consumption",
           "orientation": "v",
           "showlegend": true,
           "textposition": "auto",
           "type": "bar",
           "x": [
            "Electric Power Consumption"
           ],
           "xaxis": "x",
           "y": {
            "bdata": "CQ==",
            "dtype": "i1"
           },
           "yaxis": "y"
          }
         ],
         "name": "2011-09"
        },
        {
         "data": [
          {
           "hovertemplate": "Process Type=%{x}<br>month_period_str=2011-10<br>Cumulative Count=%{y}<extra></extra>",
           "legendgroup": "Commercial Consumption",
           "marker": {
            "color": "#636efa",
            "pattern": {
             "shape": ""
            }
           },
           "name": "Commercial Consumption",
           "orientation": "v",
           "showlegend": true,
           "textposition": "auto",
           "type": "bar",
           "x": [
            "Commercial Consumption"
           ],
           "xaxis": "x",
           "y": {
            "bdata": "Fg==",
            "dtype": "i1"
           },
           "yaxis": "y"
          },
          {
           "hovertemplate": "Process Type=%{x}<br>month_period_str=2011-10<br>Cumulative Count=%{y}<extra></extra>",
           "legendgroup": "Delivered to Consumers",
           "marker": {
            "color": "#EF553B",
            "pattern": {
             "shape": ""
            }
           },
           "name": "Delivered to Consumers",
           "orientation": "v",
           "showlegend": true,
           "textposition": "auto",
           "type": "bar",
           "x": [
            "Delivered to Consumers"
           ],
           "xaxis": "x",
           "y": {
            "bdata": "Fg==",
            "dtype": "i1"
           },
           "yaxis": "y"
          },
          {
           "hovertemplate": "Process Type=%{x}<br>month_period_str=2011-10<br>Cumulative Count=%{y}<extra></extra>",
           "legendgroup": "Industrial Consumption",
           "marker": {
            "color": "#00cc96",
            "pattern": {
             "shape": ""
            }
           },
           "name": "Industrial Consumption",
           "orientation": "v",
           "showlegend": true,
           "textposition": "auto",
           "type": "bar",
           "x": [
            "Industrial Consumption"
           ],
           "xaxis": "x",
           "y": {
            "bdata": "Fg==",
            "dtype": "i1"
           },
           "yaxis": "y"
          },
          {
           "hovertemplate": "Process Type=%{x}<br>month_period_str=2011-10<br>Cumulative Count=%{y}<extra></extra>",
           "legendgroup": "Residential Consumption",
           "marker": {
            "color": "#ab63fa",
            "pattern": {
             "shape": ""
            }
           },
           "name": "Residential Consumption",
           "orientation": "v",
           "showlegend": true,
           "textposition": "auto",
           "type": "bar",
           "x": [
            "Residential Consumption"
           ],
           "xaxis": "x",
           "y": {
            "bdata": "Fg==",
            "dtype": "i1"
           },
           "yaxis": "y"
          },
          {
           "hovertemplate": "Process Type=%{x}<br>month_period_str=2011-10<br>Cumulative Count=%{y}<extra></extra>",
           "legendgroup": "Vehicle Fuel Consumption",
           "marker": {
            "color": "#FFA15A",
            "pattern": {
             "shape": ""
            }
           },
           "name": "Vehicle Fuel Consumption",
           "orientation": "v",
           "showlegend": true,
           "textposition": "auto",
           "type": "bar",
           "x": [
            "Vehicle Fuel Consumption"
           ],
           "xaxis": "x",
           "y": {
            "bdata": "Fg==",
            "dtype": "i1"
           },
           "yaxis": "y"
          },
          {
           "hovertemplate": "Process Type=%{x}<br>month_period_str=2011-10<br>Cumulative Count=%{y}<extra></extra>",
           "legendgroup": "Electric Power Consumption",
           "marker": {
            "color": "#19d3f3",
            "pattern": {
             "shape": ""
            }
           },
           "name": "Electric Power Consumption",
           "orientation": "v",
           "showlegend": true,
           "textposition": "auto",
           "type": "bar",
           "x": [
            "Electric Power Consumption"
           ],
           "xaxis": "x",
           "y": {
            "bdata": "Cg==",
            "dtype": "i1"
           },
           "yaxis": "y"
          }
         ],
         "name": "2011-10"
        },
        {
         "data": [
          {
           "hovertemplate": "Process Type=%{x}<br>month_period_str=2011-11<br>Cumulative Count=%{y}<extra></extra>",
           "legendgroup": "Commercial Consumption",
           "marker": {
            "color": "#636efa",
            "pattern": {
             "shape": ""
            }
           },
           "name": "Commercial Consumption",
           "orientation": "v",
           "showlegend": true,
           "textposition": "auto",
           "type": "bar",
           "x": [
            "Commercial Consumption"
           ],
           "xaxis": "x",
           "y": {
            "bdata": "Fw==",
            "dtype": "i1"
           },
           "yaxis": "y"
          },
          {
           "hovertemplate": "Process Type=%{x}<br>month_period_str=2011-11<br>Cumulative Count=%{y}<extra></extra>",
           "legendgroup": "Delivered to Consumers",
           "marker": {
            "color": "#EF553B",
            "pattern": {
             "shape": ""
            }
           },
           "name": "Delivered to Consumers",
           "orientation": "v",
           "showlegend": true,
           "textposition": "auto",
           "type": "bar",
           "x": [
            "Delivered to Consumers"
           ],
           "xaxis": "x",
           "y": {
            "bdata": "Fw==",
            "dtype": "i1"
           },
           "yaxis": "y"
          },
          {
           "hovertemplate": "Process Type=%{x}<br>month_period_str=2011-11<br>Cumulative Count=%{y}<extra></extra>",
           "legendgroup": "Industrial Consumption",
           "marker": {
            "color": "#00cc96",
            "pattern": {
             "shape": ""
            }
           },
           "name": "Industrial Consumption",
           "orientation": "v",
           "showlegend": true,
           "textposition": "auto",
           "type": "bar",
           "x": [
            "Industrial Consumption"
           ],
           "xaxis": "x",
           "y": {
            "bdata": "Fw==",
            "dtype": "i1"
           },
           "yaxis": "y"
          },
          {
           "hovertemplate": "Process Type=%{x}<br>month_period_str=2011-11<br>Cumulative Count=%{y}<extra></extra>",
           "legendgroup": "Residential Consumption",
           "marker": {
            "color": "#ab63fa",
            "pattern": {
             "shape": ""
            }
           },
           "name": "Residential Consumption",
           "orientation": "v",
           "showlegend": true,
           "textposition": "auto",
           "type": "bar",
           "x": [
            "Residential Consumption"
           ],
           "xaxis": "x",
           "y": {
            "bdata": "Fw==",
            "dtype": "i1"
           },
           "yaxis": "y"
          },
          {
           "hovertemplate": "Process Type=%{x}<br>month_period_str=2011-11<br>Cumulative Count=%{y}<extra></extra>",
           "legendgroup": "Vehicle Fuel Consumption",
           "marker": {
            "color": "#FFA15A",
            "pattern": {
             "shape": ""
            }
           },
           "name": "Vehicle Fuel Consumption",
           "orientation": "v",
           "showlegend": true,
           "textposition": "auto",
           "type": "bar",
           "x": [
            "Vehicle Fuel Consumption"
           ],
           "xaxis": "x",
           "y": {
            "bdata": "Fw==",
            "dtype": "i1"
           },
           "yaxis": "y"
          },
          {
           "hovertemplate": "Process Type=%{x}<br>month_period_str=2011-11<br>Cumulative Count=%{y}<extra></extra>",
           "legendgroup": "Electric Power Consumption",
           "marker": {
            "color": "#19d3f3",
            "pattern": {
             "shape": ""
            }
           },
           "name": "Electric Power Consumption",
           "orientation": "v",
           "showlegend": true,
           "textposition": "auto",
           "type": "bar",
           "x": [
            "Electric Power Consumption"
           ],
           "xaxis": "x",
           "y": {
            "bdata": "Cw==",
            "dtype": "i1"
           },
           "yaxis": "y"
          }
         ],
         "name": "2011-11"
        },
        {
         "data": [
          {
           "hovertemplate": "Process Type=%{x}<br>month_period_str=2011-12<br>Cumulative Count=%{y}<extra></extra>",
           "legendgroup": "Commercial Consumption",
           "marker": {
            "color": "#636efa",
            "pattern": {
             "shape": ""
            }
           },
           "name": "Commercial Consumption",
           "orientation": "v",
           "showlegend": true,
           "textposition": "auto",
           "type": "bar",
           "x": [
            "Commercial Consumption"
           ],
           "xaxis": "x",
           "y": {
            "bdata": "GA==",
            "dtype": "i1"
           },
           "yaxis": "y"
          },
          {
           "hovertemplate": "Process Type=%{x}<br>month_period_str=2011-12<br>Cumulative Count=%{y}<extra></extra>",
           "legendgroup": "Delivered to Consumers",
           "marker": {
            "color": "#EF553B",
            "pattern": {
             "shape": ""
            }
           },
           "name": "Delivered to Consumers",
           "orientation": "v",
           "showlegend": true,
           "textposition": "auto",
           "type": "bar",
           "x": [
            "Delivered to Consumers"
           ],
           "xaxis": "x",
           "y": {
            "bdata": "GA==",
            "dtype": "i1"
           },
           "yaxis": "y"
          },
          {
           "hovertemplate": "Process Type=%{x}<br>month_period_str=2011-12<br>Cumulative Count=%{y}<extra></extra>",
           "legendgroup": "Industrial Consumption",
           "marker": {
            "color": "#00cc96",
            "pattern": {
             "shape": ""
            }
           },
           "name": "Industrial Consumption",
           "orientation": "v",
           "showlegend": true,
           "textposition": "auto",
           "type": "bar",
           "x": [
            "Industrial Consumption"
           ],
           "xaxis": "x",
           "y": {
            "bdata": "GA==",
            "dtype": "i1"
           },
           "yaxis": "y"
          },
          {
           "hovertemplate": "Process Type=%{x}<br>month_period_str=2011-12<br>Cumulative Count=%{y}<extra></extra>",
           "legendgroup": "Residential Consumption",
           "marker": {
            "color": "#ab63fa",
            "pattern": {
             "shape": ""
            }
           },
           "name": "Residential Consumption",
           "orientation": "v",
           "showlegend": true,
           "textposition": "auto",
           "type": "bar",
           "x": [
            "Residential Consumption"
           ],
           "xaxis": "x",
           "y": {
            "bdata": "GA==",
            "dtype": "i1"
           },
           "yaxis": "y"
          },
          {
           "hovertemplate": "Process Type=%{x}<br>month_period_str=2011-12<br>Cumulative Count=%{y}<extra></extra>",
           "legendgroup": "Vehicle Fuel Consumption",
           "marker": {
            "color": "#FFA15A",
            "pattern": {
             "shape": ""
            }
           },
           "name": "Vehicle Fuel Consumption",
           "orientation": "v",
           "showlegend": true,
           "textposition": "auto",
           "type": "bar",
           "x": [
            "Vehicle Fuel Consumption"
           ],
           "xaxis": "x",
           "y": {
            "bdata": "GA==",
            "dtype": "i1"
           },
           "yaxis": "y"
          },
          {
           "hovertemplate": "Process Type=%{x}<br>month_period_str=2011-12<br>Cumulative Count=%{y}<extra></extra>",
           "legendgroup": "Electric Power Consumption",
           "marker": {
            "color": "#19d3f3",
            "pattern": {
             "shape": ""
            }
           },
           "name": "Electric Power Consumption",
           "orientation": "v",
           "showlegend": true,
           "textposition": "auto",
           "type": "bar",
           "x": [
            "Electric Power Consumption"
           ],
           "xaxis": "x",
           "y": {
            "bdata": "DA==",
            "dtype": "i1"
           },
           "yaxis": "y"
          }
         ],
         "name": "2011-12"
        },
        {
         "data": [
          {
           "hovertemplate": "Process Type=%{x}<br>month_period_str=2012-01<br>Cumulative Count=%{y}<extra></extra>",
           "legendgroup": "Commercial Consumption",
           "marker": {
            "color": "#636efa",
            "pattern": {
             "shape": ""
            }
           },
           "name": "Commercial Consumption",
           "orientation": "v",
           "showlegend": true,
           "textposition": "auto",
           "type": "bar",
           "x": [
            "Commercial Consumption"
           ],
           "xaxis": "x",
           "y": {
            "bdata": "GQ==",
            "dtype": "i1"
           },
           "yaxis": "y"
          },
          {
           "hovertemplate": "Process Type=%{x}<br>month_period_str=2012-01<br>Cumulative Count=%{y}<extra></extra>",
           "legendgroup": "Delivered to Consumers",
           "marker": {
            "color": "#EF553B",
            "pattern": {
             "shape": ""
            }
           },
           "name": "Delivered to Consumers",
           "orientation": "v",
           "showlegend": true,
           "textposition": "auto",
           "type": "bar",
           "x": [
            "Delivered to Consumers"
           ],
           "xaxis": "x",
           "y": {
            "bdata": "GQ==",
            "dtype": "i1"
           },
           "yaxis": "y"
          },
          {
           "hovertemplate": "Process Type=%{x}<br>month_period_str=2012-01<br>Cumulative Count=%{y}<extra></extra>",
           "legendgroup": "Industrial Consumption",
           "marker": {
            "color": "#00cc96",
            "pattern": {
             "shape": ""
            }
           },
           "name": "Industrial Consumption",
           "orientation": "v",
           "showlegend": true,
           "textposition": "auto",
           "type": "bar",
           "x": [
            "Industrial Consumption"
           ],
           "xaxis": "x",
           "y": {
            "bdata": "GQ==",
            "dtype": "i1"
           },
           "yaxis": "y"
          },
          {
           "hovertemplate": "Process Type=%{x}<br>month_period_str=2012-01<br>Cumulative Count=%{y}<extra></extra>",
           "legendgroup": "Residential Consumption",
           "marker": {
            "color": "#ab63fa",
            "pattern": {
             "shape": ""
            }
           },
           "name": "Residential Consumption",
           "orientation": "v",
           "showlegend": true,
           "textposition": "auto",
           "type": "bar",
           "x": [
            "Residential Consumption"
           ],
           "xaxis": "x",
           "y": {
            "bdata": "GQ==",
            "dtype": "i1"
           },
           "yaxis": "y"
          },
          {
           "hovertemplate": "Process Type=%{x}<br>month_period_str=2012-01<br>Cumulative Count=%{y}<extra></extra>",
           "legendgroup": "Vehicle Fuel Consumption",
           "marker": {
            "color": "#FFA15A",
            "pattern": {
             "shape": ""
            }
           },
           "name": "Vehicle Fuel Consumption",
           "orientation": "v",
           "showlegend": true,
           "textposition": "auto",
           "type": "bar",
           "x": [
            "Vehicle Fuel Consumption"
           ],
           "xaxis": "x",
           "y": {
            "bdata": "GQ==",
            "dtype": "i1"
           },
           "yaxis": "y"
          },
          {
           "hovertemplate": "Process Type=%{x}<br>month_period_str=2012-01<br>Cumulative Count=%{y}<extra></extra>",
           "legendgroup": "Electric Power Consumption",
           "marker": {
            "color": "#19d3f3",
            "pattern": {
             "shape": ""
            }
           },
           "name": "Electric Power Consumption",
           "orientation": "v",
           "showlegend": true,
           "textposition": "auto",
           "type": "bar",
           "x": [
            "Electric Power Consumption"
           ],
           "xaxis": "x",
           "y": {
            "bdata": "DA==",
            "dtype": "i1"
           },
           "yaxis": "y"
          }
         ],
         "name": "2012-01"
        },
        {
         "data": [
          {
           "hovertemplate": "Process Type=%{x}<br>month_period_str=2012-02<br>Cumulative Count=%{y}<extra></extra>",
           "legendgroup": "Commercial Consumption",
           "marker": {
            "color": "#636efa",
            "pattern": {
             "shape": ""
            }
           },
           "name": "Commercial Consumption",
           "orientation": "v",
           "showlegend": true,
           "textposition": "auto",
           "type": "bar",
           "x": [
            "Commercial Consumption"
           ],
           "xaxis": "x",
           "y": {
            "bdata": "Gg==",
            "dtype": "i1"
           },
           "yaxis": "y"
          },
          {
           "hovertemplate": "Process Type=%{x}<br>month_period_str=2012-02<br>Cumulative Count=%{y}<extra></extra>",
           "legendgroup": "Delivered to Consumers",
           "marker": {
            "color": "#EF553B",
            "pattern": {
             "shape": ""
            }
           },
           "name": "Delivered to Consumers",
           "orientation": "v",
           "showlegend": true,
           "textposition": "auto",
           "type": "bar",
           "x": [
            "Delivered to Consumers"
           ],
           "xaxis": "x",
           "y": {
            "bdata": "Gg==",
            "dtype": "i1"
           },
           "yaxis": "y"
          },
          {
           "hovertemplate": "Process Type=%{x}<br>month_period_str=2012-02<br>Cumulative Count=%{y}<extra></extra>",
           "legendgroup": "Industrial Consumption",
           "marker": {
            "color": "#00cc96",
            "pattern": {
             "shape": ""
            }
           },
           "name": "Industrial Consumption",
           "orientation": "v",
           "showlegend": true,
           "textposition": "auto",
           "type": "bar",
           "x": [
            "Industrial Consumption"
           ],
           "xaxis": "x",
           "y": {
            "bdata": "Gg==",
            "dtype": "i1"
           },
           "yaxis": "y"
          },
          {
           "hovertemplate": "Process Type=%{x}<br>month_period_str=2012-02<br>Cumulative Count=%{y}<extra></extra>",
           "legendgroup": "Residential Consumption",
           "marker": {
            "color": "#ab63fa",
            "pattern": {
             "shape": ""
            }
           },
           "name": "Residential Consumption",
           "orientation": "v",
           "showlegend": true,
           "textposition": "auto",
           "type": "bar",
           "x": [
            "Residential Consumption"
           ],
           "xaxis": "x",
           "y": {
            "bdata": "Gg==",
            "dtype": "i1"
           },
           "yaxis": "y"
          },
          {
           "hovertemplate": "Process Type=%{x}<br>month_period_str=2012-02<br>Cumulative Count=%{y}<extra></extra>",
           "legendgroup": "Vehicle Fuel Consumption",
           "marker": {
            "color": "#FFA15A",
            "pattern": {
             "shape": ""
            }
           },
           "name": "Vehicle Fuel Consumption",
           "orientation": "v",
           "showlegend": true,
           "textposition": "auto",
           "type": "bar",
           "x": [
            "Vehicle Fuel Consumption"
           ],
           "xaxis": "x",
           "y": {
            "bdata": "Gg==",
            "dtype": "i1"
           },
           "yaxis": "y"
          },
          {
           "hovertemplate": "Process Type=%{x}<br>month_period_str=2012-02<br>Cumulative Count=%{y}<extra></extra>",
           "legendgroup": "Electric Power Consumption",
           "marker": {
            "color": "#19d3f3",
            "pattern": {
             "shape": ""
            }
           },
           "name": "Electric Power Consumption",
           "orientation": "v",
           "showlegend": true,
           "textposition": "auto",
           "type": "bar",
           "x": [
            "Electric Power Consumption"
           ],
           "xaxis": "x",
           "y": {
            "bdata": "DA==",
            "dtype": "i1"
           },
           "yaxis": "y"
          }
         ],
         "name": "2012-02"
        },
        {
         "data": [
          {
           "hovertemplate": "Process Type=%{x}<br>month_period_str=2012-03<br>Cumulative Count=%{y}<extra></extra>",
           "legendgroup": "Commercial Consumption",
           "marker": {
            "color": "#636efa",
            "pattern": {
             "shape": ""
            }
           },
           "name": "Commercial Consumption",
           "orientation": "v",
           "showlegend": true,
           "textposition": "auto",
           "type": "bar",
           "x": [
            "Commercial Consumption"
           ],
           "xaxis": "x",
           "y": {
            "bdata": "Gw==",
            "dtype": "i1"
           },
           "yaxis": "y"
          },
          {
           "hovertemplate": "Process Type=%{x}<br>month_period_str=2012-03<br>Cumulative Count=%{y}<extra></extra>",
           "legendgroup": "Delivered to Consumers",
           "marker": {
            "color": "#EF553B",
            "pattern": {
             "shape": ""
            }
           },
           "name": "Delivered to Consumers",
           "orientation": "v",
           "showlegend": true,
           "textposition": "auto",
           "type": "bar",
           "x": [
            "Delivered to Consumers"
           ],
           "xaxis": "x",
           "y": {
            "bdata": "Gw==",
            "dtype": "i1"
           },
           "yaxis": "y"
          },
          {
           "hovertemplate": "Process Type=%{x}<br>month_period_str=2012-03<br>Cumulative Count=%{y}<extra></extra>",
           "legendgroup": "Industrial Consumption",
           "marker": {
            "color": "#00cc96",
            "pattern": {
             "shape": ""
            }
           },
           "name": "Industrial Consumption",
           "orientation": "v",
           "showlegend": true,
           "textposition": "auto",
           "type": "bar",
           "x": [
            "Industrial Consumption"
           ],
           "xaxis": "x",
           "y": {
            "bdata": "Gw==",
            "dtype": "i1"
           },
           "yaxis": "y"
          },
          {
           "hovertemplate": "Process Type=%{x}<br>month_period_str=2012-03<br>Cumulative Count=%{y}<extra></extra>",
           "legendgroup": "Residential Consumption",
           "marker": {
            "color": "#ab63fa",
            "pattern": {
             "shape": ""
            }
           },
           "name": "Residential Consumption",
           "orientation": "v",
           "showlegend": true,
           "textposition": "auto",
           "type": "bar",
           "x": [
            "Residential Consumption"
           ],
           "xaxis": "x",
           "y": {
            "bdata": "Gw==",
            "dtype": "i1"
           },
           "yaxis": "y"
          },
          {
           "hovertemplate": "Process Type=%{x}<br>month_period_str=2012-03<br>Cumulative Count=%{y}<extra></extra>",
           "legendgroup": "Vehicle Fuel Consumption",
           "marker": {
            "color": "#FFA15A",
            "pattern": {
             "shape": ""
            }
           },
           "name": "Vehicle Fuel Consumption",
           "orientation": "v",
           "showlegend": true,
           "textposition": "auto",
           "type": "bar",
           "x": [
            "Vehicle Fuel Consumption"
           ],
           "xaxis": "x",
           "y": {
            "bdata": "Gw==",
            "dtype": "i1"
           },
           "yaxis": "y"
          },
          {
           "hovertemplate": "Process Type=%{x}<br>month_period_str=2012-03<br>Cumulative Count=%{y}<extra></extra>",
           "legendgroup": "Electric Power Consumption",
           "marker": {
            "color": "#19d3f3",
            "pattern": {
             "shape": ""
            }
           },
           "name": "Electric Power Consumption",
           "orientation": "v",
           "showlegend": true,
           "textposition": "auto",
           "type": "bar",
           "x": [
            "Electric Power Consumption"
           ],
           "xaxis": "x",
           "y": {
            "bdata": "DA==",
            "dtype": "i1"
           },
           "yaxis": "y"
          }
         ],
         "name": "2012-03"
        },
        {
         "data": [
          {
           "hovertemplate": "Process Type=%{x}<br>month_period_str=2012-04<br>Cumulative Count=%{y}<extra></extra>",
           "legendgroup": "Commercial Consumption",
           "marker": {
            "color": "#636efa",
            "pattern": {
             "shape": ""
            }
           },
           "name": "Commercial Consumption",
           "orientation": "v",
           "showlegend": true,
           "textposition": "auto",
           "type": "bar",
           "x": [
            "Commercial Consumption"
           ],
           "xaxis": "x",
           "y": {
            "bdata": "HA==",
            "dtype": "i1"
           },
           "yaxis": "y"
          },
          {
           "hovertemplate": "Process Type=%{x}<br>month_period_str=2012-04<br>Cumulative Count=%{y}<extra></extra>",
           "legendgroup": "Delivered to Consumers",
           "marker": {
            "color": "#EF553B",
            "pattern": {
             "shape": ""
            }
           },
           "name": "Delivered to Consumers",
           "orientation": "v",
           "showlegend": true,
           "textposition": "auto",
           "type": "bar",
           "x": [
            "Delivered to Consumers"
           ],
           "xaxis": "x",
           "y": {
            "bdata": "HA==",
            "dtype": "i1"
           },
           "yaxis": "y"
          },
          {
           "hovertemplate": "Process Type=%{x}<br>month_period_str=2012-04<br>Cumulative Count=%{y}<extra></extra>",
           "legendgroup": "Industrial Consumption",
           "marker": {
            "color": "#00cc96",
            "pattern": {
             "shape": ""
            }
           },
           "name": "Industrial Consumption",
           "orientation": "v",
           "showlegend": true,
           "textposition": "auto",
           "type": "bar",
           "x": [
            "Industrial Consumption"
           ],
           "xaxis": "x",
           "y": {
            "bdata": "HA==",
            "dtype": "i1"
           },
           "yaxis": "y"
          },
          {
           "hovertemplate": "Process Type=%{x}<br>month_period_str=2012-04<br>Cumulative Count=%{y}<extra></extra>",
           "legendgroup": "Residential Consumption",
           "marker": {
            "color": "#ab63fa",
            "pattern": {
             "shape": ""
            }
           },
           "name": "Residential Consumption",
           "orientation": "v",
           "showlegend": true,
           "textposition": "auto",
           "type": "bar",
           "x": [
            "Residential Consumption"
           ],
           "xaxis": "x",
           "y": {
            "bdata": "HA==",
            "dtype": "i1"
           },
           "yaxis": "y"
          },
          {
           "hovertemplate": "Process Type=%{x}<br>month_period_str=2012-04<br>Cumulative Count=%{y}<extra></extra>",
           "legendgroup": "Vehicle Fuel Consumption",
           "marker": {
            "color": "#FFA15A",
            "pattern": {
             "shape": ""
            }
           },
           "name": "Vehicle Fuel Consumption",
           "orientation": "v",
           "showlegend": true,
           "textposition": "auto",
           "type": "bar",
           "x": [
            "Vehicle Fuel Consumption"
           ],
           "xaxis": "x",
           "y": {
            "bdata": "HA==",
            "dtype": "i1"
           },
           "yaxis": "y"
          },
          {
           "hovertemplate": "Process Type=%{x}<br>month_period_str=2012-04<br>Cumulative Count=%{y}<extra></extra>",
           "legendgroup": "Electric Power Consumption",
           "marker": {
            "color": "#19d3f3",
            "pattern": {
             "shape": ""
            }
           },
           "name": "Electric Power Consumption",
           "orientation": "v",
           "showlegend": true,
           "textposition": "auto",
           "type": "bar",
           "x": [
            "Electric Power Consumption"
           ],
           "xaxis": "x",
           "y": {
            "bdata": "DA==",
            "dtype": "i1"
           },
           "yaxis": "y"
          }
         ],
         "name": "2012-04"
        },
        {
         "data": [
          {
           "hovertemplate": "Process Type=%{x}<br>month_period_str=2012-05<br>Cumulative Count=%{y}<extra></extra>",
           "legendgroup": "Commercial Consumption",
           "marker": {
            "color": "#636efa",
            "pattern": {
             "shape": ""
            }
           },
           "name": "Commercial Consumption",
           "orientation": "v",
           "showlegend": true,
           "textposition": "auto",
           "type": "bar",
           "x": [
            "Commercial Consumption"
           ],
           "xaxis": "x",
           "y": {
            "bdata": "HQ==",
            "dtype": "i1"
           },
           "yaxis": "y"
          },
          {
           "hovertemplate": "Process Type=%{x}<br>month_period_str=2012-05<br>Cumulative Count=%{y}<extra></extra>",
           "legendgroup": "Delivered to Consumers",
           "marker": {
            "color": "#EF553B",
            "pattern": {
             "shape": ""
            }
           },
           "name": "Delivered to Consumers",
           "orientation": "v",
           "showlegend": true,
           "textposition": "auto",
           "type": "bar",
           "x": [
            "Delivered to Consumers"
           ],
           "xaxis": "x",
           "y": {
            "bdata": "HQ==",
            "dtype": "i1"
           },
           "yaxis": "y"
          },
          {
           "hovertemplate": "Process Type=%{x}<br>month_period_str=2012-05<br>Cumulative Count=%{y}<extra></extra>",
           "legendgroup": "Industrial Consumption",
           "marker": {
            "color": "#00cc96",
            "pattern": {
             "shape": ""
            }
           },
           "name": "Industrial Consumption",
           "orientation": "v",
           "showlegend": true,
           "textposition": "auto",
           "type": "bar",
           "x": [
            "Industrial Consumption"
           ],
           "xaxis": "x",
           "y": {
            "bdata": "HQ==",
            "dtype": "i1"
           },
           "yaxis": "y"
          },
          {
           "hovertemplate": "Process Type=%{x}<br>month_period_str=2012-05<br>Cumulative Count=%{y}<extra></extra>",
           "legendgroup": "Residential Consumption",
           "marker": {
            "color": "#ab63fa",
            "pattern": {
             "shape": ""
            }
           },
           "name": "Residential Consumption",
           "orientation": "v",
           "showlegend": true,
           "textposition": "auto",
           "type": "bar",
           "x": [
            "Residential Consumption"
           ],
           "xaxis": "x",
           "y": {
            "bdata": "HQ==",
            "dtype": "i1"
           },
           "yaxis": "y"
          },
          {
           "hovertemplate": "Process Type=%{x}<br>month_period_str=2012-05<br>Cumulative Count=%{y}<extra></extra>",
           "legendgroup": "Vehicle Fuel Consumption",
           "marker": {
            "color": "#FFA15A",
            "pattern": {
             "shape": ""
            }
           },
           "name": "Vehicle Fuel Consumption",
           "orientation": "v",
           "showlegend": true,
           "textposition": "auto",
           "type": "bar",
           "x": [
            "Vehicle Fuel Consumption"
           ],
           "xaxis": "x",
           "y": {
            "bdata": "HQ==",
            "dtype": "i1"
           },
           "yaxis": "y"
          },
          {
           "hovertemplate": "Process Type=%{x}<br>month_period_str=2012-05<br>Cumulative Count=%{y}<extra></extra>",
           "legendgroup": "Electric Power Consumption",
           "marker": {
            "color": "#19d3f3",
            "pattern": {
             "shape": ""
            }
           },
           "name": "Electric Power Consumption",
           "orientation": "v",
           "showlegend": true,
           "textposition": "auto",
           "type": "bar",
           "x": [
            "Electric Power Consumption"
           ],
           "xaxis": "x",
           "y": {
            "bdata": "DA==",
            "dtype": "i1"
           },
           "yaxis": "y"
          }
         ],
         "name": "2012-05"
        },
        {
         "data": [
          {
           "hovertemplate": "Process Type=%{x}<br>month_period_str=2012-06<br>Cumulative Count=%{y}<extra></extra>",
           "legendgroup": "Commercial Consumption",
           "marker": {
            "color": "#636efa",
            "pattern": {
             "shape": ""
            }
           },
           "name": "Commercial Consumption",
           "orientation": "v",
           "showlegend": true,
           "textposition": "auto",
           "type": "bar",
           "x": [
            "Commercial Consumption"
           ],
           "xaxis": "x",
           "y": {
            "bdata": "Hg==",
            "dtype": "i1"
           },
           "yaxis": "y"
          },
          {
           "hovertemplate": "Process Type=%{x}<br>month_period_str=2012-06<br>Cumulative Count=%{y}<extra></extra>",
           "legendgroup": "Delivered to Consumers",
           "marker": {
            "color": "#EF553B",
            "pattern": {
             "shape": ""
            }
           },
           "name": "Delivered to Consumers",
           "orientation": "v",
           "showlegend": true,
           "textposition": "auto",
           "type": "bar",
           "x": [
            "Delivered to Consumers"
           ],
           "xaxis": "x",
           "y": {
            "bdata": "Hg==",
            "dtype": "i1"
           },
           "yaxis": "y"
          },
          {
           "hovertemplate": "Process Type=%{x}<br>month_period_str=2012-06<br>Cumulative Count=%{y}<extra></extra>",
           "legendgroup": "Industrial Consumption",
           "marker": {
            "color": "#00cc96",
            "pattern": {
             "shape": ""
            }
           },
           "name": "Industrial Consumption",
           "orientation": "v",
           "showlegend": true,
           "textposition": "auto",
           "type": "bar",
           "x": [
            "Industrial Consumption"
           ],
           "xaxis": "x",
           "y": {
            "bdata": "Hg==",
            "dtype": "i1"
           },
           "yaxis": "y"
          },
          {
           "hovertemplate": "Process Type=%{x}<br>month_period_str=2012-06<br>Cumulative Count=%{y}<extra></extra>",
           "legendgroup": "Residential Consumption",
           "marker": {
            "color": "#ab63fa",
            "pattern": {
             "shape": ""
            }
           },
           "name": "Residential Consumption",
           "orientation": "v",
           "showlegend": true,
           "textposition": "auto",
           "type": "bar",
           "x": [
            "Residential Consumption"
           ],
           "xaxis": "x",
           "y": {
            "bdata": "Hg==",
            "dtype": "i1"
           },
           "yaxis": "y"
          },
          {
           "hovertemplate": "Process Type=%{x}<br>month_period_str=2012-06<br>Cumulative Count=%{y}<extra></extra>",
           "legendgroup": "Vehicle Fuel Consumption",
           "marker": {
            "color": "#FFA15A",
            "pattern": {
             "shape": ""
            }
           },
           "name": "Vehicle Fuel Consumption",
           "orientation": "v",
           "showlegend": true,
           "textposition": "auto",
           "type": "bar",
           "x": [
            "Vehicle Fuel Consumption"
           ],
           "xaxis": "x",
           "y": {
            "bdata": "Hg==",
            "dtype": "i1"
           },
           "yaxis": "y"
          },
          {
           "hovertemplate": "Process Type=%{x}<br>month_period_str=2012-06<br>Cumulative Count=%{y}<extra></extra>",
           "legendgroup": "Electric Power Consumption",
           "marker": {
            "color": "#19d3f3",
            "pattern": {
             "shape": ""
            }
           },
           "name": "Electric Power Consumption",
           "orientation": "v",
           "showlegend": true,
           "textposition": "auto",
           "type": "bar",
           "x": [
            "Electric Power Consumption"
           ],
           "xaxis": "x",
           "y": {
            "bdata": "DA==",
            "dtype": "i1"
           },
           "yaxis": "y"
          }
         ],
         "name": "2012-06"
        },
        {
         "data": [
          {
           "hovertemplate": "Process Type=%{x}<br>month_period_str=2012-07<br>Cumulative Count=%{y}<extra></extra>",
           "legendgroup": "Commercial Consumption",
           "marker": {
            "color": "#636efa",
            "pattern": {
             "shape": ""
            }
           },
           "name": "Commercial Consumption",
           "orientation": "v",
           "showlegend": true,
           "textposition": "auto",
           "type": "bar",
           "x": [
            "Commercial Consumption"
           ],
           "xaxis": "x",
           "y": {
            "bdata": "Hw==",
            "dtype": "i1"
           },
           "yaxis": "y"
          },
          {
           "hovertemplate": "Process Type=%{x}<br>month_period_str=2012-07<br>Cumulative Count=%{y}<extra></extra>",
           "legendgroup": "Delivered to Consumers",
           "marker": {
            "color": "#EF553B",
            "pattern": {
             "shape": ""
            }
           },
           "name": "Delivered to Consumers",
           "orientation": "v",
           "showlegend": true,
           "textposition": "auto",
           "type": "bar",
           "x": [
            "Delivered to Consumers"
           ],
           "xaxis": "x",
           "y": {
            "bdata": "Hw==",
            "dtype": "i1"
           },
           "yaxis": "y"
          },
          {
           "hovertemplate": "Process Type=%{x}<br>month_period_str=2012-07<br>Cumulative Count=%{y}<extra></extra>",
           "legendgroup": "Industrial Consumption",
           "marker": {
            "color": "#00cc96",
            "pattern": {
             "shape": ""
            }
           },
           "name": "Industrial Consumption",
           "orientation": "v",
           "showlegend": true,
           "textposition": "auto",
           "type": "bar",
           "x": [
            "Industrial Consumption"
           ],
           "xaxis": "x",
           "y": {
            "bdata": "Hw==",
            "dtype": "i1"
           },
           "yaxis": "y"
          },
          {
           "hovertemplate": "Process Type=%{x}<br>month_period_str=2012-07<br>Cumulative Count=%{y}<extra></extra>",
           "legendgroup": "Residential Consumption",
           "marker": {
            "color": "#ab63fa",
            "pattern": {
             "shape": ""
            }
           },
           "name": "Residential Consumption",
           "orientation": "v",
           "showlegend": true,
           "textposition": "auto",
           "type": "bar",
           "x": [
            "Residential Consumption"
           ],
           "xaxis": "x",
           "y": {
            "bdata": "Hw==",
            "dtype": "i1"
           },
           "yaxis": "y"
          },
          {
           "hovertemplate": "Process Type=%{x}<br>month_period_str=2012-07<br>Cumulative Count=%{y}<extra></extra>",
           "legendgroup": "Vehicle Fuel Consumption",
           "marker": {
            "color": "#FFA15A",
            "pattern": {
             "shape": ""
            }
           },
           "name": "Vehicle Fuel Consumption",
           "orientation": "v",
           "showlegend": true,
           "textposition": "auto",
           "type": "bar",
           "x": [
            "Vehicle Fuel Consumption"
           ],
           "xaxis": "x",
           "y": {
            "bdata": "Hw==",
            "dtype": "i1"
           },
           "yaxis": "y"
          },
          {
           "hovertemplate": "Process Type=%{x}<br>month_period_str=2012-07<br>Cumulative Count=%{y}<extra></extra>",
           "legendgroup": "Electric Power Consumption",
           "marker": {
            "color": "#19d3f3",
            "pattern": {
             "shape": ""
            }
           },
           "name": "Electric Power Consumption",
           "orientation": "v",
           "showlegend": true,
           "textposition": "auto",
           "type": "bar",
           "x": [
            "Electric Power Consumption"
           ],
           "xaxis": "x",
           "y": {
            "bdata": "DA==",
            "dtype": "i1"
           },
           "yaxis": "y"
          }
         ],
         "name": "2012-07"
        },
        {
         "data": [
          {
           "hovertemplate": "Process Type=%{x}<br>month_period_str=2012-08<br>Cumulative Count=%{y}<extra></extra>",
           "legendgroup": "Commercial Consumption",
           "marker": {
            "color": "#636efa",
            "pattern": {
             "shape": ""
            }
           },
           "name": "Commercial Consumption",
           "orientation": "v",
           "showlegend": true,
           "textposition": "auto",
           "type": "bar",
           "x": [
            "Commercial Consumption"
           ],
           "xaxis": "x",
           "y": {
            "bdata": "IA==",
            "dtype": "i1"
           },
           "yaxis": "y"
          },
          {
           "hovertemplate": "Process Type=%{x}<br>month_period_str=2012-08<br>Cumulative Count=%{y}<extra></extra>",
           "legendgroup": "Delivered to Consumers",
           "marker": {
            "color": "#EF553B",
            "pattern": {
             "shape": ""
            }
           },
           "name": "Delivered to Consumers",
           "orientation": "v",
           "showlegend": true,
           "textposition": "auto",
           "type": "bar",
           "x": [
            "Delivered to Consumers"
           ],
           "xaxis": "x",
           "y": {
            "bdata": "IA==",
            "dtype": "i1"
           },
           "yaxis": "y"
          },
          {
           "hovertemplate": "Process Type=%{x}<br>month_period_str=2012-08<br>Cumulative Count=%{y}<extra></extra>",
           "legendgroup": "Industrial Consumption",
           "marker": {
            "color": "#00cc96",
            "pattern": {
             "shape": ""
            }
           },
           "name": "Industrial Consumption",
           "orientation": "v",
           "showlegend": true,
           "textposition": "auto",
           "type": "bar",
           "x": [
            "Industrial Consumption"
           ],
           "xaxis": "x",
           "y": {
            "bdata": "IA==",
            "dtype": "i1"
           },
           "yaxis": "y"
          },
          {
           "hovertemplate": "Process Type=%{x}<br>month_period_str=2012-08<br>Cumulative Count=%{y}<extra></extra>",
           "legendgroup": "Residential Consumption",
           "marker": {
            "color": "#ab63fa",
            "pattern": {
             "shape": ""
            }
           },
           "name": "Residential Consumption",
           "orientation": "v",
           "showlegend": true,
           "textposition": "auto",
           "type": "bar",
           "x": [
            "Residential Consumption"
           ],
           "xaxis": "x",
           "y": {
            "bdata": "IA==",
            "dtype": "i1"
           },
           "yaxis": "y"
          },
          {
           "hovertemplate": "Process Type=%{x}<br>month_period_str=2012-08<br>Cumulative Count=%{y}<extra></extra>",
           "legendgroup": "Vehicle Fuel Consumption",
           "marker": {
            "color": "#FFA15A",
            "pattern": {
             "shape": ""
            }
           },
           "name": "Vehicle Fuel Consumption",
           "orientation": "v",
           "showlegend": true,
           "textposition": "auto",
           "type": "bar",
           "x": [
            "Vehicle Fuel Consumption"
           ],
           "xaxis": "x",
           "y": {
            "bdata": "IA==",
            "dtype": "i1"
           },
           "yaxis": "y"
          },
          {
           "hovertemplate": "Process Type=%{x}<br>month_period_str=2012-08<br>Cumulative Count=%{y}<extra></extra>",
           "legendgroup": "Electric Power Consumption",
           "marker": {
            "color": "#19d3f3",
            "pattern": {
             "shape": ""
            }
           },
           "name": "Electric Power Consumption",
           "orientation": "v",
           "showlegend": true,
           "textposition": "auto",
           "type": "bar",
           "x": [
            "Electric Power Consumption"
           ],
           "xaxis": "x",
           "y": {
            "bdata": "DA==",
            "dtype": "i1"
           },
           "yaxis": "y"
          }
         ],
         "name": "2012-08"
        },
        {
         "data": [
          {
           "hovertemplate": "Process Type=%{x}<br>month_period_str=2012-09<br>Cumulative Count=%{y}<extra></extra>",
           "legendgroup": "Commercial Consumption",
           "marker": {
            "color": "#636efa",
            "pattern": {
             "shape": ""
            }
           },
           "name": "Commercial Consumption",
           "orientation": "v",
           "showlegend": true,
           "textposition": "auto",
           "type": "bar",
           "x": [
            "Commercial Consumption"
           ],
           "xaxis": "x",
           "y": {
            "bdata": "IQ==",
            "dtype": "i1"
           },
           "yaxis": "y"
          },
          {
           "hovertemplate": "Process Type=%{x}<br>month_period_str=2012-09<br>Cumulative Count=%{y}<extra></extra>",
           "legendgroup": "Delivered to Consumers",
           "marker": {
            "color": "#EF553B",
            "pattern": {
             "shape": ""
            }
           },
           "name": "Delivered to Consumers",
           "orientation": "v",
           "showlegend": true,
           "textposition": "auto",
           "type": "bar",
           "x": [
            "Delivered to Consumers"
           ],
           "xaxis": "x",
           "y": {
            "bdata": "IQ==",
            "dtype": "i1"
           },
           "yaxis": "y"
          },
          {
           "hovertemplate": "Process Type=%{x}<br>month_period_str=2012-09<br>Cumulative Count=%{y}<extra></extra>",
           "legendgroup": "Industrial Consumption",
           "marker": {
            "color": "#00cc96",
            "pattern": {
             "shape": ""
            }
           },
           "name": "Industrial Consumption",
           "orientation": "v",
           "showlegend": true,
           "textposition": "auto",
           "type": "bar",
           "x": [
            "Industrial Consumption"
           ],
           "xaxis": "x",
           "y": {
            "bdata": "IQ==",
            "dtype": "i1"
           },
           "yaxis": "y"
          },
          {
           "hovertemplate": "Process Type=%{x}<br>month_period_str=2012-09<br>Cumulative Count=%{y}<extra></extra>",
           "legendgroup": "Residential Consumption",
           "marker": {
            "color": "#ab63fa",
            "pattern": {
             "shape": ""
            }
           },
           "name": "Residential Consumption",
           "orientation": "v",
           "showlegend": true,
           "textposition": "auto",
           "type": "bar",
           "x": [
            "Residential Consumption"
           ],
           "xaxis": "x",
           "y": {
            "bdata": "IQ==",
            "dtype": "i1"
           },
           "yaxis": "y"
          },
          {
           "hovertemplate": "Process Type=%{x}<br>month_period_str=2012-09<br>Cumulative Count=%{y}<extra></extra>",
           "legendgroup": "Vehicle Fuel Consumption",
           "marker": {
            "color": "#FFA15A",
            "pattern": {
             "shape": ""
            }
           },
           "name": "Vehicle Fuel Consumption",
           "orientation": "v",
           "showlegend": true,
           "textposition": "auto",
           "type": "bar",
           "x": [
            "Vehicle Fuel Consumption"
           ],
           "xaxis": "x",
           "y": {
            "bdata": "IQ==",
            "dtype": "i1"
           },
           "yaxis": "y"
          },
          {
           "hovertemplate": "Process Type=%{x}<br>month_period_str=2012-09<br>Cumulative Count=%{y}<extra></extra>",
           "legendgroup": "Electric Power Consumption",
           "marker": {
            "color": "#19d3f3",
            "pattern": {
             "shape": ""
            }
           },
           "name": "Electric Power Consumption",
           "orientation": "v",
           "showlegend": true,
           "textposition": "auto",
           "type": "bar",
           "x": [
            "Electric Power Consumption"
           ],
           "xaxis": "x",
           "y": {
            "bdata": "DA==",
            "dtype": "i1"
           },
           "yaxis": "y"
          }
         ],
         "name": "2012-09"
        },
        {
         "data": [
          {
           "hovertemplate": "Process Type=%{x}<br>month_period_str=2012-10<br>Cumulative Count=%{y}<extra></extra>",
           "legendgroup": "Commercial Consumption",
           "marker": {
            "color": "#636efa",
            "pattern": {
             "shape": ""
            }
           },
           "name": "Commercial Consumption",
           "orientation": "v",
           "showlegend": true,
           "textposition": "auto",
           "type": "bar",
           "x": [
            "Commercial Consumption"
           ],
           "xaxis": "x",
           "y": {
            "bdata": "Ig==",
            "dtype": "i1"
           },
           "yaxis": "y"
          },
          {
           "hovertemplate": "Process Type=%{x}<br>month_period_str=2012-10<br>Cumulative Count=%{y}<extra></extra>",
           "legendgroup": "Delivered to Consumers",
           "marker": {
            "color": "#EF553B",
            "pattern": {
             "shape": ""
            }
           },
           "name": "Delivered to Consumers",
           "orientation": "v",
           "showlegend": true,
           "textposition": "auto",
           "type": "bar",
           "x": [
            "Delivered to Consumers"
           ],
           "xaxis": "x",
           "y": {
            "bdata": "Ig==",
            "dtype": "i1"
           },
           "yaxis": "y"
          },
          {
           "hovertemplate": "Process Type=%{x}<br>month_period_str=2012-10<br>Cumulative Count=%{y}<extra></extra>",
           "legendgroup": "Industrial Consumption",
           "marker": {
            "color": "#00cc96",
            "pattern": {
             "shape": ""
            }
           },
           "name": "Industrial Consumption",
           "orientation": "v",
           "showlegend": true,
           "textposition": "auto",
           "type": "bar",
           "x": [
            "Industrial Consumption"
           ],
           "xaxis": "x",
           "y": {
            "bdata": "Ig==",
            "dtype": "i1"
           },
           "yaxis": "y"
          },
          {
           "hovertemplate": "Process Type=%{x}<br>month_period_str=2012-10<br>Cumulative Count=%{y}<extra></extra>",
           "legendgroup": "Residential Consumption",
           "marker": {
            "color": "#ab63fa",
            "pattern": {
             "shape": ""
            }
           },
           "name": "Residential Consumption",
           "orientation": "v",
           "showlegend": true,
           "textposition": "auto",
           "type": "bar",
           "x": [
            "Residential Consumption"
           ],
           "xaxis": "x",
           "y": {
            "bdata": "Ig==",
            "dtype": "i1"
           },
           "yaxis": "y"
          },
          {
           "hovertemplate": "Process Type=%{x}<br>month_period_str=2012-10<br>Cumulative Count=%{y}<extra></extra>",
           "legendgroup": "Vehicle Fuel Consumption",
           "marker": {
            "color": "#FFA15A",
            "pattern": {
             "shape": ""
            }
           },
           "name": "Vehicle Fuel Consumption",
           "orientation": "v",
           "showlegend": true,
           "textposition": "auto",
           "type": "bar",
           "x": [
            "Vehicle Fuel Consumption"
           ],
           "xaxis": "x",
           "y": {
            "bdata": "Ig==",
            "dtype": "i1"
           },
           "yaxis": "y"
          },
          {
           "hovertemplate": "Process Type=%{x}<br>month_period_str=2012-10<br>Cumulative Count=%{y}<extra></extra>",
           "legendgroup": "Electric Power Consumption",
           "marker": {
            "color": "#19d3f3",
            "pattern": {
             "shape": ""
            }
           },
           "name": "Electric Power Consumption",
           "orientation": "v",
           "showlegend": true,
           "textposition": "auto",
           "type": "bar",
           "x": [
            "Electric Power Consumption"
           ],
           "xaxis": "x",
           "y": {
            "bdata": "DA==",
            "dtype": "i1"
           },
           "yaxis": "y"
          }
         ],
         "name": "2012-10"
        },
        {
         "data": [
          {
           "hovertemplate": "Process Type=%{x}<br>month_period_str=2012-11<br>Cumulative Count=%{y}<extra></extra>",
           "legendgroup": "Commercial Consumption",
           "marker": {
            "color": "#636efa",
            "pattern": {
             "shape": ""
            }
           },
           "name": "Commercial Consumption",
           "orientation": "v",
           "showlegend": true,
           "textposition": "auto",
           "type": "bar",
           "x": [
            "Commercial Consumption"
           ],
           "xaxis": "x",
           "y": {
            "bdata": "Iw==",
            "dtype": "i1"
           },
           "yaxis": "y"
          },
          {
           "hovertemplate": "Process Type=%{x}<br>month_period_str=2012-11<br>Cumulative Count=%{y}<extra></extra>",
           "legendgroup": "Delivered to Consumers",
           "marker": {
            "color": "#EF553B",
            "pattern": {
             "shape": ""
            }
           },
           "name": "Delivered to Consumers",
           "orientation": "v",
           "showlegend": true,
           "textposition": "auto",
           "type": "bar",
           "x": [
            "Delivered to Consumers"
           ],
           "xaxis": "x",
           "y": {
            "bdata": "Iw==",
            "dtype": "i1"
           },
           "yaxis": "y"
          },
          {
           "hovertemplate": "Process Type=%{x}<br>month_period_str=2012-11<br>Cumulative Count=%{y}<extra></extra>",
           "legendgroup": "Industrial Consumption",
           "marker": {
            "color": "#00cc96",
            "pattern": {
             "shape": ""
            }
           },
           "name": "Industrial Consumption",
           "orientation": "v",
           "showlegend": true,
           "textposition": "auto",
           "type": "bar",
           "x": [
            "Industrial Consumption"
           ],
           "xaxis": "x",
           "y": {
            "bdata": "Iw==",
            "dtype": "i1"
           },
           "yaxis": "y"
          },
          {
           "hovertemplate": "Process Type=%{x}<br>month_period_str=2012-11<br>Cumulative Count=%{y}<extra></extra>",
           "legendgroup": "Residential Consumption",
           "marker": {
            "color": "#ab63fa",
            "pattern": {
             "shape": ""
            }
           },
           "name": "Residential Consumption",
           "orientation": "v",
           "showlegend": true,
           "textposition": "auto",
           "type": "bar",
           "x": [
            "Residential Consumption"
           ],
           "xaxis": "x",
           "y": {
            "bdata": "Iw==",
            "dtype": "i1"
           },
           "yaxis": "y"
          },
          {
           "hovertemplate": "Process Type=%{x}<br>month_period_str=2012-11<br>Cumulative Count=%{y}<extra></extra>",
           "legendgroup": "Vehicle Fuel Consumption",
           "marker": {
            "color": "#FFA15A",
            "pattern": {
             "shape": ""
            }
           },
           "name": "Vehicle Fuel Consumption",
           "orientation": "v",
           "showlegend": true,
           "textposition": "auto",
           "type": "bar",
           "x": [
            "Vehicle Fuel Consumption"
           ],
           "xaxis": "x",
           "y": {
            "bdata": "Iw==",
            "dtype": "i1"
           },
           "yaxis": "y"
          },
          {
           "hovertemplate": "Process Type=%{x}<br>month_period_str=2012-11<br>Cumulative Count=%{y}<extra></extra>",
           "legendgroup": "Electric Power Consumption",
           "marker": {
            "color": "#19d3f3",
            "pattern": {
             "shape": ""
            }
           },
           "name": "Electric Power Consumption",
           "orientation": "v",
           "showlegend": true,
           "textposition": "auto",
           "type": "bar",
           "x": [
            "Electric Power Consumption"
           ],
           "xaxis": "x",
           "y": {
            "bdata": "DA==",
            "dtype": "i1"
           },
           "yaxis": "y"
          }
         ],
         "name": "2012-11"
        },
        {
         "data": [
          {
           "hovertemplate": "Process Type=%{x}<br>month_period_str=2012-12<br>Cumulative Count=%{y}<extra></extra>",
           "legendgroup": "Commercial Consumption",
           "marker": {
            "color": "#636efa",
            "pattern": {
             "shape": ""
            }
           },
           "name": "Commercial Consumption",
           "orientation": "v",
           "showlegend": true,
           "textposition": "auto",
           "type": "bar",
           "x": [
            "Commercial Consumption"
           ],
           "xaxis": "x",
           "y": {
            "bdata": "JA==",
            "dtype": "i1"
           },
           "yaxis": "y"
          },
          {
           "hovertemplate": "Process Type=%{x}<br>month_period_str=2012-12<br>Cumulative Count=%{y}<extra></extra>",
           "legendgroup": "Delivered to Consumers",
           "marker": {
            "color": "#EF553B",
            "pattern": {
             "shape": ""
            }
           },
           "name": "Delivered to Consumers",
           "orientation": "v",
           "showlegend": true,
           "textposition": "auto",
           "type": "bar",
           "x": [
            "Delivered to Consumers"
           ],
           "xaxis": "x",
           "y": {
            "bdata": "JA==",
            "dtype": "i1"
           },
           "yaxis": "y"
          },
          {
           "hovertemplate": "Process Type=%{x}<br>month_period_str=2012-12<br>Cumulative Count=%{y}<extra></extra>",
           "legendgroup": "Industrial Consumption",
           "marker": {
            "color": "#00cc96",
            "pattern": {
             "shape": ""
            }
           },
           "name": "Industrial Consumption",
           "orientation": "v",
           "showlegend": true,
           "textposition": "auto",
           "type": "bar",
           "x": [
            "Industrial Consumption"
           ],
           "xaxis": "x",
           "y": {
            "bdata": "JA==",
            "dtype": "i1"
           },
           "yaxis": "y"
          },
          {
           "hovertemplate": "Process Type=%{x}<br>month_period_str=2012-12<br>Cumulative Count=%{y}<extra></extra>",
           "legendgroup": "Residential Consumption",
           "marker": {
            "color": "#ab63fa",
            "pattern": {
             "shape": ""
            }
           },
           "name": "Residential Consumption",
           "orientation": "v",
           "showlegend": true,
           "textposition": "auto",
           "type": "bar",
           "x": [
            "Residential Consumption"
           ],
           "xaxis": "x",
           "y": {
            "bdata": "JA==",
            "dtype": "i1"
           },
           "yaxis": "y"
          },
          {
           "hovertemplate": "Process Type=%{x}<br>month_period_str=2012-12<br>Cumulative Count=%{y}<extra></extra>",
           "legendgroup": "Vehicle Fuel Consumption",
           "marker": {
            "color": "#FFA15A",
            "pattern": {
             "shape": ""
            }
           },
           "name": "Vehicle Fuel Consumption",
           "orientation": "v",
           "showlegend": true,
           "textposition": "auto",
           "type": "bar",
           "x": [
            "Vehicle Fuel Consumption"
           ],
           "xaxis": "x",
           "y": {
            "bdata": "JA==",
            "dtype": "i1"
           },
           "yaxis": "y"
          },
          {
           "hovertemplate": "Process Type=%{x}<br>month_period_str=2012-12<br>Cumulative Count=%{y}<extra></extra>",
           "legendgroup": "Electric Power Consumption",
           "marker": {
            "color": "#19d3f3",
            "pattern": {
             "shape": ""
            }
           },
           "name": "Electric Power Consumption",
           "orientation": "v",
           "showlegend": true,
           "textposition": "auto",
           "type": "bar",
           "x": [
            "Electric Power Consumption"
           ],
           "xaxis": "x",
           "y": {
            "bdata": "DA==",
            "dtype": "i1"
           },
           "yaxis": "y"
          }
         ],
         "name": "2012-12"
        },
        {
         "data": [
          {
           "hovertemplate": "Process Type=%{x}<br>month_period_str=2013-01<br>Cumulative Count=%{y}<extra></extra>",
           "legendgroup": "Commercial Consumption",
           "marker": {
            "color": "#636efa",
            "pattern": {
             "shape": ""
            }
           },
           "name": "Commercial Consumption",
           "orientation": "v",
           "showlegend": true,
           "textposition": "auto",
           "type": "bar",
           "x": [
            "Commercial Consumption"
           ],
           "xaxis": "x",
           "y": {
            "bdata": "JQ==",
            "dtype": "i1"
           },
           "yaxis": "y"
          },
          {
           "hovertemplate": "Process Type=%{x}<br>month_period_str=2013-01<br>Cumulative Count=%{y}<extra></extra>",
           "legendgroup": "Delivered to Consumers",
           "marker": {
            "color": "#EF553B",
            "pattern": {
             "shape": ""
            }
           },
           "name": "Delivered to Consumers",
           "orientation": "v",
           "showlegend": true,
           "textposition": "auto",
           "type": "bar",
           "x": [
            "Delivered to Consumers"
           ],
           "xaxis": "x",
           "y": {
            "bdata": "JQ==",
            "dtype": "i1"
           },
           "yaxis": "y"
          },
          {
           "hovertemplate": "Process Type=%{x}<br>month_period_str=2013-01<br>Cumulative Count=%{y}<extra></extra>",
           "legendgroup": "Industrial Consumption",
           "marker": {
            "color": "#00cc96",
            "pattern": {
             "shape": ""
            }
           },
           "name": "Industrial Consumption",
           "orientation": "v",
           "showlegend": true,
           "textposition": "auto",
           "type": "bar",
           "x": [
            "Industrial Consumption"
           ],
           "xaxis": "x",
           "y": {
            "bdata": "JQ==",
            "dtype": "i1"
           },
           "yaxis": "y"
          },
          {
           "hovertemplate": "Process Type=%{x}<br>month_period_str=2013-01<br>Cumulative Count=%{y}<extra></extra>",
           "legendgroup": "Residential Consumption",
           "marker": {
            "color": "#ab63fa",
            "pattern": {
             "shape": ""
            }
           },
           "name": "Residential Consumption",
           "orientation": "v",
           "showlegend": true,
           "textposition": "auto",
           "type": "bar",
           "x": [
            "Residential Consumption"
           ],
           "xaxis": "x",
           "y": {
            "bdata": "JQ==",
            "dtype": "i1"
           },
           "yaxis": "y"
          },
          {
           "hovertemplate": "Process Type=%{x}<br>month_period_str=2013-01<br>Cumulative Count=%{y}<extra></extra>",
           "legendgroup": "Vehicle Fuel Consumption",
           "marker": {
            "color": "#FFA15A",
            "pattern": {
             "shape": ""
            }
           },
           "name": "Vehicle Fuel Consumption",
           "orientation": "v",
           "showlegend": true,
           "textposition": "auto",
           "type": "bar",
           "x": [
            "Vehicle Fuel Consumption"
           ],
           "xaxis": "x",
           "y": {
            "bdata": "JQ==",
            "dtype": "i1"
           },
           "yaxis": "y"
          },
          {
           "hovertemplate": "Process Type=%{x}<br>month_period_str=2013-01<br>Cumulative Count=%{y}<extra></extra>",
           "legendgroup": "Electric Power Consumption",
           "marker": {
            "color": "#19d3f3",
            "pattern": {
             "shape": ""
            }
           },
           "name": "Electric Power Consumption",
           "orientation": "v",
           "showlegend": true,
           "textposition": "auto",
           "type": "bar",
           "x": [
            "Electric Power Consumption"
           ],
           "xaxis": "x",
           "y": {
            "bdata": "DA==",
            "dtype": "i1"
           },
           "yaxis": "y"
          }
         ],
         "name": "2013-01"
        },
        {
         "data": [
          {
           "hovertemplate": "Process Type=%{x}<br>month_period_str=2013-02<br>Cumulative Count=%{y}<extra></extra>",
           "legendgroup": "Commercial Consumption",
           "marker": {
            "color": "#636efa",
            "pattern": {
             "shape": ""
            }
           },
           "name": "Commercial Consumption",
           "orientation": "v",
           "showlegend": true,
           "textposition": "auto",
           "type": "bar",
           "x": [
            "Commercial Consumption"
           ],
           "xaxis": "x",
           "y": {
            "bdata": "Jg==",
            "dtype": "i1"
           },
           "yaxis": "y"
          },
          {
           "hovertemplate": "Process Type=%{x}<br>month_period_str=2013-02<br>Cumulative Count=%{y}<extra></extra>",
           "legendgroup": "Delivered to Consumers",
           "marker": {
            "color": "#EF553B",
            "pattern": {
             "shape": ""
            }
           },
           "name": "Delivered to Consumers",
           "orientation": "v",
           "showlegend": true,
           "textposition": "auto",
           "type": "bar",
           "x": [
            "Delivered to Consumers"
           ],
           "xaxis": "x",
           "y": {
            "bdata": "Jg==",
            "dtype": "i1"
           },
           "yaxis": "y"
          },
          {
           "hovertemplate": "Process Type=%{x}<br>month_period_str=2013-02<br>Cumulative Count=%{y}<extra></extra>",
           "legendgroup": "Industrial Consumption",
           "marker": {
            "color": "#00cc96",
            "pattern": {
             "shape": ""
            }
           },
           "name": "Industrial Consumption",
           "orientation": "v",
           "showlegend": true,
           "textposition": "auto",
           "type": "bar",
           "x": [
            "Industrial Consumption"
           ],
           "xaxis": "x",
           "y": {
            "bdata": "Jg==",
            "dtype": "i1"
           },
           "yaxis": "y"
          },
          {
           "hovertemplate": "Process Type=%{x}<br>month_period_str=2013-02<br>Cumulative Count=%{y}<extra></extra>",
           "legendgroup": "Residential Consumption",
           "marker": {
            "color": "#ab63fa",
            "pattern": {
             "shape": ""
            }
           },
           "name": "Residential Consumption",
           "orientation": "v",
           "showlegend": true,
           "textposition": "auto",
           "type": "bar",
           "x": [
            "Residential Consumption"
           ],
           "xaxis": "x",
           "y": {
            "bdata": "Jg==",
            "dtype": "i1"
           },
           "yaxis": "y"
          },
          {
           "hovertemplate": "Process Type=%{x}<br>month_period_str=2013-02<br>Cumulative Count=%{y}<extra></extra>",
           "legendgroup": "Vehicle Fuel Consumption",
           "marker": {
            "color": "#FFA15A",
            "pattern": {
             "shape": ""
            }
           },
           "name": "Vehicle Fuel Consumption",
           "orientation": "v",
           "showlegend": true,
           "textposition": "auto",
           "type": "bar",
           "x": [
            "Vehicle Fuel Consumption"
           ],
           "xaxis": "x",
           "y": {
            "bdata": "Jg==",
            "dtype": "i1"
           },
           "yaxis": "y"
          },
          {
           "hovertemplate": "Process Type=%{x}<br>month_period_str=2013-02<br>Cumulative Count=%{y}<extra></extra>",
           "legendgroup": "Electric Power Consumption",
           "marker": {
            "color": "#19d3f3",
            "pattern": {
             "shape": ""
            }
           },
           "name": "Electric Power Consumption",
           "orientation": "v",
           "showlegend": true,
           "textposition": "auto",
           "type": "bar",
           "x": [
            "Electric Power Consumption"
           ],
           "xaxis": "x",
           "y": {
            "bdata": "DA==",
            "dtype": "i1"
           },
           "yaxis": "y"
          }
         ],
         "name": "2013-02"
        },
        {
         "data": [
          {
           "hovertemplate": "Process Type=%{x}<br>month_period_str=2013-03<br>Cumulative Count=%{y}<extra></extra>",
           "legendgroup": "Commercial Consumption",
           "marker": {
            "color": "#636efa",
            "pattern": {
             "shape": ""
            }
           },
           "name": "Commercial Consumption",
           "orientation": "v",
           "showlegend": true,
           "textposition": "auto",
           "type": "bar",
           "x": [
            "Commercial Consumption"
           ],
           "xaxis": "x",
           "y": {
            "bdata": "Jw==",
            "dtype": "i1"
           },
           "yaxis": "y"
          },
          {
           "hovertemplate": "Process Type=%{x}<br>month_period_str=2013-03<br>Cumulative Count=%{y}<extra></extra>",
           "legendgroup": "Delivered to Consumers",
           "marker": {
            "color": "#EF553B",
            "pattern": {
             "shape": ""
            }
           },
           "name": "Delivered to Consumers",
           "orientation": "v",
           "showlegend": true,
           "textposition": "auto",
           "type": "bar",
           "x": [
            "Delivered to Consumers"
           ],
           "xaxis": "x",
           "y": {
            "bdata": "Jw==",
            "dtype": "i1"
           },
           "yaxis": "y"
          },
          {
           "hovertemplate": "Process Type=%{x}<br>month_period_str=2013-03<br>Cumulative Count=%{y}<extra></extra>",
           "legendgroup": "Industrial Consumption",
           "marker": {
            "color": "#00cc96",
            "pattern": {
             "shape": ""
            }
           },
           "name": "Industrial Consumption",
           "orientation": "v",
           "showlegend": true,
           "textposition": "auto",
           "type": "bar",
           "x": [
            "Industrial Consumption"
           ],
           "xaxis": "x",
           "y": {
            "bdata": "Jw==",
            "dtype": "i1"
           },
           "yaxis": "y"
          },
          {
           "hovertemplate": "Process Type=%{x}<br>month_period_str=2013-03<br>Cumulative Count=%{y}<extra></extra>",
           "legendgroup": "Residential Consumption",
           "marker": {
            "color": "#ab63fa",
            "pattern": {
             "shape": ""
            }
           },
           "name": "Residential Consumption",
           "orientation": "v",
           "showlegend": true,
           "textposition": "auto",
           "type": "bar",
           "x": [
            "Residential Consumption"
           ],
           "xaxis": "x",
           "y": {
            "bdata": "Jw==",
            "dtype": "i1"
           },
           "yaxis": "y"
          },
          {
           "hovertemplate": "Process Type=%{x}<br>month_period_str=2013-03<br>Cumulative Count=%{y}<extra></extra>",
           "legendgroup": "Vehicle Fuel Consumption",
           "marker": {
            "color": "#FFA15A",
            "pattern": {
             "shape": ""
            }
           },
           "name": "Vehicle Fuel Consumption",
           "orientation": "v",
           "showlegend": true,
           "textposition": "auto",
           "type": "bar",
           "x": [
            "Vehicle Fuel Consumption"
           ],
           "xaxis": "x",
           "y": {
            "bdata": "Jw==",
            "dtype": "i1"
           },
           "yaxis": "y"
          },
          {
           "hovertemplate": "Process Type=%{x}<br>month_period_str=2013-03<br>Cumulative Count=%{y}<extra></extra>",
           "legendgroup": "Electric Power Consumption",
           "marker": {
            "color": "#19d3f3",
            "pattern": {
             "shape": ""
            }
           },
           "name": "Electric Power Consumption",
           "orientation": "v",
           "showlegend": true,
           "textposition": "auto",
           "type": "bar",
           "x": [
            "Electric Power Consumption"
           ],
           "xaxis": "x",
           "y": {
            "bdata": "DA==",
            "dtype": "i1"
           },
           "yaxis": "y"
          }
         ],
         "name": "2013-03"
        },
        {
         "data": [
          {
           "hovertemplate": "Process Type=%{x}<br>month_period_str=2013-04<br>Cumulative Count=%{y}<extra></extra>",
           "legendgroup": "Commercial Consumption",
           "marker": {
            "color": "#636efa",
            "pattern": {
             "shape": ""
            }
           },
           "name": "Commercial Consumption",
           "orientation": "v",
           "showlegend": true,
           "textposition": "auto",
           "type": "bar",
           "x": [
            "Commercial Consumption"
           ],
           "xaxis": "x",
           "y": {
            "bdata": "KA==",
            "dtype": "i1"
           },
           "yaxis": "y"
          },
          {
           "hovertemplate": "Process Type=%{x}<br>month_period_str=2013-04<br>Cumulative Count=%{y}<extra></extra>",
           "legendgroup": "Delivered to Consumers",
           "marker": {
            "color": "#EF553B",
            "pattern": {
             "shape": ""
            }
           },
           "name": "Delivered to Consumers",
           "orientation": "v",
           "showlegend": true,
           "textposition": "auto",
           "type": "bar",
           "x": [
            "Delivered to Consumers"
           ],
           "xaxis": "x",
           "y": {
            "bdata": "KA==",
            "dtype": "i1"
           },
           "yaxis": "y"
          },
          {
           "hovertemplate": "Process Type=%{x}<br>month_period_str=2013-04<br>Cumulative Count=%{y}<extra></extra>",
           "legendgroup": "Industrial Consumption",
           "marker": {
            "color": "#00cc96",
            "pattern": {
             "shape": ""
            }
           },
           "name": "Industrial Consumption",
           "orientation": "v",
           "showlegend": true,
           "textposition": "auto",
           "type": "bar",
           "x": [
            "Industrial Consumption"
           ],
           "xaxis": "x",
           "y": {
            "bdata": "KA==",
            "dtype": "i1"
           },
           "yaxis": "y"
          },
          {
           "hovertemplate": "Process Type=%{x}<br>month_period_str=2013-04<br>Cumulative Count=%{y}<extra></extra>",
           "legendgroup": "Residential Consumption",
           "marker": {
            "color": "#ab63fa",
            "pattern": {
             "shape": ""
            }
           },
           "name": "Residential Consumption",
           "orientation": "v",
           "showlegend": true,
           "textposition": "auto",
           "type": "bar",
           "x": [
            "Residential Consumption"
           ],
           "xaxis": "x",
           "y": {
            "bdata": "KA==",
            "dtype": "i1"
           },
           "yaxis": "y"
          },
          {
           "hovertemplate": "Process Type=%{x}<br>month_period_str=2013-04<br>Cumulative Count=%{y}<extra></extra>",
           "legendgroup": "Vehicle Fuel Consumption",
           "marker": {
            "color": "#FFA15A",
            "pattern": {
             "shape": ""
            }
           },
           "name": "Vehicle Fuel Consumption",
           "orientation": "v",
           "showlegend": true,
           "textposition": "auto",
           "type": "bar",
           "x": [
            "Vehicle Fuel Consumption"
           ],
           "xaxis": "x",
           "y": {
            "bdata": "KA==",
            "dtype": "i1"
           },
           "yaxis": "y"
          },
          {
           "hovertemplate": "Process Type=%{x}<br>month_period_str=2013-04<br>Cumulative Count=%{y}<extra></extra>",
           "legendgroup": "Electric Power Consumption",
           "marker": {
            "color": "#19d3f3",
            "pattern": {
             "shape": ""
            }
           },
           "name": "Electric Power Consumption",
           "orientation": "v",
           "showlegend": true,
           "textposition": "auto",
           "type": "bar",
           "x": [
            "Electric Power Consumption"
           ],
           "xaxis": "x",
           "y": {
            "bdata": "DA==",
            "dtype": "i1"
           },
           "yaxis": "y"
          }
         ],
         "name": "2013-04"
        },
        {
         "data": [
          {
           "hovertemplate": "Process Type=%{x}<br>month_period_str=2013-05<br>Cumulative Count=%{y}<extra></extra>",
           "legendgroup": "Commercial Consumption",
           "marker": {
            "color": "#636efa",
            "pattern": {
             "shape": ""
            }
           },
           "name": "Commercial Consumption",
           "orientation": "v",
           "showlegend": true,
           "textposition": "auto",
           "type": "bar",
           "x": [
            "Commercial Consumption"
           ],
           "xaxis": "x",
           "y": {
            "bdata": "KQ==",
            "dtype": "i1"
           },
           "yaxis": "y"
          },
          {
           "hovertemplate": "Process Type=%{x}<br>month_period_str=2013-05<br>Cumulative Count=%{y}<extra></extra>",
           "legendgroup": "Delivered to Consumers",
           "marker": {
            "color": "#EF553B",
            "pattern": {
             "shape": ""
            }
           },
           "name": "Delivered to Consumers",
           "orientation": "v",
           "showlegend": true,
           "textposition": "auto",
           "type": "bar",
           "x": [
            "Delivered to Consumers"
           ],
           "xaxis": "x",
           "y": {
            "bdata": "KQ==",
            "dtype": "i1"
           },
           "yaxis": "y"
          },
          {
           "hovertemplate": "Process Type=%{x}<br>month_period_str=2013-05<br>Cumulative Count=%{y}<extra></extra>",
           "legendgroup": "Industrial Consumption",
           "marker": {
            "color": "#00cc96",
            "pattern": {
             "shape": ""
            }
           },
           "name": "Industrial Consumption",
           "orientation": "v",
           "showlegend": true,
           "textposition": "auto",
           "type": "bar",
           "x": [
            "Industrial Consumption"
           ],
           "xaxis": "x",
           "y": {
            "bdata": "KQ==",
            "dtype": "i1"
           },
           "yaxis": "y"
          },
          {
           "hovertemplate": "Process Type=%{x}<br>month_period_str=2013-05<br>Cumulative Count=%{y}<extra></extra>",
           "legendgroup": "Residential Consumption",
           "marker": {
            "color": "#ab63fa",
            "pattern": {
             "shape": ""
            }
           },
           "name": "Residential Consumption",
           "orientation": "v",
           "showlegend": true,
           "textposition": "auto",
           "type": "bar",
           "x": [
            "Residential Consumption"
           ],
           "xaxis": "x",
           "y": {
            "bdata": "KQ==",
            "dtype": "i1"
           },
           "yaxis": "y"
          },
          {
           "hovertemplate": "Process Type=%{x}<br>month_period_str=2013-05<br>Cumulative Count=%{y}<extra></extra>",
           "legendgroup": "Vehicle Fuel Consumption",
           "marker": {
            "color": "#FFA15A",
            "pattern": {
             "shape": ""
            }
           },
           "name": "Vehicle Fuel Consumption",
           "orientation": "v",
           "showlegend": true,
           "textposition": "auto",
           "type": "bar",
           "x": [
            "Vehicle Fuel Consumption"
           ],
           "xaxis": "x",
           "y": {
            "bdata": "KQ==",
            "dtype": "i1"
           },
           "yaxis": "y"
          },
          {
           "hovertemplate": "Process Type=%{x}<br>month_period_str=2013-05<br>Cumulative Count=%{y}<extra></extra>",
           "legendgroup": "Electric Power Consumption",
           "marker": {
            "color": "#19d3f3",
            "pattern": {
             "shape": ""
            }
           },
           "name": "Electric Power Consumption",
           "orientation": "v",
           "showlegend": true,
           "textposition": "auto",
           "type": "bar",
           "x": [
            "Electric Power Consumption"
           ],
           "xaxis": "x",
           "y": {
            "bdata": "DA==",
            "dtype": "i1"
           },
           "yaxis": "y"
          }
         ],
         "name": "2013-05"
        },
        {
         "data": [
          {
           "hovertemplate": "Process Type=%{x}<br>month_period_str=2013-06<br>Cumulative Count=%{y}<extra></extra>",
           "legendgroup": "Commercial Consumption",
           "marker": {
            "color": "#636efa",
            "pattern": {
             "shape": ""
            }
           },
           "name": "Commercial Consumption",
           "orientation": "v",
           "showlegend": true,
           "textposition": "auto",
           "type": "bar",
           "x": [
            "Commercial Consumption"
           ],
           "xaxis": "x",
           "y": {
            "bdata": "Kg==",
            "dtype": "i1"
           },
           "yaxis": "y"
          },
          {
           "hovertemplate": "Process Type=%{x}<br>month_period_str=2013-06<br>Cumulative Count=%{y}<extra></extra>",
           "legendgroup": "Delivered to Consumers",
           "marker": {
            "color": "#EF553B",
            "pattern": {
             "shape": ""
            }
           },
           "name": "Delivered to Consumers",
           "orientation": "v",
           "showlegend": true,
           "textposition": "auto",
           "type": "bar",
           "x": [
            "Delivered to Consumers"
           ],
           "xaxis": "x",
           "y": {
            "bdata": "Kg==",
            "dtype": "i1"
           },
           "yaxis": "y"
          },
          {
           "hovertemplate": "Process Type=%{x}<br>month_period_str=2013-06<br>Cumulative Count=%{y}<extra></extra>",
           "legendgroup": "Industrial Consumption",
           "marker": {
            "color": "#00cc96",
            "pattern": {
             "shape": ""
            }
           },
           "name": "Industrial Consumption",
           "orientation": "v",
           "showlegend": true,
           "textposition": "auto",
           "type": "bar",
           "x": [
            "Industrial Consumption"
           ],
           "xaxis": "x",
           "y": {
            "bdata": "Kg==",
            "dtype": "i1"
           },
           "yaxis": "y"
          },
          {
           "hovertemplate": "Process Type=%{x}<br>month_period_str=2013-06<br>Cumulative Count=%{y}<extra></extra>",
           "legendgroup": "Residential Consumption",
           "marker": {
            "color": "#ab63fa",
            "pattern": {
             "shape": ""
            }
           },
           "name": "Residential Consumption",
           "orientation": "v",
           "showlegend": true,
           "textposition": "auto",
           "type": "bar",
           "x": [
            "Residential Consumption"
           ],
           "xaxis": "x",
           "y": {
            "bdata": "Kg==",
            "dtype": "i1"
           },
           "yaxis": "y"
          },
          {
           "hovertemplate": "Process Type=%{x}<br>month_period_str=2013-06<br>Cumulative Count=%{y}<extra></extra>",
           "legendgroup": "Vehicle Fuel Consumption",
           "marker": {
            "color": "#FFA15A",
            "pattern": {
             "shape": ""
            }
           },
           "name": "Vehicle Fuel Consumption",
           "orientation": "v",
           "showlegend": true,
           "textposition": "auto",
           "type": "bar",
           "x": [
            "Vehicle Fuel Consumption"
           ],
           "xaxis": "x",
           "y": {
            "bdata": "Kg==",
            "dtype": "i1"
           },
           "yaxis": "y"
          },
          {
           "hovertemplate": "Process Type=%{x}<br>month_period_str=2013-06<br>Cumulative Count=%{y}<extra></extra>",
           "legendgroup": "Electric Power Consumption",
           "marker": {
            "color": "#19d3f3",
            "pattern": {
             "shape": ""
            }
           },
           "name": "Electric Power Consumption",
           "orientation": "v",
           "showlegend": true,
           "textposition": "auto",
           "type": "bar",
           "x": [
            "Electric Power Consumption"
           ],
           "xaxis": "x",
           "y": {
            "bdata": "DA==",
            "dtype": "i1"
           },
           "yaxis": "y"
          }
         ],
         "name": "2013-06"
        },
        {
         "data": [
          {
           "hovertemplate": "Process Type=%{x}<br>month_period_str=2013-07<br>Cumulative Count=%{y}<extra></extra>",
           "legendgroup": "Commercial Consumption",
           "marker": {
            "color": "#636efa",
            "pattern": {
             "shape": ""
            }
           },
           "name": "Commercial Consumption",
           "orientation": "v",
           "showlegend": true,
           "textposition": "auto",
           "type": "bar",
           "x": [
            "Commercial Consumption"
           ],
           "xaxis": "x",
           "y": {
            "bdata": "Kw==",
            "dtype": "i1"
           },
           "yaxis": "y"
          },
          {
           "hovertemplate": "Process Type=%{x}<br>month_period_str=2013-07<br>Cumulative Count=%{y}<extra></extra>",
           "legendgroup": "Delivered to Consumers",
           "marker": {
            "color": "#EF553B",
            "pattern": {
             "shape": ""
            }
           },
           "name": "Delivered to Consumers",
           "orientation": "v",
           "showlegend": true,
           "textposition": "auto",
           "type": "bar",
           "x": [
            "Delivered to Consumers"
           ],
           "xaxis": "x",
           "y": {
            "bdata": "Kw==",
            "dtype": "i1"
           },
           "yaxis": "y"
          },
          {
           "hovertemplate": "Process Type=%{x}<br>month_period_str=2013-07<br>Cumulative Count=%{y}<extra></extra>",
           "legendgroup": "Industrial Consumption",
           "marker": {
            "color": "#00cc96",
            "pattern": {
             "shape": ""
            }
           },
           "name": "Industrial Consumption",
           "orientation": "v",
           "showlegend": true,
           "textposition": "auto",
           "type": "bar",
           "x": [
            "Industrial Consumption"
           ],
           "xaxis": "x",
           "y": {
            "bdata": "Kw==",
            "dtype": "i1"
           },
           "yaxis": "y"
          },
          {
           "hovertemplate": "Process Type=%{x}<br>month_period_str=2013-07<br>Cumulative Count=%{y}<extra></extra>",
           "legendgroup": "Residential Consumption",
           "marker": {
            "color": "#ab63fa",
            "pattern": {
             "shape": ""
            }
           },
           "name": "Residential Consumption",
           "orientation": "v",
           "showlegend": true,
           "textposition": "auto",
           "type": "bar",
           "x": [
            "Residential Consumption"
           ],
           "xaxis": "x",
           "y": {
            "bdata": "Kw==",
            "dtype": "i1"
           },
           "yaxis": "y"
          },
          {
           "hovertemplate": "Process Type=%{x}<br>month_period_str=2013-07<br>Cumulative Count=%{y}<extra></extra>",
           "legendgroup": "Vehicle Fuel Consumption",
           "marker": {
            "color": "#FFA15A",
            "pattern": {
             "shape": ""
            }
           },
           "name": "Vehicle Fuel Consumption",
           "orientation": "v",
           "showlegend": true,
           "textposition": "auto",
           "type": "bar",
           "x": [
            "Vehicle Fuel Consumption"
           ],
           "xaxis": "x",
           "y": {
            "bdata": "Kw==",
            "dtype": "i1"
           },
           "yaxis": "y"
          },
          {
           "hovertemplate": "Process Type=%{x}<br>month_period_str=2013-07<br>Cumulative Count=%{y}<extra></extra>",
           "legendgroup": "Electric Power Consumption",
           "marker": {
            "color": "#19d3f3",
            "pattern": {
             "shape": ""
            }
           },
           "name": "Electric Power Consumption",
           "orientation": "v",
           "showlegend": true,
           "textposition": "auto",
           "type": "bar",
           "x": [
            "Electric Power Consumption"
           ],
           "xaxis": "x",
           "y": {
            "bdata": "DA==",
            "dtype": "i1"
           },
           "yaxis": "y"
          }
         ],
         "name": "2013-07"
        },
        {
         "data": [
          {
           "hovertemplate": "Process Type=%{x}<br>month_period_str=2013-08<br>Cumulative Count=%{y}<extra></extra>",
           "legendgroup": "Commercial Consumption",
           "marker": {
            "color": "#636efa",
            "pattern": {
             "shape": ""
            }
           },
           "name": "Commercial Consumption",
           "orientation": "v",
           "showlegend": true,
           "textposition": "auto",
           "type": "bar",
           "x": [
            "Commercial Consumption"
           ],
           "xaxis": "x",
           "y": {
            "bdata": "LA==",
            "dtype": "i1"
           },
           "yaxis": "y"
          },
          {
           "hovertemplate": "Process Type=%{x}<br>month_period_str=2013-08<br>Cumulative Count=%{y}<extra></extra>",
           "legendgroup": "Delivered to Consumers",
           "marker": {
            "color": "#EF553B",
            "pattern": {
             "shape": ""
            }
           },
           "name": "Delivered to Consumers",
           "orientation": "v",
           "showlegend": true,
           "textposition": "auto",
           "type": "bar",
           "x": [
            "Delivered to Consumers"
           ],
           "xaxis": "x",
           "y": {
            "bdata": "LA==",
            "dtype": "i1"
           },
           "yaxis": "y"
          },
          {
           "hovertemplate": "Process Type=%{x}<br>month_period_str=2013-08<br>Cumulative Count=%{y}<extra></extra>",
           "legendgroup": "Industrial Consumption",
           "marker": {
            "color": "#00cc96",
            "pattern": {
             "shape": ""
            }
           },
           "name": "Industrial Consumption",
           "orientation": "v",
           "showlegend": true,
           "textposition": "auto",
           "type": "bar",
           "x": [
            "Industrial Consumption"
           ],
           "xaxis": "x",
           "y": {
            "bdata": "LA==",
            "dtype": "i1"
           },
           "yaxis": "y"
          },
          {
           "hovertemplate": "Process Type=%{x}<br>month_period_str=2013-08<br>Cumulative Count=%{y}<extra></extra>",
           "legendgroup": "Residential Consumption",
           "marker": {
            "color": "#ab63fa",
            "pattern": {
             "shape": ""
            }
           },
           "name": "Residential Consumption",
           "orientation": "v",
           "showlegend": true,
           "textposition": "auto",
           "type": "bar",
           "x": [
            "Residential Consumption"
           ],
           "xaxis": "x",
           "y": {
            "bdata": "LA==",
            "dtype": "i1"
           },
           "yaxis": "y"
          },
          {
           "hovertemplate": "Process Type=%{x}<br>month_period_str=2013-08<br>Cumulative Count=%{y}<extra></extra>",
           "legendgroup": "Vehicle Fuel Consumption",
           "marker": {
            "color": "#FFA15A",
            "pattern": {
             "shape": ""
            }
           },
           "name": "Vehicle Fuel Consumption",
           "orientation": "v",
           "showlegend": true,
           "textposition": "auto",
           "type": "bar",
           "x": [
            "Vehicle Fuel Consumption"
           ],
           "xaxis": "x",
           "y": {
            "bdata": "LA==",
            "dtype": "i1"
           },
           "yaxis": "y"
          },
          {
           "hovertemplate": "Process Type=%{x}<br>month_period_str=2013-08<br>Cumulative Count=%{y}<extra></extra>",
           "legendgroup": "Electric Power Consumption",
           "marker": {
            "color": "#19d3f3",
            "pattern": {
             "shape": ""
            }
           },
           "name": "Electric Power Consumption",
           "orientation": "v",
           "showlegend": true,
           "textposition": "auto",
           "type": "bar",
           "x": [
            "Electric Power Consumption"
           ],
           "xaxis": "x",
           "y": {
            "bdata": "DA==",
            "dtype": "i1"
           },
           "yaxis": "y"
          }
         ],
         "name": "2013-08"
        },
        {
         "data": [
          {
           "hovertemplate": "Process Type=%{x}<br>month_period_str=2013-09<br>Cumulative Count=%{y}<extra></extra>",
           "legendgroup": "Commercial Consumption",
           "marker": {
            "color": "#636efa",
            "pattern": {
             "shape": ""
            }
           },
           "name": "Commercial Consumption",
           "orientation": "v",
           "showlegend": true,
           "textposition": "auto",
           "type": "bar",
           "x": [
            "Commercial Consumption"
           ],
           "xaxis": "x",
           "y": {
            "bdata": "LQ==",
            "dtype": "i1"
           },
           "yaxis": "y"
          },
          {
           "hovertemplate": "Process Type=%{x}<br>month_period_str=2013-09<br>Cumulative Count=%{y}<extra></extra>",
           "legendgroup": "Delivered to Consumers",
           "marker": {
            "color": "#EF553B",
            "pattern": {
             "shape": ""
            }
           },
           "name": "Delivered to Consumers",
           "orientation": "v",
           "showlegend": true,
           "textposition": "auto",
           "type": "bar",
           "x": [
            "Delivered to Consumers"
           ],
           "xaxis": "x",
           "y": {
            "bdata": "LQ==",
            "dtype": "i1"
           },
           "yaxis": "y"
          },
          {
           "hovertemplate": "Process Type=%{x}<br>month_period_str=2013-09<br>Cumulative Count=%{y}<extra></extra>",
           "legendgroup": "Industrial Consumption",
           "marker": {
            "color": "#00cc96",
            "pattern": {
             "shape": ""
            }
           },
           "name": "Industrial Consumption",
           "orientation": "v",
           "showlegend": true,
           "textposition": "auto",
           "type": "bar",
           "x": [
            "Industrial Consumption"
           ],
           "xaxis": "x",
           "y": {
            "bdata": "LQ==",
            "dtype": "i1"
           },
           "yaxis": "y"
          },
          {
           "hovertemplate": "Process Type=%{x}<br>month_period_str=2013-09<br>Cumulative Count=%{y}<extra></extra>",
           "legendgroup": "Residential Consumption",
           "marker": {
            "color": "#ab63fa",
            "pattern": {
             "shape": ""
            }
           },
           "name": "Residential Consumption",
           "orientation": "v",
           "showlegend": true,
           "textposition": "auto",
           "type": "bar",
           "x": [
            "Residential Consumption"
           ],
           "xaxis": "x",
           "y": {
            "bdata": "LQ==",
            "dtype": "i1"
           },
           "yaxis": "y"
          },
          {
           "hovertemplate": "Process Type=%{x}<br>month_period_str=2013-09<br>Cumulative Count=%{y}<extra></extra>",
           "legendgroup": "Vehicle Fuel Consumption",
           "marker": {
            "color": "#FFA15A",
            "pattern": {
             "shape": ""
            }
           },
           "name": "Vehicle Fuel Consumption",
           "orientation": "v",
           "showlegend": true,
           "textposition": "auto",
           "type": "bar",
           "x": [
            "Vehicle Fuel Consumption"
           ],
           "xaxis": "x",
           "y": {
            "bdata": "LQ==",
            "dtype": "i1"
           },
           "yaxis": "y"
          },
          {
           "hovertemplate": "Process Type=%{x}<br>month_period_str=2013-09<br>Cumulative Count=%{y}<extra></extra>",
           "legendgroup": "Electric Power Consumption",
           "marker": {
            "color": "#19d3f3",
            "pattern": {
             "shape": ""
            }
           },
           "name": "Electric Power Consumption",
           "orientation": "v",
           "showlegend": true,
           "textposition": "auto",
           "type": "bar",
           "x": [
            "Electric Power Consumption"
           ],
           "xaxis": "x",
           "y": {
            "bdata": "DA==",
            "dtype": "i1"
           },
           "yaxis": "y"
          }
         ],
         "name": "2013-09"
        },
        {
         "data": [
          {
           "hovertemplate": "Process Type=%{x}<br>month_period_str=2013-10<br>Cumulative Count=%{y}<extra></extra>",
           "legendgroup": "Commercial Consumption",
           "marker": {
            "color": "#636efa",
            "pattern": {
             "shape": ""
            }
           },
           "name": "Commercial Consumption",
           "orientation": "v",
           "showlegend": true,
           "textposition": "auto",
           "type": "bar",
           "x": [
            "Commercial Consumption"
           ],
           "xaxis": "x",
           "y": {
            "bdata": "Lg==",
            "dtype": "i1"
           },
           "yaxis": "y"
          },
          {
           "hovertemplate": "Process Type=%{x}<br>month_period_str=2013-10<br>Cumulative Count=%{y}<extra></extra>",
           "legendgroup": "Delivered to Consumers",
           "marker": {
            "color": "#EF553B",
            "pattern": {
             "shape": ""
            }
           },
           "name": "Delivered to Consumers",
           "orientation": "v",
           "showlegend": true,
           "textposition": "auto",
           "type": "bar",
           "x": [
            "Delivered to Consumers"
           ],
           "xaxis": "x",
           "y": {
            "bdata": "Lg==",
            "dtype": "i1"
           },
           "yaxis": "y"
          },
          {
           "hovertemplate": "Process Type=%{x}<br>month_period_str=2013-10<br>Cumulative Count=%{y}<extra></extra>",
           "legendgroup": "Industrial Consumption",
           "marker": {
            "color": "#00cc96",
            "pattern": {
             "shape": ""
            }
           },
           "name": "Industrial Consumption",
           "orientation": "v",
           "showlegend": true,
           "textposition": "auto",
           "type": "bar",
           "x": [
            "Industrial Consumption"
           ],
           "xaxis": "x",
           "y": {
            "bdata": "Lg==",
            "dtype": "i1"
           },
           "yaxis": "y"
          },
          {
           "hovertemplate": "Process Type=%{x}<br>month_period_str=2013-10<br>Cumulative Count=%{y}<extra></extra>",
           "legendgroup": "Residential Consumption",
           "marker": {
            "color": "#ab63fa",
            "pattern": {
             "shape": ""
            }
           },
           "name": "Residential Consumption",
           "orientation": "v",
           "showlegend": true,
           "textposition": "auto",
           "type": "bar",
           "x": [
            "Residential Consumption"
           ],
           "xaxis": "x",
           "y": {
            "bdata": "Lg==",
            "dtype": "i1"
           },
           "yaxis": "y"
          },
          {
           "hovertemplate": "Process Type=%{x}<br>month_period_str=2013-10<br>Cumulative Count=%{y}<extra></extra>",
           "legendgroup": "Vehicle Fuel Consumption",
           "marker": {
            "color": "#FFA15A",
            "pattern": {
             "shape": ""
            }
           },
           "name": "Vehicle Fuel Consumption",
           "orientation": "v",
           "showlegend": true,
           "textposition": "auto",
           "type": "bar",
           "x": [
            "Vehicle Fuel Consumption"
           ],
           "xaxis": "x",
           "y": {
            "bdata": "Lg==",
            "dtype": "i1"
           },
           "yaxis": "y"
          },
          {
           "hovertemplate": "Process Type=%{x}<br>month_period_str=2013-10<br>Cumulative Count=%{y}<extra></extra>",
           "legendgroup": "Electric Power Consumption",
           "marker": {
            "color": "#19d3f3",
            "pattern": {
             "shape": ""
            }
           },
           "name": "Electric Power Consumption",
           "orientation": "v",
           "showlegend": true,
           "textposition": "auto",
           "type": "bar",
           "x": [
            "Electric Power Consumption"
           ],
           "xaxis": "x",
           "y": {
            "bdata": "DA==",
            "dtype": "i1"
           },
           "yaxis": "y"
          }
         ],
         "name": "2013-10"
        },
        {
         "data": [
          {
           "hovertemplate": "Process Type=%{x}<br>month_period_str=2013-11<br>Cumulative Count=%{y}<extra></extra>",
           "legendgroup": "Commercial Consumption",
           "marker": {
            "color": "#636efa",
            "pattern": {
             "shape": ""
            }
           },
           "name": "Commercial Consumption",
           "orientation": "v",
           "showlegend": true,
           "textposition": "auto",
           "type": "bar",
           "x": [
            "Commercial Consumption"
           ],
           "xaxis": "x",
           "y": {
            "bdata": "Lw==",
            "dtype": "i1"
           },
           "yaxis": "y"
          },
          {
           "hovertemplate": "Process Type=%{x}<br>month_period_str=2013-11<br>Cumulative Count=%{y}<extra></extra>",
           "legendgroup": "Delivered to Consumers",
           "marker": {
            "color": "#EF553B",
            "pattern": {
             "shape": ""
            }
           },
           "name": "Delivered to Consumers",
           "orientation": "v",
           "showlegend": true,
           "textposition": "auto",
           "type": "bar",
           "x": [
            "Delivered to Consumers"
           ],
           "xaxis": "x",
           "y": {
            "bdata": "Lw==",
            "dtype": "i1"
           },
           "yaxis": "y"
          },
          {
           "hovertemplate": "Process Type=%{x}<br>month_period_str=2013-11<br>Cumulative Count=%{y}<extra></extra>",
           "legendgroup": "Industrial Consumption",
           "marker": {
            "color": "#00cc96",
            "pattern": {
             "shape": ""
            }
           },
           "name": "Industrial Consumption",
           "orientation": "v",
           "showlegend": true,
           "textposition": "auto",
           "type": "bar",
           "x": [
            "Industrial Consumption"
           ],
           "xaxis": "x",
           "y": {
            "bdata": "Lw==",
            "dtype": "i1"
           },
           "yaxis": "y"
          },
          {
           "hovertemplate": "Process Type=%{x}<br>month_period_str=2013-11<br>Cumulative Count=%{y}<extra></extra>",
           "legendgroup": "Residential Consumption",
           "marker": {
            "color": "#ab63fa",
            "pattern": {
             "shape": ""
            }
           },
           "name": "Residential Consumption",
           "orientation": "v",
           "showlegend": true,
           "textposition": "auto",
           "type": "bar",
           "x": [
            "Residential Consumption"
           ],
           "xaxis": "x",
           "y": {
            "bdata": "Lw==",
            "dtype": "i1"
           },
           "yaxis": "y"
          },
          {
           "hovertemplate": "Process Type=%{x}<br>month_period_str=2013-11<br>Cumulative Count=%{y}<extra></extra>",
           "legendgroup": "Vehicle Fuel Consumption",
           "marker": {
            "color": "#FFA15A",
            "pattern": {
             "shape": ""
            }
           },
           "name": "Vehicle Fuel Consumption",
           "orientation": "v",
           "showlegend": true,
           "textposition": "auto",
           "type": "bar",
           "x": [
            "Vehicle Fuel Consumption"
           ],
           "xaxis": "x",
           "y": {
            "bdata": "Lw==",
            "dtype": "i1"
           },
           "yaxis": "y"
          },
          {
           "hovertemplate": "Process Type=%{x}<br>month_period_str=2013-11<br>Cumulative Count=%{y}<extra></extra>",
           "legendgroup": "Electric Power Consumption",
           "marker": {
            "color": "#19d3f3",
            "pattern": {
             "shape": ""
            }
           },
           "name": "Electric Power Consumption",
           "orientation": "v",
           "showlegend": true,
           "textposition": "auto",
           "type": "bar",
           "x": [
            "Electric Power Consumption"
           ],
           "xaxis": "x",
           "y": {
            "bdata": "DA==",
            "dtype": "i1"
           },
           "yaxis": "y"
          }
         ],
         "name": "2013-11"
        },
        {
         "data": [
          {
           "hovertemplate": "Process Type=%{x}<br>month_period_str=2013-12<br>Cumulative Count=%{y}<extra></extra>",
           "legendgroup": "Commercial Consumption",
           "marker": {
            "color": "#636efa",
            "pattern": {
             "shape": ""
            }
           },
           "name": "Commercial Consumption",
           "orientation": "v",
           "showlegend": true,
           "textposition": "auto",
           "type": "bar",
           "x": [
            "Commercial Consumption"
           ],
           "xaxis": "x",
           "y": {
            "bdata": "MA==",
            "dtype": "i1"
           },
           "yaxis": "y"
          },
          {
           "hovertemplate": "Process Type=%{x}<br>month_period_str=2013-12<br>Cumulative Count=%{y}<extra></extra>",
           "legendgroup": "Delivered to Consumers",
           "marker": {
            "color": "#EF553B",
            "pattern": {
             "shape": ""
            }
           },
           "name": "Delivered to Consumers",
           "orientation": "v",
           "showlegend": true,
           "textposition": "auto",
           "type": "bar",
           "x": [
            "Delivered to Consumers"
           ],
           "xaxis": "x",
           "y": {
            "bdata": "MQ==",
            "dtype": "i1"
           },
           "yaxis": "y"
          },
          {
           "hovertemplate": "Process Type=%{x}<br>month_period_str=2013-12<br>Cumulative Count=%{y}<extra></extra>",
           "legendgroup": "Industrial Consumption",
           "marker": {
            "color": "#00cc96",
            "pattern": {
             "shape": ""
            }
           },
           "name": "Industrial Consumption",
           "orientation": "v",
           "showlegend": true,
           "textposition": "auto",
           "type": "bar",
           "x": [
            "Industrial Consumption"
           ],
           "xaxis": "x",
           "y": {
            "bdata": "Lw==",
            "dtype": "i1"
           },
           "yaxis": "y"
          },
          {
           "hovertemplate": "Process Type=%{x}<br>month_period_str=2013-12<br>Cumulative Count=%{y}<extra></extra>",
           "legendgroup": "Residential Consumption",
           "marker": {
            "color": "#ab63fa",
            "pattern": {
             "shape": ""
            }
           },
           "name": "Residential Consumption",
           "orientation": "v",
           "showlegend": true,
           "textposition": "auto",
           "type": "bar",
           "x": [
            "Residential Consumption"
           ],
           "xaxis": "x",
           "y": {
            "bdata": "MA==",
            "dtype": "i1"
           },
           "yaxis": "y"
          },
          {
           "hovertemplate": "Process Type=%{x}<br>month_period_str=2013-12<br>Cumulative Count=%{y}<extra></extra>",
           "legendgroup": "Vehicle Fuel Consumption",
           "marker": {
            "color": "#FFA15A",
            "pattern": {
             "shape": ""
            }
           },
           "name": "Vehicle Fuel Consumption",
           "orientation": "v",
           "showlegend": true,
           "textposition": "auto",
           "type": "bar",
           "x": [
            "Vehicle Fuel Consumption"
           ],
           "xaxis": "x",
           "y": {
            "bdata": "MA==",
            "dtype": "i1"
           },
           "yaxis": "y"
          },
          {
           "hovertemplate": "Process Type=%{x}<br>month_period_str=2013-12<br>Cumulative Count=%{y}<extra></extra>",
           "legendgroup": "Electric Power Consumption",
           "marker": {
            "color": "#19d3f3",
            "pattern": {
             "shape": ""
            }
           },
           "name": "Electric Power Consumption",
           "orientation": "v",
           "showlegend": true,
           "textposition": "auto",
           "type": "bar",
           "x": [
            "Electric Power Consumption"
           ],
           "xaxis": "x",
           "y": {
            "bdata": "DA==",
            "dtype": "i1"
           },
           "yaxis": "y"
          }
         ],
         "name": "2013-12"
        },
        {
         "data": [
          {
           "hovertemplate": "Process Type=%{x}<br>month_period_str=2014-01<br>Cumulative Count=%{y}<extra></extra>",
           "legendgroup": "Commercial Consumption",
           "marker": {
            "color": "#636efa",
            "pattern": {
             "shape": ""
            }
           },
           "name": "Commercial Consumption",
           "orientation": "v",
           "showlegend": true,
           "textposition": "auto",
           "type": "bar",
           "x": [
            "Commercial Consumption"
           ],
           "xaxis": "x",
           "y": {
            "bdata": "MQ==",
            "dtype": "i1"
           },
           "yaxis": "y"
          },
          {
           "hovertemplate": "Process Type=%{x}<br>month_period_str=2014-01<br>Cumulative Count=%{y}<extra></extra>",
           "legendgroup": "Delivered to Consumers",
           "marker": {
            "color": "#EF553B",
            "pattern": {
             "shape": ""
            }
           },
           "name": "Delivered to Consumers",
           "orientation": "v",
           "showlegend": true,
           "textposition": "auto",
           "type": "bar",
           "x": [
            "Delivered to Consumers"
           ],
           "xaxis": "x",
           "y": {
            "bdata": "Mg==",
            "dtype": "i1"
           },
           "yaxis": "y"
          },
          {
           "hovertemplate": "Process Type=%{x}<br>month_period_str=2014-01<br>Cumulative Count=%{y}<extra></extra>",
           "legendgroup": "Industrial Consumption",
           "marker": {
            "color": "#00cc96",
            "pattern": {
             "shape": ""
            }
           },
           "name": "Industrial Consumption",
           "orientation": "v",
           "showlegend": true,
           "textposition": "auto",
           "type": "bar",
           "x": [
            "Industrial Consumption"
           ],
           "xaxis": "x",
           "y": {
            "bdata": "MA==",
            "dtype": "i1"
           },
           "yaxis": "y"
          },
          {
           "hovertemplate": "Process Type=%{x}<br>month_period_str=2014-01<br>Cumulative Count=%{y}<extra></extra>",
           "legendgroup": "Residential Consumption",
           "marker": {
            "color": "#ab63fa",
            "pattern": {
             "shape": ""
            }
           },
           "name": "Residential Consumption",
           "orientation": "v",
           "showlegend": true,
           "textposition": "auto",
           "type": "bar",
           "x": [
            "Residential Consumption"
           ],
           "xaxis": "x",
           "y": {
            "bdata": "MQ==",
            "dtype": "i1"
           },
           "yaxis": "y"
          },
          {
           "hovertemplate": "Process Type=%{x}<br>month_period_str=2014-01<br>Cumulative Count=%{y}<extra></extra>",
           "legendgroup": "Vehicle Fuel Consumption",
           "marker": {
            "color": "#FFA15A",
            "pattern": {
             "shape": ""
            }
           },
           "name": "Vehicle Fuel Consumption",
           "orientation": "v",
           "showlegend": true,
           "textposition": "auto",
           "type": "bar",
           "x": [
            "Vehicle Fuel Consumption"
           ],
           "xaxis": "x",
           "y": {
            "bdata": "MQ==",
            "dtype": "i1"
           },
           "yaxis": "y"
          },
          {
           "hovertemplate": "Process Type=%{x}<br>month_period_str=2014-01<br>Cumulative Count=%{y}<extra></extra>",
           "legendgroup": "Electric Power Consumption",
           "marker": {
            "color": "#19d3f3",
            "pattern": {
             "shape": ""
            }
           },
           "name": "Electric Power Consumption",
           "orientation": "v",
           "showlegend": true,
           "textposition": "auto",
           "type": "bar",
           "x": [
            "Electric Power Consumption"
           ],
           "xaxis": "x",
           "y": {
            "bdata": "DA==",
            "dtype": "i1"
           },
           "yaxis": "y"
          }
         ],
         "name": "2014-01"
        },
        {
         "data": [
          {
           "hovertemplate": "Process Type=%{x}<br>month_period_str=2014-02<br>Cumulative Count=%{y}<extra></extra>",
           "legendgroup": "Commercial Consumption",
           "marker": {
            "color": "#636efa",
            "pattern": {
             "shape": ""
            }
           },
           "name": "Commercial Consumption",
           "orientation": "v",
           "showlegend": true,
           "textposition": "auto",
           "type": "bar",
           "x": [
            "Commercial Consumption"
           ],
           "xaxis": "x",
           "y": {
            "bdata": "Mg==",
            "dtype": "i1"
           },
           "yaxis": "y"
          },
          {
           "hovertemplate": "Process Type=%{x}<br>month_period_str=2014-02<br>Cumulative Count=%{y}<extra></extra>",
           "legendgroup": "Delivered to Consumers",
           "marker": {
            "color": "#EF553B",
            "pattern": {
             "shape": ""
            }
           },
           "name": "Delivered to Consumers",
           "orientation": "v",
           "showlegend": true,
           "textposition": "auto",
           "type": "bar",
           "x": [
            "Delivered to Consumers"
           ],
           "xaxis": "x",
           "y": {
            "bdata": "Mw==",
            "dtype": "i1"
           },
           "yaxis": "y"
          },
          {
           "hovertemplate": "Process Type=%{x}<br>month_period_str=2014-02<br>Cumulative Count=%{y}<extra></extra>",
           "legendgroup": "Industrial Consumption",
           "marker": {
            "color": "#00cc96",
            "pattern": {
             "shape": ""
            }
           },
           "name": "Industrial Consumption",
           "orientation": "v",
           "showlegend": true,
           "textposition": "auto",
           "type": "bar",
           "x": [
            "Industrial Consumption"
           ],
           "xaxis": "x",
           "y": {
            "bdata": "MQ==",
            "dtype": "i1"
           },
           "yaxis": "y"
          },
          {
           "hovertemplate": "Process Type=%{x}<br>month_period_str=2014-02<br>Cumulative Count=%{y}<extra></extra>",
           "legendgroup": "Residential Consumption",
           "marker": {
            "color": "#ab63fa",
            "pattern": {
             "shape": ""
            }
           },
           "name": "Residential Consumption",
           "orientation": "v",
           "showlegend": true,
           "textposition": "auto",
           "type": "bar",
           "x": [
            "Residential Consumption"
           ],
           "xaxis": "x",
           "y": {
            "bdata": "Mg==",
            "dtype": "i1"
           },
           "yaxis": "y"
          },
          {
           "hovertemplate": "Process Type=%{x}<br>month_period_str=2014-02<br>Cumulative Count=%{y}<extra></extra>",
           "legendgroup": "Vehicle Fuel Consumption",
           "marker": {
            "color": "#FFA15A",
            "pattern": {
             "shape": ""
            }
           },
           "name": "Vehicle Fuel Consumption",
           "orientation": "v",
           "showlegend": true,
           "textposition": "auto",
           "type": "bar",
           "x": [
            "Vehicle Fuel Consumption"
           ],
           "xaxis": "x",
           "y": {
            "bdata": "Mg==",
            "dtype": "i1"
           },
           "yaxis": "y"
          },
          {
           "hovertemplate": "Process Type=%{x}<br>month_period_str=2014-02<br>Cumulative Count=%{y}<extra></extra>",
           "legendgroup": "Electric Power Consumption",
           "marker": {
            "color": "#19d3f3",
            "pattern": {
             "shape": ""
            }
           },
           "name": "Electric Power Consumption",
           "orientation": "v",
           "showlegend": true,
           "textposition": "auto",
           "type": "bar",
           "x": [
            "Electric Power Consumption"
           ],
           "xaxis": "x",
           "y": {
            "bdata": "DA==",
            "dtype": "i1"
           },
           "yaxis": "y"
          }
         ],
         "name": "2014-02"
        },
        {
         "data": [
          {
           "hovertemplate": "Process Type=%{x}<br>month_period_str=2014-03<br>Cumulative Count=%{y}<extra></extra>",
           "legendgroup": "Commercial Consumption",
           "marker": {
            "color": "#636efa",
            "pattern": {
             "shape": ""
            }
           },
           "name": "Commercial Consumption",
           "orientation": "v",
           "showlegend": true,
           "textposition": "auto",
           "type": "bar",
           "x": [
            "Commercial Consumption"
           ],
           "xaxis": "x",
           "y": {
            "bdata": "Mw==",
            "dtype": "i1"
           },
           "yaxis": "y"
          },
          {
           "hovertemplate": "Process Type=%{x}<br>month_period_str=2014-03<br>Cumulative Count=%{y}<extra></extra>",
           "legendgroup": "Delivered to Consumers",
           "marker": {
            "color": "#EF553B",
            "pattern": {
             "shape": ""
            }
           },
           "name": "Delivered to Consumers",
           "orientation": "v",
           "showlegend": true,
           "textposition": "auto",
           "type": "bar",
           "x": [
            "Delivered to Consumers"
           ],
           "xaxis": "x",
           "y": {
            "bdata": "NA==",
            "dtype": "i1"
           },
           "yaxis": "y"
          },
          {
           "hovertemplate": "Process Type=%{x}<br>month_period_str=2014-03<br>Cumulative Count=%{y}<extra></extra>",
           "legendgroup": "Industrial Consumption",
           "marker": {
            "color": "#00cc96",
            "pattern": {
             "shape": ""
            }
           },
           "name": "Industrial Consumption",
           "orientation": "v",
           "showlegend": true,
           "textposition": "auto",
           "type": "bar",
           "x": [
            "Industrial Consumption"
           ],
           "xaxis": "x",
           "y": {
            "bdata": "Mg==",
            "dtype": "i1"
           },
           "yaxis": "y"
          },
          {
           "hovertemplate": "Process Type=%{x}<br>month_period_str=2014-03<br>Cumulative Count=%{y}<extra></extra>",
           "legendgroup": "Residential Consumption",
           "marker": {
            "color": "#ab63fa",
            "pattern": {
             "shape": ""
            }
           },
           "name": "Residential Consumption",
           "orientation": "v",
           "showlegend": true,
           "textposition": "auto",
           "type": "bar",
           "x": [
            "Residential Consumption"
           ],
           "xaxis": "x",
           "y": {
            "bdata": "Mw==",
            "dtype": "i1"
           },
           "yaxis": "y"
          },
          {
           "hovertemplate": "Process Type=%{x}<br>month_period_str=2014-03<br>Cumulative Count=%{y}<extra></extra>",
           "legendgroup": "Vehicle Fuel Consumption",
           "marker": {
            "color": "#FFA15A",
            "pattern": {
             "shape": ""
            }
           },
           "name": "Vehicle Fuel Consumption",
           "orientation": "v",
           "showlegend": true,
           "textposition": "auto",
           "type": "bar",
           "x": [
            "Vehicle Fuel Consumption"
           ],
           "xaxis": "x",
           "y": {
            "bdata": "Mw==",
            "dtype": "i1"
           },
           "yaxis": "y"
          },
          {
           "hovertemplate": "Process Type=%{x}<br>month_period_str=2014-03<br>Cumulative Count=%{y}<extra></extra>",
           "legendgroup": "Electric Power Consumption",
           "marker": {
            "color": "#19d3f3",
            "pattern": {
             "shape": ""
            }
           },
           "name": "Electric Power Consumption",
           "orientation": "v",
           "showlegend": true,
           "textposition": "auto",
           "type": "bar",
           "x": [
            "Electric Power Consumption"
           ],
           "xaxis": "x",
           "y": {
            "bdata": "DA==",
            "dtype": "i1"
           },
           "yaxis": "y"
          }
         ],
         "name": "2014-03"
        },
        {
         "data": [
          {
           "hovertemplate": "Process Type=%{x}<br>month_period_str=2014-04<br>Cumulative Count=%{y}<extra></extra>",
           "legendgroup": "Commercial Consumption",
           "marker": {
            "color": "#636efa",
            "pattern": {
             "shape": ""
            }
           },
           "name": "Commercial Consumption",
           "orientation": "v",
           "showlegend": true,
           "textposition": "auto",
           "type": "bar",
           "x": [
            "Commercial Consumption"
           ],
           "xaxis": "x",
           "y": {
            "bdata": "NA==",
            "dtype": "i1"
           },
           "yaxis": "y"
          },
          {
           "hovertemplate": "Process Type=%{x}<br>month_period_str=2014-04<br>Cumulative Count=%{y}<extra></extra>",
           "legendgroup": "Delivered to Consumers",
           "marker": {
            "color": "#EF553B",
            "pattern": {
             "shape": ""
            }
           },
           "name": "Delivered to Consumers",
           "orientation": "v",
           "showlegend": true,
           "textposition": "auto",
           "type": "bar",
           "x": [
            "Delivered to Consumers"
           ],
           "xaxis": "x",
           "y": {
            "bdata": "NQ==",
            "dtype": "i1"
           },
           "yaxis": "y"
          },
          {
           "hovertemplate": "Process Type=%{x}<br>month_period_str=2014-04<br>Cumulative Count=%{y}<extra></extra>",
           "legendgroup": "Industrial Consumption",
           "marker": {
            "color": "#00cc96",
            "pattern": {
             "shape": ""
            }
           },
           "name": "Industrial Consumption",
           "orientation": "v",
           "showlegend": true,
           "textposition": "auto",
           "type": "bar",
           "x": [
            "Industrial Consumption"
           ],
           "xaxis": "x",
           "y": {
            "bdata": "Mw==",
            "dtype": "i1"
           },
           "yaxis": "y"
          },
          {
           "hovertemplate": "Process Type=%{x}<br>month_period_str=2014-04<br>Cumulative Count=%{y}<extra></extra>",
           "legendgroup": "Residential Consumption",
           "marker": {
            "color": "#ab63fa",
            "pattern": {
             "shape": ""
            }
           },
           "name": "Residential Consumption",
           "orientation": "v",
           "showlegend": true,
           "textposition": "auto",
           "type": "bar",
           "x": [
            "Residential Consumption"
           ],
           "xaxis": "x",
           "y": {
            "bdata": "NA==",
            "dtype": "i1"
           },
           "yaxis": "y"
          },
          {
           "hovertemplate": "Process Type=%{x}<br>month_period_str=2014-04<br>Cumulative Count=%{y}<extra></extra>",
           "legendgroup": "Vehicle Fuel Consumption",
           "marker": {
            "color": "#FFA15A",
            "pattern": {
             "shape": ""
            }
           },
           "name": "Vehicle Fuel Consumption",
           "orientation": "v",
           "showlegend": true,
           "textposition": "auto",
           "type": "bar",
           "x": [
            "Vehicle Fuel Consumption"
           ],
           "xaxis": "x",
           "y": {
            "bdata": "NA==",
            "dtype": "i1"
           },
           "yaxis": "y"
          },
          {
           "hovertemplate": "Process Type=%{x}<br>month_period_str=2014-04<br>Cumulative Count=%{y}<extra></extra>",
           "legendgroup": "Electric Power Consumption",
           "marker": {
            "color": "#19d3f3",
            "pattern": {
             "shape": ""
            }
           },
           "name": "Electric Power Consumption",
           "orientation": "v",
           "showlegend": true,
           "textposition": "auto",
           "type": "bar",
           "x": [
            "Electric Power Consumption"
           ],
           "xaxis": "x",
           "y": {
            "bdata": "DA==",
            "dtype": "i1"
           },
           "yaxis": "y"
          }
         ],
         "name": "2014-04"
        },
        {
         "data": [
          {
           "hovertemplate": "Process Type=%{x}<br>month_period_str=2014-05<br>Cumulative Count=%{y}<extra></extra>",
           "legendgroup": "Commercial Consumption",
           "marker": {
            "color": "#636efa",
            "pattern": {
             "shape": ""
            }
           },
           "name": "Commercial Consumption",
           "orientation": "v",
           "showlegend": true,
           "textposition": "auto",
           "type": "bar",
           "x": [
            "Commercial Consumption"
           ],
           "xaxis": "x",
           "y": {
            "bdata": "NQ==",
            "dtype": "i1"
           },
           "yaxis": "y"
          },
          {
           "hovertemplate": "Process Type=%{x}<br>month_period_str=2014-05<br>Cumulative Count=%{y}<extra></extra>",
           "legendgroup": "Delivered to Consumers",
           "marker": {
            "color": "#EF553B",
            "pattern": {
             "shape": ""
            }
           },
           "name": "Delivered to Consumers",
           "orientation": "v",
           "showlegend": true,
           "textposition": "auto",
           "type": "bar",
           "x": [
            "Delivered to Consumers"
           ],
           "xaxis": "x",
           "y": {
            "bdata": "Ng==",
            "dtype": "i1"
           },
           "yaxis": "y"
          },
          {
           "hovertemplate": "Process Type=%{x}<br>month_period_str=2014-05<br>Cumulative Count=%{y}<extra></extra>",
           "legendgroup": "Industrial Consumption",
           "marker": {
            "color": "#00cc96",
            "pattern": {
             "shape": ""
            }
           },
           "name": "Industrial Consumption",
           "orientation": "v",
           "showlegend": true,
           "textposition": "auto",
           "type": "bar",
           "x": [
            "Industrial Consumption"
           ],
           "xaxis": "x",
           "y": {
            "bdata": "NA==",
            "dtype": "i1"
           },
           "yaxis": "y"
          },
          {
           "hovertemplate": "Process Type=%{x}<br>month_period_str=2014-05<br>Cumulative Count=%{y}<extra></extra>",
           "legendgroup": "Residential Consumption",
           "marker": {
            "color": "#ab63fa",
            "pattern": {
             "shape": ""
            }
           },
           "name": "Residential Consumption",
           "orientation": "v",
           "showlegend": true,
           "textposition": "auto",
           "type": "bar",
           "x": [
            "Residential Consumption"
           ],
           "xaxis": "x",
           "y": {
            "bdata": "NQ==",
            "dtype": "i1"
           },
           "yaxis": "y"
          },
          {
           "hovertemplate": "Process Type=%{x}<br>month_period_str=2014-05<br>Cumulative Count=%{y}<extra></extra>",
           "legendgroup": "Vehicle Fuel Consumption",
           "marker": {
            "color": "#FFA15A",
            "pattern": {
             "shape": ""
            }
           },
           "name": "Vehicle Fuel Consumption",
           "orientation": "v",
           "showlegend": true,
           "textposition": "auto",
           "type": "bar",
           "x": [
            "Vehicle Fuel Consumption"
           ],
           "xaxis": "x",
           "y": {
            "bdata": "NQ==",
            "dtype": "i1"
           },
           "yaxis": "y"
          },
          {
           "hovertemplate": "Process Type=%{x}<br>month_period_str=2014-05<br>Cumulative Count=%{y}<extra></extra>",
           "legendgroup": "Electric Power Consumption",
           "marker": {
            "color": "#19d3f3",
            "pattern": {
             "shape": ""
            }
           },
           "name": "Electric Power Consumption",
           "orientation": "v",
           "showlegend": true,
           "textposition": "auto",
           "type": "bar",
           "x": [
            "Electric Power Consumption"
           ],
           "xaxis": "x",
           "y": {
            "bdata": "DA==",
            "dtype": "i1"
           },
           "yaxis": "y"
          }
         ],
         "name": "2014-05"
        },
        {
         "data": [
          {
           "hovertemplate": "Process Type=%{x}<br>month_period_str=2014-06<br>Cumulative Count=%{y}<extra></extra>",
           "legendgroup": "Commercial Consumption",
           "marker": {
            "color": "#636efa",
            "pattern": {
             "shape": ""
            }
           },
           "name": "Commercial Consumption",
           "orientation": "v",
           "showlegend": true,
           "textposition": "auto",
           "type": "bar",
           "x": [
            "Commercial Consumption"
           ],
           "xaxis": "x",
           "y": {
            "bdata": "Ng==",
            "dtype": "i1"
           },
           "yaxis": "y"
          },
          {
           "hovertemplate": "Process Type=%{x}<br>month_period_str=2014-06<br>Cumulative Count=%{y}<extra></extra>",
           "legendgroup": "Delivered to Consumers",
           "marker": {
            "color": "#EF553B",
            "pattern": {
             "shape": ""
            }
           },
           "name": "Delivered to Consumers",
           "orientation": "v",
           "showlegend": true,
           "textposition": "auto",
           "type": "bar",
           "x": [
            "Delivered to Consumers"
           ],
           "xaxis": "x",
           "y": {
            "bdata": "Nw==",
            "dtype": "i1"
           },
           "yaxis": "y"
          },
          {
           "hovertemplate": "Process Type=%{x}<br>month_period_str=2014-06<br>Cumulative Count=%{y}<extra></extra>",
           "legendgroup": "Industrial Consumption",
           "marker": {
            "color": "#00cc96",
            "pattern": {
             "shape": ""
            }
           },
           "name": "Industrial Consumption",
           "orientation": "v",
           "showlegend": true,
           "textposition": "auto",
           "type": "bar",
           "x": [
            "Industrial Consumption"
           ],
           "xaxis": "x",
           "y": {
            "bdata": "NQ==",
            "dtype": "i1"
           },
           "yaxis": "y"
          },
          {
           "hovertemplate": "Process Type=%{x}<br>month_period_str=2014-06<br>Cumulative Count=%{y}<extra></extra>",
           "legendgroup": "Residential Consumption",
           "marker": {
            "color": "#ab63fa",
            "pattern": {
             "shape": ""
            }
           },
           "name": "Residential Consumption",
           "orientation": "v",
           "showlegend": true,
           "textposition": "auto",
           "type": "bar",
           "x": [
            "Residential Consumption"
           ],
           "xaxis": "x",
           "y": {
            "bdata": "Ng==",
            "dtype": "i1"
           },
           "yaxis": "y"
          },
          {
           "hovertemplate": "Process Type=%{x}<br>month_period_str=2014-06<br>Cumulative Count=%{y}<extra></extra>",
           "legendgroup": "Vehicle Fuel Consumption",
           "marker": {
            "color": "#FFA15A",
            "pattern": {
             "shape": ""
            }
           },
           "name": "Vehicle Fuel Consumption",
           "orientation": "v",
           "showlegend": true,
           "textposition": "auto",
           "type": "bar",
           "x": [
            "Vehicle Fuel Consumption"
           ],
           "xaxis": "x",
           "y": {
            "bdata": "Ng==",
            "dtype": "i1"
           },
           "yaxis": "y"
          },
          {
           "hovertemplate": "Process Type=%{x}<br>month_period_str=2014-06<br>Cumulative Count=%{y}<extra></extra>",
           "legendgroup": "Electric Power Consumption",
           "marker": {
            "color": "#19d3f3",
            "pattern": {
             "shape": ""
            }
           },
           "name": "Electric Power Consumption",
           "orientation": "v",
           "showlegend": true,
           "textposition": "auto",
           "type": "bar",
           "x": [
            "Electric Power Consumption"
           ],
           "xaxis": "x",
           "y": {
            "bdata": "DA==",
            "dtype": "i1"
           },
           "yaxis": "y"
          }
         ],
         "name": "2014-06"
        },
        {
         "data": [
          {
           "hovertemplate": "Process Type=%{x}<br>month_period_str=2014-07<br>Cumulative Count=%{y}<extra></extra>",
           "legendgroup": "Commercial Consumption",
           "marker": {
            "color": "#636efa",
            "pattern": {
             "shape": ""
            }
           },
           "name": "Commercial Consumption",
           "orientation": "v",
           "showlegend": true,
           "textposition": "auto",
           "type": "bar",
           "x": [
            "Commercial Consumption"
           ],
           "xaxis": "x",
           "y": {
            "bdata": "Nw==",
            "dtype": "i1"
           },
           "yaxis": "y"
          },
          {
           "hovertemplate": "Process Type=%{x}<br>month_period_str=2014-07<br>Cumulative Count=%{y}<extra></extra>",
           "legendgroup": "Delivered to Consumers",
           "marker": {
            "color": "#EF553B",
            "pattern": {
             "shape": ""
            }
           },
           "name": "Delivered to Consumers",
           "orientation": "v",
           "showlegend": true,
           "textposition": "auto",
           "type": "bar",
           "x": [
            "Delivered to Consumers"
           ],
           "xaxis": "x",
           "y": {
            "bdata": "OA==",
            "dtype": "i1"
           },
           "yaxis": "y"
          },
          {
           "hovertemplate": "Process Type=%{x}<br>month_period_str=2014-07<br>Cumulative Count=%{y}<extra></extra>",
           "legendgroup": "Industrial Consumption",
           "marker": {
            "color": "#00cc96",
            "pattern": {
             "shape": ""
            }
           },
           "name": "Industrial Consumption",
           "orientation": "v",
           "showlegend": true,
           "textposition": "auto",
           "type": "bar",
           "x": [
            "Industrial Consumption"
           ],
           "xaxis": "x",
           "y": {
            "bdata": "Ng==",
            "dtype": "i1"
           },
           "yaxis": "y"
          },
          {
           "hovertemplate": "Process Type=%{x}<br>month_period_str=2014-07<br>Cumulative Count=%{y}<extra></extra>",
           "legendgroup": "Residential Consumption",
           "marker": {
            "color": "#ab63fa",
            "pattern": {
             "shape": ""
            }
           },
           "name": "Residential Consumption",
           "orientation": "v",
           "showlegend": true,
           "textposition": "auto",
           "type": "bar",
           "x": [
            "Residential Consumption"
           ],
           "xaxis": "x",
           "y": {
            "bdata": "Nw==",
            "dtype": "i1"
           },
           "yaxis": "y"
          },
          {
           "hovertemplate": "Process Type=%{x}<br>month_period_str=2014-07<br>Cumulative Count=%{y}<extra></extra>",
           "legendgroup": "Vehicle Fuel Consumption",
           "marker": {
            "color": "#FFA15A",
            "pattern": {
             "shape": ""
            }
           },
           "name": "Vehicle Fuel Consumption",
           "orientation": "v",
           "showlegend": true,
           "textposition": "auto",
           "type": "bar",
           "x": [
            "Vehicle Fuel Consumption"
           ],
           "xaxis": "x",
           "y": {
            "bdata": "Nw==",
            "dtype": "i1"
           },
           "yaxis": "y"
          },
          {
           "hovertemplate": "Process Type=%{x}<br>month_period_str=2014-07<br>Cumulative Count=%{y}<extra></extra>",
           "legendgroup": "Electric Power Consumption",
           "marker": {
            "color": "#19d3f3",
            "pattern": {
             "shape": ""
            }
           },
           "name": "Electric Power Consumption",
           "orientation": "v",
           "showlegend": true,
           "textposition": "auto",
           "type": "bar",
           "x": [
            "Electric Power Consumption"
           ],
           "xaxis": "x",
           "y": {
            "bdata": "DA==",
            "dtype": "i1"
           },
           "yaxis": "y"
          }
         ],
         "name": "2014-07"
        },
        {
         "data": [
          {
           "hovertemplate": "Process Type=%{x}<br>month_period_str=2014-08<br>Cumulative Count=%{y}<extra></extra>",
           "legendgroup": "Commercial Consumption",
           "marker": {
            "color": "#636efa",
            "pattern": {
             "shape": ""
            }
           },
           "name": "Commercial Consumption",
           "orientation": "v",
           "showlegend": true,
           "textposition": "auto",
           "type": "bar",
           "x": [
            "Commercial Consumption"
           ],
           "xaxis": "x",
           "y": {
            "bdata": "OA==",
            "dtype": "i1"
           },
           "yaxis": "y"
          },
          {
           "hovertemplate": "Process Type=%{x}<br>month_period_str=2014-08<br>Cumulative Count=%{y}<extra></extra>",
           "legendgroup": "Delivered to Consumers",
           "marker": {
            "color": "#EF553B",
            "pattern": {
             "shape": ""
            }
           },
           "name": "Delivered to Consumers",
           "orientation": "v",
           "showlegend": true,
           "textposition": "auto",
           "type": "bar",
           "x": [
            "Delivered to Consumers"
           ],
           "xaxis": "x",
           "y": {
            "bdata": "OQ==",
            "dtype": "i1"
           },
           "yaxis": "y"
          },
          {
           "hovertemplate": "Process Type=%{x}<br>month_period_str=2014-08<br>Cumulative Count=%{y}<extra></extra>",
           "legendgroup": "Industrial Consumption",
           "marker": {
            "color": "#00cc96",
            "pattern": {
             "shape": ""
            }
           },
           "name": "Industrial Consumption",
           "orientation": "v",
           "showlegend": true,
           "textposition": "auto",
           "type": "bar",
           "x": [
            "Industrial Consumption"
           ],
           "xaxis": "x",
           "y": {
            "bdata": "Nw==",
            "dtype": "i1"
           },
           "yaxis": "y"
          },
          {
           "hovertemplate": "Process Type=%{x}<br>month_period_str=2014-08<br>Cumulative Count=%{y}<extra></extra>",
           "legendgroup": "Residential Consumption",
           "marker": {
            "color": "#ab63fa",
            "pattern": {
             "shape": ""
            }
           },
           "name": "Residential Consumption",
           "orientation": "v",
           "showlegend": true,
           "textposition": "auto",
           "type": "bar",
           "x": [
            "Residential Consumption"
           ],
           "xaxis": "x",
           "y": {
            "bdata": "OA==",
            "dtype": "i1"
           },
           "yaxis": "y"
          },
          {
           "hovertemplate": "Process Type=%{x}<br>month_period_str=2014-08<br>Cumulative Count=%{y}<extra></extra>",
           "legendgroup": "Vehicle Fuel Consumption",
           "marker": {
            "color": "#FFA15A",
            "pattern": {
             "shape": ""
            }
           },
           "name": "Vehicle Fuel Consumption",
           "orientation": "v",
           "showlegend": true,
           "textposition": "auto",
           "type": "bar",
           "x": [
            "Vehicle Fuel Consumption"
           ],
           "xaxis": "x",
           "y": {
            "bdata": "OA==",
            "dtype": "i1"
           },
           "yaxis": "y"
          },
          {
           "hovertemplate": "Process Type=%{x}<br>month_period_str=2014-08<br>Cumulative Count=%{y}<extra></extra>",
           "legendgroup": "Electric Power Consumption",
           "marker": {
            "color": "#19d3f3",
            "pattern": {
             "shape": ""
            }
           },
           "name": "Electric Power Consumption",
           "orientation": "v",
           "showlegend": true,
           "textposition": "auto",
           "type": "bar",
           "x": [
            "Electric Power Consumption"
           ],
           "xaxis": "x",
           "y": {
            "bdata": "DA==",
            "dtype": "i1"
           },
           "yaxis": "y"
          }
         ],
         "name": "2014-08"
        },
        {
         "data": [
          {
           "hovertemplate": "Process Type=%{x}<br>month_period_str=2014-09<br>Cumulative Count=%{y}<extra></extra>",
           "legendgroup": "Commercial Consumption",
           "marker": {
            "color": "#636efa",
            "pattern": {
             "shape": ""
            }
           },
           "name": "Commercial Consumption",
           "orientation": "v",
           "showlegend": true,
           "textposition": "auto",
           "type": "bar",
           "x": [
            "Commercial Consumption"
           ],
           "xaxis": "x",
           "y": {
            "bdata": "OQ==",
            "dtype": "i1"
           },
           "yaxis": "y"
          },
          {
           "hovertemplate": "Process Type=%{x}<br>month_period_str=2014-09<br>Cumulative Count=%{y}<extra></extra>",
           "legendgroup": "Delivered to Consumers",
           "marker": {
            "color": "#EF553B",
            "pattern": {
             "shape": ""
            }
           },
           "name": "Delivered to Consumers",
           "orientation": "v",
           "showlegend": true,
           "textposition": "auto",
           "type": "bar",
           "x": [
            "Delivered to Consumers"
           ],
           "xaxis": "x",
           "y": {
            "bdata": "Og==",
            "dtype": "i1"
           },
           "yaxis": "y"
          },
          {
           "hovertemplate": "Process Type=%{x}<br>month_period_str=2014-09<br>Cumulative Count=%{y}<extra></extra>",
           "legendgroup": "Industrial Consumption",
           "marker": {
            "color": "#00cc96",
            "pattern": {
             "shape": ""
            }
           },
           "name": "Industrial Consumption",
           "orientation": "v",
           "showlegend": true,
           "textposition": "auto",
           "type": "bar",
           "x": [
            "Industrial Consumption"
           ],
           "xaxis": "x",
           "y": {
            "bdata": "OA==",
            "dtype": "i1"
           },
           "yaxis": "y"
          },
          {
           "hovertemplate": "Process Type=%{x}<br>month_period_str=2014-09<br>Cumulative Count=%{y}<extra></extra>",
           "legendgroup": "Residential Consumption",
           "marker": {
            "color": "#ab63fa",
            "pattern": {
             "shape": ""
            }
           },
           "name": "Residential Consumption",
           "orientation": "v",
           "showlegend": true,
           "textposition": "auto",
           "type": "bar",
           "x": [
            "Residential Consumption"
           ],
           "xaxis": "x",
           "y": {
            "bdata": "OQ==",
            "dtype": "i1"
           },
           "yaxis": "y"
          },
          {
           "hovertemplate": "Process Type=%{x}<br>month_period_str=2014-09<br>Cumulative Count=%{y}<extra></extra>",
           "legendgroup": "Vehicle Fuel Consumption",
           "marker": {
            "color": "#FFA15A",
            "pattern": {
             "shape": ""
            }
           },
           "name": "Vehicle Fuel Consumption",
           "orientation": "v",
           "showlegend": true,
           "textposition": "auto",
           "type": "bar",
           "x": [
            "Vehicle Fuel Consumption"
           ],
           "xaxis": "x",
           "y": {
            "bdata": "OQ==",
            "dtype": "i1"
           },
           "yaxis": "y"
          },
          {
           "hovertemplate": "Process Type=%{x}<br>month_period_str=2014-09<br>Cumulative Count=%{y}<extra></extra>",
           "legendgroup": "Electric Power Consumption",
           "marker": {
            "color": "#19d3f3",
            "pattern": {
             "shape": ""
            }
           },
           "name": "Electric Power Consumption",
           "orientation": "v",
           "showlegend": true,
           "textposition": "auto",
           "type": "bar",
           "x": [
            "Electric Power Consumption"
           ],
           "xaxis": "x",
           "y": {
            "bdata": "DA==",
            "dtype": "i1"
           },
           "yaxis": "y"
          }
         ],
         "name": "2014-09"
        },
        {
         "data": [
          {
           "hovertemplate": "Process Type=%{x}<br>month_period_str=2014-10<br>Cumulative Count=%{y}<extra></extra>",
           "legendgroup": "Commercial Consumption",
           "marker": {
            "color": "#636efa",
            "pattern": {
             "shape": ""
            }
           },
           "name": "Commercial Consumption",
           "orientation": "v",
           "showlegend": true,
           "textposition": "auto",
           "type": "bar",
           "x": [
            "Commercial Consumption"
           ],
           "xaxis": "x",
           "y": {
            "bdata": "Og==",
            "dtype": "i1"
           },
           "yaxis": "y"
          },
          {
           "hovertemplate": "Process Type=%{x}<br>month_period_str=2014-10<br>Cumulative Count=%{y}<extra></extra>",
           "legendgroup": "Delivered to Consumers",
           "marker": {
            "color": "#EF553B",
            "pattern": {
             "shape": ""
            }
           },
           "name": "Delivered to Consumers",
           "orientation": "v",
           "showlegend": true,
           "textposition": "auto",
           "type": "bar",
           "x": [
            "Delivered to Consumers"
           ],
           "xaxis": "x",
           "y": {
            "bdata": "Ow==",
            "dtype": "i1"
           },
           "yaxis": "y"
          },
          {
           "hovertemplate": "Process Type=%{x}<br>month_period_str=2014-10<br>Cumulative Count=%{y}<extra></extra>",
           "legendgroup": "Industrial Consumption",
           "marker": {
            "color": "#00cc96",
            "pattern": {
             "shape": ""
            }
           },
           "name": "Industrial Consumption",
           "orientation": "v",
           "showlegend": true,
           "textposition": "auto",
           "type": "bar",
           "x": [
            "Industrial Consumption"
           ],
           "xaxis": "x",
           "y": {
            "bdata": "OQ==",
            "dtype": "i1"
           },
           "yaxis": "y"
          },
          {
           "hovertemplate": "Process Type=%{x}<br>month_period_str=2014-10<br>Cumulative Count=%{y}<extra></extra>",
           "legendgroup": "Residential Consumption",
           "marker": {
            "color": "#ab63fa",
            "pattern": {
             "shape": ""
            }
           },
           "name": "Residential Consumption",
           "orientation": "v",
           "showlegend": true,
           "textposition": "auto",
           "type": "bar",
           "x": [
            "Residential Consumption"
           ],
           "xaxis": "x",
           "y": {
            "bdata": "Og==",
            "dtype": "i1"
           },
           "yaxis": "y"
          },
          {
           "hovertemplate": "Process Type=%{x}<br>month_period_str=2014-10<br>Cumulative Count=%{y}<extra></extra>",
           "legendgroup": "Vehicle Fuel Consumption",
           "marker": {
            "color": "#FFA15A",
            "pattern": {
             "shape": ""
            }
           },
           "name": "Vehicle Fuel Consumption",
           "orientation": "v",
           "showlegend": true,
           "textposition": "auto",
           "type": "bar",
           "x": [
            "Vehicle Fuel Consumption"
           ],
           "xaxis": "x",
           "y": {
            "bdata": "Og==",
            "dtype": "i1"
           },
           "yaxis": "y"
          },
          {
           "hovertemplate": "Process Type=%{x}<br>month_period_str=2014-10<br>Cumulative Count=%{y}<extra></extra>",
           "legendgroup": "Electric Power Consumption",
           "marker": {
            "color": "#19d3f3",
            "pattern": {
             "shape": ""
            }
           },
           "name": "Electric Power Consumption",
           "orientation": "v",
           "showlegend": true,
           "textposition": "auto",
           "type": "bar",
           "x": [
            "Electric Power Consumption"
           ],
           "xaxis": "x",
           "y": {
            "bdata": "DA==",
            "dtype": "i1"
           },
           "yaxis": "y"
          }
         ],
         "name": "2014-10"
        },
        {
         "data": [
          {
           "hovertemplate": "Process Type=%{x}<br>month_period_str=2014-11<br>Cumulative Count=%{y}<extra></extra>",
           "legendgroup": "Commercial Consumption",
           "marker": {
            "color": "#636efa",
            "pattern": {
             "shape": ""
            }
           },
           "name": "Commercial Consumption",
           "orientation": "v",
           "showlegend": true,
           "textposition": "auto",
           "type": "bar",
           "x": [
            "Commercial Consumption"
           ],
           "xaxis": "x",
           "y": {
            "bdata": "Ow==",
            "dtype": "i1"
           },
           "yaxis": "y"
          },
          {
           "hovertemplate": "Process Type=%{x}<br>month_period_str=2014-11<br>Cumulative Count=%{y}<extra></extra>",
           "legendgroup": "Delivered to Consumers",
           "marker": {
            "color": "#EF553B",
            "pattern": {
             "shape": ""
            }
           },
           "name": "Delivered to Consumers",
           "orientation": "v",
           "showlegend": true,
           "textposition": "auto",
           "type": "bar",
           "x": [
            "Delivered to Consumers"
           ],
           "xaxis": "x",
           "y": {
            "bdata": "PA==",
            "dtype": "i1"
           },
           "yaxis": "y"
          },
          {
           "hovertemplate": "Process Type=%{x}<br>month_period_str=2014-11<br>Cumulative Count=%{y}<extra></extra>",
           "legendgroup": "Industrial Consumption",
           "marker": {
            "color": "#00cc96",
            "pattern": {
             "shape": ""
            }
           },
           "name": "Industrial Consumption",
           "orientation": "v",
           "showlegend": true,
           "textposition": "auto",
           "type": "bar",
           "x": [
            "Industrial Consumption"
           ],
           "xaxis": "x",
           "y": {
            "bdata": "Og==",
            "dtype": "i1"
           },
           "yaxis": "y"
          },
          {
           "hovertemplate": "Process Type=%{x}<br>month_period_str=2014-11<br>Cumulative Count=%{y}<extra></extra>",
           "legendgroup": "Residential Consumption",
           "marker": {
            "color": "#ab63fa",
            "pattern": {
             "shape": ""
            }
           },
           "name": "Residential Consumption",
           "orientation": "v",
           "showlegend": true,
           "textposition": "auto",
           "type": "bar",
           "x": [
            "Residential Consumption"
           ],
           "xaxis": "x",
           "y": {
            "bdata": "Ow==",
            "dtype": "i1"
           },
           "yaxis": "y"
          },
          {
           "hovertemplate": "Process Type=%{x}<br>month_period_str=2014-11<br>Cumulative Count=%{y}<extra></extra>",
           "legendgroup": "Vehicle Fuel Consumption",
           "marker": {
            "color": "#FFA15A",
            "pattern": {
             "shape": ""
            }
           },
           "name": "Vehicle Fuel Consumption",
           "orientation": "v",
           "showlegend": true,
           "textposition": "auto",
           "type": "bar",
           "x": [
            "Vehicle Fuel Consumption"
           ],
           "xaxis": "x",
           "y": {
            "bdata": "Ow==",
            "dtype": "i1"
           },
           "yaxis": "y"
          },
          {
           "hovertemplate": "Process Type=%{x}<br>month_period_str=2014-11<br>Cumulative Count=%{y}<extra></extra>",
           "legendgroup": "Electric Power Consumption",
           "marker": {
            "color": "#19d3f3",
            "pattern": {
             "shape": ""
            }
           },
           "name": "Electric Power Consumption",
           "orientation": "v",
           "showlegend": true,
           "textposition": "auto",
           "type": "bar",
           "x": [
            "Electric Power Consumption"
           ],
           "xaxis": "x",
           "y": {
            "bdata": "DA==",
            "dtype": "i1"
           },
           "yaxis": "y"
          }
         ],
         "name": "2014-11"
        },
        {
         "data": [
          {
           "hovertemplate": "Process Type=%{x}<br>month_period_str=2014-12<br>Cumulative Count=%{y}<extra></extra>",
           "legendgroup": "Commercial Consumption",
           "marker": {
            "color": "#636efa",
            "pattern": {
             "shape": ""
            }
           },
           "name": "Commercial Consumption",
           "orientation": "v",
           "showlegend": true,
           "textposition": "auto",
           "type": "bar",
           "x": [
            "Commercial Consumption"
           ],
           "xaxis": "x",
           "y": {
            "bdata": "PA==",
            "dtype": "i1"
           },
           "yaxis": "y"
          },
          {
           "hovertemplate": "Process Type=%{x}<br>month_period_str=2014-12<br>Cumulative Count=%{y}<extra></extra>",
           "legendgroup": "Delivered to Consumers",
           "marker": {
            "color": "#EF553B",
            "pattern": {
             "shape": ""
            }
           },
           "name": "Delivered to Consumers",
           "orientation": "v",
           "showlegend": true,
           "textposition": "auto",
           "type": "bar",
           "x": [
            "Delivered to Consumers"
           ],
           "xaxis": "x",
           "y": {
            "bdata": "PQ==",
            "dtype": "i1"
           },
           "yaxis": "y"
          },
          {
           "hovertemplate": "Process Type=%{x}<br>month_period_str=2014-12<br>Cumulative Count=%{y}<extra></extra>",
           "legendgroup": "Industrial Consumption",
           "marker": {
            "color": "#00cc96",
            "pattern": {
             "shape": ""
            }
           },
           "name": "Industrial Consumption",
           "orientation": "v",
           "showlegend": true,
           "textposition": "auto",
           "type": "bar",
           "x": [
            "Industrial Consumption"
           ],
           "xaxis": "x",
           "y": {
            "bdata": "Ow==",
            "dtype": "i1"
           },
           "yaxis": "y"
          },
          {
           "hovertemplate": "Process Type=%{x}<br>month_period_str=2014-12<br>Cumulative Count=%{y}<extra></extra>",
           "legendgroup": "Residential Consumption",
           "marker": {
            "color": "#ab63fa",
            "pattern": {
             "shape": ""
            }
           },
           "name": "Residential Consumption",
           "orientation": "v",
           "showlegend": true,
           "textposition": "auto",
           "type": "bar",
           "x": [
            "Residential Consumption"
           ],
           "xaxis": "x",
           "y": {
            "bdata": "PA==",
            "dtype": "i1"
           },
           "yaxis": "y"
          },
          {
           "hovertemplate": "Process Type=%{x}<br>month_period_str=2014-12<br>Cumulative Count=%{y}<extra></extra>",
           "legendgroup": "Vehicle Fuel Consumption",
           "marker": {
            "color": "#FFA15A",
            "pattern": {
             "shape": ""
            }
           },
           "name": "Vehicle Fuel Consumption",
           "orientation": "v",
           "showlegend": true,
           "textposition": "auto",
           "type": "bar",
           "x": [
            "Vehicle Fuel Consumption"
           ],
           "xaxis": "x",
           "y": {
            "bdata": "PA==",
            "dtype": "i1"
           },
           "yaxis": "y"
          },
          {
           "hovertemplate": "Process Type=%{x}<br>month_period_str=2014-12<br>Cumulative Count=%{y}<extra></extra>",
           "legendgroup": "Electric Power Consumption",
           "marker": {
            "color": "#19d3f3",
            "pattern": {
             "shape": ""
            }
           },
           "name": "Electric Power Consumption",
           "orientation": "v",
           "showlegend": true,
           "textposition": "auto",
           "type": "bar",
           "x": [
            "Electric Power Consumption"
           ],
           "xaxis": "x",
           "y": {
            "bdata": "DA==",
            "dtype": "i1"
           },
           "yaxis": "y"
          }
         ],
         "name": "2014-12"
        },
        {
         "data": [
          {
           "hovertemplate": "Process Type=%{x}<br>month_period_str=2015-01<br>Cumulative Count=%{y}<extra></extra>",
           "legendgroup": "Commercial Consumption",
           "marker": {
            "color": "#636efa",
            "pattern": {
             "shape": ""
            }
           },
           "name": "Commercial Consumption",
           "orientation": "v",
           "showlegend": true,
           "textposition": "auto",
           "type": "bar",
           "x": [
            "Commercial Consumption"
           ],
           "xaxis": "x",
           "y": {
            "bdata": "PQ==",
            "dtype": "i1"
           },
           "yaxis": "y"
          },
          {
           "hovertemplate": "Process Type=%{x}<br>month_period_str=2015-01<br>Cumulative Count=%{y}<extra></extra>",
           "legendgroup": "Delivered to Consumers",
           "marker": {
            "color": "#EF553B",
            "pattern": {
             "shape": ""
            }
           },
           "name": "Delivered to Consumers",
           "orientation": "v",
           "showlegend": true,
           "textposition": "auto",
           "type": "bar",
           "x": [
            "Delivered to Consumers"
           ],
           "xaxis": "x",
           "y": {
            "bdata": "Pg==",
            "dtype": "i1"
           },
           "yaxis": "y"
          },
          {
           "hovertemplate": "Process Type=%{x}<br>month_period_str=2015-01<br>Cumulative Count=%{y}<extra></extra>",
           "legendgroup": "Industrial Consumption",
           "marker": {
            "color": "#00cc96",
            "pattern": {
             "shape": ""
            }
           },
           "name": "Industrial Consumption",
           "orientation": "v",
           "showlegend": true,
           "textposition": "auto",
           "type": "bar",
           "x": [
            "Industrial Consumption"
           ],
           "xaxis": "x",
           "y": {
            "bdata": "PA==",
            "dtype": "i1"
           },
           "yaxis": "y"
          },
          {
           "hovertemplate": "Process Type=%{x}<br>month_period_str=2015-01<br>Cumulative Count=%{y}<extra></extra>",
           "legendgroup": "Residential Consumption",
           "marker": {
            "color": "#ab63fa",
            "pattern": {
             "shape": ""
            }
           },
           "name": "Residential Consumption",
           "orientation": "v",
           "showlegend": true,
           "textposition": "auto",
           "type": "bar",
           "x": [
            "Residential Consumption"
           ],
           "xaxis": "x",
           "y": {
            "bdata": "PQ==",
            "dtype": "i1"
           },
           "yaxis": "y"
          },
          {
           "hovertemplate": "Process Type=%{x}<br>month_period_str=2015-01<br>Cumulative Count=%{y}<extra></extra>",
           "legendgroup": "Vehicle Fuel Consumption",
           "marker": {
            "color": "#FFA15A",
            "pattern": {
             "shape": ""
            }
           },
           "name": "Vehicle Fuel Consumption",
           "orientation": "v",
           "showlegend": true,
           "textposition": "auto",
           "type": "bar",
           "x": [
            "Vehicle Fuel Consumption"
           ],
           "xaxis": "x",
           "y": {
            "bdata": "PQ==",
            "dtype": "i1"
           },
           "yaxis": "y"
          },
          {
           "hovertemplate": "Process Type=%{x}<br>month_period_str=2015-01<br>Cumulative Count=%{y}<extra></extra>",
           "legendgroup": "Electric Power Consumption",
           "marker": {
            "color": "#19d3f3",
            "pattern": {
             "shape": ""
            }
           },
           "name": "Electric Power Consumption",
           "orientation": "v",
           "showlegend": true,
           "textposition": "auto",
           "type": "bar",
           "x": [
            "Electric Power Consumption"
           ],
           "xaxis": "x",
           "y": {
            "bdata": "DA==",
            "dtype": "i1"
           },
           "yaxis": "y"
          }
         ],
         "name": "2015-01"
        },
        {
         "data": [
          {
           "hovertemplate": "Process Type=%{x}<br>month_period_str=2015-02<br>Cumulative Count=%{y}<extra></extra>",
           "legendgroup": "Commercial Consumption",
           "marker": {
            "color": "#636efa",
            "pattern": {
             "shape": ""
            }
           },
           "name": "Commercial Consumption",
           "orientation": "v",
           "showlegend": true,
           "textposition": "auto",
           "type": "bar",
           "x": [
            "Commercial Consumption"
           ],
           "xaxis": "x",
           "y": {
            "bdata": "Pg==",
            "dtype": "i1"
           },
           "yaxis": "y"
          },
          {
           "hovertemplate": "Process Type=%{x}<br>month_period_str=2015-02<br>Cumulative Count=%{y}<extra></extra>",
           "legendgroup": "Delivered to Consumers",
           "marker": {
            "color": "#EF553B",
            "pattern": {
             "shape": ""
            }
           },
           "name": "Delivered to Consumers",
           "orientation": "v",
           "showlegend": true,
           "textposition": "auto",
           "type": "bar",
           "x": [
            "Delivered to Consumers"
           ],
           "xaxis": "x",
           "y": {
            "bdata": "Pw==",
            "dtype": "i1"
           },
           "yaxis": "y"
          },
          {
           "hovertemplate": "Process Type=%{x}<br>month_period_str=2015-02<br>Cumulative Count=%{y}<extra></extra>",
           "legendgroup": "Industrial Consumption",
           "marker": {
            "color": "#00cc96",
            "pattern": {
             "shape": ""
            }
           },
           "name": "Industrial Consumption",
           "orientation": "v",
           "showlegend": true,
           "textposition": "auto",
           "type": "bar",
           "x": [
            "Industrial Consumption"
           ],
           "xaxis": "x",
           "y": {
            "bdata": "PQ==",
            "dtype": "i1"
           },
           "yaxis": "y"
          },
          {
           "hovertemplate": "Process Type=%{x}<br>month_period_str=2015-02<br>Cumulative Count=%{y}<extra></extra>",
           "legendgroup": "Residential Consumption",
           "marker": {
            "color": "#ab63fa",
            "pattern": {
             "shape": ""
            }
           },
           "name": "Residential Consumption",
           "orientation": "v",
           "showlegend": true,
           "textposition": "auto",
           "type": "bar",
           "x": [
            "Residential Consumption"
           ],
           "xaxis": "x",
           "y": {
            "bdata": "Pg==",
            "dtype": "i1"
           },
           "yaxis": "y"
          },
          {
           "hovertemplate": "Process Type=%{x}<br>month_period_str=2015-02<br>Cumulative Count=%{y}<extra></extra>",
           "legendgroup": "Vehicle Fuel Consumption",
           "marker": {
            "color": "#FFA15A",
            "pattern": {
             "shape": ""
            }
           },
           "name": "Vehicle Fuel Consumption",
           "orientation": "v",
           "showlegend": true,
           "textposition": "auto",
           "type": "bar",
           "x": [
            "Vehicle Fuel Consumption"
           ],
           "xaxis": "x",
           "y": {
            "bdata": "Pg==",
            "dtype": "i1"
           },
           "yaxis": "y"
          },
          {
           "hovertemplate": "Process Type=%{x}<br>month_period_str=2015-02<br>Cumulative Count=%{y}<extra></extra>",
           "legendgroup": "Electric Power Consumption",
           "marker": {
            "color": "#19d3f3",
            "pattern": {
             "shape": ""
            }
           },
           "name": "Electric Power Consumption",
           "orientation": "v",
           "showlegend": true,
           "textposition": "auto",
           "type": "bar",
           "x": [
            "Electric Power Consumption"
           ],
           "xaxis": "x",
           "y": {
            "bdata": "DA==",
            "dtype": "i1"
           },
           "yaxis": "y"
          }
         ],
         "name": "2015-02"
        },
        {
         "data": [
          {
           "hovertemplate": "Process Type=%{x}<br>month_period_str=2015-03<br>Cumulative Count=%{y}<extra></extra>",
           "legendgroup": "Commercial Consumption",
           "marker": {
            "color": "#636efa",
            "pattern": {
             "shape": ""
            }
           },
           "name": "Commercial Consumption",
           "orientation": "v",
           "showlegend": true,
           "textposition": "auto",
           "type": "bar",
           "x": [
            "Commercial Consumption"
           ],
           "xaxis": "x",
           "y": {
            "bdata": "Pw==",
            "dtype": "i1"
           },
           "yaxis": "y"
          },
          {
           "hovertemplate": "Process Type=%{x}<br>month_period_str=2015-03<br>Cumulative Count=%{y}<extra></extra>",
           "legendgroup": "Delivered to Consumers",
           "marker": {
            "color": "#EF553B",
            "pattern": {
             "shape": ""
            }
           },
           "name": "Delivered to Consumers",
           "orientation": "v",
           "showlegend": true,
           "textposition": "auto",
           "type": "bar",
           "x": [
            "Delivered to Consumers"
           ],
           "xaxis": "x",
           "y": {
            "bdata": "QA==",
            "dtype": "i1"
           },
           "yaxis": "y"
          },
          {
           "hovertemplate": "Process Type=%{x}<br>month_period_str=2015-03<br>Cumulative Count=%{y}<extra></extra>",
           "legendgroup": "Industrial Consumption",
           "marker": {
            "color": "#00cc96",
            "pattern": {
             "shape": ""
            }
           },
           "name": "Industrial Consumption",
           "orientation": "v",
           "showlegend": true,
           "textposition": "auto",
           "type": "bar",
           "x": [
            "Industrial Consumption"
           ],
           "xaxis": "x",
           "y": {
            "bdata": "Pg==",
            "dtype": "i1"
           },
           "yaxis": "y"
          },
          {
           "hovertemplate": "Process Type=%{x}<br>month_period_str=2015-03<br>Cumulative Count=%{y}<extra></extra>",
           "legendgroup": "Residential Consumption",
           "marker": {
            "color": "#ab63fa",
            "pattern": {
             "shape": ""
            }
           },
           "name": "Residential Consumption",
           "orientation": "v",
           "showlegend": true,
           "textposition": "auto",
           "type": "bar",
           "x": [
            "Residential Consumption"
           ],
           "xaxis": "x",
           "y": {
            "bdata": "Pw==",
            "dtype": "i1"
           },
           "yaxis": "y"
          },
          {
           "hovertemplate": "Process Type=%{x}<br>month_period_str=2015-03<br>Cumulative Count=%{y}<extra></extra>",
           "legendgroup": "Vehicle Fuel Consumption",
           "marker": {
            "color": "#FFA15A",
            "pattern": {
             "shape": ""
            }
           },
           "name": "Vehicle Fuel Consumption",
           "orientation": "v",
           "showlegend": true,
           "textposition": "auto",
           "type": "bar",
           "x": [
            "Vehicle Fuel Consumption"
           ],
           "xaxis": "x",
           "y": {
            "bdata": "Pw==",
            "dtype": "i1"
           },
           "yaxis": "y"
          },
          {
           "hovertemplate": "Process Type=%{x}<br>month_period_str=2015-03<br>Cumulative Count=%{y}<extra></extra>",
           "legendgroup": "Electric Power Consumption",
           "marker": {
            "color": "#19d3f3",
            "pattern": {
             "shape": ""
            }
           },
           "name": "Electric Power Consumption",
           "orientation": "v",
           "showlegend": true,
           "textposition": "auto",
           "type": "bar",
           "x": [
            "Electric Power Consumption"
           ],
           "xaxis": "x",
           "y": {
            "bdata": "DA==",
            "dtype": "i1"
           },
           "yaxis": "y"
          }
         ],
         "name": "2015-03"
        },
        {
         "data": [
          {
           "hovertemplate": "Process Type=%{x}<br>month_period_str=2015-04<br>Cumulative Count=%{y}<extra></extra>",
           "legendgroup": "Commercial Consumption",
           "marker": {
            "color": "#636efa",
            "pattern": {
             "shape": ""
            }
           },
           "name": "Commercial Consumption",
           "orientation": "v",
           "showlegend": true,
           "textposition": "auto",
           "type": "bar",
           "x": [
            "Commercial Consumption"
           ],
           "xaxis": "x",
           "y": {
            "bdata": "Pw==",
            "dtype": "i1"
           },
           "yaxis": "y"
          },
          {
           "hovertemplate": "Process Type=%{x}<br>month_period_str=2015-04<br>Cumulative Count=%{y}<extra></extra>",
           "legendgroup": "Delivered to Consumers",
           "marker": {
            "color": "#EF553B",
            "pattern": {
             "shape": ""
            }
           },
           "name": "Delivered to Consumers",
           "orientation": "v",
           "showlegend": true,
           "textposition": "auto",
           "type": "bar",
           "x": [
            "Delivered to Consumers"
           ],
           "xaxis": "x",
           "y": {
            "bdata": "QA==",
            "dtype": "i1"
           },
           "yaxis": "y"
          },
          {
           "hovertemplate": "Process Type=%{x}<br>month_period_str=2015-04<br>Cumulative Count=%{y}<extra></extra>",
           "legendgroup": "Industrial Consumption",
           "marker": {
            "color": "#00cc96",
            "pattern": {
             "shape": ""
            }
           },
           "name": "Industrial Consumption",
           "orientation": "v",
           "showlegend": true,
           "textposition": "auto",
           "type": "bar",
           "x": [
            "Industrial Consumption"
           ],
           "xaxis": "x",
           "y": {
            "bdata": "Pg==",
            "dtype": "i1"
           },
           "yaxis": "y"
          },
          {
           "hovertemplate": "Process Type=%{x}<br>month_period_str=2015-04<br>Cumulative Count=%{y}<extra></extra>",
           "legendgroup": "Residential Consumption",
           "marker": {
            "color": "#ab63fa",
            "pattern": {
             "shape": ""
            }
           },
           "name": "Residential Consumption",
           "orientation": "v",
           "showlegend": true,
           "textposition": "auto",
           "type": "bar",
           "x": [
            "Residential Consumption"
           ],
           "xaxis": "x",
           "y": {
            "bdata": "QA==",
            "dtype": "i1"
           },
           "yaxis": "y"
          },
          {
           "hovertemplate": "Process Type=%{x}<br>month_period_str=2015-04<br>Cumulative Count=%{y}<extra></extra>",
           "legendgroup": "Vehicle Fuel Consumption",
           "marker": {
            "color": "#FFA15A",
            "pattern": {
             "shape": ""
            }
           },
           "name": "Vehicle Fuel Consumption",
           "orientation": "v",
           "showlegend": true,
           "textposition": "auto",
           "type": "bar",
           "x": [
            "Vehicle Fuel Consumption"
           ],
           "xaxis": "x",
           "y": {
            "bdata": "QA==",
            "dtype": "i1"
           },
           "yaxis": "y"
          },
          {
           "hovertemplate": "Process Type=%{x}<br>month_period_str=2015-04<br>Cumulative Count=%{y}<extra></extra>",
           "legendgroup": "Electric Power Consumption",
           "marker": {
            "color": "#19d3f3",
            "pattern": {
             "shape": ""
            }
           },
           "name": "Electric Power Consumption",
           "orientation": "v",
           "showlegend": true,
           "textposition": "auto",
           "type": "bar",
           "x": [
            "Electric Power Consumption"
           ],
           "xaxis": "x",
           "y": {
            "bdata": "DA==",
            "dtype": "i1"
           },
           "yaxis": "y"
          }
         ],
         "name": "2015-04"
        },
        {
         "data": [
          {
           "hovertemplate": "Process Type=%{x}<br>month_period_str=2015-05<br>Cumulative Count=%{y}<extra></extra>",
           "legendgroup": "Commercial Consumption",
           "marker": {
            "color": "#636efa",
            "pattern": {
             "shape": ""
            }
           },
           "name": "Commercial Consumption",
           "orientation": "v",
           "showlegend": true,
           "textposition": "auto",
           "type": "bar",
           "x": [
            "Commercial Consumption"
           ],
           "xaxis": "x",
           "y": {
            "bdata": "QA==",
            "dtype": "i1"
           },
           "yaxis": "y"
          },
          {
           "hovertemplate": "Process Type=%{x}<br>month_period_str=2015-05<br>Cumulative Count=%{y}<extra></extra>",
           "legendgroup": "Delivered to Consumers",
           "marker": {
            "color": "#EF553B",
            "pattern": {
             "shape": ""
            }
           },
           "name": "Delivered to Consumers",
           "orientation": "v",
           "showlegend": true,
           "textposition": "auto",
           "type": "bar",
           "x": [
            "Delivered to Consumers"
           ],
           "xaxis": "x",
           "y": {
            "bdata": "QQ==",
            "dtype": "i1"
           },
           "yaxis": "y"
          },
          {
           "hovertemplate": "Process Type=%{x}<br>month_period_str=2015-05<br>Cumulative Count=%{y}<extra></extra>",
           "legendgroup": "Industrial Consumption",
           "marker": {
            "color": "#00cc96",
            "pattern": {
             "shape": ""
            }
           },
           "name": "Industrial Consumption",
           "orientation": "v",
           "showlegend": true,
           "textposition": "auto",
           "type": "bar",
           "x": [
            "Industrial Consumption"
           ],
           "xaxis": "x",
           "y": {
            "bdata": "Pw==",
            "dtype": "i1"
           },
           "yaxis": "y"
          },
          {
           "hovertemplate": "Process Type=%{x}<br>month_period_str=2015-05<br>Cumulative Count=%{y}<extra></extra>",
           "legendgroup": "Residential Consumption",
           "marker": {
            "color": "#ab63fa",
            "pattern": {
             "shape": ""
            }
           },
           "name": "Residential Consumption",
           "orientation": "v",
           "showlegend": true,
           "textposition": "auto",
           "type": "bar",
           "x": [
            "Residential Consumption"
           ],
           "xaxis": "x",
           "y": {
            "bdata": "QQ==",
            "dtype": "i1"
           },
           "yaxis": "y"
          },
          {
           "hovertemplate": "Process Type=%{x}<br>month_period_str=2015-05<br>Cumulative Count=%{y}<extra></extra>",
           "legendgroup": "Vehicle Fuel Consumption",
           "marker": {
            "color": "#FFA15A",
            "pattern": {
             "shape": ""
            }
           },
           "name": "Vehicle Fuel Consumption",
           "orientation": "v",
           "showlegend": true,
           "textposition": "auto",
           "type": "bar",
           "x": [
            "Vehicle Fuel Consumption"
           ],
           "xaxis": "x",
           "y": {
            "bdata": "QQ==",
            "dtype": "i1"
           },
           "yaxis": "y"
          },
          {
           "hovertemplate": "Process Type=%{x}<br>month_period_str=2015-05<br>Cumulative Count=%{y}<extra></extra>",
           "legendgroup": "Electric Power Consumption",
           "marker": {
            "color": "#19d3f3",
            "pattern": {
             "shape": ""
            }
           },
           "name": "Electric Power Consumption",
           "orientation": "v",
           "showlegend": true,
           "textposition": "auto",
           "type": "bar",
           "x": [
            "Electric Power Consumption"
           ],
           "xaxis": "x",
           "y": {
            "bdata": "DA==",
            "dtype": "i1"
           },
           "yaxis": "y"
          }
         ],
         "name": "2015-05"
        },
        {
         "data": [
          {
           "hovertemplate": "Process Type=%{x}<br>month_period_str=2015-06<br>Cumulative Count=%{y}<extra></extra>",
           "legendgroup": "Commercial Consumption",
           "marker": {
            "color": "#636efa",
            "pattern": {
             "shape": ""
            }
           },
           "name": "Commercial Consumption",
           "orientation": "v",
           "showlegend": true,
           "textposition": "auto",
           "type": "bar",
           "x": [
            "Commercial Consumption"
           ],
           "xaxis": "x",
           "y": {
            "bdata": "QQ==",
            "dtype": "i1"
           },
           "yaxis": "y"
          },
          {
           "hovertemplate": "Process Type=%{x}<br>month_period_str=2015-06<br>Cumulative Count=%{y}<extra></extra>",
           "legendgroup": "Delivered to Consumers",
           "marker": {
            "color": "#EF553B",
            "pattern": {
             "shape": ""
            }
           },
           "name": "Delivered to Consumers",
           "orientation": "v",
           "showlegend": true,
           "textposition": "auto",
           "type": "bar",
           "x": [
            "Delivered to Consumers"
           ],
           "xaxis": "x",
           "y": {
            "bdata": "Qg==",
            "dtype": "i1"
           },
           "yaxis": "y"
          },
          {
           "hovertemplate": "Process Type=%{x}<br>month_period_str=2015-06<br>Cumulative Count=%{y}<extra></extra>",
           "legendgroup": "Industrial Consumption",
           "marker": {
            "color": "#00cc96",
            "pattern": {
             "shape": ""
            }
           },
           "name": "Industrial Consumption",
           "orientation": "v",
           "showlegend": true,
           "textposition": "auto",
           "type": "bar",
           "x": [
            "Industrial Consumption"
           ],
           "xaxis": "x",
           "y": {
            "bdata": "QA==",
            "dtype": "i1"
           },
           "yaxis": "y"
          },
          {
           "hovertemplate": "Process Type=%{x}<br>month_period_str=2015-06<br>Cumulative Count=%{y}<extra></extra>",
           "legendgroup": "Residential Consumption",
           "marker": {
            "color": "#ab63fa",
            "pattern": {
             "shape": ""
            }
           },
           "name": "Residential Consumption",
           "orientation": "v",
           "showlegend": true,
           "textposition": "auto",
           "type": "bar",
           "x": [
            "Residential Consumption"
           ],
           "xaxis": "x",
           "y": {
            "bdata": "Qg==",
            "dtype": "i1"
           },
           "yaxis": "y"
          },
          {
           "hovertemplate": "Process Type=%{x}<br>month_period_str=2015-06<br>Cumulative Count=%{y}<extra></extra>",
           "legendgroup": "Vehicle Fuel Consumption",
           "marker": {
            "color": "#FFA15A",
            "pattern": {
             "shape": ""
            }
           },
           "name": "Vehicle Fuel Consumption",
           "orientation": "v",
           "showlegend": true,
           "textposition": "auto",
           "type": "bar",
           "x": [
            "Vehicle Fuel Consumption"
           ],
           "xaxis": "x",
           "y": {
            "bdata": "Qg==",
            "dtype": "i1"
           },
           "yaxis": "y"
          },
          {
           "hovertemplate": "Process Type=%{x}<br>month_period_str=2015-06<br>Cumulative Count=%{y}<extra></extra>",
           "legendgroup": "Electric Power Consumption",
           "marker": {
            "color": "#19d3f3",
            "pattern": {
             "shape": ""
            }
           },
           "name": "Electric Power Consumption",
           "orientation": "v",
           "showlegend": true,
           "textposition": "auto",
           "type": "bar",
           "x": [
            "Electric Power Consumption"
           ],
           "xaxis": "x",
           "y": {
            "bdata": "DA==",
            "dtype": "i1"
           },
           "yaxis": "y"
          }
         ],
         "name": "2015-06"
        },
        {
         "data": [
          {
           "hovertemplate": "Process Type=%{x}<br>month_period_str=2015-07<br>Cumulative Count=%{y}<extra></extra>",
           "legendgroup": "Commercial Consumption",
           "marker": {
            "color": "#636efa",
            "pattern": {
             "shape": ""
            }
           },
           "name": "Commercial Consumption",
           "orientation": "v",
           "showlegend": true,
           "textposition": "auto",
           "type": "bar",
           "x": [
            "Commercial Consumption"
           ],
           "xaxis": "x",
           "y": {
            "bdata": "Qg==",
            "dtype": "i1"
           },
           "yaxis": "y"
          },
          {
           "hovertemplate": "Process Type=%{x}<br>month_period_str=2015-07<br>Cumulative Count=%{y}<extra></extra>",
           "legendgroup": "Delivered to Consumers",
           "marker": {
            "color": "#EF553B",
            "pattern": {
             "shape": ""
            }
           },
           "name": "Delivered to Consumers",
           "orientation": "v",
           "showlegend": true,
           "textposition": "auto",
           "type": "bar",
           "x": [
            "Delivered to Consumers"
           ],
           "xaxis": "x",
           "y": {
            "bdata": "Qw==",
            "dtype": "i1"
           },
           "yaxis": "y"
          },
          {
           "hovertemplate": "Process Type=%{x}<br>month_period_str=2015-07<br>Cumulative Count=%{y}<extra></extra>",
           "legendgroup": "Industrial Consumption",
           "marker": {
            "color": "#00cc96",
            "pattern": {
             "shape": ""
            }
           },
           "name": "Industrial Consumption",
           "orientation": "v",
           "showlegend": true,
           "textposition": "auto",
           "type": "bar",
           "x": [
            "Industrial Consumption"
           ],
           "xaxis": "x",
           "y": {
            "bdata": "QQ==",
            "dtype": "i1"
           },
           "yaxis": "y"
          },
          {
           "hovertemplate": "Process Type=%{x}<br>month_period_str=2015-07<br>Cumulative Count=%{y}<extra></extra>",
           "legendgroup": "Residential Consumption",
           "marker": {
            "color": "#ab63fa",
            "pattern": {
             "shape": ""
            }
           },
           "name": "Residential Consumption",
           "orientation": "v",
           "showlegend": true,
           "textposition": "auto",
           "type": "bar",
           "x": [
            "Residential Consumption"
           ],
           "xaxis": "x",
           "y": {
            "bdata": "Qw==",
            "dtype": "i1"
           },
           "yaxis": "y"
          },
          {
           "hovertemplate": "Process Type=%{x}<br>month_period_str=2015-07<br>Cumulative Count=%{y}<extra></extra>",
           "legendgroup": "Vehicle Fuel Consumption",
           "marker": {
            "color": "#FFA15A",
            "pattern": {
             "shape": ""
            }
           },
           "name": "Vehicle Fuel Consumption",
           "orientation": "v",
           "showlegend": true,
           "textposition": "auto",
           "type": "bar",
           "x": [
            "Vehicle Fuel Consumption"
           ],
           "xaxis": "x",
           "y": {
            "bdata": "Qw==",
            "dtype": "i1"
           },
           "yaxis": "y"
          },
          {
           "hovertemplate": "Process Type=%{x}<br>month_period_str=2015-07<br>Cumulative Count=%{y}<extra></extra>",
           "legendgroup": "Electric Power Consumption",
           "marker": {
            "color": "#19d3f3",
            "pattern": {
             "shape": ""
            }
           },
           "name": "Electric Power Consumption",
           "orientation": "v",
           "showlegend": true,
           "textposition": "auto",
           "type": "bar",
           "x": [
            "Electric Power Consumption"
           ],
           "xaxis": "x",
           "y": {
            "bdata": "DA==",
            "dtype": "i1"
           },
           "yaxis": "y"
          }
         ],
         "name": "2015-07"
        },
        {
         "data": [
          {
           "hovertemplate": "Process Type=%{x}<br>month_period_str=2015-08<br>Cumulative Count=%{y}<extra></extra>",
           "legendgroup": "Commercial Consumption",
           "marker": {
            "color": "#636efa",
            "pattern": {
             "shape": ""
            }
           },
           "name": "Commercial Consumption",
           "orientation": "v",
           "showlegend": true,
           "textposition": "auto",
           "type": "bar",
           "x": [
            "Commercial Consumption"
           ],
           "xaxis": "x",
           "y": {
            "bdata": "Qw==",
            "dtype": "i1"
           },
           "yaxis": "y"
          },
          {
           "hovertemplate": "Process Type=%{x}<br>month_period_str=2015-08<br>Cumulative Count=%{y}<extra></extra>",
           "legendgroup": "Delivered to Consumers",
           "marker": {
            "color": "#EF553B",
            "pattern": {
             "shape": ""
            }
           },
           "name": "Delivered to Consumers",
           "orientation": "v",
           "showlegend": true,
           "textposition": "auto",
           "type": "bar",
           "x": [
            "Delivered to Consumers"
           ],
           "xaxis": "x",
           "y": {
            "bdata": "RA==",
            "dtype": "i1"
           },
           "yaxis": "y"
          },
          {
           "hovertemplate": "Process Type=%{x}<br>month_period_str=2015-08<br>Cumulative Count=%{y}<extra></extra>",
           "legendgroup": "Industrial Consumption",
           "marker": {
            "color": "#00cc96",
            "pattern": {
             "shape": ""
            }
           },
           "name": "Industrial Consumption",
           "orientation": "v",
           "showlegend": true,
           "textposition": "auto",
           "type": "bar",
           "x": [
            "Industrial Consumption"
           ],
           "xaxis": "x",
           "y": {
            "bdata": "Qg==",
            "dtype": "i1"
           },
           "yaxis": "y"
          },
          {
           "hovertemplate": "Process Type=%{x}<br>month_period_str=2015-08<br>Cumulative Count=%{y}<extra></extra>",
           "legendgroup": "Residential Consumption",
           "marker": {
            "color": "#ab63fa",
            "pattern": {
             "shape": ""
            }
           },
           "name": "Residential Consumption",
           "orientation": "v",
           "showlegend": true,
           "textposition": "auto",
           "type": "bar",
           "x": [
            "Residential Consumption"
           ],
           "xaxis": "x",
           "y": {
            "bdata": "RA==",
            "dtype": "i1"
           },
           "yaxis": "y"
          },
          {
           "hovertemplate": "Process Type=%{x}<br>month_period_str=2015-08<br>Cumulative Count=%{y}<extra></extra>",
           "legendgroup": "Vehicle Fuel Consumption",
           "marker": {
            "color": "#FFA15A",
            "pattern": {
             "shape": ""
            }
           },
           "name": "Vehicle Fuel Consumption",
           "orientation": "v",
           "showlegend": true,
           "textposition": "auto",
           "type": "bar",
           "x": [
            "Vehicle Fuel Consumption"
           ],
           "xaxis": "x",
           "y": {
            "bdata": "RA==",
            "dtype": "i1"
           },
           "yaxis": "y"
          },
          {
           "hovertemplate": "Process Type=%{x}<br>month_period_str=2015-08<br>Cumulative Count=%{y}<extra></extra>",
           "legendgroup": "Electric Power Consumption",
           "marker": {
            "color": "#19d3f3",
            "pattern": {
             "shape": ""
            }
           },
           "name": "Electric Power Consumption",
           "orientation": "v",
           "showlegend": true,
           "textposition": "auto",
           "type": "bar",
           "x": [
            "Electric Power Consumption"
           ],
           "xaxis": "x",
           "y": {
            "bdata": "DA==",
            "dtype": "i1"
           },
           "yaxis": "y"
          }
         ],
         "name": "2015-08"
        },
        {
         "data": [
          {
           "hovertemplate": "Process Type=%{x}<br>month_period_str=2015-09<br>Cumulative Count=%{y}<extra></extra>",
           "legendgroup": "Commercial Consumption",
           "marker": {
            "color": "#636efa",
            "pattern": {
             "shape": ""
            }
           },
           "name": "Commercial Consumption",
           "orientation": "v",
           "showlegend": true,
           "textposition": "auto",
           "type": "bar",
           "x": [
            "Commercial Consumption"
           ],
           "xaxis": "x",
           "y": {
            "bdata": "RA==",
            "dtype": "i1"
           },
           "yaxis": "y"
          },
          {
           "hovertemplate": "Process Type=%{x}<br>month_period_str=2015-09<br>Cumulative Count=%{y}<extra></extra>",
           "legendgroup": "Delivered to Consumers",
           "marker": {
            "color": "#EF553B",
            "pattern": {
             "shape": ""
            }
           },
           "name": "Delivered to Consumers",
           "orientation": "v",
           "showlegend": true,
           "textposition": "auto",
           "type": "bar",
           "x": [
            "Delivered to Consumers"
           ],
           "xaxis": "x",
           "y": {
            "bdata": "RQ==",
            "dtype": "i1"
           },
           "yaxis": "y"
          },
          {
           "hovertemplate": "Process Type=%{x}<br>month_period_str=2015-09<br>Cumulative Count=%{y}<extra></extra>",
           "legendgroup": "Industrial Consumption",
           "marker": {
            "color": "#00cc96",
            "pattern": {
             "shape": ""
            }
           },
           "name": "Industrial Consumption",
           "orientation": "v",
           "showlegend": true,
           "textposition": "auto",
           "type": "bar",
           "x": [
            "Industrial Consumption"
           ],
           "xaxis": "x",
           "y": {
            "bdata": "Qw==",
            "dtype": "i1"
           },
           "yaxis": "y"
          },
          {
           "hovertemplate": "Process Type=%{x}<br>month_period_str=2015-09<br>Cumulative Count=%{y}<extra></extra>",
           "legendgroup": "Residential Consumption",
           "marker": {
            "color": "#ab63fa",
            "pattern": {
             "shape": ""
            }
           },
           "name": "Residential Consumption",
           "orientation": "v",
           "showlegend": true,
           "textposition": "auto",
           "type": "bar",
           "x": [
            "Residential Consumption"
           ],
           "xaxis": "x",
           "y": {
            "bdata": "RQ==",
            "dtype": "i1"
           },
           "yaxis": "y"
          },
          {
           "hovertemplate": "Process Type=%{x}<br>month_period_str=2015-09<br>Cumulative Count=%{y}<extra></extra>",
           "legendgroup": "Vehicle Fuel Consumption",
           "marker": {
            "color": "#FFA15A",
            "pattern": {
             "shape": ""
            }
           },
           "name": "Vehicle Fuel Consumption",
           "orientation": "v",
           "showlegend": true,
           "textposition": "auto",
           "type": "bar",
           "x": [
            "Vehicle Fuel Consumption"
           ],
           "xaxis": "x",
           "y": {
            "bdata": "RQ==",
            "dtype": "i1"
           },
           "yaxis": "y"
          },
          {
           "hovertemplate": "Process Type=%{x}<br>month_period_str=2015-09<br>Cumulative Count=%{y}<extra></extra>",
           "legendgroup": "Electric Power Consumption",
           "marker": {
            "color": "#19d3f3",
            "pattern": {
             "shape": ""
            }
           },
           "name": "Electric Power Consumption",
           "orientation": "v",
           "showlegend": true,
           "textposition": "auto",
           "type": "bar",
           "x": [
            "Electric Power Consumption"
           ],
           "xaxis": "x",
           "y": {
            "bdata": "DA==",
            "dtype": "i1"
           },
           "yaxis": "y"
          }
         ],
         "name": "2015-09"
        },
        {
         "data": [
          {
           "hovertemplate": "Process Type=%{x}<br>month_period_str=2015-10<br>Cumulative Count=%{y}<extra></extra>",
           "legendgroup": "Commercial Consumption",
           "marker": {
            "color": "#636efa",
            "pattern": {
             "shape": ""
            }
           },
           "name": "Commercial Consumption",
           "orientation": "v",
           "showlegend": true,
           "textposition": "auto",
           "type": "bar",
           "x": [
            "Commercial Consumption"
           ],
           "xaxis": "x",
           "y": {
            "bdata": "RQ==",
            "dtype": "i1"
           },
           "yaxis": "y"
          },
          {
           "hovertemplate": "Process Type=%{x}<br>month_period_str=2015-10<br>Cumulative Count=%{y}<extra></extra>",
           "legendgroup": "Delivered to Consumers",
           "marker": {
            "color": "#EF553B",
            "pattern": {
             "shape": ""
            }
           },
           "name": "Delivered to Consumers",
           "orientation": "v",
           "showlegend": true,
           "textposition": "auto",
           "type": "bar",
           "x": [
            "Delivered to Consumers"
           ],
           "xaxis": "x",
           "y": {
            "bdata": "Rg==",
            "dtype": "i1"
           },
           "yaxis": "y"
          },
          {
           "hovertemplate": "Process Type=%{x}<br>month_period_str=2015-10<br>Cumulative Count=%{y}<extra></extra>",
           "legendgroup": "Industrial Consumption",
           "marker": {
            "color": "#00cc96",
            "pattern": {
             "shape": ""
            }
           },
           "name": "Industrial Consumption",
           "orientation": "v",
           "showlegend": true,
           "textposition": "auto",
           "type": "bar",
           "x": [
            "Industrial Consumption"
           ],
           "xaxis": "x",
           "y": {
            "bdata": "RA==",
            "dtype": "i1"
           },
           "yaxis": "y"
          },
          {
           "hovertemplate": "Process Type=%{x}<br>month_period_str=2015-10<br>Cumulative Count=%{y}<extra></extra>",
           "legendgroup": "Residential Consumption",
           "marker": {
            "color": "#ab63fa",
            "pattern": {
             "shape": ""
            }
           },
           "name": "Residential Consumption",
           "orientation": "v",
           "showlegend": true,
           "textposition": "auto",
           "type": "bar",
           "x": [
            "Residential Consumption"
           ],
           "xaxis": "x",
           "y": {
            "bdata": "Rg==",
            "dtype": "i1"
           },
           "yaxis": "y"
          },
          {
           "hovertemplate": "Process Type=%{x}<br>month_period_str=2015-10<br>Cumulative Count=%{y}<extra></extra>",
           "legendgroup": "Vehicle Fuel Consumption",
           "marker": {
            "color": "#FFA15A",
            "pattern": {
             "shape": ""
            }
           },
           "name": "Vehicle Fuel Consumption",
           "orientation": "v",
           "showlegend": true,
           "textposition": "auto",
           "type": "bar",
           "x": [
            "Vehicle Fuel Consumption"
           ],
           "xaxis": "x",
           "y": {
            "bdata": "Rg==",
            "dtype": "i1"
           },
           "yaxis": "y"
          },
          {
           "hovertemplate": "Process Type=%{x}<br>month_period_str=2015-10<br>Cumulative Count=%{y}<extra></extra>",
           "legendgroup": "Electric Power Consumption",
           "marker": {
            "color": "#19d3f3",
            "pattern": {
             "shape": ""
            }
           },
           "name": "Electric Power Consumption",
           "orientation": "v",
           "showlegend": true,
           "textposition": "auto",
           "type": "bar",
           "x": [
            "Electric Power Consumption"
           ],
           "xaxis": "x",
           "y": {
            "bdata": "DA==",
            "dtype": "i1"
           },
           "yaxis": "y"
          }
         ],
         "name": "2015-10"
        },
        {
         "data": [
          {
           "hovertemplate": "Process Type=%{x}<br>month_period_str=2015-11<br>Cumulative Count=%{y}<extra></extra>",
           "legendgroup": "Commercial Consumption",
           "marker": {
            "color": "#636efa",
            "pattern": {
             "shape": ""
            }
           },
           "name": "Commercial Consumption",
           "orientation": "v",
           "showlegend": true,
           "textposition": "auto",
           "type": "bar",
           "x": [
            "Commercial Consumption"
           ],
           "xaxis": "x",
           "y": {
            "bdata": "Rg==",
            "dtype": "i1"
           },
           "yaxis": "y"
          },
          {
           "hovertemplate": "Process Type=%{x}<br>month_period_str=2015-11<br>Cumulative Count=%{y}<extra></extra>",
           "legendgroup": "Delivered to Consumers",
           "marker": {
            "color": "#EF553B",
            "pattern": {
             "shape": ""
            }
           },
           "name": "Delivered to Consumers",
           "orientation": "v",
           "showlegend": true,
           "textposition": "auto",
           "type": "bar",
           "x": [
            "Delivered to Consumers"
           ],
           "xaxis": "x",
           "y": {
            "bdata": "Rw==",
            "dtype": "i1"
           },
           "yaxis": "y"
          },
          {
           "hovertemplate": "Process Type=%{x}<br>month_period_str=2015-11<br>Cumulative Count=%{y}<extra></extra>",
           "legendgroup": "Industrial Consumption",
           "marker": {
            "color": "#00cc96",
            "pattern": {
             "shape": ""
            }
           },
           "name": "Industrial Consumption",
           "orientation": "v",
           "showlegend": true,
           "textposition": "auto",
           "type": "bar",
           "x": [
            "Industrial Consumption"
           ],
           "xaxis": "x",
           "y": {
            "bdata": "RQ==",
            "dtype": "i1"
           },
           "yaxis": "y"
          },
          {
           "hovertemplate": "Process Type=%{x}<br>month_period_str=2015-11<br>Cumulative Count=%{y}<extra></extra>",
           "legendgroup": "Residential Consumption",
           "marker": {
            "color": "#ab63fa",
            "pattern": {
             "shape": ""
            }
           },
           "name": "Residential Consumption",
           "orientation": "v",
           "showlegend": true,
           "textposition": "auto",
           "type": "bar",
           "x": [
            "Residential Consumption"
           ],
           "xaxis": "x",
           "y": {
            "bdata": "Rw==",
            "dtype": "i1"
           },
           "yaxis": "y"
          },
          {
           "hovertemplate": "Process Type=%{x}<br>month_period_str=2015-11<br>Cumulative Count=%{y}<extra></extra>",
           "legendgroup": "Vehicle Fuel Consumption",
           "marker": {
            "color": "#FFA15A",
            "pattern": {
             "shape": ""
            }
           },
           "name": "Vehicle Fuel Consumption",
           "orientation": "v",
           "showlegend": true,
           "textposition": "auto",
           "type": "bar",
           "x": [
            "Vehicle Fuel Consumption"
           ],
           "xaxis": "x",
           "y": {
            "bdata": "Rw==",
            "dtype": "i1"
           },
           "yaxis": "y"
          },
          {
           "hovertemplate": "Process Type=%{x}<br>month_period_str=2015-11<br>Cumulative Count=%{y}<extra></extra>",
           "legendgroup": "Electric Power Consumption",
           "marker": {
            "color": "#19d3f3",
            "pattern": {
             "shape": ""
            }
           },
           "name": "Electric Power Consumption",
           "orientation": "v",
           "showlegend": true,
           "textposition": "auto",
           "type": "bar",
           "x": [
            "Electric Power Consumption"
           ],
           "xaxis": "x",
           "y": {
            "bdata": "DA==",
            "dtype": "i1"
           },
           "yaxis": "y"
          }
         ],
         "name": "2015-11"
        },
        {
         "data": [
          {
           "hovertemplate": "Process Type=%{x}<br>month_period_str=2015-12<br>Cumulative Count=%{y}<extra></extra>",
           "legendgroup": "Commercial Consumption",
           "marker": {
            "color": "#636efa",
            "pattern": {
             "shape": ""
            }
           },
           "name": "Commercial Consumption",
           "orientation": "v",
           "showlegend": true,
           "textposition": "auto",
           "type": "bar",
           "x": [
            "Commercial Consumption"
           ],
           "xaxis": "x",
           "y": {
            "bdata": "Rw==",
            "dtype": "i1"
           },
           "yaxis": "y"
          },
          {
           "hovertemplate": "Process Type=%{x}<br>month_period_str=2015-12<br>Cumulative Count=%{y}<extra></extra>",
           "legendgroup": "Delivered to Consumers",
           "marker": {
            "color": "#EF553B",
            "pattern": {
             "shape": ""
            }
           },
           "name": "Delivered to Consumers",
           "orientation": "v",
           "showlegend": true,
           "textposition": "auto",
           "type": "bar",
           "x": [
            "Delivered to Consumers"
           ],
           "xaxis": "x",
           "y": {
            "bdata": "SA==",
            "dtype": "i1"
           },
           "yaxis": "y"
          },
          {
           "hovertemplate": "Process Type=%{x}<br>month_period_str=2015-12<br>Cumulative Count=%{y}<extra></extra>",
           "legendgroup": "Industrial Consumption",
           "marker": {
            "color": "#00cc96",
            "pattern": {
             "shape": ""
            }
           },
           "name": "Industrial Consumption",
           "orientation": "v",
           "showlegend": true,
           "textposition": "auto",
           "type": "bar",
           "x": [
            "Industrial Consumption"
           ],
           "xaxis": "x",
           "y": {
            "bdata": "Rg==",
            "dtype": "i1"
           },
           "yaxis": "y"
          },
          {
           "hovertemplate": "Process Type=%{x}<br>month_period_str=2015-12<br>Cumulative Count=%{y}<extra></extra>",
           "legendgroup": "Residential Consumption",
           "marker": {
            "color": "#ab63fa",
            "pattern": {
             "shape": ""
            }
           },
           "name": "Residential Consumption",
           "orientation": "v",
           "showlegend": true,
           "textposition": "auto",
           "type": "bar",
           "x": [
            "Residential Consumption"
           ],
           "xaxis": "x",
           "y": {
            "bdata": "SA==",
            "dtype": "i1"
           },
           "yaxis": "y"
          },
          {
           "hovertemplate": "Process Type=%{x}<br>month_period_str=2015-12<br>Cumulative Count=%{y}<extra></extra>",
           "legendgroup": "Vehicle Fuel Consumption",
           "marker": {
            "color": "#FFA15A",
            "pattern": {
             "shape": ""
            }
           },
           "name": "Vehicle Fuel Consumption",
           "orientation": "v",
           "showlegend": true,
           "textposition": "auto",
           "type": "bar",
           "x": [
            "Vehicle Fuel Consumption"
           ],
           "xaxis": "x",
           "y": {
            "bdata": "SA==",
            "dtype": "i1"
           },
           "yaxis": "y"
          },
          {
           "hovertemplate": "Process Type=%{x}<br>month_period_str=2015-12<br>Cumulative Count=%{y}<extra></extra>",
           "legendgroup": "Electric Power Consumption",
           "marker": {
            "color": "#19d3f3",
            "pattern": {
             "shape": ""
            }
           },
           "name": "Electric Power Consumption",
           "orientation": "v",
           "showlegend": true,
           "textposition": "auto",
           "type": "bar",
           "x": [
            "Electric Power Consumption"
           ],
           "xaxis": "x",
           "y": {
            "bdata": "DA==",
            "dtype": "i1"
           },
           "yaxis": "y"
          }
         ],
         "name": "2015-12"
        },
        {
         "data": [
          {
           "hovertemplate": "Process Type=%{x}<br>month_period_str=2016-01<br>Cumulative Count=%{y}<extra></extra>",
           "legendgroup": "Commercial Consumption",
           "marker": {
            "color": "#636efa",
            "pattern": {
             "shape": ""
            }
           },
           "name": "Commercial Consumption",
           "orientation": "v",
           "showlegend": true,
           "textposition": "auto",
           "type": "bar",
           "x": [
            "Commercial Consumption"
           ],
           "xaxis": "x",
           "y": {
            "bdata": "SA==",
            "dtype": "i1"
           },
           "yaxis": "y"
          },
          {
           "hovertemplate": "Process Type=%{x}<br>month_period_str=2016-01<br>Cumulative Count=%{y}<extra></extra>",
           "legendgroup": "Delivered to Consumers",
           "marker": {
            "color": "#EF553B",
            "pattern": {
             "shape": ""
            }
           },
           "name": "Delivered to Consumers",
           "orientation": "v",
           "showlegend": true,
           "textposition": "auto",
           "type": "bar",
           "x": [
            "Delivered to Consumers"
           ],
           "xaxis": "x",
           "y": {
            "bdata": "SQ==",
            "dtype": "i1"
           },
           "yaxis": "y"
          },
          {
           "hovertemplate": "Process Type=%{x}<br>month_period_str=2016-01<br>Cumulative Count=%{y}<extra></extra>",
           "legendgroup": "Industrial Consumption",
           "marker": {
            "color": "#00cc96",
            "pattern": {
             "shape": ""
            }
           },
           "name": "Industrial Consumption",
           "orientation": "v",
           "showlegend": true,
           "textposition": "auto",
           "type": "bar",
           "x": [
            "Industrial Consumption"
           ],
           "xaxis": "x",
           "y": {
            "bdata": "Rw==",
            "dtype": "i1"
           },
           "yaxis": "y"
          },
          {
           "hovertemplate": "Process Type=%{x}<br>month_period_str=2016-01<br>Cumulative Count=%{y}<extra></extra>",
           "legendgroup": "Residential Consumption",
           "marker": {
            "color": "#ab63fa",
            "pattern": {
             "shape": ""
            }
           },
           "name": "Residential Consumption",
           "orientation": "v",
           "showlegend": true,
           "textposition": "auto",
           "type": "bar",
           "x": [
            "Residential Consumption"
           ],
           "xaxis": "x",
           "y": {
            "bdata": "SQ==",
            "dtype": "i1"
           },
           "yaxis": "y"
          },
          {
           "hovertemplate": "Process Type=%{x}<br>month_period_str=2016-01<br>Cumulative Count=%{y}<extra></extra>",
           "legendgroup": "Vehicle Fuel Consumption",
           "marker": {
            "color": "#FFA15A",
            "pattern": {
             "shape": ""
            }
           },
           "name": "Vehicle Fuel Consumption",
           "orientation": "v",
           "showlegend": true,
           "textposition": "auto",
           "type": "bar",
           "x": [
            "Vehicle Fuel Consumption"
           ],
           "xaxis": "x",
           "y": {
            "bdata": "SQ==",
            "dtype": "i1"
           },
           "yaxis": "y"
          },
          {
           "hovertemplate": "Process Type=%{x}<br>month_period_str=2016-01<br>Cumulative Count=%{y}<extra></extra>",
           "legendgroup": "Electric Power Consumption",
           "marker": {
            "color": "#19d3f3",
            "pattern": {
             "shape": ""
            }
           },
           "name": "Electric Power Consumption",
           "orientation": "v",
           "showlegend": true,
           "textposition": "auto",
           "type": "bar",
           "x": [
            "Electric Power Consumption"
           ],
           "xaxis": "x",
           "y": {
            "bdata": "DQ==",
            "dtype": "i1"
           },
           "yaxis": "y"
          }
         ],
         "name": "2016-01"
        },
        {
         "data": [
          {
           "hovertemplate": "Process Type=%{x}<br>month_period_str=2016-02<br>Cumulative Count=%{y}<extra></extra>",
           "legendgroup": "Commercial Consumption",
           "marker": {
            "color": "#636efa",
            "pattern": {
             "shape": ""
            }
           },
           "name": "Commercial Consumption",
           "orientation": "v",
           "showlegend": true,
           "textposition": "auto",
           "type": "bar",
           "x": [
            "Commercial Consumption"
           ],
           "xaxis": "x",
           "y": {
            "bdata": "SQ==",
            "dtype": "i1"
           },
           "yaxis": "y"
          },
          {
           "hovertemplate": "Process Type=%{x}<br>month_period_str=2016-02<br>Cumulative Count=%{y}<extra></extra>",
           "legendgroup": "Delivered to Consumers",
           "marker": {
            "color": "#EF553B",
            "pattern": {
             "shape": ""
            }
           },
           "name": "Delivered to Consumers",
           "orientation": "v",
           "showlegend": true,
           "textposition": "auto",
           "type": "bar",
           "x": [
            "Delivered to Consumers"
           ],
           "xaxis": "x",
           "y": {
            "bdata": "Sg==",
            "dtype": "i1"
           },
           "yaxis": "y"
          },
          {
           "hovertemplate": "Process Type=%{x}<br>month_period_str=2016-02<br>Cumulative Count=%{y}<extra></extra>",
           "legendgroup": "Industrial Consumption",
           "marker": {
            "color": "#00cc96",
            "pattern": {
             "shape": ""
            }
           },
           "name": "Industrial Consumption",
           "orientation": "v",
           "showlegend": true,
           "textposition": "auto",
           "type": "bar",
           "x": [
            "Industrial Consumption"
           ],
           "xaxis": "x",
           "y": {
            "bdata": "SA==",
            "dtype": "i1"
           },
           "yaxis": "y"
          },
          {
           "hovertemplate": "Process Type=%{x}<br>month_period_str=2016-02<br>Cumulative Count=%{y}<extra></extra>",
           "legendgroup": "Residential Consumption",
           "marker": {
            "color": "#ab63fa",
            "pattern": {
             "shape": ""
            }
           },
           "name": "Residential Consumption",
           "orientation": "v",
           "showlegend": true,
           "textposition": "auto",
           "type": "bar",
           "x": [
            "Residential Consumption"
           ],
           "xaxis": "x",
           "y": {
            "bdata": "Sg==",
            "dtype": "i1"
           },
           "yaxis": "y"
          },
          {
           "hovertemplate": "Process Type=%{x}<br>month_period_str=2016-02<br>Cumulative Count=%{y}<extra></extra>",
           "legendgroup": "Vehicle Fuel Consumption",
           "marker": {
            "color": "#FFA15A",
            "pattern": {
             "shape": ""
            }
           },
           "name": "Vehicle Fuel Consumption",
           "orientation": "v",
           "showlegend": true,
           "textposition": "auto",
           "type": "bar",
           "x": [
            "Vehicle Fuel Consumption"
           ],
           "xaxis": "x",
           "y": {
            "bdata": "Sg==",
            "dtype": "i1"
           },
           "yaxis": "y"
          },
          {
           "hovertemplate": "Process Type=%{x}<br>month_period_str=2016-02<br>Cumulative Count=%{y}<extra></extra>",
           "legendgroup": "Electric Power Consumption",
           "marker": {
            "color": "#19d3f3",
            "pattern": {
             "shape": ""
            }
           },
           "name": "Electric Power Consumption",
           "orientation": "v",
           "showlegend": true,
           "textposition": "auto",
           "type": "bar",
           "x": [
            "Electric Power Consumption"
           ],
           "xaxis": "x",
           "y": {
            "bdata": "Dg==",
            "dtype": "i1"
           },
           "yaxis": "y"
          }
         ],
         "name": "2016-02"
        },
        {
         "data": [
          {
           "hovertemplate": "Process Type=%{x}<br>month_period_str=2016-03<br>Cumulative Count=%{y}<extra></extra>",
           "legendgroup": "Commercial Consumption",
           "marker": {
            "color": "#636efa",
            "pattern": {
             "shape": ""
            }
           },
           "name": "Commercial Consumption",
           "orientation": "v",
           "showlegend": true,
           "textposition": "auto",
           "type": "bar",
           "x": [
            "Commercial Consumption"
           ],
           "xaxis": "x",
           "y": {
            "bdata": "Sg==",
            "dtype": "i1"
           },
           "yaxis": "y"
          },
          {
           "hovertemplate": "Process Type=%{x}<br>month_period_str=2016-03<br>Cumulative Count=%{y}<extra></extra>",
           "legendgroup": "Delivered to Consumers",
           "marker": {
            "color": "#EF553B",
            "pattern": {
             "shape": ""
            }
           },
           "name": "Delivered to Consumers",
           "orientation": "v",
           "showlegend": true,
           "textposition": "auto",
           "type": "bar",
           "x": [
            "Delivered to Consumers"
           ],
           "xaxis": "x",
           "y": {
            "bdata": "Sw==",
            "dtype": "i1"
           },
           "yaxis": "y"
          },
          {
           "hovertemplate": "Process Type=%{x}<br>month_period_str=2016-03<br>Cumulative Count=%{y}<extra></extra>",
           "legendgroup": "Industrial Consumption",
           "marker": {
            "color": "#00cc96",
            "pattern": {
             "shape": ""
            }
           },
           "name": "Industrial Consumption",
           "orientation": "v",
           "showlegend": true,
           "textposition": "auto",
           "type": "bar",
           "x": [
            "Industrial Consumption"
           ],
           "xaxis": "x",
           "y": {
            "bdata": "SQ==",
            "dtype": "i1"
           },
           "yaxis": "y"
          },
          {
           "hovertemplate": "Process Type=%{x}<br>month_period_str=2016-03<br>Cumulative Count=%{y}<extra></extra>",
           "legendgroup": "Residential Consumption",
           "marker": {
            "color": "#ab63fa",
            "pattern": {
             "shape": ""
            }
           },
           "name": "Residential Consumption",
           "orientation": "v",
           "showlegend": true,
           "textposition": "auto",
           "type": "bar",
           "x": [
            "Residential Consumption"
           ],
           "xaxis": "x",
           "y": {
            "bdata": "Sw==",
            "dtype": "i1"
           },
           "yaxis": "y"
          },
          {
           "hovertemplate": "Process Type=%{x}<br>month_period_str=2016-03<br>Cumulative Count=%{y}<extra></extra>",
           "legendgroup": "Vehicle Fuel Consumption",
           "marker": {
            "color": "#FFA15A",
            "pattern": {
             "shape": ""
            }
           },
           "name": "Vehicle Fuel Consumption",
           "orientation": "v",
           "showlegend": true,
           "textposition": "auto",
           "type": "bar",
           "x": [
            "Vehicle Fuel Consumption"
           ],
           "xaxis": "x",
           "y": {
            "bdata": "Sw==",
            "dtype": "i1"
           },
           "yaxis": "y"
          },
          {
           "hovertemplate": "Process Type=%{x}<br>month_period_str=2016-03<br>Cumulative Count=%{y}<extra></extra>",
           "legendgroup": "Electric Power Consumption",
           "marker": {
            "color": "#19d3f3",
            "pattern": {
             "shape": ""
            }
           },
           "name": "Electric Power Consumption",
           "orientation": "v",
           "showlegend": true,
           "textposition": "auto",
           "type": "bar",
           "x": [
            "Electric Power Consumption"
           ],
           "xaxis": "x",
           "y": {
            "bdata": "Dw==",
            "dtype": "i1"
           },
           "yaxis": "y"
          }
         ],
         "name": "2016-03"
        },
        {
         "data": [
          {
           "hovertemplate": "Process Type=%{x}<br>month_period_str=2016-04<br>Cumulative Count=%{y}<extra></extra>",
           "legendgroup": "Commercial Consumption",
           "marker": {
            "color": "#636efa",
            "pattern": {
             "shape": ""
            }
           },
           "name": "Commercial Consumption",
           "orientation": "v",
           "showlegend": true,
           "textposition": "auto",
           "type": "bar",
           "x": [
            "Commercial Consumption"
           ],
           "xaxis": "x",
           "y": {
            "bdata": "Sw==",
            "dtype": "i1"
           },
           "yaxis": "y"
          },
          {
           "hovertemplate": "Process Type=%{x}<br>month_period_str=2016-04<br>Cumulative Count=%{y}<extra></extra>",
           "legendgroup": "Delivered to Consumers",
           "marker": {
            "color": "#EF553B",
            "pattern": {
             "shape": ""
            }
           },
           "name": "Delivered to Consumers",
           "orientation": "v",
           "showlegend": true,
           "textposition": "auto",
           "type": "bar",
           "x": [
            "Delivered to Consumers"
           ],
           "xaxis": "x",
           "y": {
            "bdata": "TA==",
            "dtype": "i1"
           },
           "yaxis": "y"
          },
          {
           "hovertemplate": "Process Type=%{x}<br>month_period_str=2016-04<br>Cumulative Count=%{y}<extra></extra>",
           "legendgroup": "Industrial Consumption",
           "marker": {
            "color": "#00cc96",
            "pattern": {
             "shape": ""
            }
           },
           "name": "Industrial Consumption",
           "orientation": "v",
           "showlegend": true,
           "textposition": "auto",
           "type": "bar",
           "x": [
            "Industrial Consumption"
           ],
           "xaxis": "x",
           "y": {
            "bdata": "Sg==",
            "dtype": "i1"
           },
           "yaxis": "y"
          },
          {
           "hovertemplate": "Process Type=%{x}<br>month_period_str=2016-04<br>Cumulative Count=%{y}<extra></extra>",
           "legendgroup": "Residential Consumption",
           "marker": {
            "color": "#ab63fa",
            "pattern": {
             "shape": ""
            }
           },
           "name": "Residential Consumption",
           "orientation": "v",
           "showlegend": true,
           "textposition": "auto",
           "type": "bar",
           "x": [
            "Residential Consumption"
           ],
           "xaxis": "x",
           "y": {
            "bdata": "TA==",
            "dtype": "i1"
           },
           "yaxis": "y"
          },
          {
           "hovertemplate": "Process Type=%{x}<br>month_period_str=2016-04<br>Cumulative Count=%{y}<extra></extra>",
           "legendgroup": "Vehicle Fuel Consumption",
           "marker": {
            "color": "#FFA15A",
            "pattern": {
             "shape": ""
            }
           },
           "name": "Vehicle Fuel Consumption",
           "orientation": "v",
           "showlegend": true,
           "textposition": "auto",
           "type": "bar",
           "x": [
            "Vehicle Fuel Consumption"
           ],
           "xaxis": "x",
           "y": {
            "bdata": "TA==",
            "dtype": "i1"
           },
           "yaxis": "y"
          },
          {
           "hovertemplate": "Process Type=%{x}<br>month_period_str=2016-04<br>Cumulative Count=%{y}<extra></extra>",
           "legendgroup": "Electric Power Consumption",
           "marker": {
            "color": "#19d3f3",
            "pattern": {
             "shape": ""
            }
           },
           "name": "Electric Power Consumption",
           "orientation": "v",
           "showlegend": true,
           "textposition": "auto",
           "type": "bar",
           "x": [
            "Electric Power Consumption"
           ],
           "xaxis": "x",
           "y": {
            "bdata": "EA==",
            "dtype": "i1"
           },
           "yaxis": "y"
          }
         ],
         "name": "2016-04"
        },
        {
         "data": [
          {
           "hovertemplate": "Process Type=%{x}<br>month_period_str=2016-05<br>Cumulative Count=%{y}<extra></extra>",
           "legendgroup": "Commercial Consumption",
           "marker": {
            "color": "#636efa",
            "pattern": {
             "shape": ""
            }
           },
           "name": "Commercial Consumption",
           "orientation": "v",
           "showlegend": true,
           "textposition": "auto",
           "type": "bar",
           "x": [
            "Commercial Consumption"
           ],
           "xaxis": "x",
           "y": {
            "bdata": "TA==",
            "dtype": "i1"
           },
           "yaxis": "y"
          },
          {
           "hovertemplate": "Process Type=%{x}<br>month_period_str=2016-05<br>Cumulative Count=%{y}<extra></extra>",
           "legendgroup": "Delivered to Consumers",
           "marker": {
            "color": "#EF553B",
            "pattern": {
             "shape": ""
            }
           },
           "name": "Delivered to Consumers",
           "orientation": "v",
           "showlegend": true,
           "textposition": "auto",
           "type": "bar",
           "x": [
            "Delivered to Consumers"
           ],
           "xaxis": "x",
           "y": {
            "bdata": "TQ==",
            "dtype": "i1"
           },
           "yaxis": "y"
          },
          {
           "hovertemplate": "Process Type=%{x}<br>month_period_str=2016-05<br>Cumulative Count=%{y}<extra></extra>",
           "legendgroup": "Industrial Consumption",
           "marker": {
            "color": "#00cc96",
            "pattern": {
             "shape": ""
            }
           },
           "name": "Industrial Consumption",
           "orientation": "v",
           "showlegend": true,
           "textposition": "auto",
           "type": "bar",
           "x": [
            "Industrial Consumption"
           ],
           "xaxis": "x",
           "y": {
            "bdata": "Sw==",
            "dtype": "i1"
           },
           "yaxis": "y"
          },
          {
           "hovertemplate": "Process Type=%{x}<br>month_period_str=2016-05<br>Cumulative Count=%{y}<extra></extra>",
           "legendgroup": "Residential Consumption",
           "marker": {
            "color": "#ab63fa",
            "pattern": {
             "shape": ""
            }
           },
           "name": "Residential Consumption",
           "orientation": "v",
           "showlegend": true,
           "textposition": "auto",
           "type": "bar",
           "x": [
            "Residential Consumption"
           ],
           "xaxis": "x",
           "y": {
            "bdata": "TQ==",
            "dtype": "i1"
           },
           "yaxis": "y"
          },
          {
           "hovertemplate": "Process Type=%{x}<br>month_period_str=2016-05<br>Cumulative Count=%{y}<extra></extra>",
           "legendgroup": "Vehicle Fuel Consumption",
           "marker": {
            "color": "#FFA15A",
            "pattern": {
             "shape": ""
            }
           },
           "name": "Vehicle Fuel Consumption",
           "orientation": "v",
           "showlegend": true,
           "textposition": "auto",
           "type": "bar",
           "x": [
            "Vehicle Fuel Consumption"
           ],
           "xaxis": "x",
           "y": {
            "bdata": "TQ==",
            "dtype": "i1"
           },
           "yaxis": "y"
          },
          {
           "hovertemplate": "Process Type=%{x}<br>month_period_str=2016-05<br>Cumulative Count=%{y}<extra></extra>",
           "legendgroup": "Electric Power Consumption",
           "marker": {
            "color": "#19d3f3",
            "pattern": {
             "shape": ""
            }
           },
           "name": "Electric Power Consumption",
           "orientation": "v",
           "showlegend": true,
           "textposition": "auto",
           "type": "bar",
           "x": [
            "Electric Power Consumption"
           ],
           "xaxis": "x",
           "y": {
            "bdata": "EQ==",
            "dtype": "i1"
           },
           "yaxis": "y"
          }
         ],
         "name": "2016-05"
        },
        {
         "data": [
          {
           "hovertemplate": "Process Type=%{x}<br>month_period_str=2016-06<br>Cumulative Count=%{y}<extra></extra>",
           "legendgroup": "Commercial Consumption",
           "marker": {
            "color": "#636efa",
            "pattern": {
             "shape": ""
            }
           },
           "name": "Commercial Consumption",
           "orientation": "v",
           "showlegend": true,
           "textposition": "auto",
           "type": "bar",
           "x": [
            "Commercial Consumption"
           ],
           "xaxis": "x",
           "y": {
            "bdata": "TQ==",
            "dtype": "i1"
           },
           "yaxis": "y"
          },
          {
           "hovertemplate": "Process Type=%{x}<br>month_period_str=2016-06<br>Cumulative Count=%{y}<extra></extra>",
           "legendgroup": "Delivered to Consumers",
           "marker": {
            "color": "#EF553B",
            "pattern": {
             "shape": ""
            }
           },
           "name": "Delivered to Consumers",
           "orientation": "v",
           "showlegend": true,
           "textposition": "auto",
           "type": "bar",
           "x": [
            "Delivered to Consumers"
           ],
           "xaxis": "x",
           "y": {
            "bdata": "Tg==",
            "dtype": "i1"
           },
           "yaxis": "y"
          },
          {
           "hovertemplate": "Process Type=%{x}<br>month_period_str=2016-06<br>Cumulative Count=%{y}<extra></extra>",
           "legendgroup": "Industrial Consumption",
           "marker": {
            "color": "#00cc96",
            "pattern": {
             "shape": ""
            }
           },
           "name": "Industrial Consumption",
           "orientation": "v",
           "showlegend": true,
           "textposition": "auto",
           "type": "bar",
           "x": [
            "Industrial Consumption"
           ],
           "xaxis": "x",
           "y": {
            "bdata": "TA==",
            "dtype": "i1"
           },
           "yaxis": "y"
          },
          {
           "hovertemplate": "Process Type=%{x}<br>month_period_str=2016-06<br>Cumulative Count=%{y}<extra></extra>",
           "legendgroup": "Residential Consumption",
           "marker": {
            "color": "#ab63fa",
            "pattern": {
             "shape": ""
            }
           },
           "name": "Residential Consumption",
           "orientation": "v",
           "showlegend": true,
           "textposition": "auto",
           "type": "bar",
           "x": [
            "Residential Consumption"
           ],
           "xaxis": "x",
           "y": {
            "bdata": "Tg==",
            "dtype": "i1"
           },
           "yaxis": "y"
          },
          {
           "hovertemplate": "Process Type=%{x}<br>month_period_str=2016-06<br>Cumulative Count=%{y}<extra></extra>",
           "legendgroup": "Vehicle Fuel Consumption",
           "marker": {
            "color": "#FFA15A",
            "pattern": {
             "shape": ""
            }
           },
           "name": "Vehicle Fuel Consumption",
           "orientation": "v",
           "showlegend": true,
           "textposition": "auto",
           "type": "bar",
           "x": [
            "Vehicle Fuel Consumption"
           ],
           "xaxis": "x",
           "y": {
            "bdata": "Tg==",
            "dtype": "i1"
           },
           "yaxis": "y"
          },
          {
           "hovertemplate": "Process Type=%{x}<br>month_period_str=2016-06<br>Cumulative Count=%{y}<extra></extra>",
           "legendgroup": "Electric Power Consumption",
           "marker": {
            "color": "#19d3f3",
            "pattern": {
             "shape": ""
            }
           },
           "name": "Electric Power Consumption",
           "orientation": "v",
           "showlegend": true,
           "textposition": "auto",
           "type": "bar",
           "x": [
            "Electric Power Consumption"
           ],
           "xaxis": "x",
           "y": {
            "bdata": "Eg==",
            "dtype": "i1"
           },
           "yaxis": "y"
          }
         ],
         "name": "2016-06"
        },
        {
         "data": [
          {
           "hovertemplate": "Process Type=%{x}<br>month_period_str=2016-07<br>Cumulative Count=%{y}<extra></extra>",
           "legendgroup": "Commercial Consumption",
           "marker": {
            "color": "#636efa",
            "pattern": {
             "shape": ""
            }
           },
           "name": "Commercial Consumption",
           "orientation": "v",
           "showlegend": true,
           "textposition": "auto",
           "type": "bar",
           "x": [
            "Commercial Consumption"
           ],
           "xaxis": "x",
           "y": {
            "bdata": "Tg==",
            "dtype": "i1"
           },
           "yaxis": "y"
          },
          {
           "hovertemplate": "Process Type=%{x}<br>month_period_str=2016-07<br>Cumulative Count=%{y}<extra></extra>",
           "legendgroup": "Delivered to Consumers",
           "marker": {
            "color": "#EF553B",
            "pattern": {
             "shape": ""
            }
           },
           "name": "Delivered to Consumers",
           "orientation": "v",
           "showlegend": true,
           "textposition": "auto",
           "type": "bar",
           "x": [
            "Delivered to Consumers"
           ],
           "xaxis": "x",
           "y": {
            "bdata": "Tw==",
            "dtype": "i1"
           },
           "yaxis": "y"
          },
          {
           "hovertemplate": "Process Type=%{x}<br>month_period_str=2016-07<br>Cumulative Count=%{y}<extra></extra>",
           "legendgroup": "Industrial Consumption",
           "marker": {
            "color": "#00cc96",
            "pattern": {
             "shape": ""
            }
           },
           "name": "Industrial Consumption",
           "orientation": "v",
           "showlegend": true,
           "textposition": "auto",
           "type": "bar",
           "x": [
            "Industrial Consumption"
           ],
           "xaxis": "x",
           "y": {
            "bdata": "TQ==",
            "dtype": "i1"
           },
           "yaxis": "y"
          },
          {
           "hovertemplate": "Process Type=%{x}<br>month_period_str=2016-07<br>Cumulative Count=%{y}<extra></extra>",
           "legendgroup": "Residential Consumption",
           "marker": {
            "color": "#ab63fa",
            "pattern": {
             "shape": ""
            }
           },
           "name": "Residential Consumption",
           "orientation": "v",
           "showlegend": true,
           "textposition": "auto",
           "type": "bar",
           "x": [
            "Residential Consumption"
           ],
           "xaxis": "x",
           "y": {
            "bdata": "Tw==",
            "dtype": "i1"
           },
           "yaxis": "y"
          },
          {
           "hovertemplate": "Process Type=%{x}<br>month_period_str=2016-07<br>Cumulative Count=%{y}<extra></extra>",
           "legendgroup": "Vehicle Fuel Consumption",
           "marker": {
            "color": "#FFA15A",
            "pattern": {
             "shape": ""
            }
           },
           "name": "Vehicle Fuel Consumption",
           "orientation": "v",
           "showlegend": true,
           "textposition": "auto",
           "type": "bar",
           "x": [
            "Vehicle Fuel Consumption"
           ],
           "xaxis": "x",
           "y": {
            "bdata": "Tw==",
            "dtype": "i1"
           },
           "yaxis": "y"
          },
          {
           "hovertemplate": "Process Type=%{x}<br>month_period_str=2016-07<br>Cumulative Count=%{y}<extra></extra>",
           "legendgroup": "Electric Power Consumption",
           "marker": {
            "color": "#19d3f3",
            "pattern": {
             "shape": ""
            }
           },
           "name": "Electric Power Consumption",
           "orientation": "v",
           "showlegend": true,
           "textposition": "auto",
           "type": "bar",
           "x": [
            "Electric Power Consumption"
           ],
           "xaxis": "x",
           "y": {
            "bdata": "Ew==",
            "dtype": "i1"
           },
           "yaxis": "y"
          }
         ],
         "name": "2016-07"
        },
        {
         "data": [
          {
           "hovertemplate": "Process Type=%{x}<br>month_period_str=2016-08<br>Cumulative Count=%{y}<extra></extra>",
           "legendgroup": "Commercial Consumption",
           "marker": {
            "color": "#636efa",
            "pattern": {
             "shape": ""
            }
           },
           "name": "Commercial Consumption",
           "orientation": "v",
           "showlegend": true,
           "textposition": "auto",
           "type": "bar",
           "x": [
            "Commercial Consumption"
           ],
           "xaxis": "x",
           "y": {
            "bdata": "UA==",
            "dtype": "i1"
           },
           "yaxis": "y"
          },
          {
           "hovertemplate": "Process Type=%{x}<br>month_period_str=2016-08<br>Cumulative Count=%{y}<extra></extra>",
           "legendgroup": "Delivered to Consumers",
           "marker": {
            "color": "#EF553B",
            "pattern": {
             "shape": ""
            }
           },
           "name": "Delivered to Consumers",
           "orientation": "v",
           "showlegend": true,
           "textposition": "auto",
           "type": "bar",
           "x": [
            "Delivered to Consumers"
           ],
           "xaxis": "x",
           "y": {
            "bdata": "UA==",
            "dtype": "i1"
           },
           "yaxis": "y"
          },
          {
           "hovertemplate": "Process Type=%{x}<br>month_period_str=2016-08<br>Cumulative Count=%{y}<extra></extra>",
           "legendgroup": "Industrial Consumption",
           "marker": {
            "color": "#00cc96",
            "pattern": {
             "shape": ""
            }
           },
           "name": "Industrial Consumption",
           "orientation": "v",
           "showlegend": true,
           "textposition": "auto",
           "type": "bar",
           "x": [
            "Industrial Consumption"
           ],
           "xaxis": "x",
           "y": {
            "bdata": "TQ==",
            "dtype": "i1"
           },
           "yaxis": "y"
          },
          {
           "hovertemplate": "Process Type=%{x}<br>month_period_str=2016-08<br>Cumulative Count=%{y}<extra></extra>",
           "legendgroup": "Residential Consumption",
           "marker": {
            "color": "#ab63fa",
            "pattern": {
             "shape": ""
            }
           },
           "name": "Residential Consumption",
           "orientation": "v",
           "showlegend": true,
           "textposition": "auto",
           "type": "bar",
           "x": [
            "Residential Consumption"
           ],
           "xaxis": "x",
           "y": {
            "bdata": "Tw==",
            "dtype": "i1"
           },
           "yaxis": "y"
          },
          {
           "hovertemplate": "Process Type=%{x}<br>month_period_str=2016-08<br>Cumulative Count=%{y}<extra></extra>",
           "legendgroup": "Vehicle Fuel Consumption",
           "marker": {
            "color": "#FFA15A",
            "pattern": {
             "shape": ""
            }
           },
           "name": "Vehicle Fuel Consumption",
           "orientation": "v",
           "showlegend": true,
           "textposition": "auto",
           "type": "bar",
           "x": [
            "Vehicle Fuel Consumption"
           ],
           "xaxis": "x",
           "y": {
            "bdata": "Tw==",
            "dtype": "i1"
           },
           "yaxis": "y"
          },
          {
           "hovertemplate": "Process Type=%{x}<br>month_period_str=2016-08<br>Cumulative Count=%{y}<extra></extra>",
           "legendgroup": "Electric Power Consumption",
           "marker": {
            "color": "#19d3f3",
            "pattern": {
             "shape": ""
            }
           },
           "name": "Electric Power Consumption",
           "orientation": "v",
           "showlegend": true,
           "textposition": "auto",
           "type": "bar",
           "x": [
            "Electric Power Consumption"
           ],
           "xaxis": "x",
           "y": {
            "bdata": "FA==",
            "dtype": "i1"
           },
           "yaxis": "y"
          }
         ],
         "name": "2016-08"
        },
        {
         "data": [
          {
           "hovertemplate": "Process Type=%{x}<br>month_period_str=2016-09<br>Cumulative Count=%{y}<extra></extra>",
           "legendgroup": "Commercial Consumption",
           "marker": {
            "color": "#636efa",
            "pattern": {
             "shape": ""
            }
           },
           "name": "Commercial Consumption",
           "orientation": "v",
           "showlegend": true,
           "textposition": "auto",
           "type": "bar",
           "x": [
            "Commercial Consumption"
           ],
           "xaxis": "x",
           "y": {
            "bdata": "UQ==",
            "dtype": "i1"
           },
           "yaxis": "y"
          },
          {
           "hovertemplate": "Process Type=%{x}<br>month_period_str=2016-09<br>Cumulative Count=%{y}<extra></extra>",
           "legendgroup": "Delivered to Consumers",
           "marker": {
            "color": "#EF553B",
            "pattern": {
             "shape": ""
            }
           },
           "name": "Delivered to Consumers",
           "orientation": "v",
           "showlegend": true,
           "textposition": "auto",
           "type": "bar",
           "x": [
            "Delivered to Consumers"
           ],
           "xaxis": "x",
           "y": {
            "bdata": "UQ==",
            "dtype": "i1"
           },
           "yaxis": "y"
          },
          {
           "hovertemplate": "Process Type=%{x}<br>month_period_str=2016-09<br>Cumulative Count=%{y}<extra></extra>",
           "legendgroup": "Industrial Consumption",
           "marker": {
            "color": "#00cc96",
            "pattern": {
             "shape": ""
            }
           },
           "name": "Industrial Consumption",
           "orientation": "v",
           "showlegend": true,
           "textposition": "auto",
           "type": "bar",
           "x": [
            "Industrial Consumption"
           ],
           "xaxis": "x",
           "y": {
            "bdata": "Tg==",
            "dtype": "i1"
           },
           "yaxis": "y"
          },
          {
           "hovertemplate": "Process Type=%{x}<br>month_period_str=2016-09<br>Cumulative Count=%{y}<extra></extra>",
           "legendgroup": "Residential Consumption",
           "marker": {
            "color": "#ab63fa",
            "pattern": {
             "shape": ""
            }
           },
           "name": "Residential Consumption",
           "orientation": "v",
           "showlegend": true,
           "textposition": "auto",
           "type": "bar",
           "x": [
            "Residential Consumption"
           ],
           "xaxis": "x",
           "y": {
            "bdata": "UA==",
            "dtype": "i1"
           },
           "yaxis": "y"
          },
          {
           "hovertemplate": "Process Type=%{x}<br>month_period_str=2016-09<br>Cumulative Count=%{y}<extra></extra>",
           "legendgroup": "Vehicle Fuel Consumption",
           "marker": {
            "color": "#FFA15A",
            "pattern": {
             "shape": ""
            }
           },
           "name": "Vehicle Fuel Consumption",
           "orientation": "v",
           "showlegend": true,
           "textposition": "auto",
           "type": "bar",
           "x": [
            "Vehicle Fuel Consumption"
           ],
           "xaxis": "x",
           "y": {
            "bdata": "UA==",
            "dtype": "i1"
           },
           "yaxis": "y"
          },
          {
           "hovertemplate": "Process Type=%{x}<br>month_period_str=2016-09<br>Cumulative Count=%{y}<extra></extra>",
           "legendgroup": "Electric Power Consumption",
           "marker": {
            "color": "#19d3f3",
            "pattern": {
             "shape": ""
            }
           },
           "name": "Electric Power Consumption",
           "orientation": "v",
           "showlegend": true,
           "textposition": "auto",
           "type": "bar",
           "x": [
            "Electric Power Consumption"
           ],
           "xaxis": "x",
           "y": {
            "bdata": "FQ==",
            "dtype": "i1"
           },
           "yaxis": "y"
          }
         ],
         "name": "2016-09"
        },
        {
         "data": [
          {
           "hovertemplate": "Process Type=%{x}<br>month_period_str=2016-10<br>Cumulative Count=%{y}<extra></extra>",
           "legendgroup": "Commercial Consumption",
           "marker": {
            "color": "#636efa",
            "pattern": {
             "shape": ""
            }
           },
           "name": "Commercial Consumption",
           "orientation": "v",
           "showlegend": true,
           "textposition": "auto",
           "type": "bar",
           "x": [
            "Commercial Consumption"
           ],
           "xaxis": "x",
           "y": {
            "bdata": "Ug==",
            "dtype": "i1"
           },
           "yaxis": "y"
          },
          {
           "hovertemplate": "Process Type=%{x}<br>month_period_str=2016-10<br>Cumulative Count=%{y}<extra></extra>",
           "legendgroup": "Delivered to Consumers",
           "marker": {
            "color": "#EF553B",
            "pattern": {
             "shape": ""
            }
           },
           "name": "Delivered to Consumers",
           "orientation": "v",
           "showlegend": true,
           "textposition": "auto",
           "type": "bar",
           "x": [
            "Delivered to Consumers"
           ],
           "xaxis": "x",
           "y": {
            "bdata": "Ug==",
            "dtype": "i1"
           },
           "yaxis": "y"
          },
          {
           "hovertemplate": "Process Type=%{x}<br>month_period_str=2016-10<br>Cumulative Count=%{y}<extra></extra>",
           "legendgroup": "Industrial Consumption",
           "marker": {
            "color": "#00cc96",
            "pattern": {
             "shape": ""
            }
           },
           "name": "Industrial Consumption",
           "orientation": "v",
           "showlegend": true,
           "textposition": "auto",
           "type": "bar",
           "x": [
            "Industrial Consumption"
           ],
           "xaxis": "x",
           "y": {
            "bdata": "Tw==",
            "dtype": "i1"
           },
           "yaxis": "y"
          },
          {
           "hovertemplate": "Process Type=%{x}<br>month_period_str=2016-10<br>Cumulative Count=%{y}<extra></extra>",
           "legendgroup": "Residential Consumption",
           "marker": {
            "color": "#ab63fa",
            "pattern": {
             "shape": ""
            }
           },
           "name": "Residential Consumption",
           "orientation": "v",
           "showlegend": true,
           "textposition": "auto",
           "type": "bar",
           "x": [
            "Residential Consumption"
           ],
           "xaxis": "x",
           "y": {
            "bdata": "UQ==",
            "dtype": "i1"
           },
           "yaxis": "y"
          },
          {
           "hovertemplate": "Process Type=%{x}<br>month_period_str=2016-10<br>Cumulative Count=%{y}<extra></extra>",
           "legendgroup": "Vehicle Fuel Consumption",
           "marker": {
            "color": "#FFA15A",
            "pattern": {
             "shape": ""
            }
           },
           "name": "Vehicle Fuel Consumption",
           "orientation": "v",
           "showlegend": true,
           "textposition": "auto",
           "type": "bar",
           "x": [
            "Vehicle Fuel Consumption"
           ],
           "xaxis": "x",
           "y": {
            "bdata": "UQ==",
            "dtype": "i1"
           },
           "yaxis": "y"
          },
          {
           "hovertemplate": "Process Type=%{x}<br>month_period_str=2016-10<br>Cumulative Count=%{y}<extra></extra>",
           "legendgroup": "Electric Power Consumption",
           "marker": {
            "color": "#19d3f3",
            "pattern": {
             "shape": ""
            }
           },
           "name": "Electric Power Consumption",
           "orientation": "v",
           "showlegend": true,
           "textposition": "auto",
           "type": "bar",
           "x": [
            "Electric Power Consumption"
           ],
           "xaxis": "x",
           "y": {
            "bdata": "Fg==",
            "dtype": "i1"
           },
           "yaxis": "y"
          }
         ],
         "name": "2016-10"
        },
        {
         "data": [
          {
           "hovertemplate": "Process Type=%{x}<br>month_period_str=2016-11<br>Cumulative Count=%{y}<extra></extra>",
           "legendgroup": "Commercial Consumption",
           "marker": {
            "color": "#636efa",
            "pattern": {
             "shape": ""
            }
           },
           "name": "Commercial Consumption",
           "orientation": "v",
           "showlegend": true,
           "textposition": "auto",
           "type": "bar",
           "x": [
            "Commercial Consumption"
           ],
           "xaxis": "x",
           "y": {
            "bdata": "Uw==",
            "dtype": "i1"
           },
           "yaxis": "y"
          },
          {
           "hovertemplate": "Process Type=%{x}<br>month_period_str=2016-11<br>Cumulative Count=%{y}<extra></extra>",
           "legendgroup": "Delivered to Consumers",
           "marker": {
            "color": "#EF553B",
            "pattern": {
             "shape": ""
            }
           },
           "name": "Delivered to Consumers",
           "orientation": "v",
           "showlegend": true,
           "textposition": "auto",
           "type": "bar",
           "x": [
            "Delivered to Consumers"
           ],
           "xaxis": "x",
           "y": {
            "bdata": "Uw==",
            "dtype": "i1"
           },
           "yaxis": "y"
          },
          {
           "hovertemplate": "Process Type=%{x}<br>month_period_str=2016-11<br>Cumulative Count=%{y}<extra></extra>",
           "legendgroup": "Industrial Consumption",
           "marker": {
            "color": "#00cc96",
            "pattern": {
             "shape": ""
            }
           },
           "name": "Industrial Consumption",
           "orientation": "v",
           "showlegend": true,
           "textposition": "auto",
           "type": "bar",
           "x": [
            "Industrial Consumption"
           ],
           "xaxis": "x",
           "y": {
            "bdata": "UA==",
            "dtype": "i1"
           },
           "yaxis": "y"
          },
          {
           "hovertemplate": "Process Type=%{x}<br>month_period_str=2016-11<br>Cumulative Count=%{y}<extra></extra>",
           "legendgroup": "Residential Consumption",
           "marker": {
            "color": "#ab63fa",
            "pattern": {
             "shape": ""
            }
           },
           "name": "Residential Consumption",
           "orientation": "v",
           "showlegend": true,
           "textposition": "auto",
           "type": "bar",
           "x": [
            "Residential Consumption"
           ],
           "xaxis": "x",
           "y": {
            "bdata": "Ug==",
            "dtype": "i1"
           },
           "yaxis": "y"
          },
          {
           "hovertemplate": "Process Type=%{x}<br>month_period_str=2016-11<br>Cumulative Count=%{y}<extra></extra>",
           "legendgroup": "Vehicle Fuel Consumption",
           "marker": {
            "color": "#FFA15A",
            "pattern": {
             "shape": ""
            }
           },
           "name": "Vehicle Fuel Consumption",
           "orientation": "v",
           "showlegend": true,
           "textposition": "auto",
           "type": "bar",
           "x": [
            "Vehicle Fuel Consumption"
           ],
           "xaxis": "x",
           "y": {
            "bdata": "Ug==",
            "dtype": "i1"
           },
           "yaxis": "y"
          },
          {
           "hovertemplate": "Process Type=%{x}<br>month_period_str=2016-11<br>Cumulative Count=%{y}<extra></extra>",
           "legendgroup": "Electric Power Consumption",
           "marker": {
            "color": "#19d3f3",
            "pattern": {
             "shape": ""
            }
           },
           "name": "Electric Power Consumption",
           "orientation": "v",
           "showlegend": true,
           "textposition": "auto",
           "type": "bar",
           "x": [
            "Electric Power Consumption"
           ],
           "xaxis": "x",
           "y": {
            "bdata": "Fw==",
            "dtype": "i1"
           },
           "yaxis": "y"
          }
         ],
         "name": "2016-11"
        },
        {
         "data": [
          {
           "hovertemplate": "Process Type=%{x}<br>month_period_str=2016-12<br>Cumulative Count=%{y}<extra></extra>",
           "legendgroup": "Commercial Consumption",
           "marker": {
            "color": "#636efa",
            "pattern": {
             "shape": ""
            }
           },
           "name": "Commercial Consumption",
           "orientation": "v",
           "showlegend": true,
           "textposition": "auto",
           "type": "bar",
           "x": [
            "Commercial Consumption"
           ],
           "xaxis": "x",
           "y": {
            "bdata": "VA==",
            "dtype": "i1"
           },
           "yaxis": "y"
          },
          {
           "hovertemplate": "Process Type=%{x}<br>month_period_str=2016-12<br>Cumulative Count=%{y}<extra></extra>",
           "legendgroup": "Delivered to Consumers",
           "marker": {
            "color": "#EF553B",
            "pattern": {
             "shape": ""
            }
           },
           "name": "Delivered to Consumers",
           "orientation": "v",
           "showlegend": true,
           "textposition": "auto",
           "type": "bar",
           "x": [
            "Delivered to Consumers"
           ],
           "xaxis": "x",
           "y": {
            "bdata": "VA==",
            "dtype": "i1"
           },
           "yaxis": "y"
          },
          {
           "hovertemplate": "Process Type=%{x}<br>month_period_str=2016-12<br>Cumulative Count=%{y}<extra></extra>",
           "legendgroup": "Industrial Consumption",
           "marker": {
            "color": "#00cc96",
            "pattern": {
             "shape": ""
            }
           },
           "name": "Industrial Consumption",
           "orientation": "v",
           "showlegend": true,
           "textposition": "auto",
           "type": "bar",
           "x": [
            "Industrial Consumption"
           ],
           "xaxis": "x",
           "y": {
            "bdata": "UQ==",
            "dtype": "i1"
           },
           "yaxis": "y"
          },
          {
           "hovertemplate": "Process Type=%{x}<br>month_period_str=2016-12<br>Cumulative Count=%{y}<extra></extra>",
           "legendgroup": "Residential Consumption",
           "marker": {
            "color": "#ab63fa",
            "pattern": {
             "shape": ""
            }
           },
           "name": "Residential Consumption",
           "orientation": "v",
           "showlegend": true,
           "textposition": "auto",
           "type": "bar",
           "x": [
            "Residential Consumption"
           ],
           "xaxis": "x",
           "y": {
            "bdata": "Uw==",
            "dtype": "i1"
           },
           "yaxis": "y"
          },
          {
           "hovertemplate": "Process Type=%{x}<br>month_period_str=2016-12<br>Cumulative Count=%{y}<extra></extra>",
           "legendgroup": "Vehicle Fuel Consumption",
           "marker": {
            "color": "#FFA15A",
            "pattern": {
             "shape": ""
            }
           },
           "name": "Vehicle Fuel Consumption",
           "orientation": "v",
           "showlegend": true,
           "textposition": "auto",
           "type": "bar",
           "x": [
            "Vehicle Fuel Consumption"
           ],
           "xaxis": "x",
           "y": {
            "bdata": "Uw==",
            "dtype": "i1"
           },
           "yaxis": "y"
          },
          {
           "hovertemplate": "Process Type=%{x}<br>month_period_str=2016-12<br>Cumulative Count=%{y}<extra></extra>",
           "legendgroup": "Electric Power Consumption",
           "marker": {
            "color": "#19d3f3",
            "pattern": {
             "shape": ""
            }
           },
           "name": "Electric Power Consumption",
           "orientation": "v",
           "showlegend": true,
           "textposition": "auto",
           "type": "bar",
           "x": [
            "Electric Power Consumption"
           ],
           "xaxis": "x",
           "y": {
            "bdata": "GA==",
            "dtype": "i1"
           },
           "yaxis": "y"
          }
         ],
         "name": "2016-12"
        },
        {
         "data": [
          {
           "hovertemplate": "Process Type=%{x}<br>month_period_str=2017-01<br>Cumulative Count=%{y}<extra></extra>",
           "legendgroup": "Commercial Consumption",
           "marker": {
            "color": "#636efa",
            "pattern": {
             "shape": ""
            }
           },
           "name": "Commercial Consumption",
           "orientation": "v",
           "showlegend": true,
           "textposition": "auto",
           "type": "bar",
           "x": [
            "Commercial Consumption"
           ],
           "xaxis": "x",
           "y": {
            "bdata": "VQ==",
            "dtype": "i1"
           },
           "yaxis": "y"
          },
          {
           "hovertemplate": "Process Type=%{x}<br>month_period_str=2017-01<br>Cumulative Count=%{y}<extra></extra>",
           "legendgroup": "Delivered to Consumers",
           "marker": {
            "color": "#EF553B",
            "pattern": {
             "shape": ""
            }
           },
           "name": "Delivered to Consumers",
           "orientation": "v",
           "showlegend": true,
           "textposition": "auto",
           "type": "bar",
           "x": [
            "Delivered to Consumers"
           ],
           "xaxis": "x",
           "y": {
            "bdata": "VQ==",
            "dtype": "i1"
           },
           "yaxis": "y"
          },
          {
           "hovertemplate": "Process Type=%{x}<br>month_period_str=2017-01<br>Cumulative Count=%{y}<extra></extra>",
           "legendgroup": "Industrial Consumption",
           "marker": {
            "color": "#00cc96",
            "pattern": {
             "shape": ""
            }
           },
           "name": "Industrial Consumption",
           "orientation": "v",
           "showlegend": true,
           "textposition": "auto",
           "type": "bar",
           "x": [
            "Industrial Consumption"
           ],
           "xaxis": "x",
           "y": {
            "bdata": "UQ==",
            "dtype": "i1"
           },
           "yaxis": "y"
          },
          {
           "hovertemplate": "Process Type=%{x}<br>month_period_str=2017-01<br>Cumulative Count=%{y}<extra></extra>",
           "legendgroup": "Residential Consumption",
           "marker": {
            "color": "#ab63fa",
            "pattern": {
             "shape": ""
            }
           },
           "name": "Residential Consumption",
           "orientation": "v",
           "showlegend": true,
           "textposition": "auto",
           "type": "bar",
           "x": [
            "Residential Consumption"
           ],
           "xaxis": "x",
           "y": {
            "bdata": "VA==",
            "dtype": "i1"
           },
           "yaxis": "y"
          },
          {
           "hovertemplate": "Process Type=%{x}<br>month_period_str=2017-01<br>Cumulative Count=%{y}<extra></extra>",
           "legendgroup": "Vehicle Fuel Consumption",
           "marker": {
            "color": "#FFA15A",
            "pattern": {
             "shape": ""
            }
           },
           "name": "Vehicle Fuel Consumption",
           "orientation": "v",
           "showlegend": true,
           "textposition": "auto",
           "type": "bar",
           "x": [
            "Vehicle Fuel Consumption"
           ],
           "xaxis": "x",
           "y": {
            "bdata": "VA==",
            "dtype": "i1"
           },
           "yaxis": "y"
          },
          {
           "hovertemplate": "Process Type=%{x}<br>month_period_str=2017-01<br>Cumulative Count=%{y}<extra></extra>",
           "legendgroup": "Electric Power Consumption",
           "marker": {
            "color": "#19d3f3",
            "pattern": {
             "shape": ""
            }
           },
           "name": "Electric Power Consumption",
           "orientation": "v",
           "showlegend": true,
           "textposition": "auto",
           "type": "bar",
           "x": [
            "Electric Power Consumption"
           ],
           "xaxis": "x",
           "y": {
            "bdata": "GA==",
            "dtype": "i1"
           },
           "yaxis": "y"
          }
         ],
         "name": "2017-01"
        },
        {
         "data": [
          {
           "hovertemplate": "Process Type=%{x}<br>month_period_str=2017-02<br>Cumulative Count=%{y}<extra></extra>",
           "legendgroup": "Commercial Consumption",
           "marker": {
            "color": "#636efa",
            "pattern": {
             "shape": ""
            }
           },
           "name": "Commercial Consumption",
           "orientation": "v",
           "showlegend": true,
           "textposition": "auto",
           "type": "bar",
           "x": [
            "Commercial Consumption"
           ],
           "xaxis": "x",
           "y": {
            "bdata": "Vg==",
            "dtype": "i1"
           },
           "yaxis": "y"
          },
          {
           "hovertemplate": "Process Type=%{x}<br>month_period_str=2017-02<br>Cumulative Count=%{y}<extra></extra>",
           "legendgroup": "Delivered to Consumers",
           "marker": {
            "color": "#EF553B",
            "pattern": {
             "shape": ""
            }
           },
           "name": "Delivered to Consumers",
           "orientation": "v",
           "showlegend": true,
           "textposition": "auto",
           "type": "bar",
           "x": [
            "Delivered to Consumers"
           ],
           "xaxis": "x",
           "y": {
            "bdata": "Vg==",
            "dtype": "i1"
           },
           "yaxis": "y"
          },
          {
           "hovertemplate": "Process Type=%{x}<br>month_period_str=2017-02<br>Cumulative Count=%{y}<extra></extra>",
           "legendgroup": "Industrial Consumption",
           "marker": {
            "color": "#00cc96",
            "pattern": {
             "shape": ""
            }
           },
           "name": "Industrial Consumption",
           "orientation": "v",
           "showlegend": true,
           "textposition": "auto",
           "type": "bar",
           "x": [
            "Industrial Consumption"
           ],
           "xaxis": "x",
           "y": {
            "bdata": "UQ==",
            "dtype": "i1"
           },
           "yaxis": "y"
          },
          {
           "hovertemplate": "Process Type=%{x}<br>month_period_str=2017-02<br>Cumulative Count=%{y}<extra></extra>",
           "legendgroup": "Residential Consumption",
           "marker": {
            "color": "#ab63fa",
            "pattern": {
             "shape": ""
            }
           },
           "name": "Residential Consumption",
           "orientation": "v",
           "showlegend": true,
           "textposition": "auto",
           "type": "bar",
           "x": [
            "Residential Consumption"
           ],
           "xaxis": "x",
           "y": {
            "bdata": "VQ==",
            "dtype": "i1"
           },
           "yaxis": "y"
          },
          {
           "hovertemplate": "Process Type=%{x}<br>month_period_str=2017-02<br>Cumulative Count=%{y}<extra></extra>",
           "legendgroup": "Vehicle Fuel Consumption",
           "marker": {
            "color": "#FFA15A",
            "pattern": {
             "shape": ""
            }
           },
           "name": "Vehicle Fuel Consumption",
           "orientation": "v",
           "showlegend": true,
           "textposition": "auto",
           "type": "bar",
           "x": [
            "Vehicle Fuel Consumption"
           ],
           "xaxis": "x",
           "y": {
            "bdata": "VQ==",
            "dtype": "i1"
           },
           "yaxis": "y"
          },
          {
           "hovertemplate": "Process Type=%{x}<br>month_period_str=2017-02<br>Cumulative Count=%{y}<extra></extra>",
           "legendgroup": "Electric Power Consumption",
           "marker": {
            "color": "#19d3f3",
            "pattern": {
             "shape": ""
            }
           },
           "name": "Electric Power Consumption",
           "orientation": "v",
           "showlegend": true,
           "textposition": "auto",
           "type": "bar",
           "x": [
            "Electric Power Consumption"
           ],
           "xaxis": "x",
           "y": {
            "bdata": "GA==",
            "dtype": "i1"
           },
           "yaxis": "y"
          }
         ],
         "name": "2017-02"
        },
        {
         "data": [
          {
           "hovertemplate": "Process Type=%{x}<br>month_period_str=2017-03<br>Cumulative Count=%{y}<extra></extra>",
           "legendgroup": "Commercial Consumption",
           "marker": {
            "color": "#636efa",
            "pattern": {
             "shape": ""
            }
           },
           "name": "Commercial Consumption",
           "orientation": "v",
           "showlegend": true,
           "textposition": "auto",
           "type": "bar",
           "x": [
            "Commercial Consumption"
           ],
           "xaxis": "x",
           "y": {
            "bdata": "Vw==",
            "dtype": "i1"
           },
           "yaxis": "y"
          },
          {
           "hovertemplate": "Process Type=%{x}<br>month_period_str=2017-03<br>Cumulative Count=%{y}<extra></extra>",
           "legendgroup": "Delivered to Consumers",
           "marker": {
            "color": "#EF553B",
            "pattern": {
             "shape": ""
            }
           },
           "name": "Delivered to Consumers",
           "orientation": "v",
           "showlegend": true,
           "textposition": "auto",
           "type": "bar",
           "x": [
            "Delivered to Consumers"
           ],
           "xaxis": "x",
           "y": {
            "bdata": "Vw==",
            "dtype": "i1"
           },
           "yaxis": "y"
          },
          {
           "hovertemplate": "Process Type=%{x}<br>month_period_str=2017-03<br>Cumulative Count=%{y}<extra></extra>",
           "legendgroup": "Industrial Consumption",
           "marker": {
            "color": "#00cc96",
            "pattern": {
             "shape": ""
            }
           },
           "name": "Industrial Consumption",
           "orientation": "v",
           "showlegend": true,
           "textposition": "auto",
           "type": "bar",
           "x": [
            "Industrial Consumption"
           ],
           "xaxis": "x",
           "y": {
            "bdata": "UQ==",
            "dtype": "i1"
           },
           "yaxis": "y"
          },
          {
           "hovertemplate": "Process Type=%{x}<br>month_period_str=2017-03<br>Cumulative Count=%{y}<extra></extra>",
           "legendgroup": "Residential Consumption",
           "marker": {
            "color": "#ab63fa",
            "pattern": {
             "shape": ""
            }
           },
           "name": "Residential Consumption",
           "orientation": "v",
           "showlegend": true,
           "textposition": "auto",
           "type": "bar",
           "x": [
            "Residential Consumption"
           ],
           "xaxis": "x",
           "y": {
            "bdata": "Vg==",
            "dtype": "i1"
           },
           "yaxis": "y"
          },
          {
           "hovertemplate": "Process Type=%{x}<br>month_period_str=2017-03<br>Cumulative Count=%{y}<extra></extra>",
           "legendgroup": "Vehicle Fuel Consumption",
           "marker": {
            "color": "#FFA15A",
            "pattern": {
             "shape": ""
            }
           },
           "name": "Vehicle Fuel Consumption",
           "orientation": "v",
           "showlegend": true,
           "textposition": "auto",
           "type": "bar",
           "x": [
            "Vehicle Fuel Consumption"
           ],
           "xaxis": "x",
           "y": {
            "bdata": "Vg==",
            "dtype": "i1"
           },
           "yaxis": "y"
          },
          {
           "hovertemplate": "Process Type=%{x}<br>month_period_str=2017-03<br>Cumulative Count=%{y}<extra></extra>",
           "legendgroup": "Electric Power Consumption",
           "marker": {
            "color": "#19d3f3",
            "pattern": {
             "shape": ""
            }
           },
           "name": "Electric Power Consumption",
           "orientation": "v",
           "showlegend": true,
           "textposition": "auto",
           "type": "bar",
           "x": [
            "Electric Power Consumption"
           ],
           "xaxis": "x",
           "y": {
            "bdata": "GA==",
            "dtype": "i1"
           },
           "yaxis": "y"
          }
         ],
         "name": "2017-03"
        },
        {
         "data": [
          {
           "hovertemplate": "Process Type=%{x}<br>month_period_str=2017-04<br>Cumulative Count=%{y}<extra></extra>",
           "legendgroup": "Commercial Consumption",
           "marker": {
            "color": "#636efa",
            "pattern": {
             "shape": ""
            }
           },
           "name": "Commercial Consumption",
           "orientation": "v",
           "showlegend": true,
           "textposition": "auto",
           "type": "bar",
           "x": [
            "Commercial Consumption"
           ],
           "xaxis": "x",
           "y": {
            "bdata": "WA==",
            "dtype": "i1"
           },
           "yaxis": "y"
          },
          {
           "hovertemplate": "Process Type=%{x}<br>month_period_str=2017-04<br>Cumulative Count=%{y}<extra></extra>",
           "legendgroup": "Delivered to Consumers",
           "marker": {
            "color": "#EF553B",
            "pattern": {
             "shape": ""
            }
           },
           "name": "Delivered to Consumers",
           "orientation": "v",
           "showlegend": true,
           "textposition": "auto",
           "type": "bar",
           "x": [
            "Delivered to Consumers"
           ],
           "xaxis": "x",
           "y": {
            "bdata": "WA==",
            "dtype": "i1"
           },
           "yaxis": "y"
          },
          {
           "hovertemplate": "Process Type=%{x}<br>month_period_str=2017-04<br>Cumulative Count=%{y}<extra></extra>",
           "legendgroup": "Industrial Consumption",
           "marker": {
            "color": "#00cc96",
            "pattern": {
             "shape": ""
            }
           },
           "name": "Industrial Consumption",
           "orientation": "v",
           "showlegend": true,
           "textposition": "auto",
           "type": "bar",
           "x": [
            "Industrial Consumption"
           ],
           "xaxis": "x",
           "y": {
            "bdata": "UQ==",
            "dtype": "i1"
           },
           "yaxis": "y"
          },
          {
           "hovertemplate": "Process Type=%{x}<br>month_period_str=2017-04<br>Cumulative Count=%{y}<extra></extra>",
           "legendgroup": "Residential Consumption",
           "marker": {
            "color": "#ab63fa",
            "pattern": {
             "shape": ""
            }
           },
           "name": "Residential Consumption",
           "orientation": "v",
           "showlegend": true,
           "textposition": "auto",
           "type": "bar",
           "x": [
            "Residential Consumption"
           ],
           "xaxis": "x",
           "y": {
            "bdata": "Vw==",
            "dtype": "i1"
           },
           "yaxis": "y"
          },
          {
           "hovertemplate": "Process Type=%{x}<br>month_period_str=2017-04<br>Cumulative Count=%{y}<extra></extra>",
           "legendgroup": "Vehicle Fuel Consumption",
           "marker": {
            "color": "#FFA15A",
            "pattern": {
             "shape": ""
            }
           },
           "name": "Vehicle Fuel Consumption",
           "orientation": "v",
           "showlegend": true,
           "textposition": "auto",
           "type": "bar",
           "x": [
            "Vehicle Fuel Consumption"
           ],
           "xaxis": "x",
           "y": {
            "bdata": "Vw==",
            "dtype": "i1"
           },
           "yaxis": "y"
          },
          {
           "hovertemplate": "Process Type=%{x}<br>month_period_str=2017-04<br>Cumulative Count=%{y}<extra></extra>",
           "legendgroup": "Electric Power Consumption",
           "marker": {
            "color": "#19d3f3",
            "pattern": {
             "shape": ""
            }
           },
           "name": "Electric Power Consumption",
           "orientation": "v",
           "showlegend": true,
           "textposition": "auto",
           "type": "bar",
           "x": [
            "Electric Power Consumption"
           ],
           "xaxis": "x",
           "y": {
            "bdata": "GA==",
            "dtype": "i1"
           },
           "yaxis": "y"
          }
         ],
         "name": "2017-04"
        },
        {
         "data": [
          {
           "hovertemplate": "Process Type=%{x}<br>month_period_str=2017-05<br>Cumulative Count=%{y}<extra></extra>",
           "legendgroup": "Commercial Consumption",
           "marker": {
            "color": "#636efa",
            "pattern": {
             "shape": ""
            }
           },
           "name": "Commercial Consumption",
           "orientation": "v",
           "showlegend": true,
           "textposition": "auto",
           "type": "bar",
           "x": [
            "Commercial Consumption"
           ],
           "xaxis": "x",
           "y": {
            "bdata": "WQ==",
            "dtype": "i1"
           },
           "yaxis": "y"
          },
          {
           "hovertemplate": "Process Type=%{x}<br>month_period_str=2017-05<br>Cumulative Count=%{y}<extra></extra>",
           "legendgroup": "Delivered to Consumers",
           "marker": {
            "color": "#EF553B",
            "pattern": {
             "shape": ""
            }
           },
           "name": "Delivered to Consumers",
           "orientation": "v",
           "showlegend": true,
           "textposition": "auto",
           "type": "bar",
           "x": [
            "Delivered to Consumers"
           ],
           "xaxis": "x",
           "y": {
            "bdata": "WQ==",
            "dtype": "i1"
           },
           "yaxis": "y"
          },
          {
           "hovertemplate": "Process Type=%{x}<br>month_period_str=2017-05<br>Cumulative Count=%{y}<extra></extra>",
           "legendgroup": "Industrial Consumption",
           "marker": {
            "color": "#00cc96",
            "pattern": {
             "shape": ""
            }
           },
           "name": "Industrial Consumption",
           "orientation": "v",
           "showlegend": true,
           "textposition": "auto",
           "type": "bar",
           "x": [
            "Industrial Consumption"
           ],
           "xaxis": "x",
           "y": {
            "bdata": "UQ==",
            "dtype": "i1"
           },
           "yaxis": "y"
          },
          {
           "hovertemplate": "Process Type=%{x}<br>month_period_str=2017-05<br>Cumulative Count=%{y}<extra></extra>",
           "legendgroup": "Residential Consumption",
           "marker": {
            "color": "#ab63fa",
            "pattern": {
             "shape": ""
            }
           },
           "name": "Residential Consumption",
           "orientation": "v",
           "showlegend": true,
           "textposition": "auto",
           "type": "bar",
           "x": [
            "Residential Consumption"
           ],
           "xaxis": "x",
           "y": {
            "bdata": "WA==",
            "dtype": "i1"
           },
           "yaxis": "y"
          },
          {
           "hovertemplate": "Process Type=%{x}<br>month_period_str=2017-05<br>Cumulative Count=%{y}<extra></extra>",
           "legendgroup": "Vehicle Fuel Consumption",
           "marker": {
            "color": "#FFA15A",
            "pattern": {
             "shape": ""
            }
           },
           "name": "Vehicle Fuel Consumption",
           "orientation": "v",
           "showlegend": true,
           "textposition": "auto",
           "type": "bar",
           "x": [
            "Vehicle Fuel Consumption"
           ],
           "xaxis": "x",
           "y": {
            "bdata": "WA==",
            "dtype": "i1"
           },
           "yaxis": "y"
          },
          {
           "hovertemplate": "Process Type=%{x}<br>month_period_str=2017-05<br>Cumulative Count=%{y}<extra></extra>",
           "legendgroup": "Electric Power Consumption",
           "marker": {
            "color": "#19d3f3",
            "pattern": {
             "shape": ""
            }
           },
           "name": "Electric Power Consumption",
           "orientation": "v",
           "showlegend": true,
           "textposition": "auto",
           "type": "bar",
           "x": [
            "Electric Power Consumption"
           ],
           "xaxis": "x",
           "y": {
            "bdata": "GA==",
            "dtype": "i1"
           },
           "yaxis": "y"
          }
         ],
         "name": "2017-05"
        },
        {
         "data": [
          {
           "hovertemplate": "Process Type=%{x}<br>month_period_str=2017-06<br>Cumulative Count=%{y}<extra></extra>",
           "legendgroup": "Commercial Consumption",
           "marker": {
            "color": "#636efa",
            "pattern": {
             "shape": ""
            }
           },
           "name": "Commercial Consumption",
           "orientation": "v",
           "showlegend": true,
           "textposition": "auto",
           "type": "bar",
           "x": [
            "Commercial Consumption"
           ],
           "xaxis": "x",
           "y": {
            "bdata": "Wg==",
            "dtype": "i1"
           },
           "yaxis": "y"
          },
          {
           "hovertemplate": "Process Type=%{x}<br>month_period_str=2017-06<br>Cumulative Count=%{y}<extra></extra>",
           "legendgroup": "Delivered to Consumers",
           "marker": {
            "color": "#EF553B",
            "pattern": {
             "shape": ""
            }
           },
           "name": "Delivered to Consumers",
           "orientation": "v",
           "showlegend": true,
           "textposition": "auto",
           "type": "bar",
           "x": [
            "Delivered to Consumers"
           ],
           "xaxis": "x",
           "y": {
            "bdata": "Wg==",
            "dtype": "i1"
           },
           "yaxis": "y"
          },
          {
           "hovertemplate": "Process Type=%{x}<br>month_period_str=2017-06<br>Cumulative Count=%{y}<extra></extra>",
           "legendgroup": "Industrial Consumption",
           "marker": {
            "color": "#00cc96",
            "pattern": {
             "shape": ""
            }
           },
           "name": "Industrial Consumption",
           "orientation": "v",
           "showlegend": true,
           "textposition": "auto",
           "type": "bar",
           "x": [
            "Industrial Consumption"
           ],
           "xaxis": "x",
           "y": {
            "bdata": "UQ==",
            "dtype": "i1"
           },
           "yaxis": "y"
          },
          {
           "hovertemplate": "Process Type=%{x}<br>month_period_str=2017-06<br>Cumulative Count=%{y}<extra></extra>",
           "legendgroup": "Residential Consumption",
           "marker": {
            "color": "#ab63fa",
            "pattern": {
             "shape": ""
            }
           },
           "name": "Residential Consumption",
           "orientation": "v",
           "showlegend": true,
           "textposition": "auto",
           "type": "bar",
           "x": [
            "Residential Consumption"
           ],
           "xaxis": "x",
           "y": {
            "bdata": "WQ==",
            "dtype": "i1"
           },
           "yaxis": "y"
          },
          {
           "hovertemplate": "Process Type=%{x}<br>month_period_str=2017-06<br>Cumulative Count=%{y}<extra></extra>",
           "legendgroup": "Vehicle Fuel Consumption",
           "marker": {
            "color": "#FFA15A",
            "pattern": {
             "shape": ""
            }
           },
           "name": "Vehicle Fuel Consumption",
           "orientation": "v",
           "showlegend": true,
           "textposition": "auto",
           "type": "bar",
           "x": [
            "Vehicle Fuel Consumption"
           ],
           "xaxis": "x",
           "y": {
            "bdata": "WQ==",
            "dtype": "i1"
           },
           "yaxis": "y"
          },
          {
           "hovertemplate": "Process Type=%{x}<br>month_period_str=2017-06<br>Cumulative Count=%{y}<extra></extra>",
           "legendgroup": "Electric Power Consumption",
           "marker": {
            "color": "#19d3f3",
            "pattern": {
             "shape": ""
            }
           },
           "name": "Electric Power Consumption",
           "orientation": "v",
           "showlegend": true,
           "textposition": "auto",
           "type": "bar",
           "x": [
            "Electric Power Consumption"
           ],
           "xaxis": "x",
           "y": {
            "bdata": "GA==",
            "dtype": "i1"
           },
           "yaxis": "y"
          }
         ],
         "name": "2017-06"
        },
        {
         "data": [
          {
           "hovertemplate": "Process Type=%{x}<br>month_period_str=2017-07<br>Cumulative Count=%{y}<extra></extra>",
           "legendgroup": "Commercial Consumption",
           "marker": {
            "color": "#636efa",
            "pattern": {
             "shape": ""
            }
           },
           "name": "Commercial Consumption",
           "orientation": "v",
           "showlegend": true,
           "textposition": "auto",
           "type": "bar",
           "x": [
            "Commercial Consumption"
           ],
           "xaxis": "x",
           "y": {
            "bdata": "Ww==",
            "dtype": "i1"
           },
           "yaxis": "y"
          },
          {
           "hovertemplate": "Process Type=%{x}<br>month_period_str=2017-07<br>Cumulative Count=%{y}<extra></extra>",
           "legendgroup": "Delivered to Consumers",
           "marker": {
            "color": "#EF553B",
            "pattern": {
             "shape": ""
            }
           },
           "name": "Delivered to Consumers",
           "orientation": "v",
           "showlegend": true,
           "textposition": "auto",
           "type": "bar",
           "x": [
            "Delivered to Consumers"
           ],
           "xaxis": "x",
           "y": {
            "bdata": "Ww==",
            "dtype": "i1"
           },
           "yaxis": "y"
          },
          {
           "hovertemplate": "Process Type=%{x}<br>month_period_str=2017-07<br>Cumulative Count=%{y}<extra></extra>",
           "legendgroup": "Industrial Consumption",
           "marker": {
            "color": "#00cc96",
            "pattern": {
             "shape": ""
            }
           },
           "name": "Industrial Consumption",
           "orientation": "v",
           "showlegend": true,
           "textposition": "auto",
           "type": "bar",
           "x": [
            "Industrial Consumption"
           ],
           "xaxis": "x",
           "y": {
            "bdata": "UQ==",
            "dtype": "i1"
           },
           "yaxis": "y"
          },
          {
           "hovertemplate": "Process Type=%{x}<br>month_period_str=2017-07<br>Cumulative Count=%{y}<extra></extra>",
           "legendgroup": "Residential Consumption",
           "marker": {
            "color": "#ab63fa",
            "pattern": {
             "shape": ""
            }
           },
           "name": "Residential Consumption",
           "orientation": "v",
           "showlegend": true,
           "textposition": "auto",
           "type": "bar",
           "x": [
            "Residential Consumption"
           ],
           "xaxis": "x",
           "y": {
            "bdata": "Wg==",
            "dtype": "i1"
           },
           "yaxis": "y"
          },
          {
           "hovertemplate": "Process Type=%{x}<br>month_period_str=2017-07<br>Cumulative Count=%{y}<extra></extra>",
           "legendgroup": "Vehicle Fuel Consumption",
           "marker": {
            "color": "#FFA15A",
            "pattern": {
             "shape": ""
            }
           },
           "name": "Vehicle Fuel Consumption",
           "orientation": "v",
           "showlegend": true,
           "textposition": "auto",
           "type": "bar",
           "x": [
            "Vehicle Fuel Consumption"
           ],
           "xaxis": "x",
           "y": {
            "bdata": "Wg==",
            "dtype": "i1"
           },
           "yaxis": "y"
          },
          {
           "hovertemplate": "Process Type=%{x}<br>month_period_str=2017-07<br>Cumulative Count=%{y}<extra></extra>",
           "legendgroup": "Electric Power Consumption",
           "marker": {
            "color": "#19d3f3",
            "pattern": {
             "shape": ""
            }
           },
           "name": "Electric Power Consumption",
           "orientation": "v",
           "showlegend": true,
           "textposition": "auto",
           "type": "bar",
           "x": [
            "Electric Power Consumption"
           ],
           "xaxis": "x",
           "y": {
            "bdata": "GA==",
            "dtype": "i1"
           },
           "yaxis": "y"
          }
         ],
         "name": "2017-07"
        },
        {
         "data": [
          {
           "hovertemplate": "Process Type=%{x}<br>month_period_str=2017-08<br>Cumulative Count=%{y}<extra></extra>",
           "legendgroup": "Commercial Consumption",
           "marker": {
            "color": "#636efa",
            "pattern": {
             "shape": ""
            }
           },
           "name": "Commercial Consumption",
           "orientation": "v",
           "showlegend": true,
           "textposition": "auto",
           "type": "bar",
           "x": [
            "Commercial Consumption"
           ],
           "xaxis": "x",
           "y": {
            "bdata": "XA==",
            "dtype": "i1"
           },
           "yaxis": "y"
          },
          {
           "hovertemplate": "Process Type=%{x}<br>month_period_str=2017-08<br>Cumulative Count=%{y}<extra></extra>",
           "legendgroup": "Delivered to Consumers",
           "marker": {
            "color": "#EF553B",
            "pattern": {
             "shape": ""
            }
           },
           "name": "Delivered to Consumers",
           "orientation": "v",
           "showlegend": true,
           "textposition": "auto",
           "type": "bar",
           "x": [
            "Delivered to Consumers"
           ],
           "xaxis": "x",
           "y": {
            "bdata": "XA==",
            "dtype": "i1"
           },
           "yaxis": "y"
          },
          {
           "hovertemplate": "Process Type=%{x}<br>month_period_str=2017-08<br>Cumulative Count=%{y}<extra></extra>",
           "legendgroup": "Industrial Consumption",
           "marker": {
            "color": "#00cc96",
            "pattern": {
             "shape": ""
            }
           },
           "name": "Industrial Consumption",
           "orientation": "v",
           "showlegend": true,
           "textposition": "auto",
           "type": "bar",
           "x": [
            "Industrial Consumption"
           ],
           "xaxis": "x",
           "y": {
            "bdata": "UQ==",
            "dtype": "i1"
           },
           "yaxis": "y"
          },
          {
           "hovertemplate": "Process Type=%{x}<br>month_period_str=2017-08<br>Cumulative Count=%{y}<extra></extra>",
           "legendgroup": "Residential Consumption",
           "marker": {
            "color": "#ab63fa",
            "pattern": {
             "shape": ""
            }
           },
           "name": "Residential Consumption",
           "orientation": "v",
           "showlegend": true,
           "textposition": "auto",
           "type": "bar",
           "x": [
            "Residential Consumption"
           ],
           "xaxis": "x",
           "y": {
            "bdata": "Ww==",
            "dtype": "i1"
           },
           "yaxis": "y"
          },
          {
           "hovertemplate": "Process Type=%{x}<br>month_period_str=2017-08<br>Cumulative Count=%{y}<extra></extra>",
           "legendgroup": "Vehicle Fuel Consumption",
           "marker": {
            "color": "#FFA15A",
            "pattern": {
             "shape": ""
            }
           },
           "name": "Vehicle Fuel Consumption",
           "orientation": "v",
           "showlegend": true,
           "textposition": "auto",
           "type": "bar",
           "x": [
            "Vehicle Fuel Consumption"
           ],
           "xaxis": "x",
           "y": {
            "bdata": "Ww==",
            "dtype": "i1"
           },
           "yaxis": "y"
          },
          {
           "hovertemplate": "Process Type=%{x}<br>month_period_str=2017-08<br>Cumulative Count=%{y}<extra></extra>",
           "legendgroup": "Electric Power Consumption",
           "marker": {
            "color": "#19d3f3",
            "pattern": {
             "shape": ""
            }
           },
           "name": "Electric Power Consumption",
           "orientation": "v",
           "showlegend": true,
           "textposition": "auto",
           "type": "bar",
           "x": [
            "Electric Power Consumption"
           ],
           "xaxis": "x",
           "y": {
            "bdata": "GA==",
            "dtype": "i1"
           },
           "yaxis": "y"
          }
         ],
         "name": "2017-08"
        },
        {
         "data": [
          {
           "hovertemplate": "Process Type=%{x}<br>month_period_str=2017-09<br>Cumulative Count=%{y}<extra></extra>",
           "legendgroup": "Commercial Consumption",
           "marker": {
            "color": "#636efa",
            "pattern": {
             "shape": ""
            }
           },
           "name": "Commercial Consumption",
           "orientation": "v",
           "showlegend": true,
           "textposition": "auto",
           "type": "bar",
           "x": [
            "Commercial Consumption"
           ],
           "xaxis": "x",
           "y": {
            "bdata": "XQ==",
            "dtype": "i1"
           },
           "yaxis": "y"
          },
          {
           "hovertemplate": "Process Type=%{x}<br>month_period_str=2017-09<br>Cumulative Count=%{y}<extra></extra>",
           "legendgroup": "Delivered to Consumers",
           "marker": {
            "color": "#EF553B",
            "pattern": {
             "shape": ""
            }
           },
           "name": "Delivered to Consumers",
           "orientation": "v",
           "showlegend": true,
           "textposition": "auto",
           "type": "bar",
           "x": [
            "Delivered to Consumers"
           ],
           "xaxis": "x",
           "y": {
            "bdata": "XQ==",
            "dtype": "i1"
           },
           "yaxis": "y"
          },
          {
           "hovertemplate": "Process Type=%{x}<br>month_period_str=2017-09<br>Cumulative Count=%{y}<extra></extra>",
           "legendgroup": "Industrial Consumption",
           "marker": {
            "color": "#00cc96",
            "pattern": {
             "shape": ""
            }
           },
           "name": "Industrial Consumption",
           "orientation": "v",
           "showlegend": true,
           "textposition": "auto",
           "type": "bar",
           "x": [
            "Industrial Consumption"
           ],
           "xaxis": "x",
           "y": {
            "bdata": "UQ==",
            "dtype": "i1"
           },
           "yaxis": "y"
          },
          {
           "hovertemplate": "Process Type=%{x}<br>month_period_str=2017-09<br>Cumulative Count=%{y}<extra></extra>",
           "legendgroup": "Residential Consumption",
           "marker": {
            "color": "#ab63fa",
            "pattern": {
             "shape": ""
            }
           },
           "name": "Residential Consumption",
           "orientation": "v",
           "showlegend": true,
           "textposition": "auto",
           "type": "bar",
           "x": [
            "Residential Consumption"
           ],
           "xaxis": "x",
           "y": {
            "bdata": "XA==",
            "dtype": "i1"
           },
           "yaxis": "y"
          },
          {
           "hovertemplate": "Process Type=%{x}<br>month_period_str=2017-09<br>Cumulative Count=%{y}<extra></extra>",
           "legendgroup": "Vehicle Fuel Consumption",
           "marker": {
            "color": "#FFA15A",
            "pattern": {
             "shape": ""
            }
           },
           "name": "Vehicle Fuel Consumption",
           "orientation": "v",
           "showlegend": true,
           "textposition": "auto",
           "type": "bar",
           "x": [
            "Vehicle Fuel Consumption"
           ],
           "xaxis": "x",
           "y": {
            "bdata": "XA==",
            "dtype": "i1"
           },
           "yaxis": "y"
          },
          {
           "hovertemplate": "Process Type=%{x}<br>month_period_str=2017-09<br>Cumulative Count=%{y}<extra></extra>",
           "legendgroup": "Electric Power Consumption",
           "marker": {
            "color": "#19d3f3",
            "pattern": {
             "shape": ""
            }
           },
           "name": "Electric Power Consumption",
           "orientation": "v",
           "showlegend": true,
           "textposition": "auto",
           "type": "bar",
           "x": [
            "Electric Power Consumption"
           ],
           "xaxis": "x",
           "y": {
            "bdata": "GA==",
            "dtype": "i1"
           },
           "yaxis": "y"
          }
         ],
         "name": "2017-09"
        },
        {
         "data": [
          {
           "hovertemplate": "Process Type=%{x}<br>month_period_str=2017-10<br>Cumulative Count=%{y}<extra></extra>",
           "legendgroup": "Commercial Consumption",
           "marker": {
            "color": "#636efa",
            "pattern": {
             "shape": ""
            }
           },
           "name": "Commercial Consumption",
           "orientation": "v",
           "showlegend": true,
           "textposition": "auto",
           "type": "bar",
           "x": [
            "Commercial Consumption"
           ],
           "xaxis": "x",
           "y": {
            "bdata": "Xg==",
            "dtype": "i1"
           },
           "yaxis": "y"
          },
          {
           "hovertemplate": "Process Type=%{x}<br>month_period_str=2017-10<br>Cumulative Count=%{y}<extra></extra>",
           "legendgroup": "Delivered to Consumers",
           "marker": {
            "color": "#EF553B",
            "pattern": {
             "shape": ""
            }
           },
           "name": "Delivered to Consumers",
           "orientation": "v",
           "showlegend": true,
           "textposition": "auto",
           "type": "bar",
           "x": [
            "Delivered to Consumers"
           ],
           "xaxis": "x",
           "y": {
            "bdata": "Xg==",
            "dtype": "i1"
           },
           "yaxis": "y"
          },
          {
           "hovertemplate": "Process Type=%{x}<br>month_period_str=2017-10<br>Cumulative Count=%{y}<extra></extra>",
           "legendgroup": "Industrial Consumption",
           "marker": {
            "color": "#00cc96",
            "pattern": {
             "shape": ""
            }
           },
           "name": "Industrial Consumption",
           "orientation": "v",
           "showlegend": true,
           "textposition": "auto",
           "type": "bar",
           "x": [
            "Industrial Consumption"
           ],
           "xaxis": "x",
           "y": {
            "bdata": "UQ==",
            "dtype": "i1"
           },
           "yaxis": "y"
          },
          {
           "hovertemplate": "Process Type=%{x}<br>month_period_str=2017-10<br>Cumulative Count=%{y}<extra></extra>",
           "legendgroup": "Residential Consumption",
           "marker": {
            "color": "#ab63fa",
            "pattern": {
             "shape": ""
            }
           },
           "name": "Residential Consumption",
           "orientation": "v",
           "showlegend": true,
           "textposition": "auto",
           "type": "bar",
           "x": [
            "Residential Consumption"
           ],
           "xaxis": "x",
           "y": {
            "bdata": "XQ==",
            "dtype": "i1"
           },
           "yaxis": "y"
          },
          {
           "hovertemplate": "Process Type=%{x}<br>month_period_str=2017-10<br>Cumulative Count=%{y}<extra></extra>",
           "legendgroup": "Vehicle Fuel Consumption",
           "marker": {
            "color": "#FFA15A",
            "pattern": {
             "shape": ""
            }
           },
           "name": "Vehicle Fuel Consumption",
           "orientation": "v",
           "showlegend": true,
           "textposition": "auto",
           "type": "bar",
           "x": [
            "Vehicle Fuel Consumption"
           ],
           "xaxis": "x",
           "y": {
            "bdata": "XQ==",
            "dtype": "i1"
           },
           "yaxis": "y"
          },
          {
           "hovertemplate": "Process Type=%{x}<br>month_period_str=2017-10<br>Cumulative Count=%{y}<extra></extra>",
           "legendgroup": "Electric Power Consumption",
           "marker": {
            "color": "#19d3f3",
            "pattern": {
             "shape": ""
            }
           },
           "name": "Electric Power Consumption",
           "orientation": "v",
           "showlegend": true,
           "textposition": "auto",
           "type": "bar",
           "x": [
            "Electric Power Consumption"
           ],
           "xaxis": "x",
           "y": {
            "bdata": "GA==",
            "dtype": "i1"
           },
           "yaxis": "y"
          }
         ],
         "name": "2017-10"
        },
        {
         "data": [
          {
           "hovertemplate": "Process Type=%{x}<br>month_period_str=2017-11<br>Cumulative Count=%{y}<extra></extra>",
           "legendgroup": "Commercial Consumption",
           "marker": {
            "color": "#636efa",
            "pattern": {
             "shape": ""
            }
           },
           "name": "Commercial Consumption",
           "orientation": "v",
           "showlegend": true,
           "textposition": "auto",
           "type": "bar",
           "x": [
            "Commercial Consumption"
           ],
           "xaxis": "x",
           "y": {
            "bdata": "Xw==",
            "dtype": "i1"
           },
           "yaxis": "y"
          },
          {
           "hovertemplate": "Process Type=%{x}<br>month_period_str=2017-11<br>Cumulative Count=%{y}<extra></extra>",
           "legendgroup": "Delivered to Consumers",
           "marker": {
            "color": "#EF553B",
            "pattern": {
             "shape": ""
            }
           },
           "name": "Delivered to Consumers",
           "orientation": "v",
           "showlegend": true,
           "textposition": "auto",
           "type": "bar",
           "x": [
            "Delivered to Consumers"
           ],
           "xaxis": "x",
           "y": {
            "bdata": "Xw==",
            "dtype": "i1"
           },
           "yaxis": "y"
          },
          {
           "hovertemplate": "Process Type=%{x}<br>month_period_str=2017-11<br>Cumulative Count=%{y}<extra></extra>",
           "legendgroup": "Industrial Consumption",
           "marker": {
            "color": "#00cc96",
            "pattern": {
             "shape": ""
            }
           },
           "name": "Industrial Consumption",
           "orientation": "v",
           "showlegend": true,
           "textposition": "auto",
           "type": "bar",
           "x": [
            "Industrial Consumption"
           ],
           "xaxis": "x",
           "y": {
            "bdata": "UQ==",
            "dtype": "i1"
           },
           "yaxis": "y"
          },
          {
           "hovertemplate": "Process Type=%{x}<br>month_period_str=2017-11<br>Cumulative Count=%{y}<extra></extra>",
           "legendgroup": "Residential Consumption",
           "marker": {
            "color": "#ab63fa",
            "pattern": {
             "shape": ""
            }
           },
           "name": "Residential Consumption",
           "orientation": "v",
           "showlegend": true,
           "textposition": "auto",
           "type": "bar",
           "x": [
            "Residential Consumption"
           ],
           "xaxis": "x",
           "y": {
            "bdata": "Xg==",
            "dtype": "i1"
           },
           "yaxis": "y"
          },
          {
           "hovertemplate": "Process Type=%{x}<br>month_period_str=2017-11<br>Cumulative Count=%{y}<extra></extra>",
           "legendgroup": "Vehicle Fuel Consumption",
           "marker": {
            "color": "#FFA15A",
            "pattern": {
             "shape": ""
            }
           },
           "name": "Vehicle Fuel Consumption",
           "orientation": "v",
           "showlegend": true,
           "textposition": "auto",
           "type": "bar",
           "x": [
            "Vehicle Fuel Consumption"
           ],
           "xaxis": "x",
           "y": {
            "bdata": "Xg==",
            "dtype": "i1"
           },
           "yaxis": "y"
          },
          {
           "hovertemplate": "Process Type=%{x}<br>month_period_str=2017-11<br>Cumulative Count=%{y}<extra></extra>",
           "legendgroup": "Electric Power Consumption",
           "marker": {
            "color": "#19d3f3",
            "pattern": {
             "shape": ""
            }
           },
           "name": "Electric Power Consumption",
           "orientation": "v",
           "showlegend": true,
           "textposition": "auto",
           "type": "bar",
           "x": [
            "Electric Power Consumption"
           ],
           "xaxis": "x",
           "y": {
            "bdata": "GA==",
            "dtype": "i1"
           },
           "yaxis": "y"
          }
         ],
         "name": "2017-11"
        },
        {
         "data": [
          {
           "hovertemplate": "Process Type=%{x}<br>month_period_str=2017-12<br>Cumulative Count=%{y}<extra></extra>",
           "legendgroup": "Commercial Consumption",
           "marker": {
            "color": "#636efa",
            "pattern": {
             "shape": ""
            }
           },
           "name": "Commercial Consumption",
           "orientation": "v",
           "showlegend": true,
           "textposition": "auto",
           "type": "bar",
           "x": [
            "Commercial Consumption"
           ],
           "xaxis": "x",
           "y": {
            "bdata": "YQ==",
            "dtype": "i1"
           },
           "yaxis": "y"
          },
          {
           "hovertemplate": "Process Type=%{x}<br>month_period_str=2017-12<br>Cumulative Count=%{y}<extra></extra>",
           "legendgroup": "Delivered to Consumers",
           "marker": {
            "color": "#EF553B",
            "pattern": {
             "shape": ""
            }
           },
           "name": "Delivered to Consumers",
           "orientation": "v",
           "showlegend": true,
           "textposition": "auto",
           "type": "bar",
           "x": [
            "Delivered to Consumers"
           ],
           "xaxis": "x",
           "y": {
            "bdata": "YQ==",
            "dtype": "i1"
           },
           "yaxis": "y"
          },
          {
           "hovertemplate": "Process Type=%{x}<br>month_period_str=2017-12<br>Cumulative Count=%{y}<extra></extra>",
           "legendgroup": "Industrial Consumption",
           "marker": {
            "color": "#00cc96",
            "pattern": {
             "shape": ""
            }
           },
           "name": "Industrial Consumption",
           "orientation": "v",
           "showlegend": true,
           "textposition": "auto",
           "type": "bar",
           "x": [
            "Industrial Consumption"
           ],
           "xaxis": "x",
           "y": {
            "bdata": "UQ==",
            "dtype": "i1"
           },
           "yaxis": "y"
          },
          {
           "hovertemplate": "Process Type=%{x}<br>month_period_str=2017-12<br>Cumulative Count=%{y}<extra></extra>",
           "legendgroup": "Residential Consumption",
           "marker": {
            "color": "#ab63fa",
            "pattern": {
             "shape": ""
            }
           },
           "name": "Residential Consumption",
           "orientation": "v",
           "showlegend": true,
           "textposition": "auto",
           "type": "bar",
           "x": [
            "Residential Consumption"
           ],
           "xaxis": "x",
           "y": {
            "bdata": "Xg==",
            "dtype": "i1"
           },
           "yaxis": "y"
          },
          {
           "hovertemplate": "Process Type=%{x}<br>month_period_str=2017-12<br>Cumulative Count=%{y}<extra></extra>",
           "legendgroup": "Vehicle Fuel Consumption",
           "marker": {
            "color": "#FFA15A",
            "pattern": {
             "shape": ""
            }
           },
           "name": "Vehicle Fuel Consumption",
           "orientation": "v",
           "showlegend": true,
           "textposition": "auto",
           "type": "bar",
           "x": [
            "Vehicle Fuel Consumption"
           ],
           "xaxis": "x",
           "y": {
            "bdata": "Xg==",
            "dtype": "i1"
           },
           "yaxis": "y"
          },
          {
           "hovertemplate": "Process Type=%{x}<br>month_period_str=2017-12<br>Cumulative Count=%{y}<extra></extra>",
           "legendgroup": "Electric Power Consumption",
           "marker": {
            "color": "#19d3f3",
            "pattern": {
             "shape": ""
            }
           },
           "name": "Electric Power Consumption",
           "orientation": "v",
           "showlegend": true,
           "textposition": "auto",
           "type": "bar",
           "x": [
            "Electric Power Consumption"
           ],
           "xaxis": "x",
           "y": {
            "bdata": "GA==",
            "dtype": "i1"
           },
           "yaxis": "y"
          }
         ],
         "name": "2017-12"
        },
        {
         "data": [
          {
           "hovertemplate": "Process Type=%{x}<br>month_period_str=2018-01<br>Cumulative Count=%{y}<extra></extra>",
           "legendgroup": "Commercial Consumption",
           "marker": {
            "color": "#636efa",
            "pattern": {
             "shape": ""
            }
           },
           "name": "Commercial Consumption",
           "orientation": "v",
           "showlegend": true,
           "textposition": "auto",
           "type": "bar",
           "x": [
            "Commercial Consumption"
           ],
           "xaxis": "x",
           "y": {
            "bdata": "Yg==",
            "dtype": "i1"
           },
           "yaxis": "y"
          },
          {
           "hovertemplate": "Process Type=%{x}<br>month_period_str=2018-01<br>Cumulative Count=%{y}<extra></extra>",
           "legendgroup": "Delivered to Consumers",
           "marker": {
            "color": "#EF553B",
            "pattern": {
             "shape": ""
            }
           },
           "name": "Delivered to Consumers",
           "orientation": "v",
           "showlegend": true,
           "textposition": "auto",
           "type": "bar",
           "x": [
            "Delivered to Consumers"
           ],
           "xaxis": "x",
           "y": {
            "bdata": "Yg==",
            "dtype": "i1"
           },
           "yaxis": "y"
          },
          {
           "hovertemplate": "Process Type=%{x}<br>month_period_str=2018-01<br>Cumulative Count=%{y}<extra></extra>",
           "legendgroup": "Industrial Consumption",
           "marker": {
            "color": "#00cc96",
            "pattern": {
             "shape": ""
            }
           },
           "name": "Industrial Consumption",
           "orientation": "v",
           "showlegend": true,
           "textposition": "auto",
           "type": "bar",
           "x": [
            "Industrial Consumption"
           ],
           "xaxis": "x",
           "y": {
            "bdata": "UQ==",
            "dtype": "i1"
           },
           "yaxis": "y"
          },
          {
           "hovertemplate": "Process Type=%{x}<br>month_period_str=2018-01<br>Cumulative Count=%{y}<extra></extra>",
           "legendgroup": "Residential Consumption",
           "marker": {
            "color": "#ab63fa",
            "pattern": {
             "shape": ""
            }
           },
           "name": "Residential Consumption",
           "orientation": "v",
           "showlegend": true,
           "textposition": "auto",
           "type": "bar",
           "x": [
            "Residential Consumption"
           ],
           "xaxis": "x",
           "y": {
            "bdata": "Xw==",
            "dtype": "i1"
           },
           "yaxis": "y"
          },
          {
           "hovertemplate": "Process Type=%{x}<br>month_period_str=2018-01<br>Cumulative Count=%{y}<extra></extra>",
           "legendgroup": "Vehicle Fuel Consumption",
           "marker": {
            "color": "#FFA15A",
            "pattern": {
             "shape": ""
            }
           },
           "name": "Vehicle Fuel Consumption",
           "orientation": "v",
           "showlegend": true,
           "textposition": "auto",
           "type": "bar",
           "x": [
            "Vehicle Fuel Consumption"
           ],
           "xaxis": "x",
           "y": {
            "bdata": "Xw==",
            "dtype": "i1"
           },
           "yaxis": "y"
          },
          {
           "hovertemplate": "Process Type=%{x}<br>month_period_str=2018-01<br>Cumulative Count=%{y}<extra></extra>",
           "legendgroup": "Electric Power Consumption",
           "marker": {
            "color": "#19d3f3",
            "pattern": {
             "shape": ""
            }
           },
           "name": "Electric Power Consumption",
           "orientation": "v",
           "showlegend": true,
           "textposition": "auto",
           "type": "bar",
           "x": [
            "Electric Power Consumption"
           ],
           "xaxis": "x",
           "y": {
            "bdata": "GA==",
            "dtype": "i1"
           },
           "yaxis": "y"
          }
         ],
         "name": "2018-01"
        },
        {
         "data": [
          {
           "hovertemplate": "Process Type=%{x}<br>month_period_str=2018-02<br>Cumulative Count=%{y}<extra></extra>",
           "legendgroup": "Commercial Consumption",
           "marker": {
            "color": "#636efa",
            "pattern": {
             "shape": ""
            }
           },
           "name": "Commercial Consumption",
           "orientation": "v",
           "showlegend": true,
           "textposition": "auto",
           "type": "bar",
           "x": [
            "Commercial Consumption"
           ],
           "xaxis": "x",
           "y": {
            "bdata": "Yw==",
            "dtype": "i1"
           },
           "yaxis": "y"
          },
          {
           "hovertemplate": "Process Type=%{x}<br>month_period_str=2018-02<br>Cumulative Count=%{y}<extra></extra>",
           "legendgroup": "Delivered to Consumers",
           "marker": {
            "color": "#EF553B",
            "pattern": {
             "shape": ""
            }
           },
           "name": "Delivered to Consumers",
           "orientation": "v",
           "showlegend": true,
           "textposition": "auto",
           "type": "bar",
           "x": [
            "Delivered to Consumers"
           ],
           "xaxis": "x",
           "y": {
            "bdata": "Yw==",
            "dtype": "i1"
           },
           "yaxis": "y"
          },
          {
           "hovertemplate": "Process Type=%{x}<br>month_period_str=2018-02<br>Cumulative Count=%{y}<extra></extra>",
           "legendgroup": "Industrial Consumption",
           "marker": {
            "color": "#00cc96",
            "pattern": {
             "shape": ""
            }
           },
           "name": "Industrial Consumption",
           "orientation": "v",
           "showlegend": true,
           "textposition": "auto",
           "type": "bar",
           "x": [
            "Industrial Consumption"
           ],
           "xaxis": "x",
           "y": {
            "bdata": "UQ==",
            "dtype": "i1"
           },
           "yaxis": "y"
          },
          {
           "hovertemplate": "Process Type=%{x}<br>month_period_str=2018-02<br>Cumulative Count=%{y}<extra></extra>",
           "legendgroup": "Residential Consumption",
           "marker": {
            "color": "#ab63fa",
            "pattern": {
             "shape": ""
            }
           },
           "name": "Residential Consumption",
           "orientation": "v",
           "showlegend": true,
           "textposition": "auto",
           "type": "bar",
           "x": [
            "Residential Consumption"
           ],
           "xaxis": "x",
           "y": {
            "bdata": "YA==",
            "dtype": "i1"
           },
           "yaxis": "y"
          },
          {
           "hovertemplate": "Process Type=%{x}<br>month_period_str=2018-02<br>Cumulative Count=%{y}<extra></extra>",
           "legendgroup": "Vehicle Fuel Consumption",
           "marker": {
            "color": "#FFA15A",
            "pattern": {
             "shape": ""
            }
           },
           "name": "Vehicle Fuel Consumption",
           "orientation": "v",
           "showlegend": true,
           "textposition": "auto",
           "type": "bar",
           "x": [
            "Vehicle Fuel Consumption"
           ],
           "xaxis": "x",
           "y": {
            "bdata": "YA==",
            "dtype": "i1"
           },
           "yaxis": "y"
          },
          {
           "hovertemplate": "Process Type=%{x}<br>month_period_str=2018-02<br>Cumulative Count=%{y}<extra></extra>",
           "legendgroup": "Electric Power Consumption",
           "marker": {
            "color": "#19d3f3",
            "pattern": {
             "shape": ""
            }
           },
           "name": "Electric Power Consumption",
           "orientation": "v",
           "showlegend": true,
           "textposition": "auto",
           "type": "bar",
           "x": [
            "Electric Power Consumption"
           ],
           "xaxis": "x",
           "y": {
            "bdata": "GA==",
            "dtype": "i1"
           },
           "yaxis": "y"
          }
         ],
         "name": "2018-02"
        },
        {
         "data": [
          {
           "hovertemplate": "Process Type=%{x}<br>month_period_str=2018-03<br>Cumulative Count=%{y}<extra></extra>",
           "legendgroup": "Commercial Consumption",
           "marker": {
            "color": "#636efa",
            "pattern": {
             "shape": ""
            }
           },
           "name": "Commercial Consumption",
           "orientation": "v",
           "showlegend": true,
           "textposition": "auto",
           "type": "bar",
           "x": [
            "Commercial Consumption"
           ],
           "xaxis": "x",
           "y": {
            "bdata": "ZA==",
            "dtype": "i1"
           },
           "yaxis": "y"
          },
          {
           "hovertemplate": "Process Type=%{x}<br>month_period_str=2018-03<br>Cumulative Count=%{y}<extra></extra>",
           "legendgroup": "Delivered to Consumers",
           "marker": {
            "color": "#EF553B",
            "pattern": {
             "shape": ""
            }
           },
           "name": "Delivered to Consumers",
           "orientation": "v",
           "showlegend": true,
           "textposition": "auto",
           "type": "bar",
           "x": [
            "Delivered to Consumers"
           ],
           "xaxis": "x",
           "y": {
            "bdata": "ZA==",
            "dtype": "i1"
           },
           "yaxis": "y"
          },
          {
           "hovertemplate": "Process Type=%{x}<br>month_period_str=2018-03<br>Cumulative Count=%{y}<extra></extra>",
           "legendgroup": "Industrial Consumption",
           "marker": {
            "color": "#00cc96",
            "pattern": {
             "shape": ""
            }
           },
           "name": "Industrial Consumption",
           "orientation": "v",
           "showlegend": true,
           "textposition": "auto",
           "type": "bar",
           "x": [
            "Industrial Consumption"
           ],
           "xaxis": "x",
           "y": {
            "bdata": "UQ==",
            "dtype": "i1"
           },
           "yaxis": "y"
          },
          {
           "hovertemplate": "Process Type=%{x}<br>month_period_str=2018-03<br>Cumulative Count=%{y}<extra></extra>",
           "legendgroup": "Residential Consumption",
           "marker": {
            "color": "#ab63fa",
            "pattern": {
             "shape": ""
            }
           },
           "name": "Residential Consumption",
           "orientation": "v",
           "showlegend": true,
           "textposition": "auto",
           "type": "bar",
           "x": [
            "Residential Consumption"
           ],
           "xaxis": "x",
           "y": {
            "bdata": "YQ==",
            "dtype": "i1"
           },
           "yaxis": "y"
          },
          {
           "hovertemplate": "Process Type=%{x}<br>month_period_str=2018-03<br>Cumulative Count=%{y}<extra></extra>",
           "legendgroup": "Vehicle Fuel Consumption",
           "marker": {
            "color": "#FFA15A",
            "pattern": {
             "shape": ""
            }
           },
           "name": "Vehicle Fuel Consumption",
           "orientation": "v",
           "showlegend": true,
           "textposition": "auto",
           "type": "bar",
           "x": [
            "Vehicle Fuel Consumption"
           ],
           "xaxis": "x",
           "y": {
            "bdata": "YQ==",
            "dtype": "i1"
           },
           "yaxis": "y"
          },
          {
           "hovertemplate": "Process Type=%{x}<br>month_period_str=2018-03<br>Cumulative Count=%{y}<extra></extra>",
           "legendgroup": "Electric Power Consumption",
           "marker": {
            "color": "#19d3f3",
            "pattern": {
             "shape": ""
            }
           },
           "name": "Electric Power Consumption",
           "orientation": "v",
           "showlegend": true,
           "textposition": "auto",
           "type": "bar",
           "x": [
            "Electric Power Consumption"
           ],
           "xaxis": "x",
           "y": {
            "bdata": "GA==",
            "dtype": "i1"
           },
           "yaxis": "y"
          }
         ],
         "name": "2018-03"
        },
        {
         "data": [
          {
           "hovertemplate": "Process Type=%{x}<br>month_period_str=2018-04<br>Cumulative Count=%{y}<extra></extra>",
           "legendgroup": "Commercial Consumption",
           "marker": {
            "color": "#636efa",
            "pattern": {
             "shape": ""
            }
           },
           "name": "Commercial Consumption",
           "orientation": "v",
           "showlegend": true,
           "textposition": "auto",
           "type": "bar",
           "x": [
            "Commercial Consumption"
           ],
           "xaxis": "x",
           "y": {
            "bdata": "ZQ==",
            "dtype": "i1"
           },
           "yaxis": "y"
          },
          {
           "hovertemplate": "Process Type=%{x}<br>month_period_str=2018-04<br>Cumulative Count=%{y}<extra></extra>",
           "legendgroup": "Delivered to Consumers",
           "marker": {
            "color": "#EF553B",
            "pattern": {
             "shape": ""
            }
           },
           "name": "Delivered to Consumers",
           "orientation": "v",
           "showlegend": true,
           "textposition": "auto",
           "type": "bar",
           "x": [
            "Delivered to Consumers"
           ],
           "xaxis": "x",
           "y": {
            "bdata": "ZQ==",
            "dtype": "i1"
           },
           "yaxis": "y"
          },
          {
           "hovertemplate": "Process Type=%{x}<br>month_period_str=2018-04<br>Cumulative Count=%{y}<extra></extra>",
           "legendgroup": "Industrial Consumption",
           "marker": {
            "color": "#00cc96",
            "pattern": {
             "shape": ""
            }
           },
           "name": "Industrial Consumption",
           "orientation": "v",
           "showlegend": true,
           "textposition": "auto",
           "type": "bar",
           "x": [
            "Industrial Consumption"
           ],
           "xaxis": "x",
           "y": {
            "bdata": "UQ==",
            "dtype": "i1"
           },
           "yaxis": "y"
          },
          {
           "hovertemplate": "Process Type=%{x}<br>month_period_str=2018-04<br>Cumulative Count=%{y}<extra></extra>",
           "legendgroup": "Residential Consumption",
           "marker": {
            "color": "#ab63fa",
            "pattern": {
             "shape": ""
            }
           },
           "name": "Residential Consumption",
           "orientation": "v",
           "showlegend": true,
           "textposition": "auto",
           "type": "bar",
           "x": [
            "Residential Consumption"
           ],
           "xaxis": "x",
           "y": {
            "bdata": "Yg==",
            "dtype": "i1"
           },
           "yaxis": "y"
          },
          {
           "hovertemplate": "Process Type=%{x}<br>month_period_str=2018-04<br>Cumulative Count=%{y}<extra></extra>",
           "legendgroup": "Vehicle Fuel Consumption",
           "marker": {
            "color": "#FFA15A",
            "pattern": {
             "shape": ""
            }
           },
           "name": "Vehicle Fuel Consumption",
           "orientation": "v",
           "showlegend": true,
           "textposition": "auto",
           "type": "bar",
           "x": [
            "Vehicle Fuel Consumption"
           ],
           "xaxis": "x",
           "y": {
            "bdata": "Yg==",
            "dtype": "i1"
           },
           "yaxis": "y"
          },
          {
           "hovertemplate": "Process Type=%{x}<br>month_period_str=2018-04<br>Cumulative Count=%{y}<extra></extra>",
           "legendgroup": "Electric Power Consumption",
           "marker": {
            "color": "#19d3f3",
            "pattern": {
             "shape": ""
            }
           },
           "name": "Electric Power Consumption",
           "orientation": "v",
           "showlegend": true,
           "textposition": "auto",
           "type": "bar",
           "x": [
            "Electric Power Consumption"
           ],
           "xaxis": "x",
           "y": {
            "bdata": "GA==",
            "dtype": "i1"
           },
           "yaxis": "y"
          }
         ],
         "name": "2018-04"
        },
        {
         "data": [
          {
           "hovertemplate": "Process Type=%{x}<br>month_period_str=2018-05<br>Cumulative Count=%{y}<extra></extra>",
           "legendgroup": "Commercial Consumption",
           "marker": {
            "color": "#636efa",
            "pattern": {
             "shape": ""
            }
           },
           "name": "Commercial Consumption",
           "orientation": "v",
           "showlegend": true,
           "textposition": "auto",
           "type": "bar",
           "x": [
            "Commercial Consumption"
           ],
           "xaxis": "x",
           "y": {
            "bdata": "Zg==",
            "dtype": "i1"
           },
           "yaxis": "y"
          },
          {
           "hovertemplate": "Process Type=%{x}<br>month_period_str=2018-05<br>Cumulative Count=%{y}<extra></extra>",
           "legendgroup": "Delivered to Consumers",
           "marker": {
            "color": "#EF553B",
            "pattern": {
             "shape": ""
            }
           },
           "name": "Delivered to Consumers",
           "orientation": "v",
           "showlegend": true,
           "textposition": "auto",
           "type": "bar",
           "x": [
            "Delivered to Consumers"
           ],
           "xaxis": "x",
           "y": {
            "bdata": "Zg==",
            "dtype": "i1"
           },
           "yaxis": "y"
          },
          {
           "hovertemplate": "Process Type=%{x}<br>month_period_str=2018-05<br>Cumulative Count=%{y}<extra></extra>",
           "legendgroup": "Industrial Consumption",
           "marker": {
            "color": "#00cc96",
            "pattern": {
             "shape": ""
            }
           },
           "name": "Industrial Consumption",
           "orientation": "v",
           "showlegend": true,
           "textposition": "auto",
           "type": "bar",
           "x": [
            "Industrial Consumption"
           ],
           "xaxis": "x",
           "y": {
            "bdata": "UQ==",
            "dtype": "i1"
           },
           "yaxis": "y"
          },
          {
           "hovertemplate": "Process Type=%{x}<br>month_period_str=2018-05<br>Cumulative Count=%{y}<extra></extra>",
           "legendgroup": "Residential Consumption",
           "marker": {
            "color": "#ab63fa",
            "pattern": {
             "shape": ""
            }
           },
           "name": "Residential Consumption",
           "orientation": "v",
           "showlegend": true,
           "textposition": "auto",
           "type": "bar",
           "x": [
            "Residential Consumption"
           ],
           "xaxis": "x",
           "y": {
            "bdata": "Yw==",
            "dtype": "i1"
           },
           "yaxis": "y"
          },
          {
           "hovertemplate": "Process Type=%{x}<br>month_period_str=2018-05<br>Cumulative Count=%{y}<extra></extra>",
           "legendgroup": "Vehicle Fuel Consumption",
           "marker": {
            "color": "#FFA15A",
            "pattern": {
             "shape": ""
            }
           },
           "name": "Vehicle Fuel Consumption",
           "orientation": "v",
           "showlegend": true,
           "textposition": "auto",
           "type": "bar",
           "x": [
            "Vehicle Fuel Consumption"
           ],
           "xaxis": "x",
           "y": {
            "bdata": "Yw==",
            "dtype": "i1"
           },
           "yaxis": "y"
          },
          {
           "hovertemplate": "Process Type=%{x}<br>month_period_str=2018-05<br>Cumulative Count=%{y}<extra></extra>",
           "legendgroup": "Electric Power Consumption",
           "marker": {
            "color": "#19d3f3",
            "pattern": {
             "shape": ""
            }
           },
           "name": "Electric Power Consumption",
           "orientation": "v",
           "showlegend": true,
           "textposition": "auto",
           "type": "bar",
           "x": [
            "Electric Power Consumption"
           ],
           "xaxis": "x",
           "y": {
            "bdata": "GA==",
            "dtype": "i1"
           },
           "yaxis": "y"
          }
         ],
         "name": "2018-05"
        },
        {
         "data": [
          {
           "hovertemplate": "Process Type=%{x}<br>month_period_str=2018-06<br>Cumulative Count=%{y}<extra></extra>",
           "legendgroup": "Commercial Consumption",
           "marker": {
            "color": "#636efa",
            "pattern": {
             "shape": ""
            }
           },
           "name": "Commercial Consumption",
           "orientation": "v",
           "showlegend": true,
           "textposition": "auto",
           "type": "bar",
           "x": [
            "Commercial Consumption"
           ],
           "xaxis": "x",
           "y": {
            "bdata": "Zw==",
            "dtype": "i1"
           },
           "yaxis": "y"
          },
          {
           "hovertemplate": "Process Type=%{x}<br>month_period_str=2018-06<br>Cumulative Count=%{y}<extra></extra>",
           "legendgroup": "Delivered to Consumers",
           "marker": {
            "color": "#EF553B",
            "pattern": {
             "shape": ""
            }
           },
           "name": "Delivered to Consumers",
           "orientation": "v",
           "showlegend": true,
           "textposition": "auto",
           "type": "bar",
           "x": [
            "Delivered to Consumers"
           ],
           "xaxis": "x",
           "y": {
            "bdata": "Zw==",
            "dtype": "i1"
           },
           "yaxis": "y"
          },
          {
           "hovertemplate": "Process Type=%{x}<br>month_period_str=2018-06<br>Cumulative Count=%{y}<extra></extra>",
           "legendgroup": "Industrial Consumption",
           "marker": {
            "color": "#00cc96",
            "pattern": {
             "shape": ""
            }
           },
           "name": "Industrial Consumption",
           "orientation": "v",
           "showlegend": true,
           "textposition": "auto",
           "type": "bar",
           "x": [
            "Industrial Consumption"
           ],
           "xaxis": "x",
           "y": {
            "bdata": "UQ==",
            "dtype": "i1"
           },
           "yaxis": "y"
          },
          {
           "hovertemplate": "Process Type=%{x}<br>month_period_str=2018-06<br>Cumulative Count=%{y}<extra></extra>",
           "legendgroup": "Residential Consumption",
           "marker": {
            "color": "#ab63fa",
            "pattern": {
             "shape": ""
            }
           },
           "name": "Residential Consumption",
           "orientation": "v",
           "showlegend": true,
           "textposition": "auto",
           "type": "bar",
           "x": [
            "Residential Consumption"
           ],
           "xaxis": "x",
           "y": {
            "bdata": "ZA==",
            "dtype": "i1"
           },
           "yaxis": "y"
          },
          {
           "hovertemplate": "Process Type=%{x}<br>month_period_str=2018-06<br>Cumulative Count=%{y}<extra></extra>",
           "legendgroup": "Vehicle Fuel Consumption",
           "marker": {
            "color": "#FFA15A",
            "pattern": {
             "shape": ""
            }
           },
           "name": "Vehicle Fuel Consumption",
           "orientation": "v",
           "showlegend": true,
           "textposition": "auto",
           "type": "bar",
           "x": [
            "Vehicle Fuel Consumption"
           ],
           "xaxis": "x",
           "y": {
            "bdata": "ZA==",
            "dtype": "i1"
           },
           "yaxis": "y"
          },
          {
           "hovertemplate": "Process Type=%{x}<br>month_period_str=2018-06<br>Cumulative Count=%{y}<extra></extra>",
           "legendgroup": "Electric Power Consumption",
           "marker": {
            "color": "#19d3f3",
            "pattern": {
             "shape": ""
            }
           },
           "name": "Electric Power Consumption",
           "orientation": "v",
           "showlegend": true,
           "textposition": "auto",
           "type": "bar",
           "x": [
            "Electric Power Consumption"
           ],
           "xaxis": "x",
           "y": {
            "bdata": "GA==",
            "dtype": "i1"
           },
           "yaxis": "y"
          }
         ],
         "name": "2018-06"
        },
        {
         "data": [
          {
           "hovertemplate": "Process Type=%{x}<br>month_period_str=2018-07<br>Cumulative Count=%{y}<extra></extra>",
           "legendgroup": "Commercial Consumption",
           "marker": {
            "color": "#636efa",
            "pattern": {
             "shape": ""
            }
           },
           "name": "Commercial Consumption",
           "orientation": "v",
           "showlegend": true,
           "textposition": "auto",
           "type": "bar",
           "x": [
            "Commercial Consumption"
           ],
           "xaxis": "x",
           "y": {
            "bdata": "aA==",
            "dtype": "i1"
           },
           "yaxis": "y"
          },
          {
           "hovertemplate": "Process Type=%{x}<br>month_period_str=2018-07<br>Cumulative Count=%{y}<extra></extra>",
           "legendgroup": "Delivered to Consumers",
           "marker": {
            "color": "#EF553B",
            "pattern": {
             "shape": ""
            }
           },
           "name": "Delivered to Consumers",
           "orientation": "v",
           "showlegend": true,
           "textposition": "auto",
           "type": "bar",
           "x": [
            "Delivered to Consumers"
           ],
           "xaxis": "x",
           "y": {
            "bdata": "aA==",
            "dtype": "i1"
           },
           "yaxis": "y"
          },
          {
           "hovertemplate": "Process Type=%{x}<br>month_period_str=2018-07<br>Cumulative Count=%{y}<extra></extra>",
           "legendgroup": "Industrial Consumption",
           "marker": {
            "color": "#00cc96",
            "pattern": {
             "shape": ""
            }
           },
           "name": "Industrial Consumption",
           "orientation": "v",
           "showlegend": true,
           "textposition": "auto",
           "type": "bar",
           "x": [
            "Industrial Consumption"
           ],
           "xaxis": "x",
           "y": {
            "bdata": "UQ==",
            "dtype": "i1"
           },
           "yaxis": "y"
          },
          {
           "hovertemplate": "Process Type=%{x}<br>month_period_str=2018-07<br>Cumulative Count=%{y}<extra></extra>",
           "legendgroup": "Residential Consumption",
           "marker": {
            "color": "#ab63fa",
            "pattern": {
             "shape": ""
            }
           },
           "name": "Residential Consumption",
           "orientation": "v",
           "showlegend": true,
           "textposition": "auto",
           "type": "bar",
           "x": [
            "Residential Consumption"
           ],
           "xaxis": "x",
           "y": {
            "bdata": "ZQ==",
            "dtype": "i1"
           },
           "yaxis": "y"
          },
          {
           "hovertemplate": "Process Type=%{x}<br>month_period_str=2018-07<br>Cumulative Count=%{y}<extra></extra>",
           "legendgroup": "Vehicle Fuel Consumption",
           "marker": {
            "color": "#FFA15A",
            "pattern": {
             "shape": ""
            }
           },
           "name": "Vehicle Fuel Consumption",
           "orientation": "v",
           "showlegend": true,
           "textposition": "auto",
           "type": "bar",
           "x": [
            "Vehicle Fuel Consumption"
           ],
           "xaxis": "x",
           "y": {
            "bdata": "ZQ==",
            "dtype": "i1"
           },
           "yaxis": "y"
          },
          {
           "hovertemplate": "Process Type=%{x}<br>month_period_str=2018-07<br>Cumulative Count=%{y}<extra></extra>",
           "legendgroup": "Electric Power Consumption",
           "marker": {
            "color": "#19d3f3",
            "pattern": {
             "shape": ""
            }
           },
           "name": "Electric Power Consumption",
           "orientation": "v",
           "showlegend": true,
           "textposition": "auto",
           "type": "bar",
           "x": [
            "Electric Power Consumption"
           ],
           "xaxis": "x",
           "y": {
            "bdata": "GA==",
            "dtype": "i1"
           },
           "yaxis": "y"
          }
         ],
         "name": "2018-07"
        },
        {
         "data": [
          {
           "hovertemplate": "Process Type=%{x}<br>month_period_str=2018-08<br>Cumulative Count=%{y}<extra></extra>",
           "legendgroup": "Commercial Consumption",
           "marker": {
            "color": "#636efa",
            "pattern": {
             "shape": ""
            }
           },
           "name": "Commercial Consumption",
           "orientation": "v",
           "showlegend": true,
           "textposition": "auto",
           "type": "bar",
           "x": [
            "Commercial Consumption"
           ],
           "xaxis": "x",
           "y": {
            "bdata": "aQ==",
            "dtype": "i1"
           },
           "yaxis": "y"
          },
          {
           "hovertemplate": "Process Type=%{x}<br>month_period_str=2018-08<br>Cumulative Count=%{y}<extra></extra>",
           "legendgroup": "Delivered to Consumers",
           "marker": {
            "color": "#EF553B",
            "pattern": {
             "shape": ""
            }
           },
           "name": "Delivered to Consumers",
           "orientation": "v",
           "showlegend": true,
           "textposition": "auto",
           "type": "bar",
           "x": [
            "Delivered to Consumers"
           ],
           "xaxis": "x",
           "y": {
            "bdata": "aQ==",
            "dtype": "i1"
           },
           "yaxis": "y"
          },
          {
           "hovertemplate": "Process Type=%{x}<br>month_period_str=2018-08<br>Cumulative Count=%{y}<extra></extra>",
           "legendgroup": "Industrial Consumption",
           "marker": {
            "color": "#00cc96",
            "pattern": {
             "shape": ""
            }
           },
           "name": "Industrial Consumption",
           "orientation": "v",
           "showlegend": true,
           "textposition": "auto",
           "type": "bar",
           "x": [
            "Industrial Consumption"
           ],
           "xaxis": "x",
           "y": {
            "bdata": "UQ==",
            "dtype": "i1"
           },
           "yaxis": "y"
          },
          {
           "hovertemplate": "Process Type=%{x}<br>month_period_str=2018-08<br>Cumulative Count=%{y}<extra></extra>",
           "legendgroup": "Residential Consumption",
           "marker": {
            "color": "#ab63fa",
            "pattern": {
             "shape": ""
            }
           },
           "name": "Residential Consumption",
           "orientation": "v",
           "showlegend": true,
           "textposition": "auto",
           "type": "bar",
           "x": [
            "Residential Consumption"
           ],
           "xaxis": "x",
           "y": {
            "bdata": "Zg==",
            "dtype": "i1"
           },
           "yaxis": "y"
          },
          {
           "hovertemplate": "Process Type=%{x}<br>month_period_str=2018-08<br>Cumulative Count=%{y}<extra></extra>",
           "legendgroup": "Vehicle Fuel Consumption",
           "marker": {
            "color": "#FFA15A",
            "pattern": {
             "shape": ""
            }
           },
           "name": "Vehicle Fuel Consumption",
           "orientation": "v",
           "showlegend": true,
           "textposition": "auto",
           "type": "bar",
           "x": [
            "Vehicle Fuel Consumption"
           ],
           "xaxis": "x",
           "y": {
            "bdata": "Zg==",
            "dtype": "i1"
           },
           "yaxis": "y"
          },
          {
           "hovertemplate": "Process Type=%{x}<br>month_period_str=2018-08<br>Cumulative Count=%{y}<extra></extra>",
           "legendgroup": "Electric Power Consumption",
           "marker": {
            "color": "#19d3f3",
            "pattern": {
             "shape": ""
            }
           },
           "name": "Electric Power Consumption",
           "orientation": "v",
           "showlegend": true,
           "textposition": "auto",
           "type": "bar",
           "x": [
            "Electric Power Consumption"
           ],
           "xaxis": "x",
           "y": {
            "bdata": "GA==",
            "dtype": "i1"
           },
           "yaxis": "y"
          }
         ],
         "name": "2018-08"
        },
        {
         "data": [
          {
           "hovertemplate": "Process Type=%{x}<br>month_period_str=2018-09<br>Cumulative Count=%{y}<extra></extra>",
           "legendgroup": "Commercial Consumption",
           "marker": {
            "color": "#636efa",
            "pattern": {
             "shape": ""
            }
           },
           "name": "Commercial Consumption",
           "orientation": "v",
           "showlegend": true,
           "textposition": "auto",
           "type": "bar",
           "x": [
            "Commercial Consumption"
           ],
           "xaxis": "x",
           "y": {
            "bdata": "ag==",
            "dtype": "i1"
           },
           "yaxis": "y"
          },
          {
           "hovertemplate": "Process Type=%{x}<br>month_period_str=2018-09<br>Cumulative Count=%{y}<extra></extra>",
           "legendgroup": "Delivered to Consumers",
           "marker": {
            "color": "#EF553B",
            "pattern": {
             "shape": ""
            }
           },
           "name": "Delivered to Consumers",
           "orientation": "v",
           "showlegend": true,
           "textposition": "auto",
           "type": "bar",
           "x": [
            "Delivered to Consumers"
           ],
           "xaxis": "x",
           "y": {
            "bdata": "ag==",
            "dtype": "i1"
           },
           "yaxis": "y"
          },
          {
           "hovertemplate": "Process Type=%{x}<br>month_period_str=2018-09<br>Cumulative Count=%{y}<extra></extra>",
           "legendgroup": "Industrial Consumption",
           "marker": {
            "color": "#00cc96",
            "pattern": {
             "shape": ""
            }
           },
           "name": "Industrial Consumption",
           "orientation": "v",
           "showlegend": true,
           "textposition": "auto",
           "type": "bar",
           "x": [
            "Industrial Consumption"
           ],
           "xaxis": "x",
           "y": {
            "bdata": "UQ==",
            "dtype": "i1"
           },
           "yaxis": "y"
          },
          {
           "hovertemplate": "Process Type=%{x}<br>month_period_str=2018-09<br>Cumulative Count=%{y}<extra></extra>",
           "legendgroup": "Residential Consumption",
           "marker": {
            "color": "#ab63fa",
            "pattern": {
             "shape": ""
            }
           },
           "name": "Residential Consumption",
           "orientation": "v",
           "showlegend": true,
           "textposition": "auto",
           "type": "bar",
           "x": [
            "Residential Consumption"
           ],
           "xaxis": "x",
           "y": {
            "bdata": "Zw==",
            "dtype": "i1"
           },
           "yaxis": "y"
          },
          {
           "hovertemplate": "Process Type=%{x}<br>month_period_str=2018-09<br>Cumulative Count=%{y}<extra></extra>",
           "legendgroup": "Vehicle Fuel Consumption",
           "marker": {
            "color": "#FFA15A",
            "pattern": {
             "shape": ""
            }
           },
           "name": "Vehicle Fuel Consumption",
           "orientation": "v",
           "showlegend": true,
           "textposition": "auto",
           "type": "bar",
           "x": [
            "Vehicle Fuel Consumption"
           ],
           "xaxis": "x",
           "y": {
            "bdata": "Zw==",
            "dtype": "i1"
           },
           "yaxis": "y"
          },
          {
           "hovertemplate": "Process Type=%{x}<br>month_period_str=2018-09<br>Cumulative Count=%{y}<extra></extra>",
           "legendgroup": "Electric Power Consumption",
           "marker": {
            "color": "#19d3f3",
            "pattern": {
             "shape": ""
            }
           },
           "name": "Electric Power Consumption",
           "orientation": "v",
           "showlegend": true,
           "textposition": "auto",
           "type": "bar",
           "x": [
            "Electric Power Consumption"
           ],
           "xaxis": "x",
           "y": {
            "bdata": "GA==",
            "dtype": "i1"
           },
           "yaxis": "y"
          }
         ],
         "name": "2018-09"
        },
        {
         "data": [
          {
           "hovertemplate": "Process Type=%{x}<br>month_period_str=2018-10<br>Cumulative Count=%{y}<extra></extra>",
           "legendgroup": "Commercial Consumption",
           "marker": {
            "color": "#636efa",
            "pattern": {
             "shape": ""
            }
           },
           "name": "Commercial Consumption",
           "orientation": "v",
           "showlegend": true,
           "textposition": "auto",
           "type": "bar",
           "x": [
            "Commercial Consumption"
           ],
           "xaxis": "x",
           "y": {
            "bdata": "aw==",
            "dtype": "i1"
           },
           "yaxis": "y"
          },
          {
           "hovertemplate": "Process Type=%{x}<br>month_period_str=2018-10<br>Cumulative Count=%{y}<extra></extra>",
           "legendgroup": "Delivered to Consumers",
           "marker": {
            "color": "#EF553B",
            "pattern": {
             "shape": ""
            }
           },
           "name": "Delivered to Consumers",
           "orientation": "v",
           "showlegend": true,
           "textposition": "auto",
           "type": "bar",
           "x": [
            "Delivered to Consumers"
           ],
           "xaxis": "x",
           "y": {
            "bdata": "aw==",
            "dtype": "i1"
           },
           "yaxis": "y"
          },
          {
           "hovertemplate": "Process Type=%{x}<br>month_period_str=2018-10<br>Cumulative Count=%{y}<extra></extra>",
           "legendgroup": "Industrial Consumption",
           "marker": {
            "color": "#00cc96",
            "pattern": {
             "shape": ""
            }
           },
           "name": "Industrial Consumption",
           "orientation": "v",
           "showlegend": true,
           "textposition": "auto",
           "type": "bar",
           "x": [
            "Industrial Consumption"
           ],
           "xaxis": "x",
           "y": {
            "bdata": "UQ==",
            "dtype": "i1"
           },
           "yaxis": "y"
          },
          {
           "hovertemplate": "Process Type=%{x}<br>month_period_str=2018-10<br>Cumulative Count=%{y}<extra></extra>",
           "legendgroup": "Residential Consumption",
           "marker": {
            "color": "#ab63fa",
            "pattern": {
             "shape": ""
            }
           },
           "name": "Residential Consumption",
           "orientation": "v",
           "showlegend": true,
           "textposition": "auto",
           "type": "bar",
           "x": [
            "Residential Consumption"
           ],
           "xaxis": "x",
           "y": {
            "bdata": "aA==",
            "dtype": "i1"
           },
           "yaxis": "y"
          },
          {
           "hovertemplate": "Process Type=%{x}<br>month_period_str=2018-10<br>Cumulative Count=%{y}<extra></extra>",
           "legendgroup": "Vehicle Fuel Consumption",
           "marker": {
            "color": "#FFA15A",
            "pattern": {
             "shape": ""
            }
           },
           "name": "Vehicle Fuel Consumption",
           "orientation": "v",
           "showlegend": true,
           "textposition": "auto",
           "type": "bar",
           "x": [
            "Vehicle Fuel Consumption"
           ],
           "xaxis": "x",
           "y": {
            "bdata": "aA==",
            "dtype": "i1"
           },
           "yaxis": "y"
          },
          {
           "hovertemplate": "Process Type=%{x}<br>month_period_str=2018-10<br>Cumulative Count=%{y}<extra></extra>",
           "legendgroup": "Electric Power Consumption",
           "marker": {
            "color": "#19d3f3",
            "pattern": {
             "shape": ""
            }
           },
           "name": "Electric Power Consumption",
           "orientation": "v",
           "showlegend": true,
           "textposition": "auto",
           "type": "bar",
           "x": [
            "Electric Power Consumption"
           ],
           "xaxis": "x",
           "y": {
            "bdata": "GA==",
            "dtype": "i1"
           },
           "yaxis": "y"
          }
         ],
         "name": "2018-10"
        },
        {
         "data": [
          {
           "hovertemplate": "Process Type=%{x}<br>month_period_str=2018-11<br>Cumulative Count=%{y}<extra></extra>",
           "legendgroup": "Commercial Consumption",
           "marker": {
            "color": "#636efa",
            "pattern": {
             "shape": ""
            }
           },
           "name": "Commercial Consumption",
           "orientation": "v",
           "showlegend": true,
           "textposition": "auto",
           "type": "bar",
           "x": [
            "Commercial Consumption"
           ],
           "xaxis": "x",
           "y": {
            "bdata": "bA==",
            "dtype": "i1"
           },
           "yaxis": "y"
          },
          {
           "hovertemplate": "Process Type=%{x}<br>month_period_str=2018-11<br>Cumulative Count=%{y}<extra></extra>",
           "legendgroup": "Delivered to Consumers",
           "marker": {
            "color": "#EF553B",
            "pattern": {
             "shape": ""
            }
           },
           "name": "Delivered to Consumers",
           "orientation": "v",
           "showlegend": true,
           "textposition": "auto",
           "type": "bar",
           "x": [
            "Delivered to Consumers"
           ],
           "xaxis": "x",
           "y": {
            "bdata": "bA==",
            "dtype": "i1"
           },
           "yaxis": "y"
          },
          {
           "hovertemplate": "Process Type=%{x}<br>month_period_str=2018-11<br>Cumulative Count=%{y}<extra></extra>",
           "legendgroup": "Industrial Consumption",
           "marker": {
            "color": "#00cc96",
            "pattern": {
             "shape": ""
            }
           },
           "name": "Industrial Consumption",
           "orientation": "v",
           "showlegend": true,
           "textposition": "auto",
           "type": "bar",
           "x": [
            "Industrial Consumption"
           ],
           "xaxis": "x",
           "y": {
            "bdata": "UQ==",
            "dtype": "i1"
           },
           "yaxis": "y"
          },
          {
           "hovertemplate": "Process Type=%{x}<br>month_period_str=2018-11<br>Cumulative Count=%{y}<extra></extra>",
           "legendgroup": "Residential Consumption",
           "marker": {
            "color": "#ab63fa",
            "pattern": {
             "shape": ""
            }
           },
           "name": "Residential Consumption",
           "orientation": "v",
           "showlegend": true,
           "textposition": "auto",
           "type": "bar",
           "x": [
            "Residential Consumption"
           ],
           "xaxis": "x",
           "y": {
            "bdata": "aQ==",
            "dtype": "i1"
           },
           "yaxis": "y"
          },
          {
           "hovertemplate": "Process Type=%{x}<br>month_period_str=2018-11<br>Cumulative Count=%{y}<extra></extra>",
           "legendgroup": "Vehicle Fuel Consumption",
           "marker": {
            "color": "#FFA15A",
            "pattern": {
             "shape": ""
            }
           },
           "name": "Vehicle Fuel Consumption",
           "orientation": "v",
           "showlegend": true,
           "textposition": "auto",
           "type": "bar",
           "x": [
            "Vehicle Fuel Consumption"
           ],
           "xaxis": "x",
           "y": {
            "bdata": "aQ==",
            "dtype": "i1"
           },
           "yaxis": "y"
          },
          {
           "hovertemplate": "Process Type=%{x}<br>month_period_str=2018-11<br>Cumulative Count=%{y}<extra></extra>",
           "legendgroup": "Electric Power Consumption",
           "marker": {
            "color": "#19d3f3",
            "pattern": {
             "shape": ""
            }
           },
           "name": "Electric Power Consumption",
           "orientation": "v",
           "showlegend": true,
           "textposition": "auto",
           "type": "bar",
           "x": [
            "Electric Power Consumption"
           ],
           "xaxis": "x",
           "y": {
            "bdata": "GA==",
            "dtype": "i1"
           },
           "yaxis": "y"
          }
         ],
         "name": "2018-11"
        },
        {
         "data": [
          {
           "hovertemplate": "Process Type=%{x}<br>month_period_str=2018-12<br>Cumulative Count=%{y}<extra></extra>",
           "legendgroup": "Commercial Consumption",
           "marker": {
            "color": "#636efa",
            "pattern": {
             "shape": ""
            }
           },
           "name": "Commercial Consumption",
           "orientation": "v",
           "showlegend": true,
           "textposition": "auto",
           "type": "bar",
           "x": [
            "Commercial Consumption"
           ],
           "xaxis": "x",
           "y": {
            "bdata": "bQ==",
            "dtype": "i1"
           },
           "yaxis": "y"
          },
          {
           "hovertemplate": "Process Type=%{x}<br>month_period_str=2018-12<br>Cumulative Count=%{y}<extra></extra>",
           "legendgroup": "Delivered to Consumers",
           "marker": {
            "color": "#EF553B",
            "pattern": {
             "shape": ""
            }
           },
           "name": "Delivered to Consumers",
           "orientation": "v",
           "showlegend": true,
           "textposition": "auto",
           "type": "bar",
           "x": [
            "Delivered to Consumers"
           ],
           "xaxis": "x",
           "y": {
            "bdata": "bQ==",
            "dtype": "i1"
           },
           "yaxis": "y"
          },
          {
           "hovertemplate": "Process Type=%{x}<br>month_period_str=2018-12<br>Cumulative Count=%{y}<extra></extra>",
           "legendgroup": "Industrial Consumption",
           "marker": {
            "color": "#00cc96",
            "pattern": {
             "shape": ""
            }
           },
           "name": "Industrial Consumption",
           "orientation": "v",
           "showlegend": true,
           "textposition": "auto",
           "type": "bar",
           "x": [
            "Industrial Consumption"
           ],
           "xaxis": "x",
           "y": {
            "bdata": "UQ==",
            "dtype": "i1"
           },
           "yaxis": "y"
          },
          {
           "hovertemplate": "Process Type=%{x}<br>month_period_str=2018-12<br>Cumulative Count=%{y}<extra></extra>",
           "legendgroup": "Residential Consumption",
           "marker": {
            "color": "#ab63fa",
            "pattern": {
             "shape": ""
            }
           },
           "name": "Residential Consumption",
           "orientation": "v",
           "showlegend": true,
           "textposition": "auto",
           "type": "bar",
           "x": [
            "Residential Consumption"
           ],
           "xaxis": "x",
           "y": {
            "bdata": "ag==",
            "dtype": "i1"
           },
           "yaxis": "y"
          },
          {
           "hovertemplate": "Process Type=%{x}<br>month_period_str=2018-12<br>Cumulative Count=%{y}<extra></extra>",
           "legendgroup": "Vehicle Fuel Consumption",
           "marker": {
            "color": "#FFA15A",
            "pattern": {
             "shape": ""
            }
           },
           "name": "Vehicle Fuel Consumption",
           "orientation": "v",
           "showlegend": true,
           "textposition": "auto",
           "type": "bar",
           "x": [
            "Vehicle Fuel Consumption"
           ],
           "xaxis": "x",
           "y": {
            "bdata": "ag==",
            "dtype": "i1"
           },
           "yaxis": "y"
          },
          {
           "hovertemplate": "Process Type=%{x}<br>month_period_str=2018-12<br>Cumulative Count=%{y}<extra></extra>",
           "legendgroup": "Electric Power Consumption",
           "marker": {
            "color": "#19d3f3",
            "pattern": {
             "shape": ""
            }
           },
           "name": "Electric Power Consumption",
           "orientation": "v",
           "showlegend": true,
           "textposition": "auto",
           "type": "bar",
           "x": [
            "Electric Power Consumption"
           ],
           "xaxis": "x",
           "y": {
            "bdata": "GA==",
            "dtype": "i1"
           },
           "yaxis": "y"
          }
         ],
         "name": "2018-12"
        },
        {
         "data": [
          {
           "hovertemplate": "Process Type=%{x}<br>month_period_str=2019-01<br>Cumulative Count=%{y}<extra></extra>",
           "legendgroup": "Commercial Consumption",
           "marker": {
            "color": "#636efa",
            "pattern": {
             "shape": ""
            }
           },
           "name": "Commercial Consumption",
           "orientation": "v",
           "showlegend": true,
           "textposition": "auto",
           "type": "bar",
           "x": [
            "Commercial Consumption"
           ],
           "xaxis": "x",
           "y": {
            "bdata": "bg==",
            "dtype": "i1"
           },
           "yaxis": "y"
          },
          {
           "hovertemplate": "Process Type=%{x}<br>month_period_str=2019-01<br>Cumulative Count=%{y}<extra></extra>",
           "legendgroup": "Delivered to Consumers",
           "marker": {
            "color": "#EF553B",
            "pattern": {
             "shape": ""
            }
           },
           "name": "Delivered to Consumers",
           "orientation": "v",
           "showlegend": true,
           "textposition": "auto",
           "type": "bar",
           "x": [
            "Delivered to Consumers"
           ],
           "xaxis": "x",
           "y": {
            "bdata": "bg==",
            "dtype": "i1"
           },
           "yaxis": "y"
          },
          {
           "hovertemplate": "Process Type=%{x}<br>month_period_str=2019-01<br>Cumulative Count=%{y}<extra></extra>",
           "legendgroup": "Industrial Consumption",
           "marker": {
            "color": "#00cc96",
            "pattern": {
             "shape": ""
            }
           },
           "name": "Industrial Consumption",
           "orientation": "v",
           "showlegend": true,
           "textposition": "auto",
           "type": "bar",
           "x": [
            "Industrial Consumption"
           ],
           "xaxis": "x",
           "y": {
            "bdata": "UQ==",
            "dtype": "i1"
           },
           "yaxis": "y"
          },
          {
           "hovertemplate": "Process Type=%{x}<br>month_period_str=2019-01<br>Cumulative Count=%{y}<extra></extra>",
           "legendgroup": "Residential Consumption",
           "marker": {
            "color": "#ab63fa",
            "pattern": {
             "shape": ""
            }
           },
           "name": "Residential Consumption",
           "orientation": "v",
           "showlegend": true,
           "textposition": "auto",
           "type": "bar",
           "x": [
            "Residential Consumption"
           ],
           "xaxis": "x",
           "y": {
            "bdata": "aw==",
            "dtype": "i1"
           },
           "yaxis": "y"
          },
          {
           "hovertemplate": "Process Type=%{x}<br>month_period_str=2019-01<br>Cumulative Count=%{y}<extra></extra>",
           "legendgroup": "Vehicle Fuel Consumption",
           "marker": {
            "color": "#FFA15A",
            "pattern": {
             "shape": ""
            }
           },
           "name": "Vehicle Fuel Consumption",
           "orientation": "v",
           "showlegend": true,
           "textposition": "auto",
           "type": "bar",
           "x": [
            "Vehicle Fuel Consumption"
           ],
           "xaxis": "x",
           "y": {
            "bdata": "aw==",
            "dtype": "i1"
           },
           "yaxis": "y"
          },
          {
           "hovertemplate": "Process Type=%{x}<br>month_period_str=2019-01<br>Cumulative Count=%{y}<extra></extra>",
           "legendgroup": "Electric Power Consumption",
           "marker": {
            "color": "#19d3f3",
            "pattern": {
             "shape": ""
            }
           },
           "name": "Electric Power Consumption",
           "orientation": "v",
           "showlegend": true,
           "textposition": "auto",
           "type": "bar",
           "x": [
            "Electric Power Consumption"
           ],
           "xaxis": "x",
           "y": {
            "bdata": "GA==",
            "dtype": "i1"
           },
           "yaxis": "y"
          }
         ],
         "name": "2019-01"
        },
        {
         "data": [
          {
           "hovertemplate": "Process Type=%{x}<br>month_period_str=2019-02<br>Cumulative Count=%{y}<extra></extra>",
           "legendgroup": "Commercial Consumption",
           "marker": {
            "color": "#636efa",
            "pattern": {
             "shape": ""
            }
           },
           "name": "Commercial Consumption",
           "orientation": "v",
           "showlegend": true,
           "textposition": "auto",
           "type": "bar",
           "x": [
            "Commercial Consumption"
           ],
           "xaxis": "x",
           "y": {
            "bdata": "bw==",
            "dtype": "i1"
           },
           "yaxis": "y"
          },
          {
           "hovertemplate": "Process Type=%{x}<br>month_period_str=2019-02<br>Cumulative Count=%{y}<extra></extra>",
           "legendgroup": "Delivered to Consumers",
           "marker": {
            "color": "#EF553B",
            "pattern": {
             "shape": ""
            }
           },
           "name": "Delivered to Consumers",
           "orientation": "v",
           "showlegend": true,
           "textposition": "auto",
           "type": "bar",
           "x": [
            "Delivered to Consumers"
           ],
           "xaxis": "x",
           "y": {
            "bdata": "bw==",
            "dtype": "i1"
           },
           "yaxis": "y"
          },
          {
           "hovertemplate": "Process Type=%{x}<br>month_period_str=2019-02<br>Cumulative Count=%{y}<extra></extra>",
           "legendgroup": "Industrial Consumption",
           "marker": {
            "color": "#00cc96",
            "pattern": {
             "shape": ""
            }
           },
           "name": "Industrial Consumption",
           "orientation": "v",
           "showlegend": true,
           "textposition": "auto",
           "type": "bar",
           "x": [
            "Industrial Consumption"
           ],
           "xaxis": "x",
           "y": {
            "bdata": "UQ==",
            "dtype": "i1"
           },
           "yaxis": "y"
          },
          {
           "hovertemplate": "Process Type=%{x}<br>month_period_str=2019-02<br>Cumulative Count=%{y}<extra></extra>",
           "legendgroup": "Residential Consumption",
           "marker": {
            "color": "#ab63fa",
            "pattern": {
             "shape": ""
            }
           },
           "name": "Residential Consumption",
           "orientation": "v",
           "showlegend": true,
           "textposition": "auto",
           "type": "bar",
           "x": [
            "Residential Consumption"
           ],
           "xaxis": "x",
           "y": {
            "bdata": "bA==",
            "dtype": "i1"
           },
           "yaxis": "y"
          },
          {
           "hovertemplate": "Process Type=%{x}<br>month_period_str=2019-02<br>Cumulative Count=%{y}<extra></extra>",
           "legendgroup": "Vehicle Fuel Consumption",
           "marker": {
            "color": "#FFA15A",
            "pattern": {
             "shape": ""
            }
           },
           "name": "Vehicle Fuel Consumption",
           "orientation": "v",
           "showlegend": true,
           "textposition": "auto",
           "type": "bar",
           "x": [
            "Vehicle Fuel Consumption"
           ],
           "xaxis": "x",
           "y": {
            "bdata": "bA==",
            "dtype": "i1"
           },
           "yaxis": "y"
          },
          {
           "hovertemplate": "Process Type=%{x}<br>month_period_str=2019-02<br>Cumulative Count=%{y}<extra></extra>",
           "legendgroup": "Electric Power Consumption",
           "marker": {
            "color": "#19d3f3",
            "pattern": {
             "shape": ""
            }
           },
           "name": "Electric Power Consumption",
           "orientation": "v",
           "showlegend": true,
           "textposition": "auto",
           "type": "bar",
           "x": [
            "Electric Power Consumption"
           ],
           "xaxis": "x",
           "y": {
            "bdata": "GA==",
            "dtype": "i1"
           },
           "yaxis": "y"
          }
         ],
         "name": "2019-02"
        },
        {
         "data": [
          {
           "hovertemplate": "Process Type=%{x}<br>month_period_str=2019-03<br>Cumulative Count=%{y}<extra></extra>",
           "legendgroup": "Commercial Consumption",
           "marker": {
            "color": "#636efa",
            "pattern": {
             "shape": ""
            }
           },
           "name": "Commercial Consumption",
           "orientation": "v",
           "showlegend": true,
           "textposition": "auto",
           "type": "bar",
           "x": [
            "Commercial Consumption"
           ],
           "xaxis": "x",
           "y": {
            "bdata": "cA==",
            "dtype": "i1"
           },
           "yaxis": "y"
          },
          {
           "hovertemplate": "Process Type=%{x}<br>month_period_str=2019-03<br>Cumulative Count=%{y}<extra></extra>",
           "legendgroup": "Delivered to Consumers",
           "marker": {
            "color": "#EF553B",
            "pattern": {
             "shape": ""
            }
           },
           "name": "Delivered to Consumers",
           "orientation": "v",
           "showlegend": true,
           "textposition": "auto",
           "type": "bar",
           "x": [
            "Delivered to Consumers"
           ],
           "xaxis": "x",
           "y": {
            "bdata": "cA==",
            "dtype": "i1"
           },
           "yaxis": "y"
          },
          {
           "hovertemplate": "Process Type=%{x}<br>month_period_str=2019-03<br>Cumulative Count=%{y}<extra></extra>",
           "legendgroup": "Industrial Consumption",
           "marker": {
            "color": "#00cc96",
            "pattern": {
             "shape": ""
            }
           },
           "name": "Industrial Consumption",
           "orientation": "v",
           "showlegend": true,
           "textposition": "auto",
           "type": "bar",
           "x": [
            "Industrial Consumption"
           ],
           "xaxis": "x",
           "y": {
            "bdata": "UQ==",
            "dtype": "i1"
           },
           "yaxis": "y"
          },
          {
           "hovertemplate": "Process Type=%{x}<br>month_period_str=2019-03<br>Cumulative Count=%{y}<extra></extra>",
           "legendgroup": "Residential Consumption",
           "marker": {
            "color": "#ab63fa",
            "pattern": {
             "shape": ""
            }
           },
           "name": "Residential Consumption",
           "orientation": "v",
           "showlegend": true,
           "textposition": "auto",
           "type": "bar",
           "x": [
            "Residential Consumption"
           ],
           "xaxis": "x",
           "y": {
            "bdata": "bQ==",
            "dtype": "i1"
           },
           "yaxis": "y"
          },
          {
           "hovertemplate": "Process Type=%{x}<br>month_period_str=2019-03<br>Cumulative Count=%{y}<extra></extra>",
           "legendgroup": "Vehicle Fuel Consumption",
           "marker": {
            "color": "#FFA15A",
            "pattern": {
             "shape": ""
            }
           },
           "name": "Vehicle Fuel Consumption",
           "orientation": "v",
           "showlegend": true,
           "textposition": "auto",
           "type": "bar",
           "x": [
            "Vehicle Fuel Consumption"
           ],
           "xaxis": "x",
           "y": {
            "bdata": "bQ==",
            "dtype": "i1"
           },
           "yaxis": "y"
          },
          {
           "hovertemplate": "Process Type=%{x}<br>month_period_str=2019-03<br>Cumulative Count=%{y}<extra></extra>",
           "legendgroup": "Electric Power Consumption",
           "marker": {
            "color": "#19d3f3",
            "pattern": {
             "shape": ""
            }
           },
           "name": "Electric Power Consumption",
           "orientation": "v",
           "showlegend": true,
           "textposition": "auto",
           "type": "bar",
           "x": [
            "Electric Power Consumption"
           ],
           "xaxis": "x",
           "y": {
            "bdata": "GA==",
            "dtype": "i1"
           },
           "yaxis": "y"
          }
         ],
         "name": "2019-03"
        },
        {
         "data": [
          {
           "hovertemplate": "Process Type=%{x}<br>month_period_str=2019-04<br>Cumulative Count=%{y}<extra></extra>",
           "legendgroup": "Commercial Consumption",
           "marker": {
            "color": "#636efa",
            "pattern": {
             "shape": ""
            }
           },
           "name": "Commercial Consumption",
           "orientation": "v",
           "showlegend": true,
           "textposition": "auto",
           "type": "bar",
           "x": [
            "Commercial Consumption"
           ],
           "xaxis": "x",
           "y": {
            "bdata": "cQ==",
            "dtype": "i1"
           },
           "yaxis": "y"
          },
          {
           "hovertemplate": "Process Type=%{x}<br>month_period_str=2019-04<br>Cumulative Count=%{y}<extra></extra>",
           "legendgroup": "Delivered to Consumers",
           "marker": {
            "color": "#EF553B",
            "pattern": {
             "shape": ""
            }
           },
           "name": "Delivered to Consumers",
           "orientation": "v",
           "showlegend": true,
           "textposition": "auto",
           "type": "bar",
           "x": [
            "Delivered to Consumers"
           ],
           "xaxis": "x",
           "y": {
            "bdata": "cA==",
            "dtype": "i1"
           },
           "yaxis": "y"
          },
          {
           "hovertemplate": "Process Type=%{x}<br>month_period_str=2019-04<br>Cumulative Count=%{y}<extra></extra>",
           "legendgroup": "Industrial Consumption",
           "marker": {
            "color": "#00cc96",
            "pattern": {
             "shape": ""
            }
           },
           "name": "Industrial Consumption",
           "orientation": "v",
           "showlegend": true,
           "textposition": "auto",
           "type": "bar",
           "x": [
            "Industrial Consumption"
           ],
           "xaxis": "x",
           "y": {
            "bdata": "UQ==",
            "dtype": "i1"
           },
           "yaxis": "y"
          },
          {
           "hovertemplate": "Process Type=%{x}<br>month_period_str=2019-04<br>Cumulative Count=%{y}<extra></extra>",
           "legendgroup": "Residential Consumption",
           "marker": {
            "color": "#ab63fa",
            "pattern": {
             "shape": ""
            }
           },
           "name": "Residential Consumption",
           "orientation": "v",
           "showlegend": true,
           "textposition": "auto",
           "type": "bar",
           "x": [
            "Residential Consumption"
           ],
           "xaxis": "x",
           "y": {
            "bdata": "bQ==",
            "dtype": "i1"
           },
           "yaxis": "y"
          },
          {
           "hovertemplate": "Process Type=%{x}<br>month_period_str=2019-04<br>Cumulative Count=%{y}<extra></extra>",
           "legendgroup": "Vehicle Fuel Consumption",
           "marker": {
            "color": "#FFA15A",
            "pattern": {
             "shape": ""
            }
           },
           "name": "Vehicle Fuel Consumption",
           "orientation": "v",
           "showlegend": true,
           "textposition": "auto",
           "type": "bar",
           "x": [
            "Vehicle Fuel Consumption"
           ],
           "xaxis": "x",
           "y": {
            "bdata": "bQ==",
            "dtype": "i1"
           },
           "yaxis": "y"
          },
          {
           "hovertemplate": "Process Type=%{x}<br>month_period_str=2019-04<br>Cumulative Count=%{y}<extra></extra>",
           "legendgroup": "Electric Power Consumption",
           "marker": {
            "color": "#19d3f3",
            "pattern": {
             "shape": ""
            }
           },
           "name": "Electric Power Consumption",
           "orientation": "v",
           "showlegend": true,
           "textposition": "auto",
           "type": "bar",
           "x": [
            "Electric Power Consumption"
           ],
           "xaxis": "x",
           "y": {
            "bdata": "GA==",
            "dtype": "i1"
           },
           "yaxis": "y"
          }
         ],
         "name": "2019-04"
        },
        {
         "data": [
          {
           "hovertemplate": "Process Type=%{x}<br>month_period_str=2019-05<br>Cumulative Count=%{y}<extra></extra>",
           "legendgroup": "Commercial Consumption",
           "marker": {
            "color": "#636efa",
            "pattern": {
             "shape": ""
            }
           },
           "name": "Commercial Consumption",
           "orientation": "v",
           "showlegend": true,
           "textposition": "auto",
           "type": "bar",
           "x": [
            "Commercial Consumption"
           ],
           "xaxis": "x",
           "y": {
            "bdata": "cg==",
            "dtype": "i1"
           },
           "yaxis": "y"
          },
          {
           "hovertemplate": "Process Type=%{x}<br>month_period_str=2019-05<br>Cumulative Count=%{y}<extra></extra>",
           "legendgroup": "Delivered to Consumers",
           "marker": {
            "color": "#EF553B",
            "pattern": {
             "shape": ""
            }
           },
           "name": "Delivered to Consumers",
           "orientation": "v",
           "showlegend": true,
           "textposition": "auto",
           "type": "bar",
           "x": [
            "Delivered to Consumers"
           ],
           "xaxis": "x",
           "y": {
            "bdata": "cQ==",
            "dtype": "i1"
           },
           "yaxis": "y"
          },
          {
           "hovertemplate": "Process Type=%{x}<br>month_period_str=2019-05<br>Cumulative Count=%{y}<extra></extra>",
           "legendgroup": "Industrial Consumption",
           "marker": {
            "color": "#00cc96",
            "pattern": {
             "shape": ""
            }
           },
           "name": "Industrial Consumption",
           "orientation": "v",
           "showlegend": true,
           "textposition": "auto",
           "type": "bar",
           "x": [
            "Industrial Consumption"
           ],
           "xaxis": "x",
           "y": {
            "bdata": "UQ==",
            "dtype": "i1"
           },
           "yaxis": "y"
          },
          {
           "hovertemplate": "Process Type=%{x}<br>month_period_str=2019-05<br>Cumulative Count=%{y}<extra></extra>",
           "legendgroup": "Residential Consumption",
           "marker": {
            "color": "#ab63fa",
            "pattern": {
             "shape": ""
            }
           },
           "name": "Residential Consumption",
           "orientation": "v",
           "showlegend": true,
           "textposition": "auto",
           "type": "bar",
           "x": [
            "Residential Consumption"
           ],
           "xaxis": "x",
           "y": {
            "bdata": "bg==",
            "dtype": "i1"
           },
           "yaxis": "y"
          },
          {
           "hovertemplate": "Process Type=%{x}<br>month_period_str=2019-05<br>Cumulative Count=%{y}<extra></extra>",
           "legendgroup": "Vehicle Fuel Consumption",
           "marker": {
            "color": "#FFA15A",
            "pattern": {
             "shape": ""
            }
           },
           "name": "Vehicle Fuel Consumption",
           "orientation": "v",
           "showlegend": true,
           "textposition": "auto",
           "type": "bar",
           "x": [
            "Vehicle Fuel Consumption"
           ],
           "xaxis": "x",
           "y": {
            "bdata": "bg==",
            "dtype": "i1"
           },
           "yaxis": "y"
          },
          {
           "hovertemplate": "Process Type=%{x}<br>month_period_str=2019-05<br>Cumulative Count=%{y}<extra></extra>",
           "legendgroup": "Electric Power Consumption",
           "marker": {
            "color": "#19d3f3",
            "pattern": {
             "shape": ""
            }
           },
           "name": "Electric Power Consumption",
           "orientation": "v",
           "showlegend": true,
           "textposition": "auto",
           "type": "bar",
           "x": [
            "Electric Power Consumption"
           ],
           "xaxis": "x",
           "y": {
            "bdata": "GA==",
            "dtype": "i1"
           },
           "yaxis": "y"
          }
         ],
         "name": "2019-05"
        },
        {
         "data": [
          {
           "hovertemplate": "Process Type=%{x}<br>month_period_str=2019-06<br>Cumulative Count=%{y}<extra></extra>",
           "legendgroup": "Commercial Consumption",
           "marker": {
            "color": "#636efa",
            "pattern": {
             "shape": ""
            }
           },
           "name": "Commercial Consumption",
           "orientation": "v",
           "showlegend": true,
           "textposition": "auto",
           "type": "bar",
           "x": [
            "Commercial Consumption"
           ],
           "xaxis": "x",
           "y": {
            "bdata": "cw==",
            "dtype": "i1"
           },
           "yaxis": "y"
          },
          {
           "hovertemplate": "Process Type=%{x}<br>month_period_str=2019-06<br>Cumulative Count=%{y}<extra></extra>",
           "legendgroup": "Delivered to Consumers",
           "marker": {
            "color": "#EF553B",
            "pattern": {
             "shape": ""
            }
           },
           "name": "Delivered to Consumers",
           "orientation": "v",
           "showlegend": true,
           "textposition": "auto",
           "type": "bar",
           "x": [
            "Delivered to Consumers"
           ],
           "xaxis": "x",
           "y": {
            "bdata": "cg==",
            "dtype": "i1"
           },
           "yaxis": "y"
          },
          {
           "hovertemplate": "Process Type=%{x}<br>month_period_str=2019-06<br>Cumulative Count=%{y}<extra></extra>",
           "legendgroup": "Industrial Consumption",
           "marker": {
            "color": "#00cc96",
            "pattern": {
             "shape": ""
            }
           },
           "name": "Industrial Consumption",
           "orientation": "v",
           "showlegend": true,
           "textposition": "auto",
           "type": "bar",
           "x": [
            "Industrial Consumption"
           ],
           "xaxis": "x",
           "y": {
            "bdata": "UQ==",
            "dtype": "i1"
           },
           "yaxis": "y"
          },
          {
           "hovertemplate": "Process Type=%{x}<br>month_period_str=2019-06<br>Cumulative Count=%{y}<extra></extra>",
           "legendgroup": "Residential Consumption",
           "marker": {
            "color": "#ab63fa",
            "pattern": {
             "shape": ""
            }
           },
           "name": "Residential Consumption",
           "orientation": "v",
           "showlegend": true,
           "textposition": "auto",
           "type": "bar",
           "x": [
            "Residential Consumption"
           ],
           "xaxis": "x",
           "y": {
            "bdata": "bw==",
            "dtype": "i1"
           },
           "yaxis": "y"
          },
          {
           "hovertemplate": "Process Type=%{x}<br>month_period_str=2019-06<br>Cumulative Count=%{y}<extra></extra>",
           "legendgroup": "Vehicle Fuel Consumption",
           "marker": {
            "color": "#FFA15A",
            "pattern": {
             "shape": ""
            }
           },
           "name": "Vehicle Fuel Consumption",
           "orientation": "v",
           "showlegend": true,
           "textposition": "auto",
           "type": "bar",
           "x": [
            "Vehicle Fuel Consumption"
           ],
           "xaxis": "x",
           "y": {
            "bdata": "bw==",
            "dtype": "i1"
           },
           "yaxis": "y"
          },
          {
           "hovertemplate": "Process Type=%{x}<br>month_period_str=2019-06<br>Cumulative Count=%{y}<extra></extra>",
           "legendgroup": "Electric Power Consumption",
           "marker": {
            "color": "#19d3f3",
            "pattern": {
             "shape": ""
            }
           },
           "name": "Electric Power Consumption",
           "orientation": "v",
           "showlegend": true,
           "textposition": "auto",
           "type": "bar",
           "x": [
            "Electric Power Consumption"
           ],
           "xaxis": "x",
           "y": {
            "bdata": "GA==",
            "dtype": "i1"
           },
           "yaxis": "y"
          }
         ],
         "name": "2019-06"
        },
        {
         "data": [
          {
           "hovertemplate": "Process Type=%{x}<br>month_period_str=2019-07<br>Cumulative Count=%{y}<extra></extra>",
           "legendgroup": "Commercial Consumption",
           "marker": {
            "color": "#636efa",
            "pattern": {
             "shape": ""
            }
           },
           "name": "Commercial Consumption",
           "orientation": "v",
           "showlegend": true,
           "textposition": "auto",
           "type": "bar",
           "x": [
            "Commercial Consumption"
           ],
           "xaxis": "x",
           "y": {
            "bdata": "dA==",
            "dtype": "i1"
           },
           "yaxis": "y"
          },
          {
           "hovertemplate": "Process Type=%{x}<br>month_period_str=2019-07<br>Cumulative Count=%{y}<extra></extra>",
           "legendgroup": "Delivered to Consumers",
           "marker": {
            "color": "#EF553B",
            "pattern": {
             "shape": ""
            }
           },
           "name": "Delivered to Consumers",
           "orientation": "v",
           "showlegend": true,
           "textposition": "auto",
           "type": "bar",
           "x": [
            "Delivered to Consumers"
           ],
           "xaxis": "x",
           "y": {
            "bdata": "cw==",
            "dtype": "i1"
           },
           "yaxis": "y"
          },
          {
           "hovertemplate": "Process Type=%{x}<br>month_period_str=2019-07<br>Cumulative Count=%{y}<extra></extra>",
           "legendgroup": "Industrial Consumption",
           "marker": {
            "color": "#00cc96",
            "pattern": {
             "shape": ""
            }
           },
           "name": "Industrial Consumption",
           "orientation": "v",
           "showlegend": true,
           "textposition": "auto",
           "type": "bar",
           "x": [
            "Industrial Consumption"
           ],
           "xaxis": "x",
           "y": {
            "bdata": "UQ==",
            "dtype": "i1"
           },
           "yaxis": "y"
          },
          {
           "hovertemplate": "Process Type=%{x}<br>month_period_str=2019-07<br>Cumulative Count=%{y}<extra></extra>",
           "legendgroup": "Residential Consumption",
           "marker": {
            "color": "#ab63fa",
            "pattern": {
             "shape": ""
            }
           },
           "name": "Residential Consumption",
           "orientation": "v",
           "showlegend": true,
           "textposition": "auto",
           "type": "bar",
           "x": [
            "Residential Consumption"
           ],
           "xaxis": "x",
           "y": {
            "bdata": "cA==",
            "dtype": "i1"
           },
           "yaxis": "y"
          },
          {
           "hovertemplate": "Process Type=%{x}<br>month_period_str=2019-07<br>Cumulative Count=%{y}<extra></extra>",
           "legendgroup": "Vehicle Fuel Consumption",
           "marker": {
            "color": "#FFA15A",
            "pattern": {
             "shape": ""
            }
           },
           "name": "Vehicle Fuel Consumption",
           "orientation": "v",
           "showlegend": true,
           "textposition": "auto",
           "type": "bar",
           "x": [
            "Vehicle Fuel Consumption"
           ],
           "xaxis": "x",
           "y": {
            "bdata": "cA==",
            "dtype": "i1"
           },
           "yaxis": "y"
          },
          {
           "hovertemplate": "Process Type=%{x}<br>month_period_str=2019-07<br>Cumulative Count=%{y}<extra></extra>",
           "legendgroup": "Electric Power Consumption",
           "marker": {
            "color": "#19d3f3",
            "pattern": {
             "shape": ""
            }
           },
           "name": "Electric Power Consumption",
           "orientation": "v",
           "showlegend": true,
           "textposition": "auto",
           "type": "bar",
           "x": [
            "Electric Power Consumption"
           ],
           "xaxis": "x",
           "y": {
            "bdata": "GA==",
            "dtype": "i1"
           },
           "yaxis": "y"
          }
         ],
         "name": "2019-07"
        },
        {
         "data": [
          {
           "hovertemplate": "Process Type=%{x}<br>month_period_str=2019-08<br>Cumulative Count=%{y}<extra></extra>",
           "legendgroup": "Commercial Consumption",
           "marker": {
            "color": "#636efa",
            "pattern": {
             "shape": ""
            }
           },
           "name": "Commercial Consumption",
           "orientation": "v",
           "showlegend": true,
           "textposition": "auto",
           "type": "bar",
           "x": [
            "Commercial Consumption"
           ],
           "xaxis": "x",
           "y": {
            "bdata": "dQ==",
            "dtype": "i1"
           },
           "yaxis": "y"
          },
          {
           "hovertemplate": "Process Type=%{x}<br>month_period_str=2019-08<br>Cumulative Count=%{y}<extra></extra>",
           "legendgroup": "Delivered to Consumers",
           "marker": {
            "color": "#EF553B",
            "pattern": {
             "shape": ""
            }
           },
           "name": "Delivered to Consumers",
           "orientation": "v",
           "showlegend": true,
           "textposition": "auto",
           "type": "bar",
           "x": [
            "Delivered to Consumers"
           ],
           "xaxis": "x",
           "y": {
            "bdata": "dA==",
            "dtype": "i1"
           },
           "yaxis": "y"
          },
          {
           "hovertemplate": "Process Type=%{x}<br>month_period_str=2019-08<br>Cumulative Count=%{y}<extra></extra>",
           "legendgroup": "Industrial Consumption",
           "marker": {
            "color": "#00cc96",
            "pattern": {
             "shape": ""
            }
           },
           "name": "Industrial Consumption",
           "orientation": "v",
           "showlegend": true,
           "textposition": "auto",
           "type": "bar",
           "x": [
            "Industrial Consumption"
           ],
           "xaxis": "x",
           "y": {
            "bdata": "UQ==",
            "dtype": "i1"
           },
           "yaxis": "y"
          },
          {
           "hovertemplate": "Process Type=%{x}<br>month_period_str=2019-08<br>Cumulative Count=%{y}<extra></extra>",
           "legendgroup": "Residential Consumption",
           "marker": {
            "color": "#ab63fa",
            "pattern": {
             "shape": ""
            }
           },
           "name": "Residential Consumption",
           "orientation": "v",
           "showlegend": true,
           "textposition": "auto",
           "type": "bar",
           "x": [
            "Residential Consumption"
           ],
           "xaxis": "x",
           "y": {
            "bdata": "cQ==",
            "dtype": "i1"
           },
           "yaxis": "y"
          },
          {
           "hovertemplate": "Process Type=%{x}<br>month_period_str=2019-08<br>Cumulative Count=%{y}<extra></extra>",
           "legendgroup": "Vehicle Fuel Consumption",
           "marker": {
            "color": "#FFA15A",
            "pattern": {
             "shape": ""
            }
           },
           "name": "Vehicle Fuel Consumption",
           "orientation": "v",
           "showlegend": true,
           "textposition": "auto",
           "type": "bar",
           "x": [
            "Vehicle Fuel Consumption"
           ],
           "xaxis": "x",
           "y": {
            "bdata": "cQ==",
            "dtype": "i1"
           },
           "yaxis": "y"
          },
          {
           "hovertemplate": "Process Type=%{x}<br>month_period_str=2019-08<br>Cumulative Count=%{y}<extra></extra>",
           "legendgroup": "Electric Power Consumption",
           "marker": {
            "color": "#19d3f3",
            "pattern": {
             "shape": ""
            }
           },
           "name": "Electric Power Consumption",
           "orientation": "v",
           "showlegend": true,
           "textposition": "auto",
           "type": "bar",
           "x": [
            "Electric Power Consumption"
           ],
           "xaxis": "x",
           "y": {
            "bdata": "GA==",
            "dtype": "i1"
           },
           "yaxis": "y"
          }
         ],
         "name": "2019-08"
        },
        {
         "data": [
          {
           "hovertemplate": "Process Type=%{x}<br>month_period_str=2019-09<br>Cumulative Count=%{y}<extra></extra>",
           "legendgroup": "Commercial Consumption",
           "marker": {
            "color": "#636efa",
            "pattern": {
             "shape": ""
            }
           },
           "name": "Commercial Consumption",
           "orientation": "v",
           "showlegend": true,
           "textposition": "auto",
           "type": "bar",
           "x": [
            "Commercial Consumption"
           ],
           "xaxis": "x",
           "y": {
            "bdata": "dg==",
            "dtype": "i1"
           },
           "yaxis": "y"
          },
          {
           "hovertemplate": "Process Type=%{x}<br>month_period_str=2019-09<br>Cumulative Count=%{y}<extra></extra>",
           "legendgroup": "Delivered to Consumers",
           "marker": {
            "color": "#EF553B",
            "pattern": {
             "shape": ""
            }
           },
           "name": "Delivered to Consumers",
           "orientation": "v",
           "showlegend": true,
           "textposition": "auto",
           "type": "bar",
           "x": [
            "Delivered to Consumers"
           ],
           "xaxis": "x",
           "y": {
            "bdata": "dQ==",
            "dtype": "i1"
           },
           "yaxis": "y"
          },
          {
           "hovertemplate": "Process Type=%{x}<br>month_period_str=2019-09<br>Cumulative Count=%{y}<extra></extra>",
           "legendgroup": "Industrial Consumption",
           "marker": {
            "color": "#00cc96",
            "pattern": {
             "shape": ""
            }
           },
           "name": "Industrial Consumption",
           "orientation": "v",
           "showlegend": true,
           "textposition": "auto",
           "type": "bar",
           "x": [
            "Industrial Consumption"
           ],
           "xaxis": "x",
           "y": {
            "bdata": "UQ==",
            "dtype": "i1"
           },
           "yaxis": "y"
          },
          {
           "hovertemplate": "Process Type=%{x}<br>month_period_str=2019-09<br>Cumulative Count=%{y}<extra></extra>",
           "legendgroup": "Residential Consumption",
           "marker": {
            "color": "#ab63fa",
            "pattern": {
             "shape": ""
            }
           },
           "name": "Residential Consumption",
           "orientation": "v",
           "showlegend": true,
           "textposition": "auto",
           "type": "bar",
           "x": [
            "Residential Consumption"
           ],
           "xaxis": "x",
           "y": {
            "bdata": "cg==",
            "dtype": "i1"
           },
           "yaxis": "y"
          },
          {
           "hovertemplate": "Process Type=%{x}<br>month_period_str=2019-09<br>Cumulative Count=%{y}<extra></extra>",
           "legendgroup": "Vehicle Fuel Consumption",
           "marker": {
            "color": "#FFA15A",
            "pattern": {
             "shape": ""
            }
           },
           "name": "Vehicle Fuel Consumption",
           "orientation": "v",
           "showlegend": true,
           "textposition": "auto",
           "type": "bar",
           "x": [
            "Vehicle Fuel Consumption"
           ],
           "xaxis": "x",
           "y": {
            "bdata": "cg==",
            "dtype": "i1"
           },
           "yaxis": "y"
          },
          {
           "hovertemplate": "Process Type=%{x}<br>month_period_str=2019-09<br>Cumulative Count=%{y}<extra></extra>",
           "legendgroup": "Electric Power Consumption",
           "marker": {
            "color": "#19d3f3",
            "pattern": {
             "shape": ""
            }
           },
           "name": "Electric Power Consumption",
           "orientation": "v",
           "showlegend": true,
           "textposition": "auto",
           "type": "bar",
           "x": [
            "Electric Power Consumption"
           ],
           "xaxis": "x",
           "y": {
            "bdata": "GA==",
            "dtype": "i1"
           },
           "yaxis": "y"
          }
         ],
         "name": "2019-09"
        },
        {
         "data": [
          {
           "hovertemplate": "Process Type=%{x}<br>month_period_str=2019-10<br>Cumulative Count=%{y}<extra></extra>",
           "legendgroup": "Commercial Consumption",
           "marker": {
            "color": "#636efa",
            "pattern": {
             "shape": ""
            }
           },
           "name": "Commercial Consumption",
           "orientation": "v",
           "showlegend": true,
           "textposition": "auto",
           "type": "bar",
           "x": [
            "Commercial Consumption"
           ],
           "xaxis": "x",
           "y": {
            "bdata": "dw==",
            "dtype": "i1"
           },
           "yaxis": "y"
          },
          {
           "hovertemplate": "Process Type=%{x}<br>month_period_str=2019-10<br>Cumulative Count=%{y}<extra></extra>",
           "legendgroup": "Delivered to Consumers",
           "marker": {
            "color": "#EF553B",
            "pattern": {
             "shape": ""
            }
           },
           "name": "Delivered to Consumers",
           "orientation": "v",
           "showlegend": true,
           "textposition": "auto",
           "type": "bar",
           "x": [
            "Delivered to Consumers"
           ],
           "xaxis": "x",
           "y": {
            "bdata": "dg==",
            "dtype": "i1"
           },
           "yaxis": "y"
          },
          {
           "hovertemplate": "Process Type=%{x}<br>month_period_str=2019-10<br>Cumulative Count=%{y}<extra></extra>",
           "legendgroup": "Industrial Consumption",
           "marker": {
            "color": "#00cc96",
            "pattern": {
             "shape": ""
            }
           },
           "name": "Industrial Consumption",
           "orientation": "v",
           "showlegend": true,
           "textposition": "auto",
           "type": "bar",
           "x": [
            "Industrial Consumption"
           ],
           "xaxis": "x",
           "y": {
            "bdata": "UQ==",
            "dtype": "i1"
           },
           "yaxis": "y"
          },
          {
           "hovertemplate": "Process Type=%{x}<br>month_period_str=2019-10<br>Cumulative Count=%{y}<extra></extra>",
           "legendgroup": "Residential Consumption",
           "marker": {
            "color": "#ab63fa",
            "pattern": {
             "shape": ""
            }
           },
           "name": "Residential Consumption",
           "orientation": "v",
           "showlegend": true,
           "textposition": "auto",
           "type": "bar",
           "x": [
            "Residential Consumption"
           ],
           "xaxis": "x",
           "y": {
            "bdata": "cw==",
            "dtype": "i1"
           },
           "yaxis": "y"
          },
          {
           "hovertemplate": "Process Type=%{x}<br>month_period_str=2019-10<br>Cumulative Count=%{y}<extra></extra>",
           "legendgroup": "Vehicle Fuel Consumption",
           "marker": {
            "color": "#FFA15A",
            "pattern": {
             "shape": ""
            }
           },
           "name": "Vehicle Fuel Consumption",
           "orientation": "v",
           "showlegend": true,
           "textposition": "auto",
           "type": "bar",
           "x": [
            "Vehicle Fuel Consumption"
           ],
           "xaxis": "x",
           "y": {
            "bdata": "cw==",
            "dtype": "i1"
           },
           "yaxis": "y"
          },
          {
           "hovertemplate": "Process Type=%{x}<br>month_period_str=2019-10<br>Cumulative Count=%{y}<extra></extra>",
           "legendgroup": "Electric Power Consumption",
           "marker": {
            "color": "#19d3f3",
            "pattern": {
             "shape": ""
            }
           },
           "name": "Electric Power Consumption",
           "orientation": "v",
           "showlegend": true,
           "textposition": "auto",
           "type": "bar",
           "x": [
            "Electric Power Consumption"
           ],
           "xaxis": "x",
           "y": {
            "bdata": "GA==",
            "dtype": "i1"
           },
           "yaxis": "y"
          }
         ],
         "name": "2019-10"
        },
        {
         "data": [
          {
           "hovertemplate": "Process Type=%{x}<br>month_period_str=2019-11<br>Cumulative Count=%{y}<extra></extra>",
           "legendgroup": "Commercial Consumption",
           "marker": {
            "color": "#636efa",
            "pattern": {
             "shape": ""
            }
           },
           "name": "Commercial Consumption",
           "orientation": "v",
           "showlegend": true,
           "textposition": "auto",
           "type": "bar",
           "x": [
            "Commercial Consumption"
           ],
           "xaxis": "x",
           "y": {
            "bdata": "eA==",
            "dtype": "i1"
           },
           "yaxis": "y"
          },
          {
           "hovertemplate": "Process Type=%{x}<br>month_period_str=2019-11<br>Cumulative Count=%{y}<extra></extra>",
           "legendgroup": "Delivered to Consumers",
           "marker": {
            "color": "#EF553B",
            "pattern": {
             "shape": ""
            }
           },
           "name": "Delivered to Consumers",
           "orientation": "v",
           "showlegend": true,
           "textposition": "auto",
           "type": "bar",
           "x": [
            "Delivered to Consumers"
           ],
           "xaxis": "x",
           "y": {
            "bdata": "dw==",
            "dtype": "i1"
           },
           "yaxis": "y"
          },
          {
           "hovertemplate": "Process Type=%{x}<br>month_period_str=2019-11<br>Cumulative Count=%{y}<extra></extra>",
           "legendgroup": "Industrial Consumption",
           "marker": {
            "color": "#00cc96",
            "pattern": {
             "shape": ""
            }
           },
           "name": "Industrial Consumption",
           "orientation": "v",
           "showlegend": true,
           "textposition": "auto",
           "type": "bar",
           "x": [
            "Industrial Consumption"
           ],
           "xaxis": "x",
           "y": {
            "bdata": "UQ==",
            "dtype": "i1"
           },
           "yaxis": "y"
          },
          {
           "hovertemplate": "Process Type=%{x}<br>month_period_str=2019-11<br>Cumulative Count=%{y}<extra></extra>",
           "legendgroup": "Residential Consumption",
           "marker": {
            "color": "#ab63fa",
            "pattern": {
             "shape": ""
            }
           },
           "name": "Residential Consumption",
           "orientation": "v",
           "showlegend": true,
           "textposition": "auto",
           "type": "bar",
           "x": [
            "Residential Consumption"
           ],
           "xaxis": "x",
           "y": {
            "bdata": "dA==",
            "dtype": "i1"
           },
           "yaxis": "y"
          },
          {
           "hovertemplate": "Process Type=%{x}<br>month_period_str=2019-11<br>Cumulative Count=%{y}<extra></extra>",
           "legendgroup": "Vehicle Fuel Consumption",
           "marker": {
            "color": "#FFA15A",
            "pattern": {
             "shape": ""
            }
           },
           "name": "Vehicle Fuel Consumption",
           "orientation": "v",
           "showlegend": true,
           "textposition": "auto",
           "type": "bar",
           "x": [
            "Vehicle Fuel Consumption"
           ],
           "xaxis": "x",
           "y": {
            "bdata": "dA==",
            "dtype": "i1"
           },
           "yaxis": "y"
          },
          {
           "hovertemplate": "Process Type=%{x}<br>month_period_str=2019-11<br>Cumulative Count=%{y}<extra></extra>",
           "legendgroup": "Electric Power Consumption",
           "marker": {
            "color": "#19d3f3",
            "pattern": {
             "shape": ""
            }
           },
           "name": "Electric Power Consumption",
           "orientation": "v",
           "showlegend": true,
           "textposition": "auto",
           "type": "bar",
           "x": [
            "Electric Power Consumption"
           ],
           "xaxis": "x",
           "y": {
            "bdata": "GA==",
            "dtype": "i1"
           },
           "yaxis": "y"
          }
         ],
         "name": "2019-11"
        },
        {
         "data": [
          {
           "hovertemplate": "Process Type=%{x}<br>month_period_str=2019-12<br>Cumulative Count=%{y}<extra></extra>",
           "legendgroup": "Commercial Consumption",
           "marker": {
            "color": "#636efa",
            "pattern": {
             "shape": ""
            }
           },
           "name": "Commercial Consumption",
           "orientation": "v",
           "showlegend": true,
           "textposition": "auto",
           "type": "bar",
           "x": [
            "Commercial Consumption"
           ],
           "xaxis": "x",
           "y": {
            "bdata": "eQ==",
            "dtype": "i1"
           },
           "yaxis": "y"
          },
          {
           "hovertemplate": "Process Type=%{x}<br>month_period_str=2019-12<br>Cumulative Count=%{y}<extra></extra>",
           "legendgroup": "Delivered to Consumers",
           "marker": {
            "color": "#EF553B",
            "pattern": {
             "shape": ""
            }
           },
           "name": "Delivered to Consumers",
           "orientation": "v",
           "showlegend": true,
           "textposition": "auto",
           "type": "bar",
           "x": [
            "Delivered to Consumers"
           ],
           "xaxis": "x",
           "y": {
            "bdata": "eA==",
            "dtype": "i1"
           },
           "yaxis": "y"
          },
          {
           "hovertemplate": "Process Type=%{x}<br>month_period_str=2019-12<br>Cumulative Count=%{y}<extra></extra>",
           "legendgroup": "Industrial Consumption",
           "marker": {
            "color": "#00cc96",
            "pattern": {
             "shape": ""
            }
           },
           "name": "Industrial Consumption",
           "orientation": "v",
           "showlegend": true,
           "textposition": "auto",
           "type": "bar",
           "x": [
            "Industrial Consumption"
           ],
           "xaxis": "x",
           "y": {
            "bdata": "UQ==",
            "dtype": "i1"
           },
           "yaxis": "y"
          },
          {
           "hovertemplate": "Process Type=%{x}<br>month_period_str=2019-12<br>Cumulative Count=%{y}<extra></extra>",
           "legendgroup": "Residential Consumption",
           "marker": {
            "color": "#ab63fa",
            "pattern": {
             "shape": ""
            }
           },
           "name": "Residential Consumption",
           "orientation": "v",
           "showlegend": true,
           "textposition": "auto",
           "type": "bar",
           "x": [
            "Residential Consumption"
           ],
           "xaxis": "x",
           "y": {
            "bdata": "dQ==",
            "dtype": "i1"
           },
           "yaxis": "y"
          },
          {
           "hovertemplate": "Process Type=%{x}<br>month_period_str=2019-12<br>Cumulative Count=%{y}<extra></extra>",
           "legendgroup": "Vehicle Fuel Consumption",
           "marker": {
            "color": "#FFA15A",
            "pattern": {
             "shape": ""
            }
           },
           "name": "Vehicle Fuel Consumption",
           "orientation": "v",
           "showlegend": true,
           "textposition": "auto",
           "type": "bar",
           "x": [
            "Vehicle Fuel Consumption"
           ],
           "xaxis": "x",
           "y": {
            "bdata": "dQ==",
            "dtype": "i1"
           },
           "yaxis": "y"
          },
          {
           "hovertemplate": "Process Type=%{x}<br>month_period_str=2019-12<br>Cumulative Count=%{y}<extra></extra>",
           "legendgroup": "Electric Power Consumption",
           "marker": {
            "color": "#19d3f3",
            "pattern": {
             "shape": ""
            }
           },
           "name": "Electric Power Consumption",
           "orientation": "v",
           "showlegend": true,
           "textposition": "auto",
           "type": "bar",
           "x": [
            "Electric Power Consumption"
           ],
           "xaxis": "x",
           "y": {
            "bdata": "GA==",
            "dtype": "i1"
           },
           "yaxis": "y"
          }
         ],
         "name": "2019-12"
        },
        {
         "data": [
          {
           "hovertemplate": "Process Type=%{x}<br>month_period_str=2020-01<br>Cumulative Count=%{y}<extra></extra>",
           "legendgroup": "Commercial Consumption",
           "marker": {
            "color": "#636efa",
            "pattern": {
             "shape": ""
            }
           },
           "name": "Commercial Consumption",
           "orientation": "v",
           "showlegend": true,
           "textposition": "auto",
           "type": "bar",
           "x": [
            "Commercial Consumption"
           ],
           "xaxis": "x",
           "y": {
            "bdata": "eg==",
            "dtype": "i1"
           },
           "yaxis": "y"
          },
          {
           "hovertemplate": "Process Type=%{x}<br>month_period_str=2020-01<br>Cumulative Count=%{y}<extra></extra>",
           "legendgroup": "Delivered to Consumers",
           "marker": {
            "color": "#EF553B",
            "pattern": {
             "shape": ""
            }
           },
           "name": "Delivered to Consumers",
           "orientation": "v",
           "showlegend": true,
           "textposition": "auto",
           "type": "bar",
           "x": [
            "Delivered to Consumers"
           ],
           "xaxis": "x",
           "y": {
            "bdata": "eQ==",
            "dtype": "i1"
           },
           "yaxis": "y"
          },
          {
           "hovertemplate": "Process Type=%{x}<br>month_period_str=2020-01<br>Cumulative Count=%{y}<extra></extra>",
           "legendgroup": "Industrial Consumption",
           "marker": {
            "color": "#00cc96",
            "pattern": {
             "shape": ""
            }
           },
           "name": "Industrial Consumption",
           "orientation": "v",
           "showlegend": true,
           "textposition": "auto",
           "type": "bar",
           "x": [
            "Industrial Consumption"
           ],
           "xaxis": "x",
           "y": {
            "bdata": "UQ==",
            "dtype": "i1"
           },
           "yaxis": "y"
          },
          {
           "hovertemplate": "Process Type=%{x}<br>month_period_str=2020-01<br>Cumulative Count=%{y}<extra></extra>",
           "legendgroup": "Residential Consumption",
           "marker": {
            "color": "#ab63fa",
            "pattern": {
             "shape": ""
            }
           },
           "name": "Residential Consumption",
           "orientation": "v",
           "showlegend": true,
           "textposition": "auto",
           "type": "bar",
           "x": [
            "Residential Consumption"
           ],
           "xaxis": "x",
           "y": {
            "bdata": "dg==",
            "dtype": "i1"
           },
           "yaxis": "y"
          },
          {
           "hovertemplate": "Process Type=%{x}<br>month_period_str=2020-01<br>Cumulative Count=%{y}<extra></extra>",
           "legendgroup": "Vehicle Fuel Consumption",
           "marker": {
            "color": "#FFA15A",
            "pattern": {
             "shape": ""
            }
           },
           "name": "Vehicle Fuel Consumption",
           "orientation": "v",
           "showlegend": true,
           "textposition": "auto",
           "type": "bar",
           "x": [
            "Vehicle Fuel Consumption"
           ],
           "xaxis": "x",
           "y": {
            "bdata": "dg==",
            "dtype": "i1"
           },
           "yaxis": "y"
          },
          {
           "hovertemplate": "Process Type=%{x}<br>month_period_str=2020-01<br>Cumulative Count=%{y}<extra></extra>",
           "legendgroup": "Electric Power Consumption",
           "marker": {
            "color": "#19d3f3",
            "pattern": {
             "shape": ""
            }
           },
           "name": "Electric Power Consumption",
           "orientation": "v",
           "showlegend": true,
           "textposition": "auto",
           "type": "bar",
           "x": [
            "Electric Power Consumption"
           ],
           "xaxis": "x",
           "y": {
            "bdata": "GA==",
            "dtype": "i1"
           },
           "yaxis": "y"
          }
         ],
         "name": "2020-01"
        },
        {
         "data": [
          {
           "hovertemplate": "Process Type=%{x}<br>month_period_str=2020-02<br>Cumulative Count=%{y}<extra></extra>",
           "legendgroup": "Commercial Consumption",
           "marker": {
            "color": "#636efa",
            "pattern": {
             "shape": ""
            }
           },
           "name": "Commercial Consumption",
           "orientation": "v",
           "showlegend": true,
           "textposition": "auto",
           "type": "bar",
           "x": [
            "Commercial Consumption"
           ],
           "xaxis": "x",
           "y": {
            "bdata": "ew==",
            "dtype": "i1"
           },
           "yaxis": "y"
          },
          {
           "hovertemplate": "Process Type=%{x}<br>month_period_str=2020-02<br>Cumulative Count=%{y}<extra></extra>",
           "legendgroup": "Delivered to Consumers",
           "marker": {
            "color": "#EF553B",
            "pattern": {
             "shape": ""
            }
           },
           "name": "Delivered to Consumers",
           "orientation": "v",
           "showlegend": true,
           "textposition": "auto",
           "type": "bar",
           "x": [
            "Delivered to Consumers"
           ],
           "xaxis": "x",
           "y": {
            "bdata": "eg==",
            "dtype": "i1"
           },
           "yaxis": "y"
          },
          {
           "hovertemplate": "Process Type=%{x}<br>month_period_str=2020-02<br>Cumulative Count=%{y}<extra></extra>",
           "legendgroup": "Industrial Consumption",
           "marker": {
            "color": "#00cc96",
            "pattern": {
             "shape": ""
            }
           },
           "name": "Industrial Consumption",
           "orientation": "v",
           "showlegend": true,
           "textposition": "auto",
           "type": "bar",
           "x": [
            "Industrial Consumption"
           ],
           "xaxis": "x",
           "y": {
            "bdata": "UQ==",
            "dtype": "i1"
           },
           "yaxis": "y"
          },
          {
           "hovertemplate": "Process Type=%{x}<br>month_period_str=2020-02<br>Cumulative Count=%{y}<extra></extra>",
           "legendgroup": "Residential Consumption",
           "marker": {
            "color": "#ab63fa",
            "pattern": {
             "shape": ""
            }
           },
           "name": "Residential Consumption",
           "orientation": "v",
           "showlegend": true,
           "textposition": "auto",
           "type": "bar",
           "x": [
            "Residential Consumption"
           ],
           "xaxis": "x",
           "y": {
            "bdata": "dw==",
            "dtype": "i1"
           },
           "yaxis": "y"
          },
          {
           "hovertemplate": "Process Type=%{x}<br>month_period_str=2020-02<br>Cumulative Count=%{y}<extra></extra>",
           "legendgroup": "Vehicle Fuel Consumption",
           "marker": {
            "color": "#FFA15A",
            "pattern": {
             "shape": ""
            }
           },
           "name": "Vehicle Fuel Consumption",
           "orientation": "v",
           "showlegend": true,
           "textposition": "auto",
           "type": "bar",
           "x": [
            "Vehicle Fuel Consumption"
           ],
           "xaxis": "x",
           "y": {
            "bdata": "dw==",
            "dtype": "i1"
           },
           "yaxis": "y"
          },
          {
           "hovertemplate": "Process Type=%{x}<br>month_period_str=2020-02<br>Cumulative Count=%{y}<extra></extra>",
           "legendgroup": "Electric Power Consumption",
           "marker": {
            "color": "#19d3f3",
            "pattern": {
             "shape": ""
            }
           },
           "name": "Electric Power Consumption",
           "orientation": "v",
           "showlegend": true,
           "textposition": "auto",
           "type": "bar",
           "x": [
            "Electric Power Consumption"
           ],
           "xaxis": "x",
           "y": {
            "bdata": "GA==",
            "dtype": "i1"
           },
           "yaxis": "y"
          }
         ],
         "name": "2020-02"
        },
        {
         "data": [
          {
           "hovertemplate": "Process Type=%{x}<br>month_period_str=2020-03<br>Cumulative Count=%{y}<extra></extra>",
           "legendgroup": "Commercial Consumption",
           "marker": {
            "color": "#636efa",
            "pattern": {
             "shape": ""
            }
           },
           "name": "Commercial Consumption",
           "orientation": "v",
           "showlegend": true,
           "textposition": "auto",
           "type": "bar",
           "x": [
            "Commercial Consumption"
           ],
           "xaxis": "x",
           "y": {
            "bdata": "fA==",
            "dtype": "i1"
           },
           "yaxis": "y"
          },
          {
           "hovertemplate": "Process Type=%{x}<br>month_period_str=2020-03<br>Cumulative Count=%{y}<extra></extra>",
           "legendgroup": "Delivered to Consumers",
           "marker": {
            "color": "#EF553B",
            "pattern": {
             "shape": ""
            }
           },
           "name": "Delivered to Consumers",
           "orientation": "v",
           "showlegend": true,
           "textposition": "auto",
           "type": "bar",
           "x": [
            "Delivered to Consumers"
           ],
           "xaxis": "x",
           "y": {
            "bdata": "ew==",
            "dtype": "i1"
           },
           "yaxis": "y"
          },
          {
           "hovertemplate": "Process Type=%{x}<br>month_period_str=2020-03<br>Cumulative Count=%{y}<extra></extra>",
           "legendgroup": "Industrial Consumption",
           "marker": {
            "color": "#00cc96",
            "pattern": {
             "shape": ""
            }
           },
           "name": "Industrial Consumption",
           "orientation": "v",
           "showlegend": true,
           "textposition": "auto",
           "type": "bar",
           "x": [
            "Industrial Consumption"
           ],
           "xaxis": "x",
           "y": {
            "bdata": "UQ==",
            "dtype": "i1"
           },
           "yaxis": "y"
          },
          {
           "hovertemplate": "Process Type=%{x}<br>month_period_str=2020-03<br>Cumulative Count=%{y}<extra></extra>",
           "legendgroup": "Residential Consumption",
           "marker": {
            "color": "#ab63fa",
            "pattern": {
             "shape": ""
            }
           },
           "name": "Residential Consumption",
           "orientation": "v",
           "showlegend": true,
           "textposition": "auto",
           "type": "bar",
           "x": [
            "Residential Consumption"
           ],
           "xaxis": "x",
           "y": {
            "bdata": "eA==",
            "dtype": "i1"
           },
           "yaxis": "y"
          },
          {
           "hovertemplate": "Process Type=%{x}<br>month_period_str=2020-03<br>Cumulative Count=%{y}<extra></extra>",
           "legendgroup": "Vehicle Fuel Consumption",
           "marker": {
            "color": "#FFA15A",
            "pattern": {
             "shape": ""
            }
           },
           "name": "Vehicle Fuel Consumption",
           "orientation": "v",
           "showlegend": true,
           "textposition": "auto",
           "type": "bar",
           "x": [
            "Vehicle Fuel Consumption"
           ],
           "xaxis": "x",
           "y": {
            "bdata": "eA==",
            "dtype": "i1"
           },
           "yaxis": "y"
          },
          {
           "hovertemplate": "Process Type=%{x}<br>month_period_str=2020-03<br>Cumulative Count=%{y}<extra></extra>",
           "legendgroup": "Electric Power Consumption",
           "marker": {
            "color": "#19d3f3",
            "pattern": {
             "shape": ""
            }
           },
           "name": "Electric Power Consumption",
           "orientation": "v",
           "showlegend": true,
           "textposition": "auto",
           "type": "bar",
           "x": [
            "Electric Power Consumption"
           ],
           "xaxis": "x",
           "y": {
            "bdata": "GA==",
            "dtype": "i1"
           },
           "yaxis": "y"
          }
         ],
         "name": "2020-03"
        },
        {
         "data": [
          {
           "hovertemplate": "Process Type=%{x}<br>month_period_str=2020-04<br>Cumulative Count=%{y}<extra></extra>",
           "legendgroup": "Commercial Consumption",
           "marker": {
            "color": "#636efa",
            "pattern": {
             "shape": ""
            }
           },
           "name": "Commercial Consumption",
           "orientation": "v",
           "showlegend": true,
           "textposition": "auto",
           "type": "bar",
           "x": [
            "Commercial Consumption"
           ],
           "xaxis": "x",
           "y": {
            "bdata": "fQ==",
            "dtype": "i1"
           },
           "yaxis": "y"
          },
          {
           "hovertemplate": "Process Type=%{x}<br>month_period_str=2020-04<br>Cumulative Count=%{y}<extra></extra>",
           "legendgroup": "Delivered to Consumers",
           "marker": {
            "color": "#EF553B",
            "pattern": {
             "shape": ""
            }
           },
           "name": "Delivered to Consumers",
           "orientation": "v",
           "showlegend": true,
           "textposition": "auto",
           "type": "bar",
           "x": [
            "Delivered to Consumers"
           ],
           "xaxis": "x",
           "y": {
            "bdata": "fA==",
            "dtype": "i1"
           },
           "yaxis": "y"
          },
          {
           "hovertemplate": "Process Type=%{x}<br>month_period_str=2020-04<br>Cumulative Count=%{y}<extra></extra>",
           "legendgroup": "Industrial Consumption",
           "marker": {
            "color": "#00cc96",
            "pattern": {
             "shape": ""
            }
           },
           "name": "Industrial Consumption",
           "orientation": "v",
           "showlegend": true,
           "textposition": "auto",
           "type": "bar",
           "x": [
            "Industrial Consumption"
           ],
           "xaxis": "x",
           "y": {
            "bdata": "UQ==",
            "dtype": "i1"
           },
           "yaxis": "y"
          },
          {
           "hovertemplate": "Process Type=%{x}<br>month_period_str=2020-04<br>Cumulative Count=%{y}<extra></extra>",
           "legendgroup": "Residential Consumption",
           "marker": {
            "color": "#ab63fa",
            "pattern": {
             "shape": ""
            }
           },
           "name": "Residential Consumption",
           "orientation": "v",
           "showlegend": true,
           "textposition": "auto",
           "type": "bar",
           "x": [
            "Residential Consumption"
           ],
           "xaxis": "x",
           "y": {
            "bdata": "eQ==",
            "dtype": "i1"
           },
           "yaxis": "y"
          },
          {
           "hovertemplate": "Process Type=%{x}<br>month_period_str=2020-04<br>Cumulative Count=%{y}<extra></extra>",
           "legendgroup": "Vehicle Fuel Consumption",
           "marker": {
            "color": "#FFA15A",
            "pattern": {
             "shape": ""
            }
           },
           "name": "Vehicle Fuel Consumption",
           "orientation": "v",
           "showlegend": true,
           "textposition": "auto",
           "type": "bar",
           "x": [
            "Vehicle Fuel Consumption"
           ],
           "xaxis": "x",
           "y": {
            "bdata": "eQ==",
            "dtype": "i1"
           },
           "yaxis": "y"
          },
          {
           "hovertemplate": "Process Type=%{x}<br>month_period_str=2020-04<br>Cumulative Count=%{y}<extra></extra>",
           "legendgroup": "Electric Power Consumption",
           "marker": {
            "color": "#19d3f3",
            "pattern": {
             "shape": ""
            }
           },
           "name": "Electric Power Consumption",
           "orientation": "v",
           "showlegend": true,
           "textposition": "auto",
           "type": "bar",
           "x": [
            "Electric Power Consumption"
           ],
           "xaxis": "x",
           "y": {
            "bdata": "GA==",
            "dtype": "i1"
           },
           "yaxis": "y"
          }
         ],
         "name": "2020-04"
        },
        {
         "data": [
          {
           "hovertemplate": "Process Type=%{x}<br>month_period_str=2020-05<br>Cumulative Count=%{y}<extra></extra>",
           "legendgroup": "Commercial Consumption",
           "marker": {
            "color": "#636efa",
            "pattern": {
             "shape": ""
            }
           },
           "name": "Commercial Consumption",
           "orientation": "v",
           "showlegend": true,
           "textposition": "auto",
           "type": "bar",
           "x": [
            "Commercial Consumption"
           ],
           "xaxis": "x",
           "y": {
            "bdata": "fg==",
            "dtype": "i1"
           },
           "yaxis": "y"
          },
          {
           "hovertemplate": "Process Type=%{x}<br>month_period_str=2020-05<br>Cumulative Count=%{y}<extra></extra>",
           "legendgroup": "Delivered to Consumers",
           "marker": {
            "color": "#EF553B",
            "pattern": {
             "shape": ""
            }
           },
           "name": "Delivered to Consumers",
           "orientation": "v",
           "showlegend": true,
           "textposition": "auto",
           "type": "bar",
           "x": [
            "Delivered to Consumers"
           ],
           "xaxis": "x",
           "y": {
            "bdata": "fQ==",
            "dtype": "i1"
           },
           "yaxis": "y"
          },
          {
           "hovertemplate": "Process Type=%{x}<br>month_period_str=2020-05<br>Cumulative Count=%{y}<extra></extra>",
           "legendgroup": "Industrial Consumption",
           "marker": {
            "color": "#00cc96",
            "pattern": {
             "shape": ""
            }
           },
           "name": "Industrial Consumption",
           "orientation": "v",
           "showlegend": true,
           "textposition": "auto",
           "type": "bar",
           "x": [
            "Industrial Consumption"
           ],
           "xaxis": "x",
           "y": {
            "bdata": "UQ==",
            "dtype": "i1"
           },
           "yaxis": "y"
          },
          {
           "hovertemplate": "Process Type=%{x}<br>month_period_str=2020-05<br>Cumulative Count=%{y}<extra></extra>",
           "legendgroup": "Residential Consumption",
           "marker": {
            "color": "#ab63fa",
            "pattern": {
             "shape": ""
            }
           },
           "name": "Residential Consumption",
           "orientation": "v",
           "showlegend": true,
           "textposition": "auto",
           "type": "bar",
           "x": [
            "Residential Consumption"
           ],
           "xaxis": "x",
           "y": {
            "bdata": "eg==",
            "dtype": "i1"
           },
           "yaxis": "y"
          },
          {
           "hovertemplate": "Process Type=%{x}<br>month_period_str=2020-05<br>Cumulative Count=%{y}<extra></extra>",
           "legendgroup": "Vehicle Fuel Consumption",
           "marker": {
            "color": "#FFA15A",
            "pattern": {
             "shape": ""
            }
           },
           "name": "Vehicle Fuel Consumption",
           "orientation": "v",
           "showlegend": true,
           "textposition": "auto",
           "type": "bar",
           "x": [
            "Vehicle Fuel Consumption"
           ],
           "xaxis": "x",
           "y": {
            "bdata": "eg==",
            "dtype": "i1"
           },
           "yaxis": "y"
          },
          {
           "hovertemplate": "Process Type=%{x}<br>month_period_str=2020-05<br>Cumulative Count=%{y}<extra></extra>",
           "legendgroup": "Electric Power Consumption",
           "marker": {
            "color": "#19d3f3",
            "pattern": {
             "shape": ""
            }
           },
           "name": "Electric Power Consumption",
           "orientation": "v",
           "showlegend": true,
           "textposition": "auto",
           "type": "bar",
           "x": [
            "Electric Power Consumption"
           ],
           "xaxis": "x",
           "y": {
            "bdata": "GA==",
            "dtype": "i1"
           },
           "yaxis": "y"
          }
         ],
         "name": "2020-05"
        },
        {
         "data": [
          {
           "hovertemplate": "Process Type=%{x}<br>month_period_str=2020-06<br>Cumulative Count=%{y}<extra></extra>",
           "legendgroup": "Commercial Consumption",
           "marker": {
            "color": "#636efa",
            "pattern": {
             "shape": ""
            }
           },
           "name": "Commercial Consumption",
           "orientation": "v",
           "showlegend": true,
           "textposition": "auto",
           "type": "bar",
           "x": [
            "Commercial Consumption"
           ],
           "xaxis": "x",
           "y": {
            "bdata": "fw==",
            "dtype": "i1"
           },
           "yaxis": "y"
          },
          {
           "hovertemplate": "Process Type=%{x}<br>month_period_str=2020-06<br>Cumulative Count=%{y}<extra></extra>",
           "legendgroup": "Delivered to Consumers",
           "marker": {
            "color": "#EF553B",
            "pattern": {
             "shape": ""
            }
           },
           "name": "Delivered to Consumers",
           "orientation": "v",
           "showlegend": true,
           "textposition": "auto",
           "type": "bar",
           "x": [
            "Delivered to Consumers"
           ],
           "xaxis": "x",
           "y": {
            "bdata": "fg==",
            "dtype": "i1"
           },
           "yaxis": "y"
          },
          {
           "hovertemplate": "Process Type=%{x}<br>month_period_str=2020-06<br>Cumulative Count=%{y}<extra></extra>",
           "legendgroup": "Industrial Consumption",
           "marker": {
            "color": "#00cc96",
            "pattern": {
             "shape": ""
            }
           },
           "name": "Industrial Consumption",
           "orientation": "v",
           "showlegend": true,
           "textposition": "auto",
           "type": "bar",
           "x": [
            "Industrial Consumption"
           ],
           "xaxis": "x",
           "y": {
            "bdata": "UQ==",
            "dtype": "i1"
           },
           "yaxis": "y"
          },
          {
           "hovertemplate": "Process Type=%{x}<br>month_period_str=2020-06<br>Cumulative Count=%{y}<extra></extra>",
           "legendgroup": "Residential Consumption",
           "marker": {
            "color": "#ab63fa",
            "pattern": {
             "shape": ""
            }
           },
           "name": "Residential Consumption",
           "orientation": "v",
           "showlegend": true,
           "textposition": "auto",
           "type": "bar",
           "x": [
            "Residential Consumption"
           ],
           "xaxis": "x",
           "y": {
            "bdata": "ew==",
            "dtype": "i1"
           },
           "yaxis": "y"
          },
          {
           "hovertemplate": "Process Type=%{x}<br>month_period_str=2020-06<br>Cumulative Count=%{y}<extra></extra>",
           "legendgroup": "Vehicle Fuel Consumption",
           "marker": {
            "color": "#FFA15A",
            "pattern": {
             "shape": ""
            }
           },
           "name": "Vehicle Fuel Consumption",
           "orientation": "v",
           "showlegend": true,
           "textposition": "auto",
           "type": "bar",
           "x": [
            "Vehicle Fuel Consumption"
           ],
           "xaxis": "x",
           "y": {
            "bdata": "ew==",
            "dtype": "i1"
           },
           "yaxis": "y"
          },
          {
           "hovertemplate": "Process Type=%{x}<br>month_period_str=2020-06<br>Cumulative Count=%{y}<extra></extra>",
           "legendgroup": "Electric Power Consumption",
           "marker": {
            "color": "#19d3f3",
            "pattern": {
             "shape": ""
            }
           },
           "name": "Electric Power Consumption",
           "orientation": "v",
           "showlegend": true,
           "textposition": "auto",
           "type": "bar",
           "x": [
            "Electric Power Consumption"
           ],
           "xaxis": "x",
           "y": {
            "bdata": "GA==",
            "dtype": "i1"
           },
           "yaxis": "y"
          }
         ],
         "name": "2020-06"
        },
        {
         "data": [
          {
           "hovertemplate": "Process Type=%{x}<br>month_period_str=2020-07<br>Cumulative Count=%{y}<extra></extra>",
           "legendgroup": "Commercial Consumption",
           "marker": {
            "color": "#636efa",
            "pattern": {
             "shape": ""
            }
           },
           "name": "Commercial Consumption",
           "orientation": "v",
           "showlegend": true,
           "textposition": "auto",
           "type": "bar",
           "x": [
            "Commercial Consumption"
           ],
           "xaxis": "x",
           "y": {
            "bdata": "gAA=",
            "dtype": "i2"
           },
           "yaxis": "y"
          },
          {
           "hovertemplate": "Process Type=%{x}<br>month_period_str=2020-07<br>Cumulative Count=%{y}<extra></extra>",
           "legendgroup": "Delivered to Consumers",
           "marker": {
            "color": "#EF553B",
            "pattern": {
             "shape": ""
            }
           },
           "name": "Delivered to Consumers",
           "orientation": "v",
           "showlegend": true,
           "textposition": "auto",
           "type": "bar",
           "x": [
            "Delivered to Consumers"
           ],
           "xaxis": "x",
           "y": {
            "bdata": "fw==",
            "dtype": "i1"
           },
           "yaxis": "y"
          },
          {
           "hovertemplate": "Process Type=%{x}<br>month_period_str=2020-07<br>Cumulative Count=%{y}<extra></extra>",
           "legendgroup": "Industrial Consumption",
           "marker": {
            "color": "#00cc96",
            "pattern": {
             "shape": ""
            }
           },
           "name": "Industrial Consumption",
           "orientation": "v",
           "showlegend": true,
           "textposition": "auto",
           "type": "bar",
           "x": [
            "Industrial Consumption"
           ],
           "xaxis": "x",
           "y": {
            "bdata": "UQ==",
            "dtype": "i1"
           },
           "yaxis": "y"
          },
          {
           "hovertemplate": "Process Type=%{x}<br>month_period_str=2020-07<br>Cumulative Count=%{y}<extra></extra>",
           "legendgroup": "Residential Consumption",
           "marker": {
            "color": "#ab63fa",
            "pattern": {
             "shape": ""
            }
           },
           "name": "Residential Consumption",
           "orientation": "v",
           "showlegend": true,
           "textposition": "auto",
           "type": "bar",
           "x": [
            "Residential Consumption"
           ],
           "xaxis": "x",
           "y": {
            "bdata": "fA==",
            "dtype": "i1"
           },
           "yaxis": "y"
          },
          {
           "hovertemplate": "Process Type=%{x}<br>month_period_str=2020-07<br>Cumulative Count=%{y}<extra></extra>",
           "legendgroup": "Vehicle Fuel Consumption",
           "marker": {
            "color": "#FFA15A",
            "pattern": {
             "shape": ""
            }
           },
           "name": "Vehicle Fuel Consumption",
           "orientation": "v",
           "showlegend": true,
           "textposition": "auto",
           "type": "bar",
           "x": [
            "Vehicle Fuel Consumption"
           ],
           "xaxis": "x",
           "y": {
            "bdata": "fA==",
            "dtype": "i1"
           },
           "yaxis": "y"
          },
          {
           "hovertemplate": "Process Type=%{x}<br>month_period_str=2020-07<br>Cumulative Count=%{y}<extra></extra>",
           "legendgroup": "Electric Power Consumption",
           "marker": {
            "color": "#19d3f3",
            "pattern": {
             "shape": ""
            }
           },
           "name": "Electric Power Consumption",
           "orientation": "v",
           "showlegend": true,
           "textposition": "auto",
           "type": "bar",
           "x": [
            "Electric Power Consumption"
           ],
           "xaxis": "x",
           "y": {
            "bdata": "GA==",
            "dtype": "i1"
           },
           "yaxis": "y"
          }
         ],
         "name": "2020-07"
        },
        {
         "data": [
          {
           "hovertemplate": "Process Type=%{x}<br>month_period_str=2020-08<br>Cumulative Count=%{y}<extra></extra>",
           "legendgroup": "Commercial Consumption",
           "marker": {
            "color": "#636efa",
            "pattern": {
             "shape": ""
            }
           },
           "name": "Commercial Consumption",
           "orientation": "v",
           "showlegend": true,
           "textposition": "auto",
           "type": "bar",
           "x": [
            "Commercial Consumption"
           ],
           "xaxis": "x",
           "y": {
            "bdata": "gAA=",
            "dtype": "i2"
           },
           "yaxis": "y"
          },
          {
           "hovertemplate": "Process Type=%{x}<br>month_period_str=2020-08<br>Cumulative Count=%{y}<extra></extra>",
           "legendgroup": "Delivered to Consumers",
           "marker": {
            "color": "#EF553B",
            "pattern": {
             "shape": ""
            }
           },
           "name": "Delivered to Consumers",
           "orientation": "v",
           "showlegend": true,
           "textposition": "auto",
           "type": "bar",
           "x": [
            "Delivered to Consumers"
           ],
           "xaxis": "x",
           "y": {
            "bdata": "gAA=",
            "dtype": "i2"
           },
           "yaxis": "y"
          },
          {
           "hovertemplate": "Process Type=%{x}<br>month_period_str=2020-08<br>Cumulative Count=%{y}<extra></extra>",
           "legendgroup": "Industrial Consumption",
           "marker": {
            "color": "#00cc96",
            "pattern": {
             "shape": ""
            }
           },
           "name": "Industrial Consumption",
           "orientation": "v",
           "showlegend": true,
           "textposition": "auto",
           "type": "bar",
           "x": [
            "Industrial Consumption"
           ],
           "xaxis": "x",
           "y": {
            "bdata": "UQ==",
            "dtype": "i1"
           },
           "yaxis": "y"
          },
          {
           "hovertemplate": "Process Type=%{x}<br>month_period_str=2020-08<br>Cumulative Count=%{y}<extra></extra>",
           "legendgroup": "Residential Consumption",
           "marker": {
            "color": "#ab63fa",
            "pattern": {
             "shape": ""
            }
           },
           "name": "Residential Consumption",
           "orientation": "v",
           "showlegend": true,
           "textposition": "auto",
           "type": "bar",
           "x": [
            "Residential Consumption"
           ],
           "xaxis": "x",
           "y": {
            "bdata": "fA==",
            "dtype": "i1"
           },
           "yaxis": "y"
          },
          {
           "hovertemplate": "Process Type=%{x}<br>month_period_str=2020-08<br>Cumulative Count=%{y}<extra></extra>",
           "legendgroup": "Vehicle Fuel Consumption",
           "marker": {
            "color": "#FFA15A",
            "pattern": {
             "shape": ""
            }
           },
           "name": "Vehicle Fuel Consumption",
           "orientation": "v",
           "showlegend": true,
           "textposition": "auto",
           "type": "bar",
           "x": [
            "Vehicle Fuel Consumption"
           ],
           "xaxis": "x",
           "y": {
            "bdata": "fg==",
            "dtype": "i1"
           },
           "yaxis": "y"
          },
          {
           "hovertemplate": "Process Type=%{x}<br>month_period_str=2020-08<br>Cumulative Count=%{y}<extra></extra>",
           "legendgroup": "Electric Power Consumption",
           "marker": {
            "color": "#19d3f3",
            "pattern": {
             "shape": ""
            }
           },
           "name": "Electric Power Consumption",
           "orientation": "v",
           "showlegend": true,
           "textposition": "auto",
           "type": "bar",
           "x": [
            "Electric Power Consumption"
           ],
           "xaxis": "x",
           "y": {
            "bdata": "GA==",
            "dtype": "i1"
           },
           "yaxis": "y"
          }
         ],
         "name": "2020-08"
        },
        {
         "data": [
          {
           "hovertemplate": "Process Type=%{x}<br>month_period_str=2020-09<br>Cumulative Count=%{y}<extra></extra>",
           "legendgroup": "Commercial Consumption",
           "marker": {
            "color": "#636efa",
            "pattern": {
             "shape": ""
            }
           },
           "name": "Commercial Consumption",
           "orientation": "v",
           "showlegend": true,
           "textposition": "auto",
           "type": "bar",
           "x": [
            "Commercial Consumption"
           ],
           "xaxis": "x",
           "y": {
            "bdata": "gQA=",
            "dtype": "i2"
           },
           "yaxis": "y"
          },
          {
           "hovertemplate": "Process Type=%{x}<br>month_period_str=2020-09<br>Cumulative Count=%{y}<extra></extra>",
           "legendgroup": "Delivered to Consumers",
           "marker": {
            "color": "#EF553B",
            "pattern": {
             "shape": ""
            }
           },
           "name": "Delivered to Consumers",
           "orientation": "v",
           "showlegend": true,
           "textposition": "auto",
           "type": "bar",
           "x": [
            "Delivered to Consumers"
           ],
           "xaxis": "x",
           "y": {
            "bdata": "gQA=",
            "dtype": "i2"
           },
           "yaxis": "y"
          },
          {
           "hovertemplate": "Process Type=%{x}<br>month_period_str=2020-09<br>Cumulative Count=%{y}<extra></extra>",
           "legendgroup": "Industrial Consumption",
           "marker": {
            "color": "#00cc96",
            "pattern": {
             "shape": ""
            }
           },
           "name": "Industrial Consumption",
           "orientation": "v",
           "showlegend": true,
           "textposition": "auto",
           "type": "bar",
           "x": [
            "Industrial Consumption"
           ],
           "xaxis": "x",
           "y": {
            "bdata": "UQ==",
            "dtype": "i1"
           },
           "yaxis": "y"
          },
          {
           "hovertemplate": "Process Type=%{x}<br>month_period_str=2020-09<br>Cumulative Count=%{y}<extra></extra>",
           "legendgroup": "Residential Consumption",
           "marker": {
            "color": "#ab63fa",
            "pattern": {
             "shape": ""
            }
           },
           "name": "Residential Consumption",
           "orientation": "v",
           "showlegend": true,
           "textposition": "auto",
           "type": "bar",
           "x": [
            "Residential Consumption"
           ],
           "xaxis": "x",
           "y": {
            "bdata": "fQ==",
            "dtype": "i1"
           },
           "yaxis": "y"
          },
          {
           "hovertemplate": "Process Type=%{x}<br>month_period_str=2020-09<br>Cumulative Count=%{y}<extra></extra>",
           "legendgroup": "Vehicle Fuel Consumption",
           "marker": {
            "color": "#FFA15A",
            "pattern": {
             "shape": ""
            }
           },
           "name": "Vehicle Fuel Consumption",
           "orientation": "v",
           "showlegend": true,
           "textposition": "auto",
           "type": "bar",
           "x": [
            "Vehicle Fuel Consumption"
           ],
           "xaxis": "x",
           "y": {
            "bdata": "fw==",
            "dtype": "i1"
           },
           "yaxis": "y"
          },
          {
           "hovertemplate": "Process Type=%{x}<br>month_period_str=2020-09<br>Cumulative Count=%{y}<extra></extra>",
           "legendgroup": "Electric Power Consumption",
           "marker": {
            "color": "#19d3f3",
            "pattern": {
             "shape": ""
            }
           },
           "name": "Electric Power Consumption",
           "orientation": "v",
           "showlegend": true,
           "textposition": "auto",
           "type": "bar",
           "x": [
            "Electric Power Consumption"
           ],
           "xaxis": "x",
           "y": {
            "bdata": "GA==",
            "dtype": "i1"
           },
           "yaxis": "y"
          }
         ],
         "name": "2020-09"
        },
        {
         "data": [
          {
           "hovertemplate": "Process Type=%{x}<br>month_period_str=2020-10<br>Cumulative Count=%{y}<extra></extra>",
           "legendgroup": "Commercial Consumption",
           "marker": {
            "color": "#636efa",
            "pattern": {
             "shape": ""
            }
           },
           "name": "Commercial Consumption",
           "orientation": "v",
           "showlegend": true,
           "textposition": "auto",
           "type": "bar",
           "x": [
            "Commercial Consumption"
           ],
           "xaxis": "x",
           "y": {
            "bdata": "ggA=",
            "dtype": "i2"
           },
           "yaxis": "y"
          },
          {
           "hovertemplate": "Process Type=%{x}<br>month_period_str=2020-10<br>Cumulative Count=%{y}<extra></extra>",
           "legendgroup": "Delivered to Consumers",
           "marker": {
            "color": "#EF553B",
            "pattern": {
             "shape": ""
            }
           },
           "name": "Delivered to Consumers",
           "orientation": "v",
           "showlegend": true,
           "textposition": "auto",
           "type": "bar",
           "x": [
            "Delivered to Consumers"
           ],
           "xaxis": "x",
           "y": {
            "bdata": "ggA=",
            "dtype": "i2"
           },
           "yaxis": "y"
          },
          {
           "hovertemplate": "Process Type=%{x}<br>month_period_str=2020-10<br>Cumulative Count=%{y}<extra></extra>",
           "legendgroup": "Industrial Consumption",
           "marker": {
            "color": "#00cc96",
            "pattern": {
             "shape": ""
            }
           },
           "name": "Industrial Consumption",
           "orientation": "v",
           "showlegend": true,
           "textposition": "auto",
           "type": "bar",
           "x": [
            "Industrial Consumption"
           ],
           "xaxis": "x",
           "y": {
            "bdata": "UQ==",
            "dtype": "i1"
           },
           "yaxis": "y"
          },
          {
           "hovertemplate": "Process Type=%{x}<br>month_period_str=2020-10<br>Cumulative Count=%{y}<extra></extra>",
           "legendgroup": "Residential Consumption",
           "marker": {
            "color": "#ab63fa",
            "pattern": {
             "shape": ""
            }
           },
           "name": "Residential Consumption",
           "orientation": "v",
           "showlegend": true,
           "textposition": "auto",
           "type": "bar",
           "x": [
            "Residential Consumption"
           ],
           "xaxis": "x",
           "y": {
            "bdata": "fg==",
            "dtype": "i1"
           },
           "yaxis": "y"
          },
          {
           "hovertemplate": "Process Type=%{x}<br>month_period_str=2020-10<br>Cumulative Count=%{y}<extra></extra>",
           "legendgroup": "Vehicle Fuel Consumption",
           "marker": {
            "color": "#FFA15A",
            "pattern": {
             "shape": ""
            }
           },
           "name": "Vehicle Fuel Consumption",
           "orientation": "v",
           "showlegend": true,
           "textposition": "auto",
           "type": "bar",
           "x": [
            "Vehicle Fuel Consumption"
           ],
           "xaxis": "x",
           "y": {
            "bdata": "gAA=",
            "dtype": "i2"
           },
           "yaxis": "y"
          },
          {
           "hovertemplate": "Process Type=%{x}<br>month_period_str=2020-10<br>Cumulative Count=%{y}<extra></extra>",
           "legendgroup": "Electric Power Consumption",
           "marker": {
            "color": "#19d3f3",
            "pattern": {
             "shape": ""
            }
           },
           "name": "Electric Power Consumption",
           "orientation": "v",
           "showlegend": true,
           "textposition": "auto",
           "type": "bar",
           "x": [
            "Electric Power Consumption"
           ],
           "xaxis": "x",
           "y": {
            "bdata": "GA==",
            "dtype": "i1"
           },
           "yaxis": "y"
          }
         ],
         "name": "2020-10"
        },
        {
         "data": [
          {
           "hovertemplate": "Process Type=%{x}<br>month_period_str=2020-11<br>Cumulative Count=%{y}<extra></extra>",
           "legendgroup": "Commercial Consumption",
           "marker": {
            "color": "#636efa",
            "pattern": {
             "shape": ""
            }
           },
           "name": "Commercial Consumption",
           "orientation": "v",
           "showlegend": true,
           "textposition": "auto",
           "type": "bar",
           "x": [
            "Commercial Consumption"
           ],
           "xaxis": "x",
           "y": {
            "bdata": "gwA=",
            "dtype": "i2"
           },
           "yaxis": "y"
          },
          {
           "hovertemplate": "Process Type=%{x}<br>month_period_str=2020-11<br>Cumulative Count=%{y}<extra></extra>",
           "legendgroup": "Delivered to Consumers",
           "marker": {
            "color": "#EF553B",
            "pattern": {
             "shape": ""
            }
           },
           "name": "Delivered to Consumers",
           "orientation": "v",
           "showlegend": true,
           "textposition": "auto",
           "type": "bar",
           "x": [
            "Delivered to Consumers"
           ],
           "xaxis": "x",
           "y": {
            "bdata": "gwA=",
            "dtype": "i2"
           },
           "yaxis": "y"
          },
          {
           "hovertemplate": "Process Type=%{x}<br>month_period_str=2020-11<br>Cumulative Count=%{y}<extra></extra>",
           "legendgroup": "Industrial Consumption",
           "marker": {
            "color": "#00cc96",
            "pattern": {
             "shape": ""
            }
           },
           "name": "Industrial Consumption",
           "orientation": "v",
           "showlegend": true,
           "textposition": "auto",
           "type": "bar",
           "x": [
            "Industrial Consumption"
           ],
           "xaxis": "x",
           "y": {
            "bdata": "UQ==",
            "dtype": "i1"
           },
           "yaxis": "y"
          },
          {
           "hovertemplate": "Process Type=%{x}<br>month_period_str=2020-11<br>Cumulative Count=%{y}<extra></extra>",
           "legendgroup": "Residential Consumption",
           "marker": {
            "color": "#ab63fa",
            "pattern": {
             "shape": ""
            }
           },
           "name": "Residential Consumption",
           "orientation": "v",
           "showlegend": true,
           "textposition": "auto",
           "type": "bar",
           "x": [
            "Residential Consumption"
           ],
           "xaxis": "x",
           "y": {
            "bdata": "fw==",
            "dtype": "i1"
           },
           "yaxis": "y"
          },
          {
           "hovertemplate": "Process Type=%{x}<br>month_period_str=2020-11<br>Cumulative Count=%{y}<extra></extra>",
           "legendgroup": "Vehicle Fuel Consumption",
           "marker": {
            "color": "#FFA15A",
            "pattern": {
             "shape": ""
            }
           },
           "name": "Vehicle Fuel Consumption",
           "orientation": "v",
           "showlegend": true,
           "textposition": "auto",
           "type": "bar",
           "x": [
            "Vehicle Fuel Consumption"
           ],
           "xaxis": "x",
           "y": {
            "bdata": "gQA=",
            "dtype": "i2"
           },
           "yaxis": "y"
          },
          {
           "hovertemplate": "Process Type=%{x}<br>month_period_str=2020-11<br>Cumulative Count=%{y}<extra></extra>",
           "legendgroup": "Electric Power Consumption",
           "marker": {
            "color": "#19d3f3",
            "pattern": {
             "shape": ""
            }
           },
           "name": "Electric Power Consumption",
           "orientation": "v",
           "showlegend": true,
           "textposition": "auto",
           "type": "bar",
           "x": [
            "Electric Power Consumption"
           ],
           "xaxis": "x",
           "y": {
            "bdata": "GA==",
            "dtype": "i1"
           },
           "yaxis": "y"
          }
         ],
         "name": "2020-11"
        },
        {
         "data": [
          {
           "hovertemplate": "Process Type=%{x}<br>month_period_str=2020-12<br>Cumulative Count=%{y}<extra></extra>",
           "legendgroup": "Commercial Consumption",
           "marker": {
            "color": "#636efa",
            "pattern": {
             "shape": ""
            }
           },
           "name": "Commercial Consumption",
           "orientation": "v",
           "showlegend": true,
           "textposition": "auto",
           "type": "bar",
           "x": [
            "Commercial Consumption"
           ],
           "xaxis": "x",
           "y": {
            "bdata": "hAA=",
            "dtype": "i2"
           },
           "yaxis": "y"
          },
          {
           "hovertemplate": "Process Type=%{x}<br>month_period_str=2020-12<br>Cumulative Count=%{y}<extra></extra>",
           "legendgroup": "Delivered to Consumers",
           "marker": {
            "color": "#EF553B",
            "pattern": {
             "shape": ""
            }
           },
           "name": "Delivered to Consumers",
           "orientation": "v",
           "showlegend": true,
           "textposition": "auto",
           "type": "bar",
           "x": [
            "Delivered to Consumers"
           ],
           "xaxis": "x",
           "y": {
            "bdata": "hAA=",
            "dtype": "i2"
           },
           "yaxis": "y"
          },
          {
           "hovertemplate": "Process Type=%{x}<br>month_period_str=2020-12<br>Cumulative Count=%{y}<extra></extra>",
           "legendgroup": "Industrial Consumption",
           "marker": {
            "color": "#00cc96",
            "pattern": {
             "shape": ""
            }
           },
           "name": "Industrial Consumption",
           "orientation": "v",
           "showlegend": true,
           "textposition": "auto",
           "type": "bar",
           "x": [
            "Industrial Consumption"
           ],
           "xaxis": "x",
           "y": {
            "bdata": "UQ==",
            "dtype": "i1"
           },
           "yaxis": "y"
          },
          {
           "hovertemplate": "Process Type=%{x}<br>month_period_str=2020-12<br>Cumulative Count=%{y}<extra></extra>",
           "legendgroup": "Residential Consumption",
           "marker": {
            "color": "#ab63fa",
            "pattern": {
             "shape": ""
            }
           },
           "name": "Residential Consumption",
           "orientation": "v",
           "showlegend": true,
           "textposition": "auto",
           "type": "bar",
           "x": [
            "Residential Consumption"
           ],
           "xaxis": "x",
           "y": {
            "bdata": "gAA=",
            "dtype": "i2"
           },
           "yaxis": "y"
          },
          {
           "hovertemplate": "Process Type=%{x}<br>month_period_str=2020-12<br>Cumulative Count=%{y}<extra></extra>",
           "legendgroup": "Vehicle Fuel Consumption",
           "marker": {
            "color": "#FFA15A",
            "pattern": {
             "shape": ""
            }
           },
           "name": "Vehicle Fuel Consumption",
           "orientation": "v",
           "showlegend": true,
           "textposition": "auto",
           "type": "bar",
           "x": [
            "Vehicle Fuel Consumption"
           ],
           "xaxis": "x",
           "y": {
            "bdata": "ggA=",
            "dtype": "i2"
           },
           "yaxis": "y"
          },
          {
           "hovertemplate": "Process Type=%{x}<br>month_period_str=2020-12<br>Cumulative Count=%{y}<extra></extra>",
           "legendgroup": "Electric Power Consumption",
           "marker": {
            "color": "#19d3f3",
            "pattern": {
             "shape": ""
            }
           },
           "name": "Electric Power Consumption",
           "orientation": "v",
           "showlegend": true,
           "textposition": "auto",
           "type": "bar",
           "x": [
            "Electric Power Consumption"
           ],
           "xaxis": "x",
           "y": {
            "bdata": "GA==",
            "dtype": "i1"
           },
           "yaxis": "y"
          }
         ],
         "name": "2020-12"
        },
        {
         "data": [
          {
           "hovertemplate": "Process Type=%{x}<br>month_period_str=2021-01<br>Cumulative Count=%{y}<extra></extra>",
           "legendgroup": "Commercial Consumption",
           "marker": {
            "color": "#636efa",
            "pattern": {
             "shape": ""
            }
           },
           "name": "Commercial Consumption",
           "orientation": "v",
           "showlegend": true,
           "textposition": "auto",
           "type": "bar",
           "x": [
            "Commercial Consumption"
           ],
           "xaxis": "x",
           "y": {
            "bdata": "hQA=",
            "dtype": "i2"
           },
           "yaxis": "y"
          },
          {
           "hovertemplate": "Process Type=%{x}<br>month_period_str=2021-01<br>Cumulative Count=%{y}<extra></extra>",
           "legendgroup": "Delivered to Consumers",
           "marker": {
            "color": "#EF553B",
            "pattern": {
             "shape": ""
            }
           },
           "name": "Delivered to Consumers",
           "orientation": "v",
           "showlegend": true,
           "textposition": "auto",
           "type": "bar",
           "x": [
            "Delivered to Consumers"
           ],
           "xaxis": "x",
           "y": {
            "bdata": "hQA=",
            "dtype": "i2"
           },
           "yaxis": "y"
          },
          {
           "hovertemplate": "Process Type=%{x}<br>month_period_str=2021-01<br>Cumulative Count=%{y}<extra></extra>",
           "legendgroup": "Industrial Consumption",
           "marker": {
            "color": "#00cc96",
            "pattern": {
             "shape": ""
            }
           },
           "name": "Industrial Consumption",
           "orientation": "v",
           "showlegend": true,
           "textposition": "auto",
           "type": "bar",
           "x": [
            "Industrial Consumption"
           ],
           "xaxis": "x",
           "y": {
            "bdata": "UQ==",
            "dtype": "i1"
           },
           "yaxis": "y"
          },
          {
           "hovertemplate": "Process Type=%{x}<br>month_period_str=2021-01<br>Cumulative Count=%{y}<extra></extra>",
           "legendgroup": "Residential Consumption",
           "marker": {
            "color": "#ab63fa",
            "pattern": {
             "shape": ""
            }
           },
           "name": "Residential Consumption",
           "orientation": "v",
           "showlegend": true,
           "textposition": "auto",
           "type": "bar",
           "x": [
            "Residential Consumption"
           ],
           "xaxis": "x",
           "y": {
            "bdata": "gQA=",
            "dtype": "i2"
           },
           "yaxis": "y"
          },
          {
           "hovertemplate": "Process Type=%{x}<br>month_period_str=2021-01<br>Cumulative Count=%{y}<extra></extra>",
           "legendgroup": "Vehicle Fuel Consumption",
           "marker": {
            "color": "#FFA15A",
            "pattern": {
             "shape": ""
            }
           },
           "name": "Vehicle Fuel Consumption",
           "orientation": "v",
           "showlegend": true,
           "textposition": "auto",
           "type": "bar",
           "x": [
            "Vehicle Fuel Consumption"
           ],
           "xaxis": "x",
           "y": {
            "bdata": "gwA=",
            "dtype": "i2"
           },
           "yaxis": "y"
          },
          {
           "hovertemplate": "Process Type=%{x}<br>month_period_str=2021-01<br>Cumulative Count=%{y}<extra></extra>",
           "legendgroup": "Electric Power Consumption",
           "marker": {
            "color": "#19d3f3",
            "pattern": {
             "shape": ""
            }
           },
           "name": "Electric Power Consumption",
           "orientation": "v",
           "showlegend": true,
           "textposition": "auto",
           "type": "bar",
           "x": [
            "Electric Power Consumption"
           ],
           "xaxis": "x",
           "y": {
            "bdata": "GA==",
            "dtype": "i1"
           },
           "yaxis": "y"
          }
         ],
         "name": "2021-01"
        },
        {
         "data": [
          {
           "hovertemplate": "Process Type=%{x}<br>month_period_str=2021-02<br>Cumulative Count=%{y}<extra></extra>",
           "legendgroup": "Commercial Consumption",
           "marker": {
            "color": "#636efa",
            "pattern": {
             "shape": ""
            }
           },
           "name": "Commercial Consumption",
           "orientation": "v",
           "showlegend": true,
           "textposition": "auto",
           "type": "bar",
           "x": [
            "Commercial Consumption"
           ],
           "xaxis": "x",
           "y": {
            "bdata": "hgA=",
            "dtype": "i2"
           },
           "yaxis": "y"
          },
          {
           "hovertemplate": "Process Type=%{x}<br>month_period_str=2021-02<br>Cumulative Count=%{y}<extra></extra>",
           "legendgroup": "Delivered to Consumers",
           "marker": {
            "color": "#EF553B",
            "pattern": {
             "shape": ""
            }
           },
           "name": "Delivered to Consumers",
           "orientation": "v",
           "showlegend": true,
           "textposition": "auto",
           "type": "bar",
           "x": [
            "Delivered to Consumers"
           ],
           "xaxis": "x",
           "y": {
            "bdata": "hgA=",
            "dtype": "i2"
           },
           "yaxis": "y"
          },
          {
           "hovertemplate": "Process Type=%{x}<br>month_period_str=2021-02<br>Cumulative Count=%{y}<extra></extra>",
           "legendgroup": "Industrial Consumption",
           "marker": {
            "color": "#00cc96",
            "pattern": {
             "shape": ""
            }
           },
           "name": "Industrial Consumption",
           "orientation": "v",
           "showlegend": true,
           "textposition": "auto",
           "type": "bar",
           "x": [
            "Industrial Consumption"
           ],
           "xaxis": "x",
           "y": {
            "bdata": "UQ==",
            "dtype": "i1"
           },
           "yaxis": "y"
          },
          {
           "hovertemplate": "Process Type=%{x}<br>month_period_str=2021-02<br>Cumulative Count=%{y}<extra></extra>",
           "legendgroup": "Residential Consumption",
           "marker": {
            "color": "#ab63fa",
            "pattern": {
             "shape": ""
            }
           },
           "name": "Residential Consumption",
           "orientation": "v",
           "showlegend": true,
           "textposition": "auto",
           "type": "bar",
           "x": [
            "Residential Consumption"
           ],
           "xaxis": "x",
           "y": {
            "bdata": "ggA=",
            "dtype": "i2"
           },
           "yaxis": "y"
          },
          {
           "hovertemplate": "Process Type=%{x}<br>month_period_str=2021-02<br>Cumulative Count=%{y}<extra></extra>",
           "legendgroup": "Vehicle Fuel Consumption",
           "marker": {
            "color": "#FFA15A",
            "pattern": {
             "shape": ""
            }
           },
           "name": "Vehicle Fuel Consumption",
           "orientation": "v",
           "showlegend": true,
           "textposition": "auto",
           "type": "bar",
           "x": [
            "Vehicle Fuel Consumption"
           ],
           "xaxis": "x",
           "y": {
            "bdata": "hAA=",
            "dtype": "i2"
           },
           "yaxis": "y"
          },
          {
           "hovertemplate": "Process Type=%{x}<br>month_period_str=2021-02<br>Cumulative Count=%{y}<extra></extra>",
           "legendgroup": "Electric Power Consumption",
           "marker": {
            "color": "#19d3f3",
            "pattern": {
             "shape": ""
            }
           },
           "name": "Electric Power Consumption",
           "orientation": "v",
           "showlegend": true,
           "textposition": "auto",
           "type": "bar",
           "x": [
            "Electric Power Consumption"
           ],
           "xaxis": "x",
           "y": {
            "bdata": "GA==",
            "dtype": "i1"
           },
           "yaxis": "y"
          }
         ],
         "name": "2021-02"
        },
        {
         "data": [
          {
           "hovertemplate": "Process Type=%{x}<br>month_period_str=2021-03<br>Cumulative Count=%{y}<extra></extra>",
           "legendgroup": "Commercial Consumption",
           "marker": {
            "color": "#636efa",
            "pattern": {
             "shape": ""
            }
           },
           "name": "Commercial Consumption",
           "orientation": "v",
           "showlegend": true,
           "textposition": "auto",
           "type": "bar",
           "x": [
            "Commercial Consumption"
           ],
           "xaxis": "x",
           "y": {
            "bdata": "hwA=",
            "dtype": "i2"
           },
           "yaxis": "y"
          },
          {
           "hovertemplate": "Process Type=%{x}<br>month_period_str=2021-03<br>Cumulative Count=%{y}<extra></extra>",
           "legendgroup": "Delivered to Consumers",
           "marker": {
            "color": "#EF553B",
            "pattern": {
             "shape": ""
            }
           },
           "name": "Delivered to Consumers",
           "orientation": "v",
           "showlegend": true,
           "textposition": "auto",
           "type": "bar",
           "x": [
            "Delivered to Consumers"
           ],
           "xaxis": "x",
           "y": {
            "bdata": "hwA=",
            "dtype": "i2"
           },
           "yaxis": "y"
          },
          {
           "hovertemplate": "Process Type=%{x}<br>month_period_str=2021-03<br>Cumulative Count=%{y}<extra></extra>",
           "legendgroup": "Industrial Consumption",
           "marker": {
            "color": "#00cc96",
            "pattern": {
             "shape": ""
            }
           },
           "name": "Industrial Consumption",
           "orientation": "v",
           "showlegend": true,
           "textposition": "auto",
           "type": "bar",
           "x": [
            "Industrial Consumption"
           ],
           "xaxis": "x",
           "y": {
            "bdata": "UQ==",
            "dtype": "i1"
           },
           "yaxis": "y"
          },
          {
           "hovertemplate": "Process Type=%{x}<br>month_period_str=2021-03<br>Cumulative Count=%{y}<extra></extra>",
           "legendgroup": "Residential Consumption",
           "marker": {
            "color": "#ab63fa",
            "pattern": {
             "shape": ""
            }
           },
           "name": "Residential Consumption",
           "orientation": "v",
           "showlegend": true,
           "textposition": "auto",
           "type": "bar",
           "x": [
            "Residential Consumption"
           ],
           "xaxis": "x",
           "y": {
            "bdata": "gwA=",
            "dtype": "i2"
           },
           "yaxis": "y"
          },
          {
           "hovertemplate": "Process Type=%{x}<br>month_period_str=2021-03<br>Cumulative Count=%{y}<extra></extra>",
           "legendgroup": "Vehicle Fuel Consumption",
           "marker": {
            "color": "#FFA15A",
            "pattern": {
             "shape": ""
            }
           },
           "name": "Vehicle Fuel Consumption",
           "orientation": "v",
           "showlegend": true,
           "textposition": "auto",
           "type": "bar",
           "x": [
            "Vehicle Fuel Consumption"
           ],
           "xaxis": "x",
           "y": {
            "bdata": "hQA=",
            "dtype": "i2"
           },
           "yaxis": "y"
          },
          {
           "hovertemplate": "Process Type=%{x}<br>month_period_str=2021-03<br>Cumulative Count=%{y}<extra></extra>",
           "legendgroup": "Electric Power Consumption",
           "marker": {
            "color": "#19d3f3",
            "pattern": {
             "shape": ""
            }
           },
           "name": "Electric Power Consumption",
           "orientation": "v",
           "showlegend": true,
           "textposition": "auto",
           "type": "bar",
           "x": [
            "Electric Power Consumption"
           ],
           "xaxis": "x",
           "y": {
            "bdata": "GA==",
            "dtype": "i1"
           },
           "yaxis": "y"
          }
         ],
         "name": "2021-03"
        },
        {
         "data": [
          {
           "hovertemplate": "Process Type=%{x}<br>month_period_str=2021-04<br>Cumulative Count=%{y}<extra></extra>",
           "legendgroup": "Commercial Consumption",
           "marker": {
            "color": "#636efa",
            "pattern": {
             "shape": ""
            }
           },
           "name": "Commercial Consumption",
           "orientation": "v",
           "showlegend": true,
           "textposition": "auto",
           "type": "bar",
           "x": [
            "Commercial Consumption"
           ],
           "xaxis": "x",
           "y": {
            "bdata": "iAA=",
            "dtype": "i2"
           },
           "yaxis": "y"
          },
          {
           "hovertemplate": "Process Type=%{x}<br>month_period_str=2021-04<br>Cumulative Count=%{y}<extra></extra>",
           "legendgroup": "Delivered to Consumers",
           "marker": {
            "color": "#EF553B",
            "pattern": {
             "shape": ""
            }
           },
           "name": "Delivered to Consumers",
           "orientation": "v",
           "showlegend": true,
           "textposition": "auto",
           "type": "bar",
           "x": [
            "Delivered to Consumers"
           ],
           "xaxis": "x",
           "y": {
            "bdata": "iAA=",
            "dtype": "i2"
           },
           "yaxis": "y"
          },
          {
           "hovertemplate": "Process Type=%{x}<br>month_period_str=2021-04<br>Cumulative Count=%{y}<extra></extra>",
           "legendgroup": "Industrial Consumption",
           "marker": {
            "color": "#00cc96",
            "pattern": {
             "shape": ""
            }
           },
           "name": "Industrial Consumption",
           "orientation": "v",
           "showlegend": true,
           "textposition": "auto",
           "type": "bar",
           "x": [
            "Industrial Consumption"
           ],
           "xaxis": "x",
           "y": {
            "bdata": "UQ==",
            "dtype": "i1"
           },
           "yaxis": "y"
          },
          {
           "hovertemplate": "Process Type=%{x}<br>month_period_str=2021-04<br>Cumulative Count=%{y}<extra></extra>",
           "legendgroup": "Residential Consumption",
           "marker": {
            "color": "#ab63fa",
            "pattern": {
             "shape": ""
            }
           },
           "name": "Residential Consumption",
           "orientation": "v",
           "showlegend": true,
           "textposition": "auto",
           "type": "bar",
           "x": [
            "Residential Consumption"
           ],
           "xaxis": "x",
           "y": {
            "bdata": "hAA=",
            "dtype": "i2"
           },
           "yaxis": "y"
          },
          {
           "hovertemplate": "Process Type=%{x}<br>month_period_str=2021-04<br>Cumulative Count=%{y}<extra></extra>",
           "legendgroup": "Vehicle Fuel Consumption",
           "marker": {
            "color": "#FFA15A",
            "pattern": {
             "shape": ""
            }
           },
           "name": "Vehicle Fuel Consumption",
           "orientation": "v",
           "showlegend": true,
           "textposition": "auto",
           "type": "bar",
           "x": [
            "Vehicle Fuel Consumption"
           ],
           "xaxis": "x",
           "y": {
            "bdata": "hgA=",
            "dtype": "i2"
           },
           "yaxis": "y"
          },
          {
           "hovertemplate": "Process Type=%{x}<br>month_period_str=2021-04<br>Cumulative Count=%{y}<extra></extra>",
           "legendgroup": "Electric Power Consumption",
           "marker": {
            "color": "#19d3f3",
            "pattern": {
             "shape": ""
            }
           },
           "name": "Electric Power Consumption",
           "orientation": "v",
           "showlegend": true,
           "textposition": "auto",
           "type": "bar",
           "x": [
            "Electric Power Consumption"
           ],
           "xaxis": "x",
           "y": {
            "bdata": "GA==",
            "dtype": "i1"
           },
           "yaxis": "y"
          }
         ],
         "name": "2021-04"
        },
        {
         "data": [
          {
           "hovertemplate": "Process Type=%{x}<br>month_period_str=2021-05<br>Cumulative Count=%{y}<extra></extra>",
           "legendgroup": "Commercial Consumption",
           "marker": {
            "color": "#636efa",
            "pattern": {
             "shape": ""
            }
           },
           "name": "Commercial Consumption",
           "orientation": "v",
           "showlegend": true,
           "textposition": "auto",
           "type": "bar",
           "x": [
            "Commercial Consumption"
           ],
           "xaxis": "x",
           "y": {
            "bdata": "iQA=",
            "dtype": "i2"
           },
           "yaxis": "y"
          },
          {
           "hovertemplate": "Process Type=%{x}<br>month_period_str=2021-05<br>Cumulative Count=%{y}<extra></extra>",
           "legendgroup": "Delivered to Consumers",
           "marker": {
            "color": "#EF553B",
            "pattern": {
             "shape": ""
            }
           },
           "name": "Delivered to Consumers",
           "orientation": "v",
           "showlegend": true,
           "textposition": "auto",
           "type": "bar",
           "x": [
            "Delivered to Consumers"
           ],
           "xaxis": "x",
           "y": {
            "bdata": "iQA=",
            "dtype": "i2"
           },
           "yaxis": "y"
          },
          {
           "hovertemplate": "Process Type=%{x}<br>month_period_str=2021-05<br>Cumulative Count=%{y}<extra></extra>",
           "legendgroup": "Industrial Consumption",
           "marker": {
            "color": "#00cc96",
            "pattern": {
             "shape": ""
            }
           },
           "name": "Industrial Consumption",
           "orientation": "v",
           "showlegend": true,
           "textposition": "auto",
           "type": "bar",
           "x": [
            "Industrial Consumption"
           ],
           "xaxis": "x",
           "y": {
            "bdata": "UQ==",
            "dtype": "i1"
           },
           "yaxis": "y"
          },
          {
           "hovertemplate": "Process Type=%{x}<br>month_period_str=2021-05<br>Cumulative Count=%{y}<extra></extra>",
           "legendgroup": "Residential Consumption",
           "marker": {
            "color": "#ab63fa",
            "pattern": {
             "shape": ""
            }
           },
           "name": "Residential Consumption",
           "orientation": "v",
           "showlegend": true,
           "textposition": "auto",
           "type": "bar",
           "x": [
            "Residential Consumption"
           ],
           "xaxis": "x",
           "y": {
            "bdata": "hQA=",
            "dtype": "i2"
           },
           "yaxis": "y"
          },
          {
           "hovertemplate": "Process Type=%{x}<br>month_period_str=2021-05<br>Cumulative Count=%{y}<extra></extra>",
           "legendgroup": "Vehicle Fuel Consumption",
           "marker": {
            "color": "#FFA15A",
            "pattern": {
             "shape": ""
            }
           },
           "name": "Vehicle Fuel Consumption",
           "orientation": "v",
           "showlegend": true,
           "textposition": "auto",
           "type": "bar",
           "x": [
            "Vehicle Fuel Consumption"
           ],
           "xaxis": "x",
           "y": {
            "bdata": "hwA=",
            "dtype": "i2"
           },
           "yaxis": "y"
          },
          {
           "hovertemplate": "Process Type=%{x}<br>month_period_str=2021-05<br>Cumulative Count=%{y}<extra></extra>",
           "legendgroup": "Electric Power Consumption",
           "marker": {
            "color": "#19d3f3",
            "pattern": {
             "shape": ""
            }
           },
           "name": "Electric Power Consumption",
           "orientation": "v",
           "showlegend": true,
           "textposition": "auto",
           "type": "bar",
           "x": [
            "Electric Power Consumption"
           ],
           "xaxis": "x",
           "y": {
            "bdata": "GA==",
            "dtype": "i1"
           },
           "yaxis": "y"
          }
         ],
         "name": "2021-05"
        },
        {
         "data": [
          {
           "hovertemplate": "Process Type=%{x}<br>month_period_str=2021-06<br>Cumulative Count=%{y}<extra></extra>",
           "legendgroup": "Commercial Consumption",
           "marker": {
            "color": "#636efa",
            "pattern": {
             "shape": ""
            }
           },
           "name": "Commercial Consumption",
           "orientation": "v",
           "showlegend": true,
           "textposition": "auto",
           "type": "bar",
           "x": [
            "Commercial Consumption"
           ],
           "xaxis": "x",
           "y": {
            "bdata": "igA=",
            "dtype": "i2"
           },
           "yaxis": "y"
          },
          {
           "hovertemplate": "Process Type=%{x}<br>month_period_str=2021-06<br>Cumulative Count=%{y}<extra></extra>",
           "legendgroup": "Delivered to Consumers",
           "marker": {
            "color": "#EF553B",
            "pattern": {
             "shape": ""
            }
           },
           "name": "Delivered to Consumers",
           "orientation": "v",
           "showlegend": true,
           "textposition": "auto",
           "type": "bar",
           "x": [
            "Delivered to Consumers"
           ],
           "xaxis": "x",
           "y": {
            "bdata": "igA=",
            "dtype": "i2"
           },
           "yaxis": "y"
          },
          {
           "hovertemplate": "Process Type=%{x}<br>month_period_str=2021-06<br>Cumulative Count=%{y}<extra></extra>",
           "legendgroup": "Industrial Consumption",
           "marker": {
            "color": "#00cc96",
            "pattern": {
             "shape": ""
            }
           },
           "name": "Industrial Consumption",
           "orientation": "v",
           "showlegend": true,
           "textposition": "auto",
           "type": "bar",
           "x": [
            "Industrial Consumption"
           ],
           "xaxis": "x",
           "y": {
            "bdata": "UQ==",
            "dtype": "i1"
           },
           "yaxis": "y"
          },
          {
           "hovertemplate": "Process Type=%{x}<br>month_period_str=2021-06<br>Cumulative Count=%{y}<extra></extra>",
           "legendgroup": "Residential Consumption",
           "marker": {
            "color": "#ab63fa",
            "pattern": {
             "shape": ""
            }
           },
           "name": "Residential Consumption",
           "orientation": "v",
           "showlegend": true,
           "textposition": "auto",
           "type": "bar",
           "x": [
            "Residential Consumption"
           ],
           "xaxis": "x",
           "y": {
            "bdata": "hgA=",
            "dtype": "i2"
           },
           "yaxis": "y"
          },
          {
           "hovertemplate": "Process Type=%{x}<br>month_period_str=2021-06<br>Cumulative Count=%{y}<extra></extra>",
           "legendgroup": "Vehicle Fuel Consumption",
           "marker": {
            "color": "#FFA15A",
            "pattern": {
             "shape": ""
            }
           },
           "name": "Vehicle Fuel Consumption",
           "orientation": "v",
           "showlegend": true,
           "textposition": "auto",
           "type": "bar",
           "x": [
            "Vehicle Fuel Consumption"
           ],
           "xaxis": "x",
           "y": {
            "bdata": "iAA=",
            "dtype": "i2"
           },
           "yaxis": "y"
          },
          {
           "hovertemplate": "Process Type=%{x}<br>month_period_str=2021-06<br>Cumulative Count=%{y}<extra></extra>",
           "legendgroup": "Electric Power Consumption",
           "marker": {
            "color": "#19d3f3",
            "pattern": {
             "shape": ""
            }
           },
           "name": "Electric Power Consumption",
           "orientation": "v",
           "showlegend": true,
           "textposition": "auto",
           "type": "bar",
           "x": [
            "Electric Power Consumption"
           ],
           "xaxis": "x",
           "y": {
            "bdata": "GA==",
            "dtype": "i1"
           },
           "yaxis": "y"
          }
         ],
         "name": "2021-06"
        },
        {
         "data": [
          {
           "hovertemplate": "Process Type=%{x}<br>month_period_str=2021-07<br>Cumulative Count=%{y}<extra></extra>",
           "legendgroup": "Commercial Consumption",
           "marker": {
            "color": "#636efa",
            "pattern": {
             "shape": ""
            }
           },
           "name": "Commercial Consumption",
           "orientation": "v",
           "showlegend": true,
           "textposition": "auto",
           "type": "bar",
           "x": [
            "Commercial Consumption"
           ],
           "xaxis": "x",
           "y": {
            "bdata": "iwA=",
            "dtype": "i2"
           },
           "yaxis": "y"
          },
          {
           "hovertemplate": "Process Type=%{x}<br>month_period_str=2021-07<br>Cumulative Count=%{y}<extra></extra>",
           "legendgroup": "Delivered to Consumers",
           "marker": {
            "color": "#EF553B",
            "pattern": {
             "shape": ""
            }
           },
           "name": "Delivered to Consumers",
           "orientation": "v",
           "showlegend": true,
           "textposition": "auto",
           "type": "bar",
           "x": [
            "Delivered to Consumers"
           ],
           "xaxis": "x",
           "y": {
            "bdata": "iwA=",
            "dtype": "i2"
           },
           "yaxis": "y"
          },
          {
           "hovertemplate": "Process Type=%{x}<br>month_period_str=2021-07<br>Cumulative Count=%{y}<extra></extra>",
           "legendgroup": "Industrial Consumption",
           "marker": {
            "color": "#00cc96",
            "pattern": {
             "shape": ""
            }
           },
           "name": "Industrial Consumption",
           "orientation": "v",
           "showlegend": true,
           "textposition": "auto",
           "type": "bar",
           "x": [
            "Industrial Consumption"
           ],
           "xaxis": "x",
           "y": {
            "bdata": "UQ==",
            "dtype": "i1"
           },
           "yaxis": "y"
          },
          {
           "hovertemplate": "Process Type=%{x}<br>month_period_str=2021-07<br>Cumulative Count=%{y}<extra></extra>",
           "legendgroup": "Residential Consumption",
           "marker": {
            "color": "#ab63fa",
            "pattern": {
             "shape": ""
            }
           },
           "name": "Residential Consumption",
           "orientation": "v",
           "showlegend": true,
           "textposition": "auto",
           "type": "bar",
           "x": [
            "Residential Consumption"
           ],
           "xaxis": "x",
           "y": {
            "bdata": "hwA=",
            "dtype": "i2"
           },
           "yaxis": "y"
          },
          {
           "hovertemplate": "Process Type=%{x}<br>month_period_str=2021-07<br>Cumulative Count=%{y}<extra></extra>",
           "legendgroup": "Vehicle Fuel Consumption",
           "marker": {
            "color": "#FFA15A",
            "pattern": {
             "shape": ""
            }
           },
           "name": "Vehicle Fuel Consumption",
           "orientation": "v",
           "showlegend": true,
           "textposition": "auto",
           "type": "bar",
           "x": [
            "Vehicle Fuel Consumption"
           ],
           "xaxis": "x",
           "y": {
            "bdata": "iQA=",
            "dtype": "i2"
           },
           "yaxis": "y"
          },
          {
           "hovertemplate": "Process Type=%{x}<br>month_period_str=2021-07<br>Cumulative Count=%{y}<extra></extra>",
           "legendgroup": "Electric Power Consumption",
           "marker": {
            "color": "#19d3f3",
            "pattern": {
             "shape": ""
            }
           },
           "name": "Electric Power Consumption",
           "orientation": "v",
           "showlegend": true,
           "textposition": "auto",
           "type": "bar",
           "x": [
            "Electric Power Consumption"
           ],
           "xaxis": "x",
           "y": {
            "bdata": "GA==",
            "dtype": "i1"
           },
           "yaxis": "y"
          }
         ],
         "name": "2021-07"
        },
        {
         "data": [
          {
           "hovertemplate": "Process Type=%{x}<br>month_period_str=2021-08<br>Cumulative Count=%{y}<extra></extra>",
           "legendgroup": "Commercial Consumption",
           "marker": {
            "color": "#636efa",
            "pattern": {
             "shape": ""
            }
           },
           "name": "Commercial Consumption",
           "orientation": "v",
           "showlegend": true,
           "textposition": "auto",
           "type": "bar",
           "x": [
            "Commercial Consumption"
           ],
           "xaxis": "x",
           "y": {
            "bdata": "jAA=",
            "dtype": "i2"
           },
           "yaxis": "y"
          },
          {
           "hovertemplate": "Process Type=%{x}<br>month_period_str=2021-08<br>Cumulative Count=%{y}<extra></extra>",
           "legendgroup": "Delivered to Consumers",
           "marker": {
            "color": "#EF553B",
            "pattern": {
             "shape": ""
            }
           },
           "name": "Delivered to Consumers",
           "orientation": "v",
           "showlegend": true,
           "textposition": "auto",
           "type": "bar",
           "x": [
            "Delivered to Consumers"
           ],
           "xaxis": "x",
           "y": {
            "bdata": "jAA=",
            "dtype": "i2"
           },
           "yaxis": "y"
          },
          {
           "hovertemplate": "Process Type=%{x}<br>month_period_str=2021-08<br>Cumulative Count=%{y}<extra></extra>",
           "legendgroup": "Industrial Consumption",
           "marker": {
            "color": "#00cc96",
            "pattern": {
             "shape": ""
            }
           },
           "name": "Industrial Consumption",
           "orientation": "v",
           "showlegend": true,
           "textposition": "auto",
           "type": "bar",
           "x": [
            "Industrial Consumption"
           ],
           "xaxis": "x",
           "y": {
            "bdata": "UQ==",
            "dtype": "i1"
           },
           "yaxis": "y"
          },
          {
           "hovertemplate": "Process Type=%{x}<br>month_period_str=2021-08<br>Cumulative Count=%{y}<extra></extra>",
           "legendgroup": "Residential Consumption",
           "marker": {
            "color": "#ab63fa",
            "pattern": {
             "shape": ""
            }
           },
           "name": "Residential Consumption",
           "orientation": "v",
           "showlegend": true,
           "textposition": "auto",
           "type": "bar",
           "x": [
            "Residential Consumption"
           ],
           "xaxis": "x",
           "y": {
            "bdata": "iAA=",
            "dtype": "i2"
           },
           "yaxis": "y"
          },
          {
           "hovertemplate": "Process Type=%{x}<br>month_period_str=2021-08<br>Cumulative Count=%{y}<extra></extra>",
           "legendgroup": "Vehicle Fuel Consumption",
           "marker": {
            "color": "#FFA15A",
            "pattern": {
             "shape": ""
            }
           },
           "name": "Vehicle Fuel Consumption",
           "orientation": "v",
           "showlegend": true,
           "textposition": "auto",
           "type": "bar",
           "x": [
            "Vehicle Fuel Consumption"
           ],
           "xaxis": "x",
           "y": {
            "bdata": "igA=",
            "dtype": "i2"
           },
           "yaxis": "y"
          },
          {
           "hovertemplate": "Process Type=%{x}<br>month_period_str=2021-08<br>Cumulative Count=%{y}<extra></extra>",
           "legendgroup": "Electric Power Consumption",
           "marker": {
            "color": "#19d3f3",
            "pattern": {
             "shape": ""
            }
           },
           "name": "Electric Power Consumption",
           "orientation": "v",
           "showlegend": true,
           "textposition": "auto",
           "type": "bar",
           "x": [
            "Electric Power Consumption"
           ],
           "xaxis": "x",
           "y": {
            "bdata": "GA==",
            "dtype": "i1"
           },
           "yaxis": "y"
          }
         ],
         "name": "2021-08"
        },
        {
         "data": [
          {
           "hovertemplate": "Process Type=%{x}<br>month_period_str=2021-09<br>Cumulative Count=%{y}<extra></extra>",
           "legendgroup": "Commercial Consumption",
           "marker": {
            "color": "#636efa",
            "pattern": {
             "shape": ""
            }
           },
           "name": "Commercial Consumption",
           "orientation": "v",
           "showlegend": true,
           "textposition": "auto",
           "type": "bar",
           "x": [
            "Commercial Consumption"
           ],
           "xaxis": "x",
           "y": {
            "bdata": "jQA=",
            "dtype": "i2"
           },
           "yaxis": "y"
          },
          {
           "hovertemplate": "Process Type=%{x}<br>month_period_str=2021-09<br>Cumulative Count=%{y}<extra></extra>",
           "legendgroup": "Delivered to Consumers",
           "marker": {
            "color": "#EF553B",
            "pattern": {
             "shape": ""
            }
           },
           "name": "Delivered to Consumers",
           "orientation": "v",
           "showlegend": true,
           "textposition": "auto",
           "type": "bar",
           "x": [
            "Delivered to Consumers"
           ],
           "xaxis": "x",
           "y": {
            "bdata": "jQA=",
            "dtype": "i2"
           },
           "yaxis": "y"
          },
          {
           "hovertemplate": "Process Type=%{x}<br>month_period_str=2021-09<br>Cumulative Count=%{y}<extra></extra>",
           "legendgroup": "Industrial Consumption",
           "marker": {
            "color": "#00cc96",
            "pattern": {
             "shape": ""
            }
           },
           "name": "Industrial Consumption",
           "orientation": "v",
           "showlegend": true,
           "textposition": "auto",
           "type": "bar",
           "x": [
            "Industrial Consumption"
           ],
           "xaxis": "x",
           "y": {
            "bdata": "UQ==",
            "dtype": "i1"
           },
           "yaxis": "y"
          },
          {
           "hovertemplate": "Process Type=%{x}<br>month_period_str=2021-09<br>Cumulative Count=%{y}<extra></extra>",
           "legendgroup": "Residential Consumption",
           "marker": {
            "color": "#ab63fa",
            "pattern": {
             "shape": ""
            }
           },
           "name": "Residential Consumption",
           "orientation": "v",
           "showlegend": true,
           "textposition": "auto",
           "type": "bar",
           "x": [
            "Residential Consumption"
           ],
           "xaxis": "x",
           "y": {
            "bdata": "iQA=",
            "dtype": "i2"
           },
           "yaxis": "y"
          },
          {
           "hovertemplate": "Process Type=%{x}<br>month_period_str=2021-09<br>Cumulative Count=%{y}<extra></extra>",
           "legendgroup": "Vehicle Fuel Consumption",
           "marker": {
            "color": "#FFA15A",
            "pattern": {
             "shape": ""
            }
           },
           "name": "Vehicle Fuel Consumption",
           "orientation": "v",
           "showlegend": true,
           "textposition": "auto",
           "type": "bar",
           "x": [
            "Vehicle Fuel Consumption"
           ],
           "xaxis": "x",
           "y": {
            "bdata": "iwA=",
            "dtype": "i2"
           },
           "yaxis": "y"
          },
          {
           "hovertemplate": "Process Type=%{x}<br>month_period_str=2021-09<br>Cumulative Count=%{y}<extra></extra>",
           "legendgroup": "Electric Power Consumption",
           "marker": {
            "color": "#19d3f3",
            "pattern": {
             "shape": ""
            }
           },
           "name": "Electric Power Consumption",
           "orientation": "v",
           "showlegend": true,
           "textposition": "auto",
           "type": "bar",
           "x": [
            "Electric Power Consumption"
           ],
           "xaxis": "x",
           "y": {
            "bdata": "GA==",
            "dtype": "i1"
           },
           "yaxis": "y"
          }
         ],
         "name": "2021-09"
        },
        {
         "data": [
          {
           "hovertemplate": "Process Type=%{x}<br>month_period_str=2021-10<br>Cumulative Count=%{y}<extra></extra>",
           "legendgroup": "Commercial Consumption",
           "marker": {
            "color": "#636efa",
            "pattern": {
             "shape": ""
            }
           },
           "name": "Commercial Consumption",
           "orientation": "v",
           "showlegend": true,
           "textposition": "auto",
           "type": "bar",
           "x": [
            "Commercial Consumption"
           ],
           "xaxis": "x",
           "y": {
            "bdata": "jgA=",
            "dtype": "i2"
           },
           "yaxis": "y"
          },
          {
           "hovertemplate": "Process Type=%{x}<br>month_period_str=2021-10<br>Cumulative Count=%{y}<extra></extra>",
           "legendgroup": "Delivered to Consumers",
           "marker": {
            "color": "#EF553B",
            "pattern": {
             "shape": ""
            }
           },
           "name": "Delivered to Consumers",
           "orientation": "v",
           "showlegend": true,
           "textposition": "auto",
           "type": "bar",
           "x": [
            "Delivered to Consumers"
           ],
           "xaxis": "x",
           "y": {
            "bdata": "jgA=",
            "dtype": "i2"
           },
           "yaxis": "y"
          },
          {
           "hovertemplate": "Process Type=%{x}<br>month_period_str=2021-10<br>Cumulative Count=%{y}<extra></extra>",
           "legendgroup": "Industrial Consumption",
           "marker": {
            "color": "#00cc96",
            "pattern": {
             "shape": ""
            }
           },
           "name": "Industrial Consumption",
           "orientation": "v",
           "showlegend": true,
           "textposition": "auto",
           "type": "bar",
           "x": [
            "Industrial Consumption"
           ],
           "xaxis": "x",
           "y": {
            "bdata": "UQ==",
            "dtype": "i1"
           },
           "yaxis": "y"
          },
          {
           "hovertemplate": "Process Type=%{x}<br>month_period_str=2021-10<br>Cumulative Count=%{y}<extra></extra>",
           "legendgroup": "Residential Consumption",
           "marker": {
            "color": "#ab63fa",
            "pattern": {
             "shape": ""
            }
           },
           "name": "Residential Consumption",
           "orientation": "v",
           "showlegend": true,
           "textposition": "auto",
           "type": "bar",
           "x": [
            "Residential Consumption"
           ],
           "xaxis": "x",
           "y": {
            "bdata": "igA=",
            "dtype": "i2"
           },
           "yaxis": "y"
          },
          {
           "hovertemplate": "Process Type=%{x}<br>month_period_str=2021-10<br>Cumulative Count=%{y}<extra></extra>",
           "legendgroup": "Vehicle Fuel Consumption",
           "marker": {
            "color": "#FFA15A",
            "pattern": {
             "shape": ""
            }
           },
           "name": "Vehicle Fuel Consumption",
           "orientation": "v",
           "showlegend": true,
           "textposition": "auto",
           "type": "bar",
           "x": [
            "Vehicle Fuel Consumption"
           ],
           "xaxis": "x",
           "y": {
            "bdata": "jAA=",
            "dtype": "i2"
           },
           "yaxis": "y"
          },
          {
           "hovertemplate": "Process Type=%{x}<br>month_period_str=2021-10<br>Cumulative Count=%{y}<extra></extra>",
           "legendgroup": "Electric Power Consumption",
           "marker": {
            "color": "#19d3f3",
            "pattern": {
             "shape": ""
            }
           },
           "name": "Electric Power Consumption",
           "orientation": "v",
           "showlegend": true,
           "textposition": "auto",
           "type": "bar",
           "x": [
            "Electric Power Consumption"
           ],
           "xaxis": "x",
           "y": {
            "bdata": "GA==",
            "dtype": "i1"
           },
           "yaxis": "y"
          }
         ],
         "name": "2021-10"
        },
        {
         "data": [
          {
           "hovertemplate": "Process Type=%{x}<br>month_period_str=2021-11<br>Cumulative Count=%{y}<extra></extra>",
           "legendgroup": "Commercial Consumption",
           "marker": {
            "color": "#636efa",
            "pattern": {
             "shape": ""
            }
           },
           "name": "Commercial Consumption",
           "orientation": "v",
           "showlegend": true,
           "textposition": "auto",
           "type": "bar",
           "x": [
            "Commercial Consumption"
           ],
           "xaxis": "x",
           "y": {
            "bdata": "jwA=",
            "dtype": "i2"
           },
           "yaxis": "y"
          },
          {
           "hovertemplate": "Process Type=%{x}<br>month_period_str=2021-11<br>Cumulative Count=%{y}<extra></extra>",
           "legendgroup": "Delivered to Consumers",
           "marker": {
            "color": "#EF553B",
            "pattern": {
             "shape": ""
            }
           },
           "name": "Delivered to Consumers",
           "orientation": "v",
           "showlegend": true,
           "textposition": "auto",
           "type": "bar",
           "x": [
            "Delivered to Consumers"
           ],
           "xaxis": "x",
           "y": {
            "bdata": "jwA=",
            "dtype": "i2"
           },
           "yaxis": "y"
          },
          {
           "hovertemplate": "Process Type=%{x}<br>month_period_str=2021-11<br>Cumulative Count=%{y}<extra></extra>",
           "legendgroup": "Industrial Consumption",
           "marker": {
            "color": "#00cc96",
            "pattern": {
             "shape": ""
            }
           },
           "name": "Industrial Consumption",
           "orientation": "v",
           "showlegend": true,
           "textposition": "auto",
           "type": "bar",
           "x": [
            "Industrial Consumption"
           ],
           "xaxis": "x",
           "y": {
            "bdata": "UQ==",
            "dtype": "i1"
           },
           "yaxis": "y"
          },
          {
           "hovertemplate": "Process Type=%{x}<br>month_period_str=2021-11<br>Cumulative Count=%{y}<extra></extra>",
           "legendgroup": "Residential Consumption",
           "marker": {
            "color": "#ab63fa",
            "pattern": {
             "shape": ""
            }
           },
           "name": "Residential Consumption",
           "orientation": "v",
           "showlegend": true,
           "textposition": "auto",
           "type": "bar",
           "x": [
            "Residential Consumption"
           ],
           "xaxis": "x",
           "y": {
            "bdata": "iwA=",
            "dtype": "i2"
           },
           "yaxis": "y"
          },
          {
           "hovertemplate": "Process Type=%{x}<br>month_period_str=2021-11<br>Cumulative Count=%{y}<extra></extra>",
           "legendgroup": "Vehicle Fuel Consumption",
           "marker": {
            "color": "#FFA15A",
            "pattern": {
             "shape": ""
            }
           },
           "name": "Vehicle Fuel Consumption",
           "orientation": "v",
           "showlegend": true,
           "textposition": "auto",
           "type": "bar",
           "x": [
            "Vehicle Fuel Consumption"
           ],
           "xaxis": "x",
           "y": {
            "bdata": "jQA=",
            "dtype": "i2"
           },
           "yaxis": "y"
          },
          {
           "hovertemplate": "Process Type=%{x}<br>month_period_str=2021-11<br>Cumulative Count=%{y}<extra></extra>",
           "legendgroup": "Electric Power Consumption",
           "marker": {
            "color": "#19d3f3",
            "pattern": {
             "shape": ""
            }
           },
           "name": "Electric Power Consumption",
           "orientation": "v",
           "showlegend": true,
           "textposition": "auto",
           "type": "bar",
           "x": [
            "Electric Power Consumption"
           ],
           "xaxis": "x",
           "y": {
            "bdata": "GA==",
            "dtype": "i1"
           },
           "yaxis": "y"
          }
         ],
         "name": "2021-11"
        },
        {
         "data": [
          {
           "hovertemplate": "Process Type=%{x}<br>month_period_str=2021-12<br>Cumulative Count=%{y}<extra></extra>",
           "legendgroup": "Commercial Consumption",
           "marker": {
            "color": "#636efa",
            "pattern": {
             "shape": ""
            }
           },
           "name": "Commercial Consumption",
           "orientation": "v",
           "showlegend": true,
           "textposition": "auto",
           "type": "bar",
           "x": [
            "Commercial Consumption"
           ],
           "xaxis": "x",
           "y": {
            "bdata": "kQA=",
            "dtype": "i2"
           },
           "yaxis": "y"
          },
          {
           "hovertemplate": "Process Type=%{x}<br>month_period_str=2021-12<br>Cumulative Count=%{y}<extra></extra>",
           "legendgroup": "Delivered to Consumers",
           "marker": {
            "color": "#EF553B",
            "pattern": {
             "shape": ""
            }
           },
           "name": "Delivered to Consumers",
           "orientation": "v",
           "showlegend": true,
           "textposition": "auto",
           "type": "bar",
           "x": [
            "Delivered to Consumers"
           ],
           "xaxis": "x",
           "y": {
            "bdata": "kQA=",
            "dtype": "i2"
           },
           "yaxis": "y"
          },
          {
           "hovertemplate": "Process Type=%{x}<br>month_period_str=2021-12<br>Cumulative Count=%{y}<extra></extra>",
           "legendgroup": "Industrial Consumption",
           "marker": {
            "color": "#00cc96",
            "pattern": {
             "shape": ""
            }
           },
           "name": "Industrial Consumption",
           "orientation": "v",
           "showlegend": true,
           "textposition": "auto",
           "type": "bar",
           "x": [
            "Industrial Consumption"
           ],
           "xaxis": "x",
           "y": {
            "bdata": "UQ==",
            "dtype": "i1"
           },
           "yaxis": "y"
          },
          {
           "hovertemplate": "Process Type=%{x}<br>month_period_str=2021-12<br>Cumulative Count=%{y}<extra></extra>",
           "legendgroup": "Residential Consumption",
           "marker": {
            "color": "#ab63fa",
            "pattern": {
             "shape": ""
            }
           },
           "name": "Residential Consumption",
           "orientation": "v",
           "showlegend": true,
           "textposition": "auto",
           "type": "bar",
           "x": [
            "Residential Consumption"
           ],
           "xaxis": "x",
           "y": {
            "bdata": "jAA=",
            "dtype": "i2"
           },
           "yaxis": "y"
          },
          {
           "hovertemplate": "Process Type=%{x}<br>month_period_str=2021-12<br>Cumulative Count=%{y}<extra></extra>",
           "legendgroup": "Vehicle Fuel Consumption",
           "marker": {
            "color": "#FFA15A",
            "pattern": {
             "shape": ""
            }
           },
           "name": "Vehicle Fuel Consumption",
           "orientation": "v",
           "showlegend": true,
           "textposition": "auto",
           "type": "bar",
           "x": [
            "Vehicle Fuel Consumption"
           ],
           "xaxis": "x",
           "y": {
            "bdata": "jgA=",
            "dtype": "i2"
           },
           "yaxis": "y"
          },
          {
           "hovertemplate": "Process Type=%{x}<br>month_period_str=2021-12<br>Cumulative Count=%{y}<extra></extra>",
           "legendgroup": "Electric Power Consumption",
           "marker": {
            "color": "#19d3f3",
            "pattern": {
             "shape": ""
            }
           },
           "name": "Electric Power Consumption",
           "orientation": "v",
           "showlegend": true,
           "textposition": "auto",
           "type": "bar",
           "x": [
            "Electric Power Consumption"
           ],
           "xaxis": "x",
           "y": {
            "bdata": "GA==",
            "dtype": "i1"
           },
           "yaxis": "y"
          }
         ],
         "name": "2021-12"
        },
        {
         "data": [
          {
           "hovertemplate": "Process Type=%{x}<br>month_period_str=2022-01<br>Cumulative Count=%{y}<extra></extra>",
           "legendgroup": "Commercial Consumption",
           "marker": {
            "color": "#636efa",
            "pattern": {
             "shape": ""
            }
           },
           "name": "Commercial Consumption",
           "orientation": "v",
           "showlegend": true,
           "textposition": "auto",
           "type": "bar",
           "x": [
            "Commercial Consumption"
           ],
           "xaxis": "x",
           "y": {
            "bdata": "kgA=",
            "dtype": "i2"
           },
           "yaxis": "y"
          },
          {
           "hovertemplate": "Process Type=%{x}<br>month_period_str=2022-01<br>Cumulative Count=%{y}<extra></extra>",
           "legendgroup": "Delivered to Consumers",
           "marker": {
            "color": "#EF553B",
            "pattern": {
             "shape": ""
            }
           },
           "name": "Delivered to Consumers",
           "orientation": "v",
           "showlegend": true,
           "textposition": "auto",
           "type": "bar",
           "x": [
            "Delivered to Consumers"
           ],
           "xaxis": "x",
           "y": {
            "bdata": "kgA=",
            "dtype": "i2"
           },
           "yaxis": "y"
          },
          {
           "hovertemplate": "Process Type=%{x}<br>month_period_str=2022-01<br>Cumulative Count=%{y}<extra></extra>",
           "legendgroup": "Industrial Consumption",
           "marker": {
            "color": "#00cc96",
            "pattern": {
             "shape": ""
            }
           },
           "name": "Industrial Consumption",
           "orientation": "v",
           "showlegend": true,
           "textposition": "auto",
           "type": "bar",
           "x": [
            "Industrial Consumption"
           ],
           "xaxis": "x",
           "y": {
            "bdata": "UQ==",
            "dtype": "i1"
           },
           "yaxis": "y"
          },
          {
           "hovertemplate": "Process Type=%{x}<br>month_period_str=2022-01<br>Cumulative Count=%{y}<extra></extra>",
           "legendgroup": "Residential Consumption",
           "marker": {
            "color": "#ab63fa",
            "pattern": {
             "shape": ""
            }
           },
           "name": "Residential Consumption",
           "orientation": "v",
           "showlegend": true,
           "textposition": "auto",
           "type": "bar",
           "x": [
            "Residential Consumption"
           ],
           "xaxis": "x",
           "y": {
            "bdata": "jQA=",
            "dtype": "i2"
           },
           "yaxis": "y"
          },
          {
           "hovertemplate": "Process Type=%{x}<br>month_period_str=2022-01<br>Cumulative Count=%{y}<extra></extra>",
           "legendgroup": "Vehicle Fuel Consumption",
           "marker": {
            "color": "#FFA15A",
            "pattern": {
             "shape": ""
            }
           },
           "name": "Vehicle Fuel Consumption",
           "orientation": "v",
           "showlegend": true,
           "textposition": "auto",
           "type": "bar",
           "x": [
            "Vehicle Fuel Consumption"
           ],
           "xaxis": "x",
           "y": {
            "bdata": "jwA=",
            "dtype": "i2"
           },
           "yaxis": "y"
          },
          {
           "hovertemplate": "Process Type=%{x}<br>month_period_str=2022-01<br>Cumulative Count=%{y}<extra></extra>",
           "legendgroup": "Electric Power Consumption",
           "marker": {
            "color": "#19d3f3",
            "pattern": {
             "shape": ""
            }
           },
           "name": "Electric Power Consumption",
           "orientation": "v",
           "showlegend": true,
           "textposition": "auto",
           "type": "bar",
           "x": [
            "Electric Power Consumption"
           ],
           "xaxis": "x",
           "y": {
            "bdata": "GQ==",
            "dtype": "i1"
           },
           "yaxis": "y"
          }
         ],
         "name": "2022-01"
        },
        {
         "data": [
          {
           "hovertemplate": "Process Type=%{x}<br>month_period_str=2022-02<br>Cumulative Count=%{y}<extra></extra>",
           "legendgroup": "Commercial Consumption",
           "marker": {
            "color": "#636efa",
            "pattern": {
             "shape": ""
            }
           },
           "name": "Commercial Consumption",
           "orientation": "v",
           "showlegend": true,
           "textposition": "auto",
           "type": "bar",
           "x": [
            "Commercial Consumption"
           ],
           "xaxis": "x",
           "y": {
            "bdata": "kwA=",
            "dtype": "i2"
           },
           "yaxis": "y"
          },
          {
           "hovertemplate": "Process Type=%{x}<br>month_period_str=2022-02<br>Cumulative Count=%{y}<extra></extra>",
           "legendgroup": "Delivered to Consumers",
           "marker": {
            "color": "#EF553B",
            "pattern": {
             "shape": ""
            }
           },
           "name": "Delivered to Consumers",
           "orientation": "v",
           "showlegend": true,
           "textposition": "auto",
           "type": "bar",
           "x": [
            "Delivered to Consumers"
           ],
           "xaxis": "x",
           "y": {
            "bdata": "kwA=",
            "dtype": "i2"
           },
           "yaxis": "y"
          },
          {
           "hovertemplate": "Process Type=%{x}<br>month_period_str=2022-02<br>Cumulative Count=%{y}<extra></extra>",
           "legendgroup": "Industrial Consumption",
           "marker": {
            "color": "#00cc96",
            "pattern": {
             "shape": ""
            }
           },
           "name": "Industrial Consumption",
           "orientation": "v",
           "showlegend": true,
           "textposition": "auto",
           "type": "bar",
           "x": [
            "Industrial Consumption"
           ],
           "xaxis": "x",
           "y": {
            "bdata": "UQ==",
            "dtype": "i1"
           },
           "yaxis": "y"
          },
          {
           "hovertemplate": "Process Type=%{x}<br>month_period_str=2022-02<br>Cumulative Count=%{y}<extra></extra>",
           "legendgroup": "Residential Consumption",
           "marker": {
            "color": "#ab63fa",
            "pattern": {
             "shape": ""
            }
           },
           "name": "Residential Consumption",
           "orientation": "v",
           "showlegend": true,
           "textposition": "auto",
           "type": "bar",
           "x": [
            "Residential Consumption"
           ],
           "xaxis": "x",
           "y": {
            "bdata": "jgA=",
            "dtype": "i2"
           },
           "yaxis": "y"
          },
          {
           "hovertemplate": "Process Type=%{x}<br>month_period_str=2022-02<br>Cumulative Count=%{y}<extra></extra>",
           "legendgroup": "Vehicle Fuel Consumption",
           "marker": {
            "color": "#FFA15A",
            "pattern": {
             "shape": ""
            }
           },
           "name": "Vehicle Fuel Consumption",
           "orientation": "v",
           "showlegend": true,
           "textposition": "auto",
           "type": "bar",
           "x": [
            "Vehicle Fuel Consumption"
           ],
           "xaxis": "x",
           "y": {
            "bdata": "kAA=",
            "dtype": "i2"
           },
           "yaxis": "y"
          },
          {
           "hovertemplate": "Process Type=%{x}<br>month_period_str=2022-02<br>Cumulative Count=%{y}<extra></extra>",
           "legendgroup": "Electric Power Consumption",
           "marker": {
            "color": "#19d3f3",
            "pattern": {
             "shape": ""
            }
           },
           "name": "Electric Power Consumption",
           "orientation": "v",
           "showlegend": true,
           "textposition": "auto",
           "type": "bar",
           "x": [
            "Electric Power Consumption"
           ],
           "xaxis": "x",
           "y": {
            "bdata": "Gg==",
            "dtype": "i1"
           },
           "yaxis": "y"
          }
         ],
         "name": "2022-02"
        },
        {
         "data": [
          {
           "hovertemplate": "Process Type=%{x}<br>month_period_str=2022-03<br>Cumulative Count=%{y}<extra></extra>",
           "legendgroup": "Commercial Consumption",
           "marker": {
            "color": "#636efa",
            "pattern": {
             "shape": ""
            }
           },
           "name": "Commercial Consumption",
           "orientation": "v",
           "showlegend": true,
           "textposition": "auto",
           "type": "bar",
           "x": [
            "Commercial Consumption"
           ],
           "xaxis": "x",
           "y": {
            "bdata": "lAA=",
            "dtype": "i2"
           },
           "yaxis": "y"
          },
          {
           "hovertemplate": "Process Type=%{x}<br>month_period_str=2022-03<br>Cumulative Count=%{y}<extra></extra>",
           "legendgroup": "Delivered to Consumers",
           "marker": {
            "color": "#EF553B",
            "pattern": {
             "shape": ""
            }
           },
           "name": "Delivered to Consumers",
           "orientation": "v",
           "showlegend": true,
           "textposition": "auto",
           "type": "bar",
           "x": [
            "Delivered to Consumers"
           ],
           "xaxis": "x",
           "y": {
            "bdata": "lAA=",
            "dtype": "i2"
           },
           "yaxis": "y"
          },
          {
           "hovertemplate": "Process Type=%{x}<br>month_period_str=2022-03<br>Cumulative Count=%{y}<extra></extra>",
           "legendgroup": "Industrial Consumption",
           "marker": {
            "color": "#00cc96",
            "pattern": {
             "shape": ""
            }
           },
           "name": "Industrial Consumption",
           "orientation": "v",
           "showlegend": true,
           "textposition": "auto",
           "type": "bar",
           "x": [
            "Industrial Consumption"
           ],
           "xaxis": "x",
           "y": {
            "bdata": "UQ==",
            "dtype": "i1"
           },
           "yaxis": "y"
          },
          {
           "hovertemplate": "Process Type=%{x}<br>month_period_str=2022-03<br>Cumulative Count=%{y}<extra></extra>",
           "legendgroup": "Residential Consumption",
           "marker": {
            "color": "#ab63fa",
            "pattern": {
             "shape": ""
            }
           },
           "name": "Residential Consumption",
           "orientation": "v",
           "showlegend": true,
           "textposition": "auto",
           "type": "bar",
           "x": [
            "Residential Consumption"
           ],
           "xaxis": "x",
           "y": {
            "bdata": "jwA=",
            "dtype": "i2"
           },
           "yaxis": "y"
          },
          {
           "hovertemplate": "Process Type=%{x}<br>month_period_str=2022-03<br>Cumulative Count=%{y}<extra></extra>",
           "legendgroup": "Vehicle Fuel Consumption",
           "marker": {
            "color": "#FFA15A",
            "pattern": {
             "shape": ""
            }
           },
           "name": "Vehicle Fuel Consumption",
           "orientation": "v",
           "showlegend": true,
           "textposition": "auto",
           "type": "bar",
           "x": [
            "Vehicle Fuel Consumption"
           ],
           "xaxis": "x",
           "y": {
            "bdata": "kQA=",
            "dtype": "i2"
           },
           "yaxis": "y"
          },
          {
           "hovertemplate": "Process Type=%{x}<br>month_period_str=2022-03<br>Cumulative Count=%{y}<extra></extra>",
           "legendgroup": "Electric Power Consumption",
           "marker": {
            "color": "#19d3f3",
            "pattern": {
             "shape": ""
            }
           },
           "name": "Electric Power Consumption",
           "orientation": "v",
           "showlegend": true,
           "textposition": "auto",
           "type": "bar",
           "x": [
            "Electric Power Consumption"
           ],
           "xaxis": "x",
           "y": {
            "bdata": "Gw==",
            "dtype": "i1"
           },
           "yaxis": "y"
          }
         ],
         "name": "2022-03"
        },
        {
         "data": [
          {
           "hovertemplate": "Process Type=%{x}<br>month_period_str=2022-04<br>Cumulative Count=%{y}<extra></extra>",
           "legendgroup": "Commercial Consumption",
           "marker": {
            "color": "#636efa",
            "pattern": {
             "shape": ""
            }
           },
           "name": "Commercial Consumption",
           "orientation": "v",
           "showlegend": true,
           "textposition": "auto",
           "type": "bar",
           "x": [
            "Commercial Consumption"
           ],
           "xaxis": "x",
           "y": {
            "bdata": "lQA=",
            "dtype": "i2"
           },
           "yaxis": "y"
          },
          {
           "hovertemplate": "Process Type=%{x}<br>month_period_str=2022-04<br>Cumulative Count=%{y}<extra></extra>",
           "legendgroup": "Delivered to Consumers",
           "marker": {
            "color": "#EF553B",
            "pattern": {
             "shape": ""
            }
           },
           "name": "Delivered to Consumers",
           "orientation": "v",
           "showlegend": true,
           "textposition": "auto",
           "type": "bar",
           "x": [
            "Delivered to Consumers"
           ],
           "xaxis": "x",
           "y": {
            "bdata": "lQA=",
            "dtype": "i2"
           },
           "yaxis": "y"
          },
          {
           "hovertemplate": "Process Type=%{x}<br>month_period_str=2022-04<br>Cumulative Count=%{y}<extra></extra>",
           "legendgroup": "Industrial Consumption",
           "marker": {
            "color": "#00cc96",
            "pattern": {
             "shape": ""
            }
           },
           "name": "Industrial Consumption",
           "orientation": "v",
           "showlegend": true,
           "textposition": "auto",
           "type": "bar",
           "x": [
            "Industrial Consumption"
           ],
           "xaxis": "x",
           "y": {
            "bdata": "UQ==",
            "dtype": "i1"
           },
           "yaxis": "y"
          },
          {
           "hovertemplate": "Process Type=%{x}<br>month_period_str=2022-04<br>Cumulative Count=%{y}<extra></extra>",
           "legendgroup": "Residential Consumption",
           "marker": {
            "color": "#ab63fa",
            "pattern": {
             "shape": ""
            }
           },
           "name": "Residential Consumption",
           "orientation": "v",
           "showlegend": true,
           "textposition": "auto",
           "type": "bar",
           "x": [
            "Residential Consumption"
           ],
           "xaxis": "x",
           "y": {
            "bdata": "kAA=",
            "dtype": "i2"
           },
           "yaxis": "y"
          },
          {
           "hovertemplate": "Process Type=%{x}<br>month_period_str=2022-04<br>Cumulative Count=%{y}<extra></extra>",
           "legendgroup": "Vehicle Fuel Consumption",
           "marker": {
            "color": "#FFA15A",
            "pattern": {
             "shape": ""
            }
           },
           "name": "Vehicle Fuel Consumption",
           "orientation": "v",
           "showlegend": true,
           "textposition": "auto",
           "type": "bar",
           "x": [
            "Vehicle Fuel Consumption"
           ],
           "xaxis": "x",
           "y": {
            "bdata": "kgA=",
            "dtype": "i2"
           },
           "yaxis": "y"
          },
          {
           "hovertemplate": "Process Type=%{x}<br>month_period_str=2022-04<br>Cumulative Count=%{y}<extra></extra>",
           "legendgroup": "Electric Power Consumption",
           "marker": {
            "color": "#19d3f3",
            "pattern": {
             "shape": ""
            }
           },
           "name": "Electric Power Consumption",
           "orientation": "v",
           "showlegend": true,
           "textposition": "auto",
           "type": "bar",
           "x": [
            "Electric Power Consumption"
           ],
           "xaxis": "x",
           "y": {
            "bdata": "HA==",
            "dtype": "i1"
           },
           "yaxis": "y"
          }
         ],
         "name": "2022-04"
        },
        {
         "data": [
          {
           "hovertemplate": "Process Type=%{x}<br>month_period_str=2022-05<br>Cumulative Count=%{y}<extra></extra>",
           "legendgroup": "Commercial Consumption",
           "marker": {
            "color": "#636efa",
            "pattern": {
             "shape": ""
            }
           },
           "name": "Commercial Consumption",
           "orientation": "v",
           "showlegend": true,
           "textposition": "auto",
           "type": "bar",
           "x": [
            "Commercial Consumption"
           ],
           "xaxis": "x",
           "y": {
            "bdata": "lgA=",
            "dtype": "i2"
           },
           "yaxis": "y"
          },
          {
           "hovertemplate": "Process Type=%{x}<br>month_period_str=2022-05<br>Cumulative Count=%{y}<extra></extra>",
           "legendgroup": "Delivered to Consumers",
           "marker": {
            "color": "#EF553B",
            "pattern": {
             "shape": ""
            }
           },
           "name": "Delivered to Consumers",
           "orientation": "v",
           "showlegend": true,
           "textposition": "auto",
           "type": "bar",
           "x": [
            "Delivered to Consumers"
           ],
           "xaxis": "x",
           "y": {
            "bdata": "lgA=",
            "dtype": "i2"
           },
           "yaxis": "y"
          },
          {
           "hovertemplate": "Process Type=%{x}<br>month_period_str=2022-05<br>Cumulative Count=%{y}<extra></extra>",
           "legendgroup": "Industrial Consumption",
           "marker": {
            "color": "#00cc96",
            "pattern": {
             "shape": ""
            }
           },
           "name": "Industrial Consumption",
           "orientation": "v",
           "showlegend": true,
           "textposition": "auto",
           "type": "bar",
           "x": [
            "Industrial Consumption"
           ],
           "xaxis": "x",
           "y": {
            "bdata": "UQ==",
            "dtype": "i1"
           },
           "yaxis": "y"
          },
          {
           "hovertemplate": "Process Type=%{x}<br>month_period_str=2022-05<br>Cumulative Count=%{y}<extra></extra>",
           "legendgroup": "Residential Consumption",
           "marker": {
            "color": "#ab63fa",
            "pattern": {
             "shape": ""
            }
           },
           "name": "Residential Consumption",
           "orientation": "v",
           "showlegend": true,
           "textposition": "auto",
           "type": "bar",
           "x": [
            "Residential Consumption"
           ],
           "xaxis": "x",
           "y": {
            "bdata": "kQA=",
            "dtype": "i2"
           },
           "yaxis": "y"
          },
          {
           "hovertemplate": "Process Type=%{x}<br>month_period_str=2022-05<br>Cumulative Count=%{y}<extra></extra>",
           "legendgroup": "Vehicle Fuel Consumption",
           "marker": {
            "color": "#FFA15A",
            "pattern": {
             "shape": ""
            }
           },
           "name": "Vehicle Fuel Consumption",
           "orientation": "v",
           "showlegend": true,
           "textposition": "auto",
           "type": "bar",
           "x": [
            "Vehicle Fuel Consumption"
           ],
           "xaxis": "x",
           "y": {
            "bdata": "kwA=",
            "dtype": "i2"
           },
           "yaxis": "y"
          },
          {
           "hovertemplate": "Process Type=%{x}<br>month_period_str=2022-05<br>Cumulative Count=%{y}<extra></extra>",
           "legendgroup": "Electric Power Consumption",
           "marker": {
            "color": "#19d3f3",
            "pattern": {
             "shape": ""
            }
           },
           "name": "Electric Power Consumption",
           "orientation": "v",
           "showlegend": true,
           "textposition": "auto",
           "type": "bar",
           "x": [
            "Electric Power Consumption"
           ],
           "xaxis": "x",
           "y": {
            "bdata": "HQ==",
            "dtype": "i1"
           },
           "yaxis": "y"
          }
         ],
         "name": "2022-05"
        },
        {
         "data": [
          {
           "hovertemplate": "Process Type=%{x}<br>month_period_str=2022-06<br>Cumulative Count=%{y}<extra></extra>",
           "legendgroup": "Commercial Consumption",
           "marker": {
            "color": "#636efa",
            "pattern": {
             "shape": ""
            }
           },
           "name": "Commercial Consumption",
           "orientation": "v",
           "showlegend": true,
           "textposition": "auto",
           "type": "bar",
           "x": [
            "Commercial Consumption"
           ],
           "xaxis": "x",
           "y": {
            "bdata": "lwA=",
            "dtype": "i2"
           },
           "yaxis": "y"
          },
          {
           "hovertemplate": "Process Type=%{x}<br>month_period_str=2022-06<br>Cumulative Count=%{y}<extra></extra>",
           "legendgroup": "Delivered to Consumers",
           "marker": {
            "color": "#EF553B",
            "pattern": {
             "shape": ""
            }
           },
           "name": "Delivered to Consumers",
           "orientation": "v",
           "showlegend": true,
           "textposition": "auto",
           "type": "bar",
           "x": [
            "Delivered to Consumers"
           ],
           "xaxis": "x",
           "y": {
            "bdata": "lwA=",
            "dtype": "i2"
           },
           "yaxis": "y"
          },
          {
           "hovertemplate": "Process Type=%{x}<br>month_period_str=2022-06<br>Cumulative Count=%{y}<extra></extra>",
           "legendgroup": "Industrial Consumption",
           "marker": {
            "color": "#00cc96",
            "pattern": {
             "shape": ""
            }
           },
           "name": "Industrial Consumption",
           "orientation": "v",
           "showlegend": true,
           "textposition": "auto",
           "type": "bar",
           "x": [
            "Industrial Consumption"
           ],
           "xaxis": "x",
           "y": {
            "bdata": "UQ==",
            "dtype": "i1"
           },
           "yaxis": "y"
          },
          {
           "hovertemplate": "Process Type=%{x}<br>month_period_str=2022-06<br>Cumulative Count=%{y}<extra></extra>",
           "legendgroup": "Residential Consumption",
           "marker": {
            "color": "#ab63fa",
            "pattern": {
             "shape": ""
            }
           },
           "name": "Residential Consumption",
           "orientation": "v",
           "showlegend": true,
           "textposition": "auto",
           "type": "bar",
           "x": [
            "Residential Consumption"
           ],
           "xaxis": "x",
           "y": {
            "bdata": "kgA=",
            "dtype": "i2"
           },
           "yaxis": "y"
          },
          {
           "hovertemplate": "Process Type=%{x}<br>month_period_str=2022-06<br>Cumulative Count=%{y}<extra></extra>",
           "legendgroup": "Vehicle Fuel Consumption",
           "marker": {
            "color": "#FFA15A",
            "pattern": {
             "shape": ""
            }
           },
           "name": "Vehicle Fuel Consumption",
           "orientation": "v",
           "showlegend": true,
           "textposition": "auto",
           "type": "bar",
           "x": [
            "Vehicle Fuel Consumption"
           ],
           "xaxis": "x",
           "y": {
            "bdata": "lAA=",
            "dtype": "i2"
           },
           "yaxis": "y"
          },
          {
           "hovertemplate": "Process Type=%{x}<br>month_period_str=2022-06<br>Cumulative Count=%{y}<extra></extra>",
           "legendgroup": "Electric Power Consumption",
           "marker": {
            "color": "#19d3f3",
            "pattern": {
             "shape": ""
            }
           },
           "name": "Electric Power Consumption",
           "orientation": "v",
           "showlegend": true,
           "textposition": "auto",
           "type": "bar",
           "x": [
            "Electric Power Consumption"
           ],
           "xaxis": "x",
           "y": {
            "bdata": "Hg==",
            "dtype": "i1"
           },
           "yaxis": "y"
          }
         ],
         "name": "2022-06"
        },
        {
         "data": [
          {
           "hovertemplate": "Process Type=%{x}<br>month_period_str=2022-07<br>Cumulative Count=%{y}<extra></extra>",
           "legendgroup": "Commercial Consumption",
           "marker": {
            "color": "#636efa",
            "pattern": {
             "shape": ""
            }
           },
           "name": "Commercial Consumption",
           "orientation": "v",
           "showlegend": true,
           "textposition": "auto",
           "type": "bar",
           "x": [
            "Commercial Consumption"
           ],
           "xaxis": "x",
           "y": {
            "bdata": "mAA=",
            "dtype": "i2"
           },
           "yaxis": "y"
          },
          {
           "hovertemplate": "Process Type=%{x}<br>month_period_str=2022-07<br>Cumulative Count=%{y}<extra></extra>",
           "legendgroup": "Delivered to Consumers",
           "marker": {
            "color": "#EF553B",
            "pattern": {
             "shape": ""
            }
           },
           "name": "Delivered to Consumers",
           "orientation": "v",
           "showlegend": true,
           "textposition": "auto",
           "type": "bar",
           "x": [
            "Delivered to Consumers"
           ],
           "xaxis": "x",
           "y": {
            "bdata": "mAA=",
            "dtype": "i2"
           },
           "yaxis": "y"
          },
          {
           "hovertemplate": "Process Type=%{x}<br>month_period_str=2022-07<br>Cumulative Count=%{y}<extra></extra>",
           "legendgroup": "Industrial Consumption",
           "marker": {
            "color": "#00cc96",
            "pattern": {
             "shape": ""
            }
           },
           "name": "Industrial Consumption",
           "orientation": "v",
           "showlegend": true,
           "textposition": "auto",
           "type": "bar",
           "x": [
            "Industrial Consumption"
           ],
           "xaxis": "x",
           "y": {
            "bdata": "UQ==",
            "dtype": "i1"
           },
           "yaxis": "y"
          },
          {
           "hovertemplate": "Process Type=%{x}<br>month_period_str=2022-07<br>Cumulative Count=%{y}<extra></extra>",
           "legendgroup": "Residential Consumption",
           "marker": {
            "color": "#ab63fa",
            "pattern": {
             "shape": ""
            }
           },
           "name": "Residential Consumption",
           "orientation": "v",
           "showlegend": true,
           "textposition": "auto",
           "type": "bar",
           "x": [
            "Residential Consumption"
           ],
           "xaxis": "x",
           "y": {
            "bdata": "kwA=",
            "dtype": "i2"
           },
           "yaxis": "y"
          },
          {
           "hovertemplate": "Process Type=%{x}<br>month_period_str=2022-07<br>Cumulative Count=%{y}<extra></extra>",
           "legendgroup": "Vehicle Fuel Consumption",
           "marker": {
            "color": "#FFA15A",
            "pattern": {
             "shape": ""
            }
           },
           "name": "Vehicle Fuel Consumption",
           "orientation": "v",
           "showlegend": true,
           "textposition": "auto",
           "type": "bar",
           "x": [
            "Vehicle Fuel Consumption"
           ],
           "xaxis": "x",
           "y": {
            "bdata": "lQA=",
            "dtype": "i2"
           },
           "yaxis": "y"
          },
          {
           "hovertemplate": "Process Type=%{x}<br>month_period_str=2022-07<br>Cumulative Count=%{y}<extra></extra>",
           "legendgroup": "Electric Power Consumption",
           "marker": {
            "color": "#19d3f3",
            "pattern": {
             "shape": ""
            }
           },
           "name": "Electric Power Consumption",
           "orientation": "v",
           "showlegend": true,
           "textposition": "auto",
           "type": "bar",
           "x": [
            "Electric Power Consumption"
           ],
           "xaxis": "x",
           "y": {
            "bdata": "Hw==",
            "dtype": "i1"
           },
           "yaxis": "y"
          }
         ],
         "name": "2022-07"
        },
        {
         "data": [
          {
           "hovertemplate": "Process Type=%{x}<br>month_period_str=2022-08<br>Cumulative Count=%{y}<extra></extra>",
           "legendgroup": "Commercial Consumption",
           "marker": {
            "color": "#636efa",
            "pattern": {
             "shape": ""
            }
           },
           "name": "Commercial Consumption",
           "orientation": "v",
           "showlegend": true,
           "textposition": "auto",
           "type": "bar",
           "x": [
            "Commercial Consumption"
           ],
           "xaxis": "x",
           "y": {
            "bdata": "mQA=",
            "dtype": "i2"
           },
           "yaxis": "y"
          },
          {
           "hovertemplate": "Process Type=%{x}<br>month_period_str=2022-08<br>Cumulative Count=%{y}<extra></extra>",
           "legendgroup": "Delivered to Consumers",
           "marker": {
            "color": "#EF553B",
            "pattern": {
             "shape": ""
            }
           },
           "name": "Delivered to Consumers",
           "orientation": "v",
           "showlegend": true,
           "textposition": "auto",
           "type": "bar",
           "x": [
            "Delivered to Consumers"
           ],
           "xaxis": "x",
           "y": {
            "bdata": "mQA=",
            "dtype": "i2"
           },
           "yaxis": "y"
          },
          {
           "hovertemplate": "Process Type=%{x}<br>month_period_str=2022-08<br>Cumulative Count=%{y}<extra></extra>",
           "legendgroup": "Industrial Consumption",
           "marker": {
            "color": "#00cc96",
            "pattern": {
             "shape": ""
            }
           },
           "name": "Industrial Consumption",
           "orientation": "v",
           "showlegend": true,
           "textposition": "auto",
           "type": "bar",
           "x": [
            "Industrial Consumption"
           ],
           "xaxis": "x",
           "y": {
            "bdata": "UQ==",
            "dtype": "i1"
           },
           "yaxis": "y"
          },
          {
           "hovertemplate": "Process Type=%{x}<br>month_period_str=2022-08<br>Cumulative Count=%{y}<extra></extra>",
           "legendgroup": "Residential Consumption",
           "marker": {
            "color": "#ab63fa",
            "pattern": {
             "shape": ""
            }
           },
           "name": "Residential Consumption",
           "orientation": "v",
           "showlegend": true,
           "textposition": "auto",
           "type": "bar",
           "x": [
            "Residential Consumption"
           ],
           "xaxis": "x",
           "y": {
            "bdata": "lAA=",
            "dtype": "i2"
           },
           "yaxis": "y"
          },
          {
           "hovertemplate": "Process Type=%{x}<br>month_period_str=2022-08<br>Cumulative Count=%{y}<extra></extra>",
           "legendgroup": "Vehicle Fuel Consumption",
           "marker": {
            "color": "#FFA15A",
            "pattern": {
             "shape": ""
            }
           },
           "name": "Vehicle Fuel Consumption",
           "orientation": "v",
           "showlegend": true,
           "textposition": "auto",
           "type": "bar",
           "x": [
            "Vehicle Fuel Consumption"
           ],
           "xaxis": "x",
           "y": {
            "bdata": "lgA=",
            "dtype": "i2"
           },
           "yaxis": "y"
          },
          {
           "hovertemplate": "Process Type=%{x}<br>month_period_str=2022-08<br>Cumulative Count=%{y}<extra></extra>",
           "legendgroup": "Electric Power Consumption",
           "marker": {
            "color": "#19d3f3",
            "pattern": {
             "shape": ""
            }
           },
           "name": "Electric Power Consumption",
           "orientation": "v",
           "showlegend": true,
           "textposition": "auto",
           "type": "bar",
           "x": [
            "Electric Power Consumption"
           ],
           "xaxis": "x",
           "y": {
            "bdata": "IA==",
            "dtype": "i1"
           },
           "yaxis": "y"
          }
         ],
         "name": "2022-08"
        },
        {
         "data": [
          {
           "hovertemplate": "Process Type=%{x}<br>month_period_str=2022-09<br>Cumulative Count=%{y}<extra></extra>",
           "legendgroup": "Commercial Consumption",
           "marker": {
            "color": "#636efa",
            "pattern": {
             "shape": ""
            }
           },
           "name": "Commercial Consumption",
           "orientation": "v",
           "showlegend": true,
           "textposition": "auto",
           "type": "bar",
           "x": [
            "Commercial Consumption"
           ],
           "xaxis": "x",
           "y": {
            "bdata": "mgA=",
            "dtype": "i2"
           },
           "yaxis": "y"
          },
          {
           "hovertemplate": "Process Type=%{x}<br>month_period_str=2022-09<br>Cumulative Count=%{y}<extra></extra>",
           "legendgroup": "Delivered to Consumers",
           "marker": {
            "color": "#EF553B",
            "pattern": {
             "shape": ""
            }
           },
           "name": "Delivered to Consumers",
           "orientation": "v",
           "showlegend": true,
           "textposition": "auto",
           "type": "bar",
           "x": [
            "Delivered to Consumers"
           ],
           "xaxis": "x",
           "y": {
            "bdata": "mgA=",
            "dtype": "i2"
           },
           "yaxis": "y"
          },
          {
           "hovertemplate": "Process Type=%{x}<br>month_period_str=2022-09<br>Cumulative Count=%{y}<extra></extra>",
           "legendgroup": "Industrial Consumption",
           "marker": {
            "color": "#00cc96",
            "pattern": {
             "shape": ""
            }
           },
           "name": "Industrial Consumption",
           "orientation": "v",
           "showlegend": true,
           "textposition": "auto",
           "type": "bar",
           "x": [
            "Industrial Consumption"
           ],
           "xaxis": "x",
           "y": {
            "bdata": "UQ==",
            "dtype": "i1"
           },
           "yaxis": "y"
          },
          {
           "hovertemplate": "Process Type=%{x}<br>month_period_str=2022-09<br>Cumulative Count=%{y}<extra></extra>",
           "legendgroup": "Residential Consumption",
           "marker": {
            "color": "#ab63fa",
            "pattern": {
             "shape": ""
            }
           },
           "name": "Residential Consumption",
           "orientation": "v",
           "showlegend": true,
           "textposition": "auto",
           "type": "bar",
           "x": [
            "Residential Consumption"
           ],
           "xaxis": "x",
           "y": {
            "bdata": "lQA=",
            "dtype": "i2"
           },
           "yaxis": "y"
          },
          {
           "hovertemplate": "Process Type=%{x}<br>month_period_str=2022-09<br>Cumulative Count=%{y}<extra></extra>",
           "legendgroup": "Vehicle Fuel Consumption",
           "marker": {
            "color": "#FFA15A",
            "pattern": {
             "shape": ""
            }
           },
           "name": "Vehicle Fuel Consumption",
           "orientation": "v",
           "showlegend": true,
           "textposition": "auto",
           "type": "bar",
           "x": [
            "Vehicle Fuel Consumption"
           ],
           "xaxis": "x",
           "y": {
            "bdata": "lwA=",
            "dtype": "i2"
           },
           "yaxis": "y"
          },
          {
           "hovertemplate": "Process Type=%{x}<br>month_period_str=2022-09<br>Cumulative Count=%{y}<extra></extra>",
           "legendgroup": "Electric Power Consumption",
           "marker": {
            "color": "#19d3f3",
            "pattern": {
             "shape": ""
            }
           },
           "name": "Electric Power Consumption",
           "orientation": "v",
           "showlegend": true,
           "textposition": "auto",
           "type": "bar",
           "x": [
            "Electric Power Consumption"
           ],
           "xaxis": "x",
           "y": {
            "bdata": "IQ==",
            "dtype": "i1"
           },
           "yaxis": "y"
          }
         ],
         "name": "2022-09"
        },
        {
         "data": [
          {
           "hovertemplate": "Process Type=%{x}<br>month_period_str=2022-10<br>Cumulative Count=%{y}<extra></extra>",
           "legendgroup": "Commercial Consumption",
           "marker": {
            "color": "#636efa",
            "pattern": {
             "shape": ""
            }
           },
           "name": "Commercial Consumption",
           "orientation": "v",
           "showlegend": true,
           "textposition": "auto",
           "type": "bar",
           "x": [
            "Commercial Consumption"
           ],
           "xaxis": "x",
           "y": {
            "bdata": "mwA=",
            "dtype": "i2"
           },
           "yaxis": "y"
          },
          {
           "hovertemplate": "Process Type=%{x}<br>month_period_str=2022-10<br>Cumulative Count=%{y}<extra></extra>",
           "legendgroup": "Delivered to Consumers",
           "marker": {
            "color": "#EF553B",
            "pattern": {
             "shape": ""
            }
           },
           "name": "Delivered to Consumers",
           "orientation": "v",
           "showlegend": true,
           "textposition": "auto",
           "type": "bar",
           "x": [
            "Delivered to Consumers"
           ],
           "xaxis": "x",
           "y": {
            "bdata": "mwA=",
            "dtype": "i2"
           },
           "yaxis": "y"
          },
          {
           "hovertemplate": "Process Type=%{x}<br>month_period_str=2022-10<br>Cumulative Count=%{y}<extra></extra>",
           "legendgroup": "Industrial Consumption",
           "marker": {
            "color": "#00cc96",
            "pattern": {
             "shape": ""
            }
           },
           "name": "Industrial Consumption",
           "orientation": "v",
           "showlegend": true,
           "textposition": "auto",
           "type": "bar",
           "x": [
            "Industrial Consumption"
           ],
           "xaxis": "x",
           "y": {
            "bdata": "UQ==",
            "dtype": "i1"
           },
           "yaxis": "y"
          },
          {
           "hovertemplate": "Process Type=%{x}<br>month_period_str=2022-10<br>Cumulative Count=%{y}<extra></extra>",
           "legendgroup": "Residential Consumption",
           "marker": {
            "color": "#ab63fa",
            "pattern": {
             "shape": ""
            }
           },
           "name": "Residential Consumption",
           "orientation": "v",
           "showlegend": true,
           "textposition": "auto",
           "type": "bar",
           "x": [
            "Residential Consumption"
           ],
           "xaxis": "x",
           "y": {
            "bdata": "lgA=",
            "dtype": "i2"
           },
           "yaxis": "y"
          },
          {
           "hovertemplate": "Process Type=%{x}<br>month_period_str=2022-10<br>Cumulative Count=%{y}<extra></extra>",
           "legendgroup": "Vehicle Fuel Consumption",
           "marker": {
            "color": "#FFA15A",
            "pattern": {
             "shape": ""
            }
           },
           "name": "Vehicle Fuel Consumption",
           "orientation": "v",
           "showlegend": true,
           "textposition": "auto",
           "type": "bar",
           "x": [
            "Vehicle Fuel Consumption"
           ],
           "xaxis": "x",
           "y": {
            "bdata": "mAA=",
            "dtype": "i2"
           },
           "yaxis": "y"
          },
          {
           "hovertemplate": "Process Type=%{x}<br>month_period_str=2022-10<br>Cumulative Count=%{y}<extra></extra>",
           "legendgroup": "Electric Power Consumption",
           "marker": {
            "color": "#19d3f3",
            "pattern": {
             "shape": ""
            }
           },
           "name": "Electric Power Consumption",
           "orientation": "v",
           "showlegend": true,
           "textposition": "auto",
           "type": "bar",
           "x": [
            "Electric Power Consumption"
           ],
           "xaxis": "x",
           "y": {
            "bdata": "Ig==",
            "dtype": "i1"
           },
           "yaxis": "y"
          }
         ],
         "name": "2022-10"
        },
        {
         "data": [
          {
           "hovertemplate": "Process Type=%{x}<br>month_period_str=2022-11<br>Cumulative Count=%{y}<extra></extra>",
           "legendgroup": "Commercial Consumption",
           "marker": {
            "color": "#636efa",
            "pattern": {
             "shape": ""
            }
           },
           "name": "Commercial Consumption",
           "orientation": "v",
           "showlegend": true,
           "textposition": "auto",
           "type": "bar",
           "x": [
            "Commercial Consumption"
           ],
           "xaxis": "x",
           "y": {
            "bdata": "nAA=",
            "dtype": "i2"
           },
           "yaxis": "y"
          },
          {
           "hovertemplate": "Process Type=%{x}<br>month_period_str=2022-11<br>Cumulative Count=%{y}<extra></extra>",
           "legendgroup": "Delivered to Consumers",
           "marker": {
            "color": "#EF553B",
            "pattern": {
             "shape": ""
            }
           },
           "name": "Delivered to Consumers",
           "orientation": "v",
           "showlegend": true,
           "textposition": "auto",
           "type": "bar",
           "x": [
            "Delivered to Consumers"
           ],
           "xaxis": "x",
           "y": {
            "bdata": "nAA=",
            "dtype": "i2"
           },
           "yaxis": "y"
          },
          {
           "hovertemplate": "Process Type=%{x}<br>month_period_str=2022-11<br>Cumulative Count=%{y}<extra></extra>",
           "legendgroup": "Industrial Consumption",
           "marker": {
            "color": "#00cc96",
            "pattern": {
             "shape": ""
            }
           },
           "name": "Industrial Consumption",
           "orientation": "v",
           "showlegend": true,
           "textposition": "auto",
           "type": "bar",
           "x": [
            "Industrial Consumption"
           ],
           "xaxis": "x",
           "y": {
            "bdata": "UQ==",
            "dtype": "i1"
           },
           "yaxis": "y"
          },
          {
           "hovertemplate": "Process Type=%{x}<br>month_period_str=2022-11<br>Cumulative Count=%{y}<extra></extra>",
           "legendgroup": "Residential Consumption",
           "marker": {
            "color": "#ab63fa",
            "pattern": {
             "shape": ""
            }
           },
           "name": "Residential Consumption",
           "orientation": "v",
           "showlegend": true,
           "textposition": "auto",
           "type": "bar",
           "x": [
            "Residential Consumption"
           ],
           "xaxis": "x",
           "y": {
            "bdata": "lwA=",
            "dtype": "i2"
           },
           "yaxis": "y"
          },
          {
           "hovertemplate": "Process Type=%{x}<br>month_period_str=2022-11<br>Cumulative Count=%{y}<extra></extra>",
           "legendgroup": "Vehicle Fuel Consumption",
           "marker": {
            "color": "#FFA15A",
            "pattern": {
             "shape": ""
            }
           },
           "name": "Vehicle Fuel Consumption",
           "orientation": "v",
           "showlegend": true,
           "textposition": "auto",
           "type": "bar",
           "x": [
            "Vehicle Fuel Consumption"
           ],
           "xaxis": "x",
           "y": {
            "bdata": "mQA=",
            "dtype": "i2"
           },
           "yaxis": "y"
          },
          {
           "hovertemplate": "Process Type=%{x}<br>month_period_str=2022-11<br>Cumulative Count=%{y}<extra></extra>",
           "legendgroup": "Electric Power Consumption",
           "marker": {
            "color": "#19d3f3",
            "pattern": {
             "shape": ""
            }
           },
           "name": "Electric Power Consumption",
           "orientation": "v",
           "showlegend": true,
           "textposition": "auto",
           "type": "bar",
           "x": [
            "Electric Power Consumption"
           ],
           "xaxis": "x",
           "y": {
            "bdata": "Iw==",
            "dtype": "i1"
           },
           "yaxis": "y"
          }
         ],
         "name": "2022-11"
        },
        {
         "data": [
          {
           "hovertemplate": "Process Type=%{x}<br>month_period_str=2022-12<br>Cumulative Count=%{y}<extra></extra>",
           "legendgroup": "Commercial Consumption",
           "marker": {
            "color": "#636efa",
            "pattern": {
             "shape": ""
            }
           },
           "name": "Commercial Consumption",
           "orientation": "v",
           "showlegend": true,
           "textposition": "auto",
           "type": "bar",
           "x": [
            "Commercial Consumption"
           ],
           "xaxis": "x",
           "y": {
            "bdata": "nQA=",
            "dtype": "i2"
           },
           "yaxis": "y"
          },
          {
           "hovertemplate": "Process Type=%{x}<br>month_period_str=2022-12<br>Cumulative Count=%{y}<extra></extra>",
           "legendgroup": "Delivered to Consumers",
           "marker": {
            "color": "#EF553B",
            "pattern": {
             "shape": ""
            }
           },
           "name": "Delivered to Consumers",
           "orientation": "v",
           "showlegend": true,
           "textposition": "auto",
           "type": "bar",
           "x": [
            "Delivered to Consumers"
           ],
           "xaxis": "x",
           "y": {
            "bdata": "nQA=",
            "dtype": "i2"
           },
           "yaxis": "y"
          },
          {
           "hovertemplate": "Process Type=%{x}<br>month_period_str=2022-12<br>Cumulative Count=%{y}<extra></extra>",
           "legendgroup": "Industrial Consumption",
           "marker": {
            "color": "#00cc96",
            "pattern": {
             "shape": ""
            }
           },
           "name": "Industrial Consumption",
           "orientation": "v",
           "showlegend": true,
           "textposition": "auto",
           "type": "bar",
           "x": [
            "Industrial Consumption"
           ],
           "xaxis": "x",
           "y": {
            "bdata": "UQ==",
            "dtype": "i1"
           },
           "yaxis": "y"
          },
          {
           "hovertemplate": "Process Type=%{x}<br>month_period_str=2022-12<br>Cumulative Count=%{y}<extra></extra>",
           "legendgroup": "Residential Consumption",
           "marker": {
            "color": "#ab63fa",
            "pattern": {
             "shape": ""
            }
           },
           "name": "Residential Consumption",
           "orientation": "v",
           "showlegend": true,
           "textposition": "auto",
           "type": "bar",
           "x": [
            "Residential Consumption"
           ],
           "xaxis": "x",
           "y": {
            "bdata": "mAA=",
            "dtype": "i2"
           },
           "yaxis": "y"
          },
          {
           "hovertemplate": "Process Type=%{x}<br>month_period_str=2022-12<br>Cumulative Count=%{y}<extra></extra>",
           "legendgroup": "Vehicle Fuel Consumption",
           "marker": {
            "color": "#FFA15A",
            "pattern": {
             "shape": ""
            }
           },
           "name": "Vehicle Fuel Consumption",
           "orientation": "v",
           "showlegend": true,
           "textposition": "auto",
           "type": "bar",
           "x": [
            "Vehicle Fuel Consumption"
           ],
           "xaxis": "x",
           "y": {
            "bdata": "mgA=",
            "dtype": "i2"
           },
           "yaxis": "y"
          },
          {
           "hovertemplate": "Process Type=%{x}<br>month_period_str=2022-12<br>Cumulative Count=%{y}<extra></extra>",
           "legendgroup": "Electric Power Consumption",
           "marker": {
            "color": "#19d3f3",
            "pattern": {
             "shape": ""
            }
           },
           "name": "Electric Power Consumption",
           "orientation": "v",
           "showlegend": true,
           "textposition": "auto",
           "type": "bar",
           "x": [
            "Electric Power Consumption"
           ],
           "xaxis": "x",
           "y": {
            "bdata": "JA==",
            "dtype": "i1"
           },
           "yaxis": "y"
          }
         ],
         "name": "2022-12"
        },
        {
         "data": [
          {
           "hovertemplate": "Process Type=%{x}<br>month_period_str=2023-01<br>Cumulative Count=%{y}<extra></extra>",
           "legendgroup": "Commercial Consumption",
           "marker": {
            "color": "#636efa",
            "pattern": {
             "shape": ""
            }
           },
           "name": "Commercial Consumption",
           "orientation": "v",
           "showlegend": true,
           "textposition": "auto",
           "type": "bar",
           "x": [
            "Commercial Consumption"
           ],
           "xaxis": "x",
           "y": {
            "bdata": "ngA=",
            "dtype": "i2"
           },
           "yaxis": "y"
          },
          {
           "hovertemplate": "Process Type=%{x}<br>month_period_str=2023-01<br>Cumulative Count=%{y}<extra></extra>",
           "legendgroup": "Delivered to Consumers",
           "marker": {
            "color": "#EF553B",
            "pattern": {
             "shape": ""
            }
           },
           "name": "Delivered to Consumers",
           "orientation": "v",
           "showlegend": true,
           "textposition": "auto",
           "type": "bar",
           "x": [
            "Delivered to Consumers"
           ],
           "xaxis": "x",
           "y": {
            "bdata": "ngA=",
            "dtype": "i2"
           },
           "yaxis": "y"
          },
          {
           "hovertemplate": "Process Type=%{x}<br>month_period_str=2023-01<br>Cumulative Count=%{y}<extra></extra>",
           "legendgroup": "Industrial Consumption",
           "marker": {
            "color": "#00cc96",
            "pattern": {
             "shape": ""
            }
           },
           "name": "Industrial Consumption",
           "orientation": "v",
           "showlegend": true,
           "textposition": "auto",
           "type": "bar",
           "x": [
            "Industrial Consumption"
           ],
           "xaxis": "x",
           "y": {
            "bdata": "Ug==",
            "dtype": "i1"
           },
           "yaxis": "y"
          },
          {
           "hovertemplate": "Process Type=%{x}<br>month_period_str=2023-01<br>Cumulative Count=%{y}<extra></extra>",
           "legendgroup": "Residential Consumption",
           "marker": {
            "color": "#ab63fa",
            "pattern": {
             "shape": ""
            }
           },
           "name": "Residential Consumption",
           "orientation": "v",
           "showlegend": true,
           "textposition": "auto",
           "type": "bar",
           "x": [
            "Residential Consumption"
           ],
           "xaxis": "x",
           "y": {
            "bdata": "mQA=",
            "dtype": "i2"
           },
           "yaxis": "y"
          },
          {
           "hovertemplate": "Process Type=%{x}<br>month_period_str=2023-01<br>Cumulative Count=%{y}<extra></extra>",
           "legendgroup": "Vehicle Fuel Consumption",
           "marker": {
            "color": "#FFA15A",
            "pattern": {
             "shape": ""
            }
           },
           "name": "Vehicle Fuel Consumption",
           "orientation": "v",
           "showlegend": true,
           "textposition": "auto",
           "type": "bar",
           "x": [
            "Vehicle Fuel Consumption"
           ],
           "xaxis": "x",
           "y": {
            "bdata": "mwA=",
            "dtype": "i2"
           },
           "yaxis": "y"
          },
          {
           "hovertemplate": "Process Type=%{x}<br>month_period_str=2023-01<br>Cumulative Count=%{y}<extra></extra>",
           "legendgroup": "Electric Power Consumption",
           "marker": {
            "color": "#19d3f3",
            "pattern": {
             "shape": ""
            }
           },
           "name": "Electric Power Consumption",
           "orientation": "v",
           "showlegend": true,
           "textposition": "auto",
           "type": "bar",
           "x": [
            "Electric Power Consumption"
           ],
           "xaxis": "x",
           "y": {
            "bdata": "JA==",
            "dtype": "i1"
           },
           "yaxis": "y"
          }
         ],
         "name": "2023-01"
        },
        {
         "data": [
          {
           "hovertemplate": "Process Type=%{x}<br>month_period_str=2023-02<br>Cumulative Count=%{y}<extra></extra>",
           "legendgroup": "Commercial Consumption",
           "marker": {
            "color": "#636efa",
            "pattern": {
             "shape": ""
            }
           },
           "name": "Commercial Consumption",
           "orientation": "v",
           "showlegend": true,
           "textposition": "auto",
           "type": "bar",
           "x": [
            "Commercial Consumption"
           ],
           "xaxis": "x",
           "y": {
            "bdata": "nwA=",
            "dtype": "i2"
           },
           "yaxis": "y"
          },
          {
           "hovertemplate": "Process Type=%{x}<br>month_period_str=2023-02<br>Cumulative Count=%{y}<extra></extra>",
           "legendgroup": "Delivered to Consumers",
           "marker": {
            "color": "#EF553B",
            "pattern": {
             "shape": ""
            }
           },
           "name": "Delivered to Consumers",
           "orientation": "v",
           "showlegend": true,
           "textposition": "auto",
           "type": "bar",
           "x": [
            "Delivered to Consumers"
           ],
           "xaxis": "x",
           "y": {
            "bdata": "nwA=",
            "dtype": "i2"
           },
           "yaxis": "y"
          },
          {
           "hovertemplate": "Process Type=%{x}<br>month_period_str=2023-02<br>Cumulative Count=%{y}<extra></extra>",
           "legendgroup": "Industrial Consumption",
           "marker": {
            "color": "#00cc96",
            "pattern": {
             "shape": ""
            }
           },
           "name": "Industrial Consumption",
           "orientation": "v",
           "showlegend": true,
           "textposition": "auto",
           "type": "bar",
           "x": [
            "Industrial Consumption"
           ],
           "xaxis": "x",
           "y": {
            "bdata": "Uw==",
            "dtype": "i1"
           },
           "yaxis": "y"
          },
          {
           "hovertemplate": "Process Type=%{x}<br>month_period_str=2023-02<br>Cumulative Count=%{y}<extra></extra>",
           "legendgroup": "Residential Consumption",
           "marker": {
            "color": "#ab63fa",
            "pattern": {
             "shape": ""
            }
           },
           "name": "Residential Consumption",
           "orientation": "v",
           "showlegend": true,
           "textposition": "auto",
           "type": "bar",
           "x": [
            "Residential Consumption"
           ],
           "xaxis": "x",
           "y": {
            "bdata": "mgA=",
            "dtype": "i2"
           },
           "yaxis": "y"
          },
          {
           "hovertemplate": "Process Type=%{x}<br>month_period_str=2023-02<br>Cumulative Count=%{y}<extra></extra>",
           "legendgroup": "Vehicle Fuel Consumption",
           "marker": {
            "color": "#FFA15A",
            "pattern": {
             "shape": ""
            }
           },
           "name": "Vehicle Fuel Consumption",
           "orientation": "v",
           "showlegend": true,
           "textposition": "auto",
           "type": "bar",
           "x": [
            "Vehicle Fuel Consumption"
           ],
           "xaxis": "x",
           "y": {
            "bdata": "nAA=",
            "dtype": "i2"
           },
           "yaxis": "y"
          },
          {
           "hovertemplate": "Process Type=%{x}<br>month_period_str=2023-02<br>Cumulative Count=%{y}<extra></extra>",
           "legendgroup": "Electric Power Consumption",
           "marker": {
            "color": "#19d3f3",
            "pattern": {
             "shape": ""
            }
           },
           "name": "Electric Power Consumption",
           "orientation": "v",
           "showlegend": true,
           "textposition": "auto",
           "type": "bar",
           "x": [
            "Electric Power Consumption"
           ],
           "xaxis": "x",
           "y": {
            "bdata": "JA==",
            "dtype": "i1"
           },
           "yaxis": "y"
          }
         ],
         "name": "2023-02"
        },
        {
         "data": [
          {
           "hovertemplate": "Process Type=%{x}<br>month_period_str=2023-03<br>Cumulative Count=%{y}<extra></extra>",
           "legendgroup": "Commercial Consumption",
           "marker": {
            "color": "#636efa",
            "pattern": {
             "shape": ""
            }
           },
           "name": "Commercial Consumption",
           "orientation": "v",
           "showlegend": true,
           "textposition": "auto",
           "type": "bar",
           "x": [
            "Commercial Consumption"
           ],
           "xaxis": "x",
           "y": {
            "bdata": "oAA=",
            "dtype": "i2"
           },
           "yaxis": "y"
          },
          {
           "hovertemplate": "Process Type=%{x}<br>month_period_str=2023-03<br>Cumulative Count=%{y}<extra></extra>",
           "legendgroup": "Delivered to Consumers",
           "marker": {
            "color": "#EF553B",
            "pattern": {
             "shape": ""
            }
           },
           "name": "Delivered to Consumers",
           "orientation": "v",
           "showlegend": true,
           "textposition": "auto",
           "type": "bar",
           "x": [
            "Delivered to Consumers"
           ],
           "xaxis": "x",
           "y": {
            "bdata": "oAA=",
            "dtype": "i2"
           },
           "yaxis": "y"
          },
          {
           "hovertemplate": "Process Type=%{x}<br>month_period_str=2023-03<br>Cumulative Count=%{y}<extra></extra>",
           "legendgroup": "Industrial Consumption",
           "marker": {
            "color": "#00cc96",
            "pattern": {
             "shape": ""
            }
           },
           "name": "Industrial Consumption",
           "orientation": "v",
           "showlegend": true,
           "textposition": "auto",
           "type": "bar",
           "x": [
            "Industrial Consumption"
           ],
           "xaxis": "x",
           "y": {
            "bdata": "VA==",
            "dtype": "i1"
           },
           "yaxis": "y"
          },
          {
           "hovertemplate": "Process Type=%{x}<br>month_period_str=2023-03<br>Cumulative Count=%{y}<extra></extra>",
           "legendgroup": "Residential Consumption",
           "marker": {
            "color": "#ab63fa",
            "pattern": {
             "shape": ""
            }
           },
           "name": "Residential Consumption",
           "orientation": "v",
           "showlegend": true,
           "textposition": "auto",
           "type": "bar",
           "x": [
            "Residential Consumption"
           ],
           "xaxis": "x",
           "y": {
            "bdata": "mwA=",
            "dtype": "i2"
           },
           "yaxis": "y"
          },
          {
           "hovertemplate": "Process Type=%{x}<br>month_period_str=2023-03<br>Cumulative Count=%{y}<extra></extra>",
           "legendgroup": "Vehicle Fuel Consumption",
           "marker": {
            "color": "#FFA15A",
            "pattern": {
             "shape": ""
            }
           },
           "name": "Vehicle Fuel Consumption",
           "orientation": "v",
           "showlegend": true,
           "textposition": "auto",
           "type": "bar",
           "x": [
            "Vehicle Fuel Consumption"
           ],
           "xaxis": "x",
           "y": {
            "bdata": "nQA=",
            "dtype": "i2"
           },
           "yaxis": "y"
          },
          {
           "hovertemplate": "Process Type=%{x}<br>month_period_str=2023-03<br>Cumulative Count=%{y}<extra></extra>",
           "legendgroup": "Electric Power Consumption",
           "marker": {
            "color": "#19d3f3",
            "pattern": {
             "shape": ""
            }
           },
           "name": "Electric Power Consumption",
           "orientation": "v",
           "showlegend": true,
           "textposition": "auto",
           "type": "bar",
           "x": [
            "Electric Power Consumption"
           ],
           "xaxis": "x",
           "y": {
            "bdata": "JA==",
            "dtype": "i1"
           },
           "yaxis": "y"
          }
         ],
         "name": "2023-03"
        },
        {
         "data": [
          {
           "hovertemplate": "Process Type=%{x}<br>month_period_str=2023-04<br>Cumulative Count=%{y}<extra></extra>",
           "legendgroup": "Commercial Consumption",
           "marker": {
            "color": "#636efa",
            "pattern": {
             "shape": ""
            }
           },
           "name": "Commercial Consumption",
           "orientation": "v",
           "showlegend": true,
           "textposition": "auto",
           "type": "bar",
           "x": [
            "Commercial Consumption"
           ],
           "xaxis": "x",
           "y": {
            "bdata": "oQA=",
            "dtype": "i2"
           },
           "yaxis": "y"
          },
          {
           "hovertemplate": "Process Type=%{x}<br>month_period_str=2023-04<br>Cumulative Count=%{y}<extra></extra>",
           "legendgroup": "Delivered to Consumers",
           "marker": {
            "color": "#EF553B",
            "pattern": {
             "shape": ""
            }
           },
           "name": "Delivered to Consumers",
           "orientation": "v",
           "showlegend": true,
           "textposition": "auto",
           "type": "bar",
           "x": [
            "Delivered to Consumers"
           ],
           "xaxis": "x",
           "y": {
            "bdata": "oAA=",
            "dtype": "i2"
           },
           "yaxis": "y"
          },
          {
           "hovertemplate": "Process Type=%{x}<br>month_period_str=2023-04<br>Cumulative Count=%{y}<extra></extra>",
           "legendgroup": "Industrial Consumption",
           "marker": {
            "color": "#00cc96",
            "pattern": {
             "shape": ""
            }
           },
           "name": "Industrial Consumption",
           "orientation": "v",
           "showlegend": true,
           "textposition": "auto",
           "type": "bar",
           "x": [
            "Industrial Consumption"
           ],
           "xaxis": "x",
           "y": {
            "bdata": "Vg==",
            "dtype": "i1"
           },
           "yaxis": "y"
          },
          {
           "hovertemplate": "Process Type=%{x}<br>month_period_str=2023-04<br>Cumulative Count=%{y}<extra></extra>",
           "legendgroup": "Residential Consumption",
           "marker": {
            "color": "#ab63fa",
            "pattern": {
             "shape": ""
            }
           },
           "name": "Residential Consumption",
           "orientation": "v",
           "showlegend": true,
           "textposition": "auto",
           "type": "bar",
           "x": [
            "Residential Consumption"
           ],
           "xaxis": "x",
           "y": {
            "bdata": "mwA=",
            "dtype": "i2"
           },
           "yaxis": "y"
          },
          {
           "hovertemplate": "Process Type=%{x}<br>month_period_str=2023-04<br>Cumulative Count=%{y}<extra></extra>",
           "legendgroup": "Vehicle Fuel Consumption",
           "marker": {
            "color": "#FFA15A",
            "pattern": {
             "shape": ""
            }
           },
           "name": "Vehicle Fuel Consumption",
           "orientation": "v",
           "showlegend": true,
           "textposition": "auto",
           "type": "bar",
           "x": [
            "Vehicle Fuel Consumption"
           ],
           "xaxis": "x",
           "y": {
            "bdata": "ngA=",
            "dtype": "i2"
           },
           "yaxis": "y"
          },
          {
           "hovertemplate": "Process Type=%{x}<br>month_period_str=2023-04<br>Cumulative Count=%{y}<extra></extra>",
           "legendgroup": "Electric Power Consumption",
           "marker": {
            "color": "#19d3f3",
            "pattern": {
             "shape": ""
            }
           },
           "name": "Electric Power Consumption",
           "orientation": "v",
           "showlegend": true,
           "textposition": "auto",
           "type": "bar",
           "x": [
            "Electric Power Consumption"
           ],
           "xaxis": "x",
           "y": {
            "bdata": "JA==",
            "dtype": "i1"
           },
           "yaxis": "y"
          }
         ],
         "name": "2023-04"
        },
        {
         "data": [
          {
           "hovertemplate": "Process Type=%{x}<br>month_period_str=2023-05<br>Cumulative Count=%{y}<extra></extra>",
           "legendgroup": "Commercial Consumption",
           "marker": {
            "color": "#636efa",
            "pattern": {
             "shape": ""
            }
           },
           "name": "Commercial Consumption",
           "orientation": "v",
           "showlegend": true,
           "textposition": "auto",
           "type": "bar",
           "x": [
            "Commercial Consumption"
           ],
           "xaxis": "x",
           "y": {
            "bdata": "ogA=",
            "dtype": "i2"
           },
           "yaxis": "y"
          },
          {
           "hovertemplate": "Process Type=%{x}<br>month_period_str=2023-05<br>Cumulative Count=%{y}<extra></extra>",
           "legendgroup": "Delivered to Consumers",
           "marker": {
            "color": "#EF553B",
            "pattern": {
             "shape": ""
            }
           },
           "name": "Delivered to Consumers",
           "orientation": "v",
           "showlegend": true,
           "textposition": "auto",
           "type": "bar",
           "x": [
            "Delivered to Consumers"
           ],
           "xaxis": "x",
           "y": {
            "bdata": "oQA=",
            "dtype": "i2"
           },
           "yaxis": "y"
          },
          {
           "hovertemplate": "Process Type=%{x}<br>month_period_str=2023-05<br>Cumulative Count=%{y}<extra></extra>",
           "legendgroup": "Industrial Consumption",
           "marker": {
            "color": "#00cc96",
            "pattern": {
             "shape": ""
            }
           },
           "name": "Industrial Consumption",
           "orientation": "v",
           "showlegend": true,
           "textposition": "auto",
           "type": "bar",
           "x": [
            "Industrial Consumption"
           ],
           "xaxis": "x",
           "y": {
            "bdata": "Vw==",
            "dtype": "i1"
           },
           "yaxis": "y"
          },
          {
           "hovertemplate": "Process Type=%{x}<br>month_period_str=2023-05<br>Cumulative Count=%{y}<extra></extra>",
           "legendgroup": "Residential Consumption",
           "marker": {
            "color": "#ab63fa",
            "pattern": {
             "shape": ""
            }
           },
           "name": "Residential Consumption",
           "orientation": "v",
           "showlegend": true,
           "textposition": "auto",
           "type": "bar",
           "x": [
            "Residential Consumption"
           ],
           "xaxis": "x",
           "y": {
            "bdata": "nAA=",
            "dtype": "i2"
           },
           "yaxis": "y"
          },
          {
           "hovertemplate": "Process Type=%{x}<br>month_period_str=2023-05<br>Cumulative Count=%{y}<extra></extra>",
           "legendgroup": "Vehicle Fuel Consumption",
           "marker": {
            "color": "#FFA15A",
            "pattern": {
             "shape": ""
            }
           },
           "name": "Vehicle Fuel Consumption",
           "orientation": "v",
           "showlegend": true,
           "textposition": "auto",
           "type": "bar",
           "x": [
            "Vehicle Fuel Consumption"
           ],
           "xaxis": "x",
           "y": {
            "bdata": "nwA=",
            "dtype": "i2"
           },
           "yaxis": "y"
          },
          {
           "hovertemplate": "Process Type=%{x}<br>month_period_str=2023-05<br>Cumulative Count=%{y}<extra></extra>",
           "legendgroup": "Electric Power Consumption",
           "marker": {
            "color": "#19d3f3",
            "pattern": {
             "shape": ""
            }
           },
           "name": "Electric Power Consumption",
           "orientation": "v",
           "showlegend": true,
           "textposition": "auto",
           "type": "bar",
           "x": [
            "Electric Power Consumption"
           ],
           "xaxis": "x",
           "y": {
            "bdata": "JA==",
            "dtype": "i1"
           },
           "yaxis": "y"
          }
         ],
         "name": "2023-05"
        },
        {
         "data": [
          {
           "hovertemplate": "Process Type=%{x}<br>month_period_str=2023-06<br>Cumulative Count=%{y}<extra></extra>",
           "legendgroup": "Commercial Consumption",
           "marker": {
            "color": "#636efa",
            "pattern": {
             "shape": ""
            }
           },
           "name": "Commercial Consumption",
           "orientation": "v",
           "showlegend": true,
           "textposition": "auto",
           "type": "bar",
           "x": [
            "Commercial Consumption"
           ],
           "xaxis": "x",
           "y": {
            "bdata": "owA=",
            "dtype": "i2"
           },
           "yaxis": "y"
          },
          {
           "hovertemplate": "Process Type=%{x}<br>month_period_str=2023-06<br>Cumulative Count=%{y}<extra></extra>",
           "legendgroup": "Delivered to Consumers",
           "marker": {
            "color": "#EF553B",
            "pattern": {
             "shape": ""
            }
           },
           "name": "Delivered to Consumers",
           "orientation": "v",
           "showlegend": true,
           "textposition": "auto",
           "type": "bar",
           "x": [
            "Delivered to Consumers"
           ],
           "xaxis": "x",
           "y": {
            "bdata": "ogA=",
            "dtype": "i2"
           },
           "yaxis": "y"
          },
          {
           "hovertemplate": "Process Type=%{x}<br>month_period_str=2023-06<br>Cumulative Count=%{y}<extra></extra>",
           "legendgroup": "Industrial Consumption",
           "marker": {
            "color": "#00cc96",
            "pattern": {
             "shape": ""
            }
           },
           "name": "Industrial Consumption",
           "orientation": "v",
           "showlegend": true,
           "textposition": "auto",
           "type": "bar",
           "x": [
            "Industrial Consumption"
           ],
           "xaxis": "x",
           "y": {
            "bdata": "WA==",
            "dtype": "i1"
           },
           "yaxis": "y"
          },
          {
           "hovertemplate": "Process Type=%{x}<br>month_period_str=2023-06<br>Cumulative Count=%{y}<extra></extra>",
           "legendgroup": "Residential Consumption",
           "marker": {
            "color": "#ab63fa",
            "pattern": {
             "shape": ""
            }
           },
           "name": "Residential Consumption",
           "orientation": "v",
           "showlegend": true,
           "textposition": "auto",
           "type": "bar",
           "x": [
            "Residential Consumption"
           ],
           "xaxis": "x",
           "y": {
            "bdata": "nQA=",
            "dtype": "i2"
           },
           "yaxis": "y"
          },
          {
           "hovertemplate": "Process Type=%{x}<br>month_period_str=2023-06<br>Cumulative Count=%{y}<extra></extra>",
           "legendgroup": "Vehicle Fuel Consumption",
           "marker": {
            "color": "#FFA15A",
            "pattern": {
             "shape": ""
            }
           },
           "name": "Vehicle Fuel Consumption",
           "orientation": "v",
           "showlegend": true,
           "textposition": "auto",
           "type": "bar",
           "x": [
            "Vehicle Fuel Consumption"
           ],
           "xaxis": "x",
           "y": {
            "bdata": "oAA=",
            "dtype": "i2"
           },
           "yaxis": "y"
          },
          {
           "hovertemplate": "Process Type=%{x}<br>month_period_str=2023-06<br>Cumulative Count=%{y}<extra></extra>",
           "legendgroup": "Electric Power Consumption",
           "marker": {
            "color": "#19d3f3",
            "pattern": {
             "shape": ""
            }
           },
           "name": "Electric Power Consumption",
           "orientation": "v",
           "showlegend": true,
           "textposition": "auto",
           "type": "bar",
           "x": [
            "Electric Power Consumption"
           ],
           "xaxis": "x",
           "y": {
            "bdata": "JA==",
            "dtype": "i1"
           },
           "yaxis": "y"
          }
         ],
         "name": "2023-06"
        },
        {
         "data": [
          {
           "hovertemplate": "Process Type=%{x}<br>month_period_str=2023-07<br>Cumulative Count=%{y}<extra></extra>",
           "legendgroup": "Commercial Consumption",
           "marker": {
            "color": "#636efa",
            "pattern": {
             "shape": ""
            }
           },
           "name": "Commercial Consumption",
           "orientation": "v",
           "showlegend": true,
           "textposition": "auto",
           "type": "bar",
           "x": [
            "Commercial Consumption"
           ],
           "xaxis": "x",
           "y": {
            "bdata": "pAA=",
            "dtype": "i2"
           },
           "yaxis": "y"
          },
          {
           "hovertemplate": "Process Type=%{x}<br>month_period_str=2023-07<br>Cumulative Count=%{y}<extra></extra>",
           "legendgroup": "Delivered to Consumers",
           "marker": {
            "color": "#EF553B",
            "pattern": {
             "shape": ""
            }
           },
           "name": "Delivered to Consumers",
           "orientation": "v",
           "showlegend": true,
           "textposition": "auto",
           "type": "bar",
           "x": [
            "Delivered to Consumers"
           ],
           "xaxis": "x",
           "y": {
            "bdata": "owA=",
            "dtype": "i2"
           },
           "yaxis": "y"
          },
          {
           "hovertemplate": "Process Type=%{x}<br>month_period_str=2023-07<br>Cumulative Count=%{y}<extra></extra>",
           "legendgroup": "Industrial Consumption",
           "marker": {
            "color": "#00cc96",
            "pattern": {
             "shape": ""
            }
           },
           "name": "Industrial Consumption",
           "orientation": "v",
           "showlegend": true,
           "textposition": "auto",
           "type": "bar",
           "x": [
            "Industrial Consumption"
           ],
           "xaxis": "x",
           "y": {
            "bdata": "WQ==",
            "dtype": "i1"
           },
           "yaxis": "y"
          },
          {
           "hovertemplate": "Process Type=%{x}<br>month_period_str=2023-07<br>Cumulative Count=%{y}<extra></extra>",
           "legendgroup": "Residential Consumption",
           "marker": {
            "color": "#ab63fa",
            "pattern": {
             "shape": ""
            }
           },
           "name": "Residential Consumption",
           "orientation": "v",
           "showlegend": true,
           "textposition": "auto",
           "type": "bar",
           "x": [
            "Residential Consumption"
           ],
           "xaxis": "x",
           "y": {
            "bdata": "ngA=",
            "dtype": "i2"
           },
           "yaxis": "y"
          },
          {
           "hovertemplate": "Process Type=%{x}<br>month_period_str=2023-07<br>Cumulative Count=%{y}<extra></extra>",
           "legendgroup": "Vehicle Fuel Consumption",
           "marker": {
            "color": "#FFA15A",
            "pattern": {
             "shape": ""
            }
           },
           "name": "Vehicle Fuel Consumption",
           "orientation": "v",
           "showlegend": true,
           "textposition": "auto",
           "type": "bar",
           "x": [
            "Vehicle Fuel Consumption"
           ],
           "xaxis": "x",
           "y": {
            "bdata": "oQA=",
            "dtype": "i2"
           },
           "yaxis": "y"
          },
          {
           "hovertemplate": "Process Type=%{x}<br>month_period_str=2023-07<br>Cumulative Count=%{y}<extra></extra>",
           "legendgroup": "Electric Power Consumption",
           "marker": {
            "color": "#19d3f3",
            "pattern": {
             "shape": ""
            }
           },
           "name": "Electric Power Consumption",
           "orientation": "v",
           "showlegend": true,
           "textposition": "auto",
           "type": "bar",
           "x": [
            "Electric Power Consumption"
           ],
           "xaxis": "x",
           "y": {
            "bdata": "JA==",
            "dtype": "i1"
           },
           "yaxis": "y"
          }
         ],
         "name": "2023-07"
        },
        {
         "data": [
          {
           "hovertemplate": "Process Type=%{x}<br>month_period_str=2023-08<br>Cumulative Count=%{y}<extra></extra>",
           "legendgroup": "Commercial Consumption",
           "marker": {
            "color": "#636efa",
            "pattern": {
             "shape": ""
            }
           },
           "name": "Commercial Consumption",
           "orientation": "v",
           "showlegend": true,
           "textposition": "auto",
           "type": "bar",
           "x": [
            "Commercial Consumption"
           ],
           "xaxis": "x",
           "y": {
            "bdata": "pQA=",
            "dtype": "i2"
           },
           "yaxis": "y"
          },
          {
           "hovertemplate": "Process Type=%{x}<br>month_period_str=2023-08<br>Cumulative Count=%{y}<extra></extra>",
           "legendgroup": "Delivered to Consumers",
           "marker": {
            "color": "#EF553B",
            "pattern": {
             "shape": ""
            }
           },
           "name": "Delivered to Consumers",
           "orientation": "v",
           "showlegend": true,
           "textposition": "auto",
           "type": "bar",
           "x": [
            "Delivered to Consumers"
           ],
           "xaxis": "x",
           "y": {
            "bdata": "pAA=",
            "dtype": "i2"
           },
           "yaxis": "y"
          },
          {
           "hovertemplate": "Process Type=%{x}<br>month_period_str=2023-08<br>Cumulative Count=%{y}<extra></extra>",
           "legendgroup": "Industrial Consumption",
           "marker": {
            "color": "#00cc96",
            "pattern": {
             "shape": ""
            }
           },
           "name": "Industrial Consumption",
           "orientation": "v",
           "showlegend": true,
           "textposition": "auto",
           "type": "bar",
           "x": [
            "Industrial Consumption"
           ],
           "xaxis": "x",
           "y": {
            "bdata": "Wg==",
            "dtype": "i1"
           },
           "yaxis": "y"
          },
          {
           "hovertemplate": "Process Type=%{x}<br>month_period_str=2023-08<br>Cumulative Count=%{y}<extra></extra>",
           "legendgroup": "Residential Consumption",
           "marker": {
            "color": "#ab63fa",
            "pattern": {
             "shape": ""
            }
           },
           "name": "Residential Consumption",
           "orientation": "v",
           "showlegend": true,
           "textposition": "auto",
           "type": "bar",
           "x": [
            "Residential Consumption"
           ],
           "xaxis": "x",
           "y": {
            "bdata": "nwA=",
            "dtype": "i2"
           },
           "yaxis": "y"
          },
          {
           "hovertemplate": "Process Type=%{x}<br>month_period_str=2023-08<br>Cumulative Count=%{y}<extra></extra>",
           "legendgroup": "Vehicle Fuel Consumption",
           "marker": {
            "color": "#FFA15A",
            "pattern": {
             "shape": ""
            }
           },
           "name": "Vehicle Fuel Consumption",
           "orientation": "v",
           "showlegend": true,
           "textposition": "auto",
           "type": "bar",
           "x": [
            "Vehicle Fuel Consumption"
           ],
           "xaxis": "x",
           "y": {
            "bdata": "ogA=",
            "dtype": "i2"
           },
           "yaxis": "y"
          },
          {
           "hovertemplate": "Process Type=%{x}<br>month_period_str=2023-08<br>Cumulative Count=%{y}<extra></extra>",
           "legendgroup": "Electric Power Consumption",
           "marker": {
            "color": "#19d3f3",
            "pattern": {
             "shape": ""
            }
           },
           "name": "Electric Power Consumption",
           "orientation": "v",
           "showlegend": true,
           "textposition": "auto",
           "type": "bar",
           "x": [
            "Electric Power Consumption"
           ],
           "xaxis": "x",
           "y": {
            "bdata": "JA==",
            "dtype": "i1"
           },
           "yaxis": "y"
          }
         ],
         "name": "2023-08"
        },
        {
         "data": [
          {
           "hovertemplate": "Process Type=%{x}<br>month_period_str=2023-09<br>Cumulative Count=%{y}<extra></extra>",
           "legendgroup": "Commercial Consumption",
           "marker": {
            "color": "#636efa",
            "pattern": {
             "shape": ""
            }
           },
           "name": "Commercial Consumption",
           "orientation": "v",
           "showlegend": true,
           "textposition": "auto",
           "type": "bar",
           "x": [
            "Commercial Consumption"
           ],
           "xaxis": "x",
           "y": {
            "bdata": "pgA=",
            "dtype": "i2"
           },
           "yaxis": "y"
          },
          {
           "hovertemplate": "Process Type=%{x}<br>month_period_str=2023-09<br>Cumulative Count=%{y}<extra></extra>",
           "legendgroup": "Delivered to Consumers",
           "marker": {
            "color": "#EF553B",
            "pattern": {
             "shape": ""
            }
           },
           "name": "Delivered to Consumers",
           "orientation": "v",
           "showlegend": true,
           "textposition": "auto",
           "type": "bar",
           "x": [
            "Delivered to Consumers"
           ],
           "xaxis": "x",
           "y": {
            "bdata": "pQA=",
            "dtype": "i2"
           },
           "yaxis": "y"
          },
          {
           "hovertemplate": "Process Type=%{x}<br>month_period_str=2023-09<br>Cumulative Count=%{y}<extra></extra>",
           "legendgroup": "Industrial Consumption",
           "marker": {
            "color": "#00cc96",
            "pattern": {
             "shape": ""
            }
           },
           "name": "Industrial Consumption",
           "orientation": "v",
           "showlegend": true,
           "textposition": "auto",
           "type": "bar",
           "x": [
            "Industrial Consumption"
           ],
           "xaxis": "x",
           "y": {
            "bdata": "Ww==",
            "dtype": "i1"
           },
           "yaxis": "y"
          },
          {
           "hovertemplate": "Process Type=%{x}<br>month_period_str=2023-09<br>Cumulative Count=%{y}<extra></extra>",
           "legendgroup": "Residential Consumption",
           "marker": {
            "color": "#ab63fa",
            "pattern": {
             "shape": ""
            }
           },
           "name": "Residential Consumption",
           "orientation": "v",
           "showlegend": true,
           "textposition": "auto",
           "type": "bar",
           "x": [
            "Residential Consumption"
           ],
           "xaxis": "x",
           "y": {
            "bdata": "oAA=",
            "dtype": "i2"
           },
           "yaxis": "y"
          },
          {
           "hovertemplate": "Process Type=%{x}<br>month_period_str=2023-09<br>Cumulative Count=%{y}<extra></extra>",
           "legendgroup": "Vehicle Fuel Consumption",
           "marker": {
            "color": "#FFA15A",
            "pattern": {
             "shape": ""
            }
           },
           "name": "Vehicle Fuel Consumption",
           "orientation": "v",
           "showlegend": true,
           "textposition": "auto",
           "type": "bar",
           "x": [
            "Vehicle Fuel Consumption"
           ],
           "xaxis": "x",
           "y": {
            "bdata": "owA=",
            "dtype": "i2"
           },
           "yaxis": "y"
          },
          {
           "hovertemplate": "Process Type=%{x}<br>month_period_str=2023-09<br>Cumulative Count=%{y}<extra></extra>",
           "legendgroup": "Electric Power Consumption",
           "marker": {
            "color": "#19d3f3",
            "pattern": {
             "shape": ""
            }
           },
           "name": "Electric Power Consumption",
           "orientation": "v",
           "showlegend": true,
           "textposition": "auto",
           "type": "bar",
           "x": [
            "Electric Power Consumption"
           ],
           "xaxis": "x",
           "y": {
            "bdata": "JA==",
            "dtype": "i1"
           },
           "yaxis": "y"
          }
         ],
         "name": "2023-09"
        },
        {
         "data": [
          {
           "hovertemplate": "Process Type=%{x}<br>month_period_str=2023-10<br>Cumulative Count=%{y}<extra></extra>",
           "legendgroup": "Commercial Consumption",
           "marker": {
            "color": "#636efa",
            "pattern": {
             "shape": ""
            }
           },
           "name": "Commercial Consumption",
           "orientation": "v",
           "showlegend": true,
           "textposition": "auto",
           "type": "bar",
           "x": [
            "Commercial Consumption"
           ],
           "xaxis": "x",
           "y": {
            "bdata": "pwA=",
            "dtype": "i2"
           },
           "yaxis": "y"
          },
          {
           "hovertemplate": "Process Type=%{x}<br>month_period_str=2023-10<br>Cumulative Count=%{y}<extra></extra>",
           "legendgroup": "Delivered to Consumers",
           "marker": {
            "color": "#EF553B",
            "pattern": {
             "shape": ""
            }
           },
           "name": "Delivered to Consumers",
           "orientation": "v",
           "showlegend": true,
           "textposition": "auto",
           "type": "bar",
           "x": [
            "Delivered to Consumers"
           ],
           "xaxis": "x",
           "y": {
            "bdata": "pgA=",
            "dtype": "i2"
           },
           "yaxis": "y"
          },
          {
           "hovertemplate": "Process Type=%{x}<br>month_period_str=2023-10<br>Cumulative Count=%{y}<extra></extra>",
           "legendgroup": "Industrial Consumption",
           "marker": {
            "color": "#00cc96",
            "pattern": {
             "shape": ""
            }
           },
           "name": "Industrial Consumption",
           "orientation": "v",
           "showlegend": true,
           "textposition": "auto",
           "type": "bar",
           "x": [
            "Industrial Consumption"
           ],
           "xaxis": "x",
           "y": {
            "bdata": "XA==",
            "dtype": "i1"
           },
           "yaxis": "y"
          },
          {
           "hovertemplate": "Process Type=%{x}<br>month_period_str=2023-10<br>Cumulative Count=%{y}<extra></extra>",
           "legendgroup": "Residential Consumption",
           "marker": {
            "color": "#ab63fa",
            "pattern": {
             "shape": ""
            }
           },
           "name": "Residential Consumption",
           "orientation": "v",
           "showlegend": true,
           "textposition": "auto",
           "type": "bar",
           "x": [
            "Residential Consumption"
           ],
           "xaxis": "x",
           "y": {
            "bdata": "oQA=",
            "dtype": "i2"
           },
           "yaxis": "y"
          },
          {
           "hovertemplate": "Process Type=%{x}<br>month_period_str=2023-10<br>Cumulative Count=%{y}<extra></extra>",
           "legendgroup": "Vehicle Fuel Consumption",
           "marker": {
            "color": "#FFA15A",
            "pattern": {
             "shape": ""
            }
           },
           "name": "Vehicle Fuel Consumption",
           "orientation": "v",
           "showlegend": true,
           "textposition": "auto",
           "type": "bar",
           "x": [
            "Vehicle Fuel Consumption"
           ],
           "xaxis": "x",
           "y": {
            "bdata": "pAA=",
            "dtype": "i2"
           },
           "yaxis": "y"
          },
          {
           "hovertemplate": "Process Type=%{x}<br>month_period_str=2023-10<br>Cumulative Count=%{y}<extra></extra>",
           "legendgroup": "Electric Power Consumption",
           "marker": {
            "color": "#19d3f3",
            "pattern": {
             "shape": ""
            }
           },
           "name": "Electric Power Consumption",
           "orientation": "v",
           "showlegend": true,
           "textposition": "auto",
           "type": "bar",
           "x": [
            "Electric Power Consumption"
           ],
           "xaxis": "x",
           "y": {
            "bdata": "JA==",
            "dtype": "i1"
           },
           "yaxis": "y"
          }
         ],
         "name": "2023-10"
        },
        {
         "data": [
          {
           "hovertemplate": "Process Type=%{x}<br>month_period_str=2023-11<br>Cumulative Count=%{y}<extra></extra>",
           "legendgroup": "Commercial Consumption",
           "marker": {
            "color": "#636efa",
            "pattern": {
             "shape": ""
            }
           },
           "name": "Commercial Consumption",
           "orientation": "v",
           "showlegend": true,
           "textposition": "auto",
           "type": "bar",
           "x": [
            "Commercial Consumption"
           ],
           "xaxis": "x",
           "y": {
            "bdata": "qAA=",
            "dtype": "i2"
           },
           "yaxis": "y"
          },
          {
           "hovertemplate": "Process Type=%{x}<br>month_period_str=2023-11<br>Cumulative Count=%{y}<extra></extra>",
           "legendgroup": "Delivered to Consumers",
           "marker": {
            "color": "#EF553B",
            "pattern": {
             "shape": ""
            }
           },
           "name": "Delivered to Consumers",
           "orientation": "v",
           "showlegend": true,
           "textposition": "auto",
           "type": "bar",
           "x": [
            "Delivered to Consumers"
           ],
           "xaxis": "x",
           "y": {
            "bdata": "pwA=",
            "dtype": "i2"
           },
           "yaxis": "y"
          },
          {
           "hovertemplate": "Process Type=%{x}<br>month_period_str=2023-11<br>Cumulative Count=%{y}<extra></extra>",
           "legendgroup": "Industrial Consumption",
           "marker": {
            "color": "#00cc96",
            "pattern": {
             "shape": ""
            }
           },
           "name": "Industrial Consumption",
           "orientation": "v",
           "showlegend": true,
           "textposition": "auto",
           "type": "bar",
           "x": [
            "Industrial Consumption"
           ],
           "xaxis": "x",
           "y": {
            "bdata": "XQ==",
            "dtype": "i1"
           },
           "yaxis": "y"
          },
          {
           "hovertemplate": "Process Type=%{x}<br>month_period_str=2023-11<br>Cumulative Count=%{y}<extra></extra>",
           "legendgroup": "Residential Consumption",
           "marker": {
            "color": "#ab63fa",
            "pattern": {
             "shape": ""
            }
           },
           "name": "Residential Consumption",
           "orientation": "v",
           "showlegend": true,
           "textposition": "auto",
           "type": "bar",
           "x": [
            "Residential Consumption"
           ],
           "xaxis": "x",
           "y": {
            "bdata": "ogA=",
            "dtype": "i2"
           },
           "yaxis": "y"
          },
          {
           "hovertemplate": "Process Type=%{x}<br>month_period_str=2023-11<br>Cumulative Count=%{y}<extra></extra>",
           "legendgroup": "Vehicle Fuel Consumption",
           "marker": {
            "color": "#FFA15A",
            "pattern": {
             "shape": ""
            }
           },
           "name": "Vehicle Fuel Consumption",
           "orientation": "v",
           "showlegend": true,
           "textposition": "auto",
           "type": "bar",
           "x": [
            "Vehicle Fuel Consumption"
           ],
           "xaxis": "x",
           "y": {
            "bdata": "pQA=",
            "dtype": "i2"
           },
           "yaxis": "y"
          },
          {
           "hovertemplate": "Process Type=%{x}<br>month_period_str=2023-11<br>Cumulative Count=%{y}<extra></extra>",
           "legendgroup": "Electric Power Consumption",
           "marker": {
            "color": "#19d3f3",
            "pattern": {
             "shape": ""
            }
           },
           "name": "Electric Power Consumption",
           "orientation": "v",
           "showlegend": true,
           "textposition": "auto",
           "type": "bar",
           "x": [
            "Electric Power Consumption"
           ],
           "xaxis": "x",
           "y": {
            "bdata": "JA==",
            "dtype": "i1"
           },
           "yaxis": "y"
          }
         ],
         "name": "2023-11"
        },
        {
         "data": [
          {
           "hovertemplate": "Process Type=%{x}<br>month_period_str=2023-12<br>Cumulative Count=%{y}<extra></extra>",
           "legendgroup": "Commercial Consumption",
           "marker": {
            "color": "#636efa",
            "pattern": {
             "shape": ""
            }
           },
           "name": "Commercial Consumption",
           "orientation": "v",
           "showlegend": true,
           "textposition": "auto",
           "type": "bar",
           "x": [
            "Commercial Consumption"
           ],
           "xaxis": "x",
           "y": {
            "bdata": "qQA=",
            "dtype": "i2"
           },
           "yaxis": "y"
          },
          {
           "hovertemplate": "Process Type=%{x}<br>month_period_str=2023-12<br>Cumulative Count=%{y}<extra></extra>",
           "legendgroup": "Delivered to Consumers",
           "marker": {
            "color": "#EF553B",
            "pattern": {
             "shape": ""
            }
           },
           "name": "Delivered to Consumers",
           "orientation": "v",
           "showlegend": true,
           "textposition": "auto",
           "type": "bar",
           "x": [
            "Delivered to Consumers"
           ],
           "xaxis": "x",
           "y": {
            "bdata": "qAA=",
            "dtype": "i2"
           },
           "yaxis": "y"
          },
          {
           "hovertemplate": "Process Type=%{x}<br>month_period_str=2023-12<br>Cumulative Count=%{y}<extra></extra>",
           "legendgroup": "Industrial Consumption",
           "marker": {
            "color": "#00cc96",
            "pattern": {
             "shape": ""
            }
           },
           "name": "Industrial Consumption",
           "orientation": "v",
           "showlegend": true,
           "textposition": "auto",
           "type": "bar",
           "x": [
            "Industrial Consumption"
           ],
           "xaxis": "x",
           "y": {
            "bdata": "Xg==",
            "dtype": "i1"
           },
           "yaxis": "y"
          },
          {
           "hovertemplate": "Process Type=%{x}<br>month_period_str=2023-12<br>Cumulative Count=%{y}<extra></extra>",
           "legendgroup": "Residential Consumption",
           "marker": {
            "color": "#ab63fa",
            "pattern": {
             "shape": ""
            }
           },
           "name": "Residential Consumption",
           "orientation": "v",
           "showlegend": true,
           "textposition": "auto",
           "type": "bar",
           "x": [
            "Residential Consumption"
           ],
           "xaxis": "x",
           "y": {
            "bdata": "owA=",
            "dtype": "i2"
           },
           "yaxis": "y"
          },
          {
           "hovertemplate": "Process Type=%{x}<br>month_period_str=2023-12<br>Cumulative Count=%{y}<extra></extra>",
           "legendgroup": "Vehicle Fuel Consumption",
           "marker": {
            "color": "#FFA15A",
            "pattern": {
             "shape": ""
            }
           },
           "name": "Vehicle Fuel Consumption",
           "orientation": "v",
           "showlegend": true,
           "textposition": "auto",
           "type": "bar",
           "x": [
            "Vehicle Fuel Consumption"
           ],
           "xaxis": "x",
           "y": {
            "bdata": "pgA=",
            "dtype": "i2"
           },
           "yaxis": "y"
          },
          {
           "hovertemplate": "Process Type=%{x}<br>month_period_str=2023-12<br>Cumulative Count=%{y}<extra></extra>",
           "legendgroup": "Electric Power Consumption",
           "marker": {
            "color": "#19d3f3",
            "pattern": {
             "shape": ""
            }
           },
           "name": "Electric Power Consumption",
           "orientation": "v",
           "showlegend": true,
           "textposition": "auto",
           "type": "bar",
           "x": [
            "Electric Power Consumption"
           ],
           "xaxis": "x",
           "y": {
            "bdata": "JA==",
            "dtype": "i1"
           },
           "yaxis": "y"
          }
         ],
         "name": "2023-12"
        },
        {
         "data": [
          {
           "hovertemplate": "Process Type=%{x}<br>month_period_str=2024-01<br>Cumulative Count=%{y}<extra></extra>",
           "legendgroup": "Commercial Consumption",
           "marker": {
            "color": "#636efa",
            "pattern": {
             "shape": ""
            }
           },
           "name": "Commercial Consumption",
           "orientation": "v",
           "showlegend": true,
           "textposition": "auto",
           "type": "bar",
           "x": [
            "Commercial Consumption"
           ],
           "xaxis": "x",
           "y": {
            "bdata": "qgA=",
            "dtype": "i2"
           },
           "yaxis": "y"
          },
          {
           "hovertemplate": "Process Type=%{x}<br>month_period_str=2024-01<br>Cumulative Count=%{y}<extra></extra>",
           "legendgroup": "Delivered to Consumers",
           "marker": {
            "color": "#EF553B",
            "pattern": {
             "shape": ""
            }
           },
           "name": "Delivered to Consumers",
           "orientation": "v",
           "showlegend": true,
           "textposition": "auto",
           "type": "bar",
           "x": [
            "Delivered to Consumers"
           ],
           "xaxis": "x",
           "y": {
            "bdata": "qQA=",
            "dtype": "i2"
           },
           "yaxis": "y"
          },
          {
           "hovertemplate": "Process Type=%{x}<br>month_period_str=2024-01<br>Cumulative Count=%{y}<extra></extra>",
           "legendgroup": "Industrial Consumption",
           "marker": {
            "color": "#00cc96",
            "pattern": {
             "shape": ""
            }
           },
           "name": "Industrial Consumption",
           "orientation": "v",
           "showlegend": true,
           "textposition": "auto",
           "type": "bar",
           "x": [
            "Industrial Consumption"
           ],
           "xaxis": "x",
           "y": {
            "bdata": "Xw==",
            "dtype": "i1"
           },
           "yaxis": "y"
          },
          {
           "hovertemplate": "Process Type=%{x}<br>month_period_str=2024-01<br>Cumulative Count=%{y}<extra></extra>",
           "legendgroup": "Residential Consumption",
           "marker": {
            "color": "#ab63fa",
            "pattern": {
             "shape": ""
            }
           },
           "name": "Residential Consumption",
           "orientation": "v",
           "showlegend": true,
           "textposition": "auto",
           "type": "bar",
           "x": [
            "Residential Consumption"
           ],
           "xaxis": "x",
           "y": {
            "bdata": "pAA=",
            "dtype": "i2"
           },
           "yaxis": "y"
          },
          {
           "hovertemplate": "Process Type=%{x}<br>month_period_str=2024-01<br>Cumulative Count=%{y}<extra></extra>",
           "legendgroup": "Vehicle Fuel Consumption",
           "marker": {
            "color": "#FFA15A",
            "pattern": {
             "shape": ""
            }
           },
           "name": "Vehicle Fuel Consumption",
           "orientation": "v",
           "showlegend": true,
           "textposition": "auto",
           "type": "bar",
           "x": [
            "Vehicle Fuel Consumption"
           ],
           "xaxis": "x",
           "y": {
            "bdata": "pwA=",
            "dtype": "i2"
           },
           "yaxis": "y"
          },
          {
           "hovertemplate": "Process Type=%{x}<br>month_period_str=2024-01<br>Cumulative Count=%{y}<extra></extra>",
           "legendgroup": "Electric Power Consumption",
           "marker": {
            "color": "#19d3f3",
            "pattern": {
             "shape": ""
            }
           },
           "name": "Electric Power Consumption",
           "orientation": "v",
           "showlegend": true,
           "textposition": "auto",
           "type": "bar",
           "x": [
            "Electric Power Consumption"
           ],
           "xaxis": "x",
           "y": {
            "bdata": "JA==",
            "dtype": "i1"
           },
           "yaxis": "y"
          }
         ],
         "name": "2024-01"
        },
        {
         "data": [
          {
           "hovertemplate": "Process Type=%{x}<br>month_period_str=2024-02<br>Cumulative Count=%{y}<extra></extra>",
           "legendgroup": "Commercial Consumption",
           "marker": {
            "color": "#636efa",
            "pattern": {
             "shape": ""
            }
           },
           "name": "Commercial Consumption",
           "orientation": "v",
           "showlegend": true,
           "textposition": "auto",
           "type": "bar",
           "x": [
            "Commercial Consumption"
           ],
           "xaxis": "x",
           "y": {
            "bdata": "qwA=",
            "dtype": "i2"
           },
           "yaxis": "y"
          },
          {
           "hovertemplate": "Process Type=%{x}<br>month_period_str=2024-02<br>Cumulative Count=%{y}<extra></extra>",
           "legendgroup": "Delivered to Consumers",
           "marker": {
            "color": "#EF553B",
            "pattern": {
             "shape": ""
            }
           },
           "name": "Delivered to Consumers",
           "orientation": "v",
           "showlegend": true,
           "textposition": "auto",
           "type": "bar",
           "x": [
            "Delivered to Consumers"
           ],
           "xaxis": "x",
           "y": {
            "bdata": "qgA=",
            "dtype": "i2"
           },
           "yaxis": "y"
          },
          {
           "hovertemplate": "Process Type=%{x}<br>month_period_str=2024-02<br>Cumulative Count=%{y}<extra></extra>",
           "legendgroup": "Industrial Consumption",
           "marker": {
            "color": "#00cc96",
            "pattern": {
             "shape": ""
            }
           },
           "name": "Industrial Consumption",
           "orientation": "v",
           "showlegend": true,
           "textposition": "auto",
           "type": "bar",
           "x": [
            "Industrial Consumption"
           ],
           "xaxis": "x",
           "y": {
            "bdata": "YA==",
            "dtype": "i1"
           },
           "yaxis": "y"
          },
          {
           "hovertemplate": "Process Type=%{x}<br>month_period_str=2024-02<br>Cumulative Count=%{y}<extra></extra>",
           "legendgroup": "Residential Consumption",
           "marker": {
            "color": "#ab63fa",
            "pattern": {
             "shape": ""
            }
           },
           "name": "Residential Consumption",
           "orientation": "v",
           "showlegend": true,
           "textposition": "auto",
           "type": "bar",
           "x": [
            "Residential Consumption"
           ],
           "xaxis": "x",
           "y": {
            "bdata": "pQA=",
            "dtype": "i2"
           },
           "yaxis": "y"
          },
          {
           "hovertemplate": "Process Type=%{x}<br>month_period_str=2024-02<br>Cumulative Count=%{y}<extra></extra>",
           "legendgroup": "Vehicle Fuel Consumption",
           "marker": {
            "color": "#FFA15A",
            "pattern": {
             "shape": ""
            }
           },
           "name": "Vehicle Fuel Consumption",
           "orientation": "v",
           "showlegend": true,
           "textposition": "auto",
           "type": "bar",
           "x": [
            "Vehicle Fuel Consumption"
           ],
           "xaxis": "x",
           "y": {
            "bdata": "qAA=",
            "dtype": "i2"
           },
           "yaxis": "y"
          },
          {
           "hovertemplate": "Process Type=%{x}<br>month_period_str=2024-02<br>Cumulative Count=%{y}<extra></extra>",
           "legendgroup": "Electric Power Consumption",
           "marker": {
            "color": "#19d3f3",
            "pattern": {
             "shape": ""
            }
           },
           "name": "Electric Power Consumption",
           "orientation": "v",
           "showlegend": true,
           "textposition": "auto",
           "type": "bar",
           "x": [
            "Electric Power Consumption"
           ],
           "xaxis": "x",
           "y": {
            "bdata": "JA==",
            "dtype": "i1"
           },
           "yaxis": "y"
          }
         ],
         "name": "2024-02"
        },
        {
         "data": [
          {
           "hovertemplate": "Process Type=%{x}<br>month_period_str=2024-03<br>Cumulative Count=%{y}<extra></extra>",
           "legendgroup": "Commercial Consumption",
           "marker": {
            "color": "#636efa",
            "pattern": {
             "shape": ""
            }
           },
           "name": "Commercial Consumption",
           "orientation": "v",
           "showlegend": true,
           "textposition": "auto",
           "type": "bar",
           "x": [
            "Commercial Consumption"
           ],
           "xaxis": "x",
           "y": {
            "bdata": "rAA=",
            "dtype": "i2"
           },
           "yaxis": "y"
          },
          {
           "hovertemplate": "Process Type=%{x}<br>month_period_str=2024-03<br>Cumulative Count=%{y}<extra></extra>",
           "legendgroup": "Delivered to Consumers",
           "marker": {
            "color": "#EF553B",
            "pattern": {
             "shape": ""
            }
           },
           "name": "Delivered to Consumers",
           "orientation": "v",
           "showlegend": true,
           "textposition": "auto",
           "type": "bar",
           "x": [
            "Delivered to Consumers"
           ],
           "xaxis": "x",
           "y": {
            "bdata": "qwA=",
            "dtype": "i2"
           },
           "yaxis": "y"
          },
          {
           "hovertemplate": "Process Type=%{x}<br>month_period_str=2024-03<br>Cumulative Count=%{y}<extra></extra>",
           "legendgroup": "Industrial Consumption",
           "marker": {
            "color": "#00cc96",
            "pattern": {
             "shape": ""
            }
           },
           "name": "Industrial Consumption",
           "orientation": "v",
           "showlegend": true,
           "textposition": "auto",
           "type": "bar",
           "x": [
            "Industrial Consumption"
           ],
           "xaxis": "x",
           "y": {
            "bdata": "YQ==",
            "dtype": "i1"
           },
           "yaxis": "y"
          },
          {
           "hovertemplate": "Process Type=%{x}<br>month_period_str=2024-03<br>Cumulative Count=%{y}<extra></extra>",
           "legendgroup": "Residential Consumption",
           "marker": {
            "color": "#ab63fa",
            "pattern": {
             "shape": ""
            }
           },
           "name": "Residential Consumption",
           "orientation": "v",
           "showlegend": true,
           "textposition": "auto",
           "type": "bar",
           "x": [
            "Residential Consumption"
           ],
           "xaxis": "x",
           "y": {
            "bdata": "pgA=",
            "dtype": "i2"
           },
           "yaxis": "y"
          },
          {
           "hovertemplate": "Process Type=%{x}<br>month_period_str=2024-03<br>Cumulative Count=%{y}<extra></extra>",
           "legendgroup": "Vehicle Fuel Consumption",
           "marker": {
            "color": "#FFA15A",
            "pattern": {
             "shape": ""
            }
           },
           "name": "Vehicle Fuel Consumption",
           "orientation": "v",
           "showlegend": true,
           "textposition": "auto",
           "type": "bar",
           "x": [
            "Vehicle Fuel Consumption"
           ],
           "xaxis": "x",
           "y": {
            "bdata": "qQA=",
            "dtype": "i2"
           },
           "yaxis": "y"
          },
          {
           "hovertemplate": "Process Type=%{x}<br>month_period_str=2024-03<br>Cumulative Count=%{y}<extra></extra>",
           "legendgroup": "Electric Power Consumption",
           "marker": {
            "color": "#19d3f3",
            "pattern": {
             "shape": ""
            }
           },
           "name": "Electric Power Consumption",
           "orientation": "v",
           "showlegend": true,
           "textposition": "auto",
           "type": "bar",
           "x": [
            "Electric Power Consumption"
           ],
           "xaxis": "x",
           "y": {
            "bdata": "JA==",
            "dtype": "i1"
           },
           "yaxis": "y"
          }
         ],
         "name": "2024-03"
        },
        {
         "data": [
          {
           "hovertemplate": "Process Type=%{x}<br>month_period_str=2024-04<br>Cumulative Count=%{y}<extra></extra>",
           "legendgroup": "Commercial Consumption",
           "marker": {
            "color": "#636efa",
            "pattern": {
             "shape": ""
            }
           },
           "name": "Commercial Consumption",
           "orientation": "v",
           "showlegend": true,
           "textposition": "auto",
           "type": "bar",
           "x": [
            "Commercial Consumption"
           ],
           "xaxis": "x",
           "y": {
            "bdata": "rQA=",
            "dtype": "i2"
           },
           "yaxis": "y"
          },
          {
           "hovertemplate": "Process Type=%{x}<br>month_period_str=2024-04<br>Cumulative Count=%{y}<extra></extra>",
           "legendgroup": "Delivered to Consumers",
           "marker": {
            "color": "#EF553B",
            "pattern": {
             "shape": ""
            }
           },
           "name": "Delivered to Consumers",
           "orientation": "v",
           "showlegend": true,
           "textposition": "auto",
           "type": "bar",
           "x": [
            "Delivered to Consumers"
           ],
           "xaxis": "x",
           "y": {
            "bdata": "rAA=",
            "dtype": "i2"
           },
           "yaxis": "y"
          },
          {
           "hovertemplate": "Process Type=%{x}<br>month_period_str=2024-04<br>Cumulative Count=%{y}<extra></extra>",
           "legendgroup": "Industrial Consumption",
           "marker": {
            "color": "#00cc96",
            "pattern": {
             "shape": ""
            }
           },
           "name": "Industrial Consumption",
           "orientation": "v",
           "showlegend": true,
           "textposition": "auto",
           "type": "bar",
           "x": [
            "Industrial Consumption"
           ],
           "xaxis": "x",
           "y": {
            "bdata": "Yg==",
            "dtype": "i1"
           },
           "yaxis": "y"
          },
          {
           "hovertemplate": "Process Type=%{x}<br>month_period_str=2024-04<br>Cumulative Count=%{y}<extra></extra>",
           "legendgroup": "Residential Consumption",
           "marker": {
            "color": "#ab63fa",
            "pattern": {
             "shape": ""
            }
           },
           "name": "Residential Consumption",
           "orientation": "v",
           "showlegend": true,
           "textposition": "auto",
           "type": "bar",
           "x": [
            "Residential Consumption"
           ],
           "xaxis": "x",
           "y": {
            "bdata": "pwA=",
            "dtype": "i2"
           },
           "yaxis": "y"
          },
          {
           "hovertemplate": "Process Type=%{x}<br>month_period_str=2024-04<br>Cumulative Count=%{y}<extra></extra>",
           "legendgroup": "Vehicle Fuel Consumption",
           "marker": {
            "color": "#FFA15A",
            "pattern": {
             "shape": ""
            }
           },
           "name": "Vehicle Fuel Consumption",
           "orientation": "v",
           "showlegend": true,
           "textposition": "auto",
           "type": "bar",
           "x": [
            "Vehicle Fuel Consumption"
           ],
           "xaxis": "x",
           "y": {
            "bdata": "qgA=",
            "dtype": "i2"
           },
           "yaxis": "y"
          },
          {
           "hovertemplate": "Process Type=%{x}<br>month_period_str=2024-04<br>Cumulative Count=%{y}<extra></extra>",
           "legendgroup": "Electric Power Consumption",
           "marker": {
            "color": "#19d3f3",
            "pattern": {
             "shape": ""
            }
           },
           "name": "Electric Power Consumption",
           "orientation": "v",
           "showlegend": true,
           "textposition": "auto",
           "type": "bar",
           "x": [
            "Electric Power Consumption"
           ],
           "xaxis": "x",
           "y": {
            "bdata": "JA==",
            "dtype": "i1"
           },
           "yaxis": "y"
          }
         ],
         "name": "2024-04"
        },
        {
         "data": [
          {
           "hovertemplate": "Process Type=%{x}<br>month_period_str=2024-05<br>Cumulative Count=%{y}<extra></extra>",
           "legendgroup": "Commercial Consumption",
           "marker": {
            "color": "#636efa",
            "pattern": {
             "shape": ""
            }
           },
           "name": "Commercial Consumption",
           "orientation": "v",
           "showlegend": true,
           "textposition": "auto",
           "type": "bar",
           "x": [
            "Commercial Consumption"
           ],
           "xaxis": "x",
           "y": {
            "bdata": "rgA=",
            "dtype": "i2"
           },
           "yaxis": "y"
          },
          {
           "hovertemplate": "Process Type=%{x}<br>month_period_str=2024-05<br>Cumulative Count=%{y}<extra></extra>",
           "legendgroup": "Delivered to Consumers",
           "marker": {
            "color": "#EF553B",
            "pattern": {
             "shape": ""
            }
           },
           "name": "Delivered to Consumers",
           "orientation": "v",
           "showlegend": true,
           "textposition": "auto",
           "type": "bar",
           "x": [
            "Delivered to Consumers"
           ],
           "xaxis": "x",
           "y": {
            "bdata": "rQA=",
            "dtype": "i2"
           },
           "yaxis": "y"
          },
          {
           "hovertemplate": "Process Type=%{x}<br>month_period_str=2024-05<br>Cumulative Count=%{y}<extra></extra>",
           "legendgroup": "Industrial Consumption",
           "marker": {
            "color": "#00cc96",
            "pattern": {
             "shape": ""
            }
           },
           "name": "Industrial Consumption",
           "orientation": "v",
           "showlegend": true,
           "textposition": "auto",
           "type": "bar",
           "x": [
            "Industrial Consumption"
           ],
           "xaxis": "x",
           "y": {
            "bdata": "Yw==",
            "dtype": "i1"
           },
           "yaxis": "y"
          },
          {
           "hovertemplate": "Process Type=%{x}<br>month_period_str=2024-05<br>Cumulative Count=%{y}<extra></extra>",
           "legendgroup": "Residential Consumption",
           "marker": {
            "color": "#ab63fa",
            "pattern": {
             "shape": ""
            }
           },
           "name": "Residential Consumption",
           "orientation": "v",
           "showlegend": true,
           "textposition": "auto",
           "type": "bar",
           "x": [
            "Residential Consumption"
           ],
           "xaxis": "x",
           "y": {
            "bdata": "qAA=",
            "dtype": "i2"
           },
           "yaxis": "y"
          },
          {
           "hovertemplate": "Process Type=%{x}<br>month_period_str=2024-05<br>Cumulative Count=%{y}<extra></extra>",
           "legendgroup": "Vehicle Fuel Consumption",
           "marker": {
            "color": "#FFA15A",
            "pattern": {
             "shape": ""
            }
           },
           "name": "Vehicle Fuel Consumption",
           "orientation": "v",
           "showlegend": true,
           "textposition": "auto",
           "type": "bar",
           "x": [
            "Vehicle Fuel Consumption"
           ],
           "xaxis": "x",
           "y": {
            "bdata": "qwA=",
            "dtype": "i2"
           },
           "yaxis": "y"
          },
          {
           "hovertemplate": "Process Type=%{x}<br>month_period_str=2024-05<br>Cumulative Count=%{y}<extra></extra>",
           "legendgroup": "Electric Power Consumption",
           "marker": {
            "color": "#19d3f3",
            "pattern": {
             "shape": ""
            }
           },
           "name": "Electric Power Consumption",
           "orientation": "v",
           "showlegend": true,
           "textposition": "auto",
           "type": "bar",
           "x": [
            "Electric Power Consumption"
           ],
           "xaxis": "x",
           "y": {
            "bdata": "JA==",
            "dtype": "i1"
           },
           "yaxis": "y"
          }
         ],
         "name": "2024-05"
        },
        {
         "data": [
          {
           "hovertemplate": "Process Type=%{x}<br>month_period_str=2024-06<br>Cumulative Count=%{y}<extra></extra>",
           "legendgroup": "Commercial Consumption",
           "marker": {
            "color": "#636efa",
            "pattern": {
             "shape": ""
            }
           },
           "name": "Commercial Consumption",
           "orientation": "v",
           "showlegend": true,
           "textposition": "auto",
           "type": "bar",
           "x": [
            "Commercial Consumption"
           ],
           "xaxis": "x",
           "y": {
            "bdata": "rwA=",
            "dtype": "i2"
           },
           "yaxis": "y"
          },
          {
           "hovertemplate": "Process Type=%{x}<br>month_period_str=2024-06<br>Cumulative Count=%{y}<extra></extra>",
           "legendgroup": "Delivered to Consumers",
           "marker": {
            "color": "#EF553B",
            "pattern": {
             "shape": ""
            }
           },
           "name": "Delivered to Consumers",
           "orientation": "v",
           "showlegend": true,
           "textposition": "auto",
           "type": "bar",
           "x": [
            "Delivered to Consumers"
           ],
           "xaxis": "x",
           "y": {
            "bdata": "rgA=",
            "dtype": "i2"
           },
           "yaxis": "y"
          },
          {
           "hovertemplate": "Process Type=%{x}<br>month_period_str=2024-06<br>Cumulative Count=%{y}<extra></extra>",
           "legendgroup": "Industrial Consumption",
           "marker": {
            "color": "#00cc96",
            "pattern": {
             "shape": ""
            }
           },
           "name": "Industrial Consumption",
           "orientation": "v",
           "showlegend": true,
           "textposition": "auto",
           "type": "bar",
           "x": [
            "Industrial Consumption"
           ],
           "xaxis": "x",
           "y": {
            "bdata": "ZA==",
            "dtype": "i1"
           },
           "yaxis": "y"
          },
          {
           "hovertemplate": "Process Type=%{x}<br>month_period_str=2024-06<br>Cumulative Count=%{y}<extra></extra>",
           "legendgroup": "Residential Consumption",
           "marker": {
            "color": "#ab63fa",
            "pattern": {
             "shape": ""
            }
           },
           "name": "Residential Consumption",
           "orientation": "v",
           "showlegend": true,
           "textposition": "auto",
           "type": "bar",
           "x": [
            "Residential Consumption"
           ],
           "xaxis": "x",
           "y": {
            "bdata": "qQA=",
            "dtype": "i2"
           },
           "yaxis": "y"
          },
          {
           "hovertemplate": "Process Type=%{x}<br>month_period_str=2024-06<br>Cumulative Count=%{y}<extra></extra>",
           "legendgroup": "Vehicle Fuel Consumption",
           "marker": {
            "color": "#FFA15A",
            "pattern": {
             "shape": ""
            }
           },
           "name": "Vehicle Fuel Consumption",
           "orientation": "v",
           "showlegend": true,
           "textposition": "auto",
           "type": "bar",
           "x": [
            "Vehicle Fuel Consumption"
           ],
           "xaxis": "x",
           "y": {
            "bdata": "rAA=",
            "dtype": "i2"
           },
           "yaxis": "y"
          },
          {
           "hovertemplate": "Process Type=%{x}<br>month_period_str=2024-06<br>Cumulative Count=%{y}<extra></extra>",
           "legendgroup": "Electric Power Consumption",
           "marker": {
            "color": "#19d3f3",
            "pattern": {
             "shape": ""
            }
           },
           "name": "Electric Power Consumption",
           "orientation": "v",
           "showlegend": true,
           "textposition": "auto",
           "type": "bar",
           "x": [
            "Electric Power Consumption"
           ],
           "xaxis": "x",
           "y": {
            "bdata": "JA==",
            "dtype": "i1"
           },
           "yaxis": "y"
          }
         ],
         "name": "2024-06"
        },
        {
         "data": [
          {
           "hovertemplate": "Process Type=%{x}<br>month_period_str=2024-07<br>Cumulative Count=%{y}<extra></extra>",
           "legendgroup": "Commercial Consumption",
           "marker": {
            "color": "#636efa",
            "pattern": {
             "shape": ""
            }
           },
           "name": "Commercial Consumption",
           "orientation": "v",
           "showlegend": true,
           "textposition": "auto",
           "type": "bar",
           "x": [
            "Commercial Consumption"
           ],
           "xaxis": "x",
           "y": {
            "bdata": "sAA=",
            "dtype": "i2"
           },
           "yaxis": "y"
          },
          {
           "hovertemplate": "Process Type=%{x}<br>month_period_str=2024-07<br>Cumulative Count=%{y}<extra></extra>",
           "legendgroup": "Delivered to Consumers",
           "marker": {
            "color": "#EF553B",
            "pattern": {
             "shape": ""
            }
           },
           "name": "Delivered to Consumers",
           "orientation": "v",
           "showlegend": true,
           "textposition": "auto",
           "type": "bar",
           "x": [
            "Delivered to Consumers"
           ],
           "xaxis": "x",
           "y": {
            "bdata": "rwA=",
            "dtype": "i2"
           },
           "yaxis": "y"
          },
          {
           "hovertemplate": "Process Type=%{x}<br>month_period_str=2024-07<br>Cumulative Count=%{y}<extra></extra>",
           "legendgroup": "Industrial Consumption",
           "marker": {
            "color": "#00cc96",
            "pattern": {
             "shape": ""
            }
           },
           "name": "Industrial Consumption",
           "orientation": "v",
           "showlegend": true,
           "textposition": "auto",
           "type": "bar",
           "x": [
            "Industrial Consumption"
           ],
           "xaxis": "x",
           "y": {
            "bdata": "ZQ==",
            "dtype": "i1"
           },
           "yaxis": "y"
          },
          {
           "hovertemplate": "Process Type=%{x}<br>month_period_str=2024-07<br>Cumulative Count=%{y}<extra></extra>",
           "legendgroup": "Residential Consumption",
           "marker": {
            "color": "#ab63fa",
            "pattern": {
             "shape": ""
            }
           },
           "name": "Residential Consumption",
           "orientation": "v",
           "showlegend": true,
           "textposition": "auto",
           "type": "bar",
           "x": [
            "Residential Consumption"
           ],
           "xaxis": "x",
           "y": {
            "bdata": "qgA=",
            "dtype": "i2"
           },
           "yaxis": "y"
          },
          {
           "hovertemplate": "Process Type=%{x}<br>month_period_str=2024-07<br>Cumulative Count=%{y}<extra></extra>",
           "legendgroup": "Vehicle Fuel Consumption",
           "marker": {
            "color": "#FFA15A",
            "pattern": {
             "shape": ""
            }
           },
           "name": "Vehicle Fuel Consumption",
           "orientation": "v",
           "showlegend": true,
           "textposition": "auto",
           "type": "bar",
           "x": [
            "Vehicle Fuel Consumption"
           ],
           "xaxis": "x",
           "y": {
            "bdata": "rQA=",
            "dtype": "i2"
           },
           "yaxis": "y"
          },
          {
           "hovertemplate": "Process Type=%{x}<br>month_period_str=2024-07<br>Cumulative Count=%{y}<extra></extra>",
           "legendgroup": "Electric Power Consumption",
           "marker": {
            "color": "#19d3f3",
            "pattern": {
             "shape": ""
            }
           },
           "name": "Electric Power Consumption",
           "orientation": "v",
           "showlegend": true,
           "textposition": "auto",
           "type": "bar",
           "x": [
            "Electric Power Consumption"
           ],
           "xaxis": "x",
           "y": {
            "bdata": "JA==",
            "dtype": "i1"
           },
           "yaxis": "y"
          }
         ],
         "name": "2024-07"
        },
        {
         "data": [
          {
           "hovertemplate": "Process Type=%{x}<br>month_period_str=2024-08<br>Cumulative Count=%{y}<extra></extra>",
           "legendgroup": "Commercial Consumption",
           "marker": {
            "color": "#636efa",
            "pattern": {
             "shape": ""
            }
           },
           "name": "Commercial Consumption",
           "orientation": "v",
           "showlegend": true,
           "textposition": "auto",
           "type": "bar",
           "x": [
            "Commercial Consumption"
           ],
           "xaxis": "x",
           "y": {
            "bdata": "sQA=",
            "dtype": "i2"
           },
           "yaxis": "y"
          },
          {
           "hovertemplate": "Process Type=%{x}<br>month_period_str=2024-08<br>Cumulative Count=%{y}<extra></extra>",
           "legendgroup": "Delivered to Consumers",
           "marker": {
            "color": "#EF553B",
            "pattern": {
             "shape": ""
            }
           },
           "name": "Delivered to Consumers",
           "orientation": "v",
           "showlegend": true,
           "textposition": "auto",
           "type": "bar",
           "x": [
            "Delivered to Consumers"
           ],
           "xaxis": "x",
           "y": {
            "bdata": "sAA=",
            "dtype": "i2"
           },
           "yaxis": "y"
          },
          {
           "hovertemplate": "Process Type=%{x}<br>month_period_str=2024-08<br>Cumulative Count=%{y}<extra></extra>",
           "legendgroup": "Industrial Consumption",
           "marker": {
            "color": "#00cc96",
            "pattern": {
             "shape": ""
            }
           },
           "name": "Industrial Consumption",
           "orientation": "v",
           "showlegend": true,
           "textposition": "auto",
           "type": "bar",
           "x": [
            "Industrial Consumption"
           ],
           "xaxis": "x",
           "y": {
            "bdata": "Zg==",
            "dtype": "i1"
           },
           "yaxis": "y"
          },
          {
           "hovertemplate": "Process Type=%{x}<br>month_period_str=2024-08<br>Cumulative Count=%{y}<extra></extra>",
           "legendgroup": "Residential Consumption",
           "marker": {
            "color": "#ab63fa",
            "pattern": {
             "shape": ""
            }
           },
           "name": "Residential Consumption",
           "orientation": "v",
           "showlegend": true,
           "textposition": "auto",
           "type": "bar",
           "x": [
            "Residential Consumption"
           ],
           "xaxis": "x",
           "y": {
            "bdata": "qgA=",
            "dtype": "i2"
           },
           "yaxis": "y"
          },
          {
           "hovertemplate": "Process Type=%{x}<br>month_period_str=2024-08<br>Cumulative Count=%{y}<extra></extra>",
           "legendgroup": "Vehicle Fuel Consumption",
           "marker": {
            "color": "#FFA15A",
            "pattern": {
             "shape": ""
            }
           },
           "name": "Vehicle Fuel Consumption",
           "orientation": "v",
           "showlegend": true,
           "textposition": "auto",
           "type": "bar",
           "x": [
            "Vehicle Fuel Consumption"
           ],
           "xaxis": "x",
           "y": {
            "bdata": "rQA=",
            "dtype": "i2"
           },
           "yaxis": "y"
          },
          {
           "hovertemplate": "Process Type=%{x}<br>month_period_str=2024-08<br>Cumulative Count=%{y}<extra></extra>",
           "legendgroup": "Electric Power Consumption",
           "marker": {
            "color": "#19d3f3",
            "pattern": {
             "shape": ""
            }
           },
           "name": "Electric Power Consumption",
           "orientation": "v",
           "showlegend": true,
           "textposition": "auto",
           "type": "bar",
           "x": [
            "Electric Power Consumption"
           ],
           "xaxis": "x",
           "y": {
            "bdata": "JA==",
            "dtype": "i1"
           },
           "yaxis": "y"
          }
         ],
         "name": "2024-08"
        },
        {
         "data": [
          {
           "hovertemplate": "Process Type=%{x}<br>month_period_str=2024-09<br>Cumulative Count=%{y}<extra></extra>",
           "legendgroup": "Commercial Consumption",
           "marker": {
            "color": "#636efa",
            "pattern": {
             "shape": ""
            }
           },
           "name": "Commercial Consumption",
           "orientation": "v",
           "showlegend": true,
           "textposition": "auto",
           "type": "bar",
           "x": [
            "Commercial Consumption"
           ],
           "xaxis": "x",
           "y": {
            "bdata": "sgA=",
            "dtype": "i2"
           },
           "yaxis": "y"
          },
          {
           "hovertemplate": "Process Type=%{x}<br>month_period_str=2024-09<br>Cumulative Count=%{y}<extra></extra>",
           "legendgroup": "Delivered to Consumers",
           "marker": {
            "color": "#EF553B",
            "pattern": {
             "shape": ""
            }
           },
           "name": "Delivered to Consumers",
           "orientation": "v",
           "showlegend": true,
           "textposition": "auto",
           "type": "bar",
           "x": [
            "Delivered to Consumers"
           ],
           "xaxis": "x",
           "y": {
            "bdata": "sQA=",
            "dtype": "i2"
           },
           "yaxis": "y"
          },
          {
           "hovertemplate": "Process Type=%{x}<br>month_period_str=2024-09<br>Cumulative Count=%{y}<extra></extra>",
           "legendgroup": "Industrial Consumption",
           "marker": {
            "color": "#00cc96",
            "pattern": {
             "shape": ""
            }
           },
           "name": "Industrial Consumption",
           "orientation": "v",
           "showlegend": true,
           "textposition": "auto",
           "type": "bar",
           "x": [
            "Industrial Consumption"
           ],
           "xaxis": "x",
           "y": {
            "bdata": "Zw==",
            "dtype": "i1"
           },
           "yaxis": "y"
          },
          {
           "hovertemplate": "Process Type=%{x}<br>month_period_str=2024-09<br>Cumulative Count=%{y}<extra></extra>",
           "legendgroup": "Residential Consumption",
           "marker": {
            "color": "#ab63fa",
            "pattern": {
             "shape": ""
            }
           },
           "name": "Residential Consumption",
           "orientation": "v",
           "showlegend": true,
           "textposition": "auto",
           "type": "bar",
           "x": [
            "Residential Consumption"
           ],
           "xaxis": "x",
           "y": {
            "bdata": "qwA=",
            "dtype": "i2"
           },
           "yaxis": "y"
          },
          {
           "hovertemplate": "Process Type=%{x}<br>month_period_str=2024-09<br>Cumulative Count=%{y}<extra></extra>",
           "legendgroup": "Vehicle Fuel Consumption",
           "marker": {
            "color": "#FFA15A",
            "pattern": {
             "shape": ""
            }
           },
           "name": "Vehicle Fuel Consumption",
           "orientation": "v",
           "showlegend": true,
           "textposition": "auto",
           "type": "bar",
           "x": [
            "Vehicle Fuel Consumption"
           ],
           "xaxis": "x",
           "y": {
            "bdata": "rgA=",
            "dtype": "i2"
           },
           "yaxis": "y"
          },
          {
           "hovertemplate": "Process Type=%{x}<br>month_period_str=2024-09<br>Cumulative Count=%{y}<extra></extra>",
           "legendgroup": "Electric Power Consumption",
           "marker": {
            "color": "#19d3f3",
            "pattern": {
             "shape": ""
            }
           },
           "name": "Electric Power Consumption",
           "orientation": "v",
           "showlegend": true,
           "textposition": "auto",
           "type": "bar",
           "x": [
            "Electric Power Consumption"
           ],
           "xaxis": "x",
           "y": {
            "bdata": "JA==",
            "dtype": "i1"
           },
           "yaxis": "y"
          }
         ],
         "name": "2024-09"
        },
        {
         "data": [
          {
           "hovertemplate": "Process Type=%{x}<br>month_period_str=2024-10<br>Cumulative Count=%{y}<extra></extra>",
           "legendgroup": "Commercial Consumption",
           "marker": {
            "color": "#636efa",
            "pattern": {
             "shape": ""
            }
           },
           "name": "Commercial Consumption",
           "orientation": "v",
           "showlegend": true,
           "textposition": "auto",
           "type": "bar",
           "x": [
            "Commercial Consumption"
           ],
           "xaxis": "x",
           "y": {
            "bdata": "swA=",
            "dtype": "i2"
           },
           "yaxis": "y"
          },
          {
           "hovertemplate": "Process Type=%{x}<br>month_period_str=2024-10<br>Cumulative Count=%{y}<extra></extra>",
           "legendgroup": "Delivered to Consumers",
           "marker": {
            "color": "#EF553B",
            "pattern": {
             "shape": ""
            }
           },
           "name": "Delivered to Consumers",
           "orientation": "v",
           "showlegend": true,
           "textposition": "auto",
           "type": "bar",
           "x": [
            "Delivered to Consumers"
           ],
           "xaxis": "x",
           "y": {
            "bdata": "sgA=",
            "dtype": "i2"
           },
           "yaxis": "y"
          },
          {
           "hovertemplate": "Process Type=%{x}<br>month_period_str=2024-10<br>Cumulative Count=%{y}<extra></extra>",
           "legendgroup": "Industrial Consumption",
           "marker": {
            "color": "#00cc96",
            "pattern": {
             "shape": ""
            }
           },
           "name": "Industrial Consumption",
           "orientation": "v",
           "showlegend": true,
           "textposition": "auto",
           "type": "bar",
           "x": [
            "Industrial Consumption"
           ],
           "xaxis": "x",
           "y": {
            "bdata": "aA==",
            "dtype": "i1"
           },
           "yaxis": "y"
          },
          {
           "hovertemplate": "Process Type=%{x}<br>month_period_str=2024-10<br>Cumulative Count=%{y}<extra></extra>",
           "legendgroup": "Residential Consumption",
           "marker": {
            "color": "#ab63fa",
            "pattern": {
             "shape": ""
            }
           },
           "name": "Residential Consumption",
           "orientation": "v",
           "showlegend": true,
           "textposition": "auto",
           "type": "bar",
           "x": [
            "Residential Consumption"
           ],
           "xaxis": "x",
           "y": {
            "bdata": "rAA=",
            "dtype": "i2"
           },
           "yaxis": "y"
          },
          {
           "hovertemplate": "Process Type=%{x}<br>month_period_str=2024-10<br>Cumulative Count=%{y}<extra></extra>",
           "legendgroup": "Vehicle Fuel Consumption",
           "marker": {
            "color": "#FFA15A",
            "pattern": {
             "shape": ""
            }
           },
           "name": "Vehicle Fuel Consumption",
           "orientation": "v",
           "showlegend": true,
           "textposition": "auto",
           "type": "bar",
           "x": [
            "Vehicle Fuel Consumption"
           ],
           "xaxis": "x",
           "y": {
            "bdata": "rwA=",
            "dtype": "i2"
           },
           "yaxis": "y"
          },
          {
           "hovertemplate": "Process Type=%{x}<br>month_period_str=2024-10<br>Cumulative Count=%{y}<extra></extra>",
           "legendgroup": "Electric Power Consumption",
           "marker": {
            "color": "#19d3f3",
            "pattern": {
             "shape": ""
            }
           },
           "name": "Electric Power Consumption",
           "orientation": "v",
           "showlegend": true,
           "textposition": "auto",
           "type": "bar",
           "x": [
            "Electric Power Consumption"
           ],
           "xaxis": "x",
           "y": {
            "bdata": "JA==",
            "dtype": "i1"
           },
           "yaxis": "y"
          }
         ],
         "name": "2024-10"
        },
        {
         "data": [
          {
           "hovertemplate": "Process Type=%{x}<br>month_period_str=2024-11<br>Cumulative Count=%{y}<extra></extra>",
           "legendgroup": "Commercial Consumption",
           "marker": {
            "color": "#636efa",
            "pattern": {
             "shape": ""
            }
           },
           "name": "Commercial Consumption",
           "orientation": "v",
           "showlegend": true,
           "textposition": "auto",
           "type": "bar",
           "x": [
            "Commercial Consumption"
           ],
           "xaxis": "x",
           "y": {
            "bdata": "tAA=",
            "dtype": "i2"
           },
           "yaxis": "y"
          },
          {
           "hovertemplate": "Process Type=%{x}<br>month_period_str=2024-11<br>Cumulative Count=%{y}<extra></extra>",
           "legendgroup": "Delivered to Consumers",
           "marker": {
            "color": "#EF553B",
            "pattern": {
             "shape": ""
            }
           },
           "name": "Delivered to Consumers",
           "orientation": "v",
           "showlegend": true,
           "textposition": "auto",
           "type": "bar",
           "x": [
            "Delivered to Consumers"
           ],
           "xaxis": "x",
           "y": {
            "bdata": "swA=",
            "dtype": "i2"
           },
           "yaxis": "y"
          },
          {
           "hovertemplate": "Process Type=%{x}<br>month_period_str=2024-11<br>Cumulative Count=%{y}<extra></extra>",
           "legendgroup": "Industrial Consumption",
           "marker": {
            "color": "#00cc96",
            "pattern": {
             "shape": ""
            }
           },
           "name": "Industrial Consumption",
           "orientation": "v",
           "showlegend": true,
           "textposition": "auto",
           "type": "bar",
           "x": [
            "Industrial Consumption"
           ],
           "xaxis": "x",
           "y": {
            "bdata": "aQ==",
            "dtype": "i1"
           },
           "yaxis": "y"
          },
          {
           "hovertemplate": "Process Type=%{x}<br>month_period_str=2024-11<br>Cumulative Count=%{y}<extra></extra>",
           "legendgroup": "Residential Consumption",
           "marker": {
            "color": "#ab63fa",
            "pattern": {
             "shape": ""
            }
           },
           "name": "Residential Consumption",
           "orientation": "v",
           "showlegend": true,
           "textposition": "auto",
           "type": "bar",
           "x": [
            "Residential Consumption"
           ],
           "xaxis": "x",
           "y": {
            "bdata": "rQA=",
            "dtype": "i2"
           },
           "yaxis": "y"
          },
          {
           "hovertemplate": "Process Type=%{x}<br>month_period_str=2024-11<br>Cumulative Count=%{y}<extra></extra>",
           "legendgroup": "Vehicle Fuel Consumption",
           "marker": {
            "color": "#FFA15A",
            "pattern": {
             "shape": ""
            }
           },
           "name": "Vehicle Fuel Consumption",
           "orientation": "v",
           "showlegend": true,
           "textposition": "auto",
           "type": "bar",
           "x": [
            "Vehicle Fuel Consumption"
           ],
           "xaxis": "x",
           "y": {
            "bdata": "sAA=",
            "dtype": "i2"
           },
           "yaxis": "y"
          },
          {
           "hovertemplate": "Process Type=%{x}<br>month_period_str=2024-11<br>Cumulative Count=%{y}<extra></extra>",
           "legendgroup": "Electric Power Consumption",
           "marker": {
            "color": "#19d3f3",
            "pattern": {
             "shape": ""
            }
           },
           "name": "Electric Power Consumption",
           "orientation": "v",
           "showlegend": true,
           "textposition": "auto",
           "type": "bar",
           "x": [
            "Electric Power Consumption"
           ],
           "xaxis": "x",
           "y": {
            "bdata": "JA==",
            "dtype": "i1"
           },
           "yaxis": "y"
          }
         ],
         "name": "2024-11"
        },
        {
         "data": [
          {
           "hovertemplate": "Process Type=%{x}<br>month_period_str=2024-12<br>Cumulative Count=%{y}<extra></extra>",
           "legendgroup": "Commercial Consumption",
           "marker": {
            "color": "#636efa",
            "pattern": {
             "shape": ""
            }
           },
           "name": "Commercial Consumption",
           "orientation": "v",
           "showlegend": true,
           "textposition": "auto",
           "type": "bar",
           "x": [
            "Commercial Consumption"
           ],
           "xaxis": "x",
           "y": {
            "bdata": "tQA=",
            "dtype": "i2"
           },
           "yaxis": "y"
          },
          {
           "hovertemplate": "Process Type=%{x}<br>month_period_str=2024-12<br>Cumulative Count=%{y}<extra></extra>",
           "legendgroup": "Delivered to Consumers",
           "marker": {
            "color": "#EF553B",
            "pattern": {
             "shape": ""
            }
           },
           "name": "Delivered to Consumers",
           "orientation": "v",
           "showlegend": true,
           "textposition": "auto",
           "type": "bar",
           "x": [
            "Delivered to Consumers"
           ],
           "xaxis": "x",
           "y": {
            "bdata": "tAA=",
            "dtype": "i2"
           },
           "yaxis": "y"
          },
          {
           "hovertemplate": "Process Type=%{x}<br>month_period_str=2024-12<br>Cumulative Count=%{y}<extra></extra>",
           "legendgroup": "Industrial Consumption",
           "marker": {
            "color": "#00cc96",
            "pattern": {
             "shape": ""
            }
           },
           "name": "Industrial Consumption",
           "orientation": "v",
           "showlegend": true,
           "textposition": "auto",
           "type": "bar",
           "x": [
            "Industrial Consumption"
           ],
           "xaxis": "x",
           "y": {
            "bdata": "ag==",
            "dtype": "i1"
           },
           "yaxis": "y"
          },
          {
           "hovertemplate": "Process Type=%{x}<br>month_period_str=2024-12<br>Cumulative Count=%{y}<extra></extra>",
           "legendgroup": "Residential Consumption",
           "marker": {
            "color": "#ab63fa",
            "pattern": {
             "shape": ""
            }
           },
           "name": "Residential Consumption",
           "orientation": "v",
           "showlegend": true,
           "textposition": "auto",
           "type": "bar",
           "x": [
            "Residential Consumption"
           ],
           "xaxis": "x",
           "y": {
            "bdata": "rgA=",
            "dtype": "i2"
           },
           "yaxis": "y"
          },
          {
           "hovertemplate": "Process Type=%{x}<br>month_period_str=2024-12<br>Cumulative Count=%{y}<extra></extra>",
           "legendgroup": "Vehicle Fuel Consumption",
           "marker": {
            "color": "#FFA15A",
            "pattern": {
             "shape": ""
            }
           },
           "name": "Vehicle Fuel Consumption",
           "orientation": "v",
           "showlegend": true,
           "textposition": "auto",
           "type": "bar",
           "x": [
            "Vehicle Fuel Consumption"
           ],
           "xaxis": "x",
           "y": {
            "bdata": "sQA=",
            "dtype": "i2"
           },
           "yaxis": "y"
          },
          {
           "hovertemplate": "Process Type=%{x}<br>month_period_str=2024-12<br>Cumulative Count=%{y}<extra></extra>",
           "legendgroup": "Electric Power Consumption",
           "marker": {
            "color": "#19d3f3",
            "pattern": {
             "shape": ""
            }
           },
           "name": "Electric Power Consumption",
           "orientation": "v",
           "showlegend": true,
           "textposition": "auto",
           "type": "bar",
           "x": [
            "Electric Power Consumption"
           ],
           "xaxis": "x",
           "y": {
            "bdata": "JA==",
            "dtype": "i1"
           },
           "yaxis": "y"
          }
         ],
         "name": "2024-12"
        },
        {
         "data": [
          {
           "hovertemplate": "Process Type=%{x}<br>month_period_str=2025-01<br>Cumulative Count=%{y}<extra></extra>",
           "legendgroup": "Commercial Consumption",
           "marker": {
            "color": "#636efa",
            "pattern": {
             "shape": ""
            }
           },
           "name": "Commercial Consumption",
           "orientation": "v",
           "showlegend": true,
           "textposition": "auto",
           "type": "bar",
           "x": [
            "Commercial Consumption"
           ],
           "xaxis": "x",
           "y": {
            "bdata": "tgA=",
            "dtype": "i2"
           },
           "yaxis": "y"
          },
          {
           "hovertemplate": "Process Type=%{x}<br>month_period_str=2025-01<br>Cumulative Count=%{y}<extra></extra>",
           "legendgroup": "Delivered to Consumers",
           "marker": {
            "color": "#EF553B",
            "pattern": {
             "shape": ""
            }
           },
           "name": "Delivered to Consumers",
           "orientation": "v",
           "showlegend": true,
           "textposition": "auto",
           "type": "bar",
           "x": [
            "Delivered to Consumers"
           ],
           "xaxis": "x",
           "y": {
            "bdata": "tQA=",
            "dtype": "i2"
           },
           "yaxis": "y"
          },
          {
           "hovertemplate": "Process Type=%{x}<br>month_period_str=2025-01<br>Cumulative Count=%{y}<extra></extra>",
           "legendgroup": "Industrial Consumption",
           "marker": {
            "color": "#00cc96",
            "pattern": {
             "shape": ""
            }
           },
           "name": "Industrial Consumption",
           "orientation": "v",
           "showlegend": true,
           "textposition": "auto",
           "type": "bar",
           "x": [
            "Industrial Consumption"
           ],
           "xaxis": "x",
           "y": {
            "bdata": "aw==",
            "dtype": "i1"
           },
           "yaxis": "y"
          },
          {
           "hovertemplate": "Process Type=%{x}<br>month_period_str=2025-01<br>Cumulative Count=%{y}<extra></extra>",
           "legendgroup": "Residential Consumption",
           "marker": {
            "color": "#ab63fa",
            "pattern": {
             "shape": ""
            }
           },
           "name": "Residential Consumption",
           "orientation": "v",
           "showlegend": true,
           "textposition": "auto",
           "type": "bar",
           "x": [
            "Residential Consumption"
           ],
           "xaxis": "x",
           "y": {
            "bdata": "rwA=",
            "dtype": "i2"
           },
           "yaxis": "y"
          },
          {
           "hovertemplate": "Process Type=%{x}<br>month_period_str=2025-01<br>Cumulative Count=%{y}<extra></extra>",
           "legendgroup": "Vehicle Fuel Consumption",
           "marker": {
            "color": "#FFA15A",
            "pattern": {
             "shape": ""
            }
           },
           "name": "Vehicle Fuel Consumption",
           "orientation": "v",
           "showlegend": true,
           "textposition": "auto",
           "type": "bar",
           "x": [
            "Vehicle Fuel Consumption"
           ],
           "xaxis": "x",
           "y": {
            "bdata": "sgA=",
            "dtype": "i2"
           },
           "yaxis": "y"
          },
          {
           "hovertemplate": "Process Type=%{x}<br>month_period_str=2025-01<br>Cumulative Count=%{y}<extra></extra>",
           "legendgroup": "Electric Power Consumption",
           "marker": {
            "color": "#19d3f3",
            "pattern": {
             "shape": ""
            }
           },
           "name": "Electric Power Consumption",
           "orientation": "v",
           "showlegend": true,
           "textposition": "auto",
           "type": "bar",
           "x": [
            "Electric Power Consumption"
           ],
           "xaxis": "x",
           "y": {
            "bdata": "JA==",
            "dtype": "i1"
           },
           "yaxis": "y"
          }
         ],
         "name": "2025-01"
        },
        {
         "data": [
          {
           "hovertemplate": "Process Type=%{x}<br>month_period_str=2025-02<br>Cumulative Count=%{y}<extra></extra>",
           "legendgroup": "Commercial Consumption",
           "marker": {
            "color": "#636efa",
            "pattern": {
             "shape": ""
            }
           },
           "name": "Commercial Consumption",
           "orientation": "v",
           "showlegend": true,
           "textposition": "auto",
           "type": "bar",
           "x": [
            "Commercial Consumption"
           ],
           "xaxis": "x",
           "y": {
            "bdata": "twA=",
            "dtype": "i2"
           },
           "yaxis": "y"
          },
          {
           "hovertemplate": "Process Type=%{x}<br>month_period_str=2025-02<br>Cumulative Count=%{y}<extra></extra>",
           "legendgroup": "Delivered to Consumers",
           "marker": {
            "color": "#EF553B",
            "pattern": {
             "shape": ""
            }
           },
           "name": "Delivered to Consumers",
           "orientation": "v",
           "showlegend": true,
           "textposition": "auto",
           "type": "bar",
           "x": [
            "Delivered to Consumers"
           ],
           "xaxis": "x",
           "y": {
            "bdata": "tgA=",
            "dtype": "i2"
           },
           "yaxis": "y"
          },
          {
           "hovertemplate": "Process Type=%{x}<br>month_period_str=2025-02<br>Cumulative Count=%{y}<extra></extra>",
           "legendgroup": "Industrial Consumption",
           "marker": {
            "color": "#00cc96",
            "pattern": {
             "shape": ""
            }
           },
           "name": "Industrial Consumption",
           "orientation": "v",
           "showlegend": true,
           "textposition": "auto",
           "type": "bar",
           "x": [
            "Industrial Consumption"
           ],
           "xaxis": "x",
           "y": {
            "bdata": "bA==",
            "dtype": "i1"
           },
           "yaxis": "y"
          },
          {
           "hovertemplate": "Process Type=%{x}<br>month_period_str=2025-02<br>Cumulative Count=%{y}<extra></extra>",
           "legendgroup": "Residential Consumption",
           "marker": {
            "color": "#ab63fa",
            "pattern": {
             "shape": ""
            }
           },
           "name": "Residential Consumption",
           "orientation": "v",
           "showlegend": true,
           "textposition": "auto",
           "type": "bar",
           "x": [
            "Residential Consumption"
           ],
           "xaxis": "x",
           "y": {
            "bdata": "sAA=",
            "dtype": "i2"
           },
           "yaxis": "y"
          },
          {
           "hovertemplate": "Process Type=%{x}<br>month_period_str=2025-02<br>Cumulative Count=%{y}<extra></extra>",
           "legendgroup": "Vehicle Fuel Consumption",
           "marker": {
            "color": "#FFA15A",
            "pattern": {
             "shape": ""
            }
           },
           "name": "Vehicle Fuel Consumption",
           "orientation": "v",
           "showlegend": true,
           "textposition": "auto",
           "type": "bar",
           "x": [
            "Vehicle Fuel Consumption"
           ],
           "xaxis": "x",
           "y": {
            "bdata": "swA=",
            "dtype": "i2"
           },
           "yaxis": "y"
          },
          {
           "hovertemplate": "Process Type=%{x}<br>month_period_str=2025-02<br>Cumulative Count=%{y}<extra></extra>",
           "legendgroup": "Electric Power Consumption",
           "marker": {
            "color": "#19d3f3",
            "pattern": {
             "shape": ""
            }
           },
           "name": "Electric Power Consumption",
           "orientation": "v",
           "showlegend": true,
           "textposition": "auto",
           "type": "bar",
           "x": [
            "Electric Power Consumption"
           ],
           "xaxis": "x",
           "y": {
            "bdata": "JA==",
            "dtype": "i1"
           },
           "yaxis": "y"
          }
         ],
         "name": "2025-02"
        },
        {
         "data": [
          {
           "hovertemplate": "Process Type=%{x}<br>month_period_str=2025-03<br>Cumulative Count=%{y}<extra></extra>",
           "legendgroup": "Commercial Consumption",
           "marker": {
            "color": "#636efa",
            "pattern": {
             "shape": ""
            }
           },
           "name": "Commercial Consumption",
           "orientation": "v",
           "showlegend": true,
           "textposition": "auto",
           "type": "bar",
           "x": [
            "Commercial Consumption"
           ],
           "xaxis": "x",
           "y": {
            "bdata": "uAA=",
            "dtype": "i2"
           },
           "yaxis": "y"
          },
          {
           "hovertemplate": "Process Type=%{x}<br>month_period_str=2025-03<br>Cumulative Count=%{y}<extra></extra>",
           "legendgroup": "Delivered to Consumers",
           "marker": {
            "color": "#EF553B",
            "pattern": {
             "shape": ""
            }
           },
           "name": "Delivered to Consumers",
           "orientation": "v",
           "showlegend": true,
           "textposition": "auto",
           "type": "bar",
           "x": [
            "Delivered to Consumers"
           ],
           "xaxis": "x",
           "y": {
            "bdata": "twA=",
            "dtype": "i2"
           },
           "yaxis": "y"
          },
          {
           "hovertemplate": "Process Type=%{x}<br>month_period_str=2025-03<br>Cumulative Count=%{y}<extra></extra>",
           "legendgroup": "Industrial Consumption",
           "marker": {
            "color": "#00cc96",
            "pattern": {
             "shape": ""
            }
           },
           "name": "Industrial Consumption",
           "orientation": "v",
           "showlegend": true,
           "textposition": "auto",
           "type": "bar",
           "x": [
            "Industrial Consumption"
           ],
           "xaxis": "x",
           "y": {
            "bdata": "bQ==",
            "dtype": "i1"
           },
           "yaxis": "y"
          },
          {
           "hovertemplate": "Process Type=%{x}<br>month_period_str=2025-03<br>Cumulative Count=%{y}<extra></extra>",
           "legendgroup": "Residential Consumption",
           "marker": {
            "color": "#ab63fa",
            "pattern": {
             "shape": ""
            }
           },
           "name": "Residential Consumption",
           "orientation": "v",
           "showlegend": true,
           "textposition": "auto",
           "type": "bar",
           "x": [
            "Residential Consumption"
           ],
           "xaxis": "x",
           "y": {
            "bdata": "sQA=",
            "dtype": "i2"
           },
           "yaxis": "y"
          },
          {
           "hovertemplate": "Process Type=%{x}<br>month_period_str=2025-03<br>Cumulative Count=%{y}<extra></extra>",
           "legendgroup": "Vehicle Fuel Consumption",
           "marker": {
            "color": "#FFA15A",
            "pattern": {
             "shape": ""
            }
           },
           "name": "Vehicle Fuel Consumption",
           "orientation": "v",
           "showlegend": true,
           "textposition": "auto",
           "type": "bar",
           "x": [
            "Vehicle Fuel Consumption"
           ],
           "xaxis": "x",
           "y": {
            "bdata": "tAA=",
            "dtype": "i2"
           },
           "yaxis": "y"
          },
          {
           "hovertemplate": "Process Type=%{x}<br>month_period_str=2025-03<br>Cumulative Count=%{y}<extra></extra>",
           "legendgroup": "Electric Power Consumption",
           "marker": {
            "color": "#19d3f3",
            "pattern": {
             "shape": ""
            }
           },
           "name": "Electric Power Consumption",
           "orientation": "v",
           "showlegend": true,
           "textposition": "auto",
           "type": "bar",
           "x": [
            "Electric Power Consumption"
           ],
           "xaxis": "x",
           "y": {
            "bdata": "JA==",
            "dtype": "i1"
           },
           "yaxis": "y"
          }
         ],
         "name": "2025-03"
        },
        {
         "data": [
          {
           "hovertemplate": "Process Type=%{x}<br>month_period_str=2025-04<br>Cumulative Count=%{y}<extra></extra>",
           "legendgroup": "Commercial Consumption",
           "marker": {
            "color": "#636efa",
            "pattern": {
             "shape": ""
            }
           },
           "name": "Commercial Consumption",
           "orientation": "v",
           "showlegend": true,
           "textposition": "auto",
           "type": "bar",
           "x": [
            "Commercial Consumption"
           ],
           "xaxis": "x",
           "y": {
            "bdata": "uQA=",
            "dtype": "i2"
           },
           "yaxis": "y"
          },
          {
           "hovertemplate": "Process Type=%{x}<br>month_period_str=2025-04<br>Cumulative Count=%{y}<extra></extra>",
           "legendgroup": "Delivered to Consumers",
           "marker": {
            "color": "#EF553B",
            "pattern": {
             "shape": ""
            }
           },
           "name": "Delivered to Consumers",
           "orientation": "v",
           "showlegend": true,
           "textposition": "auto",
           "type": "bar",
           "x": [
            "Delivered to Consumers"
           ],
           "xaxis": "x",
           "y": {
            "bdata": "uAA=",
            "dtype": "i2"
           },
           "yaxis": "y"
          },
          {
           "hovertemplate": "Process Type=%{x}<br>month_period_str=2025-04<br>Cumulative Count=%{y}<extra></extra>",
           "legendgroup": "Industrial Consumption",
           "marker": {
            "color": "#00cc96",
            "pattern": {
             "shape": ""
            }
           },
           "name": "Industrial Consumption",
           "orientation": "v",
           "showlegend": true,
           "textposition": "auto",
           "type": "bar",
           "x": [
            "Industrial Consumption"
           ],
           "xaxis": "x",
           "y": {
            "bdata": "bg==",
            "dtype": "i1"
           },
           "yaxis": "y"
          },
          {
           "hovertemplate": "Process Type=%{x}<br>month_period_str=2025-04<br>Cumulative Count=%{y}<extra></extra>",
           "legendgroup": "Residential Consumption",
           "marker": {
            "color": "#ab63fa",
            "pattern": {
             "shape": ""
            }
           },
           "name": "Residential Consumption",
           "orientation": "v",
           "showlegend": true,
           "textposition": "auto",
           "type": "bar",
           "x": [
            "Residential Consumption"
           ],
           "xaxis": "x",
           "y": {
            "bdata": "sgA=",
            "dtype": "i2"
           },
           "yaxis": "y"
          },
          {
           "hovertemplate": "Process Type=%{x}<br>month_period_str=2025-04<br>Cumulative Count=%{y}<extra></extra>",
           "legendgroup": "Vehicle Fuel Consumption",
           "marker": {
            "color": "#FFA15A",
            "pattern": {
             "shape": ""
            }
           },
           "name": "Vehicle Fuel Consumption",
           "orientation": "v",
           "showlegend": true,
           "textposition": "auto",
           "type": "bar",
           "x": [
            "Vehicle Fuel Consumption"
           ],
           "xaxis": "x",
           "y": {
            "bdata": "tQA=",
            "dtype": "i2"
           },
           "yaxis": "y"
          },
          {
           "hovertemplate": "Process Type=%{x}<br>month_period_str=2025-04<br>Cumulative Count=%{y}<extra></extra>",
           "legendgroup": "Electric Power Consumption",
           "marker": {
            "color": "#19d3f3",
            "pattern": {
             "shape": ""
            }
           },
           "name": "Electric Power Consumption",
           "orientation": "v",
           "showlegend": true,
           "textposition": "auto",
           "type": "bar",
           "x": [
            "Electric Power Consumption"
           ],
           "xaxis": "x",
           "y": {
            "bdata": "JA==",
            "dtype": "i1"
           },
           "yaxis": "y"
          }
         ],
         "name": "2025-04"
        },
        {
         "data": [
          {
           "hovertemplate": "Process Type=%{x}<br>month_period_str=2025-05<br>Cumulative Count=%{y}<extra></extra>",
           "legendgroup": "Commercial Consumption",
           "marker": {
            "color": "#636efa",
            "pattern": {
             "shape": ""
            }
           },
           "name": "Commercial Consumption",
           "orientation": "v",
           "showlegend": true,
           "textposition": "auto",
           "type": "bar",
           "x": [
            "Commercial Consumption"
           ],
           "xaxis": "x",
           "y": {
            "bdata": "ugA=",
            "dtype": "i2"
           },
           "yaxis": "y"
          },
          {
           "hovertemplate": "Process Type=%{x}<br>month_period_str=2025-05<br>Cumulative Count=%{y}<extra></extra>",
           "legendgroup": "Delivered to Consumers",
           "marker": {
            "color": "#EF553B",
            "pattern": {
             "shape": ""
            }
           },
           "name": "Delivered to Consumers",
           "orientation": "v",
           "showlegend": true,
           "textposition": "auto",
           "type": "bar",
           "x": [
            "Delivered to Consumers"
           ],
           "xaxis": "x",
           "y": {
            "bdata": "uQA=",
            "dtype": "i2"
           },
           "yaxis": "y"
          },
          {
           "hovertemplate": "Process Type=%{x}<br>month_period_str=2025-05<br>Cumulative Count=%{y}<extra></extra>",
           "legendgroup": "Industrial Consumption",
           "marker": {
            "color": "#00cc96",
            "pattern": {
             "shape": ""
            }
           },
           "name": "Industrial Consumption",
           "orientation": "v",
           "showlegend": true,
           "textposition": "auto",
           "type": "bar",
           "x": [
            "Industrial Consumption"
           ],
           "xaxis": "x",
           "y": {
            "bdata": "bw==",
            "dtype": "i1"
           },
           "yaxis": "y"
          },
          {
           "hovertemplate": "Process Type=%{x}<br>month_period_str=2025-05<br>Cumulative Count=%{y}<extra></extra>",
           "legendgroup": "Residential Consumption",
           "marker": {
            "color": "#ab63fa",
            "pattern": {
             "shape": ""
            }
           },
           "name": "Residential Consumption",
           "orientation": "v",
           "showlegend": true,
           "textposition": "auto",
           "type": "bar",
           "x": [
            "Residential Consumption"
           ],
           "xaxis": "x",
           "y": {
            "bdata": "swA=",
            "dtype": "i2"
           },
           "yaxis": "y"
          },
          {
           "hovertemplate": "Process Type=%{x}<br>month_period_str=2025-05<br>Cumulative Count=%{y}<extra></extra>",
           "legendgroup": "Vehicle Fuel Consumption",
           "marker": {
            "color": "#FFA15A",
            "pattern": {
             "shape": ""
            }
           },
           "name": "Vehicle Fuel Consumption",
           "orientation": "v",
           "showlegend": true,
           "textposition": "auto",
           "type": "bar",
           "x": [
            "Vehicle Fuel Consumption"
           ],
           "xaxis": "x",
           "y": {
            "bdata": "tgA=",
            "dtype": "i2"
           },
           "yaxis": "y"
          },
          {
           "hovertemplate": "Process Type=%{x}<br>month_period_str=2025-05<br>Cumulative Count=%{y}<extra></extra>",
           "legendgroup": "Electric Power Consumption",
           "marker": {
            "color": "#19d3f3",
            "pattern": {
             "shape": ""
            }
           },
           "name": "Electric Power Consumption",
           "orientation": "v",
           "showlegend": true,
           "textposition": "auto",
           "type": "bar",
           "x": [
            "Electric Power Consumption"
           ],
           "xaxis": "x",
           "y": {
            "bdata": "JA==",
            "dtype": "i1"
           },
           "yaxis": "y"
          }
         ],
         "name": "2025-05"
        },
        {
         "data": [
          {
           "hovertemplate": "Process Type=%{x}<br>month_period_str=2025-06<br>Cumulative Count=%{y}<extra></extra>",
           "legendgroup": "Commercial Consumption",
           "marker": {
            "color": "#636efa",
            "pattern": {
             "shape": ""
            }
           },
           "name": "Commercial Consumption",
           "orientation": "v",
           "showlegend": true,
           "textposition": "auto",
           "type": "bar",
           "x": [
            "Commercial Consumption"
           ],
           "xaxis": "x",
           "y": {
            "bdata": "uwA=",
            "dtype": "i2"
           },
           "yaxis": "y"
          },
          {
           "hovertemplate": "Process Type=%{x}<br>month_period_str=2025-06<br>Cumulative Count=%{y}<extra></extra>",
           "legendgroup": "Delivered to Consumers",
           "marker": {
            "color": "#EF553B",
            "pattern": {
             "shape": ""
            }
           },
           "name": "Delivered to Consumers",
           "orientation": "v",
           "showlegend": true,
           "textposition": "auto",
           "type": "bar",
           "x": [
            "Delivered to Consumers"
           ],
           "xaxis": "x",
           "y": {
            "bdata": "ugA=",
            "dtype": "i2"
           },
           "yaxis": "y"
          },
          {
           "hovertemplate": "Process Type=%{x}<br>month_period_str=2025-06<br>Cumulative Count=%{y}<extra></extra>",
           "legendgroup": "Industrial Consumption",
           "marker": {
            "color": "#00cc96",
            "pattern": {
             "shape": ""
            }
           },
           "name": "Industrial Consumption",
           "orientation": "v",
           "showlegend": true,
           "textposition": "auto",
           "type": "bar",
           "x": [
            "Industrial Consumption"
           ],
           "xaxis": "x",
           "y": {
            "bdata": "cA==",
            "dtype": "i1"
           },
           "yaxis": "y"
          },
          {
           "hovertemplate": "Process Type=%{x}<br>month_period_str=2025-06<br>Cumulative Count=%{y}<extra></extra>",
           "legendgroup": "Residential Consumption",
           "marker": {
            "color": "#ab63fa",
            "pattern": {
             "shape": ""
            }
           },
           "name": "Residential Consumption",
           "orientation": "v",
           "showlegend": true,
           "textposition": "auto",
           "type": "bar",
           "x": [
            "Residential Consumption"
           ],
           "xaxis": "x",
           "y": {
            "bdata": "tAA=",
            "dtype": "i2"
           },
           "yaxis": "y"
          },
          {
           "hovertemplate": "Process Type=%{x}<br>month_period_str=2025-06<br>Cumulative Count=%{y}<extra></extra>",
           "legendgroup": "Vehicle Fuel Consumption",
           "marker": {
            "color": "#FFA15A",
            "pattern": {
             "shape": ""
            }
           },
           "name": "Vehicle Fuel Consumption",
           "orientation": "v",
           "showlegend": true,
           "textposition": "auto",
           "type": "bar",
           "x": [
            "Vehicle Fuel Consumption"
           ],
           "xaxis": "x",
           "y": {
            "bdata": "twA=",
            "dtype": "i2"
           },
           "yaxis": "y"
          },
          {
           "hovertemplate": "Process Type=%{x}<br>month_period_str=2025-06<br>Cumulative Count=%{y}<extra></extra>",
           "legendgroup": "Electric Power Consumption",
           "marker": {
            "color": "#19d3f3",
            "pattern": {
             "shape": ""
            }
           },
           "name": "Electric Power Consumption",
           "orientation": "v",
           "showlegend": true,
           "textposition": "auto",
           "type": "bar",
           "x": [
            "Electric Power Consumption"
           ],
           "xaxis": "x",
           "y": {
            "bdata": "JA==",
            "dtype": "i1"
           },
           "yaxis": "y"
          }
         ],
         "name": "2025-06"
        }
       ],
       "layout": {
        "barmode": "relative",
        "height": 800,
        "legend": {
         "title": {
          "text": "Process Type"
         },
         "tracegroupgap": 0
        },
        "sliders": [
         {
          "active": 0,
          "currentvalue": {
           "prefix": "month_period_str="
          },
          "len": 0.9,
          "pad": {
           "b": 10,
           "t": 60
          },
          "steps": [
           {
            "args": [
             [
              "2010-01"
             ],
             {
              "frame": {
               "duration": 0,
               "redraw": true
              },
              "fromcurrent": true,
              "mode": "immediate",
              "transition": {
               "duration": 0,
               "easing": "linear"
              }
             }
            ],
            "label": "2010-01",
            "method": "animate"
           },
           {
            "args": [
             [
              "2010-02"
             ],
             {
              "frame": {
               "duration": 0,
               "redraw": true
              },
              "fromcurrent": true,
              "mode": "immediate",
              "transition": {
               "duration": 0,
               "easing": "linear"
              }
             }
            ],
            "label": "2010-02",
            "method": "animate"
           },
           {
            "args": [
             [
              "2010-03"
             ],
             {
              "frame": {
               "duration": 0,
               "redraw": true
              },
              "fromcurrent": true,
              "mode": "immediate",
              "transition": {
               "duration": 0,
               "easing": "linear"
              }
             }
            ],
            "label": "2010-03",
            "method": "animate"
           },
           {
            "args": [
             [
              "2010-04"
             ],
             {
              "frame": {
               "duration": 0,
               "redraw": true
              },
              "fromcurrent": true,
              "mode": "immediate",
              "transition": {
               "duration": 0,
               "easing": "linear"
              }
             }
            ],
            "label": "2010-04",
            "method": "animate"
           },
           {
            "args": [
             [
              "2010-05"
             ],
             {
              "frame": {
               "duration": 0,
               "redraw": true
              },
              "fromcurrent": true,
              "mode": "immediate",
              "transition": {
               "duration": 0,
               "easing": "linear"
              }
             }
            ],
            "label": "2010-05",
            "method": "animate"
           },
           {
            "args": [
             [
              "2010-06"
             ],
             {
              "frame": {
               "duration": 0,
               "redraw": true
              },
              "fromcurrent": true,
              "mode": "immediate",
              "transition": {
               "duration": 0,
               "easing": "linear"
              }
             }
            ],
            "label": "2010-06",
            "method": "animate"
           },
           {
            "args": [
             [
              "2010-07"
             ],
             {
              "frame": {
               "duration": 0,
               "redraw": true
              },
              "fromcurrent": true,
              "mode": "immediate",
              "transition": {
               "duration": 0,
               "easing": "linear"
              }
             }
            ],
            "label": "2010-07",
            "method": "animate"
           },
           {
            "args": [
             [
              "2010-08"
             ],
             {
              "frame": {
               "duration": 0,
               "redraw": true
              },
              "fromcurrent": true,
              "mode": "immediate",
              "transition": {
               "duration": 0,
               "easing": "linear"
              }
             }
            ],
            "label": "2010-08",
            "method": "animate"
           },
           {
            "args": [
             [
              "2010-09"
             ],
             {
              "frame": {
               "duration": 0,
               "redraw": true
              },
              "fromcurrent": true,
              "mode": "immediate",
              "transition": {
               "duration": 0,
               "easing": "linear"
              }
             }
            ],
            "label": "2010-09",
            "method": "animate"
           },
           {
            "args": [
             [
              "2010-10"
             ],
             {
              "frame": {
               "duration": 0,
               "redraw": true
              },
              "fromcurrent": true,
              "mode": "immediate",
              "transition": {
               "duration": 0,
               "easing": "linear"
              }
             }
            ],
            "label": "2010-10",
            "method": "animate"
           },
           {
            "args": [
             [
              "2010-11"
             ],
             {
              "frame": {
               "duration": 0,
               "redraw": true
              },
              "fromcurrent": true,
              "mode": "immediate",
              "transition": {
               "duration": 0,
               "easing": "linear"
              }
             }
            ],
            "label": "2010-11",
            "method": "animate"
           },
           {
            "args": [
             [
              "2010-12"
             ],
             {
              "frame": {
               "duration": 0,
               "redraw": true
              },
              "fromcurrent": true,
              "mode": "immediate",
              "transition": {
               "duration": 0,
               "easing": "linear"
              }
             }
            ],
            "label": "2010-12",
            "method": "animate"
           },
           {
            "args": [
             [
              "2011-01"
             ],
             {
              "frame": {
               "duration": 0,
               "redraw": true
              },
              "fromcurrent": true,
              "mode": "immediate",
              "transition": {
               "duration": 0,
               "easing": "linear"
              }
             }
            ],
            "label": "2011-01",
            "method": "animate"
           },
           {
            "args": [
             [
              "2011-02"
             ],
             {
              "frame": {
               "duration": 0,
               "redraw": true
              },
              "fromcurrent": true,
              "mode": "immediate",
              "transition": {
               "duration": 0,
               "easing": "linear"
              }
             }
            ],
            "label": "2011-02",
            "method": "animate"
           },
           {
            "args": [
             [
              "2011-03"
             ],
             {
              "frame": {
               "duration": 0,
               "redraw": true
              },
              "fromcurrent": true,
              "mode": "immediate",
              "transition": {
               "duration": 0,
               "easing": "linear"
              }
             }
            ],
            "label": "2011-03",
            "method": "animate"
           },
           {
            "args": [
             [
              "2011-04"
             ],
             {
              "frame": {
               "duration": 0,
               "redraw": true
              },
              "fromcurrent": true,
              "mode": "immediate",
              "transition": {
               "duration": 0,
               "easing": "linear"
              }
             }
            ],
            "label": "2011-04",
            "method": "animate"
           },
           {
            "args": [
             [
              "2011-05"
             ],
             {
              "frame": {
               "duration": 0,
               "redraw": true
              },
              "fromcurrent": true,
              "mode": "immediate",
              "transition": {
               "duration": 0,
               "easing": "linear"
              }
             }
            ],
            "label": "2011-05",
            "method": "animate"
           },
           {
            "args": [
             [
              "2011-06"
             ],
             {
              "frame": {
               "duration": 0,
               "redraw": true
              },
              "fromcurrent": true,
              "mode": "immediate",
              "transition": {
               "duration": 0,
               "easing": "linear"
              }
             }
            ],
            "label": "2011-06",
            "method": "animate"
           },
           {
            "args": [
             [
              "2011-07"
             ],
             {
              "frame": {
               "duration": 0,
               "redraw": true
              },
              "fromcurrent": true,
              "mode": "immediate",
              "transition": {
               "duration": 0,
               "easing": "linear"
              }
             }
            ],
            "label": "2011-07",
            "method": "animate"
           },
           {
            "args": [
             [
              "2011-08"
             ],
             {
              "frame": {
               "duration": 0,
               "redraw": true
              },
              "fromcurrent": true,
              "mode": "immediate",
              "transition": {
               "duration": 0,
               "easing": "linear"
              }
             }
            ],
            "label": "2011-08",
            "method": "animate"
           },
           {
            "args": [
             [
              "2011-09"
             ],
             {
              "frame": {
               "duration": 0,
               "redraw": true
              },
              "fromcurrent": true,
              "mode": "immediate",
              "transition": {
               "duration": 0,
               "easing": "linear"
              }
             }
            ],
            "label": "2011-09",
            "method": "animate"
           },
           {
            "args": [
             [
              "2011-10"
             ],
             {
              "frame": {
               "duration": 0,
               "redraw": true
              },
              "fromcurrent": true,
              "mode": "immediate",
              "transition": {
               "duration": 0,
               "easing": "linear"
              }
             }
            ],
            "label": "2011-10",
            "method": "animate"
           },
           {
            "args": [
             [
              "2011-11"
             ],
             {
              "frame": {
               "duration": 0,
               "redraw": true
              },
              "fromcurrent": true,
              "mode": "immediate",
              "transition": {
               "duration": 0,
               "easing": "linear"
              }
             }
            ],
            "label": "2011-11",
            "method": "animate"
           },
           {
            "args": [
             [
              "2011-12"
             ],
             {
              "frame": {
               "duration": 0,
               "redraw": true
              },
              "fromcurrent": true,
              "mode": "immediate",
              "transition": {
               "duration": 0,
               "easing": "linear"
              }
             }
            ],
            "label": "2011-12",
            "method": "animate"
           },
           {
            "args": [
             [
              "2012-01"
             ],
             {
              "frame": {
               "duration": 0,
               "redraw": true
              },
              "fromcurrent": true,
              "mode": "immediate",
              "transition": {
               "duration": 0,
               "easing": "linear"
              }
             }
            ],
            "label": "2012-01",
            "method": "animate"
           },
           {
            "args": [
             [
              "2012-02"
             ],
             {
              "frame": {
               "duration": 0,
               "redraw": true
              },
              "fromcurrent": true,
              "mode": "immediate",
              "transition": {
               "duration": 0,
               "easing": "linear"
              }
             }
            ],
            "label": "2012-02",
            "method": "animate"
           },
           {
            "args": [
             [
              "2012-03"
             ],
             {
              "frame": {
               "duration": 0,
               "redraw": true
              },
              "fromcurrent": true,
              "mode": "immediate",
              "transition": {
               "duration": 0,
               "easing": "linear"
              }
             }
            ],
            "label": "2012-03",
            "method": "animate"
           },
           {
            "args": [
             [
              "2012-04"
             ],
             {
              "frame": {
               "duration": 0,
               "redraw": true
              },
              "fromcurrent": true,
              "mode": "immediate",
              "transition": {
               "duration": 0,
               "easing": "linear"
              }
             }
            ],
            "label": "2012-04",
            "method": "animate"
           },
           {
            "args": [
             [
              "2012-05"
             ],
             {
              "frame": {
               "duration": 0,
               "redraw": true
              },
              "fromcurrent": true,
              "mode": "immediate",
              "transition": {
               "duration": 0,
               "easing": "linear"
              }
             }
            ],
            "label": "2012-05",
            "method": "animate"
           },
           {
            "args": [
             [
              "2012-06"
             ],
             {
              "frame": {
               "duration": 0,
               "redraw": true
              },
              "fromcurrent": true,
              "mode": "immediate",
              "transition": {
               "duration": 0,
               "easing": "linear"
              }
             }
            ],
            "label": "2012-06",
            "method": "animate"
           },
           {
            "args": [
             [
              "2012-07"
             ],
             {
              "frame": {
               "duration": 0,
               "redraw": true
              },
              "fromcurrent": true,
              "mode": "immediate",
              "transition": {
               "duration": 0,
               "easing": "linear"
              }
             }
            ],
            "label": "2012-07",
            "method": "animate"
           },
           {
            "args": [
             [
              "2012-08"
             ],
             {
              "frame": {
               "duration": 0,
               "redraw": true
              },
              "fromcurrent": true,
              "mode": "immediate",
              "transition": {
               "duration": 0,
               "easing": "linear"
              }
             }
            ],
            "label": "2012-08",
            "method": "animate"
           },
           {
            "args": [
             [
              "2012-09"
             ],
             {
              "frame": {
               "duration": 0,
               "redraw": true
              },
              "fromcurrent": true,
              "mode": "immediate",
              "transition": {
               "duration": 0,
               "easing": "linear"
              }
             }
            ],
            "label": "2012-09",
            "method": "animate"
           },
           {
            "args": [
             [
              "2012-10"
             ],
             {
              "frame": {
               "duration": 0,
               "redraw": true
              },
              "fromcurrent": true,
              "mode": "immediate",
              "transition": {
               "duration": 0,
               "easing": "linear"
              }
             }
            ],
            "label": "2012-10",
            "method": "animate"
           },
           {
            "args": [
             [
              "2012-11"
             ],
             {
              "frame": {
               "duration": 0,
               "redraw": true
              },
              "fromcurrent": true,
              "mode": "immediate",
              "transition": {
               "duration": 0,
               "easing": "linear"
              }
             }
            ],
            "label": "2012-11",
            "method": "animate"
           },
           {
            "args": [
             [
              "2012-12"
             ],
             {
              "frame": {
               "duration": 0,
               "redraw": true
              },
              "fromcurrent": true,
              "mode": "immediate",
              "transition": {
               "duration": 0,
               "easing": "linear"
              }
             }
            ],
            "label": "2012-12",
            "method": "animate"
           },
           {
            "args": [
             [
              "2013-01"
             ],
             {
              "frame": {
               "duration": 0,
               "redraw": true
              },
              "fromcurrent": true,
              "mode": "immediate",
              "transition": {
               "duration": 0,
               "easing": "linear"
              }
             }
            ],
            "label": "2013-01",
            "method": "animate"
           },
           {
            "args": [
             [
              "2013-02"
             ],
             {
              "frame": {
               "duration": 0,
               "redraw": true
              },
              "fromcurrent": true,
              "mode": "immediate",
              "transition": {
               "duration": 0,
               "easing": "linear"
              }
             }
            ],
            "label": "2013-02",
            "method": "animate"
           },
           {
            "args": [
             [
              "2013-03"
             ],
             {
              "frame": {
               "duration": 0,
               "redraw": true
              },
              "fromcurrent": true,
              "mode": "immediate",
              "transition": {
               "duration": 0,
               "easing": "linear"
              }
             }
            ],
            "label": "2013-03",
            "method": "animate"
           },
           {
            "args": [
             [
              "2013-04"
             ],
             {
              "frame": {
               "duration": 0,
               "redraw": true
              },
              "fromcurrent": true,
              "mode": "immediate",
              "transition": {
               "duration": 0,
               "easing": "linear"
              }
             }
            ],
            "label": "2013-04",
            "method": "animate"
           },
           {
            "args": [
             [
              "2013-05"
             ],
             {
              "frame": {
               "duration": 0,
               "redraw": true
              },
              "fromcurrent": true,
              "mode": "immediate",
              "transition": {
               "duration": 0,
               "easing": "linear"
              }
             }
            ],
            "label": "2013-05",
            "method": "animate"
           },
           {
            "args": [
             [
              "2013-06"
             ],
             {
              "frame": {
               "duration": 0,
               "redraw": true
              },
              "fromcurrent": true,
              "mode": "immediate",
              "transition": {
               "duration": 0,
               "easing": "linear"
              }
             }
            ],
            "label": "2013-06",
            "method": "animate"
           },
           {
            "args": [
             [
              "2013-07"
             ],
             {
              "frame": {
               "duration": 0,
               "redraw": true
              },
              "fromcurrent": true,
              "mode": "immediate",
              "transition": {
               "duration": 0,
               "easing": "linear"
              }
             }
            ],
            "label": "2013-07",
            "method": "animate"
           },
           {
            "args": [
             [
              "2013-08"
             ],
             {
              "frame": {
               "duration": 0,
               "redraw": true
              },
              "fromcurrent": true,
              "mode": "immediate",
              "transition": {
               "duration": 0,
               "easing": "linear"
              }
             }
            ],
            "label": "2013-08",
            "method": "animate"
           },
           {
            "args": [
             [
              "2013-09"
             ],
             {
              "frame": {
               "duration": 0,
               "redraw": true
              },
              "fromcurrent": true,
              "mode": "immediate",
              "transition": {
               "duration": 0,
               "easing": "linear"
              }
             }
            ],
            "label": "2013-09",
            "method": "animate"
           },
           {
            "args": [
             [
              "2013-10"
             ],
             {
              "frame": {
               "duration": 0,
               "redraw": true
              },
              "fromcurrent": true,
              "mode": "immediate",
              "transition": {
               "duration": 0,
               "easing": "linear"
              }
             }
            ],
            "label": "2013-10",
            "method": "animate"
           },
           {
            "args": [
             [
              "2013-11"
             ],
             {
              "frame": {
               "duration": 0,
               "redraw": true
              },
              "fromcurrent": true,
              "mode": "immediate",
              "transition": {
               "duration": 0,
               "easing": "linear"
              }
             }
            ],
            "label": "2013-11",
            "method": "animate"
           },
           {
            "args": [
             [
              "2013-12"
             ],
             {
              "frame": {
               "duration": 0,
               "redraw": true
              },
              "fromcurrent": true,
              "mode": "immediate",
              "transition": {
               "duration": 0,
               "easing": "linear"
              }
             }
            ],
            "label": "2013-12",
            "method": "animate"
           },
           {
            "args": [
             [
              "2014-01"
             ],
             {
              "frame": {
               "duration": 0,
               "redraw": true
              },
              "fromcurrent": true,
              "mode": "immediate",
              "transition": {
               "duration": 0,
               "easing": "linear"
              }
             }
            ],
            "label": "2014-01",
            "method": "animate"
           },
           {
            "args": [
             [
              "2014-02"
             ],
             {
              "frame": {
               "duration": 0,
               "redraw": true
              },
              "fromcurrent": true,
              "mode": "immediate",
              "transition": {
               "duration": 0,
               "easing": "linear"
              }
             }
            ],
            "label": "2014-02",
            "method": "animate"
           },
           {
            "args": [
             [
              "2014-03"
             ],
             {
              "frame": {
               "duration": 0,
               "redraw": true
              },
              "fromcurrent": true,
              "mode": "immediate",
              "transition": {
               "duration": 0,
               "easing": "linear"
              }
             }
            ],
            "label": "2014-03",
            "method": "animate"
           },
           {
            "args": [
             [
              "2014-04"
             ],
             {
              "frame": {
               "duration": 0,
               "redraw": true
              },
              "fromcurrent": true,
              "mode": "immediate",
              "transition": {
               "duration": 0,
               "easing": "linear"
              }
             }
            ],
            "label": "2014-04",
            "method": "animate"
           },
           {
            "args": [
             [
              "2014-05"
             ],
             {
              "frame": {
               "duration": 0,
               "redraw": true
              },
              "fromcurrent": true,
              "mode": "immediate",
              "transition": {
               "duration": 0,
               "easing": "linear"
              }
             }
            ],
            "label": "2014-05",
            "method": "animate"
           },
           {
            "args": [
             [
              "2014-06"
             ],
             {
              "frame": {
               "duration": 0,
               "redraw": true
              },
              "fromcurrent": true,
              "mode": "immediate",
              "transition": {
               "duration": 0,
               "easing": "linear"
              }
             }
            ],
            "label": "2014-06",
            "method": "animate"
           },
           {
            "args": [
             [
              "2014-07"
             ],
             {
              "frame": {
               "duration": 0,
               "redraw": true
              },
              "fromcurrent": true,
              "mode": "immediate",
              "transition": {
               "duration": 0,
               "easing": "linear"
              }
             }
            ],
            "label": "2014-07",
            "method": "animate"
           },
           {
            "args": [
             [
              "2014-08"
             ],
             {
              "frame": {
               "duration": 0,
               "redraw": true
              },
              "fromcurrent": true,
              "mode": "immediate",
              "transition": {
               "duration": 0,
               "easing": "linear"
              }
             }
            ],
            "label": "2014-08",
            "method": "animate"
           },
           {
            "args": [
             [
              "2014-09"
             ],
             {
              "frame": {
               "duration": 0,
               "redraw": true
              },
              "fromcurrent": true,
              "mode": "immediate",
              "transition": {
               "duration": 0,
               "easing": "linear"
              }
             }
            ],
            "label": "2014-09",
            "method": "animate"
           },
           {
            "args": [
             [
              "2014-10"
             ],
             {
              "frame": {
               "duration": 0,
               "redraw": true
              },
              "fromcurrent": true,
              "mode": "immediate",
              "transition": {
               "duration": 0,
               "easing": "linear"
              }
             }
            ],
            "label": "2014-10",
            "method": "animate"
           },
           {
            "args": [
             [
              "2014-11"
             ],
             {
              "frame": {
               "duration": 0,
               "redraw": true
              },
              "fromcurrent": true,
              "mode": "immediate",
              "transition": {
               "duration": 0,
               "easing": "linear"
              }
             }
            ],
            "label": "2014-11",
            "method": "animate"
           },
           {
            "args": [
             [
              "2014-12"
             ],
             {
              "frame": {
               "duration": 0,
               "redraw": true
              },
              "fromcurrent": true,
              "mode": "immediate",
              "transition": {
               "duration": 0,
               "easing": "linear"
              }
             }
            ],
            "label": "2014-12",
            "method": "animate"
           },
           {
            "args": [
             [
              "2015-01"
             ],
             {
              "frame": {
               "duration": 0,
               "redraw": true
              },
              "fromcurrent": true,
              "mode": "immediate",
              "transition": {
               "duration": 0,
               "easing": "linear"
              }
             }
            ],
            "label": "2015-01",
            "method": "animate"
           },
           {
            "args": [
             [
              "2015-02"
             ],
             {
              "frame": {
               "duration": 0,
               "redraw": true
              },
              "fromcurrent": true,
              "mode": "immediate",
              "transition": {
               "duration": 0,
               "easing": "linear"
              }
             }
            ],
            "label": "2015-02",
            "method": "animate"
           },
           {
            "args": [
             [
              "2015-03"
             ],
             {
              "frame": {
               "duration": 0,
               "redraw": true
              },
              "fromcurrent": true,
              "mode": "immediate",
              "transition": {
               "duration": 0,
               "easing": "linear"
              }
             }
            ],
            "label": "2015-03",
            "method": "animate"
           },
           {
            "args": [
             [
              "2015-04"
             ],
             {
              "frame": {
               "duration": 0,
               "redraw": true
              },
              "fromcurrent": true,
              "mode": "immediate",
              "transition": {
               "duration": 0,
               "easing": "linear"
              }
             }
            ],
            "label": "2015-04",
            "method": "animate"
           },
           {
            "args": [
             [
              "2015-05"
             ],
             {
              "frame": {
               "duration": 0,
               "redraw": true
              },
              "fromcurrent": true,
              "mode": "immediate",
              "transition": {
               "duration": 0,
               "easing": "linear"
              }
             }
            ],
            "label": "2015-05",
            "method": "animate"
           },
           {
            "args": [
             [
              "2015-06"
             ],
             {
              "frame": {
               "duration": 0,
               "redraw": true
              },
              "fromcurrent": true,
              "mode": "immediate",
              "transition": {
               "duration": 0,
               "easing": "linear"
              }
             }
            ],
            "label": "2015-06",
            "method": "animate"
           },
           {
            "args": [
             [
              "2015-07"
             ],
             {
              "frame": {
               "duration": 0,
               "redraw": true
              },
              "fromcurrent": true,
              "mode": "immediate",
              "transition": {
               "duration": 0,
               "easing": "linear"
              }
             }
            ],
            "label": "2015-07",
            "method": "animate"
           },
           {
            "args": [
             [
              "2015-08"
             ],
             {
              "frame": {
               "duration": 0,
               "redraw": true
              },
              "fromcurrent": true,
              "mode": "immediate",
              "transition": {
               "duration": 0,
               "easing": "linear"
              }
             }
            ],
            "label": "2015-08",
            "method": "animate"
           },
           {
            "args": [
             [
              "2015-09"
             ],
             {
              "frame": {
               "duration": 0,
               "redraw": true
              },
              "fromcurrent": true,
              "mode": "immediate",
              "transition": {
               "duration": 0,
               "easing": "linear"
              }
             }
            ],
            "label": "2015-09",
            "method": "animate"
           },
           {
            "args": [
             [
              "2015-10"
             ],
             {
              "frame": {
               "duration": 0,
               "redraw": true
              },
              "fromcurrent": true,
              "mode": "immediate",
              "transition": {
               "duration": 0,
               "easing": "linear"
              }
             }
            ],
            "label": "2015-10",
            "method": "animate"
           },
           {
            "args": [
             [
              "2015-11"
             ],
             {
              "frame": {
               "duration": 0,
               "redraw": true
              },
              "fromcurrent": true,
              "mode": "immediate",
              "transition": {
               "duration": 0,
               "easing": "linear"
              }
             }
            ],
            "label": "2015-11",
            "method": "animate"
           },
           {
            "args": [
             [
              "2015-12"
             ],
             {
              "frame": {
               "duration": 0,
               "redraw": true
              },
              "fromcurrent": true,
              "mode": "immediate",
              "transition": {
               "duration": 0,
               "easing": "linear"
              }
             }
            ],
            "label": "2015-12",
            "method": "animate"
           },
           {
            "args": [
             [
              "2016-01"
             ],
             {
              "frame": {
               "duration": 0,
               "redraw": true
              },
              "fromcurrent": true,
              "mode": "immediate",
              "transition": {
               "duration": 0,
               "easing": "linear"
              }
             }
            ],
            "label": "2016-01",
            "method": "animate"
           },
           {
            "args": [
             [
              "2016-02"
             ],
             {
              "frame": {
               "duration": 0,
               "redraw": true
              },
              "fromcurrent": true,
              "mode": "immediate",
              "transition": {
               "duration": 0,
               "easing": "linear"
              }
             }
            ],
            "label": "2016-02",
            "method": "animate"
           },
           {
            "args": [
             [
              "2016-03"
             ],
             {
              "frame": {
               "duration": 0,
               "redraw": true
              },
              "fromcurrent": true,
              "mode": "immediate",
              "transition": {
               "duration": 0,
               "easing": "linear"
              }
             }
            ],
            "label": "2016-03",
            "method": "animate"
           },
           {
            "args": [
             [
              "2016-04"
             ],
             {
              "frame": {
               "duration": 0,
               "redraw": true
              },
              "fromcurrent": true,
              "mode": "immediate",
              "transition": {
               "duration": 0,
               "easing": "linear"
              }
             }
            ],
            "label": "2016-04",
            "method": "animate"
           },
           {
            "args": [
             [
              "2016-05"
             ],
             {
              "frame": {
               "duration": 0,
               "redraw": true
              },
              "fromcurrent": true,
              "mode": "immediate",
              "transition": {
               "duration": 0,
               "easing": "linear"
              }
             }
            ],
            "label": "2016-05",
            "method": "animate"
           },
           {
            "args": [
             [
              "2016-06"
             ],
             {
              "frame": {
               "duration": 0,
               "redraw": true
              },
              "fromcurrent": true,
              "mode": "immediate",
              "transition": {
               "duration": 0,
               "easing": "linear"
              }
             }
            ],
            "label": "2016-06",
            "method": "animate"
           },
           {
            "args": [
             [
              "2016-07"
             ],
             {
              "frame": {
               "duration": 0,
               "redraw": true
              },
              "fromcurrent": true,
              "mode": "immediate",
              "transition": {
               "duration": 0,
               "easing": "linear"
              }
             }
            ],
            "label": "2016-07",
            "method": "animate"
           },
           {
            "args": [
             [
              "2016-08"
             ],
             {
              "frame": {
               "duration": 0,
               "redraw": true
              },
              "fromcurrent": true,
              "mode": "immediate",
              "transition": {
               "duration": 0,
               "easing": "linear"
              }
             }
            ],
            "label": "2016-08",
            "method": "animate"
           },
           {
            "args": [
             [
              "2016-09"
             ],
             {
              "frame": {
               "duration": 0,
               "redraw": true
              },
              "fromcurrent": true,
              "mode": "immediate",
              "transition": {
               "duration": 0,
               "easing": "linear"
              }
             }
            ],
            "label": "2016-09",
            "method": "animate"
           },
           {
            "args": [
             [
              "2016-10"
             ],
             {
              "frame": {
               "duration": 0,
               "redraw": true
              },
              "fromcurrent": true,
              "mode": "immediate",
              "transition": {
               "duration": 0,
               "easing": "linear"
              }
             }
            ],
            "label": "2016-10",
            "method": "animate"
           },
           {
            "args": [
             [
              "2016-11"
             ],
             {
              "frame": {
               "duration": 0,
               "redraw": true
              },
              "fromcurrent": true,
              "mode": "immediate",
              "transition": {
               "duration": 0,
               "easing": "linear"
              }
             }
            ],
            "label": "2016-11",
            "method": "animate"
           },
           {
            "args": [
             [
              "2016-12"
             ],
             {
              "frame": {
               "duration": 0,
               "redraw": true
              },
              "fromcurrent": true,
              "mode": "immediate",
              "transition": {
               "duration": 0,
               "easing": "linear"
              }
             }
            ],
            "label": "2016-12",
            "method": "animate"
           },
           {
            "args": [
             [
              "2017-01"
             ],
             {
              "frame": {
               "duration": 0,
               "redraw": true
              },
              "fromcurrent": true,
              "mode": "immediate",
              "transition": {
               "duration": 0,
               "easing": "linear"
              }
             }
            ],
            "label": "2017-01",
            "method": "animate"
           },
           {
            "args": [
             [
              "2017-02"
             ],
             {
              "frame": {
               "duration": 0,
               "redraw": true
              },
              "fromcurrent": true,
              "mode": "immediate",
              "transition": {
               "duration": 0,
               "easing": "linear"
              }
             }
            ],
            "label": "2017-02",
            "method": "animate"
           },
           {
            "args": [
             [
              "2017-03"
             ],
             {
              "frame": {
               "duration": 0,
               "redraw": true
              },
              "fromcurrent": true,
              "mode": "immediate",
              "transition": {
               "duration": 0,
               "easing": "linear"
              }
             }
            ],
            "label": "2017-03",
            "method": "animate"
           },
           {
            "args": [
             [
              "2017-04"
             ],
             {
              "frame": {
               "duration": 0,
               "redraw": true
              },
              "fromcurrent": true,
              "mode": "immediate",
              "transition": {
               "duration": 0,
               "easing": "linear"
              }
             }
            ],
            "label": "2017-04",
            "method": "animate"
           },
           {
            "args": [
             [
              "2017-05"
             ],
             {
              "frame": {
               "duration": 0,
               "redraw": true
              },
              "fromcurrent": true,
              "mode": "immediate",
              "transition": {
               "duration": 0,
               "easing": "linear"
              }
             }
            ],
            "label": "2017-05",
            "method": "animate"
           },
           {
            "args": [
             [
              "2017-06"
             ],
             {
              "frame": {
               "duration": 0,
               "redraw": true
              },
              "fromcurrent": true,
              "mode": "immediate",
              "transition": {
               "duration": 0,
               "easing": "linear"
              }
             }
            ],
            "label": "2017-06",
            "method": "animate"
           },
           {
            "args": [
             [
              "2017-07"
             ],
             {
              "frame": {
               "duration": 0,
               "redraw": true
              },
              "fromcurrent": true,
              "mode": "immediate",
              "transition": {
               "duration": 0,
               "easing": "linear"
              }
             }
            ],
            "label": "2017-07",
            "method": "animate"
           },
           {
            "args": [
             [
              "2017-08"
             ],
             {
              "frame": {
               "duration": 0,
               "redraw": true
              },
              "fromcurrent": true,
              "mode": "immediate",
              "transition": {
               "duration": 0,
               "easing": "linear"
              }
             }
            ],
            "label": "2017-08",
            "method": "animate"
           },
           {
            "args": [
             [
              "2017-09"
             ],
             {
              "frame": {
               "duration": 0,
               "redraw": true
              },
              "fromcurrent": true,
              "mode": "immediate",
              "transition": {
               "duration": 0,
               "easing": "linear"
              }
             }
            ],
            "label": "2017-09",
            "method": "animate"
           },
           {
            "args": [
             [
              "2017-10"
             ],
             {
              "frame": {
               "duration": 0,
               "redraw": true
              },
              "fromcurrent": true,
              "mode": "immediate",
              "transition": {
               "duration": 0,
               "easing": "linear"
              }
             }
            ],
            "label": "2017-10",
            "method": "animate"
           },
           {
            "args": [
             [
              "2017-11"
             ],
             {
              "frame": {
               "duration": 0,
               "redraw": true
              },
              "fromcurrent": true,
              "mode": "immediate",
              "transition": {
               "duration": 0,
               "easing": "linear"
              }
             }
            ],
            "label": "2017-11",
            "method": "animate"
           },
           {
            "args": [
             [
              "2017-12"
             ],
             {
              "frame": {
               "duration": 0,
               "redraw": true
              },
              "fromcurrent": true,
              "mode": "immediate",
              "transition": {
               "duration": 0,
               "easing": "linear"
              }
             }
            ],
            "label": "2017-12",
            "method": "animate"
           },
           {
            "args": [
             [
              "2018-01"
             ],
             {
              "frame": {
               "duration": 0,
               "redraw": true
              },
              "fromcurrent": true,
              "mode": "immediate",
              "transition": {
               "duration": 0,
               "easing": "linear"
              }
             }
            ],
            "label": "2018-01",
            "method": "animate"
           },
           {
            "args": [
             [
              "2018-02"
             ],
             {
              "frame": {
               "duration": 0,
               "redraw": true
              },
              "fromcurrent": true,
              "mode": "immediate",
              "transition": {
               "duration": 0,
               "easing": "linear"
              }
             }
            ],
            "label": "2018-02",
            "method": "animate"
           },
           {
            "args": [
             [
              "2018-03"
             ],
             {
              "frame": {
               "duration": 0,
               "redraw": true
              },
              "fromcurrent": true,
              "mode": "immediate",
              "transition": {
               "duration": 0,
               "easing": "linear"
              }
             }
            ],
            "label": "2018-03",
            "method": "animate"
           },
           {
            "args": [
             [
              "2018-04"
             ],
             {
              "frame": {
               "duration": 0,
               "redraw": true
              },
              "fromcurrent": true,
              "mode": "immediate",
              "transition": {
               "duration": 0,
               "easing": "linear"
              }
             }
            ],
            "label": "2018-04",
            "method": "animate"
           },
           {
            "args": [
             [
              "2018-05"
             ],
             {
              "frame": {
               "duration": 0,
               "redraw": true
              },
              "fromcurrent": true,
              "mode": "immediate",
              "transition": {
               "duration": 0,
               "easing": "linear"
              }
             }
            ],
            "label": "2018-05",
            "method": "animate"
           },
           {
            "args": [
             [
              "2018-06"
             ],
             {
              "frame": {
               "duration": 0,
               "redraw": true
              },
              "fromcurrent": true,
              "mode": "immediate",
              "transition": {
               "duration": 0,
               "easing": "linear"
              }
             }
            ],
            "label": "2018-06",
            "method": "animate"
           },
           {
            "args": [
             [
              "2018-07"
             ],
             {
              "frame": {
               "duration": 0,
               "redraw": true
              },
              "fromcurrent": true,
              "mode": "immediate",
              "transition": {
               "duration": 0,
               "easing": "linear"
              }
             }
            ],
            "label": "2018-07",
            "method": "animate"
           },
           {
            "args": [
             [
              "2018-08"
             ],
             {
              "frame": {
               "duration": 0,
               "redraw": true
              },
              "fromcurrent": true,
              "mode": "immediate",
              "transition": {
               "duration": 0,
               "easing": "linear"
              }
             }
            ],
            "label": "2018-08",
            "method": "animate"
           },
           {
            "args": [
             [
              "2018-09"
             ],
             {
              "frame": {
               "duration": 0,
               "redraw": true
              },
              "fromcurrent": true,
              "mode": "immediate",
              "transition": {
               "duration": 0,
               "easing": "linear"
              }
             }
            ],
            "label": "2018-09",
            "method": "animate"
           },
           {
            "args": [
             [
              "2018-10"
             ],
             {
              "frame": {
               "duration": 0,
               "redraw": true
              },
              "fromcurrent": true,
              "mode": "immediate",
              "transition": {
               "duration": 0,
               "easing": "linear"
              }
             }
            ],
            "label": "2018-10",
            "method": "animate"
           },
           {
            "args": [
             [
              "2018-11"
             ],
             {
              "frame": {
               "duration": 0,
               "redraw": true
              },
              "fromcurrent": true,
              "mode": "immediate",
              "transition": {
               "duration": 0,
               "easing": "linear"
              }
             }
            ],
            "label": "2018-11",
            "method": "animate"
           },
           {
            "args": [
             [
              "2018-12"
             ],
             {
              "frame": {
               "duration": 0,
               "redraw": true
              },
              "fromcurrent": true,
              "mode": "immediate",
              "transition": {
               "duration": 0,
               "easing": "linear"
              }
             }
            ],
            "label": "2018-12",
            "method": "animate"
           },
           {
            "args": [
             [
              "2019-01"
             ],
             {
              "frame": {
               "duration": 0,
               "redraw": true
              },
              "fromcurrent": true,
              "mode": "immediate",
              "transition": {
               "duration": 0,
               "easing": "linear"
              }
             }
            ],
            "label": "2019-01",
            "method": "animate"
           },
           {
            "args": [
             [
              "2019-02"
             ],
             {
              "frame": {
               "duration": 0,
               "redraw": true
              },
              "fromcurrent": true,
              "mode": "immediate",
              "transition": {
               "duration": 0,
               "easing": "linear"
              }
             }
            ],
            "label": "2019-02",
            "method": "animate"
           },
           {
            "args": [
             [
              "2019-03"
             ],
             {
              "frame": {
               "duration": 0,
               "redraw": true
              },
              "fromcurrent": true,
              "mode": "immediate",
              "transition": {
               "duration": 0,
               "easing": "linear"
              }
             }
            ],
            "label": "2019-03",
            "method": "animate"
           },
           {
            "args": [
             [
              "2019-04"
             ],
             {
              "frame": {
               "duration": 0,
               "redraw": true
              },
              "fromcurrent": true,
              "mode": "immediate",
              "transition": {
               "duration": 0,
               "easing": "linear"
              }
             }
            ],
            "label": "2019-04",
            "method": "animate"
           },
           {
            "args": [
             [
              "2019-05"
             ],
             {
              "frame": {
               "duration": 0,
               "redraw": true
              },
              "fromcurrent": true,
              "mode": "immediate",
              "transition": {
               "duration": 0,
               "easing": "linear"
              }
             }
            ],
            "label": "2019-05",
            "method": "animate"
           },
           {
            "args": [
             [
              "2019-06"
             ],
             {
              "frame": {
               "duration": 0,
               "redraw": true
              },
              "fromcurrent": true,
              "mode": "immediate",
              "transition": {
               "duration": 0,
               "easing": "linear"
              }
             }
            ],
            "label": "2019-06",
            "method": "animate"
           },
           {
            "args": [
             [
              "2019-07"
             ],
             {
              "frame": {
               "duration": 0,
               "redraw": true
              },
              "fromcurrent": true,
              "mode": "immediate",
              "transition": {
               "duration": 0,
               "easing": "linear"
              }
             }
            ],
            "label": "2019-07",
            "method": "animate"
           },
           {
            "args": [
             [
              "2019-08"
             ],
             {
              "frame": {
               "duration": 0,
               "redraw": true
              },
              "fromcurrent": true,
              "mode": "immediate",
              "transition": {
               "duration": 0,
               "easing": "linear"
              }
             }
            ],
            "label": "2019-08",
            "method": "animate"
           },
           {
            "args": [
             [
              "2019-09"
             ],
             {
              "frame": {
               "duration": 0,
               "redraw": true
              },
              "fromcurrent": true,
              "mode": "immediate",
              "transition": {
               "duration": 0,
               "easing": "linear"
              }
             }
            ],
            "label": "2019-09",
            "method": "animate"
           },
           {
            "args": [
             [
              "2019-10"
             ],
             {
              "frame": {
               "duration": 0,
               "redraw": true
              },
              "fromcurrent": true,
              "mode": "immediate",
              "transition": {
               "duration": 0,
               "easing": "linear"
              }
             }
            ],
            "label": "2019-10",
            "method": "animate"
           },
           {
            "args": [
             [
              "2019-11"
             ],
             {
              "frame": {
               "duration": 0,
               "redraw": true
              },
              "fromcurrent": true,
              "mode": "immediate",
              "transition": {
               "duration": 0,
               "easing": "linear"
              }
             }
            ],
            "label": "2019-11",
            "method": "animate"
           },
           {
            "args": [
             [
              "2019-12"
             ],
             {
              "frame": {
               "duration": 0,
               "redraw": true
              },
              "fromcurrent": true,
              "mode": "immediate",
              "transition": {
               "duration": 0,
               "easing": "linear"
              }
             }
            ],
            "label": "2019-12",
            "method": "animate"
           },
           {
            "args": [
             [
              "2020-01"
             ],
             {
              "frame": {
               "duration": 0,
               "redraw": true
              },
              "fromcurrent": true,
              "mode": "immediate",
              "transition": {
               "duration": 0,
               "easing": "linear"
              }
             }
            ],
            "label": "2020-01",
            "method": "animate"
           },
           {
            "args": [
             [
              "2020-02"
             ],
             {
              "frame": {
               "duration": 0,
               "redraw": true
              },
              "fromcurrent": true,
              "mode": "immediate",
              "transition": {
               "duration": 0,
               "easing": "linear"
              }
             }
            ],
            "label": "2020-02",
            "method": "animate"
           },
           {
            "args": [
             [
              "2020-03"
             ],
             {
              "frame": {
               "duration": 0,
               "redraw": true
              },
              "fromcurrent": true,
              "mode": "immediate",
              "transition": {
               "duration": 0,
               "easing": "linear"
              }
             }
            ],
            "label": "2020-03",
            "method": "animate"
           },
           {
            "args": [
             [
              "2020-04"
             ],
             {
              "frame": {
               "duration": 0,
               "redraw": true
              },
              "fromcurrent": true,
              "mode": "immediate",
              "transition": {
               "duration": 0,
               "easing": "linear"
              }
             }
            ],
            "label": "2020-04",
            "method": "animate"
           },
           {
            "args": [
             [
              "2020-05"
             ],
             {
              "frame": {
               "duration": 0,
               "redraw": true
              },
              "fromcurrent": true,
              "mode": "immediate",
              "transition": {
               "duration": 0,
               "easing": "linear"
              }
             }
            ],
            "label": "2020-05",
            "method": "animate"
           },
           {
            "args": [
             [
              "2020-06"
             ],
             {
              "frame": {
               "duration": 0,
               "redraw": true
              },
              "fromcurrent": true,
              "mode": "immediate",
              "transition": {
               "duration": 0,
               "easing": "linear"
              }
             }
            ],
            "label": "2020-06",
            "method": "animate"
           },
           {
            "args": [
             [
              "2020-07"
             ],
             {
              "frame": {
               "duration": 0,
               "redraw": true
              },
              "fromcurrent": true,
              "mode": "immediate",
              "transition": {
               "duration": 0,
               "easing": "linear"
              }
             }
            ],
            "label": "2020-07",
            "method": "animate"
           },
           {
            "args": [
             [
              "2020-08"
             ],
             {
              "frame": {
               "duration": 0,
               "redraw": true
              },
              "fromcurrent": true,
              "mode": "immediate",
              "transition": {
               "duration": 0,
               "easing": "linear"
              }
             }
            ],
            "label": "2020-08",
            "method": "animate"
           },
           {
            "args": [
             [
              "2020-09"
             ],
             {
              "frame": {
               "duration": 0,
               "redraw": true
              },
              "fromcurrent": true,
              "mode": "immediate",
              "transition": {
               "duration": 0,
               "easing": "linear"
              }
             }
            ],
            "label": "2020-09",
            "method": "animate"
           },
           {
            "args": [
             [
              "2020-10"
             ],
             {
              "frame": {
               "duration": 0,
               "redraw": true
              },
              "fromcurrent": true,
              "mode": "immediate",
              "transition": {
               "duration": 0,
               "easing": "linear"
              }
             }
            ],
            "label": "2020-10",
            "method": "animate"
           },
           {
            "args": [
             [
              "2020-11"
             ],
             {
              "frame": {
               "duration": 0,
               "redraw": true
              },
              "fromcurrent": true,
              "mode": "immediate",
              "transition": {
               "duration": 0,
               "easing": "linear"
              }
             }
            ],
            "label": "2020-11",
            "method": "animate"
           },
           {
            "args": [
             [
              "2020-12"
             ],
             {
              "frame": {
               "duration": 0,
               "redraw": true
              },
              "fromcurrent": true,
              "mode": "immediate",
              "transition": {
               "duration": 0,
               "easing": "linear"
              }
             }
            ],
            "label": "2020-12",
            "method": "animate"
           },
           {
            "args": [
             [
              "2021-01"
             ],
             {
              "frame": {
               "duration": 0,
               "redraw": true
              },
              "fromcurrent": true,
              "mode": "immediate",
              "transition": {
               "duration": 0,
               "easing": "linear"
              }
             }
            ],
            "label": "2021-01",
            "method": "animate"
           },
           {
            "args": [
             [
              "2021-02"
             ],
             {
              "frame": {
               "duration": 0,
               "redraw": true
              },
              "fromcurrent": true,
              "mode": "immediate",
              "transition": {
               "duration": 0,
               "easing": "linear"
              }
             }
            ],
            "label": "2021-02",
            "method": "animate"
           },
           {
            "args": [
             [
              "2021-03"
             ],
             {
              "frame": {
               "duration": 0,
               "redraw": true
              },
              "fromcurrent": true,
              "mode": "immediate",
              "transition": {
               "duration": 0,
               "easing": "linear"
              }
             }
            ],
            "label": "2021-03",
            "method": "animate"
           },
           {
            "args": [
             [
              "2021-04"
             ],
             {
              "frame": {
               "duration": 0,
               "redraw": true
              },
              "fromcurrent": true,
              "mode": "immediate",
              "transition": {
               "duration": 0,
               "easing": "linear"
              }
             }
            ],
            "label": "2021-04",
            "method": "animate"
           },
           {
            "args": [
             [
              "2021-05"
             ],
             {
              "frame": {
               "duration": 0,
               "redraw": true
              },
              "fromcurrent": true,
              "mode": "immediate",
              "transition": {
               "duration": 0,
               "easing": "linear"
              }
             }
            ],
            "label": "2021-05",
            "method": "animate"
           },
           {
            "args": [
             [
              "2021-06"
             ],
             {
              "frame": {
               "duration": 0,
               "redraw": true
              },
              "fromcurrent": true,
              "mode": "immediate",
              "transition": {
               "duration": 0,
               "easing": "linear"
              }
             }
            ],
            "label": "2021-06",
            "method": "animate"
           },
           {
            "args": [
             [
              "2021-07"
             ],
             {
              "frame": {
               "duration": 0,
               "redraw": true
              },
              "fromcurrent": true,
              "mode": "immediate",
              "transition": {
               "duration": 0,
               "easing": "linear"
              }
             }
            ],
            "label": "2021-07",
            "method": "animate"
           },
           {
            "args": [
             [
              "2021-08"
             ],
             {
              "frame": {
               "duration": 0,
               "redraw": true
              },
              "fromcurrent": true,
              "mode": "immediate",
              "transition": {
               "duration": 0,
               "easing": "linear"
              }
             }
            ],
            "label": "2021-08",
            "method": "animate"
           },
           {
            "args": [
             [
              "2021-09"
             ],
             {
              "frame": {
               "duration": 0,
               "redraw": true
              },
              "fromcurrent": true,
              "mode": "immediate",
              "transition": {
               "duration": 0,
               "easing": "linear"
              }
             }
            ],
            "label": "2021-09",
            "method": "animate"
           },
           {
            "args": [
             [
              "2021-10"
             ],
             {
              "frame": {
               "duration": 0,
               "redraw": true
              },
              "fromcurrent": true,
              "mode": "immediate",
              "transition": {
               "duration": 0,
               "easing": "linear"
              }
             }
            ],
            "label": "2021-10",
            "method": "animate"
           },
           {
            "args": [
             [
              "2021-11"
             ],
             {
              "frame": {
               "duration": 0,
               "redraw": true
              },
              "fromcurrent": true,
              "mode": "immediate",
              "transition": {
               "duration": 0,
               "easing": "linear"
              }
             }
            ],
            "label": "2021-11",
            "method": "animate"
           },
           {
            "args": [
             [
              "2021-12"
             ],
             {
              "frame": {
               "duration": 0,
               "redraw": true
              },
              "fromcurrent": true,
              "mode": "immediate",
              "transition": {
               "duration": 0,
               "easing": "linear"
              }
             }
            ],
            "label": "2021-12",
            "method": "animate"
           },
           {
            "args": [
             [
              "2022-01"
             ],
             {
              "frame": {
               "duration": 0,
               "redraw": true
              },
              "fromcurrent": true,
              "mode": "immediate",
              "transition": {
               "duration": 0,
               "easing": "linear"
              }
             }
            ],
            "label": "2022-01",
            "method": "animate"
           },
           {
            "args": [
             [
              "2022-02"
             ],
             {
              "frame": {
               "duration": 0,
               "redraw": true
              },
              "fromcurrent": true,
              "mode": "immediate",
              "transition": {
               "duration": 0,
               "easing": "linear"
              }
             }
            ],
            "label": "2022-02",
            "method": "animate"
           },
           {
            "args": [
             [
              "2022-03"
             ],
             {
              "frame": {
               "duration": 0,
               "redraw": true
              },
              "fromcurrent": true,
              "mode": "immediate",
              "transition": {
               "duration": 0,
               "easing": "linear"
              }
             }
            ],
            "label": "2022-03",
            "method": "animate"
           },
           {
            "args": [
             [
              "2022-04"
             ],
             {
              "frame": {
               "duration": 0,
               "redraw": true
              },
              "fromcurrent": true,
              "mode": "immediate",
              "transition": {
               "duration": 0,
               "easing": "linear"
              }
             }
            ],
            "label": "2022-04",
            "method": "animate"
           },
           {
            "args": [
             [
              "2022-05"
             ],
             {
              "frame": {
               "duration": 0,
               "redraw": true
              },
              "fromcurrent": true,
              "mode": "immediate",
              "transition": {
               "duration": 0,
               "easing": "linear"
              }
             }
            ],
            "label": "2022-05",
            "method": "animate"
           },
           {
            "args": [
             [
              "2022-06"
             ],
             {
              "frame": {
               "duration": 0,
               "redraw": true
              },
              "fromcurrent": true,
              "mode": "immediate",
              "transition": {
               "duration": 0,
               "easing": "linear"
              }
             }
            ],
            "label": "2022-06",
            "method": "animate"
           },
           {
            "args": [
             [
              "2022-07"
             ],
             {
              "frame": {
               "duration": 0,
               "redraw": true
              },
              "fromcurrent": true,
              "mode": "immediate",
              "transition": {
               "duration": 0,
               "easing": "linear"
              }
             }
            ],
            "label": "2022-07",
            "method": "animate"
           },
           {
            "args": [
             [
              "2022-08"
             ],
             {
              "frame": {
               "duration": 0,
               "redraw": true
              },
              "fromcurrent": true,
              "mode": "immediate",
              "transition": {
               "duration": 0,
               "easing": "linear"
              }
             }
            ],
            "label": "2022-08",
            "method": "animate"
           },
           {
            "args": [
             [
              "2022-09"
             ],
             {
              "frame": {
               "duration": 0,
               "redraw": true
              },
              "fromcurrent": true,
              "mode": "immediate",
              "transition": {
               "duration": 0,
               "easing": "linear"
              }
             }
            ],
            "label": "2022-09",
            "method": "animate"
           },
           {
            "args": [
             [
              "2022-10"
             ],
             {
              "frame": {
               "duration": 0,
               "redraw": true
              },
              "fromcurrent": true,
              "mode": "immediate",
              "transition": {
               "duration": 0,
               "easing": "linear"
              }
             }
            ],
            "label": "2022-10",
            "method": "animate"
           },
           {
            "args": [
             [
              "2022-11"
             ],
             {
              "frame": {
               "duration": 0,
               "redraw": true
              },
              "fromcurrent": true,
              "mode": "immediate",
              "transition": {
               "duration": 0,
               "easing": "linear"
              }
             }
            ],
            "label": "2022-11",
            "method": "animate"
           },
           {
            "args": [
             [
              "2022-12"
             ],
             {
              "frame": {
               "duration": 0,
               "redraw": true
              },
              "fromcurrent": true,
              "mode": "immediate",
              "transition": {
               "duration": 0,
               "easing": "linear"
              }
             }
            ],
            "label": "2022-12",
            "method": "animate"
           },
           {
            "args": [
             [
              "2023-01"
             ],
             {
              "frame": {
               "duration": 0,
               "redraw": true
              },
              "fromcurrent": true,
              "mode": "immediate",
              "transition": {
               "duration": 0,
               "easing": "linear"
              }
             }
            ],
            "label": "2023-01",
            "method": "animate"
           },
           {
            "args": [
             [
              "2023-02"
             ],
             {
              "frame": {
               "duration": 0,
               "redraw": true
              },
              "fromcurrent": true,
              "mode": "immediate",
              "transition": {
               "duration": 0,
               "easing": "linear"
              }
             }
            ],
            "label": "2023-02",
            "method": "animate"
           },
           {
            "args": [
             [
              "2023-03"
             ],
             {
              "frame": {
               "duration": 0,
               "redraw": true
              },
              "fromcurrent": true,
              "mode": "immediate",
              "transition": {
               "duration": 0,
               "easing": "linear"
              }
             }
            ],
            "label": "2023-03",
            "method": "animate"
           },
           {
            "args": [
             [
              "2023-04"
             ],
             {
              "frame": {
               "duration": 0,
               "redraw": true
              },
              "fromcurrent": true,
              "mode": "immediate",
              "transition": {
               "duration": 0,
               "easing": "linear"
              }
             }
            ],
            "label": "2023-04",
            "method": "animate"
           },
           {
            "args": [
             [
              "2023-05"
             ],
             {
              "frame": {
               "duration": 0,
               "redraw": true
              },
              "fromcurrent": true,
              "mode": "immediate",
              "transition": {
               "duration": 0,
               "easing": "linear"
              }
             }
            ],
            "label": "2023-05",
            "method": "animate"
           },
           {
            "args": [
             [
              "2023-06"
             ],
             {
              "frame": {
               "duration": 0,
               "redraw": true
              },
              "fromcurrent": true,
              "mode": "immediate",
              "transition": {
               "duration": 0,
               "easing": "linear"
              }
             }
            ],
            "label": "2023-06",
            "method": "animate"
           },
           {
            "args": [
             [
              "2023-07"
             ],
             {
              "frame": {
               "duration": 0,
               "redraw": true
              },
              "fromcurrent": true,
              "mode": "immediate",
              "transition": {
               "duration": 0,
               "easing": "linear"
              }
             }
            ],
            "label": "2023-07",
            "method": "animate"
           },
           {
            "args": [
             [
              "2023-08"
             ],
             {
              "frame": {
               "duration": 0,
               "redraw": true
              },
              "fromcurrent": true,
              "mode": "immediate",
              "transition": {
               "duration": 0,
               "easing": "linear"
              }
             }
            ],
            "label": "2023-08",
            "method": "animate"
           },
           {
            "args": [
             [
              "2023-09"
             ],
             {
              "frame": {
               "duration": 0,
               "redraw": true
              },
              "fromcurrent": true,
              "mode": "immediate",
              "transition": {
               "duration": 0,
               "easing": "linear"
              }
             }
            ],
            "label": "2023-09",
            "method": "animate"
           },
           {
            "args": [
             [
              "2023-10"
             ],
             {
              "frame": {
               "duration": 0,
               "redraw": true
              },
              "fromcurrent": true,
              "mode": "immediate",
              "transition": {
               "duration": 0,
               "easing": "linear"
              }
             }
            ],
            "label": "2023-10",
            "method": "animate"
           },
           {
            "args": [
             [
              "2023-11"
             ],
             {
              "frame": {
               "duration": 0,
               "redraw": true
              },
              "fromcurrent": true,
              "mode": "immediate",
              "transition": {
               "duration": 0,
               "easing": "linear"
              }
             }
            ],
            "label": "2023-11",
            "method": "animate"
           },
           {
            "args": [
             [
              "2023-12"
             ],
             {
              "frame": {
               "duration": 0,
               "redraw": true
              },
              "fromcurrent": true,
              "mode": "immediate",
              "transition": {
               "duration": 0,
               "easing": "linear"
              }
             }
            ],
            "label": "2023-12",
            "method": "animate"
           },
           {
            "args": [
             [
              "2024-01"
             ],
             {
              "frame": {
               "duration": 0,
               "redraw": true
              },
              "fromcurrent": true,
              "mode": "immediate",
              "transition": {
               "duration": 0,
               "easing": "linear"
              }
             }
            ],
            "label": "2024-01",
            "method": "animate"
           },
           {
            "args": [
             [
              "2024-02"
             ],
             {
              "frame": {
               "duration": 0,
               "redraw": true
              },
              "fromcurrent": true,
              "mode": "immediate",
              "transition": {
               "duration": 0,
               "easing": "linear"
              }
             }
            ],
            "label": "2024-02",
            "method": "animate"
           },
           {
            "args": [
             [
              "2024-03"
             ],
             {
              "frame": {
               "duration": 0,
               "redraw": true
              },
              "fromcurrent": true,
              "mode": "immediate",
              "transition": {
               "duration": 0,
               "easing": "linear"
              }
             }
            ],
            "label": "2024-03",
            "method": "animate"
           },
           {
            "args": [
             [
              "2024-04"
             ],
             {
              "frame": {
               "duration": 0,
               "redraw": true
              },
              "fromcurrent": true,
              "mode": "immediate",
              "transition": {
               "duration": 0,
               "easing": "linear"
              }
             }
            ],
            "label": "2024-04",
            "method": "animate"
           },
           {
            "args": [
             [
              "2024-05"
             ],
             {
              "frame": {
               "duration": 0,
               "redraw": true
              },
              "fromcurrent": true,
              "mode": "immediate",
              "transition": {
               "duration": 0,
               "easing": "linear"
              }
             }
            ],
            "label": "2024-05",
            "method": "animate"
           },
           {
            "args": [
             [
              "2024-06"
             ],
             {
              "frame": {
               "duration": 0,
               "redraw": true
              },
              "fromcurrent": true,
              "mode": "immediate",
              "transition": {
               "duration": 0,
               "easing": "linear"
              }
             }
            ],
            "label": "2024-06",
            "method": "animate"
           },
           {
            "args": [
             [
              "2024-07"
             ],
             {
              "frame": {
               "duration": 0,
               "redraw": true
              },
              "fromcurrent": true,
              "mode": "immediate",
              "transition": {
               "duration": 0,
               "easing": "linear"
              }
             }
            ],
            "label": "2024-07",
            "method": "animate"
           },
           {
            "args": [
             [
              "2024-08"
             ],
             {
              "frame": {
               "duration": 0,
               "redraw": true
              },
              "fromcurrent": true,
              "mode": "immediate",
              "transition": {
               "duration": 0,
               "easing": "linear"
              }
             }
            ],
            "label": "2024-08",
            "method": "animate"
           },
           {
            "args": [
             [
              "2024-09"
             ],
             {
              "frame": {
               "duration": 0,
               "redraw": true
              },
              "fromcurrent": true,
              "mode": "immediate",
              "transition": {
               "duration": 0,
               "easing": "linear"
              }
             }
            ],
            "label": "2024-09",
            "method": "animate"
           },
           {
            "args": [
             [
              "2024-10"
             ],
             {
              "frame": {
               "duration": 0,
               "redraw": true
              },
              "fromcurrent": true,
              "mode": "immediate",
              "transition": {
               "duration": 0,
               "easing": "linear"
              }
             }
            ],
            "label": "2024-10",
            "method": "animate"
           },
           {
            "args": [
             [
              "2024-11"
             ],
             {
              "frame": {
               "duration": 0,
               "redraw": true
              },
              "fromcurrent": true,
              "mode": "immediate",
              "transition": {
               "duration": 0,
               "easing": "linear"
              }
             }
            ],
            "label": "2024-11",
            "method": "animate"
           },
           {
            "args": [
             [
              "2024-12"
             ],
             {
              "frame": {
               "duration": 0,
               "redraw": true
              },
              "fromcurrent": true,
              "mode": "immediate",
              "transition": {
               "duration": 0,
               "easing": "linear"
              }
             }
            ],
            "label": "2024-12",
            "method": "animate"
           },
           {
            "args": [
             [
              "2025-01"
             ],
             {
              "frame": {
               "duration": 0,
               "redraw": true
              },
              "fromcurrent": true,
              "mode": "immediate",
              "transition": {
               "duration": 0,
               "easing": "linear"
              }
             }
            ],
            "label": "2025-01",
            "method": "animate"
           },
           {
            "args": [
             [
              "2025-02"
             ],
             {
              "frame": {
               "duration": 0,
               "redraw": true
              },
              "fromcurrent": true,
              "mode": "immediate",
              "transition": {
               "duration": 0,
               "easing": "linear"
              }
             }
            ],
            "label": "2025-02",
            "method": "animate"
           },
           {
            "args": [
             [
              "2025-03"
             ],
             {
              "frame": {
               "duration": 0,
               "redraw": true
              },
              "fromcurrent": true,
              "mode": "immediate",
              "transition": {
               "duration": 0,
               "easing": "linear"
              }
             }
            ],
            "label": "2025-03",
            "method": "animate"
           },
           {
            "args": [
             [
              "2025-04"
             ],
             {
              "frame": {
               "duration": 0,
               "redraw": true
              },
              "fromcurrent": true,
              "mode": "immediate",
              "transition": {
               "duration": 0,
               "easing": "linear"
              }
             }
            ],
            "label": "2025-04",
            "method": "animate"
           },
           {
            "args": [
             [
              "2025-05"
             ],
             {
              "frame": {
               "duration": 0,
               "redraw": true
              },
              "fromcurrent": true,
              "mode": "immediate",
              "transition": {
               "duration": 0,
               "easing": "linear"
              }
             }
            ],
            "label": "2025-05",
            "method": "animate"
           },
           {
            "args": [
             [
              "2025-06"
             ],
             {
              "frame": {
               "duration": 0,
               "redraw": true
              },
              "fromcurrent": true,
              "mode": "immediate",
              "transition": {
               "duration": 0,
               "easing": "linear"
              }
             }
            ],
            "label": "2025-06",
            "method": "animate"
           }
          ],
          "x": 0.1,
          "xanchor": "left",
          "y": 0,
          "yanchor": "top"
         }
        ],
        "template": {
         "data": {
          "bar": [
           {
            "error_x": {
             "color": "#2a3f5f"
            },
            "error_y": {
             "color": "#2a3f5f"
            },
            "marker": {
             "line": {
              "color": "#E5ECF6",
              "width": 0.5
             },
             "pattern": {
              "fillmode": "overlay",
              "size": 10,
              "solidity": 0.2
             }
            },
            "type": "bar"
           }
          ],
          "barpolar": [
           {
            "marker": {
             "line": {
              "color": "#E5ECF6",
              "width": 0.5
             },
             "pattern": {
              "fillmode": "overlay",
              "size": 10,
              "solidity": 0.2
             }
            },
            "type": "barpolar"
           }
          ],
          "carpet": [
           {
            "aaxis": {
             "endlinecolor": "#2a3f5f",
             "gridcolor": "white",
             "linecolor": "white",
             "minorgridcolor": "white",
             "startlinecolor": "#2a3f5f"
            },
            "baxis": {
             "endlinecolor": "#2a3f5f",
             "gridcolor": "white",
             "linecolor": "white",
             "minorgridcolor": "white",
             "startlinecolor": "#2a3f5f"
            },
            "type": "carpet"
           }
          ],
          "choropleth": [
           {
            "colorbar": {
             "outlinewidth": 0,
             "ticks": ""
            },
            "type": "choropleth"
           }
          ],
          "contour": [
           {
            "colorbar": {
             "outlinewidth": 0,
             "ticks": ""
            },
            "colorscale": [
             [
              0,
              "#0d0887"
             ],
             [
              0.1111111111111111,
              "#46039f"
             ],
             [
              0.2222222222222222,
              "#7201a8"
             ],
             [
              0.3333333333333333,
              "#9c179e"
             ],
             [
              0.4444444444444444,
              "#bd3786"
             ],
             [
              0.5555555555555556,
              "#d8576b"
             ],
             [
              0.6666666666666666,
              "#ed7953"
             ],
             [
              0.7777777777777778,
              "#fb9f3a"
             ],
             [
              0.8888888888888888,
              "#fdca26"
             ],
             [
              1,
              "#f0f921"
             ]
            ],
            "type": "contour"
           }
          ],
          "contourcarpet": [
           {
            "colorbar": {
             "outlinewidth": 0,
             "ticks": ""
            },
            "type": "contourcarpet"
           }
          ],
          "heatmap": [
           {
            "colorbar": {
             "outlinewidth": 0,
             "ticks": ""
            },
            "colorscale": [
             [
              0,
              "#0d0887"
             ],
             [
              0.1111111111111111,
              "#46039f"
             ],
             [
              0.2222222222222222,
              "#7201a8"
             ],
             [
              0.3333333333333333,
              "#9c179e"
             ],
             [
              0.4444444444444444,
              "#bd3786"
             ],
             [
              0.5555555555555556,
              "#d8576b"
             ],
             [
              0.6666666666666666,
              "#ed7953"
             ],
             [
              0.7777777777777778,
              "#fb9f3a"
             ],
             [
              0.8888888888888888,
              "#fdca26"
             ],
             [
              1,
              "#f0f921"
             ]
            ],
            "type": "heatmap"
           }
          ],
          "histogram": [
           {
            "marker": {
             "pattern": {
              "fillmode": "overlay",
              "size": 10,
              "solidity": 0.2
             }
            },
            "type": "histogram"
           }
          ],
          "histogram2d": [
           {
            "colorbar": {
             "outlinewidth": 0,
             "ticks": ""
            },
            "colorscale": [
             [
              0,
              "#0d0887"
             ],
             [
              0.1111111111111111,
              "#46039f"
             ],
             [
              0.2222222222222222,
              "#7201a8"
             ],
             [
              0.3333333333333333,
              "#9c179e"
             ],
             [
              0.4444444444444444,
              "#bd3786"
             ],
             [
              0.5555555555555556,
              "#d8576b"
             ],
             [
              0.6666666666666666,
              "#ed7953"
             ],
             [
              0.7777777777777778,
              "#fb9f3a"
             ],
             [
              0.8888888888888888,
              "#fdca26"
             ],
             [
              1,
              "#f0f921"
             ]
            ],
            "type": "histogram2d"
           }
          ],
          "histogram2dcontour": [
           {
            "colorbar": {
             "outlinewidth": 0,
             "ticks": ""
            },
            "colorscale": [
             [
              0,
              "#0d0887"
             ],
             [
              0.1111111111111111,
              "#46039f"
             ],
             [
              0.2222222222222222,
              "#7201a8"
             ],
             [
              0.3333333333333333,
              "#9c179e"
             ],
             [
              0.4444444444444444,
              "#bd3786"
             ],
             [
              0.5555555555555556,
              "#d8576b"
             ],
             [
              0.6666666666666666,
              "#ed7953"
             ],
             [
              0.7777777777777778,
              "#fb9f3a"
             ],
             [
              0.8888888888888888,
              "#fdca26"
             ],
             [
              1,
              "#f0f921"
             ]
            ],
            "type": "histogram2dcontour"
           }
          ],
          "mesh3d": [
           {
            "colorbar": {
             "outlinewidth": 0,
             "ticks": ""
            },
            "type": "mesh3d"
           }
          ],
          "parcoords": [
           {
            "line": {
             "colorbar": {
              "outlinewidth": 0,
              "ticks": ""
             }
            },
            "type": "parcoords"
           }
          ],
          "pie": [
           {
            "automargin": true,
            "type": "pie"
           }
          ],
          "scatter": [
           {
            "fillpattern": {
             "fillmode": "overlay",
             "size": 10,
             "solidity": 0.2
            },
            "type": "scatter"
           }
          ],
          "scatter3d": [
           {
            "line": {
             "colorbar": {
              "outlinewidth": 0,
              "ticks": ""
             }
            },
            "marker": {
             "colorbar": {
              "outlinewidth": 0,
              "ticks": ""
             }
            },
            "type": "scatter3d"
           }
          ],
          "scattercarpet": [
           {
            "marker": {
             "colorbar": {
              "outlinewidth": 0,
              "ticks": ""
             }
            },
            "type": "scattercarpet"
           }
          ],
          "scattergeo": [
           {
            "marker": {
             "colorbar": {
              "outlinewidth": 0,
              "ticks": ""
             }
            },
            "type": "scattergeo"
           }
          ],
          "scattergl": [
           {
            "marker": {
             "colorbar": {
              "outlinewidth": 0,
              "ticks": ""
             }
            },
            "type": "scattergl"
           }
          ],
          "scattermap": [
           {
            "marker": {
             "colorbar": {
              "outlinewidth": 0,
              "ticks": ""
             }
            },
            "type": "scattermap"
           }
          ],
          "scattermapbox": [
           {
            "marker": {
             "colorbar": {
              "outlinewidth": 0,
              "ticks": ""
             }
            },
            "type": "scattermapbox"
           }
          ],
          "scatterpolar": [
           {
            "marker": {
             "colorbar": {
              "outlinewidth": 0,
              "ticks": ""
             }
            },
            "type": "scatterpolar"
           }
          ],
          "scatterpolargl": [
           {
            "marker": {
             "colorbar": {
              "outlinewidth": 0,
              "ticks": ""
             }
            },
            "type": "scatterpolargl"
           }
          ],
          "scatterternary": [
           {
            "marker": {
             "colorbar": {
              "outlinewidth": 0,
              "ticks": ""
             }
            },
            "type": "scatterternary"
           }
          ],
          "surface": [
           {
            "colorbar": {
             "outlinewidth": 0,
             "ticks": ""
            },
            "colorscale": [
             [
              0,
              "#0d0887"
             ],
             [
              0.1111111111111111,
              "#46039f"
             ],
             [
              0.2222222222222222,
              "#7201a8"
             ],
             [
              0.3333333333333333,
              "#9c179e"
             ],
             [
              0.4444444444444444,
              "#bd3786"
             ],
             [
              0.5555555555555556,
              "#d8576b"
             ],
             [
              0.6666666666666666,
              "#ed7953"
             ],
             [
              0.7777777777777778,
              "#fb9f3a"
             ],
             [
              0.8888888888888888,
              "#fdca26"
             ],
             [
              1,
              "#f0f921"
             ]
            ],
            "type": "surface"
           }
          ],
          "table": [
           {
            "cells": {
             "fill": {
              "color": "#EBF0F8"
             },
             "line": {
              "color": "white"
             }
            },
            "header": {
             "fill": {
              "color": "#C8D4E3"
             },
             "line": {
              "color": "white"
             }
            },
            "type": "table"
           }
          ]
         },
         "layout": {
          "annotationdefaults": {
           "arrowcolor": "#2a3f5f",
           "arrowhead": 0,
           "arrowwidth": 1
          },
          "autotypenumbers": "strict",
          "coloraxis": {
           "colorbar": {
            "outlinewidth": 0,
            "ticks": ""
           }
          },
          "colorscale": {
           "diverging": [
            [
             0,
             "#8e0152"
            ],
            [
             0.1,
             "#c51b7d"
            ],
            [
             0.2,
             "#de77ae"
            ],
            [
             0.3,
             "#f1b6da"
            ],
            [
             0.4,
             "#fde0ef"
            ],
            [
             0.5,
             "#f7f7f7"
            ],
            [
             0.6,
             "#e6f5d0"
            ],
            [
             0.7,
             "#b8e186"
            ],
            [
             0.8,
             "#7fbc41"
            ],
            [
             0.9,
             "#4d9221"
            ],
            [
             1,
             "#276419"
            ]
           ],
           "sequential": [
            [
             0,
             "#0d0887"
            ],
            [
             0.1111111111111111,
             "#46039f"
            ],
            [
             0.2222222222222222,
             "#7201a8"
            ],
            [
             0.3333333333333333,
             "#9c179e"
            ],
            [
             0.4444444444444444,
             "#bd3786"
            ],
            [
             0.5555555555555556,
             "#d8576b"
            ],
            [
             0.6666666666666666,
             "#ed7953"
            ],
            [
             0.7777777777777778,
             "#fb9f3a"
            ],
            [
             0.8888888888888888,
             "#fdca26"
            ],
            [
             1,
             "#f0f921"
            ]
           ],
           "sequentialminus": [
            [
             0,
             "#0d0887"
            ],
            [
             0.1111111111111111,
             "#46039f"
            ],
            [
             0.2222222222222222,
             "#7201a8"
            ],
            [
             0.3333333333333333,
             "#9c179e"
            ],
            [
             0.4444444444444444,
             "#bd3786"
            ],
            [
             0.5555555555555556,
             "#d8576b"
            ],
            [
             0.6666666666666666,
             "#ed7953"
            ],
            [
             0.7777777777777778,
             "#fb9f3a"
            ],
            [
             0.8888888888888888,
             "#fdca26"
            ],
            [
             1,
             "#f0f921"
            ]
           ]
          },
          "colorway": [
           "#636efa",
           "#EF553B",
           "#00cc96",
           "#ab63fa",
           "#FFA15A",
           "#19d3f3",
           "#FF6692",
           "#B6E880",
           "#FF97FF",
           "#FECB52"
          ],
          "font": {
           "color": "#2a3f5f"
          },
          "geo": {
           "bgcolor": "white",
           "lakecolor": "white",
           "landcolor": "#E5ECF6",
           "showlakes": true,
           "showland": true,
           "subunitcolor": "white"
          },
          "hoverlabel": {
           "align": "left"
          },
          "hovermode": "closest",
          "mapbox": {
           "style": "light"
          },
          "paper_bgcolor": "white",
          "plot_bgcolor": "#E5ECF6",
          "polar": {
           "angularaxis": {
            "gridcolor": "white",
            "linecolor": "white",
            "ticks": ""
           },
           "bgcolor": "#E5ECF6",
           "radialaxis": {
            "gridcolor": "white",
            "linecolor": "white",
            "ticks": ""
           }
          },
          "scene": {
           "xaxis": {
            "backgroundcolor": "#E5ECF6",
            "gridcolor": "white",
            "gridwidth": 2,
            "linecolor": "white",
            "showbackground": true,
            "ticks": "",
            "zerolinecolor": "white"
           },
           "yaxis": {
            "backgroundcolor": "#E5ECF6",
            "gridcolor": "white",
            "gridwidth": 2,
            "linecolor": "white",
            "showbackground": true,
            "ticks": "",
            "zerolinecolor": "white"
           },
           "zaxis": {
            "backgroundcolor": "#E5ECF6",
            "gridcolor": "white",
            "gridwidth": 2,
            "linecolor": "white",
            "showbackground": true,
            "ticks": "",
            "zerolinecolor": "white"
           }
          },
          "shapedefaults": {
           "line": {
            "color": "#2a3f5f"
           }
          },
          "ternary": {
           "aaxis": {
            "gridcolor": "white",
            "linecolor": "white",
            "ticks": ""
           },
           "baxis": {
            "gridcolor": "white",
            "linecolor": "white",
            "ticks": ""
           },
           "bgcolor": "#E5ECF6",
           "caxis": {
            "gridcolor": "white",
            "linecolor": "white",
            "ticks": ""
           }
          },
          "title": {
           "x": 0.05
          },
          "xaxis": {
           "automargin": true,
           "gridcolor": "white",
           "linecolor": "white",
           "ticks": "",
           "title": {
            "standoff": 15
           },
           "zerolinecolor": "white",
           "zerolinewidth": 2
          },
          "yaxis": {
           "automargin": true,
           "gridcolor": "white",
           "linecolor": "white",
           "ticks": "",
           "title": {
            "standoff": 15
           },
           "zerolinecolor": "white",
           "zerolinewidth": 2
          }
         }
        },
        "title": {
         "text": "Cumulative Natural Gas Counts in DC by Process Type (2010–2025)"
        },
        "updatemenus": [
         {
          "buttons": [
           {
            "args": [
             null,
             {
              "frame": {
               "duration": 500,
               "redraw": true
              },
              "fromcurrent": true,
              "mode": "immediate",
              "transition": {
               "duration": 500,
               "easing": "linear"
              }
             }
            ],
            "label": "&#9654;",
            "method": "animate"
           },
           {
            "args": [
             [
              null
             ],
             {
              "frame": {
               "duration": 0,
               "redraw": true
              },
              "fromcurrent": true,
              "mode": "immediate",
              "transition": {
               "duration": 0,
               "easing": "linear"
              }
             }
            ],
            "label": "&#9724;",
            "method": "animate"
           }
          ],
          "direction": "left",
          "pad": {
           "r": 10,
           "t": 70
          },
          "showactive": false,
          "type": "buttons",
          "x": 0.1,
          "xanchor": "right",
          "y": 0,
          "yanchor": "top"
         }
        ],
        "width": 1400,
        "xaxis": {
         "anchor": "y",
         "categoryarray": [
          "Commercial Consumption",
          "Delivered to Consumers",
          "Industrial Consumption",
          "Residential Consumption",
          "Vehicle Fuel Consumption",
          "Electric Power Consumption"
         ],
         "categoryorder": "array",
         "domain": [
          0,
          1
         ],
         "title": {
          "text": "Process Type"
         }
        },
        "yaxis": {
         "anchor": "x",
         "domain": [
          0,
          1
         ],
         "range": [
          0,
          197
         ],
         "title": {
          "text": "Cumulative Count"
         }
        }
       }
      }
     },
     "metadata": {},
     "output_type": "display_data"
    }
   ],
   "source": [
    "# actual applicaiton this is sorting the dataframe by the acutal month and year and not by state yet!!!!\n",
    "## extract year\n",
    "dfnew['year'] = dfnew['period'].dt.year\n",
    "# extracting month\n",
    "dfnew['month'] = dfnew['period'].dt.month\n",
    "\n",
    "# Filter to the date range (2023-01 to 2025-06)\n",
    "mask = (dfnew['period'] >= \"2010-01-01\") & (dfnew['period'] <= \"2025-06-30\")\n",
    "df_filtered = dfnew.loc[mask].sort_values(['area-name', 'period'])\n",
    "\n",
    "print(df_filtered.head())\n",
    "df_filtered.info()\n",
    "display(df_filtered.isnull().sum())\n",
    "\n",
    "\n",
    "# seperating the null values to visualize whats happening!\n",
    "missingrows = df_filtered[df_filtered['value'].isnull()]\n",
    "non_missingrows = df_filtered[df_filtered['value'].notnull()]\n",
    "\n",
    "display(f'total missing values', {missingrows.shape[0]})\n",
    "\n",
    "# summarizing. by month\n",
    "missing_bymonth = (\n",
    "    missingrows.groupby(missingrows['period'].dt.to_period(\"M\"))['value'] #df_nulls['period'].dt.to_period(\"M\") Converts each datetime into a monthly period.\n",
    "    .size()\n",
    "    .reset_index(name='missing_count')\n",
    ")\n",
    "\n",
    "# period is currently an onject such as (period(\"2012-05\"), (\"M\")) what we are doing is converting the period into a timestamp which makes it better for plotting\n",
    "#\n",
    "missing_bymonth['period'] = missing_bymonth['period'].dt.to_timestamp()\n",
    "\n",
    "print(missing_bymonth['period'].dtype)\n",
    "print(missing_bymonth['missing_count'].dtype)\n",
    "print(missing_bymonth.tail(100))\n",
    "print(missing_bymonth.info())\n",
    "\n",
    "# Group by state and month, counting missing rows\n",
    "pivot_missing = (\n",
    "    missingrows.groupby(['area-name', missingrows['period'].dt.to_period(\"Y\")])\n",
    "    .size()  # counts all missing rows in each group\n",
    "    .unstack(fill_value=0)  # fills months with 0 if no missing values\n",
    ")\n",
    "\n",
    "# Convert period to datetime for plotting\n",
    "pivot_missing.columns = pivot_missing.columns.to_timestamp()\n",
    "\n",
    "# Sort states alphabetically or by total missing values\n",
    "pivot_missing = pivot_missing.sort_index()  # alphabetical by state\n",
    "\n",
    "import plotly.express as px\n",
    "\n",
    "fig = px.imshow(\n",
    "    pivot_missing,\n",
    "    labels=dict(x=\"Year\", y=\"State\", color=\"Missing Count\"),\n",
    "    x=pivot_missing.columns,\n",
    "    y=pivot_missing.index,   # explicit y-axis labels\n",
    "    color_continuous_scale=\"Reds\",\n",
    "    text_auto=True\n",
    ")\n",
    "\n",
    "fig.update_xaxes(side=\"top\")  # optional: move x-axis to top\n",
    "fig.update_yaxes(tickmode='linear')  # ensures all states are labeled\n",
    "fig.update_layout(\n",
    "    title=\"Missing Natural Gas Values by State and Year\",\n",
    "    autosize=False,\n",
    "    width=1400,   # wider figure\n",
    "    height=1200,  # taller figure\n",
    ")\n",
    "fig.show()\n",
    "\n",
    "\n",
    "import plotly.express as px\n",
    "\n",
    "# Select top states (e.g., DC + 4 others)\n",
    "top_states = pivot_missing.sum(axis=1).sort_values(ascending=False).head(5).index\n",
    "pivot_top = pivot_missing.loc[top_states]\n",
    "\n",
    "# Convert to long format for Plotly line plot\n",
    "pivot_long = pivot_top.reset_index().melt(id_vars='area-name', var_name='year', value_name='missing_count')\n",
    "\n",
    "fig = px.line(\n",
    "    pivot_long,\n",
    "    x='year',\n",
    "    y='missing_count',\n",
    "    color='area-name',\n",
    "    markers=True,\n",
    "    title='Missing Natural Gas Values Trend for Top States (Yearly)',\n",
    "    labels={'year':'Year', 'missing_count':'Missing Count', 'area-name':'State'}\n",
    ")\n",
    "fig.show()\n",
    "\n",
    "\n",
    "# investigating further what type of nautral gas dc is missing values forn\n",
    "missingdc = missingrows[missingrows['area-name'] == \"USA-DC\"]\n",
    "non_missingrows = non_missingrows[non_missingrows['area-name'] == 'USA-DC']\n",
    "\n",
    "# Filter non-missing rows to DC\n",
    "observed_dc = non_missingrows[non_missingrows['area-name'] == \"USA-DC\"].copy()\n",
    "\n",
    "# Convert period to month periods for animation\n",
    "observed_dc['month_period'] = observed_dc['period'].dt.to_period('M').dt.to_timestamp()\n",
    "# just for dc\n",
    "animated_dc = (\n",
    "    observed_dc.groupby(['month_period', 'process-name'])\n",
    "    .size()\n",
    "    .reset_index(name='count')  # observed counts\n",
    ")\n",
    "\n",
    "missinggastyp = missingdc.groupby(['product', 'product-name', 'process', 'process-name', 'series', 'series-description']).size().reset_index(name='missing_count')\n",
    "non_missinggastyp = non_missingrows.groupby(['product', 'product-name', 'process', 'process-name', 'series', 'series-description']).size().reset_index(name='non_missing_count')\n",
    "\n",
    "# sort by descending missing count\n",
    "missinggastyp= missinggastyp.sort_values('missing_count', ascending=False)\n",
    "missinggastyp.head(20)\n",
    "\n",
    "#sorting by descending missing coutn\n",
    "non_missinggastyp = non_missinggastyp.sort_values('non_missing_count', ascending=False)\n",
    "non_missinggastyp.head(20)\n",
    "\n",
    "\n",
    "# 1️⃣ Filter DC non-missing data\n",
    "observed_dc = non_missingrows[non_missingrows['area-name'] == \"USA-DC\"].copy()\n",
    "observed_dc['month_period'] = observed_dc['period'].dt.to_period('M').dt.to_timestamp()\n",
    "\n",
    "# 2️⃣ Group by month and process\n",
    "monthly_counts = (\n",
    "    observed_dc.groupby(['month_period', 'process-name'])\n",
    "    .size()\n",
    "    .reset_index(name='count')\n",
    ")\n",
    "\n",
    "# 3️⃣ Create a complete timeline of months\n",
    "all_months = pd.date_range(start='2010-01-01', end='2025-06-01', freq='MS')\n",
    "all_processes = monthly_counts['process-name'].unique()\n",
    "full_index = pd.MultiIndex.from_product([all_months, all_processes], names=['month_period', 'process-name'])\n",
    "\n",
    "# 4️⃣ Reindex to include all months/processes, fill missing counts with 0\n",
    "monthly_counts = monthly_counts.set_index(['month_period', 'process-name']).reindex(full_index, fill_value=0).reset_index()\n",
    "\n",
    "# 5️⃣ Compute cumulative counts per process\n",
    "monthly_counts['cumulative_count'] = monthly_counts.groupby('process-name')['count'].cumsum()\n",
    "\n",
    "# 6️⃣ Create string version for animation frame\n",
    "monthly_counts['month_period_str'] = monthly_counts['month_period'].dt.strftime('%Y-%m')\n",
    "\n",
    "\n",
    "import plotly.express as px\n",
    "\n",
    "fig = px.bar(\n",
    "    monthly_counts,\n",
    "    x='process-name',\n",
    "    y='cumulative_count',\n",
    "    color='process-name',\n",
    "    animation_frame='month_period_str',\n",
    "    range_y=[0, monthly_counts['cumulative_count'].max() + 10],\n",
    "    title='Cumulative Natural Gas Counts in DC by Process Type (2010–2025)',\n",
    "    labels={'cumulative_count':'Cumulative Count', 'process-name':'Process Type'}\n",
    ")\n",
    "\n",
    "fig.update_layout(width=1400, height=800)\n",
    "fig.show()\n",
    "\n",
    "\n"
   ]
  },
  {
   "cell_type": "code",
   "execution_count": null,
   "id": "15c82e8c",
   "metadata": {},
   "outputs": [],
   "source": [
    "monthly_statenew = (\n",
    "    dfnew.groupby(['area-name', 'period', 'product', 'product-name', \n",
    "                'process', 'process-name', 'series', 'series-description', 'units'])['value']\n",
    "      .sum()\n",
    "      .reset_index()\n",
    "      .sort_values(['area-name', 'period'])\n",
    ")\n",
    "\n",
    "print(monthly_statenew.info())\n",
    "\n",
    "\n",
    "print(monthly_statenew.isnull().sum())\n"
   ]
  },
  {
   "cell_type": "code",
   "execution_count": null,
   "id": "c234c52f",
   "metadata": {},
   "outputs": [],
   "source": [
    "#new data frame with sorting by state\n",
    "\n",
    "df_state_sorted = df.sort_values(['area-name', 'period'])\n",
    "# display(df_state_sorted.head(25))\n",
    "rows_per_year = df.groupby(df['period'].dt.year)['value'].count()\n",
    "# print(rows_per_year)\n",
    "\n",
    "df_sorted_new = df.sort_values(['period', 'area-name'])\n",
    "display(df_sorted_new.tail(50))\n",
    "\n",
    "unite = df_sorted_new['area-name'].unique()\n",
    "unite.sort()\n",
    "display(unite)\n",
    "\n",
    "\n",
    "\n",
    "\n",
    "\n"
   ]
  },
  {
   "cell_type": "code",
   "execution_count": null,
   "id": "9011eb63",
   "metadata": {},
   "outputs": [],
   "source": [
    "# seperating the different states by region N,E,W,S\n",
    "\n",
    "regions = {\n",
    "    \"North East\": ['USA-CT','USA-ME','MASSACHUSETTS','USA-NH', 'USA-RI','USA-VT','NEW YORK','USA-PA',\"USA-NJ\"],\n",
    "    \"Midwest\" :   ['USA-IL','USA-IN','USA-MI','OHIO','USA-WI','USA-IA','USA-KS','MINNESOTA','USA-MO','USA-NE','USA-ND','USA-SD'],\n",
    "    \"South\" :     ['USA-DE','FLORIDA','USA-GA','USA-MD','USA-NC','USA-SC','USA-VA','USA-DC','USA-WV','USA-AL','USA-KY','USA-MS','USA-TN','USA-AR','USA-LA','USA-OK','TEXAS'],\n",
    "    \"West\" :      ['USA-AZ','COLORADO','USA-ID','USA-MT','USA-NV','USA-NM','USA-UT','USA-WY','USA-AK','CALIFORNIA','USA-HI','USA-OR','WASHINGTON'],\n",
    "    \"Nationwide\" : ['U.S.'] \n",
    "}\n",
    "\n",
    "#defining as function that adds a new column \"region\" by state\n",
    "\n",
    "#def get_region(state):   # whats happening here is that we give this function a single state e.g., \"california\" it loops through every (region,state) until it finds the region related to this state\n",
    "#    for region, states in regions.items():\n",
    "#        if state in states: # givesmme O(S) time complexity, how can we improve? \n",
    "#           return region\n",
    "#    return \"Unknown\"\n",
    "\n",
    "#df_sorted_new[\"region\"] = df_sorted_new[\"area-name\"].apply(get_region)\n",
    "\n",
    "# sort of tweaking the algorithm!\n",
    "# Convert values in regions dict into sets\n",
    "#regions_opt = {region: set(states) for region, states in regions.items()}\n",
    "\n",
    "#def get_region_fast(state):\n",
    "#    for region, states in regions_opt.items(): # membership becomes 1\n",
    "#        if state in states:\n",
    "#            return region\n",
    "#    return \"Unknown\"\n",
    "\n",
    "# df_sorted_new[\"region_fast\"] = df_sorted_new[\"area-name\"].apply(get_region_fast)\n",
    "\n",
    "# a mapping approach (vectorizing the df)\n",
    "state_to_region = {state: region for region, states in regions.items() for state in states}\n",
    "df_sorted_new[\"region_map\"] = df_sorted_new[\"area-name\"].map(state_to_region).fillna(\"Unknown\")\n",
    "\n",
    "# merging with the refernce dataframe!\n",
    "# sql0style approach!\n",
    "#region_df = pd.DataFrame(\n",
    "#    [(state, region) for region, states in regions.items() for state in states],\n",
    "#    columns=[\"area-name\", \"region\"]\n",
    "#)\n",
    "\n",
    "# df_sorted_new = df_sorted_new.merge(region_df, on=\"area-name\", how=\"left\")\n",
    "#df_sorted_new[\"region\"].fillna(\"Unknown\", inplace=True)\n",
    "\n",
    "# Example: bar plot of rows per region\n",
    "import matplotlib.pyplot as plt\n",
    "\n",
    "df_sorted_new[\"region_map\"].value_counts().plot(kind=\"bar\", color=\"skyblue\")\n",
    "plt.ylabel(\"Number of Rows\")\n",
    "plt.title(\"Number of Rows by Region\")\n",
    "plt.show()\n",
    "\n",
    "# If using the map + dictionary approach TO CHECK IF ALL STATES ARE IN THERE RESPECTIVE REGIONS\n",
    "unknown_states = df_sorted_new[df_sorted_new['region_map'].isna() | \n",
    "                               (df_sorted_new['region_map'] == \"Unknown\")]\n",
    "\n",
    "print(unknown_states[['area-name', 'region_map']])\n",
    "df_sorted_new.info()"
   ]
  },
  {
   "cell_type": "code",
   "execution_count": null,
   "id": "eb074121",
   "metadata": {},
   "outputs": [],
   "source": [
    "import timeit\n",
    "\n",
    "# Original apply function\n",
    "# t1 = timeit.timeit(lambda: df_sorted_new[\"area-name\"].apply(get_region), number=10)\n",
    "\n",
    "# Optimized apply with sets\n",
    "# t2 = timeit.timeit(lambda: df_sorted_new[\"area-name\"].apply(get_region_fast), number=10)\n",
    "\n",
    "# Map + dictionary\n",
    "t3 = timeit.timeit(lambda: df_sorted_new[\"area-name\"].map(state_to_region).fillna(\"Unknown\"), number=10)\n",
    "\n",
    "#print(f\"Apply + list lookup: {t1:.4f} sec\")\n",
    "#print(f\"Apply + set lookup: {t2:.4f} sec\")\n",
    "print(f\"Map + dictionary:   {t3:.4f} sec\")\n",
    "\n",
    "\n",
    "import matplotlib.pyplot as plt\n",
    "\n",
    "#methods = [\"Apply+List\", \"Apply+Set\", \"Map+Dict\"]\n",
    "#times = [t1, t2, t3]  # from your timeit runs\n",
    "\n",
    "#plt.bar(methods, times)\n",
    "#plt.ylabel(\"Execution Time (sec, lower is better)\")\n",
    "#plt.title(\"Categorization Performance by Method\")\n",
    "#plt.show()\n"
   ]
  },
  {
   "cell_type": "code",
   "execution_count": null,
   "id": "6017480d",
   "metadata": {},
   "outputs": [],
   "source": [
    "import pandas as pd\n",
    "\n",
    "# Example sizes\n",
    "dataset_sizes = [1000, 5000, 10000, 50000,100000]  # number of rows\n",
    "\n",
    "# List to store smaller or larger DataFrames\n",
    "dfs_scaled = []\n",
    "\n",
    "for n in dataset_sizes:\n",
    "    if n <= len(df_sorted_new):\n",
    "        # Sample n rows if smaller than base\n",
    "        dfs_scaled.append(df_sorted_new.sample(n, replace=False).reset_index(drop=True))\n",
    "    else:\n",
    "        # Repeat rows if n > len(base df) to simulate larger datasets\n",
    "        repeats = n // len(df_sorted_new) + 1\n",
    "        df_large = pd.concat([df_sorted_new] * repeats, ignore_index=True)\n",
    "        dfs_scaled.append(df_large.head(n))\n",
    "\n",
    "import timeit\n",
    "\n",
    "# Lists to store execution times\n",
    "apply_list_times = []\n",
    "apply_set_times = []\n",
    "map_dict_times = []\n",
    "\n",
    "# Prepare optimized set and dict\n",
    "regions_set = {region: set(states) for region, states in regions.items()}\n",
    "state_to_region = {state: region for region, states in regions.items() for state in states}\n",
    "\n",
    "#for df_temp in dfs_scaled:\n",
    "    # Apply + List\n",
    "    #t1 = timeit.timeit(lambda: df_temp[\"area-name\"].apply(get_region), number=1)\n",
    "   # apply_list_times.append(t1)\n",
    "    \n",
    "    # Apply + Set\n",
    "    #t2 = timeit.timeit(lambda: df_temp[\"area-name\"].apply(lambda x: next((r for r,s in regions_set.items() if x in s), \"Unknown\")), number=1)\n",
    "    #apply_set_times.append(t2)\n",
    "    \n",
    "    # Map + Dict\n",
    "    #t3 = timeit.timeit(lambda: df_temp[\"area-name\"].map(state_to_region).fillna(\"Unknown\"), number=1)\n",
    "    #map_dict_times.append(t3)\n",
    "\n",
    "\n",
    "import matplotlib.pyplot as plt\n",
    "\n",
    "#plt.plot(dataset_sizes, apply_list_times, marker='o', label='Apply + List')\n",
    "#plt.plot(dataset_sizes, apply_set_times, marker='s', label='Apply + Set')\n",
    "#plt.plot(dataset_sizes, map_dict_times, marker='^', label='Map + Dict')\n",
    "#plt.xlabel('Dataset Size (number of rows)')\n",
    "#plt.ylabel('Execution Time (seconds)')\n",
    "#plt.title('Categorization Algorithm Performance Scaling')\n",
    "#plt.legend()\n",
    "#plt.grid(True)\n",
    "#plt.show()\n"
   ]
  },
  {
   "cell_type": "markdown",
   "id": "48e11554",
   "metadata": {},
   "source": [
    "Creating the Interactive Display!"
   ]
  },
  {
   "cell_type": "code",
   "execution_count": null,
   "id": "a55aa81b",
   "metadata": {},
   "outputs": [],
   "source": [
    "# importing the necessary libraries to build the dashboard\n",
    "from dash import Dash, html, dash_table, dcc\n",
    "import plotly.express as px\n",
    "\n",
    "# exmaple app layout or at least one piece!\n",
    "# app.layout = [html.Div(children='Hello World')]\n",
    "# children is often used as represents the app components, probably used for text content beind displayed onto the webpage.\n",
    "\n",
    "df = df_sorted_new.copy()\n",
    "\n",
    "# initilizing the app\n",
    "app = Dash(__name__)  # dash constructor! (responsible for initializing the app)\n",
    "\n",
    "# basic app layout\n",
    "app.layout = [\n",
    "    html.Div(children=\"My First Interactive MAPP\"),\n",
    "    dash_table.DataTable(data=df.to_dict('records'), page_size=10),\n",
    "    dcc.Graph(figure=px.histogram(df, x = 'region_map', y = 'value', histfunc='avg'))\n",
    "]\n",
    "\n",
    "# running the app\n",
    "if __name__ == '__main__':\n",
    "    app.run(debug=True)\n",
    "\n",
    " "
   ]
  },
  {
   "cell_type": "code",
   "execution_count": null,
   "id": "b75d0299",
   "metadata": {},
   "outputs": [],
   "source": [
    "from dash import Dash, html, dash_table, dcc, Input, Output\n",
    "import plotly.express as px\n",
    "import pandas as pd\n",
    "\n",
    "# Example data (replace with your df_sorted_new)\n",
    "# Must contain: ['month', 'state', 'region_map', 'gas_type', 'value']\n",
    "df = df_sorted_new.copy()\n",
    "# Make sure you have this before the layout\n",
    "df['month'] = df['period'].dt.to_period('M')  # YYYY-MM period\n",
    "unique_months = df['month'].drop_duplicates().sort_values()\n",
    "\n",
    "\n",
    "# Initialize the app\n",
    "app = Dash(__name__)\n",
    "\n",
    "# Layout\n",
    "app.layout = html.Div([\n",
    "    html.H2(\"US Natural Gas Consumption Dashboard\"),\n",
    "    \n",
    "\n",
    "  \n",
    "# Then in your layout:\n",
    "html.Div([\n",
    "    html.Label(\"Select Month:\"),\n",
    "    dcc.Dropdown(\n",
    "        id=\"month-filter\",\n",
    "        options=[\n",
    "            {\"label\": m.strftime('%b %Y'), \"value\": str(m)} \n",
    "            for m in unique_months\n",
    "        ],\n",
    "        value=str(unique_months.iloc[0]),  # default first month\n",
    "        clearable=False\n",
    "    ),\n",
    "], style={\"width\": \"30%\", \"display\": \"inline-block\", \"padding\": \"10px\"}),\n",
    "\n",
    "\n",
    "    html.Div([\n",
    "        html.Label(\"Select State:\"),\n",
    "        dcc.Dropdown(\n",
    "            id=\"area-filter\",\n",
    "            options=[{\"label\": s, \"value\": s} for s in sorted(df[\"area-name\"].unique())],\n",
    "            value=None,  # default = all states\n",
    "            multi=True,  # allow multiple states\n",
    "            placeholder=\"Choose state(s)\"\n",
    "        ),\n",
    "    ], style={\"width\": \"30%\", \"display\": \"inline-block\", \"padding\": \"10px\"}),\n",
    "\n",
    "    html.Div([\n",
    "        html.Label(\"Select Gas Type:\"),\n",
    "        dcc.RadioItems(\n",
    "            id=\"process-filter\",\n",
    "            options=[{\"label\": g, \"value\": g} for g in sorted(df[\"process\"].unique())],\n",
    "            value=sorted(df[\"process\"].unique())[0],\n",
    "            inline=True\n",
    "        ),\n",
    "    ], style={\"padding\": \"10px\"}),\n",
    "\n",
    "    html.Hr(),\n",
    "\n",
    "    # Table + Graph\n",
    "    dash_table.DataTable(\n",
    "        id=\"data-table\",\n",
    "        page_size=10,\n",
    "        style_table={\"overflowX\": \"auto\"},\n",
    "        style_cell={\"textAlign\": \"left\"}\n",
    "    ),\n",
    "\n",
    "    dcc.Graph(id=\"region-trend\"),\n",
    "\n",
    "    dcc.Graph(id=\"nationwide-trend\")\n",
    "])\n",
    "from pandas import Period\n",
    "\n",
    "# Callbacks\n",
    "@app.callback(\n",
    "    [Output(\"data-table\", \"data\"),\n",
    "     Output(\"region-trend\", \"figure\"),\n",
    "     Output(\"nationwide-trend\", \"figure\")],\n",
    "    [Input(\"month-filter\", \"value\"),\n",
    "     Input(\"area-filter\", \"value\"),\n",
    "     Input(\"process-filter\", \"value\")]\n",
    ")\n",
    "def update_dashboard(month_str, area_name, process):\n",
    "    #converting month string from dropdown back to period.\n",
    "    month_period = Period(month_str, freq = 'M')\n",
    "\n",
    "    \n",
    "    \n",
    "    # Filter by month + gas type\n",
    "    dff = df[(df[\"month\"] == month_period) & (df[\"process\"] == process)]\n",
    "  # Filter by state if selected\n",
    "    if area_name:\n",
    "        dff = dff[dff[\"area-name\"].isin(area_name)]\n",
    " \n",
    "\n",
    "    # Table data\n",
    "    table_data = dff.to_dict(\"records\")\n",
    "    \n",
    "    \n",
    "    month_label = month_period.strftime(\"%b %Y\")\n",
    "\n",
    "    # Regional consumption bar chart\n",
    "    fig_region = px.bar(\n",
    "        dff, x=\"region_map\", y=\"value\",\n",
    "        color=\"region_map\",\n",
    "        title=f\"Regional Avg Consumption - {month_label} ({process})\",\n",
    "        labels={\"value\": \"Consumption\"}\n",
    "    )\n",
    "\n",
    " # Nationwide line chart\n",
    "    df_nation = df[df[\"process\"] == process].groupby(\"month\")[\"value\"].sum().reset_index()\n",
    "    df_nation['month_label'] = df_nation['month'].dt.strftime(\"%b %Y\")  # convert Periods to strings\n",
    "    fig_nation = px.line(\n",
    "        df_nation, x=\"month_label\", y=\"value\",\n",
    "        title=f\"Nationwide Monthly Consumption Trend ({process})\",\n",
    "        markers=True\n",
    "    )\n",
    "\n",
    "    return table_data, fig_region, fig_nation\n",
    "\n",
    "\n",
    "if __name__ == \"__main__\":\n",
    "    app.run(debug=True)\n"
   ]
  }
 ],
 "metadata": {
  "kernelspec": {
   "display_name": "Python 3",
   "language": "python",
   "name": "python3"
  },
  "language_info": {
   "codemirror_mode": {
    "name": "ipython",
    "version": 3
   },
   "file_extension": ".py",
   "mimetype": "text/x-python",
   "name": "python",
   "nbconvert_exporter": "python",
   "pygments_lexer": "ipython3",
   "version": "3.9.6"
  }
 },
 "nbformat": 4,
 "nbformat_minor": 5
}
